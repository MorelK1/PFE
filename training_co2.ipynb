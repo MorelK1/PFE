{
 "cells": [
  {
   "cell_type": "code",
   "execution_count": 1,
   "metadata": {},
   "outputs": [],
   "source": [
    "from IPython.core.interactiveshell import InteractiveShell\n",
    "InteractiveShell.ast_node_interactivity='all'"
   ]
  },
  {
   "cell_type": "code",
   "execution_count": 2,
   "metadata": {},
   "outputs": [],
   "source": [
    "import pandas as pd\n",
    "import numpy as np\n",
    "import matplotlib.pyplot as plt\n",
    "import seaborn as sns\n",
    "from sklearn.preprocessing import PowerTransformer"
   ]
  },
  {
   "cell_type": "code",
   "execution_count": 3,
   "metadata": {},
   "outputs": [],
   "source": [
    "reference = pd.read_csv(\"reference_without_add.csv\") \n",
    "# reference values\n",
    "reference_values = reference.iloc[0]\n",
    "travel_reference = reference_values[\"TravelTime\"]\n",
    "fuel_reference = reference_values[\"FuelConsumption\"]\n",
    "co2_reference = reference_values[\"CO2Emission\"]  "
   ]
  },
  {
   "cell_type": "code",
   "execution_count": 4,
   "metadata": {},
   "outputs": [
    {
     "data": {
      "text/plain": [
       "157245.92011548087"
      ]
     },
     "execution_count": 4,
     "metadata": {},
     "output_type": "execute_result"
    }
   ],
   "source": [
    "fuel_reference\n"
   ]
  },
  {
   "cell_type": "markdown",
   "metadata": {},
   "source": [
    "#### Les donnees"
   ]
  },
  {
   "cell_type": "code",
   "execution_count": 5,
   "metadata": {},
   "outputs": [
    {
     "data": {
      "text/plain": [
       "6197"
      ]
     },
     "execution_count": 5,
     "metadata": {},
     "output_type": "execute_result"
    },
    {
     "data": {
      "text/html": [
       "<div>\n",
       "<style scoped>\n",
       "    .dataframe tbody tr th:only-of-type {\n",
       "        vertical-align: middle;\n",
       "    }\n",
       "\n",
       "    .dataframe tbody tr th {\n",
       "        vertical-align: top;\n",
       "    }\n",
       "\n",
       "    .dataframe thead th {\n",
       "        text-align: right;\n",
       "    }\n",
       "</style>\n",
       "<table border=\"1\" class=\"dataframe\">\n",
       "  <thead>\n",
       "    <tr style=\"text-align: right;\">\n",
       "      <th></th>\n",
       "      <th>StartTime</th>\n",
       "      <th>VehicleID</th>\n",
       "      <th>X</th>\n",
       "      <th>Y</th>\n",
       "      <th>Longitude</th>\n",
       "      <th>Latitude</th>\n",
       "      <th>Speed</th>\n",
       "      <th>Acceleration</th>\n",
       "      <th>FuelConsumption</th>\n",
       "      <th>CO2Emission</th>\n",
       "      <th>...</th>\n",
       "      <th>ActionDuration</th>\n",
       "      <th>LaneMaxSpeed</th>\n",
       "      <th>Neighbors</th>\n",
       "      <th>AllowedSpeed</th>\n",
       "      <th>VehicleAdded</th>\n",
       "      <th>VehicleAddedAhead</th>\n",
       "      <th>VehicleAddedBehind</th>\n",
       "      <th>ActionVehicleAhead</th>\n",
       "      <th>ActionVehicleBehind</th>\n",
       "      <th>EndTime</th>\n",
       "    </tr>\n",
       "  </thead>\n",
       "  <tbody>\n",
       "    <tr>\n",
       "      <th>0</th>\n",
       "      <td>53</td>\n",
       "      <td>veh1</td>\n",
       "      <td>520.928043</td>\n",
       "      <td>780.584754</td>\n",
       "      <td>1.467963</td>\n",
       "      <td>43.566866</td>\n",
       "      <td>7.147393</td>\n",
       "      <td>-0.652833</td>\n",
       "      <td>215240.520454</td>\n",
       "      <td>6.748431e+05</td>\n",
       "      <td>...</td>\n",
       "      <td>11</td>\n",
       "      <td>16.66</td>\n",
       "      <td>1</td>\n",
       "      <td>15.632078</td>\n",
       "      <td>0</td>\n",
       "      <td>0</td>\n",
       "      <td>0</td>\n",
       "      <td>1</td>\n",
       "      <td>0</td>\n",
       "      <td>64</td>\n",
       "    </tr>\n",
       "    <tr>\n",
       "      <th>2</th>\n",
       "      <td>21</td>\n",
       "      <td>veh1</td>\n",
       "      <td>576.541784</td>\n",
       "      <td>540.492539</td>\n",
       "      <td>1.468706</td>\n",
       "      <td>43.564714</td>\n",
       "      <td>12.199157</td>\n",
       "      <td>1.695573</td>\n",
       "      <td>165096.530098</td>\n",
       "      <td>5.176240e+05</td>\n",
       "      <td>...</td>\n",
       "      <td>6</td>\n",
       "      <td>27.78</td>\n",
       "      <td>5</td>\n",
       "      <td>18.766000</td>\n",
       "      <td>8</td>\n",
       "      <td>3</td>\n",
       "      <td>5</td>\n",
       "      <td>3</td>\n",
       "      <td>0</td>\n",
       "      <td>27</td>\n",
       "    </tr>\n",
       "    <tr>\n",
       "      <th>3</th>\n",
       "      <td>18</td>\n",
       "      <td>veh1</td>\n",
       "      <td>522.853482</td>\n",
       "      <td>490.318745</td>\n",
       "      <td>1.468053</td>\n",
       "      <td>43.564254</td>\n",
       "      <td>5.750539</td>\n",
       "      <td>5.750539</td>\n",
       "      <td>352586.718795</td>\n",
       "      <td>1.105398e+06</td>\n",
       "      <td>...</td>\n",
       "      <td>14</td>\n",
       "      <td>27.78</td>\n",
       "      <td>2</td>\n",
       "      <td>18.766000</td>\n",
       "      <td>12</td>\n",
       "      <td>4</td>\n",
       "      <td>8</td>\n",
       "      <td>3</td>\n",
       "      <td>1</td>\n",
       "      <td>32</td>\n",
       "    </tr>\n",
       "    <tr>\n",
       "      <th>4</th>\n",
       "      <td>19</td>\n",
       "      <td>veh1</td>\n",
       "      <td>539.261338</td>\n",
       "      <td>513.304129</td>\n",
       "      <td>1.468251</td>\n",
       "      <td>43.564464</td>\n",
       "      <td>10.359101</td>\n",
       "      <td>-3.919571</td>\n",
       "      <td>169005.285664</td>\n",
       "      <td>5.298798e+05</td>\n",
       "      <td>...</td>\n",
       "      <td>11</td>\n",
       "      <td>27.78</td>\n",
       "      <td>3</td>\n",
       "      <td>18.766000</td>\n",
       "      <td>6</td>\n",
       "      <td>4</td>\n",
       "      <td>2</td>\n",
       "      <td>2</td>\n",
       "      <td>2</td>\n",
       "      <td>30</td>\n",
       "    </tr>\n",
       "    <tr>\n",
       "      <th>5</th>\n",
       "      <td>57</td>\n",
       "      <td>veh1</td>\n",
       "      <td>497.907593</td>\n",
       "      <td>823.331530</td>\n",
       "      <td>1.467669</td>\n",
       "      <td>43.567247</td>\n",
       "      <td>15.956224</td>\n",
       "      <td>1.025041</td>\n",
       "      <td>177308.244397</td>\n",
       "      <td>5.559139e+05</td>\n",
       "      <td>...</td>\n",
       "      <td>8</td>\n",
       "      <td>16.66</td>\n",
       "      <td>1</td>\n",
       "      <td>15.632078</td>\n",
       "      <td>0</td>\n",
       "      <td>0</td>\n",
       "      <td>0</td>\n",
       "      <td>1</td>\n",
       "      <td>0</td>\n",
       "      <td>65</td>\n",
       "    </tr>\n",
       "  </tbody>\n",
       "</table>\n",
       "<p>5 rows × 24 columns</p>\n",
       "</div>"
      ],
      "text/plain": [
       "   StartTime VehicleID           X           Y  Longitude   Latitude  \\\n",
       "0         53      veh1  520.928043  780.584754   1.467963  43.566866   \n",
       "2         21      veh1  576.541784  540.492539   1.468706  43.564714   \n",
       "3         18      veh1  522.853482  490.318745   1.468053  43.564254   \n",
       "4         19      veh1  539.261338  513.304129   1.468251  43.564464   \n",
       "5         57      veh1  497.907593  823.331530   1.467669  43.567247   \n",
       "\n",
       "       Speed  Acceleration  FuelConsumption   CO2Emission  ...  \\\n",
       "0   7.147393     -0.652833    215240.520454  6.748431e+05  ...   \n",
       "2  12.199157      1.695573    165096.530098  5.176240e+05  ...   \n",
       "3   5.750539      5.750539    352586.718795  1.105398e+06  ...   \n",
       "4  10.359101     -3.919571    169005.285664  5.298798e+05  ...   \n",
       "5  15.956224      1.025041    177308.244397  5.559139e+05  ...   \n",
       "\n",
       "   ActionDuration  LaneMaxSpeed Neighbors  AllowedSpeed  VehicleAdded  \\\n",
       "0              11         16.66         1     15.632078             0   \n",
       "2               6         27.78         5     18.766000             8   \n",
       "3              14         27.78         2     18.766000            12   \n",
       "4              11         27.78         3     18.766000             6   \n",
       "5               8         16.66         1     15.632078             0   \n",
       "\n",
       "   VehicleAddedAhead  VehicleAddedBehind  ActionVehicleAhead  \\\n",
       "0                  0                   0                   1   \n",
       "2                  3                   5                   3   \n",
       "3                  4                   8                   3   \n",
       "4                  4                   2                   2   \n",
       "5                  0                   0                   1   \n",
       "\n",
       "   ActionVehicleBehind  EndTime  \n",
       "0                    0       64  \n",
       "2                    0       27  \n",
       "3                    1       32  \n",
       "4                    2       30  \n",
       "5                    0       65  \n",
       "\n",
       "[5 rows x 24 columns]"
      ]
     },
     "execution_count": 5,
     "metadata": {},
     "output_type": "execute_result"
    }
   ],
   "source": [
    "data1 = pd.read_csv('data0_1.csv')\n",
    "data2 = pd.read_csv(\"data0_2.csv\")\n",
    "data3 = pd.read_csv(\"data0_5.csv\")\n",
    "datas = pd.concat([data1, data2, data3], ignore_index= True).sample(frac=1, random_state=42).reset_index(drop=True)\n",
    "datas= datas[(datas[\"ActionId\"] != 0)]\n",
    "# datas = datas[datas['TravelTime'] < 130]\n",
    "datas.rename(columns={'DateTime': 'StartTime'}, inplace=True)\n",
    "datas['EndTime'] = datas['StartTime'] + datas['ActionDuration']\n",
    "len(datas)\n",
    "datas.head(5)"
   ]
  },
  {
   "cell_type": "code",
   "execution_count": 6,
   "metadata": {},
   "outputs": [
    {
     "data": {
      "text/plain": [
       "<Figure size 720x432 with 0 Axes>"
      ]
     },
     "execution_count": 6,
     "metadata": {},
     "output_type": "execute_result"
    },
    {
     "data": {
      "text/plain": [
       "[<matplotlib.lines.Line2D at 0x2434e060340>]"
      ]
     },
     "execution_count": 6,
     "metadata": {},
     "output_type": "execute_result"
    },
    {
     "data": {
      "text/plain": [
       "Text(0.5, 0, 'Fuel Consumption')"
      ]
     },
     "execution_count": 6,
     "metadata": {},
     "output_type": "execute_result"
    },
    {
     "data": {
      "text/plain": [
       "Text(0, 0.5, 'CO2 Emission')"
      ]
     },
     "execution_count": 6,
     "metadata": {},
     "output_type": "execute_result"
    },
    {
     "data": {
      "text/plain": [
       "Text(0.5, 1.0, 'Fuel Consumption vs CO2 Emission')"
      ]
     },
     "execution_count": 6,
     "metadata": {},
     "output_type": "execute_result"
    },
    {
     "data": {
      "image/png": "[encoded data removed]",
      "text/plain": [
       "<Figure size 720x432 with 1 Axes>"
      ]
     },
     "metadata": {
      "needs_background": "light"
     },
     "output_type": "display_data"
    }
   ],
   "source": [
    "plt.figure(figsize=(10, 6))\n",
    "plt.plot(datas['FuelConsumption'].to_numpy(), datas['CO2Emission'].to_numpy())\n",
    "plt.xlabel('Fuel Consumption')\n",
    "plt.ylabel('CO2 Emission')\n",
    "plt.title('Fuel Consumption vs CO2 Emission')\n",
    "plt.show()"
   ]
  },
  {
   "cell_type": "code",
   "execution_count": 7,
   "metadata": {},
   "outputs": [],
   "source": [
    "datas['y_fuel'] = datas['FuelConsumption'].apply(lambda x: (fuel_reference -x)/ 1000)\n",
    "datas['y_travel'] = datas['TravelTime'].apply(lambda x: (travel_reference - x))\n",
    "data_transformed1 = pd.get_dummies(datas['ActionName'], prefix='action').astype(int)\n",
    "datas = pd.concat([datas, data_transformed1], axis=1)"
   ]
  },
  {
   "cell_type": "markdown",
   "metadata": {},
   "source": [
    "#### Box plot des colonnes"
   ]
  },
  {
   "cell_type": "code",
   "execution_count": 8,
   "metadata": {},
   "outputs": [],
   "source": [
    "# ml_columns = ['Longitude', 'Latitude', 'Speed','Acceleration', 'LaneMaxSpeed', 'ActionVehicleAhead',\n",
    "#                  'action_accelerate', 'action_decelerate', 'action_stop',  'ActionParam', 'ActionDuration']\n",
    "\n",
    "# # Définir la taille de la figure\n",
    "# plt.figure(figsize=(24, 8))\n",
    "\n",
    "# # Parcourir chaque colonne et créer un boxplot\n",
    "# for i, col in enumerate(ml_columns):\n",
    "#     plt.subplot(1, len(ml_columns), i + 1)\n",
    "#     sns.boxplot(y=datas[col], orient='v')\n",
    "#     plt.title(col)\n",
    "\n",
    "# # Ajuster automatiquement les sous-tracés pour éviter les chevauchements\n",
    "# plt.tight_layout()\n",
    "\n",
    "# # Afficher le graphique\n",
    "# plt.show()"
   ]
  },
  {
   "cell_type": "markdown",
   "metadata": {},
   "source": [
    "#### Filtrage des donnees"
   ]
  },
  {
   "cell_type": "code",
   "execution_count": 9,
   "metadata": {},
   "outputs": [],
   "source": [
    "datas = datas.drop(datas[(datas['Longitude'] < 1.467) | (datas['Acceleration'] > 8 )].index)"
   ]
  },
  {
   "cell_type": "code",
   "execution_count": 10,
   "metadata": {},
   "outputs": [
    {
     "data": {
      "text/plain": [
       "5937"
      ]
     },
     "execution_count": 10,
     "metadata": {},
     "output_type": "execute_result"
    }
   ],
   "source": [
    "len(datas)"
   ]
  },
  {
   "cell_type": "code",
   "execution_count": 11,
   "metadata": {},
   "outputs": [],
   "source": [
    "def filter_iqr_column(df, column):\n",
    "    q1 = df[column].quantile(0.25)\n",
    "    q3 = df[column].quantile(0.75)\n",
    "    iqr = q3 - q1\n",
    "    lower_bound = q1 - 1.5 * iqr\n",
    "    # lower_bound = q1\n",
    "    upper_bound = q3 + 1.5 * iqr\n",
    "    # upper_bound = q3\n",
    "    filtered_df = df[(df[column] >= lower_bound) & (df[column] <= upper_bound)]\n",
    "    return filtered_df"
   ]
  },
  {
   "cell_type": "code",
   "execution_count": 12,
   "metadata": {},
   "outputs": [
    {
     "data": {
      "text/plain": [
       "<AxesSubplot:ylabel='y_fuel'>"
      ]
     },
     "execution_count": 12,
     "metadata": {},
     "output_type": "execute_result"
    },
    {
     "data": {
      "image/png": "[encoded data removed]",
      "text/plain": [
       "<Figure size 432x288 with 1 Axes>"
      ]
     },
     "metadata": {
      "needs_background": "light"
     },
     "output_type": "display_data"
    }
   ],
   "source": [
    "action_accelerate = datas[datas['action_accelerate'] == 1]\n",
    "action_decelerate = datas[datas['action_decelerate'] == 1]\n",
    "action_stop = datas[datas['action_stop'] == 1]\n",
    "sns.boxplot(datas['y_fuel'])"
   ]
  },
  {
   "cell_type": "code",
   "execution_count": 13,
   "metadata": {},
   "outputs": [
    {
     "data": {
      "text/plain": [
       "-92.69906528313165"
      ]
     },
     "execution_count": 13,
     "metadata": {},
     "output_type": "execute_result"
    },
    {
     "data": {
      "text/plain": [
       "-42.621966104120354"
      ]
     },
     "execution_count": 13,
     "metadata": {},
     "output_type": "execute_result"
    },
    {
     "data": {
      "text/plain": [
       "-167.8147140516486"
      ]
     },
     "execution_count": 13,
     "metadata": {},
     "output_type": "execute_result"
    }
   ],
   "source": [
    "q1 = action_accelerate['y_fuel'].quantile(0.25)\n",
    "q3 = action_accelerate['y_fuel'].quantile(0.75)\n",
    "iqr = q3 - q1\n",
    "lower_bound = q1 - 1.5 * iqr\n",
    "# lower_bound = q1\n",
    "upper_bound = q3 + 1.5 * iqr\n",
    "q1\n",
    "q3\n",
    "lower_bound"
   ]
  },
  {
   "cell_type": "code",
   "execution_count": 14,
   "metadata": {},
   "outputs": [
    {
     "data": {
      "text/plain": [
       "5937"
      ]
     },
     "execution_count": 14,
     "metadata": {},
     "output_type": "execute_result"
    }
   ],
   "source": [
    "len(datas)"
   ]
  },
  {
   "cell_type": "code",
   "execution_count": 15,
   "metadata": {},
   "outputs": [],
   "source": [
    "datas_filtered = filter_iqr_column(datas, 'y_fuel')"
   ]
  },
  {
   "cell_type": "code",
   "execution_count": 16,
   "metadata": {},
   "outputs": [
    {
     "data": {
      "text/plain": [
       "<AxesSubplot:ylabel='y_fuel'>"
      ]
     },
     "execution_count": 16,
     "metadata": {},
     "output_type": "execute_result"
    },
    {
     "data": {
      "image/png": "[encoded data removed]",
      "text/plain": [
       "<Figure size 432x288 with 1 Axes>"
      ]
     },
     "metadata": {
      "needs_background": "light"
     },
     "output_type": "display_data"
    }
   ],
   "source": [
    "sns.boxplot(datas_filtered['y_fuel'])"
   ]
  },
  {
   "cell_type": "code",
   "execution_count": 17,
   "metadata": {},
   "outputs": [
    {
     "data": {
      "text/plain": [
       "<AxesSubplot:ylabel='y_fuel'>"
      ]
     },
     "execution_count": 17,
     "metadata": {},
     "output_type": "execute_result"
    },
    {
     "data": {
      "image/png": "[encoded data removed]",
      "text/plain": [
       "<Figure size 432x288 with 1 Axes>"
      ]
     },
     "metadata": {
      "needs_background": "light"
     },
     "output_type": "display_data"
    }
   ],
   "source": [
    "sns.boxplot(action_accelerate['y_fuel'])"
   ]
  },
  {
   "cell_type": "code",
   "execution_count": 18,
   "metadata": {},
   "outputs": [
    {
     "data": {
      "text/plain": [
       "<AxesSubplot:ylabel='y_fuel'>"
      ]
     },
     "execution_count": 18,
     "metadata": {},
     "output_type": "execute_result"
    },
    {
     "data": {
      "image/png": "[encoded data removed]",
      "text/plain": [
       "<Figure size 432x288 with 1 Axes>"
      ]
     },
     "metadata": {
      "needs_background": "light"
     },
     "output_type": "display_data"
    }
   ],
   "source": [
    "sns.boxplot(action_decelerate['y_fuel'])"
   ]
  },
  {
   "cell_type": "code",
   "execution_count": 19,
   "metadata": {},
   "outputs": [
    {
     "data": {
      "text/plain": [
       "<AxesSubplot:ylabel='y_fuel'>"
      ]
     },
     "execution_count": 19,
     "metadata": {},
     "output_type": "execute_result"
    },
    {
     "data": {
      "image/png": "[encoded data removed]",
      "text/plain": [
       "<Figure size 432x288 with 1 Axes>"
      ]
     },
     "metadata": {
      "needs_background": "light"
     },
     "output_type": "display_data"
    }
   ],
   "source": [
    "sns.boxplot(action_stop['y_fuel'])"
   ]
  },
  {
   "cell_type": "code",
   "execution_count": 20,
   "metadata": {},
   "outputs": [],
   "source": [
    "action_accelerate_filtered = datas_filtered[datas_filtered['action_accelerate'] == 1]\n",
    "action_decelerate_filtered = datas_filtered[datas_filtered['action_decelerate'] == 1]\n",
    "action_stop_filtered = datas_filtered[datas_filtered['action_stop'] == 1]"
   ]
  },
  {
   "cell_type": "code",
   "execution_count": 21,
   "metadata": {},
   "outputs": [
    {
     "data": {
      "text/plain": [
       "<AxesSubplot:ylabel='y_fuel'>"
      ]
     },
     "execution_count": 21,
     "metadata": {},
     "output_type": "execute_result"
    },
    {
     "data": {
      "image/png": "[encoded data removed]",
      "text/plain": [
       "<Figure size 432x288 with 1 Axes>"
      ]
     },
     "metadata": {
      "needs_background": "light"
     },
     "output_type": "display_data"
    }
   ],
   "source": [
    "sns.boxplot(action_accelerate['y_fuel'])\n"
   ]
  },
  {
   "cell_type": "code",
   "execution_count": 22,
   "metadata": {},
   "outputs": [
    {
     "data": {
      "text/plain": [
       "<AxesSubplot:ylabel='y_fuel'>"
      ]
     },
     "execution_count": 22,
     "metadata": {},
     "output_type": "execute_result"
    },
    {
     "data": {
      "image/png": "[encoded data removed]",
      "text/plain": [
       "<Figure size 432x288 with 1 Axes>"
      ]
     },
     "metadata": {
      "needs_background": "light"
     },
     "output_type": "display_data"
    }
   ],
   "source": [
    "sns.boxplot(action_decelerate['y_fuel'])"
   ]
  },
  {
   "cell_type": "code",
   "execution_count": 23,
   "metadata": {},
   "outputs": [
    {
     "data": {
      "text/plain": [
       "<AxesSubplot:ylabel='y_fuel'>"
      ]
     },
     "execution_count": 23,
     "metadata": {},
     "output_type": "execute_result"
    },
    {
     "data": {
      "image/png": "[encoded data removed]",
      "text/plain": [
       "<Figure size 432x288 with 1 Axes>"
      ]
     },
     "metadata": {
      "needs_background": "light"
     },
     "output_type": "display_data"
    }
   ],
   "source": [
    "sns.boxplot(action_stop_filtered['y_fuel'])"
   ]
  },
  {
   "cell_type": "code",
   "execution_count": 24,
   "metadata": {},
   "outputs": [],
   "source": [
    "datas_filtered = datas.drop(datas[(\n",
    "    ((datas['action_accelerate'] == 1) & ((datas['y_fuel']  < -150) | (datas['y_fuel'] > 25))) |\n",
    "    ((datas['action_decelerate'] == 1) & ((datas['y_fuel']  < -20) | (datas['y_fuel'] > 38))) |\n",
    "    ((datas['action_stop'] == 1) & ((datas['y_fuel']  < -25) | (datas['y_fuel'] > 25)))\n",
    ")].index)"
   ]
  },
  {
   "cell_type": "code",
   "execution_count": 25,
   "metadata": {},
   "outputs": [],
   "source": [
    "action_accelerate_filtered = datas_filtered[datas_filtered['action_accelerate'] == 1]\n",
    "action_decelerate_filtered = datas_filtered[datas_filtered['action_decelerate'] == 1]\n",
    "action_stop_filtered = datas_filtered[datas_filtered['action_stop'] == 1]"
   ]
  },
  {
   "cell_type": "code",
   "execution_count": 26,
   "metadata": {},
   "outputs": [
    {
     "data": {
      "text/plain": [
       "<AxesSubplot:ylabel='y_fuel'>"
      ]
     },
     "execution_count": 26,
     "metadata": {},
     "output_type": "execute_result"
    },
    {
     "data": {
      "image/png": "[encoded data removed]",
      "text/plain": [
       "<Figure size 432x288 with 1 Axes>"
      ]
     },
     "metadata": {
      "needs_background": "light"
     },
     "output_type": "display_data"
    }
   ],
   "source": [
    "sns.boxplot(action_stop_filtered['y_fuel'])"
   ]
  },
  {
   "cell_type": "code",
   "execution_count": 27,
   "metadata": {},
   "outputs": [
    {
     "data": {
      "text/plain": [
       "5751"
      ]
     },
     "execution_count": 27,
     "metadata": {},
     "output_type": "execute_result"
    }
   ],
   "source": [
    "len(datas_filtered)"
   ]
  },
  {
   "cell_type": "code",
   "execution_count": 28,
   "metadata": {},
   "outputs": [],
   "source": [
    "datas_filtered = (pd.concat([action_accelerate_filtered.sample(2000, random_state=42),\n",
    "                             action_decelerate_filtered,\n",
    "                             action_stop_filtered], \n",
    "                             ignore_index=True)).sample(frac=1, random_state=42).reset_index(drop=True)"
   ]
  },
  {
   "cell_type": "code",
   "execution_count": 29,
   "metadata": {},
   "outputs": [
    {
     "data": {
      "text/plain": [
       "<AxesSubplot:xlabel='count', ylabel='ActionName'>"
      ]
     },
     "execution_count": 29,
     "metadata": {},
     "output_type": "execute_result"
    },
    {
     "data": {
      "image/png": "[encoded data removed]",
      "text/plain": [
       "<Figure size 432x288 with 1 Axes>"
      ]
     },
     "metadata": {
      "needs_background": "light"
     },
     "output_type": "display_data"
    }
   ],
   "source": [
    "sns.countplot(datas_filtered['ActionName'], label=\"Count\")"
   ]
  },
  {
   "cell_type": "code",
   "execution_count": 30,
   "metadata": {},
   "outputs": [
    {
     "data": {
      "text/plain": [
       "[<matplotlib.lines.Line2D at 0x24351581c60>]"
      ]
     },
     "execution_count": 30,
     "metadata": {},
     "output_type": "execute_result"
    },
    {
     "data": {
      "text/plain": [
       "Text(0.5, 1.0, 'Distribution des y_fuel')"
      ]
     },
     "execution_count": 30,
     "metadata": {},
     "output_type": "execute_result"
    },
    {
     "data": {
      "text/plain": [
       "Text(0.5, 0, 'Index')"
      ]
     },
     "execution_count": 30,
     "metadata": {},
     "output_type": "execute_result"
    },
    {
     "data": {
      "text/plain": [
       "Text(0, 0.5, 'Valeur')"
      ]
     },
     "execution_count": 30,
     "metadata": {},
     "output_type": "execute_result"
    },
    {
     "data": {
      "image/png": "[encoded data removed]",
      "text/plain": [
       "<Figure size 432x288 with 1 Axes>"
      ]
     },
     "metadata": {
      "needs_background": "light"
     },
     "output_type": "display_data"
    }
   ],
   "source": [
    "plt.plot(datas_filtered['y_fuel'])\n",
    "\n",
    "# Ajouter un titre et des labels si nécessaire\n",
    "plt.title('Distribution des y_fuel')\n",
    "plt.xlabel('Index')\n",
    "plt.ylabel('Valeur')\n",
    "\n",
    "# Afficher le plot\n",
    "plt.show()"
   ]
  },
  {
   "cell_type": "code",
   "execution_count": 31,
   "metadata": {},
   "outputs": [
    {
     "data": {
      "text/plain": [
       "<Figure size 576x432 with 0 Axes>"
      ]
     },
     "execution_count": 31,
     "metadata": {},
     "output_type": "execute_result"
    },
    {
     "data": {
      "text/plain": [
       "(array([  61.,  138.,  201.,  312.,  446.,  444.,  360., 1341., 1670.,\n",
       "         326.]),\n",
       " array([-1.49963604e+02, -1.31223217e+02, -1.12482830e+02, -9.37424422e+01,\n",
       "        -7.50020547e+01, -5.62616673e+01, -3.75212799e+01, -1.87808924e+01,\n",
       "        -4.05049805e-02,  1.86998825e+01,  3.74402699e+01]),\n",
       " <BarContainer object of 10 artists>)"
      ]
     },
     "execution_count": 31,
     "metadata": {},
     "output_type": "execute_result"
    },
    {
     "data": {
      "text/plain": [
       "Text(0.5, 1.0, 'Distribution de la Variable Cible')"
      ]
     },
     "execution_count": 31,
     "metadata": {},
     "output_type": "execute_result"
    },
    {
     "data": {
      "image/png": "[encoded data removed]",
      "text/plain": [
       "<Figure size 576x432 with 1 Axes>"
      ]
     },
     "metadata": {
      "needs_background": "light"
     },
     "output_type": "display_data"
    }
   ],
   "source": [
    "plt.figure(figsize=(8, 6))\n",
    "plt.hist(datas_filtered['y_fuel'], edgecolor='black', alpha=0.7)\n",
    "plt.title('Distribution de la Variable Cible')\n",
    "# sns.distplot(np.array(datas['y_travel'].values), kde=True)\n",
    "plt.show()"
   ]
  },
  {
   "cell_type": "code",
   "execution_count": 32,
   "metadata": {},
   "outputs": [
    {
     "data": {
      "text/plain": [
       "1991"
      ]
     },
     "execution_count": 32,
     "metadata": {},
     "output_type": "execute_result"
    }
   ],
   "source": [
    "len(datas_filtered[datas_filtered['y_fuel'] >= 0])"
   ]
  },
  {
   "cell_type": "markdown",
   "metadata": {},
   "source": [
    "### Symetrie des donnees"
   ]
  },
  {
   "cell_type": "code",
   "execution_count": 33,
   "metadata": {},
   "outputs": [],
   "source": [
    "pt = PowerTransformer()\n",
    "datas_filtered['y_fuel_transformed'] = pt.fit_transform(datas_filtered['y_fuel'].values.reshape(-1, 1)).flatten()"
   ]
  },
  {
   "cell_type": "code",
   "execution_count": 34,
   "metadata": {},
   "outputs": [
    {
     "data": {
      "text/plain": [
       "<Figure size 576x432 with 0 Axes>"
      ]
     },
     "execution_count": 34,
     "metadata": {},
     "output_type": "execute_result"
    },
    {
     "data": {
      "text/plain": [
       "(array([ 210.,  511.,  774.,  627., 1512.,  881.,  454.,  210.,   88.,\n",
       "          32.]),\n",
       " array([-2.29101484, -1.74322159, -1.19542834, -0.64763509, -0.09984184,\n",
       "         0.44795141,  0.99574467,  1.54353792,  2.09133117,  2.63912442,\n",
       "         3.18691767]),\n",
       " <BarContainer object of 10 artists>)"
      ]
     },
     "execution_count": 34,
     "metadata": {},
     "output_type": "execute_result"
    },
    {
     "data": {
      "text/plain": [
       "Text(0.5, 1.0, 'Distribution de la Variable Cible')"
      ]
     },
     "execution_count": 34,
     "metadata": {},
     "output_type": "execute_result"
    },
    {
     "data": {
      "image/png": "[encoded data removed]",
      "text/plain": [
       "<Figure size 576x432 with 1 Axes>"
      ]
     },
     "metadata": {
      "needs_background": "light"
     },
     "output_type": "display_data"
    }
   ],
   "source": [
    "plt.figure(figsize=(8, 6))\n",
    "plt.hist(datas_filtered['y_fuel_transformed'], edgecolor='black', alpha=0.7)\n",
    "plt.title('Distribution de la Variable Cible')\n",
    "plt.show()"
   ]
  },
  {
   "cell_type": "code",
   "execution_count": 35,
   "metadata": {},
   "outputs": [],
   "source": [
    "columns = ['Longitude', 'Latitude', 'Speed', 'LaneMaxSpeed', 'Acceleration', 'action_accelerate', 'action_decelerate', 'action_stop', 'ActionParam','ActionVehicleAhead','StartTime', 'EndTime', 'y_fuel', 'y_fuel_transformed']"
   ]
  },
  {
   "cell_type": "code",
   "execution_count": 36,
   "metadata": {},
   "outputs": [
    {
     "data": {
      "text/html": [
       "<div>\n",
       "<style scoped>\n",
       "    .dataframe tbody tr th:only-of-type {\n",
       "        vertical-align: middle;\n",
       "    }\n",
       "\n",
       "    .dataframe tbody tr th {\n",
       "        vertical-align: top;\n",
       "    }\n",
       "\n",
       "    .dataframe thead th {\n",
       "        text-align: right;\n",
       "    }\n",
       "</style>\n",
       "<table border=\"1\" class=\"dataframe\">\n",
       "  <thead>\n",
       "    <tr style=\"text-align: right;\">\n",
       "      <th></th>\n",
       "      <th>Longitude</th>\n",
       "      <th>Latitude</th>\n",
       "      <th>Speed</th>\n",
       "      <th>LaneMaxSpeed</th>\n",
       "      <th>Acceleration</th>\n",
       "      <th>action_accelerate</th>\n",
       "      <th>action_decelerate</th>\n",
       "      <th>action_stop</th>\n",
       "      <th>ActionParam</th>\n",
       "      <th>ActionVehicleAhead</th>\n",
       "      <th>StartTime</th>\n",
       "      <th>EndTime</th>\n",
       "      <th>y_fuel</th>\n",
       "      <th>y_fuel_transformed</th>\n",
       "    </tr>\n",
       "  </thead>\n",
       "  <tbody>\n",
       "    <tr>\n",
       "      <th>skewness</th>\n",
       "      <td>-0.023801</td>\n",
       "      <td>0.549697</td>\n",
       "      <td>0.098484</td>\n",
       "      <td>1.116233</td>\n",
       "      <td>0.528403</td>\n",
       "      <td>0.505855</td>\n",
       "      <td>0.785660</td>\n",
       "      <td>0.845571</td>\n",
       "      <td>0.291027</td>\n",
       "      <td>0.672792</td>\n",
       "      <td>-0.066135</td>\n",
       "      <td>-0.051521</td>\n",
       "      <td>-1.049416</td>\n",
       "      <td>0.083828</td>\n",
       "    </tr>\n",
       "    <tr>\n",
       "      <th>kurtosis</th>\n",
       "      <td>-0.763920</td>\n",
       "      <td>-1.035298</td>\n",
       "      <td>-1.126059</td>\n",
       "      <td>1.330671</td>\n",
       "      <td>-0.323942</td>\n",
       "      <td>-1.744769</td>\n",
       "      <td>-1.383261</td>\n",
       "      <td>-1.285495</td>\n",
       "      <td>-0.917522</td>\n",
       "      <td>-0.201698</td>\n",
       "      <td>-1.097805</td>\n",
       "      <td>-0.923562</td>\n",
       "      <td>0.167292</td>\n",
       "      <td>-0.229250</td>\n",
       "    </tr>\n",
       "  </tbody>\n",
       "</table>\n",
       "</div>"
      ],
      "text/plain": [
       "          Longitude  Latitude     Speed  LaneMaxSpeed  Acceleration  \\\n",
       "skewness  -0.023801  0.549697  0.098484      1.116233      0.528403   \n",
       "kurtosis  -0.763920 -1.035298 -1.126059      1.330671     -0.323942   \n",
       "\n",
       "          action_accelerate  action_decelerate  action_stop  ActionParam  \\\n",
       "skewness           0.505855           0.785660     0.845571     0.291027   \n",
       "kurtosis          -1.744769          -1.383261    -1.285495    -0.917522   \n",
       "\n",
       "          ActionVehicleAhead  StartTime   EndTime    y_fuel  \\\n",
       "skewness            0.672792  -0.066135 -0.051521 -1.049416   \n",
       "kurtosis           -0.201698  -1.097805 -0.923562  0.167292   \n",
       "\n",
       "          y_fuel_transformed  \n",
       "skewness            0.083828  \n",
       "kurtosis           -0.229250  "
      ]
     },
     "execution_count": 36,
     "metadata": {},
     "output_type": "execute_result"
    }
   ],
   "source": [
    "pd.DataFrame(data=[datas_filtered[columns].skew(), datas_filtered[columns].kurtosis()], index=['skewness', 'kurtosis'])\n",
    "# pd.DataFrame({\"skewnwess\":datas_filtered[columns].skew(), \"kurtosis\": datas_filtered[columns].kurtosis()}).T"
   ]
  },
  {
   "cell_type": "markdown",
   "metadata": {},
   "source": [
    "### Correlation"
   ]
  },
  {
   "cell_type": "code",
   "execution_count": 37,
   "metadata": {},
   "outputs": [],
   "source": [
    "final_datas = datas_filtered[[ 'Longitude','Latitude', 'Speed', 'Acceleration','LaneMaxSpeed',  'ActionId','action_accelerate', 'action_decelerate',\n",
    "       'action_stop',  'ActionParam', 'ActionDuration', 'ActionVehicleAhead','StartTime', 'EndTime', 'y_fuel', 'y_fuel_transformed']]"
   ]
  },
  {
   "cell_type": "code",
   "execution_count": 38,
   "metadata": {},
   "outputs": [
    {
     "data": {
      "text/plain": [
       "<Figure size 1296x72 with 0 Axes>"
      ]
     },
     "execution_count": 38,
     "metadata": {},
     "output_type": "execute_result"
    },
    {
     "data": {
      "text/plain": [
       "<AxesSubplot:>"
      ]
     },
     "execution_count": 38,
     "metadata": {},
     "output_type": "execute_result"
    },
    {
     "data": {
      "text/plain": [
       "Text(0.5, 1.0, 'Matrice de corrélation Spearman')"
      ]
     },
     "execution_count": 38,
     "metadata": {},
     "output_type": "execute_result"
    },
    {
     "data": {
      "image/png": "[encoded data removed]",
      "text/plain": [
       "<Figure size 1296x72 with 2 Axes>"
      ]
     },
     "metadata": {
      "needs_background": "light"
     },
     "output_type": "display_data"
    }
   ],
   "source": [
    "# Calculer la matrice de corrélation de Spearman\n",
    "correlation_matrix_spearman = final_datas.corr(method=\"spearman\")\n",
    "\n",
    "# Afficher la matrice de corrélation\n",
    "# print(\"Matrice de corrélation Spearman:\\n\", correlation_matrix_spearman)\n",
    "\n",
    "# Visualiser la matrice de corrélation\n",
    "plt.figure(figsize=(18, 1))\n",
    "sns.heatmap(correlation_matrix_spearman.iloc[[-2]], annot=True, cmap='coolwarm', center=0, vmin=-1, vmax=1)\n",
    "plt.title('Matrice de corrélation Spearman')\n",
    "plt.show()"
   ]
  },
  {
   "cell_type": "code",
   "execution_count": 39,
   "metadata": {},
   "outputs": [
    {
     "data": {
      "text/plain": [
       "-51.0"
      ]
     },
     "execution_count": 39,
     "metadata": {},
     "output_type": "execute_result"
    },
    {
     "data": {
      "text/plain": [
       "24.0"
      ]
     },
     "execution_count": 39,
     "metadata": {},
     "output_type": "execute_result"
    }
   ],
   "source": [
    "min(datas_filtered['y_travel'])\n",
    "max(datas_filtered['y_travel'])\n",
    "# len(datas_filtered['ActionVehicleAhead'].unique())"
   ]
  },
  {
   "cell_type": "code",
   "execution_count": 40,
   "metadata": {},
   "outputs": [],
   "source": [
    "used_data = datas_filtered[['Longitude', 'Latitude', 'Speed','Acceleration', 'ActionVehicleAhead','ActionId',\n",
    "                 'action_accelerate', 'action_decelerate', 'action_stop',  'ActionParam', 'ActionDuration','StartTime', 'EndTime', 'y_fuel', 'y_travel']]\n",
    "used_data.to_csv('final_datas.csv', index=False)"
   ]
  },
  {
   "cell_type": "markdown",
   "metadata": {},
   "source": [
    "#### Machine Learning"
   ]
  },
  {
   "cell_type": "code",
   "execution_count": 41,
   "metadata": {},
   "outputs": [],
   "source": [
    "from sklearn.model_selection import train_test_split\n",
    "from sklearn.preprocessing import StandardScaler\n",
    "from sklearn.linear_model import LinearRegression, Ridge, Lasso, ElasticNet, SGDRegressor\n",
    "from sklearn.svm import SVR\n",
    "from sklearn.gaussian_process.kernels import RBF\n",
    "from sklearn.tree import DecisionTreeRegressor\n",
    "from sklearn.ensemble import RandomForestRegressor, GradientBoostingRegressor, AdaBoostRegressor, VotingRegressor, BaggingRegressor, StackingRegressor\n",
    "from sklearn.neighbors import KNeighborsRegressor\n",
    "from sklearn.neural_network import MLPRegressor\n",
    "from sklearn.naive_bayes import GaussianNB\n",
    "from sklearn.gaussian_process import GaussianProcessRegressor\n",
    "from sklearn.metrics import mean_squared_error, r2_score\n",
    "from sklearn.multioutput import MultiOutputRegressor"
   ]
  },
  {
   "cell_type": "code",
   "execution_count": 42,
   "metadata": {},
   "outputs": [],
   "source": [
    "scaler = StandardScaler()"
   ]
  },
  {
   "cell_type": "code",
   "execution_count": 43,
   "metadata": {},
   "outputs": [],
   "source": [
    "mean =  datas_filtered[['Longitude', 'Latitude', 'Speed','Acceleration', 'ActionVehicleAhead',\n",
    "                 'action_accelerate', 'action_decelerate', 'action_stop',  'ActionParam', 'StartTime', 'EndTime']].mean()\n",
    "\n",
    "std =  datas_filtered[['Longitude', 'Latitude', 'Speed','Acceleration', 'ActionVehicleAhead',\n",
    "                 'action_accelerate', 'action_decelerate', 'action_stop',  'ActionParam', 'StartTime', 'EndTime']].std()"
   ]
  },
  {
   "cell_type": "code",
   "execution_count": 44,
   "metadata": {},
   "outputs": [
    {
     "data": {
      "text/html": [
       "<div>\n",
       "<style scoped>\n",
       "    .dataframe tbody tr th:only-of-type {\n",
       "        vertical-align: middle;\n",
       "    }\n",
       "\n",
       "    .dataframe tbody tr th {\n",
       "        vertical-align: top;\n",
       "    }\n",
       "\n",
       "    .dataframe thead th {\n",
       "        text-align: right;\n",
       "    }\n",
       "</style>\n",
       "<table border=\"1\" class=\"dataframe\">\n",
       "  <thead>\n",
       "    <tr style=\"text-align: right;\">\n",
       "      <th></th>\n",
       "      <th>Longitude</th>\n",
       "      <th>Latitude</th>\n",
       "      <th>Speed</th>\n",
       "      <th>Acceleration</th>\n",
       "      <th>ActionVehicleAhead</th>\n",
       "      <th>action_accelerate</th>\n",
       "      <th>action_decelerate</th>\n",
       "      <th>action_stop</th>\n",
       "      <th>ActionParam</th>\n",
       "      <th>StartTime</th>\n",
       "      <th>EndTime</th>\n",
       "    </tr>\n",
       "  </thead>\n",
       "  <tbody>\n",
       "    <tr>\n",
       "      <th>0</th>\n",
       "      <td>1.400502</td>\n",
       "      <td>-0.847862</td>\n",
       "      <td>0.709725</td>\n",
       "      <td>1.460129</td>\n",
       "      <td>-1.174775</td>\n",
       "      <td>-0.778543</td>\n",
       "      <td>-0.681567</td>\n",
       "      <td>1.508178</td>\n",
       "      <td>-1.200476</td>\n",
       "      <td>-0.429515</td>\n",
       "      <td>-0.319378</td>\n",
       "    </tr>\n",
       "    <tr>\n",
       "      <th>1</th>\n",
       "      <td>-0.870628</td>\n",
       "      <td>1.222995</td>\n",
       "      <td>-1.077931</td>\n",
       "      <td>-0.024538</td>\n",
       "      <td>-0.339299</td>\n",
       "      <td>-0.778543</td>\n",
       "      <td>1.466930</td>\n",
       "      <td>-0.662926</td>\n",
       "      <td>0.833575</td>\n",
       "      <td>0.745937</td>\n",
       "      <td>0.494178</td>\n",
       "    </tr>\n",
       "    <tr>\n",
       "      <th>2</th>\n",
       "      <td>0.183689</td>\n",
       "      <td>-0.784078</td>\n",
       "      <td>0.693646</td>\n",
       "      <td>-0.455217</td>\n",
       "      <td>-0.339299</td>\n",
       "      <td>1.284207</td>\n",
       "      <td>-0.681567</td>\n",
       "      <td>-0.662926</td>\n",
       "      <td>-0.142231</td>\n",
       "      <td>-1.604967</td>\n",
       "      <td>-1.070352</td>\n",
       "    </tr>\n",
       "    <tr>\n",
       "      <th>3</th>\n",
       "      <td>0.186805</td>\n",
       "      <td>0.345334</td>\n",
       "      <td>0.472269</td>\n",
       "      <td>-0.987697</td>\n",
       "      <td>-0.339299</td>\n",
       "      <td>1.284207</td>\n",
       "      <td>-0.681567</td>\n",
       "      <td>-0.662926</td>\n",
       "      <td>0.926742</td>\n",
       "      <td>1.072451</td>\n",
       "      <td>1.057408</td>\n",
       "    </tr>\n",
       "    <tr>\n",
       "      <th>4</th>\n",
       "      <td>1.300723</td>\n",
       "      <td>-0.837067</td>\n",
       "      <td>1.289493</td>\n",
       "      <td>-0.230409</td>\n",
       "      <td>-1.174775</td>\n",
       "      <td>-0.778543</td>\n",
       "      <td>1.466930</td>\n",
       "      <td>-0.662926</td>\n",
       "      <td>1.723816</td>\n",
       "      <td>0.223514</td>\n",
       "      <td>-0.256797</td>\n",
       "    </tr>\n",
       "    <tr>\n",
       "      <th>...</th>\n",
       "      <td>...</td>\n",
       "      <td>...</td>\n",
       "      <td>...</td>\n",
       "      <td>...</td>\n",
       "      <td>...</td>\n",
       "      <td>...</td>\n",
       "      <td>...</td>\n",
       "      <td>...</td>\n",
       "      <td>...</td>\n",
       "      <td>...</td>\n",
       "      <td>...</td>\n",
       "    </tr>\n",
       "    <tr>\n",
       "      <th>5294</th>\n",
       "      <td>-1.069588</td>\n",
       "      <td>-1.449678</td>\n",
       "      <td>-2.096336</td>\n",
       "      <td>-0.901345</td>\n",
       "      <td>2.167129</td>\n",
       "      <td>-0.778543</td>\n",
       "      <td>1.466930</td>\n",
       "      <td>-0.662926</td>\n",
       "      <td>0.329323</td>\n",
       "      <td>-1.278453</td>\n",
       "      <td>-1.383258</td>\n",
       "    </tr>\n",
       "    <tr>\n",
       "      <th>5295</th>\n",
       "      <td>-1.080289</td>\n",
       "      <td>-1.458753</td>\n",
       "      <td>-1.614264</td>\n",
       "      <td>0.979373</td>\n",
       "      <td>0.496177</td>\n",
       "      <td>-0.778543</td>\n",
       "      <td>-0.681567</td>\n",
       "      <td>1.508178</td>\n",
       "      <td>-1.200476</td>\n",
       "      <td>-1.996785</td>\n",
       "      <td>-1.758745</td>\n",
       "    </tr>\n",
       "    <tr>\n",
       "      <th>5296</th>\n",
       "      <td>-0.034067</td>\n",
       "      <td>0.523827</td>\n",
       "      <td>0.419656</td>\n",
       "      <td>-1.422343</td>\n",
       "      <td>-0.339299</td>\n",
       "      <td>-0.778543</td>\n",
       "      <td>-0.681567</td>\n",
       "      <td>1.508178</td>\n",
       "      <td>-1.200476</td>\n",
       "      <td>1.464269</td>\n",
       "      <td>1.683220</td>\n",
       "    </tr>\n",
       "    <tr>\n",
       "      <th>5297</th>\n",
       "      <td>0.114260</td>\n",
       "      <td>-0.811600</td>\n",
       "      <td>-0.835556</td>\n",
       "      <td>-0.825278</td>\n",
       "      <td>0.496177</td>\n",
       "      <td>-0.778543</td>\n",
       "      <td>-0.681567</td>\n",
       "      <td>1.508178</td>\n",
       "      <td>-1.200476</td>\n",
       "      <td>-1.017241</td>\n",
       "      <td>-0.945190</td>\n",
       "    </tr>\n",
       "    <tr>\n",
       "      <th>5298</th>\n",
       "      <td>0.510934</td>\n",
       "      <td>-0.654933</td>\n",
       "      <td>-1.244846</td>\n",
       "      <td>-0.550876</td>\n",
       "      <td>-0.339299</td>\n",
       "      <td>1.284207</td>\n",
       "      <td>-0.681567</td>\n",
       "      <td>-0.662926</td>\n",
       "      <td>0.848612</td>\n",
       "      <td>-1.082544</td>\n",
       "      <td>-0.757446</td>\n",
       "    </tr>\n",
       "  </tbody>\n",
       "</table>\n",
       "<p>5299 rows × 11 columns</p>\n",
       "</div>"
      ],
      "text/plain": [
       "      Longitude  Latitude     Speed  Acceleration  ActionVehicleAhead  \\\n",
       "0      1.400502 -0.847862  0.709725      1.460129           -1.174775   \n",
       "1     -0.870628  1.222995 -1.077931     -0.024538           -0.339299   \n",
       "2      0.183689 -0.784078  0.693646     -0.455217           -0.339299   \n",
       "3      0.186805  0.345334  0.472269     -0.987697           -0.339299   \n",
       "4      1.300723 -0.837067  1.289493     -0.230409           -1.174775   \n",
       "...         ...       ...       ...           ...                 ...   \n",
       "5294  -1.069588 -1.449678 -2.096336     -0.901345            2.167129   \n",
       "5295  -1.080289 -1.458753 -1.614264      0.979373            0.496177   \n",
       "5296  -0.034067  0.523827  0.419656     -1.422343           -0.339299   \n",
       "5297   0.114260 -0.811600 -0.835556     -0.825278            0.496177   \n",
       "5298   0.510934 -0.654933 -1.244846     -0.550876           -0.339299   \n",
       "\n",
       "      action_accelerate  action_decelerate  action_stop  ActionParam  \\\n",
       "0             -0.778543          -0.681567     1.508178    -1.200476   \n",
       "1             -0.778543           1.466930    -0.662926     0.833575   \n",
       "2              1.284207          -0.681567    -0.662926    -0.142231   \n",
       "3              1.284207          -0.681567    -0.662926     0.926742   \n",
       "4             -0.778543           1.466930    -0.662926     1.723816   \n",
       "...                 ...                ...          ...          ...   \n",
       "5294          -0.778543           1.466930    -0.662926     0.329323   \n",
       "5295          -0.778543          -0.681567     1.508178    -1.200476   \n",
       "5296          -0.778543          -0.681567     1.508178    -1.200476   \n",
       "5297          -0.778543          -0.681567     1.508178    -1.200476   \n",
       "5298           1.284207          -0.681567    -0.662926     0.848612   \n",
       "\n",
       "      StartTime   EndTime  \n",
       "0     -0.429515 -0.319378  \n",
       "1      0.745937  0.494178  \n",
       "2     -1.604967 -1.070352  \n",
       "3      1.072451  1.057408  \n",
       "4      0.223514 -0.256797  \n",
       "...         ...       ...  \n",
       "5294  -1.278453 -1.383258  \n",
       "5295  -1.996785 -1.758745  \n",
       "5296   1.464269  1.683220  \n",
       "5297  -1.017241 -0.945190  \n",
       "5298  -1.082544 -0.757446  \n",
       "\n",
       "[5299 rows x 11 columns]"
      ]
     },
     "execution_count": 44,
     "metadata": {},
     "output_type": "execute_result"
    }
   ],
   "source": [
    "(datas_filtered[['Longitude', 'Latitude', 'Speed','Acceleration', 'ActionVehicleAhead',\n",
    "                 'action_accelerate', 'action_decelerate', 'action_stop',  'ActionParam', 'StartTime', 'EndTime']] - mean) / std"
   ]
  },
  {
   "cell_type": "code",
   "execution_count": 45,
   "metadata": {},
   "outputs": [],
   "source": [
    "X_fuel = datas_filtered[['Longitude', 'Latitude', 'Speed','Acceleration', 'ActionVehicleAhead',\n",
    "                 'action_accelerate', 'action_decelerate', 'action_stop',  'ActionParam', 'StartTime', 'EndTime']].values\n",
    "y_fuel = datas_filtered['y_fuel'].values\n",
    "\n",
    "X_fuel = scaler.fit_transform(X_fuel)\n",
    "\n",
    "X_train, X_test, y_train, y_test = train_test_split(X_fuel, y_fuel, test_size= 0.25, random_state= 42)"
   ]
  },
  {
   "cell_type": "code",
   "execution_count": 46,
   "metadata": {},
   "outputs": [
    {
     "data": {
      "text/html": [
       "<div>\n",
       "<style scoped>\n",
       "    .dataframe tbody tr th:only-of-type {\n",
       "        vertical-align: middle;\n",
       "    }\n",
       "\n",
       "    .dataframe tbody tr th {\n",
       "        vertical-align: top;\n",
       "    }\n",
       "\n",
       "    .dataframe thead th {\n",
       "        text-align: right;\n",
       "    }\n",
       "</style>\n",
       "<table border=\"1\" class=\"dataframe\">\n",
       "  <thead>\n",
       "    <tr style=\"text-align: right;\">\n",
       "      <th></th>\n",
       "      <th>0</th>\n",
       "      <th>1</th>\n",
       "      <th>2</th>\n",
       "      <th>3</th>\n",
       "      <th>4</th>\n",
       "      <th>5</th>\n",
       "      <th>6</th>\n",
       "      <th>7</th>\n",
       "      <th>8</th>\n",
       "      <th>9</th>\n",
       "      <th>10</th>\n",
       "    </tr>\n",
       "  </thead>\n",
       "  <tbody>\n",
       "    <tr>\n",
       "      <th>0</th>\n",
       "      <td>1.400634</td>\n",
       "      <td>-0.847942</td>\n",
       "      <td>0.709792</td>\n",
       "      <td>1.460267</td>\n",
       "      <td>-1.174885</td>\n",
       "      <td>-0.778617</td>\n",
       "      <td>-0.681631</td>\n",
       "      <td>1.508321</td>\n",
       "      <td>-1.200589</td>\n",
       "      <td>-0.429556</td>\n",
       "      <td>-0.319408</td>\n",
       "    </tr>\n",
       "    <tr>\n",
       "      <th>1</th>\n",
       "      <td>-0.870710</td>\n",
       "      <td>1.223111</td>\n",
       "      <td>-1.078033</td>\n",
       "      <td>-0.024540</td>\n",
       "      <td>-0.339331</td>\n",
       "      <td>-0.778617</td>\n",
       "      <td>1.467069</td>\n",
       "      <td>-0.662989</td>\n",
       "      <td>0.833654</td>\n",
       "      <td>0.746007</td>\n",
       "      <td>0.494224</td>\n",
       "    </tr>\n",
       "    <tr>\n",
       "      <th>2</th>\n",
       "      <td>0.183707</td>\n",
       "      <td>-0.784152</td>\n",
       "      <td>0.693711</td>\n",
       "      <td>-0.455260</td>\n",
       "      <td>-0.339331</td>\n",
       "      <td>1.284329</td>\n",
       "      <td>-0.681631</td>\n",
       "      <td>-0.662989</td>\n",
       "      <td>-0.142244</td>\n",
       "      <td>-1.605119</td>\n",
       "      <td>-1.070453</td>\n",
       "    </tr>\n",
       "    <tr>\n",
       "      <th>3</th>\n",
       "      <td>0.186823</td>\n",
       "      <td>0.345366</td>\n",
       "      <td>0.472314</td>\n",
       "      <td>-0.987790</td>\n",
       "      <td>-0.339331</td>\n",
       "      <td>1.284329</td>\n",
       "      <td>-0.681631</td>\n",
       "      <td>-0.662989</td>\n",
       "      <td>0.926829</td>\n",
       "      <td>1.072552</td>\n",
       "      <td>1.057508</td>\n",
       "    </tr>\n",
       "    <tr>\n",
       "      <th>4</th>\n",
       "      <td>1.300846</td>\n",
       "      <td>-0.837146</td>\n",
       "      <td>1.289614</td>\n",
       "      <td>-0.230431</td>\n",
       "      <td>-1.174885</td>\n",
       "      <td>-0.778617</td>\n",
       "      <td>1.467069</td>\n",
       "      <td>-0.662989</td>\n",
       "      <td>1.723979</td>\n",
       "      <td>0.223535</td>\n",
       "      <td>-0.256821</td>\n",
       "    </tr>\n",
       "    <tr>\n",
       "      <th>...</th>\n",
       "      <td>...</td>\n",
       "      <td>...</td>\n",
       "      <td>...</td>\n",
       "      <td>...</td>\n",
       "      <td>...</td>\n",
       "      <td>...</td>\n",
       "      <td>...</td>\n",
       "      <td>...</td>\n",
       "      <td>...</td>\n",
       "      <td>...</td>\n",
       "      <td>...</td>\n",
       "    </tr>\n",
       "    <tr>\n",
       "      <th>5294</th>\n",
       "      <td>-1.069689</td>\n",
       "      <td>-1.449815</td>\n",
       "      <td>-2.096534</td>\n",
       "      <td>-0.901430</td>\n",
       "      <td>2.167333</td>\n",
       "      <td>-0.778617</td>\n",
       "      <td>1.467069</td>\n",
       "      <td>-0.662989</td>\n",
       "      <td>0.329354</td>\n",
       "      <td>-1.278574</td>\n",
       "      <td>-1.383388</td>\n",
       "    </tr>\n",
       "    <tr>\n",
       "      <th>5295</th>\n",
       "      <td>-1.080391</td>\n",
       "      <td>-1.458891</td>\n",
       "      <td>-1.614416</td>\n",
       "      <td>0.979465</td>\n",
       "      <td>0.496224</td>\n",
       "      <td>-0.778617</td>\n",
       "      <td>-0.681631</td>\n",
       "      <td>1.508321</td>\n",
       "      <td>-1.200589</td>\n",
       "      <td>-1.996973</td>\n",
       "      <td>-1.758911</td>\n",
       "    </tr>\n",
       "    <tr>\n",
       "      <th>5296</th>\n",
       "      <td>-0.034070</td>\n",
       "      <td>0.523877</td>\n",
       "      <td>0.419696</td>\n",
       "      <td>-1.422477</td>\n",
       "      <td>-0.339331</td>\n",
       "      <td>-0.778617</td>\n",
       "      <td>-0.681631</td>\n",
       "      <td>1.508321</td>\n",
       "      <td>-1.200589</td>\n",
       "      <td>1.464407</td>\n",
       "      <td>1.683379</td>\n",
       "    </tr>\n",
       "    <tr>\n",
       "      <th>5297</th>\n",
       "      <td>0.114270</td>\n",
       "      <td>-0.811677</td>\n",
       "      <td>-0.835635</td>\n",
       "      <td>-0.825356</td>\n",
       "      <td>0.496224</td>\n",
       "      <td>-0.778617</td>\n",
       "      <td>-0.681631</td>\n",
       "      <td>1.508321</td>\n",
       "      <td>-1.200589</td>\n",
       "      <td>-1.017337</td>\n",
       "      <td>-0.945279</td>\n",
       "    </tr>\n",
       "    <tr>\n",
       "      <th>5298</th>\n",
       "      <td>0.510983</td>\n",
       "      <td>-0.654995</td>\n",
       "      <td>-1.244964</td>\n",
       "      <td>-0.550928</td>\n",
       "      <td>-0.339331</td>\n",
       "      <td>1.284329</td>\n",
       "      <td>-0.681631</td>\n",
       "      <td>-0.662989</td>\n",
       "      <td>0.848692</td>\n",
       "      <td>-1.082646</td>\n",
       "      <td>-0.757518</td>\n",
       "    </tr>\n",
       "  </tbody>\n",
       "</table>\n",
       "<p>5299 rows × 11 columns</p>\n",
       "</div>"
      ],
      "text/plain": [
       "            0         1         2         3         4         5         6   \\\n",
       "0     1.400634 -0.847942  0.709792  1.460267 -1.174885 -0.778617 -0.681631   \n",
       "1    -0.870710  1.223111 -1.078033 -0.024540 -0.339331 -0.778617  1.467069   \n",
       "2     0.183707 -0.784152  0.693711 -0.455260 -0.339331  1.284329 -0.681631   \n",
       "3     0.186823  0.345366  0.472314 -0.987790 -0.339331  1.284329 -0.681631   \n",
       "4     1.300846 -0.837146  1.289614 -0.230431 -1.174885 -0.778617  1.467069   \n",
       "...        ...       ...       ...       ...       ...       ...       ...   \n",
       "5294 -1.069689 -1.449815 -2.096534 -0.901430  2.167333 -0.778617  1.467069   \n",
       "5295 -1.080391 -1.458891 -1.614416  0.979465  0.496224 -0.778617 -0.681631   \n",
       "5296 -0.034070  0.523877  0.419696 -1.422477 -0.339331 -0.778617 -0.681631   \n",
       "5297  0.114270 -0.811677 -0.835635 -0.825356  0.496224 -0.778617 -0.681631   \n",
       "5298  0.510983 -0.654995 -1.244964 -0.550928 -0.339331  1.284329 -0.681631   \n",
       "\n",
       "            7         8         9         10  \n",
       "0     1.508321 -1.200589 -0.429556 -0.319408  \n",
       "1    -0.662989  0.833654  0.746007  0.494224  \n",
       "2    -0.662989 -0.142244 -1.605119 -1.070453  \n",
       "3    -0.662989  0.926829  1.072552  1.057508  \n",
       "4    -0.662989  1.723979  0.223535 -0.256821  \n",
       "...        ...       ...       ...       ...  \n",
       "5294 -0.662989  0.329354 -1.278574 -1.383388  \n",
       "5295  1.508321 -1.200589 -1.996973 -1.758911  \n",
       "5296  1.508321 -1.200589  1.464407  1.683379  \n",
       "5297  1.508321 -1.200589 -1.017337 -0.945279  \n",
       "5298 -0.662989  0.848692 -1.082646 -0.757518  \n",
       "\n",
       "[5299 rows x 11 columns]"
      ]
     },
     "execution_count": 46,
     "metadata": {},
     "output_type": "execute_result"
    }
   ],
   "source": [
    "pd.DataFrame(X_fuel)"
   ]
  },
  {
   "cell_type": "code",
   "execution_count": 47,
   "metadata": {},
   "outputs": [
    {
     "data": {
      "text/html": [
       "<style>#sk-container-id-1 {color: black;background-color: white;}#sk-container-id-1 pre{padding: 0;}#sk-container-id-1 div.sk-toggleable {background-color: white;}#sk-container-id-1 label.sk-toggleable__label {cursor: pointer;display: block;width: 100%;margin-bottom: 0;padding: 0.3em;box-sizing: border-box;text-align: center;}#sk-container-id-1 label.sk-toggleable__label-arrow:before {content: \"▸\";float: left;margin-right: 0.25em;color: #696969;}#sk-container-id-1 label.sk-toggleable__label-arrow:hover:before {color: black;}#sk-container-id-1 div.sk-estimator:hover label.sk-toggleable__label-arrow:before {color: black;}#sk-container-id-1 div.sk-toggleable__content {max-height: 0;max-width: 0;overflow: hidden;text-align: left;background-color: #f0f8ff;}#sk-container-id-1 div.sk-toggleable__content pre {margin: 0.2em;color: black;border-radius: 0.25em;background-color: #f0f8ff;}#sk-container-id-1 input.sk-toggleable__control:checked~div.sk-toggleable__content {max-height: 200px;max-width: 100%;overflow: auto;}#sk-container-id-1 input.sk-toggleable__control:checked~label.sk-toggleable__label-arrow:before {content: \"▾\";}#sk-container-id-1 div.sk-estimator input.sk-toggleable__control:checked~label.sk-toggleable__label {background-color: #d4ebff;}#sk-container-id-1 div.sk-label input.sk-toggleable__control:checked~label.sk-toggleable__label {background-color: #d4ebff;}#sk-container-id-1 input.sk-hidden--visually {border: 0;clip: rect(1px 1px 1px 1px);clip: rect(1px, 1px, 1px, 1px);height: 1px;margin: -1px;overflow: hidden;padding: 0;position: absolute;width: 1px;}#sk-container-id-1 div.sk-estimator {font-family: monospace;background-color: #f0f8ff;border: 1px dotted black;border-radius: 0.25em;box-sizing: border-box;margin-bottom: 0.5em;}#sk-container-id-1 div.sk-estimator:hover {background-color: #d4ebff;}#sk-container-id-1 div.sk-parallel-item::after {content: \"\";width: 100%;border-bottom: 1px solid gray;flex-grow: 1;}#sk-container-id-1 div.sk-label:hover label.sk-toggleable__label {background-color: #d4ebff;}#sk-container-id-1 div.sk-serial::before {content: \"\";position: absolute;border-left: 1px solid gray;box-sizing: border-box;top: 0;bottom: 0;left: 50%;z-index: 0;}#sk-container-id-1 div.sk-serial {display: flex;flex-direction: column;align-items: center;background-color: white;padding-right: 0.2em;padding-left: 0.2em;position: relative;}#sk-container-id-1 div.sk-item {position: relative;z-index: 1;}#sk-container-id-1 div.sk-parallel {display: flex;align-items: stretch;justify-content: center;background-color: white;position: relative;}#sk-container-id-1 div.sk-item::before, #sk-container-id-1 div.sk-parallel-item::before {content: \"\";position: absolute;border-left: 1px solid gray;box-sizing: border-box;top: 0;bottom: 0;left: 50%;z-index: -1;}#sk-container-id-1 div.sk-parallel-item {display: flex;flex-direction: column;z-index: 1;position: relative;background-color: white;}#sk-container-id-1 div.sk-parallel-item:first-child::after {align-self: flex-end;width: 50%;}#sk-container-id-1 div.sk-parallel-item:last-child::after {align-self: flex-start;width: 50%;}#sk-container-id-1 div.sk-parallel-item:only-child::after {width: 0;}#sk-container-id-1 div.sk-dashed-wrapped {border: 1px dashed gray;margin: 0 0.4em 0.5em 0.4em;box-sizing: border-box;padding-bottom: 0.4em;background-color: white;}#sk-container-id-1 div.sk-label label {font-family: monospace;font-weight: bold;display: inline-block;line-height: 1.2em;}#sk-container-id-1 div.sk-label-container {text-align: center;}#sk-container-id-1 div.sk-container {/* jupyter's `normalize.less` sets `[hidden] { display: none; }` but bootstrap.min.css set `[hidden] { display: none !important; }` so we also need the `!important` here to be able to override the default hidden behavior on the sphinx rendered scikit-learn.org. See: https://github.com/scikit-learn/scikit-learn/issues/21755 */display: inline-block !important;position: relative;}#sk-container-id-1 div.sk-text-repr-fallback {display: none;}</style><div id=\"sk-container-id-1\" class=\"sk-top-container\"><div class=\"sk-text-repr-fallback\"><pre>StandardScaler()</pre><b>In a Jupyter environment, please rerun this cell to show the HTML representation or trust the notebook. <br />On GitHub, the HTML representation is unable to render, please try loading this page with nbviewer.org.</b></div><div class=\"sk-container\" hidden><div class=\"sk-item\"><div class=\"sk-estimator sk-toggleable\"><input class=\"sk-toggleable__control sk-hidden--visually\" id=\"sk-estimator-id-1\" type=\"checkbox\" checked><label for=\"sk-estimator-id-1\" class=\"sk-toggleable__label sk-toggleable__label-arrow\">StandardScaler</label><div class=\"sk-toggleable__content\"><pre>StandardScaler()</pre></div></div></div></div></div>"
      ],
      "text/plain": [
       "StandardScaler()"
      ]
     },
     "execution_count": 47,
     "metadata": {},
     "output_type": "execute_result"
    }
   ],
   "source": [
    "scaler"
   ]
  },
  {
   "cell_type": "code",
   "execution_count": 48,
   "metadata": {},
   "outputs": [],
   "source": [
    "# Initialiser les modèles\n",
    "models = {\n",
    "    'Linear': LinearRegression(),\n",
    "    'Ridge': Ridge(),\n",
    "    'Lasso': Lasso(),\n",
    "    'ElasticNet': ElasticNet(),\n",
    "    'SVR Linear': SVR(kernel='linear'),\n",
    "    'SVR Poly': SVR(kernel='poly'),\n",
    "    'SVR RBF': SVR(kernel='rbf'),\n",
    "    'SVR Sigmoid': SVR(kernel='sigmoid'),\n",
    "    # 'GPR' : GaussianProcessRegressor(1 * RBF(1.0)),\n",
    "    'Decision Tree': DecisionTreeRegressor(),\n",
    "    'Random Forest': RandomForestRegressor(),\n",
    "    'Gradient Boosting': GradientBoostingRegressor(),\n",
    "    'Ada Boost': AdaBoostRegressor(),\n",
    "    # 'GaussianNB': GaussianNB(),\n",
    "    'K-Nearest Neighbors': KNeighborsRegressor(),\n",
    "    'MLP': MLPRegressor(alpha=1)\n",
    "}"
   ]
  },
  {
   "cell_type": "markdown",
   "metadata": {},
   "source": [
    "### Entrainement des modeles avec kFold"
   ]
  },
  {
   "cell_type": "code",
   "execution_count": 49,
   "metadata": {},
   "outputs": [
    {
     "name": "stdout",
     "output_type": "stream",
     "text": [
      "Linear: 0.7448344431741354 (0.0073914711654859775)\n",
      "Ridge: 0.744914075700987 (0.007301684165151942)\n",
      "Lasso: 0.7312329020641314 (0.012125915860827322)\n",
      "ElasticNet: 0.6770041571084459 (0.014615456975455684)\n",
      "SVR Linear: 0.7293428766664174 (0.01203274448028278)\n",
      "SVR Poly: 0.6528702754454849 (0.030254773063768878)\n",
      "SVR RBF: 0.7316377996686412 (0.010577845763638474)\n",
      "SVR Sigmoid: 0.4683465515381533 (0.0500473657844515)\n",
      "Decision Tree: 0.6802296796616017 (0.030755132697515626)\n",
      "Random Forest: 0.8456668115368494 (0.01328224421290892)\n",
      "Gradient Boosting: 0.814730905976276 (0.0067680446898338124)\n",
      "Ada Boost: 0.778276656534427 (0.013898203932045716)\n",
      "K-Nearest Neighbors: 0.8061363393621435 (0.014480134067774372)\n"
     ]
    },
    {
     "name": "stderr",
     "output_type": "stream",
     "text": [
      "c:\\Users\\USER\\AppData\\Local\\Programs\\Python\\Python310\\lib\\site-packages\\sklearn\\neural_network\\_multilayer_perceptron.py:702: ConvergenceWarning: Stochastic Optimizer: Maximum iterations (200) reached and the optimization hasn't converged yet.\n",
      "  warnings.warn(\n",
      "c:\\Users\\USER\\AppData\\Local\\Programs\\Python\\Python310\\lib\\site-packages\\sklearn\\neural_network\\_multilayer_perceptron.py:702: ConvergenceWarning: Stochastic Optimizer: Maximum iterations (200) reached and the optimization hasn't converged yet.\n",
      "  warnings.warn(\n",
      "c:\\Users\\USER\\AppData\\Local\\Programs\\Python\\Python310\\lib\\site-packages\\sklearn\\neural_network\\_multilayer_perceptron.py:702: ConvergenceWarning: Stochastic Optimizer: Maximum iterations (200) reached and the optimization hasn't converged yet.\n",
      "  warnings.warn(\n",
      "c:\\Users\\USER\\AppData\\Local\\Programs\\Python\\Python310\\lib\\site-packages\\sklearn\\neural_network\\_multilayer_perceptron.py:702: ConvergenceWarning: Stochastic Optimizer: Maximum iterations (200) reached and the optimization hasn't converged yet.\n",
      "  warnings.warn(\n",
      "c:\\Users\\USER\\AppData\\Local\\Programs\\Python\\Python310\\lib\\site-packages\\sklearn\\neural_network\\_multilayer_perceptron.py:702: ConvergenceWarning: Stochastic Optimizer: Maximum iterations (200) reached and the optimization hasn't converged yet.\n",
      "  warnings.warn(\n",
      "c:\\Users\\USER\\AppData\\Local\\Programs\\Python\\Python310\\lib\\site-packages\\sklearn\\neural_network\\_multilayer_perceptron.py:702: ConvergenceWarning: Stochastic Optimizer: Maximum iterations (200) reached and the optimization hasn't converged yet.\n",
      "  warnings.warn(\n",
      "c:\\Users\\USER\\AppData\\Local\\Programs\\Python\\Python310\\lib\\site-packages\\sklearn\\neural_network\\_multilayer_perceptron.py:702: ConvergenceWarning: Stochastic Optimizer: Maximum iterations (200) reached and the optimization hasn't converged yet.\n",
      "  warnings.warn(\n",
      "c:\\Users\\USER\\AppData\\Local\\Programs\\Python\\Python310\\lib\\site-packages\\sklearn\\neural_network\\_multilayer_perceptron.py:702: ConvergenceWarning: Stochastic Optimizer: Maximum iterations (200) reached and the optimization hasn't converged yet.\n",
      "  warnings.warn(\n",
      "c:\\Users\\USER\\AppData\\Local\\Programs\\Python\\Python310\\lib\\site-packages\\sklearn\\neural_network\\_multilayer_perceptron.py:702: ConvergenceWarning: Stochastic Optimizer: Maximum iterations (200) reached and the optimization hasn't converged yet.\n",
      "  warnings.warn(\n"
     ]
    },
    {
     "name": "stdout",
     "output_type": "stream",
     "text": [
      "MLP: 0.8307197738104597 (0.01087288027805295)\n"
     ]
    },
    {
     "name": "stderr",
     "output_type": "stream",
     "text": [
      "c:\\Users\\USER\\AppData\\Local\\Programs\\Python\\Python310\\lib\\site-packages\\sklearn\\neural_network\\_multilayer_perceptron.py:702: ConvergenceWarning: Stochastic Optimizer: Maximum iterations (200) reached and the optimization hasn't converged yet.\n",
      "  warnings.warn(\n"
     ]
    }
   ],
   "source": [
    "from sklearn.model_selection import KFold, cross_val_score\n",
    "\n",
    "names = []\n",
    "result = []\n",
    "\n",
    "for name, model in models.items():\n",
    "    kfold = KFold(n_splits=10, random_state= 1, shuffle=True)\n",
    "    cv_results = cross_val_score(model, X_train, y_train, cv=kfold, scoring='r2')\n",
    "    result.append(cv_results)\n",
    "    names.append(name)\n",
    "    msg = \"{0}: {1} ({2})\".format(name, cv_results.mean(), cv_results.std())\n",
    "    print(msg)"
   ]
  },
  {
   "cell_type": "markdown",
   "metadata": {},
   "source": [
    "<div align=\"center\">\n",
    "\n",
    "$$\n",
    "\\mathbf{NRMSE} = \\frac{\\sqrt{MSE}}{y_{max} - y_{min}} = \\frac{\\sqrt{\\frac{1}{n} \\sum_{i=1}^{n} (y_i - \\hat{y}_i)^2}}{y_{max} - y_{min}}\n",
    "$$\n",
    "\n",
    "</div>\n"
   ]
  },
  {
   "cell_type": "code",
   "execution_count": 50,
   "metadata": {},
   "outputs": [],
   "source": [
    "def normalized_root_mean_squared_error(y_true, y_pred):\n",
    "    val_min, val_max = min(y_true), max(y_true)\n",
    "    mse = mean_squared_error(y_true, y_pred)\n",
    "    rmse = np.sqrt(mse)\n",
    "    return rmse / (val_max - val_min) "
   ]
  },
  {
   "cell_type": "code",
   "execution_count": 51,
   "metadata": {},
   "outputs": [
    {
     "data": {
      "text/html": [
       "<style>#sk-container-id-2 {color: black;background-color: white;}#sk-container-id-2 pre{padding: 0;}#sk-container-id-2 div.sk-toggleable {background-color: white;}#sk-container-id-2 label.sk-toggleable__label {cursor: pointer;display: block;width: 100%;margin-bottom: 0;padding: 0.3em;box-sizing: border-box;text-align: center;}#sk-container-id-2 label.sk-toggleable__label-arrow:before {content: \"▸\";float: left;margin-right: 0.25em;color: #696969;}#sk-container-id-2 label.sk-toggleable__label-arrow:hover:before {color: black;}#sk-container-id-2 div.sk-estimator:hover label.sk-toggleable__label-arrow:before {color: black;}#sk-container-id-2 div.sk-toggleable__content {max-height: 0;max-width: 0;overflow: hidden;text-align: left;background-color: #f0f8ff;}#sk-container-id-2 div.sk-toggleable__content pre {margin: 0.2em;color: black;border-radius: 0.25em;background-color: #f0f8ff;}#sk-container-id-2 input.sk-toggleable__control:checked~div.sk-toggleable__content {max-height: 200px;max-width: 100%;overflow: auto;}#sk-container-id-2 input.sk-toggleable__control:checked~label.sk-toggleable__label-arrow:before {content: \"▾\";}#sk-container-id-2 div.sk-estimator input.sk-toggleable__control:checked~label.sk-toggleable__label {background-color: #d4ebff;}#sk-container-id-2 div.sk-label input.sk-toggleable__control:checked~label.sk-toggleable__label {background-color: #d4ebff;}#sk-container-id-2 input.sk-hidden--visually {border: 0;clip: rect(1px 1px 1px 1px);clip: rect(1px, 1px, 1px, 1px);height: 1px;margin: -1px;overflow: hidden;padding: 0;position: absolute;width: 1px;}#sk-container-id-2 div.sk-estimator {font-family: monospace;background-color: #f0f8ff;border: 1px dotted black;border-radius: 0.25em;box-sizing: border-box;margin-bottom: 0.5em;}#sk-container-id-2 div.sk-estimator:hover {background-color: #d4ebff;}#sk-container-id-2 div.sk-parallel-item::after {content: \"\";width: 100%;border-bottom: 1px solid gray;flex-grow: 1;}#sk-container-id-2 div.sk-label:hover label.sk-toggleable__label {background-color: #d4ebff;}#sk-container-id-2 div.sk-serial::before {content: \"\";position: absolute;border-left: 1px solid gray;box-sizing: border-box;top: 0;bottom: 0;left: 50%;z-index: 0;}#sk-container-id-2 div.sk-serial {display: flex;flex-direction: column;align-items: center;background-color: white;padding-right: 0.2em;padding-left: 0.2em;position: relative;}#sk-container-id-2 div.sk-item {position: relative;z-index: 1;}#sk-container-id-2 div.sk-parallel {display: flex;align-items: stretch;justify-content: center;background-color: white;position: relative;}#sk-container-id-2 div.sk-item::before, #sk-container-id-2 div.sk-parallel-item::before {content: \"\";position: absolute;border-left: 1px solid gray;box-sizing: border-box;top: 0;bottom: 0;left: 50%;z-index: -1;}#sk-container-id-2 div.sk-parallel-item {display: flex;flex-direction: column;z-index: 1;position: relative;background-color: white;}#sk-container-id-2 div.sk-parallel-item:first-child::after {align-self: flex-end;width: 50%;}#sk-container-id-2 div.sk-parallel-item:last-child::after {align-self: flex-start;width: 50%;}#sk-container-id-2 div.sk-parallel-item:only-child::after {width: 0;}#sk-container-id-2 div.sk-dashed-wrapped {border: 1px dashed gray;margin: 0 0.4em 0.5em 0.4em;box-sizing: border-box;padding-bottom: 0.4em;background-color: white;}#sk-container-id-2 div.sk-label label {font-family: monospace;font-weight: bold;display: inline-block;line-height: 1.2em;}#sk-container-id-2 div.sk-label-container {text-align: center;}#sk-container-id-2 div.sk-container {/* jupyter's `normalize.less` sets `[hidden] { display: none; }` but bootstrap.min.css set `[hidden] { display: none !important; }` so we also need the `!important` here to be able to override the default hidden behavior on the sphinx rendered scikit-learn.org. See: https://github.com/scikit-learn/scikit-learn/issues/21755 */display: inline-block !important;position: relative;}#sk-container-id-2 div.sk-text-repr-fallback {display: none;}</style><div id=\"sk-container-id-2\" class=\"sk-top-container\"><div class=\"sk-text-repr-fallback\"><pre>LinearRegression()</pre><b>In a Jupyter environment, please rerun this cell to show the HTML representation or trust the notebook. <br />On GitHub, the HTML representation is unable to render, please try loading this page with nbviewer.org.</b></div><div class=\"sk-container\" hidden><div class=\"sk-item\"><div class=\"sk-estimator sk-toggleable\"><input class=\"sk-toggleable__control sk-hidden--visually\" id=\"sk-estimator-id-2\" type=\"checkbox\" checked><label for=\"sk-estimator-id-2\" class=\"sk-toggleable__label sk-toggleable__label-arrow\">LinearRegression</label><div class=\"sk-toggleable__content\"><pre>LinearRegression()</pre></div></div></div></div></div>"
      ],
      "text/plain": [
       "LinearRegression()"
      ]
     },
     "execution_count": 51,
     "metadata": {},
     "output_type": "execute_result"
    },
    {
     "name": "stdout",
     "output_type": "stream",
     "text": [
      "Train N. R. Mean Squared Error for Linear: 0.1079422758616363\n",
      "Test N. R. Mean Squared Error for Linear: 0.11083711921380436\n",
      "Train R2 Score Linear: 0.7466693815154224\n",
      "Test R2 Score Linear: 0.7316839262148358\n"
     ]
    },
    {
     "data": {
      "text/html": [
       "<style>#sk-container-id-3 {color: black;background-color: white;}#sk-container-id-3 pre{padding: 0;}#sk-container-id-3 div.sk-toggleable {background-color: white;}#sk-container-id-3 label.sk-toggleable__label {cursor: pointer;display: block;width: 100%;margin-bottom: 0;padding: 0.3em;box-sizing: border-box;text-align: center;}#sk-container-id-3 label.sk-toggleable__label-arrow:before {content: \"▸\";float: left;margin-right: 0.25em;color: #696969;}#sk-container-id-3 label.sk-toggleable__label-arrow:hover:before {color: black;}#sk-container-id-3 div.sk-estimator:hover label.sk-toggleable__label-arrow:before {color: black;}#sk-container-id-3 div.sk-toggleable__content {max-height: 0;max-width: 0;overflow: hidden;text-align: left;background-color: #f0f8ff;}#sk-container-id-3 div.sk-toggleable__content pre {margin: 0.2em;color: black;border-radius: 0.25em;background-color: #f0f8ff;}#sk-container-id-3 input.sk-toggleable__control:checked~div.sk-toggleable__content {max-height: 200px;max-width: 100%;overflow: auto;}#sk-container-id-3 input.sk-toggleable__control:checked~label.sk-toggleable__label-arrow:before {content: \"▾\";}#sk-container-id-3 div.sk-estimator input.sk-toggleable__control:checked~label.sk-toggleable__label {background-color: #d4ebff;}#sk-container-id-3 div.sk-label input.sk-toggleable__control:checked~label.sk-toggleable__label {background-color: #d4ebff;}#sk-container-id-3 input.sk-hidden--visually {border: 0;clip: rect(1px 1px 1px 1px);clip: rect(1px, 1px, 1px, 1px);height: 1px;margin: -1px;overflow: hidden;padding: 0;position: absolute;width: 1px;}#sk-container-id-3 div.sk-estimator {font-family: monospace;background-color: #f0f8ff;border: 1px dotted black;border-radius: 0.25em;box-sizing: border-box;margin-bottom: 0.5em;}#sk-container-id-3 div.sk-estimator:hover {background-color: #d4ebff;}#sk-container-id-3 div.sk-parallel-item::after {content: \"\";width: 100%;border-bottom: 1px solid gray;flex-grow: 1;}#sk-container-id-3 div.sk-label:hover label.sk-toggleable__label {background-color: #d4ebff;}#sk-container-id-3 div.sk-serial::before {content: \"\";position: absolute;border-left: 1px solid gray;box-sizing: border-box;top: 0;bottom: 0;left: 50%;z-index: 0;}#sk-container-id-3 div.sk-serial {display: flex;flex-direction: column;align-items: center;background-color: white;padding-right: 0.2em;padding-left: 0.2em;position: relative;}#sk-container-id-3 div.sk-item {position: relative;z-index: 1;}#sk-container-id-3 div.sk-parallel {display: flex;align-items: stretch;justify-content: center;background-color: white;position: relative;}#sk-container-id-3 div.sk-item::before, #sk-container-id-3 div.sk-parallel-item::before {content: \"\";position: absolute;border-left: 1px solid gray;box-sizing: border-box;top: 0;bottom: 0;left: 50%;z-index: -1;}#sk-container-id-3 div.sk-parallel-item {display: flex;flex-direction: column;z-index: 1;position: relative;background-color: white;}#sk-container-id-3 div.sk-parallel-item:first-child::after {align-self: flex-end;width: 50%;}#sk-container-id-3 div.sk-parallel-item:last-child::after {align-self: flex-start;width: 50%;}#sk-container-id-3 div.sk-parallel-item:only-child::after {width: 0;}#sk-container-id-3 div.sk-dashed-wrapped {border: 1px dashed gray;margin: 0 0.4em 0.5em 0.4em;box-sizing: border-box;padding-bottom: 0.4em;background-color: white;}#sk-container-id-3 div.sk-label label {font-family: monospace;font-weight: bold;display: inline-block;line-height: 1.2em;}#sk-container-id-3 div.sk-label-container {text-align: center;}#sk-container-id-3 div.sk-container {/* jupyter's `normalize.less` sets `[hidden] { display: none; }` but bootstrap.min.css set `[hidden] { display: none !important; }` so we also need the `!important` here to be able to override the default hidden behavior on the sphinx rendered scikit-learn.org. See: https://github.com/scikit-learn/scikit-learn/issues/21755 */display: inline-block !important;position: relative;}#sk-container-id-3 div.sk-text-repr-fallback {display: none;}</style><div id=\"sk-container-id-3\" class=\"sk-top-container\"><div class=\"sk-text-repr-fallback\"><pre>Ridge()</pre><b>In a Jupyter environment, please rerun this cell to show the HTML representation or trust the notebook. <br />On GitHub, the HTML representation is unable to render, please try loading this page with nbviewer.org.</b></div><div class=\"sk-container\" hidden><div class=\"sk-item\"><div class=\"sk-estimator sk-toggleable\"><input class=\"sk-toggleable__control sk-hidden--visually\" id=\"sk-estimator-id-3\" type=\"checkbox\" checked><label for=\"sk-estimator-id-3\" class=\"sk-toggleable__label sk-toggleable__label-arrow\">Ridge</label><div class=\"sk-toggleable__content\"><pre>Ridge()</pre></div></div></div></div></div>"
      ],
      "text/plain": [
       "Ridge()"
      ]
     },
     "execution_count": 51,
     "metadata": {},
     "output_type": "execute_result"
    },
    {
     "name": "stdout",
     "output_type": "stream",
     "text": [
      "Train N. R. Mean Squared Error for Ridge: 0.10794169056631525\n",
      "Test N. R. Mean Squared Error for Ridge: 0.11081714938628114\n",
      "Train R2 Score Ridge: 0.7466721287768174\n",
      "Test R2 Score Ridge: 0.7317806039893954\n"
     ]
    },
    {
     "data": {
      "text/html": [
       "<style>#sk-container-id-4 {color: black;background-color: white;}#sk-container-id-4 pre{padding: 0;}#sk-container-id-4 div.sk-toggleable {background-color: white;}#sk-container-id-4 label.sk-toggleable__label {cursor: pointer;display: block;width: 100%;margin-bottom: 0;padding: 0.3em;box-sizing: border-box;text-align: center;}#sk-container-id-4 label.sk-toggleable__label-arrow:before {content: \"▸\";float: left;margin-right: 0.25em;color: #696969;}#sk-container-id-4 label.sk-toggleable__label-arrow:hover:before {color: black;}#sk-container-id-4 div.sk-estimator:hover label.sk-toggleable__label-arrow:before {color: black;}#sk-container-id-4 div.sk-toggleable__content {max-height: 0;max-width: 0;overflow: hidden;text-align: left;background-color: #f0f8ff;}#sk-container-id-4 div.sk-toggleable__content pre {margin: 0.2em;color: black;border-radius: 0.25em;background-color: #f0f8ff;}#sk-container-id-4 input.sk-toggleable__control:checked~div.sk-toggleable__content {max-height: 200px;max-width: 100%;overflow: auto;}#sk-container-id-4 input.sk-toggleable__control:checked~label.sk-toggleable__label-arrow:before {content: \"▾\";}#sk-container-id-4 div.sk-estimator input.sk-toggleable__control:checked~label.sk-toggleable__label {background-color: #d4ebff;}#sk-container-id-4 div.sk-label input.sk-toggleable__control:checked~label.sk-toggleable__label {background-color: #d4ebff;}#sk-container-id-4 input.sk-hidden--visually {border: 0;clip: rect(1px 1px 1px 1px);clip: rect(1px, 1px, 1px, 1px);height: 1px;margin: -1px;overflow: hidden;padding: 0;position: absolute;width: 1px;}#sk-container-id-4 div.sk-estimator {font-family: monospace;background-color: #f0f8ff;border: 1px dotted black;border-radius: 0.25em;box-sizing: border-box;margin-bottom: 0.5em;}#sk-container-id-4 div.sk-estimator:hover {background-color: #d4ebff;}#sk-container-id-4 div.sk-parallel-item::after {content: \"\";width: 100%;border-bottom: 1px solid gray;flex-grow: 1;}#sk-container-id-4 div.sk-label:hover label.sk-toggleable__label {background-color: #d4ebff;}#sk-container-id-4 div.sk-serial::before {content: \"\";position: absolute;border-left: 1px solid gray;box-sizing: border-box;top: 0;bottom: 0;left: 50%;z-index: 0;}#sk-container-id-4 div.sk-serial {display: flex;flex-direction: column;align-items: center;background-color: white;padding-right: 0.2em;padding-left: 0.2em;position: relative;}#sk-container-id-4 div.sk-item {position: relative;z-index: 1;}#sk-container-id-4 div.sk-parallel {display: flex;align-items: stretch;justify-content: center;background-color: white;position: relative;}#sk-container-id-4 div.sk-item::before, #sk-container-id-4 div.sk-parallel-item::before {content: \"\";position: absolute;border-left: 1px solid gray;box-sizing: border-box;top: 0;bottom: 0;left: 50%;z-index: -1;}#sk-container-id-4 div.sk-parallel-item {display: flex;flex-direction: column;z-index: 1;position: relative;background-color: white;}#sk-container-id-4 div.sk-parallel-item:first-child::after {align-self: flex-end;width: 50%;}#sk-container-id-4 div.sk-parallel-item:last-child::after {align-self: flex-start;width: 50%;}#sk-container-id-4 div.sk-parallel-item:only-child::after {width: 0;}#sk-container-id-4 div.sk-dashed-wrapped {border: 1px dashed gray;margin: 0 0.4em 0.5em 0.4em;box-sizing: border-box;padding-bottom: 0.4em;background-color: white;}#sk-container-id-4 div.sk-label label {font-family: monospace;font-weight: bold;display: inline-block;line-height: 1.2em;}#sk-container-id-4 div.sk-label-container {text-align: center;}#sk-container-id-4 div.sk-container {/* jupyter's `normalize.less` sets `[hidden] { display: none; }` but bootstrap.min.css set `[hidden] { display: none !important; }` so we also need the `!important` here to be able to override the default hidden behavior on the sphinx rendered scikit-learn.org. See: https://github.com/scikit-learn/scikit-learn/issues/21755 */display: inline-block !important;position: relative;}#sk-container-id-4 div.sk-text-repr-fallback {display: none;}</style><div id=\"sk-container-id-4\" class=\"sk-top-container\"><div class=\"sk-text-repr-fallback\"><pre>Lasso()</pre><b>In a Jupyter environment, please rerun this cell to show the HTML representation or trust the notebook. <br />On GitHub, the HTML representation is unable to render, please try loading this page with nbviewer.org.</b></div><div class=\"sk-container\" hidden><div class=\"sk-item\"><div class=\"sk-estimator sk-toggleable\"><input class=\"sk-toggleable__control sk-hidden--visually\" id=\"sk-estimator-id-4\" type=\"checkbox\" checked><label for=\"sk-estimator-id-4\" class=\"sk-toggleable__label sk-toggleable__label-arrow\">Lasso</label><div class=\"sk-toggleable__content\"><pre>Lasso()</pre></div></div></div></div></div>"
      ],
      "text/plain": [
       "Lasso()"
      ]
     },
     "execution_count": 51,
     "metadata": {},
     "output_type": "execute_result"
    },
    {
     "name": "stdout",
     "output_type": "stream",
     "text": [
      "Train N. R. Mean Squared Error for Lasso: 0.11098641216384439\n",
      "Test N. R. Mean Squared Error for Lasso: 0.11262316582621486\n",
      "Train R2 Score Lasso: 0.7321792839042062\n",
      "Test R2 Score Lasso: 0.7229668795909022\n"
     ]
    },
    {
     "data": {
      "text/html": [
       "<style>#sk-container-id-5 {color: black;background-color: white;}#sk-container-id-5 pre{padding: 0;}#sk-container-id-5 div.sk-toggleable {background-color: white;}#sk-container-id-5 label.sk-toggleable__label {cursor: pointer;display: block;width: 100%;margin-bottom: 0;padding: 0.3em;box-sizing: border-box;text-align: center;}#sk-container-id-5 label.sk-toggleable__label-arrow:before {content: \"▸\";float: left;margin-right: 0.25em;color: #696969;}#sk-container-id-5 label.sk-toggleable__label-arrow:hover:before {color: black;}#sk-container-id-5 div.sk-estimator:hover label.sk-toggleable__label-arrow:before {color: black;}#sk-container-id-5 div.sk-toggleable__content {max-height: 0;max-width: 0;overflow: hidden;text-align: left;background-color: #f0f8ff;}#sk-container-id-5 div.sk-toggleable__content pre {margin: 0.2em;color: black;border-radius: 0.25em;background-color: #f0f8ff;}#sk-container-id-5 input.sk-toggleable__control:checked~div.sk-toggleable__content {max-height: 200px;max-width: 100%;overflow: auto;}#sk-container-id-5 input.sk-toggleable__control:checked~label.sk-toggleable__label-arrow:before {content: \"▾\";}#sk-container-id-5 div.sk-estimator input.sk-toggleable__control:checked~label.sk-toggleable__label {background-color: #d4ebff;}#sk-container-id-5 div.sk-label input.sk-toggleable__control:checked~label.sk-toggleable__label {background-color: #d4ebff;}#sk-container-id-5 input.sk-hidden--visually {border: 0;clip: rect(1px 1px 1px 1px);clip: rect(1px, 1px, 1px, 1px);height: 1px;margin: -1px;overflow: hidden;padding: 0;position: absolute;width: 1px;}#sk-container-id-5 div.sk-estimator {font-family: monospace;background-color: #f0f8ff;border: 1px dotted black;border-radius: 0.25em;box-sizing: border-box;margin-bottom: 0.5em;}#sk-container-id-5 div.sk-estimator:hover {background-color: #d4ebff;}#sk-container-id-5 div.sk-parallel-item::after {content: \"\";width: 100%;border-bottom: 1px solid gray;flex-grow: 1;}#sk-container-id-5 div.sk-label:hover label.sk-toggleable__label {background-color: #d4ebff;}#sk-container-id-5 div.sk-serial::before {content: \"\";position: absolute;border-left: 1px solid gray;box-sizing: border-box;top: 0;bottom: 0;left: 50%;z-index: 0;}#sk-container-id-5 div.sk-serial {display: flex;flex-direction: column;align-items: center;background-color: white;padding-right: 0.2em;padding-left: 0.2em;position: relative;}#sk-container-id-5 div.sk-item {position: relative;z-index: 1;}#sk-container-id-5 div.sk-parallel {display: flex;align-items: stretch;justify-content: center;background-color: white;position: relative;}#sk-container-id-5 div.sk-item::before, #sk-container-id-5 div.sk-parallel-item::before {content: \"\";position: absolute;border-left: 1px solid gray;box-sizing: border-box;top: 0;bottom: 0;left: 50%;z-index: -1;}#sk-container-id-5 div.sk-parallel-item {display: flex;flex-direction: column;z-index: 1;position: relative;background-color: white;}#sk-container-id-5 div.sk-parallel-item:first-child::after {align-self: flex-end;width: 50%;}#sk-container-id-5 div.sk-parallel-item:last-child::after {align-self: flex-start;width: 50%;}#sk-container-id-5 div.sk-parallel-item:only-child::after {width: 0;}#sk-container-id-5 div.sk-dashed-wrapped {border: 1px dashed gray;margin: 0 0.4em 0.5em 0.4em;box-sizing: border-box;padding-bottom: 0.4em;background-color: white;}#sk-container-id-5 div.sk-label label {font-family: monospace;font-weight: bold;display: inline-block;line-height: 1.2em;}#sk-container-id-5 div.sk-label-container {text-align: center;}#sk-container-id-5 div.sk-container {/* jupyter's `normalize.less` sets `[hidden] { display: none; }` but bootstrap.min.css set `[hidden] { display: none !important; }` so we also need the `!important` here to be able to override the default hidden behavior on the sphinx rendered scikit-learn.org. See: https://github.com/scikit-learn/scikit-learn/issues/21755 */display: inline-block !important;position: relative;}#sk-container-id-5 div.sk-text-repr-fallback {display: none;}</style><div id=\"sk-container-id-5\" class=\"sk-top-container\"><div class=\"sk-text-repr-fallback\"><pre>ElasticNet()</pre><b>In a Jupyter environment, please rerun this cell to show the HTML representation or trust the notebook. <br />On GitHub, the HTML representation is unable to render, please try loading this page with nbviewer.org.</b></div><div class=\"sk-container\" hidden><div class=\"sk-item\"><div class=\"sk-estimator sk-toggleable\"><input class=\"sk-toggleable__control sk-hidden--visually\" id=\"sk-estimator-id-5\" type=\"checkbox\" checked><label for=\"sk-estimator-id-5\" class=\"sk-toggleable__label sk-toggleable__label-arrow\">ElasticNet</label><div class=\"sk-toggleable__content\"><pre>ElasticNet()</pre></div></div></div></div></div>"
      ],
      "text/plain": [
       "ElasticNet()"
      ]
     },
     "execution_count": 51,
     "metadata": {},
     "output_type": "execute_result"
    },
    {
     "name": "stdout",
     "output_type": "stream",
     "text": [
      "Train N. R. Mean Squared Error for ElasticNet: 0.12175603795281749\n",
      "Test N. R. Mean Squared Error for ElasticNet: 0.12184616504660983\n",
      "Train R2 Score ElasticNet: 0.6776812597004138\n",
      "Test R2 Score ElasticNet: 0.675735084957779\n"
     ]
    },
    {
     "data": {
      "text/html": [
       "<style>#sk-container-id-6 {color: black;background-color: white;}#sk-container-id-6 pre{padding: 0;}#sk-container-id-6 div.sk-toggleable {background-color: white;}#sk-container-id-6 label.sk-toggleable__label {cursor: pointer;display: block;width: 100%;margin-bottom: 0;padding: 0.3em;box-sizing: border-box;text-align: center;}#sk-container-id-6 label.sk-toggleable__label-arrow:before {content: \"▸\";float: left;margin-right: 0.25em;color: #696969;}#sk-container-id-6 label.sk-toggleable__label-arrow:hover:before {color: black;}#sk-container-id-6 div.sk-estimator:hover label.sk-toggleable__label-arrow:before {color: black;}#sk-container-id-6 div.sk-toggleable__content {max-height: 0;max-width: 0;overflow: hidden;text-align: left;background-color: #f0f8ff;}#sk-container-id-6 div.sk-toggleable__content pre {margin: 0.2em;color: black;border-radius: 0.25em;background-color: #f0f8ff;}#sk-container-id-6 input.sk-toggleable__control:checked~div.sk-toggleable__content {max-height: 200px;max-width: 100%;overflow: auto;}#sk-container-id-6 input.sk-toggleable__control:checked~label.sk-toggleable__label-arrow:before {content: \"▾\";}#sk-container-id-6 div.sk-estimator input.sk-toggleable__control:checked~label.sk-toggleable__label {background-color: #d4ebff;}#sk-container-id-6 div.sk-label input.sk-toggleable__control:checked~label.sk-toggleable__label {background-color: #d4ebff;}#sk-container-id-6 input.sk-hidden--visually {border: 0;clip: rect(1px 1px 1px 1px);clip: rect(1px, 1px, 1px, 1px);height: 1px;margin: -1px;overflow: hidden;padding: 0;position: absolute;width: 1px;}#sk-container-id-6 div.sk-estimator {font-family: monospace;background-color: #f0f8ff;border: 1px dotted black;border-radius: 0.25em;box-sizing: border-box;margin-bottom: 0.5em;}#sk-container-id-6 div.sk-estimator:hover {background-color: #d4ebff;}#sk-container-id-6 div.sk-parallel-item::after {content: \"\";width: 100%;border-bottom: 1px solid gray;flex-grow: 1;}#sk-container-id-6 div.sk-label:hover label.sk-toggleable__label {background-color: #d4ebff;}#sk-container-id-6 div.sk-serial::before {content: \"\";position: absolute;border-left: 1px solid gray;box-sizing: border-box;top: 0;bottom: 0;left: 50%;z-index: 0;}#sk-container-id-6 div.sk-serial {display: flex;flex-direction: column;align-items: center;background-color: white;padding-right: 0.2em;padding-left: 0.2em;position: relative;}#sk-container-id-6 div.sk-item {position: relative;z-index: 1;}#sk-container-id-6 div.sk-parallel {display: flex;align-items: stretch;justify-content: center;background-color: white;position: relative;}#sk-container-id-6 div.sk-item::before, #sk-container-id-6 div.sk-parallel-item::before {content: \"\";position: absolute;border-left: 1px solid gray;box-sizing: border-box;top: 0;bottom: 0;left: 50%;z-index: -1;}#sk-container-id-6 div.sk-parallel-item {display: flex;flex-direction: column;z-index: 1;position: relative;background-color: white;}#sk-container-id-6 div.sk-parallel-item:first-child::after {align-self: flex-end;width: 50%;}#sk-container-id-6 div.sk-parallel-item:last-child::after {align-self: flex-start;width: 50%;}#sk-container-id-6 div.sk-parallel-item:only-child::after {width: 0;}#sk-container-id-6 div.sk-dashed-wrapped {border: 1px dashed gray;margin: 0 0.4em 0.5em 0.4em;box-sizing: border-box;padding-bottom: 0.4em;background-color: white;}#sk-container-id-6 div.sk-label label {font-family: monospace;font-weight: bold;display: inline-block;line-height: 1.2em;}#sk-container-id-6 div.sk-label-container {text-align: center;}#sk-container-id-6 div.sk-container {/* jupyter's `normalize.less` sets `[hidden] { display: none; }` but bootstrap.min.css set `[hidden] { display: none !important; }` so we also need the `!important` here to be able to override the default hidden behavior on the sphinx rendered scikit-learn.org. See: https://github.com/scikit-learn/scikit-learn/issues/21755 */display: inline-block !important;position: relative;}#sk-container-id-6 div.sk-text-repr-fallback {display: none;}</style><div id=\"sk-container-id-6\" class=\"sk-top-container\"><div class=\"sk-text-repr-fallback\"><pre>SVR(kernel=&#x27;linear&#x27;)</pre><b>In a Jupyter environment, please rerun this cell to show the HTML representation or trust the notebook. <br />On GitHub, the HTML representation is unable to render, please try loading this page with nbviewer.org.</b></div><div class=\"sk-container\" hidden><div class=\"sk-item\"><div class=\"sk-estimator sk-toggleable\"><input class=\"sk-toggleable__control sk-hidden--visually\" id=\"sk-estimator-id-6\" type=\"checkbox\" checked><label for=\"sk-estimator-id-6\" class=\"sk-toggleable__label sk-toggleable__label-arrow\">SVR</label><div class=\"sk-toggleable__content\"><pre>SVR(kernel=&#x27;linear&#x27;)</pre></div></div></div></div></div>"
      ],
      "text/plain": [
       "SVR(kernel='linear')"
      ]
     },
     "execution_count": 51,
     "metadata": {},
     "output_type": "execute_result"
    },
    {
     "name": "stdout",
     "output_type": "stream",
     "text": [
      "Train N. R. Mean Squared Error for SVR Linear: 0.11131771808375739\n",
      "Test N. R. Mean Squared Error for SVR Linear: 0.11307807412484767\n",
      "Train R2 Score SVR Linear: 0.7305779523181528\n",
      "Test R2 Score SVR Linear: 0.7207243714104603\n"
     ]
    },
    {
     "data": {
      "text/html": [
       "<style>#sk-container-id-7 {color: black;background-color: white;}#sk-container-id-7 pre{padding: 0;}#sk-container-id-7 div.sk-toggleable {background-color: white;}#sk-container-id-7 label.sk-toggleable__label {cursor: pointer;display: block;width: 100%;margin-bottom: 0;padding: 0.3em;box-sizing: border-box;text-align: center;}#sk-container-id-7 label.sk-toggleable__label-arrow:before {content: \"▸\";float: left;margin-right: 0.25em;color: #696969;}#sk-container-id-7 label.sk-toggleable__label-arrow:hover:before {color: black;}#sk-container-id-7 div.sk-estimator:hover label.sk-toggleable__label-arrow:before {color: black;}#sk-container-id-7 div.sk-toggleable__content {max-height: 0;max-width: 0;overflow: hidden;text-align: left;background-color: #f0f8ff;}#sk-container-id-7 div.sk-toggleable__content pre {margin: 0.2em;color: black;border-radius: 0.25em;background-color: #f0f8ff;}#sk-container-id-7 input.sk-toggleable__control:checked~div.sk-toggleable__content {max-height: 200px;max-width: 100%;overflow: auto;}#sk-container-id-7 input.sk-toggleable__control:checked~label.sk-toggleable__label-arrow:before {content: \"▾\";}#sk-container-id-7 div.sk-estimator input.sk-toggleable__control:checked~label.sk-toggleable__label {background-color: #d4ebff;}#sk-container-id-7 div.sk-label input.sk-toggleable__control:checked~label.sk-toggleable__label {background-color: #d4ebff;}#sk-container-id-7 input.sk-hidden--visually {border: 0;clip: rect(1px 1px 1px 1px);clip: rect(1px, 1px, 1px, 1px);height: 1px;margin: -1px;overflow: hidden;padding: 0;position: absolute;width: 1px;}#sk-container-id-7 div.sk-estimator {font-family: monospace;background-color: #f0f8ff;border: 1px dotted black;border-radius: 0.25em;box-sizing: border-box;margin-bottom: 0.5em;}#sk-container-id-7 div.sk-estimator:hover {background-color: #d4ebff;}#sk-container-id-7 div.sk-parallel-item::after {content: \"\";width: 100%;border-bottom: 1px solid gray;flex-grow: 1;}#sk-container-id-7 div.sk-label:hover label.sk-toggleable__label {background-color: #d4ebff;}#sk-container-id-7 div.sk-serial::before {content: \"\";position: absolute;border-left: 1px solid gray;box-sizing: border-box;top: 0;bottom: 0;left: 50%;z-index: 0;}#sk-container-id-7 div.sk-serial {display: flex;flex-direction: column;align-items: center;background-color: white;padding-right: 0.2em;padding-left: 0.2em;position: relative;}#sk-container-id-7 div.sk-item {position: relative;z-index: 1;}#sk-container-id-7 div.sk-parallel {display: flex;align-items: stretch;justify-content: center;background-color: white;position: relative;}#sk-container-id-7 div.sk-item::before, #sk-container-id-7 div.sk-parallel-item::before {content: \"\";position: absolute;border-left: 1px solid gray;box-sizing: border-box;top: 0;bottom: 0;left: 50%;z-index: -1;}#sk-container-id-7 div.sk-parallel-item {display: flex;flex-direction: column;z-index: 1;position: relative;background-color: white;}#sk-container-id-7 div.sk-parallel-item:first-child::after {align-self: flex-end;width: 50%;}#sk-container-id-7 div.sk-parallel-item:last-child::after {align-self: flex-start;width: 50%;}#sk-container-id-7 div.sk-parallel-item:only-child::after {width: 0;}#sk-container-id-7 div.sk-dashed-wrapped {border: 1px dashed gray;margin: 0 0.4em 0.5em 0.4em;box-sizing: border-box;padding-bottom: 0.4em;background-color: white;}#sk-container-id-7 div.sk-label label {font-family: monospace;font-weight: bold;display: inline-block;line-height: 1.2em;}#sk-container-id-7 div.sk-label-container {text-align: center;}#sk-container-id-7 div.sk-container {/* jupyter's `normalize.less` sets `[hidden] { display: none; }` but bootstrap.min.css set `[hidden] { display: none !important; }` so we also need the `!important` here to be able to override the default hidden behavior on the sphinx rendered scikit-learn.org. See: https://github.com/scikit-learn/scikit-learn/issues/21755 */display: inline-block !important;position: relative;}#sk-container-id-7 div.sk-text-repr-fallback {display: none;}</style><div id=\"sk-container-id-7\" class=\"sk-top-container\"><div class=\"sk-text-repr-fallback\"><pre>SVR(kernel=&#x27;poly&#x27;)</pre><b>In a Jupyter environment, please rerun this cell to show the HTML representation or trust the notebook. <br />On GitHub, the HTML representation is unable to render, please try loading this page with nbviewer.org.</b></div><div class=\"sk-container\" hidden><div class=\"sk-item\"><div class=\"sk-estimator sk-toggleable\"><input class=\"sk-toggleable__control sk-hidden--visually\" id=\"sk-estimator-id-7\" type=\"checkbox\" checked><label for=\"sk-estimator-id-7\" class=\"sk-toggleable__label sk-toggleable__label-arrow\">SVR</label><div class=\"sk-toggleable__content\"><pre>SVR(kernel=&#x27;poly&#x27;)</pre></div></div></div></div></div>"
      ],
      "text/plain": [
       "SVR(kernel='poly')"
      ]
     },
     "execution_count": 51,
     "metadata": {},
     "output_type": "execute_result"
    },
    {
     "name": "stdout",
     "output_type": "stream",
     "text": [
      "Train N. R. Mean Squared Error for SVR Poly: 0.12383782719760872\n",
      "Test N. R. Mean Squared Error for SVR Poly: 0.12644760096045884\n",
      "Train R2 Score SVR Poly: 0.6665649966045695\n",
      "Test R2 Score SVR Poly: 0.6507813576401887\n"
     ]
    },
    {
     "data": {
      "text/html": [
       "<style>#sk-container-id-8 {color: black;background-color: white;}#sk-container-id-8 pre{padding: 0;}#sk-container-id-8 div.sk-toggleable {background-color: white;}#sk-container-id-8 label.sk-toggleable__label {cursor: pointer;display: block;width: 100%;margin-bottom: 0;padding: 0.3em;box-sizing: border-box;text-align: center;}#sk-container-id-8 label.sk-toggleable__label-arrow:before {content: \"▸\";float: left;margin-right: 0.25em;color: #696969;}#sk-container-id-8 label.sk-toggleable__label-arrow:hover:before {color: black;}#sk-container-id-8 div.sk-estimator:hover label.sk-toggleable__label-arrow:before {color: black;}#sk-container-id-8 div.sk-toggleable__content {max-height: 0;max-width: 0;overflow: hidden;text-align: left;background-color: #f0f8ff;}#sk-container-id-8 div.sk-toggleable__content pre {margin: 0.2em;color: black;border-radius: 0.25em;background-color: #f0f8ff;}#sk-container-id-8 input.sk-toggleable__control:checked~div.sk-toggleable__content {max-height: 200px;max-width: 100%;overflow: auto;}#sk-container-id-8 input.sk-toggleable__control:checked~label.sk-toggleable__label-arrow:before {content: \"▾\";}#sk-container-id-8 div.sk-estimator input.sk-toggleable__control:checked~label.sk-toggleable__label {background-color: #d4ebff;}#sk-container-id-8 div.sk-label input.sk-toggleable__control:checked~label.sk-toggleable__label {background-color: #d4ebff;}#sk-container-id-8 input.sk-hidden--visually {border: 0;clip: rect(1px 1px 1px 1px);clip: rect(1px, 1px, 1px, 1px);height: 1px;margin: -1px;overflow: hidden;padding: 0;position: absolute;width: 1px;}#sk-container-id-8 div.sk-estimator {font-family: monospace;background-color: #f0f8ff;border: 1px dotted black;border-radius: 0.25em;box-sizing: border-box;margin-bottom: 0.5em;}#sk-container-id-8 div.sk-estimator:hover {background-color: #d4ebff;}#sk-container-id-8 div.sk-parallel-item::after {content: \"\";width: 100%;border-bottom: 1px solid gray;flex-grow: 1;}#sk-container-id-8 div.sk-label:hover label.sk-toggleable__label {background-color: #d4ebff;}#sk-container-id-8 div.sk-serial::before {content: \"\";position: absolute;border-left: 1px solid gray;box-sizing: border-box;top: 0;bottom: 0;left: 50%;z-index: 0;}#sk-container-id-8 div.sk-serial {display: flex;flex-direction: column;align-items: center;background-color: white;padding-right: 0.2em;padding-left: 0.2em;position: relative;}#sk-container-id-8 div.sk-item {position: relative;z-index: 1;}#sk-container-id-8 div.sk-parallel {display: flex;align-items: stretch;justify-content: center;background-color: white;position: relative;}#sk-container-id-8 div.sk-item::before, #sk-container-id-8 div.sk-parallel-item::before {content: \"\";position: absolute;border-left: 1px solid gray;box-sizing: border-box;top: 0;bottom: 0;left: 50%;z-index: -1;}#sk-container-id-8 div.sk-parallel-item {display: flex;flex-direction: column;z-index: 1;position: relative;background-color: white;}#sk-container-id-8 div.sk-parallel-item:first-child::after {align-self: flex-end;width: 50%;}#sk-container-id-8 div.sk-parallel-item:last-child::after {align-self: flex-start;width: 50%;}#sk-container-id-8 div.sk-parallel-item:only-child::after {width: 0;}#sk-container-id-8 div.sk-dashed-wrapped {border: 1px dashed gray;margin: 0 0.4em 0.5em 0.4em;box-sizing: border-box;padding-bottom: 0.4em;background-color: white;}#sk-container-id-8 div.sk-label label {font-family: monospace;font-weight: bold;display: inline-block;line-height: 1.2em;}#sk-container-id-8 div.sk-label-container {text-align: center;}#sk-container-id-8 div.sk-container {/* jupyter's `normalize.less` sets `[hidden] { display: none; }` but bootstrap.min.css set `[hidden] { display: none !important; }` so we also need the `!important` here to be able to override the default hidden behavior on the sphinx rendered scikit-learn.org. See: https://github.com/scikit-learn/scikit-learn/issues/21755 */display: inline-block !important;position: relative;}#sk-container-id-8 div.sk-text-repr-fallback {display: none;}</style><div id=\"sk-container-id-8\" class=\"sk-top-container\"><div class=\"sk-text-repr-fallback\"><pre>SVR()</pre><b>In a Jupyter environment, please rerun this cell to show the HTML representation or trust the notebook. <br />On GitHub, the HTML representation is unable to render, please try loading this page with nbviewer.org.</b></div><div class=\"sk-container\" hidden><div class=\"sk-item\"><div class=\"sk-estimator sk-toggleable\"><input class=\"sk-toggleable__control sk-hidden--visually\" id=\"sk-estimator-id-8\" type=\"checkbox\" checked><label for=\"sk-estimator-id-8\" class=\"sk-toggleable__label sk-toggleable__label-arrow\">SVR</label><div class=\"sk-toggleable__content\"><pre>SVR()</pre></div></div></div></div></div>"
      ],
      "text/plain": [
       "SVR()"
      ]
     },
     "execution_count": 51,
     "metadata": {},
     "output_type": "execute_result"
    },
    {
     "name": "stdout",
     "output_type": "stream",
     "text": [
      "Train N. R. Mean Squared Error for SVR RBF: 0.10851436254343964\n",
      "Test N. R. Mean Squared Error for SVR RBF: 0.10806908493444457\n",
      "Train R2 Score SVR RBF: 0.7439769957276139\n",
      "Test R2 Score SVR RBF: 0.7449183722057543\n"
     ]
    },
    {
     "data": {
      "text/html": [
       "<style>#sk-container-id-9 {color: black;background-color: white;}#sk-container-id-9 pre{padding: 0;}#sk-container-id-9 div.sk-toggleable {background-color: white;}#sk-container-id-9 label.sk-toggleable__label {cursor: pointer;display: block;width: 100%;margin-bottom: 0;padding: 0.3em;box-sizing: border-box;text-align: center;}#sk-container-id-9 label.sk-toggleable__label-arrow:before {content: \"▸\";float: left;margin-right: 0.25em;color: #696969;}#sk-container-id-9 label.sk-toggleable__label-arrow:hover:before {color: black;}#sk-container-id-9 div.sk-estimator:hover label.sk-toggleable__label-arrow:before {color: black;}#sk-container-id-9 div.sk-toggleable__content {max-height: 0;max-width: 0;overflow: hidden;text-align: left;background-color: #f0f8ff;}#sk-container-id-9 div.sk-toggleable__content pre {margin: 0.2em;color: black;border-radius: 0.25em;background-color: #f0f8ff;}#sk-container-id-9 input.sk-toggleable__control:checked~div.sk-toggleable__content {max-height: 200px;max-width: 100%;overflow: auto;}#sk-container-id-9 input.sk-toggleable__control:checked~label.sk-toggleable__label-arrow:before {content: \"▾\";}#sk-container-id-9 div.sk-estimator input.sk-toggleable__control:checked~label.sk-toggleable__label {background-color: #d4ebff;}#sk-container-id-9 div.sk-label input.sk-toggleable__control:checked~label.sk-toggleable__label {background-color: #d4ebff;}#sk-container-id-9 input.sk-hidden--visually {border: 0;clip: rect(1px 1px 1px 1px);clip: rect(1px, 1px, 1px, 1px);height: 1px;margin: -1px;overflow: hidden;padding: 0;position: absolute;width: 1px;}#sk-container-id-9 div.sk-estimator {font-family: monospace;background-color: #f0f8ff;border: 1px dotted black;border-radius: 0.25em;box-sizing: border-box;margin-bottom: 0.5em;}#sk-container-id-9 div.sk-estimator:hover {background-color: #d4ebff;}#sk-container-id-9 div.sk-parallel-item::after {content: \"\";width: 100%;border-bottom: 1px solid gray;flex-grow: 1;}#sk-container-id-9 div.sk-label:hover label.sk-toggleable__label {background-color: #d4ebff;}#sk-container-id-9 div.sk-serial::before {content: \"\";position: absolute;border-left: 1px solid gray;box-sizing: border-box;top: 0;bottom: 0;left: 50%;z-index: 0;}#sk-container-id-9 div.sk-serial {display: flex;flex-direction: column;align-items: center;background-color: white;padding-right: 0.2em;padding-left: 0.2em;position: relative;}#sk-container-id-9 div.sk-item {position: relative;z-index: 1;}#sk-container-id-9 div.sk-parallel {display: flex;align-items: stretch;justify-content: center;background-color: white;position: relative;}#sk-container-id-9 div.sk-item::before, #sk-container-id-9 div.sk-parallel-item::before {content: \"\";position: absolute;border-left: 1px solid gray;box-sizing: border-box;top: 0;bottom: 0;left: 50%;z-index: -1;}#sk-container-id-9 div.sk-parallel-item {display: flex;flex-direction: column;z-index: 1;position: relative;background-color: white;}#sk-container-id-9 div.sk-parallel-item:first-child::after {align-self: flex-end;width: 50%;}#sk-container-id-9 div.sk-parallel-item:last-child::after {align-self: flex-start;width: 50%;}#sk-container-id-9 div.sk-parallel-item:only-child::after {width: 0;}#sk-container-id-9 div.sk-dashed-wrapped {border: 1px dashed gray;margin: 0 0.4em 0.5em 0.4em;box-sizing: border-box;padding-bottom: 0.4em;background-color: white;}#sk-container-id-9 div.sk-label label {font-family: monospace;font-weight: bold;display: inline-block;line-height: 1.2em;}#sk-container-id-9 div.sk-label-container {text-align: center;}#sk-container-id-9 div.sk-container {/* jupyter's `normalize.less` sets `[hidden] { display: none; }` but bootstrap.min.css set `[hidden] { display: none !important; }` so we also need the `!important` here to be able to override the default hidden behavior on the sphinx rendered scikit-learn.org. See: https://github.com/scikit-learn/scikit-learn/issues/21755 */display: inline-block !important;position: relative;}#sk-container-id-9 div.sk-text-repr-fallback {display: none;}</style><div id=\"sk-container-id-9\" class=\"sk-top-container\"><div class=\"sk-text-repr-fallback\"><pre>SVR(kernel=&#x27;sigmoid&#x27;)</pre><b>In a Jupyter environment, please rerun this cell to show the HTML representation or trust the notebook. <br />On GitHub, the HTML representation is unable to render, please try loading this page with nbviewer.org.</b></div><div class=\"sk-container\" hidden><div class=\"sk-item\"><div class=\"sk-estimator sk-toggleable\"><input class=\"sk-toggleable__control sk-hidden--visually\" id=\"sk-estimator-id-9\" type=\"checkbox\" checked><label for=\"sk-estimator-id-9\" class=\"sk-toggleable__label sk-toggleable__label-arrow\">SVR</label><div class=\"sk-toggleable__content\"><pre>SVR(kernel=&#x27;sigmoid&#x27;)</pre></div></div></div></div></div>"
      ],
      "text/plain": [
       "SVR(kernel='sigmoid')"
      ]
     },
     "execution_count": 51,
     "metadata": {},
     "output_type": "execute_result"
    },
    {
     "name": "stdout",
     "output_type": "stream",
     "text": [
      "Train N. R. Mean Squared Error for SVR Sigmoid: 0.1698695640962964\n",
      "Test N. R. Mean Squared Error for SVR Sigmoid: 0.16964772840870065\n",
      "Train R2 Score SVR Sigmoid: 0.37261275215632583\n",
      "Test R2 Score SVR Sigmoid: 0.37140296369444525\n"
     ]
    },
    {
     "data": {
      "text/html": [
       "<style>#sk-container-id-10 {color: black;background-color: white;}#sk-container-id-10 pre{padding: 0;}#sk-container-id-10 div.sk-toggleable {background-color: white;}#sk-container-id-10 label.sk-toggleable__label {cursor: pointer;display: block;width: 100%;margin-bottom: 0;padding: 0.3em;box-sizing: border-box;text-align: center;}#sk-container-id-10 label.sk-toggleable__label-arrow:before {content: \"▸\";float: left;margin-right: 0.25em;color: #696969;}#sk-container-id-10 label.sk-toggleable__label-arrow:hover:before {color: black;}#sk-container-id-10 div.sk-estimator:hover label.sk-toggleable__label-arrow:before {color: black;}#sk-container-id-10 div.sk-toggleable__content {max-height: 0;max-width: 0;overflow: hidden;text-align: left;background-color: #f0f8ff;}#sk-container-id-10 div.sk-toggleable__content pre {margin: 0.2em;color: black;border-radius: 0.25em;background-color: #f0f8ff;}#sk-container-id-10 input.sk-toggleable__control:checked~div.sk-toggleable__content {max-height: 200px;max-width: 100%;overflow: auto;}#sk-container-id-10 input.sk-toggleable__control:checked~label.sk-toggleable__label-arrow:before {content: \"▾\";}#sk-container-id-10 div.sk-estimator input.sk-toggleable__control:checked~label.sk-toggleable__label {background-color: #d4ebff;}#sk-container-id-10 div.sk-label input.sk-toggleable__control:checked~label.sk-toggleable__label {background-color: #d4ebff;}#sk-container-id-10 input.sk-hidden--visually {border: 0;clip: rect(1px 1px 1px 1px);clip: rect(1px, 1px, 1px, 1px);height: 1px;margin: -1px;overflow: hidden;padding: 0;position: absolute;width: 1px;}#sk-container-id-10 div.sk-estimator {font-family: monospace;background-color: #f0f8ff;border: 1px dotted black;border-radius: 0.25em;box-sizing: border-box;margin-bottom: 0.5em;}#sk-container-id-10 div.sk-estimator:hover {background-color: #d4ebff;}#sk-container-id-10 div.sk-parallel-item::after {content: \"\";width: 100%;border-bottom: 1px solid gray;flex-grow: 1;}#sk-container-id-10 div.sk-label:hover label.sk-toggleable__label {background-color: #d4ebff;}#sk-container-id-10 div.sk-serial::before {content: \"\";position: absolute;border-left: 1px solid gray;box-sizing: border-box;top: 0;bottom: 0;left: 50%;z-index: 0;}#sk-container-id-10 div.sk-serial {display: flex;flex-direction: column;align-items: center;background-color: white;padding-right: 0.2em;padding-left: 0.2em;position: relative;}#sk-container-id-10 div.sk-item {position: relative;z-index: 1;}#sk-container-id-10 div.sk-parallel {display: flex;align-items: stretch;justify-content: center;background-color: white;position: relative;}#sk-container-id-10 div.sk-item::before, #sk-container-id-10 div.sk-parallel-item::before {content: \"\";position: absolute;border-left: 1px solid gray;box-sizing: border-box;top: 0;bottom: 0;left: 50%;z-index: -1;}#sk-container-id-10 div.sk-parallel-item {display: flex;flex-direction: column;z-index: 1;position: relative;background-color: white;}#sk-container-id-10 div.sk-parallel-item:first-child::after {align-self: flex-end;width: 50%;}#sk-container-id-10 div.sk-parallel-item:last-child::after {align-self: flex-start;width: 50%;}#sk-container-id-10 div.sk-parallel-item:only-child::after {width: 0;}#sk-container-id-10 div.sk-dashed-wrapped {border: 1px dashed gray;margin: 0 0.4em 0.5em 0.4em;box-sizing: border-box;padding-bottom: 0.4em;background-color: white;}#sk-container-id-10 div.sk-label label {font-family: monospace;font-weight: bold;display: inline-block;line-height: 1.2em;}#sk-container-id-10 div.sk-label-container {text-align: center;}#sk-container-id-10 div.sk-container {/* jupyter's `normalize.less` sets `[hidden] { display: none; }` but bootstrap.min.css set `[hidden] { display: none !important; }` so we also need the `!important` here to be able to override the default hidden behavior on the sphinx rendered scikit-learn.org. See: https://github.com/scikit-learn/scikit-learn/issues/21755 */display: inline-block !important;position: relative;}#sk-container-id-10 div.sk-text-repr-fallback {display: none;}</style><div id=\"sk-container-id-10\" class=\"sk-top-container\"><div class=\"sk-text-repr-fallback\"><pre>DecisionTreeRegressor()</pre><b>In a Jupyter environment, please rerun this cell to show the HTML representation or trust the notebook. <br />On GitHub, the HTML representation is unable to render, please try loading this page with nbviewer.org.</b></div><div class=\"sk-container\" hidden><div class=\"sk-item\"><div class=\"sk-estimator sk-toggleable\"><input class=\"sk-toggleable__control sk-hidden--visually\" id=\"sk-estimator-id-10\" type=\"checkbox\" checked><label for=\"sk-estimator-id-10\" class=\"sk-toggleable__label sk-toggleable__label-arrow\">DecisionTreeRegressor</label><div class=\"sk-toggleable__content\"><pre>DecisionTreeRegressor()</pre></div></div></div></div></div>"
      ],
      "text/plain": [
       "DecisionTreeRegressor()"
      ]
     },
     "execution_count": 51,
     "metadata": {},
     "output_type": "execute_result"
    },
    {
     "name": "stdout",
     "output_type": "stream",
     "text": [
      "Train N. R. Mean Squared Error for Decision Tree: 0.0\n",
      "Test N. R. Mean Squared Error for Decision Tree: 0.11887480626539644\n",
      "Train R2 Score Decision Tree: 1.0\n",
      "Test R2 Score Decision Tree: 0.6913573950184013\n"
     ]
    },
    {
     "data": {
      "text/html": [
       "<style>#sk-container-id-11 {color: black;background-color: white;}#sk-container-id-11 pre{padding: 0;}#sk-container-id-11 div.sk-toggleable {background-color: white;}#sk-container-id-11 label.sk-toggleable__label {cursor: pointer;display: block;width: 100%;margin-bottom: 0;padding: 0.3em;box-sizing: border-box;text-align: center;}#sk-container-id-11 label.sk-toggleable__label-arrow:before {content: \"▸\";float: left;margin-right: 0.25em;color: #696969;}#sk-container-id-11 label.sk-toggleable__label-arrow:hover:before {color: black;}#sk-container-id-11 div.sk-estimator:hover label.sk-toggleable__label-arrow:before {color: black;}#sk-container-id-11 div.sk-toggleable__content {max-height: 0;max-width: 0;overflow: hidden;text-align: left;background-color: #f0f8ff;}#sk-container-id-11 div.sk-toggleable__content pre {margin: 0.2em;color: black;border-radius: 0.25em;background-color: #f0f8ff;}#sk-container-id-11 input.sk-toggleable__control:checked~div.sk-toggleable__content {max-height: 200px;max-width: 100%;overflow: auto;}#sk-container-id-11 input.sk-toggleable__control:checked~label.sk-toggleable__label-arrow:before {content: \"▾\";}#sk-container-id-11 div.sk-estimator input.sk-toggleable__control:checked~label.sk-toggleable__label {background-color: #d4ebff;}#sk-container-id-11 div.sk-label input.sk-toggleable__control:checked~label.sk-toggleable__label {background-color: #d4ebff;}#sk-container-id-11 input.sk-hidden--visually {border: 0;clip: rect(1px 1px 1px 1px);clip: rect(1px, 1px, 1px, 1px);height: 1px;margin: -1px;overflow: hidden;padding: 0;position: absolute;width: 1px;}#sk-container-id-11 div.sk-estimator {font-family: monospace;background-color: #f0f8ff;border: 1px dotted black;border-radius: 0.25em;box-sizing: border-box;margin-bottom: 0.5em;}#sk-container-id-11 div.sk-estimator:hover {background-color: #d4ebff;}#sk-container-id-11 div.sk-parallel-item::after {content: \"\";width: 100%;border-bottom: 1px solid gray;flex-grow: 1;}#sk-container-id-11 div.sk-label:hover label.sk-toggleable__label {background-color: #d4ebff;}#sk-container-id-11 div.sk-serial::before {content: \"\";position: absolute;border-left: 1px solid gray;box-sizing: border-box;top: 0;bottom: 0;left: 50%;z-index: 0;}#sk-container-id-11 div.sk-serial {display: flex;flex-direction: column;align-items: center;background-color: white;padding-right: 0.2em;padding-left: 0.2em;position: relative;}#sk-container-id-11 div.sk-item {position: relative;z-index: 1;}#sk-container-id-11 div.sk-parallel {display: flex;align-items: stretch;justify-content: center;background-color: white;position: relative;}#sk-container-id-11 div.sk-item::before, #sk-container-id-11 div.sk-parallel-item::before {content: \"\";position: absolute;border-left: 1px solid gray;box-sizing: border-box;top: 0;bottom: 0;left: 50%;z-index: -1;}#sk-container-id-11 div.sk-parallel-item {display: flex;flex-direction: column;z-index: 1;position: relative;background-color: white;}#sk-container-id-11 div.sk-parallel-item:first-child::after {align-self: flex-end;width: 50%;}#sk-container-id-11 div.sk-parallel-item:last-child::after {align-self: flex-start;width: 50%;}#sk-container-id-11 div.sk-parallel-item:only-child::after {width: 0;}#sk-container-id-11 div.sk-dashed-wrapped {border: 1px dashed gray;margin: 0 0.4em 0.5em 0.4em;box-sizing: border-box;padding-bottom: 0.4em;background-color: white;}#sk-container-id-11 div.sk-label label {font-family: monospace;font-weight: bold;display: inline-block;line-height: 1.2em;}#sk-container-id-11 div.sk-label-container {text-align: center;}#sk-container-id-11 div.sk-container {/* jupyter's `normalize.less` sets `[hidden] { display: none; }` but bootstrap.min.css set `[hidden] { display: none !important; }` so we also need the `!important` here to be able to override the default hidden behavior on the sphinx rendered scikit-learn.org. See: https://github.com/scikit-learn/scikit-learn/issues/21755 */display: inline-block !important;position: relative;}#sk-container-id-11 div.sk-text-repr-fallback {display: none;}</style><div id=\"sk-container-id-11\" class=\"sk-top-container\"><div class=\"sk-text-repr-fallback\"><pre>RandomForestRegressor()</pre><b>In a Jupyter environment, please rerun this cell to show the HTML representation or trust the notebook. <br />On GitHub, the HTML representation is unable to render, please try loading this page with nbviewer.org.</b></div><div class=\"sk-container\" hidden><div class=\"sk-item\"><div class=\"sk-estimator sk-toggleable\"><input class=\"sk-toggleable__control sk-hidden--visually\" id=\"sk-estimator-id-11\" type=\"checkbox\" checked><label for=\"sk-estimator-id-11\" class=\"sk-toggleable__label sk-toggleable__label-arrow\">RandomForestRegressor</label><div class=\"sk-toggleable__content\"><pre>RandomForestRegressor()</pre></div></div></div></div></div>"
      ],
      "text/plain": [
       "RandomForestRegressor()"
      ]
     },
     "execution_count": 51,
     "metadata": {},
     "output_type": "execute_result"
    },
    {
     "name": "stdout",
     "output_type": "stream",
     "text": [
      "Train N. R. Mean Squared Error for Random Forest: 0.03162819872550216\n",
      "Test N. R. Mean Squared Error for Random Forest: 0.08331391327072102\n",
      "Train R2 Score Random Forest: 0.9782502905265366\n",
      "Test R2 Score Random Forest: 0.8483957769084859\n"
     ]
    },
    {
     "data": {
      "text/html": [
       "<style>#sk-container-id-12 {color: black;background-color: white;}#sk-container-id-12 pre{padding: 0;}#sk-container-id-12 div.sk-toggleable {background-color: white;}#sk-container-id-12 label.sk-toggleable__label {cursor: pointer;display: block;width: 100%;margin-bottom: 0;padding: 0.3em;box-sizing: border-box;text-align: center;}#sk-container-id-12 label.sk-toggleable__label-arrow:before {content: \"▸\";float: left;margin-right: 0.25em;color: #696969;}#sk-container-id-12 label.sk-toggleable__label-arrow:hover:before {color: black;}#sk-container-id-12 div.sk-estimator:hover label.sk-toggleable__label-arrow:before {color: black;}#sk-container-id-12 div.sk-toggleable__content {max-height: 0;max-width: 0;overflow: hidden;text-align: left;background-color: #f0f8ff;}#sk-container-id-12 div.sk-toggleable__content pre {margin: 0.2em;color: black;border-radius: 0.25em;background-color: #f0f8ff;}#sk-container-id-12 input.sk-toggleable__control:checked~div.sk-toggleable__content {max-height: 200px;max-width: 100%;overflow: auto;}#sk-container-id-12 input.sk-toggleable__control:checked~label.sk-toggleable__label-arrow:before {content: \"▾\";}#sk-container-id-12 div.sk-estimator input.sk-toggleable__control:checked~label.sk-toggleable__label {background-color: #d4ebff;}#sk-container-id-12 div.sk-label input.sk-toggleable__control:checked~label.sk-toggleable__label {background-color: #d4ebff;}#sk-container-id-12 input.sk-hidden--visually {border: 0;clip: rect(1px 1px 1px 1px);clip: rect(1px, 1px, 1px, 1px);height: 1px;margin: -1px;overflow: hidden;padding: 0;position: absolute;width: 1px;}#sk-container-id-12 div.sk-estimator {font-family: monospace;background-color: #f0f8ff;border: 1px dotted black;border-radius: 0.25em;box-sizing: border-box;margin-bottom: 0.5em;}#sk-container-id-12 div.sk-estimator:hover {background-color: #d4ebff;}#sk-container-id-12 div.sk-parallel-item::after {content: \"\";width: 100%;border-bottom: 1px solid gray;flex-grow: 1;}#sk-container-id-12 div.sk-label:hover label.sk-toggleable__label {background-color: #d4ebff;}#sk-container-id-12 div.sk-serial::before {content: \"\";position: absolute;border-left: 1px solid gray;box-sizing: border-box;top: 0;bottom: 0;left: 50%;z-index: 0;}#sk-container-id-12 div.sk-serial {display: flex;flex-direction: column;align-items: center;background-color: white;padding-right: 0.2em;padding-left: 0.2em;position: relative;}#sk-container-id-12 div.sk-item {position: relative;z-index: 1;}#sk-container-id-12 div.sk-parallel {display: flex;align-items: stretch;justify-content: center;background-color: white;position: relative;}#sk-container-id-12 div.sk-item::before, #sk-container-id-12 div.sk-parallel-item::before {content: \"\";position: absolute;border-left: 1px solid gray;box-sizing: border-box;top: 0;bottom: 0;left: 50%;z-index: -1;}#sk-container-id-12 div.sk-parallel-item {display: flex;flex-direction: column;z-index: 1;position: relative;background-color: white;}#sk-container-id-12 div.sk-parallel-item:first-child::after {align-self: flex-end;width: 50%;}#sk-container-id-12 div.sk-parallel-item:last-child::after {align-self: flex-start;width: 50%;}#sk-container-id-12 div.sk-parallel-item:only-child::after {width: 0;}#sk-container-id-12 div.sk-dashed-wrapped {border: 1px dashed gray;margin: 0 0.4em 0.5em 0.4em;box-sizing: border-box;padding-bottom: 0.4em;background-color: white;}#sk-container-id-12 div.sk-label label {font-family: monospace;font-weight: bold;display: inline-block;line-height: 1.2em;}#sk-container-id-12 div.sk-label-container {text-align: center;}#sk-container-id-12 div.sk-container {/* jupyter's `normalize.less` sets `[hidden] { display: none; }` but bootstrap.min.css set `[hidden] { display: none !important; }` so we also need the `!important` here to be able to override the default hidden behavior on the sphinx rendered scikit-learn.org. See: https://github.com/scikit-learn/scikit-learn/issues/21755 */display: inline-block !important;position: relative;}#sk-container-id-12 div.sk-text-repr-fallback {display: none;}</style><div id=\"sk-container-id-12\" class=\"sk-top-container\"><div class=\"sk-text-repr-fallback\"><pre>GradientBoostingRegressor()</pre><b>In a Jupyter environment, please rerun this cell to show the HTML representation or trust the notebook. <br />On GitHub, the HTML representation is unable to render, please try loading this page with nbviewer.org.</b></div><div class=\"sk-container\" hidden><div class=\"sk-item\"><div class=\"sk-estimator sk-toggleable\"><input class=\"sk-toggleable__control sk-hidden--visually\" id=\"sk-estimator-id-12\" type=\"checkbox\" checked><label for=\"sk-estimator-id-12\" class=\"sk-toggleable__label sk-toggleable__label-arrow\">GradientBoostingRegressor</label><div class=\"sk-toggleable__content\"><pre>GradientBoostingRegressor()</pre></div></div></div></div></div>"
      ],
      "text/plain": [
       "GradientBoostingRegressor()"
      ]
     },
     "execution_count": 51,
     "metadata": {},
     "output_type": "execute_result"
    },
    {
     "name": "stdout",
     "output_type": "stream",
     "text": [
      "Train N. R. Mean Squared Error for Gradient Boosting: 0.08434399724052344\n",
      "Test N. R. Mean Squared Error for Gradient Boosting: 0.09300457113055878\n",
      "Train R2 Score Gradient Boosting: 0.8453275727195164\n",
      "Test R2 Score Gradient Boosting: 0.8110770056318539\n"
     ]
    },
    {
     "data": {
      "text/html": [
       "<style>#sk-container-id-13 {color: black;background-color: white;}#sk-container-id-13 pre{padding: 0;}#sk-container-id-13 div.sk-toggleable {background-color: white;}#sk-container-id-13 label.sk-toggleable__label {cursor: pointer;display: block;width: 100%;margin-bottom: 0;padding: 0.3em;box-sizing: border-box;text-align: center;}#sk-container-id-13 label.sk-toggleable__label-arrow:before {content: \"▸\";float: left;margin-right: 0.25em;color: #696969;}#sk-container-id-13 label.sk-toggleable__label-arrow:hover:before {color: black;}#sk-container-id-13 div.sk-estimator:hover label.sk-toggleable__label-arrow:before {color: black;}#sk-container-id-13 div.sk-toggleable__content {max-height: 0;max-width: 0;overflow: hidden;text-align: left;background-color: #f0f8ff;}#sk-container-id-13 div.sk-toggleable__content pre {margin: 0.2em;color: black;border-radius: 0.25em;background-color: #f0f8ff;}#sk-container-id-13 input.sk-toggleable__control:checked~div.sk-toggleable__content {max-height: 200px;max-width: 100%;overflow: auto;}#sk-container-id-13 input.sk-toggleable__control:checked~label.sk-toggleable__label-arrow:before {content: \"▾\";}#sk-container-id-13 div.sk-estimator input.sk-toggleable__control:checked~label.sk-toggleable__label {background-color: #d4ebff;}#sk-container-id-13 div.sk-label input.sk-toggleable__control:checked~label.sk-toggleable__label {background-color: #d4ebff;}#sk-container-id-13 input.sk-hidden--visually {border: 0;clip: rect(1px 1px 1px 1px);clip: rect(1px, 1px, 1px, 1px);height: 1px;margin: -1px;overflow: hidden;padding: 0;position: absolute;width: 1px;}#sk-container-id-13 div.sk-estimator {font-family: monospace;background-color: #f0f8ff;border: 1px dotted black;border-radius: 0.25em;box-sizing: border-box;margin-bottom: 0.5em;}#sk-container-id-13 div.sk-estimator:hover {background-color: #d4ebff;}#sk-container-id-13 div.sk-parallel-item::after {content: \"\";width: 100%;border-bottom: 1px solid gray;flex-grow: 1;}#sk-container-id-13 div.sk-label:hover label.sk-toggleable__label {background-color: #d4ebff;}#sk-container-id-13 div.sk-serial::before {content: \"\";position: absolute;border-left: 1px solid gray;box-sizing: border-box;top: 0;bottom: 0;left: 50%;z-index: 0;}#sk-container-id-13 div.sk-serial {display: flex;flex-direction: column;align-items: center;background-color: white;padding-right: 0.2em;padding-left: 0.2em;position: relative;}#sk-container-id-13 div.sk-item {position: relative;z-index: 1;}#sk-container-id-13 div.sk-parallel {display: flex;align-items: stretch;justify-content: center;background-color: white;position: relative;}#sk-container-id-13 div.sk-item::before, #sk-container-id-13 div.sk-parallel-item::before {content: \"\";position: absolute;border-left: 1px solid gray;box-sizing: border-box;top: 0;bottom: 0;left: 50%;z-index: -1;}#sk-container-id-13 div.sk-parallel-item {display: flex;flex-direction: column;z-index: 1;position: relative;background-color: white;}#sk-container-id-13 div.sk-parallel-item:first-child::after {align-self: flex-end;width: 50%;}#sk-container-id-13 div.sk-parallel-item:last-child::after {align-self: flex-start;width: 50%;}#sk-container-id-13 div.sk-parallel-item:only-child::after {width: 0;}#sk-container-id-13 div.sk-dashed-wrapped {border: 1px dashed gray;margin: 0 0.4em 0.5em 0.4em;box-sizing: border-box;padding-bottom: 0.4em;background-color: white;}#sk-container-id-13 div.sk-label label {font-family: monospace;font-weight: bold;display: inline-block;line-height: 1.2em;}#sk-container-id-13 div.sk-label-container {text-align: center;}#sk-container-id-13 div.sk-container {/* jupyter's `normalize.less` sets `[hidden] { display: none; }` but bootstrap.min.css set `[hidden] { display: none !important; }` so we also need the `!important` here to be able to override the default hidden behavior on the sphinx rendered scikit-learn.org. See: https://github.com/scikit-learn/scikit-learn/issues/21755 */display: inline-block !important;position: relative;}#sk-container-id-13 div.sk-text-repr-fallback {display: none;}</style><div id=\"sk-container-id-13\" class=\"sk-top-container\"><div class=\"sk-text-repr-fallback\"><pre>AdaBoostRegressor()</pre><b>In a Jupyter environment, please rerun this cell to show the HTML representation or trust the notebook. <br />On GitHub, the HTML representation is unable to render, please try loading this page with nbviewer.org.</b></div><div class=\"sk-container\" hidden><div class=\"sk-item\"><div class=\"sk-estimator sk-toggleable\"><input class=\"sk-toggleable__control sk-hidden--visually\" id=\"sk-estimator-id-13\" type=\"checkbox\" checked><label for=\"sk-estimator-id-13\" class=\"sk-toggleable__label sk-toggleable__label-arrow\">AdaBoostRegressor</label><div class=\"sk-toggleable__content\"><pre>AdaBoostRegressor()</pre></div></div></div></div></div>"
      ],
      "text/plain": [
       "AdaBoostRegressor()"
      ]
     },
     "execution_count": 51,
     "metadata": {},
     "output_type": "execute_result"
    },
    {
     "name": "stdout",
     "output_type": "stream",
     "text": [
      "Train N. R. Mean Squared Error for Ada Boost: 0.0981136880397931\n",
      "Test N. R. Mean Squared Error for Ada Boost: 0.09911659077300078\n",
      "Train R2 Score Ada Boost: 0.7907026429581504\n",
      "Test R2 Score Ada Boost: 0.7854300289313224\n"
     ]
    },
    {
     "data": {
      "text/html": [
       "<style>#sk-container-id-14 {color: black;background-color: white;}#sk-container-id-14 pre{padding: 0;}#sk-container-id-14 div.sk-toggleable {background-color: white;}#sk-container-id-14 label.sk-toggleable__label {cursor: pointer;display: block;width: 100%;margin-bottom: 0;padding: 0.3em;box-sizing: border-box;text-align: center;}#sk-container-id-14 label.sk-toggleable__label-arrow:before {content: \"▸\";float: left;margin-right: 0.25em;color: #696969;}#sk-container-id-14 label.sk-toggleable__label-arrow:hover:before {color: black;}#sk-container-id-14 div.sk-estimator:hover label.sk-toggleable__label-arrow:before {color: black;}#sk-container-id-14 div.sk-toggleable__content {max-height: 0;max-width: 0;overflow: hidden;text-align: left;background-color: #f0f8ff;}#sk-container-id-14 div.sk-toggleable__content pre {margin: 0.2em;color: black;border-radius: 0.25em;background-color: #f0f8ff;}#sk-container-id-14 input.sk-toggleable__control:checked~div.sk-toggleable__content {max-height: 200px;max-width: 100%;overflow: auto;}#sk-container-id-14 input.sk-toggleable__control:checked~label.sk-toggleable__label-arrow:before {content: \"▾\";}#sk-container-id-14 div.sk-estimator input.sk-toggleable__control:checked~label.sk-toggleable__label {background-color: #d4ebff;}#sk-container-id-14 div.sk-label input.sk-toggleable__control:checked~label.sk-toggleable__label {background-color: #d4ebff;}#sk-container-id-14 input.sk-hidden--visually {border: 0;clip: rect(1px 1px 1px 1px);clip: rect(1px, 1px, 1px, 1px);height: 1px;margin: -1px;overflow: hidden;padding: 0;position: absolute;width: 1px;}#sk-container-id-14 div.sk-estimator {font-family: monospace;background-color: #f0f8ff;border: 1px dotted black;border-radius: 0.25em;box-sizing: border-box;margin-bottom: 0.5em;}#sk-container-id-14 div.sk-estimator:hover {background-color: #d4ebff;}#sk-container-id-14 div.sk-parallel-item::after {content: \"\";width: 100%;border-bottom: 1px solid gray;flex-grow: 1;}#sk-container-id-14 div.sk-label:hover label.sk-toggleable__label {background-color: #d4ebff;}#sk-container-id-14 div.sk-serial::before {content: \"\";position: absolute;border-left: 1px solid gray;box-sizing: border-box;top: 0;bottom: 0;left: 50%;z-index: 0;}#sk-container-id-14 div.sk-serial {display: flex;flex-direction: column;align-items: center;background-color: white;padding-right: 0.2em;padding-left: 0.2em;position: relative;}#sk-container-id-14 div.sk-item {position: relative;z-index: 1;}#sk-container-id-14 div.sk-parallel {display: flex;align-items: stretch;justify-content: center;background-color: white;position: relative;}#sk-container-id-14 div.sk-item::before, #sk-container-id-14 div.sk-parallel-item::before {content: \"\";position: absolute;border-left: 1px solid gray;box-sizing: border-box;top: 0;bottom: 0;left: 50%;z-index: -1;}#sk-container-id-14 div.sk-parallel-item {display: flex;flex-direction: column;z-index: 1;position: relative;background-color: white;}#sk-container-id-14 div.sk-parallel-item:first-child::after {align-self: flex-end;width: 50%;}#sk-container-id-14 div.sk-parallel-item:last-child::after {align-self: flex-start;width: 50%;}#sk-container-id-14 div.sk-parallel-item:only-child::after {width: 0;}#sk-container-id-14 div.sk-dashed-wrapped {border: 1px dashed gray;margin: 0 0.4em 0.5em 0.4em;box-sizing: border-box;padding-bottom: 0.4em;background-color: white;}#sk-container-id-14 div.sk-label label {font-family: monospace;font-weight: bold;display: inline-block;line-height: 1.2em;}#sk-container-id-14 div.sk-label-container {text-align: center;}#sk-container-id-14 div.sk-container {/* jupyter's `normalize.less` sets `[hidden] { display: none; }` but bootstrap.min.css set `[hidden] { display: none !important; }` so we also need the `!important` here to be able to override the default hidden behavior on the sphinx rendered scikit-learn.org. See: https://github.com/scikit-learn/scikit-learn/issues/21755 */display: inline-block !important;position: relative;}#sk-container-id-14 div.sk-text-repr-fallback {display: none;}</style><div id=\"sk-container-id-14\" class=\"sk-top-container\"><div class=\"sk-text-repr-fallback\"><pre>KNeighborsRegressor()</pre><b>In a Jupyter environment, please rerun this cell to show the HTML representation or trust the notebook. <br />On GitHub, the HTML representation is unable to render, please try loading this page with nbviewer.org.</b></div><div class=\"sk-container\" hidden><div class=\"sk-item\"><div class=\"sk-estimator sk-toggleable\"><input class=\"sk-toggleable__control sk-hidden--visually\" id=\"sk-estimator-id-14\" type=\"checkbox\" checked><label for=\"sk-estimator-id-14\" class=\"sk-toggleable__label sk-toggleable__label-arrow\">KNeighborsRegressor</label><div class=\"sk-toggleable__content\"><pre>KNeighborsRegressor()</pre></div></div></div></div></div>"
      ],
      "text/plain": [
       "KNeighborsRegressor()"
      ]
     },
     "execution_count": 51,
     "metadata": {},
     "output_type": "execute_result"
    },
    {
     "name": "stdout",
     "output_type": "stream",
     "text": [
      "Train N. R. Mean Squared Error for K-Nearest Neighbors: 0.07701204783910584\n",
      "Test N. R. Mean Squared Error for K-Nearest Neighbors: 0.09874534922384696\n",
      "Train R2 Score K-Nearest Neighbors: 0.8710498397299999\n",
      "Test R2 Score K-Nearest Neighbors: 0.7870343639777634\n"
     ]
    },
    {
     "name": "stderr",
     "output_type": "stream",
     "text": [
      "c:\\Users\\USER\\AppData\\Local\\Programs\\Python\\Python310\\lib\\site-packages\\sklearn\\neural_network\\_multilayer_perceptron.py:702: ConvergenceWarning: Stochastic Optimizer: Maximum iterations (200) reached and the optimization hasn't converged yet.\n",
      "  warnings.warn(\n"
     ]
    },
    {
     "data": {
      "text/html": [
       "<style>#sk-container-id-15 {color: black;background-color: white;}#sk-container-id-15 pre{padding: 0;}#sk-container-id-15 div.sk-toggleable {background-color: white;}#sk-container-id-15 label.sk-toggleable__label {cursor: pointer;display: block;width: 100%;margin-bottom: 0;padding: 0.3em;box-sizing: border-box;text-align: center;}#sk-container-id-15 label.sk-toggleable__label-arrow:before {content: \"▸\";float: left;margin-right: 0.25em;color: #696969;}#sk-container-id-15 label.sk-toggleable__label-arrow:hover:before {color: black;}#sk-container-id-15 div.sk-estimator:hover label.sk-toggleable__label-arrow:before {color: black;}#sk-container-id-15 div.sk-toggleable__content {max-height: 0;max-width: 0;overflow: hidden;text-align: left;background-color: #f0f8ff;}#sk-container-id-15 div.sk-toggleable__content pre {margin: 0.2em;color: black;border-radius: 0.25em;background-color: #f0f8ff;}#sk-container-id-15 input.sk-toggleable__control:checked~div.sk-toggleable__content {max-height: 200px;max-width: 100%;overflow: auto;}#sk-container-id-15 input.sk-toggleable__control:checked~label.sk-toggleable__label-arrow:before {content: \"▾\";}#sk-container-id-15 div.sk-estimator input.sk-toggleable__control:checked~label.sk-toggleable__label {background-color: #d4ebff;}#sk-container-id-15 div.sk-label input.sk-toggleable__control:checked~label.sk-toggleable__label {background-color: #d4ebff;}#sk-container-id-15 input.sk-hidden--visually {border: 0;clip: rect(1px 1px 1px 1px);clip: rect(1px, 1px, 1px, 1px);height: 1px;margin: -1px;overflow: hidden;padding: 0;position: absolute;width: 1px;}#sk-container-id-15 div.sk-estimator {font-family: monospace;background-color: #f0f8ff;border: 1px dotted black;border-radius: 0.25em;box-sizing: border-box;margin-bottom: 0.5em;}#sk-container-id-15 div.sk-estimator:hover {background-color: #d4ebff;}#sk-container-id-15 div.sk-parallel-item::after {content: \"\";width: 100%;border-bottom: 1px solid gray;flex-grow: 1;}#sk-container-id-15 div.sk-label:hover label.sk-toggleable__label {background-color: #d4ebff;}#sk-container-id-15 div.sk-serial::before {content: \"\";position: absolute;border-left: 1px solid gray;box-sizing: border-box;top: 0;bottom: 0;left: 50%;z-index: 0;}#sk-container-id-15 div.sk-serial {display: flex;flex-direction: column;align-items: center;background-color: white;padding-right: 0.2em;padding-left: 0.2em;position: relative;}#sk-container-id-15 div.sk-item {position: relative;z-index: 1;}#sk-container-id-15 div.sk-parallel {display: flex;align-items: stretch;justify-content: center;background-color: white;position: relative;}#sk-container-id-15 div.sk-item::before, #sk-container-id-15 div.sk-parallel-item::before {content: \"\";position: absolute;border-left: 1px solid gray;box-sizing: border-box;top: 0;bottom: 0;left: 50%;z-index: -1;}#sk-container-id-15 div.sk-parallel-item {display: flex;flex-direction: column;z-index: 1;position: relative;background-color: white;}#sk-container-id-15 div.sk-parallel-item:first-child::after {align-self: flex-end;width: 50%;}#sk-container-id-15 div.sk-parallel-item:last-child::after {align-self: flex-start;width: 50%;}#sk-container-id-15 div.sk-parallel-item:only-child::after {width: 0;}#sk-container-id-15 div.sk-dashed-wrapped {border: 1px dashed gray;margin: 0 0.4em 0.5em 0.4em;box-sizing: border-box;padding-bottom: 0.4em;background-color: white;}#sk-container-id-15 div.sk-label label {font-family: monospace;font-weight: bold;display: inline-block;line-height: 1.2em;}#sk-container-id-15 div.sk-label-container {text-align: center;}#sk-container-id-15 div.sk-container {/* jupyter's `normalize.less` sets `[hidden] { display: none; }` but bootstrap.min.css set `[hidden] { display: none !important; }` so we also need the `!important` here to be able to override the default hidden behavior on the sphinx rendered scikit-learn.org. See: https://github.com/scikit-learn/scikit-learn/issues/21755 */display: inline-block !important;position: relative;}#sk-container-id-15 div.sk-text-repr-fallback {display: none;}</style><div id=\"sk-container-id-15\" class=\"sk-top-container\"><div class=\"sk-text-repr-fallback\"><pre>MLPRegressor(alpha=1)</pre><b>In a Jupyter environment, please rerun this cell to show the HTML representation or trust the notebook. <br />On GitHub, the HTML representation is unable to render, please try loading this page with nbviewer.org.</b></div><div class=\"sk-container\" hidden><div class=\"sk-item\"><div class=\"sk-estimator sk-toggleable\"><input class=\"sk-toggleable__control sk-hidden--visually\" id=\"sk-estimator-id-15\" type=\"checkbox\" checked><label for=\"sk-estimator-id-15\" class=\"sk-toggleable__label sk-toggleable__label-arrow\">MLPRegressor</label><div class=\"sk-toggleable__content\"><pre>MLPRegressor(alpha=1)</pre></div></div></div></div></div>"
      ],
      "text/plain": [
       "MLPRegressor(alpha=1)"
      ]
     },
     "execution_count": 51,
     "metadata": {},
     "output_type": "execute_result"
    },
    {
     "name": "stdout",
     "output_type": "stream",
     "text": [
      "Train N. R. Mean Squared Error for MLP: 0.08481679827237681\n",
      "Test N. R. Mean Squared Error for MLP: 0.08871824302255267\n",
      "Train R2 Score MLP: 0.8435886404095023\n",
      "Test R2 Score MLP: 0.8280896215487243\n"
     ]
    },
    {
     "data": {
      "text/plain": [
       "Text(0.5, 0, 'Model')"
      ]
     },
     "execution_count": 51,
     "metadata": {},
     "output_type": "execute_result"
    },
    {
     "data": {
      "text/plain": [
       "Text(0, 0.5, 'Mean Squared Error')"
      ]
     },
     "execution_count": 51,
     "metadata": {},
     "output_type": "execute_result"
    },
    {
     "data": {
      "text/plain": [
       "[<matplotlib.axis.XTick at 0x24352ec2b00>,\n",
       " <matplotlib.axis.XTick at 0x24352ec0a30>,\n",
       " <matplotlib.axis.XTick at 0x24352ec2800>,\n",
       " <matplotlib.axis.XTick at 0x24352f8b6d0>,\n",
       " <matplotlib.axis.XTick at 0x24352f8be20>,\n",
       " <matplotlib.axis.XTick at 0x243531145b0>,\n",
       " <matplotlib.axis.XTick at 0x24353114d00>,\n",
       " <matplotlib.axis.XTick at 0x24353115450>,\n",
       " <matplotlib.axis.XTick at 0x24352f8be50>,\n",
       " <matplotlib.axis.XTick at 0x24353115840>,\n",
       " <matplotlib.axis.XTick at 0x24353114610>,\n",
       " <matplotlib.axis.XTick at 0x24353116260>,\n",
       " <matplotlib.axis.XTick at 0x243531169b0>,\n",
       " <matplotlib.axis.XTick at 0x24353117100>]"
      ]
     },
     "execution_count": 51,
     "metadata": {},
     "output_type": "execute_result"
    },
    {
     "data": {
      "text/plain": [
       "<matplotlib.legend.Legend at 0x24352f8b640>"
      ]
     },
     "execution_count": 51,
     "metadata": {},
     "output_type": "execute_result"
    },
    {
     "data": {
      "text/plain": [
       "Text(0, 0.5, 'R2 Score')"
      ]
     },
     "execution_count": 51,
     "metadata": {},
     "output_type": "execute_result"
    },
    {
     "data": {
      "text/plain": [
       "[<matplotlib.lines.Line2D at 0x24353117490>]"
      ]
     },
     "execution_count": 51,
     "metadata": {},
     "output_type": "execute_result"
    },
    {
     "data": {
      "text/plain": [
       "[<matplotlib.lines.Line2D at 0x24353170fa0>]"
      ]
     },
     "execution_count": 51,
     "metadata": {},
     "output_type": "execute_result"
    },
    {
     "data": {
      "text/plain": [
       "Text(0.5, 1.05, 'Comparison of Regression Models')"
      ]
     },
     "execution_count": 51,
     "metadata": {},
     "output_type": "execute_result"
    },
    {
     "data": {
      "text/plain": [
       "<matplotlib.legend.Legend at 0x243519e1c00>"
      ]
     },
     "execution_count": 51,
     "metadata": {},
     "output_type": "execute_result"
    },
    {
     "data": {
      "image/png": "[encoded data removed]",
      "text/plain": [
       "<Figure size 1584x576 with 2 Axes>"
      ]
     },
     "metadata": {
      "needs_background": "light"
     },
     "output_type": "display_data"
    }
   ],
   "source": [
    "# Dictionnaire pour stocker les résultats\n",
    "results = {'Model': [], 'Train Mean Squared Error': [], 'Test Mean Squared Error': [], 'Train R2 Score': [], 'Test R2 Score': []}\n",
    "\n",
    "\n",
    "train_predictions = {}\n",
    "trained_models = {}\n",
    "# Entraîner et évaluer chaque modèle\n",
    "for name, model in models.items():\n",
    "    model.fit(X_train, y_train)\n",
    "    # Prédictions sur l'ensemble d'entraînement\n",
    "    y_train_pred = model.predict(X_train)\n",
    "    train_nrmse = normalized_root_mean_squared_error(y_train, y_train_pred)\n",
    "    train_r2 = r2_score(y_train, y_train_pred)\n",
    "\n",
    "    y_pred = model.predict(X_test)\n",
    "    nrmse = normalized_root_mean_squared_error(y_test, y_pred)\n",
    "    r2 = r2_score(y_test, y_pred)\n",
    "    results['Model'].append(name)\n",
    "    results['Train Mean Squared Error'].append(train_nrmse)\n",
    "    results['Test Mean Squared Error'].append(nrmse)\n",
    "    results['Train R2 Score'].append(train_r2)\n",
    "    results['Test R2 Score'].append(r2)\n",
    "\n",
    "    train_predictions[name] = pd.DataFrame({'y_train': y_train, 'y_train_pred': y_train_pred, 'squared_error': (y_train - y_train_pred) **2})\n",
    "    trained_models[name] = model\n",
    "\n",
    "    print(f\"Train N. R. Mean Squared Error for {name}: {train_nrmse}\")\n",
    "    print(f\"Test N. R. Mean Squared Error for {name}: {nrmse}\")\n",
    "    print(f\"Train R2 Score {name}: {train_r2}\")\n",
    "    print(f\"Test R2 Score {name}: {r2}\")\n",
    "\n",
    "# Convertir les résultats en DataFrame pour une manipulation plus facile\n",
    "results_df = pd.DataFrame(results)\n",
    "\n",
    "# Convertir les colonnes du DataFrame en tableaux NumPy\n",
    "models = results_df['Model'].to_numpy()\n",
    "train_mse_values = results_df['Train Mean Squared Error'].to_numpy()\n",
    "test_mse_values = results_df['Test Mean Squared Error'].to_numpy()\n",
    "train_r2_values = results_df['Train R2 Score'].to_numpy()\n",
    "test_r2_values = results_df['Test R2 Score'].to_numpy()\n",
    "\n",
    "# Tracer les résultats\n",
    "fig, ax1 = plt.subplots(figsize=(22, 8))\n",
    "\n",
    "# Position des barres\n",
    "x = np.arange(len(models))  # la position des groupes\n",
    "width = 0.35  # la largeur des barres\n",
    "\n",
    "# Tracer les Mean Squared Error pour l'entraînement et le test côte à côte\n",
    "rects1 = ax1.bar(x - width/2, train_mse_values, width, label='Train Mean Squared Error', color='#1f77b4', alpha=0.6)\n",
    "rects2 = ax1.bar(x + width/2, test_mse_values, width, label='Test Mean Squared Error', color='#ff7f0e', alpha=0.6)\n",
    "\n",
    "# Tracer les Mean Squared Error\n",
    "# color = 'tab:red'\n",
    "ax1.set_xlabel('Model')\n",
    "ax1.set_ylabel('Mean Squared Error')\n",
    "# ax1.bar(models, mse_values, color=color, alpha=0.6, label='Mean Squared Error')\n",
    "# ax1.tick_params(axis='y', labelcolor=color)\n",
    "# ax1.bar(models, train_mse_values, color='blue', alpha=0.6, label='Train Mean Squared Error')\n",
    "# ax1.bar(models, test_mse_values, color='red', alpha=0.6, label='Test Mean Squared Error', bottom=train_mse_values)\n",
    "ax1.set_xticks(x)\n",
    "ax1.tick_params(axis='x', rotation=45)\n",
    "ax1.legend(loc='upper left')\n",
    "\n",
    "# Ajouter une deuxième axe pour le R2 Score\n",
    "ax2 = ax1.twinx()\n",
    "# color = 'tab:blue'\n",
    "ax2.set_ylabel('R2 Score')\n",
    "# ax2.plot(models, r2_values, color=color, marker='o', linewidth=2, label='R2 Score')\n",
    "# ax2.tick_params(axis='y', labelcolor=color)\n",
    "ax2.plot(models, train_r2_values, color='blue', marker='o', label='Train R2 Score')\n",
    "ax2.plot(models, test_r2_values, color='#d62728', marker='o', label='Test R2 Score')\n",
    "ax2.tick_params(axis='y')\n",
    "\n",
    "# Ajouter un titre et afficher la légende\n",
    "fig.tight_layout()\n",
    "fig.suptitle('Comparison of Regression Models', y=1.05, fontsize=16)\n",
    "fig.legend(loc='upper left', bbox_to_anchor=(1, 0.9))\n",
    "\n",
    "# Afficher le graphique\n",
    "plt.show()"
   ]
  },
  {
   "cell_type": "code",
   "execution_count": 52,
   "metadata": {},
   "outputs": [],
   "source": [
    "rf_model = trained_models['Random Forest']"
   ]
  },
  {
   "cell_type": "code",
   "execution_count": 53,
   "metadata": {},
   "outputs": [
    {
     "data": {
      "text/plain": [
       "['rf_fuel.joblib']"
      ]
     },
     "execution_count": 53,
     "metadata": {},
     "output_type": "execute_result"
    }
   ],
   "source": [
    "import joblib\n",
    "joblib.dump(rf_model, 'rf_fuel.joblib')"
   ]
  },
  {
   "cell_type": "code",
   "execution_count": 54,
   "metadata": {},
   "outputs": [
    {
     "name": "stderr",
     "output_type": "stream",
     "text": [
      "c:\\Users\\USER\\AppData\\Local\\Programs\\Python\\Python310\\lib\\site-packages\\sklearn\\ensemble\\_forest.py:416: FutureWarning: `max_features='auto'` has been deprecated in 1.1 and will be removed in 1.3. To keep the past behaviour, explicitly set `max_features=1.0` or remove this parameter as it is also the default value for RandomForestRegressors and ExtraTreesRegressors.\n",
      "  warn(\n"
     ]
    },
    {
     "data": {
      "text/html": [
       "<style>#sk-container-id-16 {color: black;background-color: white;}#sk-container-id-16 pre{padding: 0;}#sk-container-id-16 div.sk-toggleable {background-color: white;}#sk-container-id-16 label.sk-toggleable__label {cursor: pointer;display: block;width: 100%;margin-bottom: 0;padding: 0.3em;box-sizing: border-box;text-align: center;}#sk-container-id-16 label.sk-toggleable__label-arrow:before {content: \"▸\";float: left;margin-right: 0.25em;color: #696969;}#sk-container-id-16 label.sk-toggleable__label-arrow:hover:before {color: black;}#sk-container-id-16 div.sk-estimator:hover label.sk-toggleable__label-arrow:before {color: black;}#sk-container-id-16 div.sk-toggleable__content {max-height: 0;max-width: 0;overflow: hidden;text-align: left;background-color: #f0f8ff;}#sk-container-id-16 div.sk-toggleable__content pre {margin: 0.2em;color: black;border-radius: 0.25em;background-color: #f0f8ff;}#sk-container-id-16 input.sk-toggleable__control:checked~div.sk-toggleable__content {max-height: 200px;max-width: 100%;overflow: auto;}#sk-container-id-16 input.sk-toggleable__control:checked~label.sk-toggleable__label-arrow:before {content: \"▾\";}#sk-container-id-16 div.sk-estimator input.sk-toggleable__control:checked~label.sk-toggleable__label {background-color: #d4ebff;}#sk-container-id-16 div.sk-label input.sk-toggleable__control:checked~label.sk-toggleable__label {background-color: #d4ebff;}#sk-container-id-16 input.sk-hidden--visually {border: 0;clip: rect(1px 1px 1px 1px);clip: rect(1px, 1px, 1px, 1px);height: 1px;margin: -1px;overflow: hidden;padding: 0;position: absolute;width: 1px;}#sk-container-id-16 div.sk-estimator {font-family: monospace;background-color: #f0f8ff;border: 1px dotted black;border-radius: 0.25em;box-sizing: border-box;margin-bottom: 0.5em;}#sk-container-id-16 div.sk-estimator:hover {background-color: #d4ebff;}#sk-container-id-16 div.sk-parallel-item::after {content: \"\";width: 100%;border-bottom: 1px solid gray;flex-grow: 1;}#sk-container-id-16 div.sk-label:hover label.sk-toggleable__label {background-color: #d4ebff;}#sk-container-id-16 div.sk-serial::before {content: \"\";position: absolute;border-left: 1px solid gray;box-sizing: border-box;top: 0;bottom: 0;left: 50%;z-index: 0;}#sk-container-id-16 div.sk-serial {display: flex;flex-direction: column;align-items: center;background-color: white;padding-right: 0.2em;padding-left: 0.2em;position: relative;}#sk-container-id-16 div.sk-item {position: relative;z-index: 1;}#sk-container-id-16 div.sk-parallel {display: flex;align-items: stretch;justify-content: center;background-color: white;position: relative;}#sk-container-id-16 div.sk-item::before, #sk-container-id-16 div.sk-parallel-item::before {content: \"\";position: absolute;border-left: 1px solid gray;box-sizing: border-box;top: 0;bottom: 0;left: 50%;z-index: -1;}#sk-container-id-16 div.sk-parallel-item {display: flex;flex-direction: column;z-index: 1;position: relative;background-color: white;}#sk-container-id-16 div.sk-parallel-item:first-child::after {align-self: flex-end;width: 50%;}#sk-container-id-16 div.sk-parallel-item:last-child::after {align-self: flex-start;width: 50%;}#sk-container-id-16 div.sk-parallel-item:only-child::after {width: 0;}#sk-container-id-16 div.sk-dashed-wrapped {border: 1px dashed gray;margin: 0 0.4em 0.5em 0.4em;box-sizing: border-box;padding-bottom: 0.4em;background-color: white;}#sk-container-id-16 div.sk-label label {font-family: monospace;font-weight: bold;display: inline-block;line-height: 1.2em;}#sk-container-id-16 div.sk-label-container {text-align: center;}#sk-container-id-16 div.sk-container {/* jupyter's `normalize.less` sets `[hidden] { display: none; }` but bootstrap.min.css set `[hidden] { display: none !important; }` so we also need the `!important` here to be able to override the default hidden behavior on the sphinx rendered scikit-learn.org. See: https://github.com/scikit-learn/scikit-learn/issues/21755 */display: inline-block !important;position: relative;}#sk-container-id-16 div.sk-text-repr-fallback {display: none;}</style><div id=\"sk-container-id-16\" class=\"sk-top-container\"><div class=\"sk-text-repr-fallback\"><pre>RandomizedSearchCV(cv=5, estimator=RandomForestRegressor(), n_iter=100,\n",
       "                   n_jobs=-1,\n",
       "                   param_distributions={&#x27;bootstrap&#x27;: [True, False],\n",
       "                                        &#x27;max_depth&#x27;: [10, 20, 30, None],\n",
       "                                        &#x27;max_features&#x27;: [&#x27;auto&#x27;, &#x27;sqrt&#x27;,\n",
       "                                                         &#x27;log2&#x27;],\n",
       "                                        &#x27;min_samples_leaf&#x27;: &lt;scipy.stats._distn_infrastructure.rv_frozen object at 0x0000024351A59CF0&gt;,\n",
       "                                        &#x27;min_samples_split&#x27;: &lt;scipy.stats._distn_infrastructure.rv_frozen object at 0x0000024353172920&gt;,\n",
       "                                        &#x27;n_estimators&#x27;: &lt;scipy.stats._distn_infrastructure.rv_frozen object at 0x0000024352F278B0&gt;},\n",
       "                   random_state=42)</pre><b>In a Jupyter environment, please rerun this cell to show the HTML representation or trust the notebook. <br />On GitHub, the HTML representation is unable to render, please try loading this page with nbviewer.org.</b></div><div class=\"sk-container\" hidden><div class=\"sk-item sk-dashed-wrapped\"><div class=\"sk-label-container\"><div class=\"sk-label sk-toggleable\"><input class=\"sk-toggleable__control sk-hidden--visually\" id=\"sk-estimator-id-16\" type=\"checkbox\" ><label for=\"sk-estimator-id-16\" class=\"sk-toggleable__label sk-toggleable__label-arrow\">RandomizedSearchCV</label><div class=\"sk-toggleable__content\"><pre>RandomizedSearchCV(cv=5, estimator=RandomForestRegressor(), n_iter=100,\n",
       "                   n_jobs=-1,\n",
       "                   param_distributions={&#x27;bootstrap&#x27;: [True, False],\n",
       "                                        &#x27;max_depth&#x27;: [10, 20, 30, None],\n",
       "                                        &#x27;max_features&#x27;: [&#x27;auto&#x27;, &#x27;sqrt&#x27;,\n",
       "                                                         &#x27;log2&#x27;],\n",
       "                                        &#x27;min_samples_leaf&#x27;: &lt;scipy.stats._distn_infrastructure.rv_frozen object at 0x0000024351A59CF0&gt;,\n",
       "                                        &#x27;min_samples_split&#x27;: &lt;scipy.stats._distn_infrastructure.rv_frozen object at 0x0000024353172920&gt;,\n",
       "                                        &#x27;n_estimators&#x27;: &lt;scipy.stats._distn_infrastructure.rv_frozen object at 0x0000024352F278B0&gt;},\n",
       "                   random_state=42)</pre></div></div></div><div class=\"sk-parallel\"><div class=\"sk-parallel-item\"><div class=\"sk-item\"><div class=\"sk-label-container\"><div class=\"sk-label sk-toggleable\"><input class=\"sk-toggleable__control sk-hidden--visually\" id=\"sk-estimator-id-17\" type=\"checkbox\" ><label for=\"sk-estimator-id-17\" class=\"sk-toggleable__label sk-toggleable__label-arrow\">estimator: RandomForestRegressor</label><div class=\"sk-toggleable__content\"><pre>RandomForestRegressor()</pre></div></div></div><div class=\"sk-serial\"><div class=\"sk-item\"><div class=\"sk-estimator sk-toggleable\"><input class=\"sk-toggleable__control sk-hidden--visually\" id=\"sk-estimator-id-18\" type=\"checkbox\" ><label for=\"sk-estimator-id-18\" class=\"sk-toggleable__label sk-toggleable__label-arrow\">RandomForestRegressor</label><div class=\"sk-toggleable__content\"><pre>RandomForestRegressor()</pre></div></div></div></div></div></div></div></div></div></div>"
      ],
      "text/plain": [
       "RandomizedSearchCV(cv=5, estimator=RandomForestRegressor(), n_iter=100,\n",
       "                   n_jobs=-1,\n",
       "                   param_distributions={'bootstrap': [True, False],\n",
       "                                        'max_depth': [10, 20, 30, None],\n",
       "                                        'max_features': ['auto', 'sqrt',\n",
       "                                                         'log2'],\n",
       "                                        'min_samples_leaf': <scipy.stats._distn_infrastructure.rv_frozen object at 0x0000024351A59CF0>,\n",
       "                                        'min_samples_split': <scipy.stats._distn_infrastructure.rv_frozen object at 0x0000024353172920>,\n",
       "                                        'n_estimators': <scipy.stats._distn_infrastructure.rv_frozen object at 0x0000024352F278B0>},\n",
       "                   random_state=42)"
      ]
     },
     "execution_count": 54,
     "metadata": {},
     "output_type": "execute_result"
    },
    {
     "name": "stdout",
     "output_type": "stream",
     "text": [
      "Meilleurs hyperparamètres trouvés:\n",
      "{'bootstrap': True, 'max_depth': 20, 'max_features': 'auto', 'min_samples_leaf': 3, 'min_samples_split': 4, 'n_estimators': 287}\n"
     ]
    }
   ],
   "source": [
    "from sklearn.model_selection import RandomizedSearchCV\n",
    "from scipy.stats import randint\n",
    "\n",
    "# Définir les distributions des hyperparamètres pour la recherche aléatoire\n",
    "param_dist = {\n",
    "    'n_estimators': randint(100, 500),\n",
    "    'max_features': ['auto', 'sqrt', 'log2'],\n",
    "    'max_depth': [10, 20, 30, None],\n",
    "    'min_samples_split': randint(2, 11),\n",
    "    'min_samples_leaf': randint(1, 5),\n",
    "    'bootstrap': [True, False]\n",
    "}\n",
    "\n",
    "rf = RandomForestRegressor()\n",
    "\n",
    "# Initialiser RandomizedSearchCV\n",
    "random_search = RandomizedSearchCV(estimator=rf, \n",
    "                                   param_distributions=param_dist, \n",
    "                                   n_iter=100, \n",
    "                                   cv=5, \n",
    "                                   n_jobs=-1, \n",
    "                                   random_state=42)\n",
    "\n",
    "# Exécuter RandomizedSearchCV pour trouver les meilleurs hyperparamètres\n",
    "random_search.fit(X_train, y_train)\n",
    "\n",
    "# Afficher les meilleurs hyperparamètres trouvés\n",
    "print(\"Meilleurs hyperparamètres trouvés:\")\n",
    "print(random_search.best_params_)"
   ]
  },
  {
   "cell_type": "code",
   "execution_count": 55,
   "metadata": {},
   "outputs": [
    {
     "name": "stdout",
     "output_type": "stream",
     "text": [
      "Train R^2 Score Random Forest: 0.9522010690028041\n",
      "Test R^2 Score Random Forest: 0.8446050420573765\n",
      "Train Normalized Root Mean Squared Error for Random Forest: 0.046887472319007834\n",
      "Test Normalized Root Mean Squared Error for Random Forest: 0.08434907918544018\n"
     ]
    }
   ],
   "source": [
    "# Utiliser le meilleur modèle trouvé pour faire des prédictions\n",
    "best_rf = random_search.best_estimator_\n",
    "y_train_pred = best_rf.predict(X_train)\n",
    "y_test_pred = best_rf.predict(X_test)\n",
    "\n",
    "best_train_nrmse = normalized_root_mean_squared_error(y_train, y_train_pred)\n",
    "best_test_nrmse = normalized_root_mean_squared_error(y_test, y_test_pred)\n",
    "\n",
    "print(\"Train R^2 Score Random Forest:\", r2_score(y_train, y_train_pred))\n",
    "print(\"Test R^2 Score Random Forest:\", r2_score(y_test, y_test_pred))\n",
    "print(\"Train Normalized Root Mean Squared Error for Random Forest:\", best_train_nrmse)\n",
    "print(\"Test Normalized Root Mean Squared Error for Random Forest:\", best_test_nrmse)\n"
   ]
  },
  {
   "cell_type": "markdown",
   "metadata": {},
   "source": [
    "### Deep Learning"
   ]
  },
  {
   "cell_type": "code",
   "execution_count": 56,
   "metadata": {},
   "outputs": [],
   "source": [
    "from tensorflow.keras.models import Sequential\n",
    "from tensorflow.keras.layers import Dense, Dropout, BatchNormalization\n",
    "from tensorflow.keras.optimizers import Adam\n",
    "from tensorflow.keras.callbacks import EarlyStopping, ReduceLROnPlateau\n",
    "import tensorflow as tf\n",
    "from tensorflow.keras import backend as K\n",
    "from sklearn.metrics import mean_squared_error, r2_score\n",
    "import sklearn\n",
    "import tensorflow.keras as tk"
   ]
  },
  {
   "cell_type": "code",
   "execution_count": 57,
   "metadata": {},
   "outputs": [],
   "source": [
    "X_dl_train, X_dl_test, y_dl_train, y_dl_test = train_test_split(X_fuel, y_fuel, test_size=0.2, random_state=42)"
   ]
  },
  {
   "cell_type": "code",
   "execution_count": 58,
   "metadata": {},
   "outputs": [],
   "source": [
    "# X_train, X_test, y_train, y_test = train_test_split(X_travel, y_travel, test_size=0.2, random_state=42)\n",
    "# # Standardiser les données\n",
    "# scaler = StandardScaler()\n",
    "# X_train = scaler.fit_transform(X_train)\n",
    "# X_test = scaler.transform(X_test)\n",
    "\n",
    "def nrmse(y_true, y_pred):\n",
    "    \"\"\"\n",
    "    Calculate the Normalized Root Mean Square Error (NRMSE)\n",
    "    \"\"\"\n",
    "    rms = K.sqrt(K.mean(K.square(y_pred - y_true)))\n",
    "    nrmse = rms / (K.max(y_true) - K.min(y_true))\n",
    "    return nrmse\n",
    "\n",
    "def r2_score(y_true, y_pred):\n",
    "    SS_res =  K.sum(K.square(y_true - y_pred))\n",
    "    SS_tot = K.sum(K.square(y_true - K.mean(y_true)))\n",
    "    return 1 - SS_res/(SS_tot )\n",
    "\n",
    "# Créer le modèle de deep learning\n",
    "model = Sequential()\n",
    "model.add(Dense(128, input_dim=X_train.shape[1], activation='relu'))\n",
    "model.add(BatchNormalization())\n",
    "model.add(Dropout(0.2))\n",
    "# model.add(Dense(128, activation='relu'))\n",
    "# model.add(BatchNormalization())\n",
    "# model.add(Dropout(0.2))\n",
    "model.add(Dense(64, activation='relu'))\n",
    "model.add(BatchNormalization())\n",
    "model.add(Dropout(0.2))\n",
    "model.add(Dense(32, activation='relu'))\n",
    "model.add(BatchNormalization())\n",
    "model.add(Dropout(0.2))\n",
    "model.add(Dense(1, activation='linear'))\n",
    "\n",
    "# Compiler le modèle\n",
    "model.compile(optimizer=Adam(learning_rate=0.001), \n",
    "              loss=nrmse, \n",
    "              metrics=[r2_score])"
   ]
  },
  {
   "cell_type": "code",
   "execution_count": 59,
   "metadata": {},
   "outputs": [],
   "source": [
    "# model.summary()"
   ]
  },
  {
   "cell_type": "code",
   "execution_count": 60,
   "metadata": {},
   "outputs": [
    {
     "name": "stdout",
     "output_type": "stream",
     "text": [
      "Epoch 1/100\n",
      "249/249 [==============================] - 4s 8ms/step - loss: 0.2888 - r2_score: 0.0147 - val_loss: 0.2617 - val_r2_score: 0.2079 - lr: 0.0010\n",
      "Epoch 2/100\n",
      "249/249 [==============================] - 1s 6ms/step - loss: 0.2063 - r2_score: 0.4747 - val_loss: 0.1656 - val_r2_score: 0.6733 - lr: 0.0010\n",
      "Epoch 3/100\n",
      "249/249 [==============================] - 1s 4ms/step - loss: 0.1669 - r2_score: 0.6460 - val_loss: 0.1372 - val_r2_score: 0.7686 - lr: 0.0010\n",
      "Epoch 4/100\n",
      "249/249 [==============================] - 1s 3ms/step - loss: 0.1650 - r2_score: 0.5965 - val_loss: 0.1318 - val_r2_score: 0.7869 - lr: 0.0010\n",
      "Epoch 5/100\n",
      "249/249 [==============================] - 1s 4ms/step - loss: 0.1551 - r2_score: 0.6651 - val_loss: 0.1261 - val_r2_score: 0.7989 - lr: 0.0010\n",
      "Epoch 6/100\n",
      "249/249 [==============================] - 1s 6ms/step - loss: 0.1546 - r2_score: 0.6863 - val_loss: 0.1274 - val_r2_score: 0.7991 - lr: 0.0010\n",
      "Epoch 7/100\n",
      "249/249 [==============================] - 1s 4ms/step - loss: 0.1473 - r2_score: 0.7274 - val_loss: 0.1255 - val_r2_score: 0.7974 - lr: 0.0010\n",
      "Epoch 8/100\n",
      "249/249 [==============================] - 1s 4ms/step - loss: 0.1560 - r2_score: 0.6717 - val_loss: 0.1227 - val_r2_score: 0.8079 - lr: 0.0010\n",
      "Epoch 9/100\n",
      "249/249 [==============================] - 1s 5ms/step - loss: 0.1567 - r2_score: 0.6627 - val_loss: 0.1236 - val_r2_score: 0.8099 - lr: 0.0010\n",
      "Epoch 10/100\n",
      "249/249 [==============================] - 1s 6ms/step - loss: 0.1542 - r2_score: 0.6835 - val_loss: 0.1305 - val_r2_score: 0.7882 - lr: 0.0010\n",
      "Epoch 11/100\n",
      "249/249 [==============================] - 1s 4ms/step - loss: 0.1565 - r2_score: 0.5263 - val_loss: 0.1228 - val_r2_score: 0.8101 - lr: 0.0010\n",
      "Epoch 12/100\n",
      "249/249 [==============================] - 1s 4ms/step - loss: 0.1502 - r2_score: 0.6813 - val_loss: 0.1215 - val_r2_score: 0.8149 - lr: 0.0010\n",
      "Epoch 13/100\n",
      "249/249 [==============================] - 1s 5ms/step - loss: 0.1555 - r2_score: 0.6579 - val_loss: 0.1236 - val_r2_score: 0.8084 - lr: 0.0010\n",
      "Epoch 14/100\n",
      "249/249 [==============================] - 1s 3ms/step - loss: 0.1546 - r2_score: 0.6529 - val_loss: 0.1205 - val_r2_score: 0.8176 - lr: 0.0010\n",
      "Epoch 15/100\n",
      "249/249 [==============================] - 1s 3ms/step - loss: 0.1553 - r2_score: 0.6604 - val_loss: 0.1203 - val_r2_score: 0.8201 - lr: 0.0010\n",
      "Epoch 16/100\n",
      "249/249 [==============================] - 1s 4ms/step - loss: 0.1501 - r2_score: 0.7014 - val_loss: 0.1199 - val_r2_score: 0.8188 - lr: 0.0010\n",
      "Epoch 17/100\n",
      "249/249 [==============================] - 1s 4ms/step - loss: 0.1515 - r2_score: 0.6957 - val_loss: 0.1202 - val_r2_score: 0.8172 - lr: 0.0010\n",
      "Epoch 18/100\n",
      "249/249 [==============================] - 1s 3ms/step - loss: 0.1493 - r2_score: 0.7201 - val_loss: 0.1231 - val_r2_score: 0.8117 - lr: 0.0010\n",
      "Epoch 19/100\n",
      "249/249 [==============================] - 1s 4ms/step - loss: 0.1478 - r2_score: 0.7160 - val_loss: 0.1221 - val_r2_score: 0.8139 - lr: 0.0010\n",
      "Epoch 20/100\n",
      "249/249 [==============================] - 1s 4ms/step - loss: 0.1479 - r2_score: 0.6990 - val_loss: 0.1185 - val_r2_score: 0.8228 - lr: 0.0010\n",
      "Epoch 21/100\n",
      "249/249 [==============================] - 1s 4ms/step - loss: 0.1500 - r2_score: 0.6465 - val_loss: 0.1238 - val_r2_score: 0.8117 - lr: 0.0010\n",
      "Epoch 22/100\n",
      "249/249 [==============================] - 1s 3ms/step - loss: 0.1495 - r2_score: 0.6550 - val_loss: 0.1224 - val_r2_score: 0.8112 - lr: 0.0010\n",
      "Epoch 23/100\n",
      "249/249 [==============================] - 1s 3ms/step - loss: 0.1419 - r2_score: 0.7462 - val_loss: 0.1197 - val_r2_score: 0.8180 - lr: 0.0010\n",
      "Epoch 24/100\n",
      "249/249 [==============================] - 1s 5ms/step - loss: 0.1494 - r2_score: 0.7021 - val_loss: 0.1206 - val_r2_score: 0.8168 - lr: 0.0010\n",
      "Epoch 25/100\n",
      "249/249 [==============================] - 1s 3ms/step - loss: 0.1439 - r2_score: 0.7366 - val_loss: 0.1192 - val_r2_score: 0.8218 - lr: 0.0010\n",
      "Epoch 26/100\n",
      "249/249 [==============================] - 1s 4ms/step - loss: 0.1436 - r2_score: 0.7364 - val_loss: 0.1175 - val_r2_score: 0.8269 - lr: 5.0000e-04\n",
      "Epoch 27/100\n",
      "249/249 [==============================] - 1s 4ms/step - loss: 0.1388 - r2_score: 0.7468 - val_loss: 0.1171 - val_r2_score: 0.8262 - lr: 5.0000e-04\n",
      "Epoch 28/100\n",
      "249/249 [==============================] - 2s 8ms/step - loss: 0.1509 - r2_score: 0.6959 - val_loss: 0.1171 - val_r2_score: 0.8274 - lr: 5.0000e-04\n",
      "Epoch 29/100\n",
      "249/249 [==============================] - 2s 6ms/step - loss: 0.1425 - r2_score: 0.7369 - val_loss: 0.1166 - val_r2_score: 0.8286 - lr: 5.0000e-04\n",
      "Epoch 30/100\n",
      "249/249 [==============================] - 2s 6ms/step - loss: 0.1418 - r2_score: 0.7399 - val_loss: 0.1163 - val_r2_score: 0.8297 - lr: 5.0000e-04\n",
      "Epoch 31/100\n",
      "249/249 [==============================] - 2s 7ms/step - loss: 0.1404 - r2_score: 0.7358 - val_loss: 0.1153 - val_r2_score: 0.8303 - lr: 5.0000e-04\n",
      "Epoch 32/100\n",
      "249/249 [==============================] - 1s 5ms/step - loss: 0.1470 - r2_score: 0.7239 - val_loss: 0.1169 - val_r2_score: 0.8275 - lr: 5.0000e-04\n",
      "Epoch 33/100\n",
      "249/249 [==============================] - 1s 4ms/step - loss: 0.1411 - r2_score: 0.7421 - val_loss: 0.1164 - val_r2_score: 0.8298 - lr: 5.0000e-04\n",
      "Epoch 34/100\n",
      "249/249 [==============================] - 1s 4ms/step - loss: 0.1453 - r2_score: 0.7151 - val_loss: 0.1163 - val_r2_score: 0.8279 - lr: 5.0000e-04\n",
      "Epoch 35/100\n",
      "249/249 [==============================] - 1s 4ms/step - loss: 0.1456 - r2_score: 0.6519 - val_loss: 0.1153 - val_r2_score: 0.8316 - lr: 5.0000e-04\n",
      "Epoch 36/100\n",
      "249/249 [==============================] - 1s 3ms/step - loss: 0.1463 - r2_score: 0.7009 - val_loss: 0.1167 - val_r2_score: 0.8272 - lr: 5.0000e-04\n",
      "Epoch 37/100\n",
      "249/249 [==============================] - 1s 3ms/step - loss: 0.1477 - r2_score: 0.6476 - val_loss: 0.1168 - val_r2_score: 0.8275 - lr: 2.5000e-04\n",
      "Epoch 38/100\n",
      "249/249 [==============================] - 1s 4ms/step - loss: 0.1455 - r2_score: 0.7274 - val_loss: 0.1167 - val_r2_score: 0.8288 - lr: 2.5000e-04\n",
      "Epoch 39/100\n",
      "249/249 [==============================] - 1s 3ms/step - loss: 0.1415 - r2_score: 0.7340 - val_loss: 0.1154 - val_r2_score: 0.8313 - lr: 2.5000e-04\n",
      "Epoch 40/100\n",
      "249/249 [==============================] - 1s 3ms/step - loss: 0.1402 - r2_score: 0.7283 - val_loss: 0.1146 - val_r2_score: 0.8333 - lr: 2.5000e-04\n",
      "Epoch 41/100\n",
      "249/249 [==============================] - 1s 4ms/step - loss: 0.1398 - r2_score: 0.7198 - val_loss: 0.1150 - val_r2_score: 0.8321 - lr: 2.5000e-04\n",
      "Epoch 42/100\n",
      "249/249 [==============================] - 1s 5ms/step - loss: 0.1430 - r2_score: 0.7328 - val_loss: 0.1150 - val_r2_score: 0.8328 - lr: 2.5000e-04\n",
      "Epoch 43/100\n",
      "249/249 [==============================] - 1s 3ms/step - loss: 0.1512 - r2_score: 0.6684 - val_loss: 0.1155 - val_r2_score: 0.8311 - lr: 2.5000e-04\n",
      "Epoch 44/100\n",
      "249/249 [==============================] - 1s 3ms/step - loss: 0.1383 - r2_score: 0.7498 - val_loss: 0.1148 - val_r2_score: 0.8333 - lr: 2.5000e-04\n",
      "Epoch 45/100\n",
      "249/249 [==============================] - 1s 3ms/step - loss: 0.1404 - r2_score: 0.7448 - val_loss: 0.1144 - val_r2_score: 0.8336 - lr: 2.5000e-04\n",
      "Epoch 46/100\n",
      "249/249 [==============================] - 1s 4ms/step - loss: 0.1432 - r2_score: 0.7267 - val_loss: 0.1149 - val_r2_score: 0.8319 - lr: 2.5000e-04\n",
      "Epoch 47/100\n",
      "249/249 [==============================] - 1s 3ms/step - loss: 0.1387 - r2_score: 0.7401 - val_loss: 0.1145 - val_r2_score: 0.8334 - lr: 2.5000e-04\n",
      "Epoch 48/100\n",
      "249/249 [==============================] - 1s 3ms/step - loss: 0.1371 - r2_score: 0.7523 - val_loss: 0.1142 - val_r2_score: 0.8340 - lr: 2.5000e-04\n",
      "Epoch 49/100\n",
      "249/249 [==============================] - 1s 3ms/step - loss: 0.1379 - r2_score: 0.7496 - val_loss: 0.1147 - val_r2_score: 0.8327 - lr: 2.5000e-04\n",
      "Epoch 50/100\n",
      "249/249 [==============================] - 1s 4ms/step - loss: 0.1422 - r2_score: 0.7330 - val_loss: 0.1140 - val_r2_score: 0.8348 - lr: 2.5000e-04\n",
      "Epoch 51/100\n",
      "249/249 [==============================] - 1s 3ms/step - loss: 0.1475 - r2_score: 0.6706 - val_loss: 0.1142 - val_r2_score: 0.8340 - lr: 2.5000e-04\n",
      "Epoch 52/100\n",
      "249/249 [==============================] - 1s 3ms/step - loss: 0.1453 - r2_score: 0.7110 - val_loss: 0.1148 - val_r2_score: 0.8328 - lr: 2.5000e-04\n",
      "Epoch 53/100\n",
      "249/249 [==============================] - 1s 4ms/step - loss: 0.1399 - r2_score: 0.7187 - val_loss: 0.1148 - val_r2_score: 0.8336 - lr: 2.5000e-04\n",
      "Epoch 54/100\n",
      "249/249 [==============================] - 1s 5ms/step - loss: 0.1372 - r2_score: 0.7550 - val_loss: 0.1150 - val_r2_score: 0.8333 - lr: 2.5000e-04\n",
      "Epoch 55/100\n",
      "249/249 [==============================] - 1s 3ms/step - loss: 0.1419 - r2_score: 0.7395 - val_loss: 0.1158 - val_r2_score: 0.8317 - lr: 2.5000e-04\n",
      "Epoch 56/100\n",
      "249/249 [==============================] - 1s 3ms/step - loss: 0.1408 - r2_score: 0.6454 - val_loss: 0.1142 - val_r2_score: 0.8350 - lr: 1.2500e-04\n",
      "Epoch 57/100\n",
      "249/249 [==============================] - 1s 4ms/step - loss: 0.1359 - r2_score: 0.7527 - val_loss: 0.1140 - val_r2_score: 0.8356 - lr: 1.2500e-04\n",
      "Epoch 58/100\n",
      "249/249 [==============================] - 1s 5ms/step - loss: 0.1402 - r2_score: 0.7240 - val_loss: 0.1142 - val_r2_score: 0.8350 - lr: 1.2500e-04\n",
      "Epoch 59/100\n",
      "249/249 [==============================] - 1s 3ms/step - loss: 0.1448 - r2_score: 0.7169 - val_loss: 0.1140 - val_r2_score: 0.8353 - lr: 1.2500e-04\n",
      "Epoch 60/100\n",
      "249/249 [==============================] - 1s 3ms/step - loss: 0.1448 - r2_score: 0.6892 - val_loss: 0.1139 - val_r2_score: 0.8356 - lr: 1.2500e-04\n",
      "Epoch 61/100\n",
      "249/249 [==============================] - 1s 4ms/step - loss: 0.1437 - r2_score: 0.7306 - val_loss: 0.1140 - val_r2_score: 0.8350 - lr: 1.2500e-04\n",
      "Epoch 62/100\n",
      "249/249 [==============================] - 1s 4ms/step - loss: 0.1415 - r2_score: 0.7406 - val_loss: 0.1141 - val_r2_score: 0.8351 - lr: 1.2500e-04\n",
      "Epoch 63/100\n",
      "249/249 [==============================] - 1s 3ms/step - loss: 0.1469 - r2_score: 0.1212 - val_loss: 0.1137 - val_r2_score: 0.8360 - lr: 1.2500e-04\n",
      "Epoch 64/100\n",
      "249/249 [==============================] - 1s 3ms/step - loss: 0.1440 - r2_score: 0.7095 - val_loss: 0.1133 - val_r2_score: 0.8368 - lr: 1.2500e-04\n",
      "Epoch 65/100\n",
      "249/249 [==============================] - 1s 4ms/step - loss: 0.1396 - r2_score: 0.7521 - val_loss: 0.1143 - val_r2_score: 0.8351 - lr: 1.2500e-04\n",
      "Epoch 66/100\n",
      "249/249 [==============================] - 1s 4ms/step - loss: 0.1425 - r2_score: 0.7310 - val_loss: 0.1137 - val_r2_score: 0.8362 - lr: 1.2500e-04\n",
      "Epoch 67/100\n",
      "249/249 [==============================] - 1s 4ms/step - loss: 0.1454 - r2_score: 0.6883 - val_loss: 0.1138 - val_r2_score: 0.8365 - lr: 1.2500e-04\n",
      "Epoch 68/100\n",
      "249/249 [==============================] - 1s 3ms/step - loss: 0.1396 - r2_score: 0.7066 - val_loss: 0.1135 - val_r2_score: 0.8369 - lr: 1.2500e-04\n",
      "Epoch 69/100\n",
      "249/249 [==============================] - 1s 4ms/step - loss: 0.1368 - r2_score: 0.7607 - val_loss: 0.1133 - val_r2_score: 0.8374 - lr: 1.2500e-04\n",
      "Epoch 70/100\n",
      "249/249 [==============================] - 1s 4ms/step - loss: 0.1468 - r2_score: 0.6372 - val_loss: 0.1131 - val_r2_score: 0.8379 - lr: 6.2500e-05\n",
      "Epoch 71/100\n",
      "249/249 [==============================] - 1s 3ms/step - loss: 0.1409 - r2_score: 0.7465 - val_loss: 0.1133 - val_r2_score: 0.8374 - lr: 6.2500e-05\n",
      "Epoch 72/100\n",
      "249/249 [==============================] - 1s 3ms/step - loss: 0.1385 - r2_score: 0.7141 - val_loss: 0.1141 - val_r2_score: 0.8356 - lr: 6.2500e-05\n",
      "Epoch 73/100\n",
      "249/249 [==============================] - 1s 4ms/step - loss: 0.1366 - r2_score: 0.7606 - val_loss: 0.1133 - val_r2_score: 0.8374 - lr: 6.2500e-05\n",
      "Epoch 74/100\n",
      "249/249 [==============================] - 1s 3ms/step - loss: 0.1430 - r2_score: 0.7335 - val_loss: 0.1139 - val_r2_score: 0.8361 - lr: 6.2500e-05\n",
      "Epoch 75/100\n",
      "249/249 [==============================] - 1s 4ms/step - loss: 0.1400 - r2_score: 0.7307 - val_loss: 0.1136 - val_r2_score: 0.8369 - lr: 6.2500e-05\n",
      "Epoch 76/100\n",
      "249/249 [==============================] - 1s 3ms/step - loss: 0.1387 - r2_score: 0.7456 - val_loss: 0.1138 - val_r2_score: 0.8366 - lr: 3.1250e-05\n",
      "Epoch 77/100\n",
      "249/249 [==============================] - 1s 4ms/step - loss: 0.1394 - r2_score: 0.7107 - val_loss: 0.1132 - val_r2_score: 0.8376 - lr: 3.1250e-05\n",
      "Epoch 78/100\n",
      "249/249 [==============================] - 1s 4ms/step - loss: 0.1433 - r2_score: 0.7066 - val_loss: 0.1130 - val_r2_score: 0.8378 - lr: 3.1250e-05\n",
      "Epoch 79/100\n",
      "249/249 [==============================] - 1s 4ms/step - loss: 0.1392 - r2_score: 0.7460 - val_loss: 0.1136 - val_r2_score: 0.8366 - lr: 3.1250e-05\n",
      "Epoch 80/100\n",
      "249/249 [==============================] - 1s 4ms/step - loss: 0.1382 - r2_score: 0.7395 - val_loss: 0.1139 - val_r2_score: 0.8360 - lr: 3.1250e-05\n",
      "Epoch 81/100\n",
      "249/249 [==============================] - 1s 4ms/step - loss: 0.1370 - r2_score: 0.7553 - val_loss: 0.1135 - val_r2_score: 0.8367 - lr: 1.5625e-05\n",
      "Epoch 82/100\n",
      "249/249 [==============================] - 1s 3ms/step - loss: 0.1342 - r2_score: 0.7695 - val_loss: 0.1132 - val_r2_score: 0.8375 - lr: 1.5625e-05\n",
      "Epoch 83/100\n",
      "249/249 [==============================] - 1s 4ms/step - loss: 0.1363 - r2_score: 0.7556 - val_loss: 0.1134 - val_r2_score: 0.8370 - lr: 1.5625e-05\n",
      "Epoch 84/100\n",
      "249/249 [==============================] - 1s 4ms/step - loss: 0.1386 - r2_score: 0.7281 - val_loss: 0.1127 - val_r2_score: 0.8382 - lr: 1.5625e-05\n",
      "Epoch 85/100\n",
      "249/249 [==============================] - 1s 3ms/step - loss: 0.1420 - r2_score: 0.7310 - val_loss: 0.1133 - val_r2_score: 0.8373 - lr: 1.5625e-05\n",
      "Epoch 86/100\n",
      "249/249 [==============================] - 1s 3ms/step - loss: 0.1394 - r2_score: 0.7383 - val_loss: 0.1131 - val_r2_score: 0.8378 - lr: 1.5625e-05\n",
      "Epoch 87/100\n",
      "249/249 [==============================] - 1s 3ms/step - loss: 0.1413 - r2_score: 0.7231 - val_loss: 0.1137 - val_r2_score: 0.8365 - lr: 1.5625e-05\n",
      "Epoch 88/100\n",
      "249/249 [==============================] - 1s 4ms/step - loss: 0.1386 - r2_score: 0.7405 - val_loss: 0.1134 - val_r2_score: 0.8370 - lr: 1.5625e-05\n",
      "Epoch 89/100\n",
      "249/249 [==============================] - 1s 3ms/step - loss: 0.1393 - r2_score: 0.7303 - val_loss: 0.1128 - val_r2_score: 0.8385 - lr: 1.5625e-05\n",
      "Epoch 90/100\n",
      "249/249 [==============================] - 1s 3ms/step - loss: 0.1408 - r2_score: 0.7385 - val_loss: 0.1133 - val_r2_score: 0.8373 - lr: 1.0000e-05\n",
      "Epoch 91/100\n",
      "249/249 [==============================] - 1s 3ms/step - loss: 0.1421 - r2_score: 0.7120 - val_loss: 0.1132 - val_r2_score: 0.8375 - lr: 1.0000e-05\n",
      "Epoch 92/100\n",
      "249/249 [==============================] - 1s 5ms/step - loss: 0.1419 - r2_score: 0.6680 - val_loss: 0.1129 - val_r2_score: 0.8381 - lr: 1.0000e-05\n",
      "Epoch 93/100\n",
      "249/249 [==============================] - 1s 3ms/step - loss: 0.1369 - r2_score: 0.7519 - val_loss: 0.1134 - val_r2_score: 0.8370 - lr: 1.0000e-05\n",
      "Epoch 94/100\n",
      "249/249 [==============================] - 1s 3ms/step - loss: 0.1347 - r2_score: 0.7588 - val_loss: 0.1132 - val_r2_score: 0.8374 - lr: 1.0000e-05\n"
     ]
    }
   ],
   "source": [
    "# Callbacks\n",
    "early_stopping = EarlyStopping(monitor='val_loss', patience=10, restore_best_weights=True)\n",
    "reduce_lr = ReduceLROnPlateau(monitor='val_loss', factor=0.5, patience=5, min_lr=0.00001)\n",
    "\n",
    "# Entraîner le modèle\n",
    "history = model.fit(X_train, y_train, \n",
    "                    epochs=100,\n",
    "                    batch_size=16, \n",
    "                    validation_data= (X_test, y_test), \n",
    "                    verbose=1, callbacks=[early_stopping, reduce_lr])"
   ]
  },
  {
   "cell_type": "code",
   "execution_count": 61,
   "metadata": {},
   "outputs": [],
   "source": [
    "# def r2_score_t(y_true, y_pred):\n",
    "#     SS_res = np.sum((y_true - y_pred) ** 2)\n",
    "#     SS_tot = np.sum((y_true - np.mean(y_true)) ** 2)\n",
    "#     return 1 - (SS_res / SS_tot)"
   ]
  },
  {
   "cell_type": "code",
   "execution_count": 62,
   "metadata": {},
   "outputs": [],
   "source": [
    "# # Évaluer le modèle sur les données de test\n",
    "# y_train_pred = model.predict(X_train)\n",
    "# y_test_pred = model.predict(X_test)\n",
    "\n",
    "# train_mse = normalized_root_mean_squared_error(y_train, y_train_pred)\n",
    "# test_mse = normalized_root_mean_squared_error(y_test, y_test_pred)\n",
    "\n",
    "# train_r2 = sklearn.metrics.r2_score(y_train, y_train_pred)\n",
    "# r2_score_t(y_train, y_train_pred)\n",
    "# test_r2 = sklearn.metrics.r2_score(y_test, y_test_pred)\n",
    "\n",
    "# print(f\"Train Mean Squared Error: {train_mse}\")\n",
    "# print(f\"Test Mean Squared Error: {test_mse}\")\n",
    "# print(f\"Train R2 Score: {train_r2}\")\n",
    "# print(f\"Test R2 Score: {test_r2}\")"
   ]
  },
  {
   "cell_type": "code",
   "execution_count": 63,
   "metadata": {},
   "outputs": [
    {
     "data": {
      "text/plain": [
       "<Figure size 1440x360 with 0 Axes>"
      ]
     },
     "execution_count": 63,
     "metadata": {},
     "output_type": "execute_result"
    },
    {
     "data": {
      "text/plain": [
       "<AxesSubplot:>"
      ]
     },
     "execution_count": 63,
     "metadata": {},
     "output_type": "execute_result"
    },
    {
     "data": {
      "text/plain": [
       "[<matplotlib.lines.Line2D at 0x24364194c40>]"
      ]
     },
     "execution_count": 63,
     "metadata": {},
     "output_type": "execute_result"
    },
    {
     "data": {
      "text/plain": [
       "[<matplotlib.lines.Line2D at 0x24364194f70>]"
      ]
     },
     "execution_count": 63,
     "metadata": {},
     "output_type": "execute_result"
    },
    {
     "data": {
      "text/plain": [
       "Text(0.5, 1.0, 'Historique de la perte')"
      ]
     },
     "execution_count": 63,
     "metadata": {},
     "output_type": "execute_result"
    },
    {
     "data": {
      "text/plain": [
       "Text(0.5, 0, 'Épochs')"
      ]
     },
     "execution_count": 63,
     "metadata": {},
     "output_type": "execute_result"
    },
    {
     "data": {
      "text/plain": [
       "Text(0, 0.5, 'Loss')"
      ]
     },
     "execution_count": 63,
     "metadata": {},
     "output_type": "execute_result"
    },
    {
     "data": {
      "text/plain": [
       "<matplotlib.legend.Legend at 0x24360aba770>"
      ]
     },
     "execution_count": 63,
     "metadata": {},
     "output_type": "execute_result"
    },
    {
     "data": {
      "text/plain": [
       "<AxesSubplot:>"
      ]
     },
     "execution_count": 63,
     "metadata": {},
     "output_type": "execute_result"
    },
    {
     "data": {
      "text/plain": [
       "[<matplotlib.lines.Line2D at 0x243641c37c0>]"
      ]
     },
     "execution_count": 63,
     "metadata": {},
     "output_type": "execute_result"
    },
    {
     "data": {
      "text/plain": [
       "[<matplotlib.lines.Line2D at 0x243641c3a90>]"
      ]
     },
     "execution_count": 63,
     "metadata": {},
     "output_type": "execute_result"
    },
    {
     "data": {
      "text/plain": [
       "Text(0.5, 1.0, 'Historique du R² score')"
      ]
     },
     "execution_count": 63,
     "metadata": {},
     "output_type": "execute_result"
    },
    {
     "data": {
      "text/plain": [
       "Text(0.5, 0, 'Épochs')"
      ]
     },
     "execution_count": 63,
     "metadata": {},
     "output_type": "execute_result"
    },
    {
     "data": {
      "text/plain": [
       "Text(0, 0.5, 'R² score')"
      ]
     },
     "execution_count": 63,
     "metadata": {},
     "output_type": "execute_result"
    },
    {
     "data": {
      "text/plain": [
       "<matplotlib.legend.Legend at 0x24360abbbe0>"
      ]
     },
     "execution_count": 63,
     "metadata": {},
     "output_type": "execute_result"
    },
    {
     "data": {
      "image/png": "[encoded data removed]",
      "text/plain": [
       "<Figure size 1440x360 with 2 Axes>"
      ]
     },
     "metadata": {
      "needs_background": "light"
     },
     "output_type": "display_data"
    }
   ],
   "source": [
    "plt.figure(figsize=(20, 5))\n",
    "plt.subplot(1, 2, 1)\n",
    "plt.plot(history.history['loss'], label='Perte d\\'entraînement')\n",
    "plt.plot(history.history['val_loss'], label='Perte de validation')\n",
    "plt.title('Historique de la perte')\n",
    "plt.xlabel('Épochs')\n",
    "plt.ylabel('Loss')\n",
    "plt.legend()\n",
    "\n",
    "plt.subplot(1, 2, 2)\n",
    "plt.plot(history.history['r2_score'], label='R² d\\'entraînement')\n",
    "plt.plot(history.history['val_r2_score'], label='R² de validation')\n",
    "plt.title('Historique du R² score')\n",
    "plt.xlabel('Épochs')\n",
    "plt.ylabel('R² score')\n",
    "plt.legend()\n",
    "\n",
    "plt.show()"
   ]
  },
  {
   "cell_type": "code",
   "execution_count": 64,
   "metadata": {},
   "outputs": [
    {
     "name": "stdout",
     "output_type": "stream",
     "text": [
      "125/125 [==============================] - 0s 2ms/step - loss: 0.0913 - r2_score: 0.8764\n"
     ]
    },
    {
     "data": {
      "text/plain": [
       "[0.0912957713007927, 0.8764259219169617]"
      ]
     },
     "execution_count": 64,
     "metadata": {},
     "output_type": "execute_result"
    },
    {
     "name": "stdout",
     "output_type": "stream",
     "text": [
      "42/42 [==============================] - 0s 2ms/step - loss: 0.0985 - r2_score: 0.8601\n"
     ]
    },
    {
     "data": {
      "text/plain": [
       "[0.09846888482570648, 0.8600702881813049]"
      ]
     },
     "execution_count": 64,
     "metadata": {},
     "output_type": "execute_result"
    }
   ],
   "source": [
    "model.evaluate(X_train, y_train)\n",
    "model.evaluate(X_test, y_test)"
   ]
  },
  {
   "cell_type": "markdown",
   "metadata": {},
   "source": [
    "#### Sauvegarde des donnees du modele"
   ]
  },
  {
   "cell_type": "code",
   "execution_count": 65,
   "metadata": {},
   "outputs": [
    {
     "data": {
      "text/plain": [
       "['scaler_fuel.pkl']"
      ]
     },
     "execution_count": 65,
     "metadata": {},
     "output_type": "execute_result"
    }
   ],
   "source": [
    "import joblib\n",
    "from keras.models import save_model\n",
    "\n",
    "joblib.dump(scaler, 'scaler_fuel.pkl')\n",
    "\n",
    "model.save('model_fuel.h5')"
   ]
  }
 ],
 "metadata": {
  "kernelspec": {
   "display_name": "Python 3",
   "language": "python",
   "name": "python3"
  },
  "language_info": {
   "codemirror_mode": {
    "name": "ipython",
    "version": 3
   },
   "file_extension": ".py",
   "mimetype": "text/x-python",
   "name": "python",
   "nbconvert_exporter": "python",
   "pygments_lexer": "ipython3",
   "version": "3.10.0"
  }
 },
 "nbformat": 4,
 "nbformat_minor": 2
}
