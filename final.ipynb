{
 "cells": [
  {
   "cell_type": "code",
   "execution_count": 1,
   "metadata": {},
   "outputs": [],
   "source": [
    "from IPython.core.interactiveshell import InteractiveShell\n",
    "InteractiveShell.ast_node_interactivity='all'"
   ]
  },
  {
   "cell_type": "code",
   "execution_count": 2,
   "metadata": {},
   "outputs": [],
   "source": [
    "import pandas as pd\n",
    "import matplotlib.pyplot as plt"
   ]
  },
  {
   "cell_type": "code",
   "execution_count": 44,
   "metadata": {},
   "outputs": [],
   "source": [
    "import torch\n",
    "import torch.nn as nn\n",
    "import torch.optim as optim\n",
    "from sklearn.model_selection import train_test_split\n",
    "from sklearn.preprocessing import StandardScaler\n",
    "from tqdm import tqdm"
   ]
  },
  {
   "cell_type": "markdown",
   "metadata": {},
   "source": [
    "## Analyse des donnees"
   ]
  },
  {
   "cell_type": "code",
   "execution_count": 22,
   "metadata": {},
   "outputs": [
    {
     "data": {
      "text/html": [
       "<div>\n",
       "<style scoped>\n",
       "    .dataframe tbody tr th:only-of-type {\n",
       "        vertical-align: middle;\n",
       "    }\n",
       "\n",
       "    .dataframe tbody tr th {\n",
       "        vertical-align: top;\n",
       "    }\n",
       "\n",
       "    .dataframe thead th {\n",
       "        text-align: right;\n",
       "    }\n",
       "</style>\n",
       "<table border=\"1\" class=\"dataframe\">\n",
       "  <thead>\n",
       "    <tr style=\"text-align: right;\">\n",
       "      <th></th>\n",
       "      <th>DateTime</th>\n",
       "      <th>VehicleID</th>\n",
       "      <th>X</th>\n",
       "      <th>Y</th>\n",
       "      <th>Longitude</th>\n",
       "      <th>Latitude</th>\n",
       "      <th>Speed</th>\n",
       "      <th>FuelConsumption</th>\n",
       "      <th>CO2Emission</th>\n",
       "      <th>TravelTime</th>\n",
       "      <th>ActionId</th>\n",
       "      <th>ActionName</th>\n",
       "      <th>ActionParam</th>\n",
       "      <th>ActionDuration</th>\n",
       "    </tr>\n",
       "  </thead>\n",
       "  <tbody>\n",
       "    <tr>\n",
       "      <th>0</th>\n",
       "      <td>74.0</td>\n",
       "      <td>veh1</td>\n",
       "      <td>0.000000</td>\n",
       "      <td>0.000000</td>\n",
       "      <td>0.000000</td>\n",
       "      <td>0.000000</td>\n",
       "      <td>0.000000</td>\n",
       "      <td>360596.694562</td>\n",
       "      <td>1.130576e+06</td>\n",
       "      <td>81.0</td>\n",
       "      <td>NaN</td>\n",
       "      <td>NaN</td>\n",
       "      <td>0.000000</td>\n",
       "      <td>0.0</td>\n",
       "    </tr>\n",
       "    <tr>\n",
       "      <th>1</th>\n",
       "      <td>3.0</td>\n",
       "      <td>veh1</td>\n",
       "      <td>1337.166671</td>\n",
       "      <td>519.186120</td>\n",
       "      <td>1.478127</td>\n",
       "      <td>43.564648</td>\n",
       "      <td>15.200000</td>\n",
       "      <td>814646.016924</td>\n",
       "      <td>2.554148e+06</td>\n",
       "      <td>31.0</td>\n",
       "      <td>0.0</td>\n",
       "      <td>accelerate</td>\n",
       "      <td>8.996184</td>\n",
       "      <td>11.0</td>\n",
       "    </tr>\n",
       "    <tr>\n",
       "      <th>2</th>\n",
       "      <td>NaN</td>\n",
       "      <td>NaN</td>\n",
       "      <td>NaN</td>\n",
       "      <td>NaN</td>\n",
       "      <td>NaN</td>\n",
       "      <td>NaN</td>\n",
       "      <td>NaN</td>\n",
       "      <td>NaN</td>\n",
       "      <td>NaN</td>\n",
       "      <td>NaN</td>\n",
       "      <td>NaN</td>\n",
       "      <td>NaN</td>\n",
       "      <td>NaN</td>\n",
       "      <td>NaN</td>\n",
       "    </tr>\n",
       "    <tr>\n",
       "      <th>3</th>\n",
       "      <td>80.0</td>\n",
       "      <td>veh1</td>\n",
       "      <td>222.431707</td>\n",
       "      <td>894.631401</td>\n",
       "      <td>1.464242</td>\n",
       "      <td>43.567843</td>\n",
       "      <td>36.566167</td>\n",
       "      <td>372145.857680</td>\n",
       "      <td>1.166786e+06</td>\n",
       "      <td>81.0</td>\n",
       "      <td>0.0</td>\n",
       "      <td>accelerate</td>\n",
       "      <td>6.371548</td>\n",
       "      <td>7.0</td>\n",
       "    </tr>\n",
       "    <tr>\n",
       "      <th>4</th>\n",
       "      <td>6.0</td>\n",
       "      <td>veh1</td>\n",
       "      <td>1289.429548</td>\n",
       "      <td>480.909632</td>\n",
       "      <td>1.477544</td>\n",
       "      <td>43.564296</td>\n",
       "      <td>23.000000</td>\n",
       "      <td>373060.535770</td>\n",
       "      <td>1.169648e+06</td>\n",
       "      <td>117.0</td>\n",
       "      <td>2.0</td>\n",
       "      <td>stop</td>\n",
       "      <td>0.000000</td>\n",
       "      <td>17.0</td>\n",
       "    </tr>\n",
       "    <tr>\n",
       "      <th>5</th>\n",
       "      <td>46.0</td>\n",
       "      <td>veh1</td>\n",
       "      <td>520.447991</td>\n",
       "      <td>781.739001</td>\n",
       "      <td>1.467957</td>\n",
       "      <td>43.566877</td>\n",
       "      <td>9.002357</td>\n",
       "      <td>650226.866452</td>\n",
       "      <td>2.038650e+06</td>\n",
       "      <td>58.0</td>\n",
       "      <td>0.0</td>\n",
       "      <td>accelerate</td>\n",
       "      <td>7.225606</td>\n",
       "      <td>16.0</td>\n",
       "    </tr>\n",
       "    <tr>\n",
       "      <th>6</th>\n",
       "      <td>NaN</td>\n",
       "      <td>NaN</td>\n",
       "      <td>NaN</td>\n",
       "      <td>NaN</td>\n",
       "      <td>NaN</td>\n",
       "      <td>NaN</td>\n",
       "      <td>NaN</td>\n",
       "      <td>NaN</td>\n",
       "      <td>NaN</td>\n",
       "      <td>NaN</td>\n",
       "      <td>NaN</td>\n",
       "      <td>NaN</td>\n",
       "      <td>NaN</td>\n",
       "      <td>NaN</td>\n",
       "    </tr>\n",
       "    <tr>\n",
       "      <th>7</th>\n",
       "      <td>36.0</td>\n",
       "      <td>veh1</td>\n",
       "      <td>602.828451</td>\n",
       "      <td>646.515988</td>\n",
       "      <td>1.469008</td>\n",
       "      <td>43.565673</td>\n",
       "      <td>36.822929</td>\n",
       "      <td>319918.348191</td>\n",
       "      <td>1.003037e+06</td>\n",
       "      <td>85.0</td>\n",
       "      <td>1.0</td>\n",
       "      <td>decelerate</td>\n",
       "      <td>9.364849</td>\n",
       "      <td>14.0</td>\n",
       "    </tr>\n",
       "    <tr>\n",
       "      <th>8</th>\n",
       "      <td>68.0</td>\n",
       "      <td>veh1</td>\n",
       "      <td>314.286388</td>\n",
       "      <td>1072.162824</td>\n",
       "      <td>1.465339</td>\n",
       "      <td>43.569456</td>\n",
       "      <td>25.481857</td>\n",
       "      <td>771743.265952</td>\n",
       "      <td>2.419647e+06</td>\n",
       "      <td>75.0</td>\n",
       "      <td>0.0</td>\n",
       "      <td>accelerate</td>\n",
       "      <td>7.932225</td>\n",
       "      <td>12.0</td>\n",
       "    </tr>\n",
       "    <tr>\n",
       "      <th>9</th>\n",
       "      <td>50.0</td>\n",
       "      <td>veh1</td>\n",
       "      <td>507.937816</td>\n",
       "      <td>812.776136</td>\n",
       "      <td>1.467795</td>\n",
       "      <td>43.567154</td>\n",
       "      <td>12.302357</td>\n",
       "      <td>331532.125270</td>\n",
       "      <td>1.039449e+06</td>\n",
       "      <td>101.0</td>\n",
       "      <td>1.0</td>\n",
       "      <td>decelerate</td>\n",
       "      <td>5.299163</td>\n",
       "      <td>16.0</td>\n",
       "    </tr>\n",
       "  </tbody>\n",
       "</table>\n",
       "</div>"
      ],
      "text/plain": [
       "   DateTime VehicleID            X            Y  Longitude   Latitude   \n",
       "0      74.0      veh1     0.000000     0.000000   0.000000   0.000000  \\\n",
       "1       3.0      veh1  1337.166671   519.186120   1.478127  43.564648   \n",
       "2       NaN       NaN          NaN          NaN        NaN        NaN   \n",
       "3      80.0      veh1   222.431707   894.631401   1.464242  43.567843   \n",
       "4       6.0      veh1  1289.429548   480.909632   1.477544  43.564296   \n",
       "5      46.0      veh1   520.447991   781.739001   1.467957  43.566877   \n",
       "6       NaN       NaN          NaN          NaN        NaN        NaN   \n",
       "7      36.0      veh1   602.828451   646.515988   1.469008  43.565673   \n",
       "8      68.0      veh1   314.286388  1072.162824   1.465339  43.569456   \n",
       "9      50.0      veh1   507.937816   812.776136   1.467795  43.567154   \n",
       "\n",
       "       Speed  FuelConsumption   CO2Emission  TravelTime  ActionId  ActionName   \n",
       "0   0.000000    360596.694562  1.130576e+06        81.0       NaN         NaN  \\\n",
       "1  15.200000    814646.016924  2.554148e+06        31.0       0.0  accelerate   \n",
       "2        NaN              NaN           NaN         NaN       NaN         NaN   \n",
       "3  36.566167    372145.857680  1.166786e+06        81.0       0.0  accelerate   \n",
       "4  23.000000    373060.535770  1.169648e+06       117.0       2.0        stop   \n",
       "5   9.002357    650226.866452  2.038650e+06        58.0       0.0  accelerate   \n",
       "6        NaN              NaN           NaN         NaN       NaN         NaN   \n",
       "7  36.822929    319918.348191  1.003037e+06        85.0       1.0  decelerate   \n",
       "8  25.481857    771743.265952  2.419647e+06        75.0       0.0  accelerate   \n",
       "9  12.302357    331532.125270  1.039449e+06       101.0       1.0  decelerate   \n",
       "\n",
       "   ActionParam  ActionDuration  \n",
       "0     0.000000             0.0  \n",
       "1     8.996184            11.0  \n",
       "2          NaN             NaN  \n",
       "3     6.371548             7.0  \n",
       "4     0.000000            17.0  \n",
       "5     7.225606            16.0  \n",
       "6          NaN             NaN  \n",
       "7     9.364849            14.0  \n",
       "8     7.932225            12.0  \n",
       "9     5.299163            16.0  "
      ]
     },
     "execution_count": 22,
     "metadata": {},
     "output_type": "execute_result"
    }
   ],
   "source": [
    "data = pd.read_csv(\"final_data3.csv\")\n",
    "data.head(10)"
   ]
  },
  {
   "cell_type": "code",
   "execution_count": 29,
   "metadata": {},
   "outputs": [],
   "source": [
    "# les valeurs de reference. Simulation sans requete\n",
    "reference_values = data.iloc[0]\n",
    "# print(reference_values[\"FuelConsumption\"])"
   ]
  },
  {
   "cell_type": "code",
   "execution_count": 24,
   "metadata": {},
   "outputs": [
    {
     "data": {
      "text/plain": [
       "303"
      ]
     },
     "execution_count": 24,
     "metadata": {},
     "output_type": "execute_result"
    }
   ],
   "source": [
    "# suppression des lignes vides\n",
    "final_data = data.dropna()\n",
    "len(final_data)"
   ]
  },
  {
   "cell_type": "code",
   "execution_count": 25,
   "metadata": {},
   "outputs": [
    {
     "name": "stderr",
     "output_type": "stream",
     "text": [
      "C:\\Users\\USER\\AppData\\Local\\Temp/ipykernel_26924/1317111406.py:1: UserWarning: Boolean Series key will be reindexed to match DataFrame index.\n",
      "  len(final_data[data.ActionId == 2])\n"
     ]
    },
    {
     "data": {
      "text/plain": [
       "45"
      ]
     },
     "execution_count": 25,
     "metadata": {},
     "output_type": "execute_result"
    }
   ],
   "source": [
    "len(final_data[data.ActionId == 2])"
   ]
  },
  {
   "cell_type": "code",
   "execution_count": 26,
   "metadata": {},
   "outputs": [
    {
     "data": {
      "text/plain": [
       "<BarContainer object of 3 artists>"
      ]
     },
     "execution_count": 26,
     "metadata": {},
     "output_type": "execute_result"
    },
    {
     "data": {
      "text/plain": [
       "Text(0.5, 0, \"Type d'action\")"
      ]
     },
     "execution_count": 26,
     "metadata": {},
     "output_type": "execute_result"
    },
    {
     "data": {
      "text/plain": [
       "Text(0, 0.5, 'Fréquence')"
      ]
     },
     "execution_count": 26,
     "metadata": {},
     "output_type": "execute_result"
    },
    {
     "data": {
      "text/plain": [
       "Text(0.5, 1.0, 'Histogramme des occurrences des actions')"
      ]
     },
     "execution_count": 26,
     "metadata": {},
     "output_type": "execute_result"
    },
    {
     "data": {
      "image/png": "[encoded data removed]",
      "text/plain": [
       "<Figure size 432x288 with 1 Axes>"
      ]
     },
     "metadata": {
      "needs_background": "light"
     },
     "output_type": "display_data"
    }
   ],
   "source": [
    "labels = [0,1,2]\n",
    "# Comptage des occurrences de chaque label dans la colonne 'actionId'\n",
    "counts = final_data['ActionId'].value_counts().reindex(labels, fill_value=0)\n",
    "\n",
    "# Création de l'histogramme\n",
    "plt.bar(counts.index, counts.values, tick_label=labels, edgecolor='black')\n",
    "\n",
    "# Ajouter des labels et un titre\n",
    "plt.xlabel(\"Type d'action\")\n",
    "plt.ylabel('Fréquence')\n",
    "plt.title('Histogramme des occurrences des actions')\n",
    "\n",
    "# Afficher l'histogramme\n",
    "plt.show()"
   ]
  },
  {
   "cell_type": "markdown",
   "metadata": {},
   "source": [
    "## Preparation des donnees X, y"
   ]
  },
  {
   "cell_type": "markdown",
   "metadata": {},
   "source": [
    "Les donnees seront telles que si le trajet d'un scenario est superieur a celui du trajet de reference , le label du trajet sera ettiqueté a -1.\n",
    "De meme si la consommation de carburant est superieur a celui du reference, le label sera -1"
   ]
  },
  {
   "cell_type": "code",
   "execution_count": 30,
   "metadata": {},
   "outputs": [
    {
     "name": "stderr",
     "output_type": "stream",
     "text": [
      "C:\\Users\\USER\\AppData\\Local\\Temp/ipykernel_26924/3376312880.py:6: SettingWithCopyWarning: \n",
      "A value is trying to be set on a copy of a slice from a DataFrame.\n",
      "Try using .loc[row_indexer,col_indexer] = value instead\n",
      "\n",
      "See the caveats in the documentation: https://pandas.pydata.org/pandas-docs/stable/user_guide/indexing.html#returning-a-view-versus-a-copy\n",
      "  final_data['y_travel'] = final_data['TravelTime'].apply(lambda x: -1 if x > travel_reference else 1)\n",
      "C:\\Users\\USER\\AppData\\Local\\Temp/ipykernel_26924/3376312880.py:9: SettingWithCopyWarning: \n",
      "A value is trying to be set on a copy of a slice from a DataFrame.\n",
      "Try using .loc[row_indexer,col_indexer] = value instead\n",
      "\n",
      "See the caveats in the documentation: https://pandas.pydata.org/pandas-docs/stable/user_guide/indexing.html#returning-a-view-versus-a-copy\n",
      "  final_data['y_fuel'] = final_data['FuelConsumption'].apply(lambda x: -1 if x > fuel_reference else 1)\n"
     ]
    }
   ],
   "source": [
    "# Références pour les comparaisons\n",
    "travel_reference = reference_values[\"TravelTime\"]\n",
    "fuel_reference = reference_values[\"FuelConsumption\"]\n",
    "\n",
    "# Ajouter la colonne y_travel\n",
    "final_data['y_travel'] = final_data['TravelTime'].apply(lambda x: -1 if x > travel_reference else 1)\n",
    "\n",
    "# Ajouter la colonne y_fuel\n",
    "final_data['y_fuel'] = final_data['FuelConsumption'].apply(lambda x: -1 if x > fuel_reference else 1)\n"
   ]
  },
  {
   "cell_type": "code",
   "execution_count": 32,
   "metadata": {},
   "outputs": [
    {
     "data": {
      "text/html": [
       "<div>\n",
       "<style scoped>\n",
       "    .dataframe tbody tr th:only-of-type {\n",
       "        vertical-align: middle;\n",
       "    }\n",
       "\n",
       "    .dataframe tbody tr th {\n",
       "        vertical-align: top;\n",
       "    }\n",
       "\n",
       "    .dataframe thead th {\n",
       "        text-align: right;\n",
       "    }\n",
       "</style>\n",
       "<table border=\"1\" class=\"dataframe\">\n",
       "  <thead>\n",
       "    <tr style=\"text-align: right;\">\n",
       "      <th></th>\n",
       "      <th>DateTime</th>\n",
       "      <th>VehicleID</th>\n",
       "      <th>X</th>\n",
       "      <th>Y</th>\n",
       "      <th>Longitude</th>\n",
       "      <th>Latitude</th>\n",
       "      <th>Speed</th>\n",
       "      <th>FuelConsumption</th>\n",
       "      <th>CO2Emission</th>\n",
       "      <th>TravelTime</th>\n",
       "      <th>ActionId</th>\n",
       "      <th>ActionName</th>\n",
       "      <th>ActionParam</th>\n",
       "      <th>ActionDuration</th>\n",
       "      <th>y_travel</th>\n",
       "      <th>y_fuel</th>\n",
       "    </tr>\n",
       "  </thead>\n",
       "  <tbody>\n",
       "    <tr>\n",
       "      <th>1</th>\n",
       "      <td>3.0</td>\n",
       "      <td>veh1</td>\n",
       "      <td>1337.166671</td>\n",
       "      <td>519.186120</td>\n",
       "      <td>1.478127</td>\n",
       "      <td>43.564648</td>\n",
       "      <td>15.200000</td>\n",
       "      <td>814646.016924</td>\n",
       "      <td>2.554148e+06</td>\n",
       "      <td>31.0</td>\n",
       "      <td>0.0</td>\n",
       "      <td>accelerate</td>\n",
       "      <td>8.996184</td>\n",
       "      <td>11.0</td>\n",
       "      <td>1</td>\n",
       "      <td>-1</td>\n",
       "    </tr>\n",
       "    <tr>\n",
       "      <th>3</th>\n",
       "      <td>80.0</td>\n",
       "      <td>veh1</td>\n",
       "      <td>222.431707</td>\n",
       "      <td>894.631401</td>\n",
       "      <td>1.464242</td>\n",
       "      <td>43.567843</td>\n",
       "      <td>36.566167</td>\n",
       "      <td>372145.857680</td>\n",
       "      <td>1.166786e+06</td>\n",
       "      <td>81.0</td>\n",
       "      <td>0.0</td>\n",
       "      <td>accelerate</td>\n",
       "      <td>6.371548</td>\n",
       "      <td>7.0</td>\n",
       "      <td>1</td>\n",
       "      <td>-1</td>\n",
       "    </tr>\n",
       "    <tr>\n",
       "      <th>4</th>\n",
       "      <td>6.0</td>\n",
       "      <td>veh1</td>\n",
       "      <td>1289.429548</td>\n",
       "      <td>480.909632</td>\n",
       "      <td>1.477544</td>\n",
       "      <td>43.564296</td>\n",
       "      <td>23.000000</td>\n",
       "      <td>373060.535770</td>\n",
       "      <td>1.169648e+06</td>\n",
       "      <td>117.0</td>\n",
       "      <td>2.0</td>\n",
       "      <td>stop</td>\n",
       "      <td>0.000000</td>\n",
       "      <td>17.0</td>\n",
       "      <td>-1</td>\n",
       "      <td>-1</td>\n",
       "    </tr>\n",
       "    <tr>\n",
       "      <th>5</th>\n",
       "      <td>46.0</td>\n",
       "      <td>veh1</td>\n",
       "      <td>520.447991</td>\n",
       "      <td>781.739001</td>\n",
       "      <td>1.467957</td>\n",
       "      <td>43.566877</td>\n",
       "      <td>9.002357</td>\n",
       "      <td>650226.866452</td>\n",
       "      <td>2.038650e+06</td>\n",
       "      <td>58.0</td>\n",
       "      <td>0.0</td>\n",
       "      <td>accelerate</td>\n",
       "      <td>7.225606</td>\n",
       "      <td>16.0</td>\n",
       "      <td>1</td>\n",
       "      <td>-1</td>\n",
       "    </tr>\n",
       "    <tr>\n",
       "      <th>7</th>\n",
       "      <td>36.0</td>\n",
       "      <td>veh1</td>\n",
       "      <td>602.828451</td>\n",
       "      <td>646.515988</td>\n",
       "      <td>1.469008</td>\n",
       "      <td>43.565673</td>\n",
       "      <td>36.822929</td>\n",
       "      <td>319918.348191</td>\n",
       "      <td>1.003037e+06</td>\n",
       "      <td>85.0</td>\n",
       "      <td>1.0</td>\n",
       "      <td>decelerate</td>\n",
       "      <td>9.364849</td>\n",
       "      <td>14.0</td>\n",
       "      <td>-1</td>\n",
       "      <td>1</td>\n",
       "    </tr>\n",
       "    <tr>\n",
       "      <th>8</th>\n",
       "      <td>68.0</td>\n",
       "      <td>veh1</td>\n",
       "      <td>314.286388</td>\n",
       "      <td>1072.162824</td>\n",
       "      <td>1.465339</td>\n",
       "      <td>43.569456</td>\n",
       "      <td>25.481857</td>\n",
       "      <td>771743.265952</td>\n",
       "      <td>2.419647e+06</td>\n",
       "      <td>75.0</td>\n",
       "      <td>0.0</td>\n",
       "      <td>accelerate</td>\n",
       "      <td>7.932225</td>\n",
       "      <td>12.0</td>\n",
       "      <td>1</td>\n",
       "      <td>-1</td>\n",
       "    </tr>\n",
       "    <tr>\n",
       "      <th>9</th>\n",
       "      <td>50.0</td>\n",
       "      <td>veh1</td>\n",
       "      <td>507.937816</td>\n",
       "      <td>812.776136</td>\n",
       "      <td>1.467795</td>\n",
       "      <td>43.567154</td>\n",
       "      <td>12.302357</td>\n",
       "      <td>331532.125270</td>\n",
       "      <td>1.039449e+06</td>\n",
       "      <td>101.0</td>\n",
       "      <td>1.0</td>\n",
       "      <td>decelerate</td>\n",
       "      <td>5.299163</td>\n",
       "      <td>16.0</td>\n",
       "      <td>-1</td>\n",
       "      <td>1</td>\n",
       "    </tr>\n",
       "    <tr>\n",
       "      <th>11</th>\n",
       "      <td>3.0</td>\n",
       "      <td>veh1</td>\n",
       "      <td>1337.166671</td>\n",
       "      <td>519.186120</td>\n",
       "      <td>1.478127</td>\n",
       "      <td>43.564648</td>\n",
       "      <td>15.200000</td>\n",
       "      <td>372759.451806</td>\n",
       "      <td>1.168709e+06</td>\n",
       "      <td>83.0</td>\n",
       "      <td>1.0</td>\n",
       "      <td>decelerate</td>\n",
       "      <td>4.534509</td>\n",
       "      <td>10.0</td>\n",
       "      <td>-1</td>\n",
       "      <td>-1</td>\n",
       "    </tr>\n",
       "    <tr>\n",
       "      <th>12</th>\n",
       "      <td>33.0</td>\n",
       "      <td>veh1</td>\n",
       "      <td>701.021623</td>\n",
       "      <td>598.175773</td>\n",
       "      <td>1.470234</td>\n",
       "      <td>43.565254</td>\n",
       "      <td>50.322929</td>\n",
       "      <td>742048.058560</td>\n",
       "      <td>2.326529e+06</td>\n",
       "      <td>44.0</td>\n",
       "      <td>0.0</td>\n",
       "      <td>accelerate</td>\n",
       "      <td>7.344032</td>\n",
       "      <td>8.0</td>\n",
       "      <td>1</td>\n",
       "      <td>-1</td>\n",
       "    </tr>\n",
       "    <tr>\n",
       "      <th>13</th>\n",
       "      <td>55.0</td>\n",
       "      <td>veh1</td>\n",
       "      <td>440.117626</td>\n",
       "      <td>885.067935</td>\n",
       "      <td>1.466939</td>\n",
       "      <td>43.567793</td>\n",
       "      <td>25.302357</td>\n",
       "      <td>362800.610413</td>\n",
       "      <td>1.137483e+06</td>\n",
       "      <td>101.0</td>\n",
       "      <td>2.0</td>\n",
       "      <td>stop</td>\n",
       "      <td>0.000000</td>\n",
       "      <td>5.0</td>\n",
       "      <td>-1</td>\n",
       "      <td>-1</td>\n",
       "    </tr>\n",
       "  </tbody>\n",
       "</table>\n",
       "</div>"
      ],
      "text/plain": [
       "    DateTime VehicleID            X            Y  Longitude   Latitude   \n",
       "1        3.0      veh1  1337.166671   519.186120   1.478127  43.564648  \\\n",
       "3       80.0      veh1   222.431707   894.631401   1.464242  43.567843   \n",
       "4        6.0      veh1  1289.429548   480.909632   1.477544  43.564296   \n",
       "5       46.0      veh1   520.447991   781.739001   1.467957  43.566877   \n",
       "7       36.0      veh1   602.828451   646.515988   1.469008  43.565673   \n",
       "8       68.0      veh1   314.286388  1072.162824   1.465339  43.569456   \n",
       "9       50.0      veh1   507.937816   812.776136   1.467795  43.567154   \n",
       "11       3.0      veh1  1337.166671   519.186120   1.478127  43.564648   \n",
       "12      33.0      veh1   701.021623   598.175773   1.470234  43.565254   \n",
       "13      55.0      veh1   440.117626   885.067935   1.466939  43.567793   \n",
       "\n",
       "        Speed  FuelConsumption   CO2Emission  TravelTime  ActionId   \n",
       "1   15.200000    814646.016924  2.554148e+06        31.0       0.0  \\\n",
       "3   36.566167    372145.857680  1.166786e+06        81.0       0.0   \n",
       "4   23.000000    373060.535770  1.169648e+06       117.0       2.0   \n",
       "5    9.002357    650226.866452  2.038650e+06        58.0       0.0   \n",
       "7   36.822929    319918.348191  1.003037e+06        85.0       1.0   \n",
       "8   25.481857    771743.265952  2.419647e+06        75.0       0.0   \n",
       "9   12.302357    331532.125270  1.039449e+06       101.0       1.0   \n",
       "11  15.200000    372759.451806  1.168709e+06        83.0       1.0   \n",
       "12  50.322929    742048.058560  2.326529e+06        44.0       0.0   \n",
       "13  25.302357    362800.610413  1.137483e+06       101.0       2.0   \n",
       "\n",
       "    ActionName  ActionParam  ActionDuration  y_travel  y_fuel  \n",
       "1   accelerate     8.996184            11.0         1      -1  \n",
       "3   accelerate     6.371548             7.0         1      -1  \n",
       "4         stop     0.000000            17.0        -1      -1  \n",
       "5   accelerate     7.225606            16.0         1      -1  \n",
       "7   decelerate     9.364849            14.0        -1       1  \n",
       "8   accelerate     7.932225            12.0         1      -1  \n",
       "9   decelerate     5.299163            16.0        -1       1  \n",
       "11  decelerate     4.534509            10.0        -1      -1  \n",
       "12  accelerate     7.344032             8.0         1      -1  \n",
       "13        stop     0.000000             5.0        -1      -1  "
      ]
     },
     "execution_count": 32,
     "metadata": {},
     "output_type": "execute_result"
    }
   ],
   "source": [
    "final_data.head(10)"
   ]
  },
  {
   "cell_type": "code",
   "execution_count": 39,
   "metadata": {},
   "outputs": [],
   "source": [
    "# len(final_data[(final_data.y_travel == -1) & (final_data.y_fuel ==-1) & (final_data.ActionId ==0)])"
   ]
  },
  {
   "cell_type": "code",
   "execution_count": 41,
   "metadata": {},
   "outputs": [],
   "source": [
    "# Sélectionner X et y\n",
    "X = final_data[['ActionId', 'ActionParam', 'ActionDuration', 'Longitude', 'Latitude', 'Speed']]\n",
    "y = final_data[['y_travel', 'y_fuel']]"
   ]
  },
  {
   "cell_type": "code",
   "execution_count": 42,
   "metadata": {},
   "outputs": [
    {
     "data": {
      "text/plain": [
       "303"
      ]
     },
     "execution_count": 42,
     "metadata": {},
     "output_type": "execute_result"
    }
   ],
   "source": [
    "len(X)"
   ]
  },
  {
   "cell_type": "markdown",
   "metadata": {},
   "source": [
    "## Apprentissage automatique"
   ]
  },
  {
   "cell_type": "code",
   "execution_count": 45,
   "metadata": {},
   "outputs": [],
   "source": [
    "# Standardisation des caractéristiques\n",
    "scaler = StandardScaler()\n",
    "X = scaler.fit_transform(X)\n",
    "\n",
    "# Convertir en tensors PyTorch\n",
    "X = torch.tensor(X, dtype=torch.float32)\n",
    "y = torch.tensor(y.values, dtype=torch.float32)"
   ]
  },
  {
   "cell_type": "code",
   "execution_count": 46,
   "metadata": {},
   "outputs": [],
   "source": [
    "# Séparation des données en ensembles d'entraînement et de test\n",
    "X_train, X_test, y_train, y_test = train_test_split(X, y, test_size=0.2, random_state=42)"
   ]
  },
  {
   "cell_type": "code",
   "execution_count": null,
   "metadata": {},
   "outputs": [],
   "source": [
    "# Le modele\n",
    "class SimpleNN(nn.Module):\n",
    "    def __init__(self):\n",
    "        super(SimpleNN, self).__init__()\n",
    "        self.fc1 = nn.Linear(6, 64)\n",
    "        self.fc2 = nn.Linear(64, 32)\n",
    "        self.fc3 = nn.Linear(32, 2)\n",
    "    \n",
    "    def forward(self, x):\n",
    "        x = torch.relu(self.fc1(x))\n",
    "        x = torch.relu(self.fc2(x))\n",
    "        x = self.fc3(x)\n",
    "        return x"
   ]
  }
 ],
 "metadata": {
  "kernelspec": {
   "display_name": "Python 3",
   "language": "python",
   "name": "python3"
  },
  "language_info": {
   "codemirror_mode": {
    "name": "ipython",
    "version": 3
   },
   "file_extension": ".py",
   "mimetype": "text/x-python",
   "name": "python",
   "nbconvert_exporter": "python",
   "pygments_lexer": "ipython3",
   "version": "3.10.0"
  }
 },
 "nbformat": 4,
 "nbformat_minor": 2
}
