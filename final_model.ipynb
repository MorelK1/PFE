{
 "cells": [
  {
   "cell_type": "code",
   "execution_count": 2,
   "metadata": {},
   "outputs": [],
   "source": [
    "from IPython.core.interactiveshell import InteractiveShell\n",
    "InteractiveShell.ast_node_interactivity='all'"
   ]
  },
  {
   "cell_type": "markdown",
   "metadata": {},
   "source": [
    "## Modélisation mathématique du problème\n",
    "\n",
    "Soit:\n",
    "\n",
    "-   $\\mathbf{R} = \\left\\{ r_{1}, r_{2}, ..., r_{n} \\right\\}$ une liste de requêtes emises sur le vehicule\n",
    "    \n",
    "-   $ \\mathbf{W} = \\left\\{ w_{1}, w_{2}, ..., w_{n} \\right\\}$ le poids associé à chaque requête\n",
    "    \n",
    "-   $ \\mathbf{U} = \\left\\{ u_{1}, u_{2}, ..., u_{n} \\right\\}$ avec $u_{i} \\epsilon \\left\\{ 0, 1 \\right\\}$ une variable binaire désignant si la requete est acceptée ou pas.\n",
    "    \n",
    "\n",
    "L’objectif est d’avoir les valeurs de U qui maximisent la moyenne pondérée des poids et minimisent l'impact négatif des requêtes sur les QoS (Temps de trajet, Quantité de carburant consommée). La fonction objective peut être formulée comme suit:\n",
    "<div align=\"center\">\n",
    "\n",
    "$$\n",
    "\\max \\left(\\sum_{i=1}^{n} \\left (w_{i} x_{i} \\right) + \\lambda \\sum_{i=1}^{n} \\left (x_{i} \\left (q_{t} t_{i} + q_{c} c_{i} \\right) \\right)\\right)\n",
    "$$\n",
    "\n",
    "</div>\n",
    "\n",
    "\n",
    "Où:\n",
    "\n",
    "-   $q_{t}$ est le poids de l'objectif temps de trajet\n",
    "    \n",
    "-   $t_{i}$ l'impact de la requete $r_{i}$ sur le temps de trajet\n",
    "    \n",
    "-   $q_{c}$ est le poids de l'objectif temps de trajet\n",
    "    \n",
    "-   $c_{i}$ l'impact de la requete $r_{i}$ sur le temps de trajet\n",
    "    \n",
    "-   $\\lambda$ est un facteur de pénalité pour équilibrer l'importance des poids des requêtes et des impacts sur les QoS. (L'impact a la meme echelle que les poids).\n",
    "\n",
    "#### Architecture\n",
    "\n",
    "<div align=\"center\">\n",
    "    <img src=\"modelisation_finale.png\" alt=\"Description de l'image\">\n",
    "</div>\n",
    "\n",
    "Les $  u_{i} $ sont les sorties prédites par le modèle pour la requête \n",
    "$ i $ (probabilité d'acceptation).\n",
    "\n",
    "Le module de prediction des impacts est constitué des deux modeles suivant chacun l'architecture suivante:\n",
    "\n",
    "<div align=\"center\">\n",
    "    <img src=\"modelisation_impact.png\" alt=\"Description de l'image\">\n",
    "</div>"
   ]
  },
  {
   "cell_type": "code",
   "execution_count": 3,
   "metadata": {},
   "outputs": [],
   "source": [
    "import numpy as np\n",
    "import pandas as pd\n",
    "import matplotlib.pyplot as plt"
   ]
  },
  {
   "cell_type": "code",
   "execution_count": 4,
   "metadata": {},
   "outputs": [],
   "source": [
    "datas = pd.read_csv('data/final_datas.csv')"
   ]
  },
  {
   "cell_type": "code",
   "execution_count": 5,
   "metadata": {},
   "outputs": [
    {
     "data": {
      "text/html": [
       "<div>\n",
       "<style scoped>\n",
       "    .dataframe tbody tr th:only-of-type {\n",
       "        vertical-align: middle;\n",
       "    }\n",
       "\n",
       "    .dataframe tbody tr th {\n",
       "        vertical-align: top;\n",
       "    }\n",
       "\n",
       "    .dataframe thead th {\n",
       "        text-align: right;\n",
       "    }\n",
       "</style>\n",
       "<table border=\"1\" class=\"dataframe\">\n",
       "  <thead>\n",
       "    <tr style=\"text-align: right;\">\n",
       "      <th></th>\n",
       "      <th>Longitude</th>\n",
       "      <th>Latitude</th>\n",
       "      <th>Speed</th>\n",
       "      <th>Acceleration</th>\n",
       "      <th>ActionVehicleAhead</th>\n",
       "      <th>ActionId</th>\n",
       "      <th>action_accelerate</th>\n",
       "      <th>action_decelerate</th>\n",
       "      <th>action_stop</th>\n",
       "      <th>ActionParam</th>\n",
       "      <th>ActionDuration</th>\n",
       "      <th>StartTime</th>\n",
       "      <th>EndTime</th>\n",
       "      <th>y_fuel</th>\n",
       "      <th>y_travel</th>\n",
       "    </tr>\n",
       "  </thead>\n",
       "  <tbody>\n",
       "    <tr>\n",
       "      <th>0</th>\n",
       "      <td>1.469733</td>\n",
       "      <td>43.564755</td>\n",
       "      <td>13.140468</td>\n",
       "      <td>4.202313</td>\n",
       "      <td>0</td>\n",
       "      <td>3</td>\n",
       "      <td>0</td>\n",
       "      <td>0</td>\n",
       "      <td>1</td>\n",
       "      <td>0.000000</td>\n",
       "      <td>14</td>\n",
       "      <td>37</td>\n",
       "      <td>51</td>\n",
       "      <td>2.242222</td>\n",
       "      <td>-30.0</td>\n",
       "    </tr>\n",
       "    <tr>\n",
       "      <th>1</th>\n",
       "      <td>1.468177</td>\n",
       "      <td>43.566528</td>\n",
       "      <td>5.219182</td>\n",
       "      <td>0.003377</td>\n",
       "      <td>1</td>\n",
       "      <td>2</td>\n",
       "      <td>0</td>\n",
       "      <td>1</td>\n",
       "      <td>0</td>\n",
       "      <td>8.710846</td>\n",
       "      <td>9</td>\n",
       "      <td>55</td>\n",
       "      <td>64</td>\n",
       "      <td>-0.497640</td>\n",
       "      <td>-13.0</td>\n",
       "    </tr>\n",
       "    <tr>\n",
       "      <th>2</th>\n",
       "      <td>1.468899</td>\n",
       "      <td>43.564810</td>\n",
       "      <td>13.069221</td>\n",
       "      <td>-1.214671</td>\n",
       "      <td>1</td>\n",
       "      <td>1</td>\n",
       "      <td>1</td>\n",
       "      <td>0</td>\n",
       "      <td>0</td>\n",
       "      <td>4.531946</td>\n",
       "      <td>20</td>\n",
       "      <td>19</td>\n",
       "      <td>39</td>\n",
       "      <td>-109.744464</td>\n",
       "      <td>10.0</td>\n",
       "    </tr>\n",
       "    <tr>\n",
       "      <th>3</th>\n",
       "      <td>1.468901</td>\n",
       "      <td>43.565777</td>\n",
       "      <td>12.088279</td>\n",
       "      <td>-2.720630</td>\n",
       "      <td>1</td>\n",
       "      <td>1</td>\n",
       "      <td>1</td>\n",
       "      <td>0</td>\n",
       "      <td>0</td>\n",
       "      <td>9.109832</td>\n",
       "      <td>13</td>\n",
       "      <td>60</td>\n",
       "      <td>73</td>\n",
       "      <td>-75.229436</td>\n",
       "      <td>-9.0</td>\n",
       "    </tr>\n",
       "    <tr>\n",
       "      <th>4</th>\n",
       "      <td>1.469665</td>\n",
       "      <td>43.564765</td>\n",
       "      <td>15.709481</td>\n",
       "      <td>-0.578869</td>\n",
       "      <td>0</td>\n",
       "      <td>2</td>\n",
       "      <td>0</td>\n",
       "      <td>1</td>\n",
       "      <td>0</td>\n",
       "      <td>12.523312</td>\n",
       "      <td>5</td>\n",
       "      <td>47</td>\n",
       "      <td>52</td>\n",
       "      <td>18.707623</td>\n",
       "      <td>-27.0</td>\n",
       "    </tr>\n",
       "  </tbody>\n",
       "</table>\n",
       "</div>"
      ],
      "text/plain": [
       "   Longitude   Latitude      Speed  Acceleration  ActionVehicleAhead  \\\n",
       "0   1.469733  43.564755  13.140468      4.202313                   0   \n",
       "1   1.468177  43.566528   5.219182      0.003377                   1   \n",
       "2   1.468899  43.564810  13.069221     -1.214671                   1   \n",
       "3   1.468901  43.565777  12.088279     -2.720630                   1   \n",
       "4   1.469665  43.564765  15.709481     -0.578869                   0   \n",
       "\n",
       "   ActionId  action_accelerate  action_decelerate  action_stop  ActionParam  \\\n",
       "0         3                  0                  0            1     0.000000   \n",
       "1         2                  0                  1            0     8.710846   \n",
       "2         1                  1                  0            0     4.531946   \n",
       "3         1                  1                  0            0     9.109832   \n",
       "4         2                  0                  1            0    12.523312   \n",
       "\n",
       "   ActionDuration  StartTime  EndTime      y_fuel  y_travel  \n",
       "0              14         37       51    2.242222     -30.0  \n",
       "1               9         55       64   -0.497640     -13.0  \n",
       "2              20         19       39 -109.744464      10.0  \n",
       "3              13         60       73  -75.229436      -9.0  \n",
       "4               5         47       52   18.707623     -27.0  "
      ]
     },
     "execution_count": 5,
     "metadata": {},
     "output_type": "execute_result"
    }
   ],
   "source": [
    "datas.head()"
   ]
  },
  {
   "cell_type": "markdown",
   "metadata": {},
   "source": [
    "#### Association d'un poids entre O et 1 a chaque requete"
   ]
  },
  {
   "cell_type": "code",
   "execution_count": 6,
   "metadata": {},
   "outputs": [],
   "source": [
    "np.random.seed(42)\n",
    "datas['weight'] = np.random.rand(len(datas)).round(2)"
   ]
  },
  {
   "cell_type": "code",
   "execution_count": 7,
   "metadata": {},
   "outputs": [
    {
     "data": {
      "text/html": [
       "<div>\n",
       "<style scoped>\n",
       "    .dataframe tbody tr th:only-of-type {\n",
       "        vertical-align: middle;\n",
       "    }\n",
       "\n",
       "    .dataframe tbody tr th {\n",
       "        vertical-align: top;\n",
       "    }\n",
       "\n",
       "    .dataframe thead th {\n",
       "        text-align: right;\n",
       "    }\n",
       "</style>\n",
       "<table border=\"1\" class=\"dataframe\">\n",
       "  <thead>\n",
       "    <tr style=\"text-align: right;\">\n",
       "      <th></th>\n",
       "      <th>Longitude</th>\n",
       "      <th>Latitude</th>\n",
       "      <th>Speed</th>\n",
       "      <th>Acceleration</th>\n",
       "      <th>ActionVehicleAhead</th>\n",
       "      <th>ActionId</th>\n",
       "      <th>action_accelerate</th>\n",
       "      <th>action_decelerate</th>\n",
       "      <th>action_stop</th>\n",
       "      <th>ActionParam</th>\n",
       "      <th>ActionDuration</th>\n",
       "      <th>StartTime</th>\n",
       "      <th>EndTime</th>\n",
       "      <th>y_fuel</th>\n",
       "      <th>y_travel</th>\n",
       "      <th>weight</th>\n",
       "    </tr>\n",
       "  </thead>\n",
       "  <tbody>\n",
       "    <tr>\n",
       "      <th>0</th>\n",
       "      <td>1.469733</td>\n",
       "      <td>43.564755</td>\n",
       "      <td>13.140468</td>\n",
       "      <td>4.202313</td>\n",
       "      <td>0</td>\n",
       "      <td>3</td>\n",
       "      <td>0</td>\n",
       "      <td>0</td>\n",
       "      <td>1</td>\n",
       "      <td>0.000000</td>\n",
       "      <td>14</td>\n",
       "      <td>37</td>\n",
       "      <td>51</td>\n",
       "      <td>2.242222</td>\n",
       "      <td>-30.0</td>\n",
       "      <td>0.37</td>\n",
       "    </tr>\n",
       "    <tr>\n",
       "      <th>1</th>\n",
       "      <td>1.468177</td>\n",
       "      <td>43.566528</td>\n",
       "      <td>5.219182</td>\n",
       "      <td>0.003377</td>\n",
       "      <td>1</td>\n",
       "      <td>2</td>\n",
       "      <td>0</td>\n",
       "      <td>1</td>\n",
       "      <td>0</td>\n",
       "      <td>8.710846</td>\n",
       "      <td>9</td>\n",
       "      <td>55</td>\n",
       "      <td>64</td>\n",
       "      <td>-0.497640</td>\n",
       "      <td>-13.0</td>\n",
       "      <td>0.95</td>\n",
       "    </tr>\n",
       "    <tr>\n",
       "      <th>2</th>\n",
       "      <td>1.468899</td>\n",
       "      <td>43.564810</td>\n",
       "      <td>13.069221</td>\n",
       "      <td>-1.214671</td>\n",
       "      <td>1</td>\n",
       "      <td>1</td>\n",
       "      <td>1</td>\n",
       "      <td>0</td>\n",
       "      <td>0</td>\n",
       "      <td>4.531946</td>\n",
       "      <td>20</td>\n",
       "      <td>19</td>\n",
       "      <td>39</td>\n",
       "      <td>-109.744464</td>\n",
       "      <td>10.0</td>\n",
       "      <td>0.73</td>\n",
       "    </tr>\n",
       "    <tr>\n",
       "      <th>3</th>\n",
       "      <td>1.468901</td>\n",
       "      <td>43.565777</td>\n",
       "      <td>12.088279</td>\n",
       "      <td>-2.720630</td>\n",
       "      <td>1</td>\n",
       "      <td>1</td>\n",
       "      <td>1</td>\n",
       "      <td>0</td>\n",
       "      <td>0</td>\n",
       "      <td>9.109832</td>\n",
       "      <td>13</td>\n",
       "      <td>60</td>\n",
       "      <td>73</td>\n",
       "      <td>-75.229436</td>\n",
       "      <td>-9.0</td>\n",
       "      <td>0.60</td>\n",
       "    </tr>\n",
       "    <tr>\n",
       "      <th>4</th>\n",
       "      <td>1.469665</td>\n",
       "      <td>43.564765</td>\n",
       "      <td>15.709481</td>\n",
       "      <td>-0.578869</td>\n",
       "      <td>0</td>\n",
       "      <td>2</td>\n",
       "      <td>0</td>\n",
       "      <td>1</td>\n",
       "      <td>0</td>\n",
       "      <td>12.523312</td>\n",
       "      <td>5</td>\n",
       "      <td>47</td>\n",
       "      <td>52</td>\n",
       "      <td>18.707623</td>\n",
       "      <td>-27.0</td>\n",
       "      <td>0.16</td>\n",
       "    </tr>\n",
       "  </tbody>\n",
       "</table>\n",
       "</div>"
      ],
      "text/plain": [
       "   Longitude   Latitude      Speed  Acceleration  ActionVehicleAhead  \\\n",
       "0   1.469733  43.564755  13.140468      4.202313                   0   \n",
       "1   1.468177  43.566528   5.219182      0.003377                   1   \n",
       "2   1.468899  43.564810  13.069221     -1.214671                   1   \n",
       "3   1.468901  43.565777  12.088279     -2.720630                   1   \n",
       "4   1.469665  43.564765  15.709481     -0.578869                   0   \n",
       "\n",
       "   ActionId  action_accelerate  action_decelerate  action_stop  ActionParam  \\\n",
       "0         3                  0                  0            1     0.000000   \n",
       "1         2                  0                  1            0     8.710846   \n",
       "2         1                  1                  0            0     4.531946   \n",
       "3         1                  1                  0            0     9.109832   \n",
       "4         2                  0                  1            0    12.523312   \n",
       "\n",
       "   ActionDuration  StartTime  EndTime      y_fuel  y_travel  weight  \n",
       "0              14         37       51    2.242222     -30.0    0.37  \n",
       "1               9         55       64   -0.497640     -13.0    0.95  \n",
       "2              20         19       39 -109.744464      10.0    0.73  \n",
       "3              13         60       73  -75.229436      -9.0    0.60  \n",
       "4               5         47       52   18.707623     -27.0    0.16  "
      ]
     },
     "execution_count": 7,
     "metadata": {},
     "output_type": "execute_result"
    }
   ],
   "source": [
    "datas.head(5)"
   ]
  },
  {
   "cell_type": "code",
   "execution_count": 8,
   "metadata": {},
   "outputs": [],
   "source": [
    "acceleration_req = datas[datas['action_accelerate'] == 1]\n",
    "\n",
    "deceleration_req = datas[datas['action_decelerate'] == 1]\n",
    "\n",
    "stop_req = datas[datas['action_stop'] == 1]"
   ]
  },
  {
   "cell_type": "markdown",
   "metadata": {},
   "source": [
    "#### Generation des compostions de requetes"
   ]
  },
  {
   "cell_type": "code",
   "execution_count": 9,
   "metadata": {},
   "outputs": [],
   "source": [
    "def req_by_type(num_request):\n",
    "    # Répartir les requêtes de manière équilibrée entre les types\n",
    "    base_count = num_request // 3\n",
    "    remainder = num_request % 3\n",
    "\n",
    "    counts = [base_count, base_count, base_count]\n",
    "    for i in range(remainder):\n",
    "        counts[np.random.randint(0, 3)] += 1\n",
    "\n",
    "    num_acc, num_dec, num_stop = counts\n",
    "\n",
    "    return num_acc, num_dec, num_stop\n",
    "\n",
    "        \n",
    "\n",
    "def generate_compositions( num_compositions=500 ):\n",
    "\n",
    "    compositions = []\n",
    "\n",
    "    for _ in range(num_compositions):\n",
    "        # Nombre total de requêtes dans une composition (entre 4 et 10)\n",
    "        num_request = np.random.randint(4, 11)\n",
    "\n",
    "        num_acc, num_dec, num_stop = req_by_type(num_request)\n",
    "\n",
    "        # Sélectionner aléatoirement les requêtes de chaque type\n",
    "        acc_selected = acceleration_req.sample(n=num_acc, replace=True).copy()\n",
    "        dec_selected = deceleration_req.sample(n=num_dec, replace=True).copy()\n",
    "        stop_selected = stop_req.sample(n=num_stop, replace=True).copy()\n",
    "\n",
    "        # Combiner les requêtes de différents types\n",
    "        composition = pd.concat([acc_selected, dec_selected, stop_selected])\n",
    "\n",
    "        compositions.append(composition)\n",
    "    \n",
    "    # # Créer un DataFrame contenant toutes les compositions\n",
    "    # all_compositions = pd.concat(compositions, keys=range(num_compositions))\n",
    "    # # Sauvegarder en CSV\n",
    "    # all_compositions.to_csv('compositions.csv', index=True)\n",
    "\n",
    "    return compositions"
   ]
  },
  {
   "cell_type": "code",
   "execution_count": 10,
   "metadata": {},
   "outputs": [],
   "source": [
    "compositions = generate_compositions()"
   ]
  },
  {
   "cell_type": "code",
   "execution_count": 11,
   "metadata": {},
   "outputs": [
    {
     "data": {
      "text/plain": [
       "<Figure size 720x432 with 0 Axes>"
      ]
     },
     "execution_count": 11,
     "metadata": {},
     "output_type": "execute_result"
    },
    {
     "data": {
      "text/plain": [
       "(array([66., 78., 82., 71., 60., 68., 75.]),\n",
       " array([ 4,  5,  6,  7,  8,  9, 10, 11]),\n",
       " <BarContainer object of 7 artists>)"
      ]
     },
     "execution_count": 11,
     "metadata": {},
     "output_type": "execute_result"
    },
    {
     "data": {
      "text/plain": [
       "Text(0.5, 0, 'Nombre de requêtes par composition')"
      ]
     },
     "execution_count": 11,
     "metadata": {},
     "output_type": "execute_result"
    },
    {
     "data": {
      "text/plain": [
       "Text(0, 0.5, 'Nombre de compositions')"
      ]
     },
     "execution_count": 11,
     "metadata": {},
     "output_type": "execute_result"
    },
    {
     "data": {
      "text/plain": [
       "Text(0.5, 1.0, 'Distribution du nombre de requêtes par composition')"
      ]
     },
     "execution_count": 11,
     "metadata": {},
     "output_type": "execute_result"
    },
    {
     "data": {
      "text/plain": [
       "([<matplotlib.axis.XTick at 0x1f1249efbb0>,\n",
       "  <matplotlib.axis.XTick at 0x1f1249efb80>,\n",
       "  <matplotlib.axis.XTick at 0x1f1249ec0a0>,\n",
       "  <matplotlib.axis.XTick at 0x1f124a60f40>,\n",
       "  <matplotlib.axis.XTick at 0x1f124a617e0>,\n",
       "  <matplotlib.axis.XTick at 0x1f124a61f30>,\n",
       "  <matplotlib.axis.XTick at 0x1f124a62680>],\n",
       " [Text(0, 0, ''),\n",
       "  Text(0, 0, ''),\n",
       "  Text(0, 0, ''),\n",
       "  Text(0, 0, ''),\n",
       "  Text(0, 0, ''),\n",
       "  Text(0, 0, ''),\n",
       "  Text(0, 0, '')])"
      ]
     },
     "execution_count": 11,
     "metadata": {},
     "output_type": "execute_result"
    },
    {
     "data": {
      "image/png": "[encoded data removed]",
      "text/plain": [
       "<Figure size 720x432 with 1 Axes>"
      ]
     },
     "metadata": {
      "needs_background": "light"
     },
     "output_type": "display_data"
    }
   ],
   "source": [
    "composition_lengths = [len(comp) for comp in compositions]\n",
    "\n",
    "# Afficher le graphe\n",
    "plt.figure(figsize=(10, 6))\n",
    "plt.hist(composition_lengths, bins=range(4, 12), edgecolor='black', align='left')\n",
    "plt.xlabel('Nombre de requêtes par composition')\n",
    "plt.ylabel('Nombre de compositions')\n",
    "plt.title('Distribution du nombre de requêtes par composition')\n",
    "plt.xticks(range(4, 11))\n",
    "plt.grid(axis='y')\n",
    "plt.show()"
   ]
  },
  {
   "cell_type": "code",
   "execution_count": 12,
   "metadata": {},
   "outputs": [],
   "source": [
    "compositions_ordered = [comp[['ActionId','ActionParam','StartTime', 'EndTime','Longitude', \n",
    "                             'Latitude', 'Speed','Acceleration', 'ActionVehicleAhead', 'weight']] for comp in compositions]"
   ]
  },
  {
   "cell_type": "code",
   "execution_count": 13,
   "metadata": {},
   "outputs": [],
   "source": [
    "composition_filtered = [comp for comp in compositions_ordered if len(comp) <=6]"
   ]
  },
  {
   "cell_type": "markdown",
   "metadata": {},
   "source": [
    "## Gestion des requetes"
   ]
  },
  {
   "cell_type": "code",
   "execution_count": 14,
   "metadata": {},
   "outputs": [
    {
     "data": {
      "text/html": [
       "<div>\n",
       "<style scoped>\n",
       "    .dataframe tbody tr th:only-of-type {\n",
       "        vertical-align: middle;\n",
       "    }\n",
       "\n",
       "    .dataframe tbody tr th {\n",
       "        vertical-align: top;\n",
       "    }\n",
       "\n",
       "    .dataframe thead th {\n",
       "        text-align: right;\n",
       "    }\n",
       "</style>\n",
       "<table border=\"1\" class=\"dataframe\">\n",
       "  <thead>\n",
       "    <tr style=\"text-align: right;\">\n",
       "      <th></th>\n",
       "      <th>ActionId</th>\n",
       "      <th>ActionParam</th>\n",
       "      <th>StartTime</th>\n",
       "      <th>EndTime</th>\n",
       "      <th>Longitude</th>\n",
       "      <th>Latitude</th>\n",
       "      <th>Speed</th>\n",
       "      <th>Acceleration</th>\n",
       "      <th>ActionVehicleAhead</th>\n",
       "      <th>weight</th>\n",
       "    </tr>\n",
       "  </thead>\n",
       "  <tbody>\n",
       "    <tr>\n",
       "      <th>548</th>\n",
       "      <td>1</td>\n",
       "      <td>3.637788</td>\n",
       "      <td>60</td>\n",
       "      <td>79</td>\n",
       "      <td>1.467514</td>\n",
       "      <td>43.567027</td>\n",
       "      <td>15.535806</td>\n",
       "      <td>1.671466</td>\n",
       "      <td>1</td>\n",
       "      <td>0.52</td>\n",
       "    </tr>\n",
       "    <tr>\n",
       "      <th>1298</th>\n",
       "      <td>1</td>\n",
       "      <td>6.061398</td>\n",
       "      <td>47</td>\n",
       "      <td>62</td>\n",
       "      <td>1.468705</td>\n",
       "      <td>43.565977</td>\n",
       "      <td>13.053015</td>\n",
       "      <td>-3.865097</td>\n",
       "      <td>1</td>\n",
       "      <td>0.64</td>\n",
       "    </tr>\n",
       "    <tr>\n",
       "      <th>3672</th>\n",
       "      <td>2</td>\n",
       "      <td>7.288713</td>\n",
       "      <td>36</td>\n",
       "      <td>54</td>\n",
       "      <td>1.468968</td>\n",
       "      <td>43.564844</td>\n",
       "      <td>4.455834</td>\n",
       "      <td>-2.732125</td>\n",
       "      <td>2</td>\n",
       "      <td>0.72</td>\n",
       "    </tr>\n",
       "    <tr>\n",
       "      <th>2265</th>\n",
       "      <td>2</td>\n",
       "      <td>12.340288</td>\n",
       "      <td>50</td>\n",
       "      <td>56</td>\n",
       "      <td>1.469694</td>\n",
       "      <td>43.564756</td>\n",
       "      <td>13.846621</td>\n",
       "      <td>-2.205520</td>\n",
       "      <td>0</td>\n",
       "      <td>0.63</td>\n",
       "    </tr>\n",
       "    <tr>\n",
       "      <th>5148</th>\n",
       "      <td>3</td>\n",
       "      <td>0.000000</td>\n",
       "      <td>70</td>\n",
       "      <td>86</td>\n",
       "      <td>1.468117</td>\n",
       "      <td>43.566597</td>\n",
       "      <td>0.401835</td>\n",
       "      <td>0.172607</td>\n",
       "      <td>0</td>\n",
       "      <td>0.62</td>\n",
       "    </tr>\n",
       "    <tr>\n",
       "      <th>147</th>\n",
       "      <td>3</td>\n",
       "      <td>0.000000</td>\n",
       "      <td>30</td>\n",
       "      <td>50</td>\n",
       "      <td>1.468995</td>\n",
       "      <td>43.564858</td>\n",
       "      <td>7.125251</td>\n",
       "      <td>-0.243083</td>\n",
       "      <td>1</td>\n",
       "      <td>0.50</td>\n",
       "    </tr>\n",
       "  </tbody>\n",
       "</table>\n",
       "</div>"
      ],
      "text/plain": [
       "      ActionId  ActionParam  StartTime  EndTime  Longitude   Latitude  \\\n",
       "548          1     3.637788         60       79   1.467514  43.567027   \n",
       "1298         1     6.061398         47       62   1.468705  43.565977   \n",
       "3672         2     7.288713         36       54   1.468968  43.564844   \n",
       "2265         2    12.340288         50       56   1.469694  43.564756   \n",
       "5148         3     0.000000         70       86   1.468117  43.566597   \n",
       "147          3     0.000000         30       50   1.468995  43.564858   \n",
       "\n",
       "          Speed  Acceleration  ActionVehicleAhead  weight  \n",
       "548   15.535806      1.671466                   1    0.52  \n",
       "1298  13.053015     -3.865097                   1    0.64  \n",
       "3672   4.455834     -2.732125                   2    0.72  \n",
       "2265  13.846621     -2.205520                   0    0.63  \n",
       "5148   0.401835      0.172607                   0    0.62  \n",
       "147    7.125251     -0.243083                   1    0.50  "
      ]
     },
     "execution_count": 14,
     "metadata": {},
     "output_type": "execute_result"
    }
   ],
   "source": [
    "composition1 = composition_filtered[2]\n",
    "# composition1 = composition1.values.tolist()\n",
    "# composition1 = composition1[['ActionId','ActionParam','StartTime', 'EndTime','Longitude', \n",
    "#                              'Latitude', 'Speed','Acceleration', 'ActionVehicleAhead', 'y_travel', 'y_fuel', 'weight']]\n",
    "composition1"
   ]
  },
  {
   "cell_type": "code",
   "execution_count": 15,
   "metadata": {},
   "outputs": [],
   "source": [
    "comp = composition1.values.tolist()[0]"
   ]
  },
  {
   "cell_type": "code",
   "execution_count": 16,
   "metadata": {},
   "outputs": [
    {
     "data": {
      "text/plain": [
       "[60.0, 79.0]"
      ]
     },
     "execution_count": 16,
     "metadata": {},
     "output_type": "execute_result"
    }
   ],
   "source": [
    "comp[2: 4]"
   ]
  },
  {
   "cell_type": "code",
   "execution_count": 17,
   "metadata": {},
   "outputs": [],
   "source": [
    "# Conflits entre deux requetes\n",
    "def conflict(req1, req2):\n",
    "    \"\"\"\n",
    "    Vérifie s'il y a un conflit entre deux requêtes basées sur leurs temps de début et de fin.\n",
    "    \n",
    "    Parameters:\n",
    "    request1, request2 (dict): Les requêtes avec des clés 'start_time' et 'end_time' représentant les heures de début et de fin.\n",
    "    \n",
    "    Returns:\n",
    "    bool: True s'il y a un conflit, False sinon.\n",
    "    \"\"\"\n",
    "    if(req1[0] != req2[0]):\n",
    "        start_i, fin_i = req1[2:4]\n",
    "        start_j, fin_j = req2[2:4]\n",
    "        # Vérification s'il y a chevauchement entre les intervalles de temps\n",
    "        if (start_i < fin_j and start_j < fin_i):\n",
    "            return True\n",
    "        \n",
    "    return False\n",
    "\n",
    "# Detection de conflits dans une composition\n",
    "def detect_conflitcs(requests):\n",
    "    \"\"\"\n",
    "    Trouve toutes les paires de requêtes conflictuelles dans une liste de requêtes.\n",
    "    \n",
    "    Parameters:\n",
    "    requests (list): Liste de requêtes, chaque requête étant un dict avec des clés 'start_time' et 'end_time'.\n",
    "    \n",
    "    Returns:\n",
    "    list: Liste de tuples contenant les paires de requêtes conflictuelles.\n",
    "    \"\"\"\n",
    "    conflicting_pairs = []\n",
    "    for i in range(len(requests)):\n",
    "        for j in range(i + 1, len(requests)):\n",
    "            if conflict(requests[i], requests[j]):\n",
    "                    conflicting_pairs.append((i, j))\n",
    "    return conflicting_pairs\n",
    "\n",
    "def is_conflict_in_combination(combinaison):\n",
    "    return False if (len(detect_conflitcs(combinaison)) == 0) else True\n"
   ]
  },
  {
   "cell_type": "code",
   "execution_count": 18,
   "metadata": {},
   "outputs": [
    {
     "data": {
      "text/plain": [
       "True"
      ]
     },
     "execution_count": 18,
     "metadata": {},
     "output_type": "execute_result"
    }
   ],
   "source": [
    "# Exemple d'utilisation\n",
    "requests = composition1.values.tolist()\n",
    "\n",
    "\n",
    "conflicting_pairs = detect_conflitcs(requests)\n",
    "\n",
    "is_conflict_in_combination(requests)"
   ]
  },
  {
   "cell_type": "code",
   "execution_count": 19,
   "metadata": {},
   "outputs": [
    {
     "data": {
      "text/html": [
       "<div>\n",
       "<style scoped>\n",
       "    .dataframe tbody tr th:only-of-type {\n",
       "        vertical-align: middle;\n",
       "    }\n",
       "\n",
       "    .dataframe tbody tr th {\n",
       "        vertical-align: top;\n",
       "    }\n",
       "\n",
       "    .dataframe thead th {\n",
       "        text-align: right;\n",
       "    }\n",
       "</style>\n",
       "<table border=\"1\" class=\"dataframe\">\n",
       "  <thead>\n",
       "    <tr style=\"text-align: right;\">\n",
       "      <th></th>\n",
       "      <th>0</th>\n",
       "      <th>1</th>\n",
       "      <th>2</th>\n",
       "      <th>3</th>\n",
       "      <th>4</th>\n",
       "      <th>5</th>\n",
       "      <th>6</th>\n",
       "      <th>7</th>\n",
       "      <th>8</th>\n",
       "      <th>9</th>\n",
       "    </tr>\n",
       "  </thead>\n",
       "  <tbody>\n",
       "    <tr>\n",
       "      <th>0</th>\n",
       "      <td>1.0</td>\n",
       "      <td>3.637788</td>\n",
       "      <td>60.0</td>\n",
       "      <td>79.0</td>\n",
       "      <td>1.467514</td>\n",
       "      <td>43.567027</td>\n",
       "      <td>15.535806</td>\n",
       "      <td>1.671466</td>\n",
       "      <td>1.0</td>\n",
       "      <td>0.52</td>\n",
       "    </tr>\n",
       "    <tr>\n",
       "      <th>1</th>\n",
       "      <td>1.0</td>\n",
       "      <td>6.061398</td>\n",
       "      <td>47.0</td>\n",
       "      <td>62.0</td>\n",
       "      <td>1.468705</td>\n",
       "      <td>43.565977</td>\n",
       "      <td>13.053015</td>\n",
       "      <td>-3.865097</td>\n",
       "      <td>1.0</td>\n",
       "      <td>0.64</td>\n",
       "    </tr>\n",
       "    <tr>\n",
       "      <th>2</th>\n",
       "      <td>2.0</td>\n",
       "      <td>7.288713</td>\n",
       "      <td>36.0</td>\n",
       "      <td>54.0</td>\n",
       "      <td>1.468968</td>\n",
       "      <td>43.564844</td>\n",
       "      <td>4.455834</td>\n",
       "      <td>-2.732125</td>\n",
       "      <td>2.0</td>\n",
       "      <td>0.72</td>\n",
       "    </tr>\n",
       "    <tr>\n",
       "      <th>3</th>\n",
       "      <td>2.0</td>\n",
       "      <td>12.340288</td>\n",
       "      <td>50.0</td>\n",
       "      <td>56.0</td>\n",
       "      <td>1.469694</td>\n",
       "      <td>43.564756</td>\n",
       "      <td>13.846621</td>\n",
       "      <td>-2.205520</td>\n",
       "      <td>0.0</td>\n",
       "      <td>0.63</td>\n",
       "    </tr>\n",
       "    <tr>\n",
       "      <th>4</th>\n",
       "      <td>3.0</td>\n",
       "      <td>0.000000</td>\n",
       "      <td>70.0</td>\n",
       "      <td>86.0</td>\n",
       "      <td>1.468117</td>\n",
       "      <td>43.566597</td>\n",
       "      <td>0.401835</td>\n",
       "      <td>0.172607</td>\n",
       "      <td>0.0</td>\n",
       "      <td>0.62</td>\n",
       "    </tr>\n",
       "    <tr>\n",
       "      <th>5</th>\n",
       "      <td>3.0</td>\n",
       "      <td>0.000000</td>\n",
       "      <td>30.0</td>\n",
       "      <td>50.0</td>\n",
       "      <td>1.468995</td>\n",
       "      <td>43.564858</td>\n",
       "      <td>7.125251</td>\n",
       "      <td>-0.243083</td>\n",
       "      <td>1.0</td>\n",
       "      <td>0.50</td>\n",
       "    </tr>\n",
       "  </tbody>\n",
       "</table>\n",
       "</div>"
      ],
      "text/plain": [
       "     0          1     2     3         4          5          6         7    8  \\\n",
       "0  1.0   3.637788  60.0  79.0  1.467514  43.567027  15.535806  1.671466  1.0   \n",
       "1  1.0   6.061398  47.0  62.0  1.468705  43.565977  13.053015 -3.865097  1.0   \n",
       "2  2.0   7.288713  36.0  54.0  1.468968  43.564844   4.455834 -2.732125  2.0   \n",
       "3  2.0  12.340288  50.0  56.0  1.469694  43.564756  13.846621 -2.205520  0.0   \n",
       "4  3.0   0.000000  70.0  86.0  1.468117  43.566597   0.401835  0.172607  0.0   \n",
       "5  3.0   0.000000  30.0  50.0  1.468995  43.564858   7.125251 -0.243083  1.0   \n",
       "\n",
       "      9  \n",
       "0  0.52  \n",
       "1  0.64  \n",
       "2  0.72  \n",
       "3  0.63  \n",
       "4  0.62  \n",
       "5  0.50  "
      ]
     },
     "execution_count": 19,
     "metadata": {},
     "output_type": "execute_result"
    }
   ],
   "source": [
    "pd.DataFrame(requests)"
   ]
  },
  {
   "cell_type": "markdown",
   "metadata": {},
   "source": [
    "### Algorithme de selection des requetes"
   ]
  },
  {
   "cell_type": "markdown",
   "metadata": {},
   "source": [
    "- #### Algorithme glouton 1\n",
    "Dans ce algorithme, on trie les requetes suivant l'ordre decroissant des poids. Les requetes avec un plus grand poids sont donc selectionnés en premier. POur les autres requetes, on verifie s'ils sont en conflits avec les requetes deja selectionnes."
   ]
  },
  {
   "cell_type": "code",
   "execution_count": 20,
   "metadata": {},
   "outputs": [],
   "source": [
    "def greedy_request_selection(requests):\n",
    "    \"\"\"\n",
    "    Sélectionne les requêtes suivant leur poids de sorte qu'il n'y ait pas de conflits.\n",
    "    \n",
    "    Parameters:\n",
    "    requests (list): Liste de requêtes, chaque requête étant un dict avec des clés 'start_time', 'end_time', et 'weight'.\n",
    "    \n",
    "    Returns:\n",
    "    list: Liste des requêtes sélectionnées.\n",
    "    \"\"\"\n",
    "    # Trier les requêtes par poids décroissant\n",
    "    sorted_requests = sorted(requests, key=lambda x: x[-1], reverse=True)\n",
    "\n",
    "    selected_requests = []\n",
    "    # Pour suivre les plages de temps déjà occupées\n",
    "\n",
    "    # Parcourir les requêtes triées\n",
    "    for request in sorted_requests:\n",
    "        # Vérifier s'il y a un conflit avec les request déjà sélectionnées\n",
    "        conf = False\n",
    "        for selected in selected_requests:\n",
    "            if conflict(request, selected):\n",
    "                conf = True\n",
    "                break\n",
    "        \n",
    "        if not conf:\n",
    "            selected_requests.append(request)\n",
    "\n",
    "    return selected_requests"
   ]
  },
  {
   "cell_type": "code",
   "execution_count": 21,
   "metadata": {},
   "outputs": [
    {
     "data": {
      "text/html": [
       "<div>\n",
       "<style scoped>\n",
       "    .dataframe tbody tr th:only-of-type {\n",
       "        vertical-align: middle;\n",
       "    }\n",
       "\n",
       "    .dataframe tbody tr th {\n",
       "        vertical-align: top;\n",
       "    }\n",
       "\n",
       "    .dataframe thead th {\n",
       "        text-align: right;\n",
       "    }\n",
       "</style>\n",
       "<table border=\"1\" class=\"dataframe\">\n",
       "  <thead>\n",
       "    <tr style=\"text-align: right;\">\n",
       "      <th></th>\n",
       "      <th>0</th>\n",
       "      <th>1</th>\n",
       "      <th>2</th>\n",
       "      <th>3</th>\n",
       "      <th>4</th>\n",
       "      <th>5</th>\n",
       "      <th>6</th>\n",
       "      <th>7</th>\n",
       "      <th>8</th>\n",
       "      <th>9</th>\n",
       "    </tr>\n",
       "  </thead>\n",
       "  <tbody>\n",
       "    <tr>\n",
       "      <th>0</th>\n",
       "      <td>2.0</td>\n",
       "      <td>7.288713</td>\n",
       "      <td>36.0</td>\n",
       "      <td>54.0</td>\n",
       "      <td>1.468968</td>\n",
       "      <td>43.564844</td>\n",
       "      <td>4.455834</td>\n",
       "      <td>-2.732125</td>\n",
       "      <td>2.0</td>\n",
       "      <td>0.72</td>\n",
       "    </tr>\n",
       "    <tr>\n",
       "      <th>1</th>\n",
       "      <td>2.0</td>\n",
       "      <td>12.340288</td>\n",
       "      <td>50.0</td>\n",
       "      <td>56.0</td>\n",
       "      <td>1.469694</td>\n",
       "      <td>43.564756</td>\n",
       "      <td>13.846621</td>\n",
       "      <td>-2.205520</td>\n",
       "      <td>0.0</td>\n",
       "      <td>0.63</td>\n",
       "    </tr>\n",
       "    <tr>\n",
       "      <th>2</th>\n",
       "      <td>3.0</td>\n",
       "      <td>0.000000</td>\n",
       "      <td>70.0</td>\n",
       "      <td>86.0</td>\n",
       "      <td>1.468117</td>\n",
       "      <td>43.566597</td>\n",
       "      <td>0.401835</td>\n",
       "      <td>0.172607</td>\n",
       "      <td>0.0</td>\n",
       "      <td>0.62</td>\n",
       "    </tr>\n",
       "  </tbody>\n",
       "</table>\n",
       "</div>"
      ],
      "text/plain": [
       "     0          1     2     3         4          5          6         7    8  \\\n",
       "0  2.0   7.288713  36.0  54.0  1.468968  43.564844   4.455834 -2.732125  2.0   \n",
       "1  2.0  12.340288  50.0  56.0  1.469694  43.564756  13.846621 -2.205520  0.0   \n",
       "2  3.0   0.000000  70.0  86.0  1.468117  43.566597   0.401835  0.172607  0.0   \n",
       "\n",
       "      9  \n",
       "0  0.72  \n",
       "1  0.63  \n",
       "2  0.62  "
      ]
     },
     "execution_count": 21,
     "metadata": {},
     "output_type": "execute_result"
    }
   ],
   "source": [
    "pd.DataFrame(greedy_request_selection(requests))"
   ]
  },
  {
   "cell_type": "markdown",
   "metadata": {},
   "source": [
    "- #### Algorithme glouton 2\n",
    "Dans ce algorithme, les requetes d'abord selectionnes sont les requetes dont le type a le plus grand poids total de requetes. Les autres requetes seront selectionnes en fonction de l'absence ou non de conflits avec les requetes deja selectionnees."
   ]
  },
  {
   "cell_type": "code",
   "execution_count": 22,
   "metadata": {},
   "outputs": [],
   "source": [
    "def group_by_type_and_sum_weights(requests):\n",
    "    \"\"\"\n",
    "    Groupe les listes suivant la valeur d'une colonne spécifique et calcule la somme d'une autre colonne pour chaque groupe.\n",
    "\n",
    "    Parameters:\n",
    "    lists (list of lists): La liste principale contenant des sous-listes.\n",
    "    group_col_index (int): L'index de la colonne utilisée pour le regroupement.\n",
    "    sum_col_index (int): L'index de la colonne dont on veut calculer la somme.\n",
    "\n",
    "    Returns:\n",
    "    dict: Un dictionnaire où les clés sont les valeurs de la colonne spécifiée pour le regroupement,\n",
    "          et les valeurs sont la somme des valeurs de la colonne spécifiée pour chaque groupe.\n",
    "    \"\"\"\n",
    "    grouped = {}\n",
    "    \n",
    "    for request in requests:\n",
    "        req_type = request[0]\n",
    "        req_weight = request[-1]\n",
    "        \n",
    "        if req_type not in grouped:\n",
    "            grouped[req_type] = 0\n",
    "        grouped[req_type] += req_weight\n",
    "    \n",
    "    return grouped\n",
    "\n",
    "\n",
    "\n",
    "def greedy_request_selection_2(requests):\n",
    "    \"\"\"\n",
    "    Sélectionne les requêtes sans conflit en fonction du type avec le poids total le plus élevé.\n",
    "\n",
    "    Parameters:\n",
    "    requests (list of dict): La liste de requêtes.\n",
    "\n",
    "    Returns:\n",
    "    list: Liste des requêtes sélectionnées sans conflit.\n",
    "    \"\"\"\n",
    "    # Calculer le poids total pour chaque type de requête\n",
    "    grouped_weights = group_by_type_and_sum_weights(requests)\n",
    "\n",
    "    # Identifier le type avec le poids total le plus élevé\n",
    "    max_weight_type = max(grouped_weights, key=grouped_weights.get)\n",
    "    \n",
    "    # Sélectionner les requêtes de ce type\n",
    "    selected_requests = [req for req in requests if req[0] == max_weight_type]\n",
    "\n",
    "    other_requests = [req for req in requests if req[0] != max_weight_type]\n",
    "\n",
    "    for request in other_requests:\n",
    "        # Vérifier s'il y a un conflit avec les request déjà sélectionnées\n",
    "        conf = False\n",
    "        for selected in selected_requests:\n",
    "            if conflict(request, selected):\n",
    "                conf = True\n",
    "                break\n",
    "        \n",
    "        if not conf:\n",
    "            selected_requests.append(request)\n",
    "    return selected_requests\n"
   ]
  },
  {
   "cell_type": "code",
   "execution_count": 23,
   "metadata": {},
   "outputs": [
    {
     "data": {
      "text/html": [
       "<div>\n",
       "<style scoped>\n",
       "    .dataframe tbody tr th:only-of-type {\n",
       "        vertical-align: middle;\n",
       "    }\n",
       "\n",
       "    .dataframe tbody tr th {\n",
       "        vertical-align: top;\n",
       "    }\n",
       "\n",
       "    .dataframe thead th {\n",
       "        text-align: right;\n",
       "    }\n",
       "</style>\n",
       "<table border=\"1\" class=\"dataframe\">\n",
       "  <thead>\n",
       "    <tr style=\"text-align: right;\">\n",
       "      <th></th>\n",
       "      <th>0</th>\n",
       "      <th>1</th>\n",
       "      <th>2</th>\n",
       "      <th>3</th>\n",
       "      <th>4</th>\n",
       "      <th>5</th>\n",
       "      <th>6</th>\n",
       "      <th>7</th>\n",
       "      <th>8</th>\n",
       "      <th>9</th>\n",
       "    </tr>\n",
       "  </thead>\n",
       "  <tbody>\n",
       "    <tr>\n",
       "      <th>0</th>\n",
       "      <td>2.0</td>\n",
       "      <td>7.288713</td>\n",
       "      <td>36.0</td>\n",
       "      <td>54.0</td>\n",
       "      <td>1.468968</td>\n",
       "      <td>43.564844</td>\n",
       "      <td>4.455834</td>\n",
       "      <td>-2.732125</td>\n",
       "      <td>2.0</td>\n",
       "      <td>0.72</td>\n",
       "    </tr>\n",
       "    <tr>\n",
       "      <th>1</th>\n",
       "      <td>2.0</td>\n",
       "      <td>12.340288</td>\n",
       "      <td>50.0</td>\n",
       "      <td>56.0</td>\n",
       "      <td>1.469694</td>\n",
       "      <td>43.564756</td>\n",
       "      <td>13.846621</td>\n",
       "      <td>-2.205520</td>\n",
       "      <td>0.0</td>\n",
       "      <td>0.63</td>\n",
       "    </tr>\n",
       "    <tr>\n",
       "      <th>2</th>\n",
       "      <td>1.0</td>\n",
       "      <td>3.637788</td>\n",
       "      <td>60.0</td>\n",
       "      <td>79.0</td>\n",
       "      <td>1.467514</td>\n",
       "      <td>43.567027</td>\n",
       "      <td>15.535806</td>\n",
       "      <td>1.671466</td>\n",
       "      <td>1.0</td>\n",
       "      <td>0.52</td>\n",
       "    </tr>\n",
       "  </tbody>\n",
       "</table>\n",
       "</div>"
      ],
      "text/plain": [
       "     0          1     2     3         4          5          6         7    8  \\\n",
       "0  2.0   7.288713  36.0  54.0  1.468968  43.564844   4.455834 -2.732125  2.0   \n",
       "1  2.0  12.340288  50.0  56.0  1.469694  43.564756  13.846621 -2.205520  0.0   \n",
       "2  1.0   3.637788  60.0  79.0  1.467514  43.567027  15.535806  1.671466  1.0   \n",
       "\n",
       "      9  \n",
       "0  0.72  \n",
       "1  0.63  \n",
       "2  0.52  "
      ]
     },
     "execution_count": 23,
     "metadata": {},
     "output_type": "execute_result"
    }
   ],
   "source": [
    "pd.DataFrame(greedy_request_selection_2(requests))"
   ]
  },
  {
   "cell_type": "markdown",
   "metadata": {},
   "source": [
    "- #### Algorithme glouton 3 : La notion d'impact"
   ]
  },
  {
   "cell_type": "code",
   "execution_count": 24,
   "metadata": {},
   "outputs": [],
   "source": [
    "#Importations des donnees de prediction\n",
    "\n",
    "import joblib\n",
    "from tensorflow.keras.models import load_model\n",
    "from tensorflow.keras.losses import mean_squared_error\n",
    "import tensorflow as tf\n",
    "from tensorflow.keras import backend as K\n",
    "\n",
    "def nrmse(y_true, y_pred):\n",
    "    \"\"\"\n",
    "    Calculate the Normalized Root Mean Square Error (NRMSE)\n",
    "    \"\"\"\n",
    "    rms = K.sqrt(K.mean(K.square(y_pred - y_true)))\n",
    "    nrmse = rms / (K.max(y_true) - K.min(y_true))\n",
    "    return nrmse\n",
    "\n",
    "def r2_score(y_true, y_pred):\n",
    "    SS_res =  K.sum(K.square(y_true - y_pred))\n",
    "    SS_tot = K.sum(K.square(y_true - K.mean(y_true)))\n",
    "    return 1 - SS_res/(SS_tot )\n",
    "\n",
    "scaler_fuel = joblib.load('scaler_fuel.pkl')\n",
    "\n",
    "scaler_travel = joblib.load('scaler_travel.pkl')\n",
    "\n",
    "model_fuel = load_model('model_fuel.h5', custom_objects={'nrmse': nrmse, 'r2_score': r2_score})\n",
    "model_travel = load_model('model_travel.h5', custom_objects={'nrmse': nrmse, 'r2_score': r2_score})\n",
    "\n",
    "rf_fuel = joblib.load('rf_fuel.joblib')\n",
    "rf_travel = joblib.load('rf_travel.joblib')"
   ]
  },
  {
   "cell_type": "code",
   "execution_count": 25,
   "metadata": {},
   "outputs": [],
   "source": [
    "def reorder_request(request):\n",
    "    return [\n",
    "        request[6],\n",
    "        request[7],\n",
    "        request[8],\n",
    "        request[9],\n",
    "        request[10],\n",
    "        request[0],\n",
    "        request[1],\n",
    "        request[2],\n",
    "        request[3],\n",
    "        request[4],\n",
    "        request[5]\n",
    "    ]"
   ]
  },
  {
   "cell_type": "code",
   "execution_count": 26,
   "metadata": {},
   "outputs": [],
   "source": [
    "# Mise a jour des requetes avec le calcul d'impacts\n",
    "\n",
    "from sklearn.preprocessing import OneHotEncoder\n",
    "\n",
    "def compute_requests_impacts(requests: list):\n",
    "    # Quelques modifications sur la requete\n",
    "\n",
    "    # Convertir en tableau numpy pour un traitement plus facile\n",
    "    requests_array = np.array(requests)\n",
    "    \n",
    "    # Séparer la première colonne pour l'encodage\n",
    "    first_column = requests_array[:, 0].reshape(-1, 1)\n",
    "    remaining_columns = requests_array[:, 1:]\n",
    "\n",
    "    encoder = OneHotEncoder(sparse=False)\n",
    "    # Appliquer le one-hot encoding\n",
    "    encoded_first_column = encoder.fit_transform(first_column)\n",
    "\n",
    "    # Combiner les colonnes encodées avec les colonnes restantes\n",
    "    encoded_requests = np.hstack((encoded_first_column, remaining_columns))\n",
    "\n",
    "    requests_reordered = []\n",
    "    for request in encoded_requests:\n",
    "        requests_reordered.append(reorder_request(request))\n",
    "\n",
    "    # Transformer les nouvelles données en utilisant les scalers chargés\n",
    "    transformed_data_fuel = scaler_fuel.transform(requests_reordered)\n",
    "    transformed_data_travel = scaler_travel.transform(requests_reordered)\n",
    "\n",
    "    # Faire des prédictions avec les modèles chargés\n",
    "    # predictions_fuel = model_fuel.predict(transformed_data_fuel)\n",
    "    # predictions_travel = model_travel.predict(transformed_data_travel)\n",
    "    predictions_fuel_rf = rf_fuel.predict(transformed_data_fuel)\n",
    "    predictions_travel_rf = rf_travel.predict(transformed_data_travel)\n",
    "\n",
    "    # Ajouter les prédictions à chaque requête\n",
    "    requests_with_predictions = []\n",
    "    for i, request in enumerate(requests):\n",
    "        extended_request = request + [predictions_travel_rf[i], predictions_fuel_rf[i]]\n",
    "        requests_with_predictions.append(extended_request)\n",
    "    return requests_with_predictions"
   ]
  },
  {
   "cell_type": "code",
   "execution_count": 27,
   "metadata": {},
   "outputs": [],
   "source": [
    "comp1_df = pd.DataFrame(compute_requests_impacts(requests), columns=['ActionId', 'ActionParam', 'StartTime',\n",
    "                                                                     'EndTime',\t'Longitude'\t,'Latitude','Speed',\n",
    "                                                                     'Acceleration', 'ActionVehicleAhead', 'weight', \n",
    "                                                                    'rf_predicted_travel_impact', 'rf_predicted_fuel_impact'])"
   ]
  },
  {
   "cell_type": "code",
   "execution_count": 28,
   "metadata": {},
   "outputs": [
    {
     "data": {
      "text/html": [
       "<div>\n",
       "<style scoped>\n",
       "    .dataframe tbody tr th:only-of-type {\n",
       "        vertical-align: middle;\n",
       "    }\n",
       "\n",
       "    .dataframe tbody tr th {\n",
       "        vertical-align: top;\n",
       "    }\n",
       "\n",
       "    .dataframe thead th {\n",
       "        text-align: right;\n",
       "    }\n",
       "</style>\n",
       "<table border=\"1\" class=\"dataframe\">\n",
       "  <thead>\n",
       "    <tr style=\"text-align: right;\">\n",
       "      <th></th>\n",
       "      <th>ActionId</th>\n",
       "      <th>ActionParam</th>\n",
       "      <th>StartTime</th>\n",
       "      <th>EndTime</th>\n",
       "      <th>Longitude</th>\n",
       "      <th>Latitude</th>\n",
       "      <th>Speed</th>\n",
       "      <th>Acceleration</th>\n",
       "      <th>ActionVehicleAhead</th>\n",
       "      <th>weight</th>\n",
       "      <th>rf_predicted_travel_impact</th>\n",
       "      <th>rf_predicted_fuel_impact</th>\n",
       "    </tr>\n",
       "  </thead>\n",
       "  <tbody>\n",
       "    <tr>\n",
       "      <th>0</th>\n",
       "      <td>1.0</td>\n",
       "      <td>3.637788</td>\n",
       "      <td>60.0</td>\n",
       "      <td>79.0</td>\n",
       "      <td>1.467514</td>\n",
       "      <td>43.567027</td>\n",
       "      <td>15.535806</td>\n",
       "      <td>1.671466</td>\n",
       "      <td>1.0</td>\n",
       "      <td>0.52</td>\n",
       "      <td>7.07</td>\n",
       "      <td>-29.597807</td>\n",
       "    </tr>\n",
       "    <tr>\n",
       "      <th>1</th>\n",
       "      <td>1.0</td>\n",
       "      <td>6.061398</td>\n",
       "      <td>47.0</td>\n",
       "      <td>62.0</td>\n",
       "      <td>1.468705</td>\n",
       "      <td>43.565977</td>\n",
       "      <td>13.053015</td>\n",
       "      <td>-3.865097</td>\n",
       "      <td>1.0</td>\n",
       "      <td>0.64</td>\n",
       "      <td>-5.31</td>\n",
       "      <td>-84.021402</td>\n",
       "    </tr>\n",
       "    <tr>\n",
       "      <th>2</th>\n",
       "      <td>2.0</td>\n",
       "      <td>7.288713</td>\n",
       "      <td>36.0</td>\n",
       "      <td>54.0</td>\n",
       "      <td>1.468968</td>\n",
       "      <td>43.564844</td>\n",
       "      <td>4.455834</td>\n",
       "      <td>-2.732125</td>\n",
       "      <td>2.0</td>\n",
       "      <td>0.72</td>\n",
       "      <td>-32.72</td>\n",
       "      <td>-1.332495</td>\n",
       "    </tr>\n",
       "    <tr>\n",
       "      <th>3</th>\n",
       "      <td>2.0</td>\n",
       "      <td>12.340288</td>\n",
       "      <td>50.0</td>\n",
       "      <td>56.0</td>\n",
       "      <td>1.469694</td>\n",
       "      <td>43.564756</td>\n",
       "      <td>13.846621</td>\n",
       "      <td>-2.205520</td>\n",
       "      <td>0.0</td>\n",
       "      <td>0.63</td>\n",
       "      <td>-28.70</td>\n",
       "      <td>7.004656</td>\n",
       "    </tr>\n",
       "    <tr>\n",
       "      <th>4</th>\n",
       "      <td>3.0</td>\n",
       "      <td>0.000000</td>\n",
       "      <td>70.0</td>\n",
       "      <td>86.0</td>\n",
       "      <td>1.468117</td>\n",
       "      <td>43.566597</td>\n",
       "      <td>0.401835</td>\n",
       "      <td>0.172607</td>\n",
       "      <td>0.0</td>\n",
       "      <td>0.62</td>\n",
       "      <td>-36.28</td>\n",
       "      <td>6.320132</td>\n",
       "    </tr>\n",
       "    <tr>\n",
       "      <th>5</th>\n",
       "      <td>3.0</td>\n",
       "      <td>0.000000</td>\n",
       "      <td>30.0</td>\n",
       "      <td>50.0</td>\n",
       "      <td>1.468995</td>\n",
       "      <td>43.564858</td>\n",
       "      <td>7.125251</td>\n",
       "      <td>-0.243083</td>\n",
       "      <td>1.0</td>\n",
       "      <td>0.50</td>\n",
       "      <td>-26.95</td>\n",
       "      <td>4.963282</td>\n",
       "    </tr>\n",
       "  </tbody>\n",
       "</table>\n",
       "</div>"
      ],
      "text/plain": [
       "   ActionId  ActionParam  StartTime  EndTime  Longitude   Latitude      Speed  \\\n",
       "0       1.0     3.637788       60.0     79.0   1.467514  43.567027  15.535806   \n",
       "1       1.0     6.061398       47.0     62.0   1.468705  43.565977  13.053015   \n",
       "2       2.0     7.288713       36.0     54.0   1.468968  43.564844   4.455834   \n",
       "3       2.0    12.340288       50.0     56.0   1.469694  43.564756  13.846621   \n",
       "4       3.0     0.000000       70.0     86.0   1.468117  43.566597   0.401835   \n",
       "5       3.0     0.000000       30.0     50.0   1.468995  43.564858   7.125251   \n",
       "\n",
       "   Acceleration  ActionVehicleAhead  weight  rf_predicted_travel_impact  \\\n",
       "0      1.671466                 1.0    0.52                        7.07   \n",
       "1     -3.865097                 1.0    0.64                       -5.31   \n",
       "2     -2.732125                 2.0    0.72                      -32.72   \n",
       "3     -2.205520                 0.0    0.63                      -28.70   \n",
       "4      0.172607                 0.0    0.62                      -36.28   \n",
       "5     -0.243083                 1.0    0.50                      -26.95   \n",
       "\n",
       "   rf_predicted_fuel_impact  \n",
       "0                -29.597807  \n",
       "1                -84.021402  \n",
       "2                 -1.332495  \n",
       "3                  7.004656  \n",
       "4                  6.320132  \n",
       "5                  4.963282  "
      ]
     },
     "execution_count": 28,
     "metadata": {},
     "output_type": "execute_result"
    }
   ],
   "source": [
    "comp1_df"
   ]
  },
  {
   "cell_type": "code",
   "execution_count": 29,
   "metadata": {},
   "outputs": [],
   "source": [
    "def greedy_request_selection_3(requests, travel_weight, fuel_weight):\n",
    "    requests_with_impacts= compute_requests_impacts(requests)\n",
    "\n",
    "    for req in requests_with_impacts:\n",
    "        req.append(travel_weight* req[-2] + fuel_weight * req[-1])\n",
    "\n",
    "    # Trier les requêtes selon les impacts\n",
    "    sorted_requests = sorted(requests_with_impacts, key=lambda x: x[-1], reverse=True)\n",
    "\n",
    "    selected_requests = []\n",
    "    # Pour suivre les plages de temps déjà occupées\n",
    "\n",
    "    # Parcourir les requêtes triées\n",
    "    for request in sorted_requests:\n",
    "        # Vérifier s'il y a un conflit avec les request déjà sélectionnées\n",
    "        conf = False\n",
    "        for selected in selected_requests:\n",
    "            if conflict(request, selected):\n",
    "                conf = True\n",
    "                break\n",
    "        \n",
    "        if not conf:\n",
    "            selected_requests.append(request)\n",
    "\n",
    "    return selected_requests"
   ]
  },
  {
   "cell_type": "code",
   "execution_count": 30,
   "metadata": {},
   "outputs": [
    {
     "data": {
      "text/html": [
       "<div>\n",
       "<style scoped>\n",
       "    .dataframe tbody tr th:only-of-type {\n",
       "        vertical-align: middle;\n",
       "    }\n",
       "\n",
       "    .dataframe tbody tr th {\n",
       "        vertical-align: top;\n",
       "    }\n",
       "\n",
       "    .dataframe thead th {\n",
       "        text-align: right;\n",
       "    }\n",
       "</style>\n",
       "<table border=\"1\" class=\"dataframe\">\n",
       "  <thead>\n",
       "    <tr style=\"text-align: right;\">\n",
       "      <th></th>\n",
       "      <th>0</th>\n",
       "      <th>1</th>\n",
       "      <th>2</th>\n",
       "      <th>3</th>\n",
       "      <th>4</th>\n",
       "      <th>5</th>\n",
       "      <th>6</th>\n",
       "      <th>7</th>\n",
       "      <th>8</th>\n",
       "      <th>9</th>\n",
       "      <th>10</th>\n",
       "      <th>11</th>\n",
       "    </tr>\n",
       "  </thead>\n",
       "  <tbody>\n",
       "    <tr>\n",
       "      <th>0</th>\n",
       "      <td>1.0</td>\n",
       "      <td>3.637788</td>\n",
       "      <td>60.0</td>\n",
       "      <td>79.0</td>\n",
       "      <td>1.467514</td>\n",
       "      <td>43.567027</td>\n",
       "      <td>15.535806</td>\n",
       "      <td>1.671466</td>\n",
       "      <td>1.0</td>\n",
       "      <td>0.52</td>\n",
       "      <td>7.07</td>\n",
       "      <td>-29.597807</td>\n",
       "    </tr>\n",
       "    <tr>\n",
       "      <th>1</th>\n",
       "      <td>1.0</td>\n",
       "      <td>6.061398</td>\n",
       "      <td>47.0</td>\n",
       "      <td>62.0</td>\n",
       "      <td>1.468705</td>\n",
       "      <td>43.565977</td>\n",
       "      <td>13.053015</td>\n",
       "      <td>-3.865097</td>\n",
       "      <td>1.0</td>\n",
       "      <td>0.64</td>\n",
       "      <td>-5.31</td>\n",
       "      <td>-84.021402</td>\n",
       "    </tr>\n",
       "    <tr>\n",
       "      <th>2</th>\n",
       "      <td>2.0</td>\n",
       "      <td>7.288713</td>\n",
       "      <td>36.0</td>\n",
       "      <td>54.0</td>\n",
       "      <td>1.468968</td>\n",
       "      <td>43.564844</td>\n",
       "      <td>4.455834</td>\n",
       "      <td>-2.732125</td>\n",
       "      <td>2.0</td>\n",
       "      <td>0.72</td>\n",
       "      <td>-32.72</td>\n",
       "      <td>-1.332495</td>\n",
       "    </tr>\n",
       "    <tr>\n",
       "      <th>3</th>\n",
       "      <td>2.0</td>\n",
       "      <td>12.340288</td>\n",
       "      <td>50.0</td>\n",
       "      <td>56.0</td>\n",
       "      <td>1.469694</td>\n",
       "      <td>43.564756</td>\n",
       "      <td>13.846621</td>\n",
       "      <td>-2.205520</td>\n",
       "      <td>0.0</td>\n",
       "      <td>0.63</td>\n",
       "      <td>-28.70</td>\n",
       "      <td>7.004656</td>\n",
       "    </tr>\n",
       "    <tr>\n",
       "      <th>4</th>\n",
       "      <td>3.0</td>\n",
       "      <td>0.000000</td>\n",
       "      <td>70.0</td>\n",
       "      <td>86.0</td>\n",
       "      <td>1.468117</td>\n",
       "      <td>43.566597</td>\n",
       "      <td>0.401835</td>\n",
       "      <td>0.172607</td>\n",
       "      <td>0.0</td>\n",
       "      <td>0.62</td>\n",
       "      <td>-36.28</td>\n",
       "      <td>6.320132</td>\n",
       "    </tr>\n",
       "    <tr>\n",
       "      <th>5</th>\n",
       "      <td>3.0</td>\n",
       "      <td>0.000000</td>\n",
       "      <td>30.0</td>\n",
       "      <td>50.0</td>\n",
       "      <td>1.468995</td>\n",
       "      <td>43.564858</td>\n",
       "      <td>7.125251</td>\n",
       "      <td>-0.243083</td>\n",
       "      <td>1.0</td>\n",
       "      <td>0.50</td>\n",
       "      <td>-26.95</td>\n",
       "      <td>4.963282</td>\n",
       "    </tr>\n",
       "  </tbody>\n",
       "</table>\n",
       "</div>"
      ],
      "text/plain": [
       "    0          1     2     3         4          5          6         7    8   \\\n",
       "0  1.0   3.637788  60.0  79.0  1.467514  43.567027  15.535806  1.671466  1.0   \n",
       "1  1.0   6.061398  47.0  62.0  1.468705  43.565977  13.053015 -3.865097  1.0   \n",
       "2  2.0   7.288713  36.0  54.0  1.468968  43.564844   4.455834 -2.732125  2.0   \n",
       "3  2.0  12.340288  50.0  56.0  1.469694  43.564756  13.846621 -2.205520  0.0   \n",
       "4  3.0   0.000000  70.0  86.0  1.468117  43.566597   0.401835  0.172607  0.0   \n",
       "5  3.0   0.000000  30.0  50.0  1.468995  43.564858   7.125251 -0.243083  1.0   \n",
       "\n",
       "     9      10         11  \n",
       "0  0.52   7.07 -29.597807  \n",
       "1  0.64  -5.31 -84.021402  \n",
       "2  0.72 -32.72  -1.332495  \n",
       "3  0.63 -28.70   7.004656  \n",
       "4  0.62 -36.28   6.320132  \n",
       "5  0.50 -26.95   4.963282  "
      ]
     },
     "execution_count": 30,
     "metadata": {},
     "output_type": "execute_result"
    }
   ],
   "source": [
    "pd.DataFrame(compute_requests_impacts(requests))"
   ]
  },
  {
   "cell_type": "code",
   "execution_count": 31,
   "metadata": {},
   "outputs": [
    {
     "data": {
      "text/html": [
       "<div>\n",
       "<style scoped>\n",
       "    .dataframe tbody tr th:only-of-type {\n",
       "        vertical-align: middle;\n",
       "    }\n",
       "\n",
       "    .dataframe tbody tr th {\n",
       "        vertical-align: top;\n",
       "    }\n",
       "\n",
       "    .dataframe thead th {\n",
       "        text-align: right;\n",
       "    }\n",
       "</style>\n",
       "<table border=\"1\" class=\"dataframe\">\n",
       "  <thead>\n",
       "    <tr style=\"text-align: right;\">\n",
       "      <th></th>\n",
       "      <th>0</th>\n",
       "      <th>1</th>\n",
       "      <th>2</th>\n",
       "      <th>3</th>\n",
       "      <th>4</th>\n",
       "      <th>5</th>\n",
       "      <th>6</th>\n",
       "      <th>7</th>\n",
       "      <th>8</th>\n",
       "      <th>9</th>\n",
       "      <th>10</th>\n",
       "      <th>11</th>\n",
       "      <th>12</th>\n",
       "    </tr>\n",
       "  </thead>\n",
       "  <tbody>\n",
       "    <tr>\n",
       "      <th>0</th>\n",
       "      <td>2.0</td>\n",
       "      <td>12.340288</td>\n",
       "      <td>50.0</td>\n",
       "      <td>56.0</td>\n",
       "      <td>1.469694</td>\n",
       "      <td>43.564756</td>\n",
       "      <td>13.846621</td>\n",
       "      <td>-2.205520</td>\n",
       "      <td>0.0</td>\n",
       "      <td>0.63</td>\n",
       "      <td>-28.70</td>\n",
       "      <td>7.004656</td>\n",
       "      <td>-10.847672</td>\n",
       "    </tr>\n",
       "    <tr>\n",
       "      <th>1</th>\n",
       "      <td>3.0</td>\n",
       "      <td>0.000000</td>\n",
       "      <td>30.0</td>\n",
       "      <td>50.0</td>\n",
       "      <td>1.468995</td>\n",
       "      <td>43.564858</td>\n",
       "      <td>7.125251</td>\n",
       "      <td>-0.243083</td>\n",
       "      <td>1.0</td>\n",
       "      <td>0.50</td>\n",
       "      <td>-26.95</td>\n",
       "      <td>4.963282</td>\n",
       "      <td>-10.993359</td>\n",
       "    </tr>\n",
       "    <tr>\n",
       "      <th>2</th>\n",
       "      <td>1.0</td>\n",
       "      <td>3.637788</td>\n",
       "      <td>60.0</td>\n",
       "      <td>79.0</td>\n",
       "      <td>1.467514</td>\n",
       "      <td>43.567027</td>\n",
       "      <td>15.535806</td>\n",
       "      <td>1.671466</td>\n",
       "      <td>1.0</td>\n",
       "      <td>0.52</td>\n",
       "      <td>7.07</td>\n",
       "      <td>-29.597807</td>\n",
       "      <td>-11.263903</td>\n",
       "    </tr>\n",
       "  </tbody>\n",
       "</table>\n",
       "</div>"
      ],
      "text/plain": [
       "    0          1     2     3         4          5          6         7    8   \\\n",
       "0  2.0  12.340288  50.0  56.0  1.469694  43.564756  13.846621 -2.205520  0.0   \n",
       "1  3.0   0.000000  30.0  50.0  1.468995  43.564858   7.125251 -0.243083  1.0   \n",
       "2  1.0   3.637788  60.0  79.0  1.467514  43.567027  15.535806  1.671466  1.0   \n",
       "\n",
       "     9      10         11         12  \n",
       "0  0.63 -28.70   7.004656 -10.847672  \n",
       "1  0.50 -26.95   4.963282 -10.993359  \n",
       "2  0.52   7.07 -29.597807 -11.263903  "
      ]
     },
     "execution_count": 31,
     "metadata": {},
     "output_type": "execute_result"
    }
   ],
   "source": [
    "pd.DataFrame(greedy_request_selection_3(requests, 0.5, 0.5))"
   ]
  },
  {
   "cell_type": "code",
   "execution_count": 32,
   "metadata": {},
   "outputs": [],
   "source": [
    "def compute_score(combinaison, lambdaa, travel_weight, fuel_weight):\n",
    "    sum = 0\n",
    "    for request in combinaison:\n",
    "        sum += request[-3] + lambdaa* (travel_weight* request[-2] + fuel_weight* request[-1])\n",
    "\n",
    "    return sum\n",
    "\n",
    "def compute_impacts(combination, t_weight, f_weight):\n",
    "    sum = 0\n",
    "    for request in combination:\n",
    "        sum += (t_weight* request[-2] + f_weight* request[-1])\n",
    "\n",
    "    return sum\n"
   ]
  },
  {
   "cell_type": "code",
   "execution_count": 33,
   "metadata": {},
   "outputs": [],
   "source": [
    "def compute_total_weight(combination):\n",
    "    sum = 0\n",
    "    for req in combination:\n",
    "        sum += req[-3]\n",
    "    return sum"
   ]
  },
  {
   "cell_type": "code",
   "execution_count": 34,
   "metadata": {},
   "outputs": [],
   "source": [
    "from itertools import combinations\n",
    "import math\n",
    "\n",
    "def find_best_combination(composition):\n",
    "    best_combination = []\n",
    "    best_score = - math.inf\n",
    "\n",
    "    # composition_with_impacts= compute_requests_impacts(composition)\n",
    "    \n",
    "    for i in range(1, len(composition)+1):\n",
    "        combination_list = combinations(composition, i)\n",
    "        for combo in combination_list:\n",
    "            \n",
    "            if not is_conflict_in_combination(combo):\n",
    "                # print(pd.DataFrame(combo))\n",
    "                combo_score = compute_score(combo, 0.01, 0.5, 0.5)\n",
    "                if best_score < combo_score:\n",
    "                    best_combination = combo\n",
    "                    best_score = combo_score\n",
    "    \n",
    "    return best_combination, best_score\n"
   ]
  },
  {
   "cell_type": "code",
   "execution_count": 35,
   "metadata": {},
   "outputs": [],
   "source": [
    "# find_best_combination(requests)"
   ]
  },
  {
   "cell_type": "code",
   "execution_count": 36,
   "metadata": {},
   "outputs": [
    {
     "data": {
      "text/html": [
       "<div>\n",
       "<style scoped>\n",
       "    .dataframe tbody tr th:only-of-type {\n",
       "        vertical-align: middle;\n",
       "    }\n",
       "\n",
       "    .dataframe tbody tr th {\n",
       "        vertical-align: top;\n",
       "    }\n",
       "\n",
       "    .dataframe thead th {\n",
       "        text-align: right;\n",
       "    }\n",
       "</style>\n",
       "<table border=\"1\" class=\"dataframe\">\n",
       "  <thead>\n",
       "    <tr style=\"text-align: right;\">\n",
       "      <th></th>\n",
       "      <th>0</th>\n",
       "      <th>1</th>\n",
       "      <th>2</th>\n",
       "      <th>3</th>\n",
       "      <th>4</th>\n",
       "      <th>5</th>\n",
       "      <th>6</th>\n",
       "      <th>7</th>\n",
       "      <th>8</th>\n",
       "      <th>9</th>\n",
       "      <th>10</th>\n",
       "      <th>11</th>\n",
       "    </tr>\n",
       "  </thead>\n",
       "  <tbody>\n",
       "    <tr>\n",
       "      <th>0</th>\n",
       "      <td>2.0</td>\n",
       "      <td>7.288713</td>\n",
       "      <td>36.0</td>\n",
       "      <td>54.0</td>\n",
       "      <td>1.468968</td>\n",
       "      <td>43.564844</td>\n",
       "      <td>4.455834</td>\n",
       "      <td>-2.732125</td>\n",
       "      <td>2.0</td>\n",
       "      <td>0.72</td>\n",
       "      <td>-32.72</td>\n",
       "      <td>-1.332495</td>\n",
       "    </tr>\n",
       "    <tr>\n",
       "      <th>1</th>\n",
       "      <td>2.0</td>\n",
       "      <td>12.340288</td>\n",
       "      <td>50.0</td>\n",
       "      <td>56.0</td>\n",
       "      <td>1.469694</td>\n",
       "      <td>43.564756</td>\n",
       "      <td>13.846621</td>\n",
       "      <td>-2.205520</td>\n",
       "      <td>0.0</td>\n",
       "      <td>0.63</td>\n",
       "      <td>-28.70</td>\n",
       "      <td>7.004656</td>\n",
       "    </tr>\n",
       "    <tr>\n",
       "      <th>2</th>\n",
       "      <td>3.0</td>\n",
       "      <td>0.000000</td>\n",
       "      <td>70.0</td>\n",
       "      <td>86.0</td>\n",
       "      <td>1.468117</td>\n",
       "      <td>43.566597</td>\n",
       "      <td>0.401835</td>\n",
       "      <td>0.172607</td>\n",
       "      <td>0.0</td>\n",
       "      <td>0.62</td>\n",
       "      <td>-36.28</td>\n",
       "      <td>6.320132</td>\n",
       "    </tr>\n",
       "  </tbody>\n",
       "</table>\n",
       "</div>"
      ],
      "text/plain": [
       "    0          1     2     3         4          5          6         7    8   \\\n",
       "0  2.0   7.288713  36.0  54.0  1.468968  43.564844   4.455834 -2.732125  2.0   \n",
       "1  2.0  12.340288  50.0  56.0  1.469694  43.564756  13.846621 -2.205520  0.0   \n",
       "2  3.0   0.000000  70.0  86.0  1.468117  43.566597   0.401835  0.172607  0.0   \n",
       "\n",
       "     9      10        11  \n",
       "0  0.72 -32.72 -1.332495  \n",
       "1  0.63 -28.70  7.004656  \n",
       "2  0.62 -36.28  6.320132  "
      ]
     },
     "execution_count": 36,
     "metadata": {},
     "output_type": "execute_result"
    },
    {
     "data": {
      "text/plain": [
       "1.5414614636471788"
      ]
     },
     "execution_count": 36,
     "metadata": {},
     "output_type": "execute_result"
    }
   ],
   "source": [
    "bc, bs= find_best_combination(compute_requests_impacts(requests))\n",
    "pd.DataFrame(bc)\n",
    "bs"
   ]
  },
  {
   "cell_type": "code",
   "execution_count": 37,
   "metadata": {},
   "outputs": [],
   "source": [
    "# len(composition_ordered)"
   ]
  },
  {
   "cell_type": "code",
   "execution_count": 38,
   "metadata": {},
   "outputs": [],
   "source": [
    "# def df_to_tuple(df):\n",
    "#     return tuple([tuple(row) for row in df.values])\n",
    "\n",
    "# best_combination = {}\n",
    "\n",
    "# for i in range(len(composition_ordered)):\n",
    "\n",
    "#     best_combination[i] = find_best_combination(composition_ordered[i].values.tolist())"
   ]
  },
  {
   "cell_type": "code",
   "execution_count": 39,
   "metadata": {},
   "outputs": [],
   "source": [
    "# pd.DataFrame(best_combination[0][0])"
   ]
  },
  {
   "cell_type": "code",
   "execution_count": 40,
   "metadata": {},
   "outputs": [],
   "source": [
    "# pd.DataFrame([t for t in best_combination.keys() if len(best_combination[t][0]) > 4])"
   ]
  },
  {
   "cell_type": "code",
   "execution_count": 41,
   "metadata": {},
   "outputs": [],
   "source": [
    "# len(best_combination.keys())"
   ]
  },
  {
   "cell_type": "code",
   "execution_count": 42,
   "metadata": {},
   "outputs": [
    {
     "data": {
      "text/html": [
       "<div>\n",
       "<style scoped>\n",
       "    .dataframe tbody tr th:only-of-type {\n",
       "        vertical-align: middle;\n",
       "    }\n",
       "\n",
       "    .dataframe tbody tr th {\n",
       "        vertical-align: top;\n",
       "    }\n",
       "\n",
       "    .dataframe thead th {\n",
       "        text-align: right;\n",
       "    }\n",
       "</style>\n",
       "<table border=\"1\" class=\"dataframe\">\n",
       "  <thead>\n",
       "    <tr style=\"text-align: right;\">\n",
       "      <th></th>\n",
       "      <th>ActionId</th>\n",
       "      <th>ActionParam</th>\n",
       "      <th>StartTime</th>\n",
       "      <th>EndTime</th>\n",
       "      <th>Longitude</th>\n",
       "      <th>Latitude</th>\n",
       "      <th>Speed</th>\n",
       "      <th>Acceleration</th>\n",
       "      <th>ActionVehicleAhead</th>\n",
       "      <th>weight</th>\n",
       "    </tr>\n",
       "  </thead>\n",
       "  <tbody>\n",
       "    <tr>\n",
       "      <th>3410</th>\n",
       "      <td>1</td>\n",
       "      <td>4.707073</td>\n",
       "      <td>41</td>\n",
       "      <td>48</td>\n",
       "      <td>1.468746</td>\n",
       "      <td>43.565934</td>\n",
       "      <td>14.593123</td>\n",
       "      <td>-3.577875</td>\n",
       "      <td>0</td>\n",
       "      <td>0.41</td>\n",
       "    </tr>\n",
       "    <tr>\n",
       "      <th>4178</th>\n",
       "      <td>1</td>\n",
       "      <td>7.372074</td>\n",
       "      <td>43</td>\n",
       "      <td>55</td>\n",
       "      <td>1.468437</td>\n",
       "      <td>43.566256</td>\n",
       "      <td>17.705084</td>\n",
       "      <td>3.512349</td>\n",
       "      <td>1</td>\n",
       "      <td>0.33</td>\n",
       "    </tr>\n",
       "    <tr>\n",
       "      <th>3416</th>\n",
       "      <td>2</td>\n",
       "      <td>6.660502</td>\n",
       "      <td>30</td>\n",
       "      <td>35</td>\n",
       "      <td>1.469940</td>\n",
       "      <td>43.565089</td>\n",
       "      <td>15.674146</td>\n",
       "      <td>-2.793227</td>\n",
       "      <td>1</td>\n",
       "      <td>0.31</td>\n",
       "    </tr>\n",
       "    <tr>\n",
       "      <th>3220</th>\n",
       "      <td>2</td>\n",
       "      <td>2.475124</td>\n",
       "      <td>18</td>\n",
       "      <td>34</td>\n",
       "      <td>1.468197</td>\n",
       "      <td>43.564407</td>\n",
       "      <td>11.854429</td>\n",
       "      <td>4.005028</td>\n",
       "      <td>2</td>\n",
       "      <td>0.51</td>\n",
       "    </tr>\n",
       "    <tr>\n",
       "      <th>5216</th>\n",
       "      <td>3</td>\n",
       "      <td>0.000000</td>\n",
       "      <td>60</td>\n",
       "      <td>69</td>\n",
       "      <td>1.469983</td>\n",
       "      <td>43.564960</td>\n",
       "      <td>14.127148</td>\n",
       "      <td>2.704683</td>\n",
       "      <td>3</td>\n",
       "      <td>0.44</td>\n",
       "    </tr>\n",
       "  </tbody>\n",
       "</table>\n",
       "</div>"
      ],
      "text/plain": [
       "      ActionId  ActionParam  StartTime  EndTime  Longitude   Latitude  \\\n",
       "3410         1     4.707073         41       48   1.468746  43.565934   \n",
       "4178         1     7.372074         43       55   1.468437  43.566256   \n",
       "3416         2     6.660502         30       35   1.469940  43.565089   \n",
       "3220         2     2.475124         18       34   1.468197  43.564407   \n",
       "5216         3     0.000000         60       69   1.469983  43.564960   \n",
       "\n",
       "          Speed  Acceleration  ActionVehicleAhead  weight  \n",
       "3410  14.593123     -3.577875                   0    0.41  \n",
       "4178  17.705084      3.512349                   1    0.33  \n",
       "3416  15.674146     -2.793227                   1    0.31  \n",
       "3220  11.854429      4.005028                   2    0.51  \n",
       "5216  14.127148      2.704683                   3    0.44  "
      ]
     },
     "execution_count": 42,
     "metadata": {},
     "output_type": "execute_result"
    }
   ],
   "source": [
    "pd.DataFrame(composition_filtered[163])"
   ]
  },
  {
   "cell_type": "code",
   "execution_count": 43,
   "metadata": {},
   "outputs": [
    {
     "data": {
      "text/html": [
       "<div>\n",
       "<style scoped>\n",
       "    .dataframe tbody tr th:only-of-type {\n",
       "        vertical-align: middle;\n",
       "    }\n",
       "\n",
       "    .dataframe tbody tr th {\n",
       "        vertical-align: top;\n",
       "    }\n",
       "\n",
       "    .dataframe thead th {\n",
       "        text-align: right;\n",
       "    }\n",
       "</style>\n",
       "<table border=\"1\" class=\"dataframe\">\n",
       "  <thead>\n",
       "    <tr style=\"text-align: right;\">\n",
       "      <th></th>\n",
       "      <th>0</th>\n",
       "      <th>1</th>\n",
       "      <th>2</th>\n",
       "      <th>3</th>\n",
       "      <th>4</th>\n",
       "      <th>5</th>\n",
       "      <th>6</th>\n",
       "      <th>7</th>\n",
       "      <th>8</th>\n",
       "      <th>9</th>\n",
       "    </tr>\n",
       "  </thead>\n",
       "  <tbody>\n",
       "    <tr>\n",
       "      <th>0</th>\n",
       "      <td>1.0</td>\n",
       "      <td>7.372074</td>\n",
       "      <td>43.0</td>\n",
       "      <td>55.0</td>\n",
       "      <td>1.468437</td>\n",
       "      <td>43.566256</td>\n",
       "      <td>17.705084</td>\n",
       "      <td>3.512349</td>\n",
       "      <td>1.0</td>\n",
       "      <td>0.33</td>\n",
       "    </tr>\n",
       "    <tr>\n",
       "      <th>1</th>\n",
       "      <td>2.0</td>\n",
       "      <td>2.475124</td>\n",
       "      <td>18.0</td>\n",
       "      <td>34.0</td>\n",
       "      <td>1.468197</td>\n",
       "      <td>43.564407</td>\n",
       "      <td>11.854429</td>\n",
       "      <td>4.005028</td>\n",
       "      <td>2.0</td>\n",
       "      <td>0.51</td>\n",
       "    </tr>\n",
       "    <tr>\n",
       "      <th>2</th>\n",
       "      <td>3.0</td>\n",
       "      <td>0.000000</td>\n",
       "      <td>60.0</td>\n",
       "      <td>69.0</td>\n",
       "      <td>1.469983</td>\n",
       "      <td>43.564960</td>\n",
       "      <td>14.127148</td>\n",
       "      <td>2.704683</td>\n",
       "      <td>3.0</td>\n",
       "      <td>0.44</td>\n",
       "    </tr>\n",
       "  </tbody>\n",
       "</table>\n",
       "</div>"
      ],
      "text/plain": [
       "     0         1     2     3         4          5          6         7    8  \\\n",
       "0  1.0  7.372074  43.0  55.0  1.468437  43.566256  17.705084  3.512349  1.0   \n",
       "1  2.0  2.475124  18.0  34.0  1.468197  43.564407  11.854429  4.005028  2.0   \n",
       "2  3.0  0.000000  60.0  69.0  1.469983  43.564960  14.127148  2.704683  3.0   \n",
       "\n",
       "      9  \n",
       "0  0.33  \n",
       "1  0.51  \n",
       "2  0.44  "
      ]
     },
     "execution_count": 43,
     "metadata": {},
     "output_type": "execute_result"
    }
   ],
   "source": [
    "pd.DataFrame(find_best_combination(composition_filtered[163].values.tolist())[0])"
   ]
  },
  {
   "cell_type": "markdown",
   "metadata": {},
   "source": [
    "#### La methode absolue"
   ]
  },
  {
   "cell_type": "code",
   "execution_count": 44,
   "metadata": {},
   "outputs": [],
   "source": [
    "# from collections import defaultdict\n",
    "# from itertools import product\n",
    "# from itertools import permutations\n",
    "\n",
    "# def group_request_by_type(requests):\n",
    "#     # Création d'un dictionnaire avec des listes comme valeurs par défaut\n",
    "#     groupes = defaultdict(list)\n",
    "    \n",
    "#     # Parcours de chaque sous-liste dans la liste principale\n",
    "#     for req in requests:\n",
    "#         # Extraction de la valeur de la première colonne\n",
    "#         cle = req[0]\n",
    "#         # Ajout de la sous-liste au groupe correspondant\n",
    "#         groupes[cle].append(req)\n",
    "    \n",
    "#     # Conversion du defaultdict en dictionnaire normal (optionnel)\n",
    "#     return dict(groupes)\n",
    "\n",
    "# def compute_total_weight(combinaison):\n",
    "#     sum = 0\n",
    "#     for req in combinaison:\n",
    "#         sum += req[-1]\n",
    "#     return sum\n",
    "\n",
    "# # Fonction pour générer des combinaisons sans conflit pour un type de base donné\n",
    "# def generate_combinations_for_base_type(base_type, grouped_requests):\n",
    "#     all_combinaisons = []\n",
    "\n",
    "#     # Obtenir les autres types de requêtes\n",
    "#     other_types = [t for t in grouped_requests if t != base_type]\n",
    "\n",
    "#     for perm in permutations(other_types):\n",
    "#         combinaison = grouped_requests[base_type]\n",
    "#         for other_type in perm:\n",
    "#             for request in grouped_requests[other_type]:\n",
    "#                 # Vérifier s'il y a un conflit avec les request déjà sélectionnées\n",
    "#                 conf = False\n",
    "#                 for selected in combinaison:\n",
    "#                     if conflict(request, selected):\n",
    "#                         conf = True\n",
    "#                         break\n",
    "                \n",
    "#                 if not conf:\n",
    "#                     combinaison.append(request)\n",
    "            \n",
    "#             all_combinaisons.append(combinaison)\n",
    "#     return all_combinaisons\n",
    "\n",
    "# def selection(requests):\n",
    "#     best_combinaison = []\n",
    "#     max_comb_weight = 0\n",
    "\n",
    "#     # Trier les requêtes par poids décroissant\n",
    "#     sorted_requests = sorted(requests, key=lambda x: x[-1], reverse=True)\n",
    "\n",
    "#     groupes = group_request_by_type(sorted_requests)\n",
    "\n",
    "#     # Trier chaque groupe selon le troisième élément (par exemple)\n",
    "#     for base_type in groupes.keys():\n",
    "#          # Obtenir les autres types de requêtes\n",
    "#         other_types = [t for t in groupes if t != base_type]\n",
    "\n",
    "#         for perm in permutations(other_types):\n",
    "#             combinaison = list(groupes[base_type])\n",
    "#             for other_type in perm:\n",
    "#                 for request in groupes[other_type]:\n",
    "#                     # Vérifier s'il y a un conflit avec les request déjà sélectionnées\n",
    "#                     conf = False\n",
    "#                     for selected in combinaison:\n",
    "#                         if conflict(request, selected):\n",
    "#                             conf = True\n",
    "#                             break\n",
    "                    \n",
    "#                     if not conf:\n",
    "#                         combinaison.append(request)\n",
    "            \n",
    "#             combinaison_weight = compute_total_weight(combinaison)\n",
    "#             if combinaison_weight > max_comb_weight :\n",
    "#                 best_combinaison = combinaison\n",
    "#                 max_comb_weight = combinaison_weight\n",
    "\n",
    "#     return best_combinaison\n",
    "\n"
   ]
  },
  {
   "cell_type": "code",
   "execution_count": 45,
   "metadata": {},
   "outputs": [],
   "source": [
    "# pd.DataFrame(selection(requests))"
   ]
  },
  {
   "cell_type": "code",
   "execution_count": 46,
   "metadata": {},
   "outputs": [],
   "source": [
    "comp_with_impacts = compute_requests_impacts(composition1.values.tolist())"
   ]
  },
  {
   "cell_type": "code",
   "execution_count": 47,
   "metadata": {},
   "outputs": [
    {
     "data": {
      "text/html": [
       "<div>\n",
       "<style scoped>\n",
       "    .dataframe tbody tr th:only-of-type {\n",
       "        vertical-align: middle;\n",
       "    }\n",
       "\n",
       "    .dataframe tbody tr th {\n",
       "        vertical-align: top;\n",
       "    }\n",
       "\n",
       "    .dataframe thead th {\n",
       "        text-align: right;\n",
       "    }\n",
       "</style>\n",
       "<table border=\"1\" class=\"dataframe\">\n",
       "  <thead>\n",
       "    <tr style=\"text-align: right;\">\n",
       "      <th></th>\n",
       "      <th>ActionId</th>\n",
       "      <th>ActionParam</th>\n",
       "      <th>StartTime</th>\n",
       "      <th>EndTime</th>\n",
       "      <th>Longitude</th>\n",
       "      <th>Latitude</th>\n",
       "      <th>Speed</th>\n",
       "      <th>Acceleration</th>\n",
       "      <th>ActionVehicleAhead</th>\n",
       "      <th>weight</th>\n",
       "    </tr>\n",
       "  </thead>\n",
       "  <tbody>\n",
       "    <tr>\n",
       "      <th>548</th>\n",
       "      <td>1</td>\n",
       "      <td>3.637788</td>\n",
       "      <td>60</td>\n",
       "      <td>79</td>\n",
       "      <td>1.467514</td>\n",
       "      <td>43.567027</td>\n",
       "      <td>15.535806</td>\n",
       "      <td>1.671466</td>\n",
       "      <td>1</td>\n",
       "      <td>0.52</td>\n",
       "    </tr>\n",
       "    <tr>\n",
       "      <th>1298</th>\n",
       "      <td>1</td>\n",
       "      <td>6.061398</td>\n",
       "      <td>47</td>\n",
       "      <td>62</td>\n",
       "      <td>1.468705</td>\n",
       "      <td>43.565977</td>\n",
       "      <td>13.053015</td>\n",
       "      <td>-3.865097</td>\n",
       "      <td>1</td>\n",
       "      <td>0.64</td>\n",
       "    </tr>\n",
       "    <tr>\n",
       "      <th>3672</th>\n",
       "      <td>2</td>\n",
       "      <td>7.288713</td>\n",
       "      <td>36</td>\n",
       "      <td>54</td>\n",
       "      <td>1.468968</td>\n",
       "      <td>43.564844</td>\n",
       "      <td>4.455834</td>\n",
       "      <td>-2.732125</td>\n",
       "      <td>2</td>\n",
       "      <td>0.72</td>\n",
       "    </tr>\n",
       "    <tr>\n",
       "      <th>2265</th>\n",
       "      <td>2</td>\n",
       "      <td>12.340288</td>\n",
       "      <td>50</td>\n",
       "      <td>56</td>\n",
       "      <td>1.469694</td>\n",
       "      <td>43.564756</td>\n",
       "      <td>13.846621</td>\n",
       "      <td>-2.205520</td>\n",
       "      <td>0</td>\n",
       "      <td>0.63</td>\n",
       "    </tr>\n",
       "    <tr>\n",
       "      <th>5148</th>\n",
       "      <td>3</td>\n",
       "      <td>0.000000</td>\n",
       "      <td>70</td>\n",
       "      <td>86</td>\n",
       "      <td>1.468117</td>\n",
       "      <td>43.566597</td>\n",
       "      <td>0.401835</td>\n",
       "      <td>0.172607</td>\n",
       "      <td>0</td>\n",
       "      <td>0.62</td>\n",
       "    </tr>\n",
       "    <tr>\n",
       "      <th>147</th>\n",
       "      <td>3</td>\n",
       "      <td>0.000000</td>\n",
       "      <td>30</td>\n",
       "      <td>50</td>\n",
       "      <td>1.468995</td>\n",
       "      <td>43.564858</td>\n",
       "      <td>7.125251</td>\n",
       "      <td>-0.243083</td>\n",
       "      <td>1</td>\n",
       "      <td>0.50</td>\n",
       "    </tr>\n",
       "  </tbody>\n",
       "</table>\n",
       "</div>"
      ],
      "text/plain": [
       "      ActionId  ActionParam  StartTime  EndTime  Longitude   Latitude  \\\n",
       "548          1     3.637788         60       79   1.467514  43.567027   \n",
       "1298         1     6.061398         47       62   1.468705  43.565977   \n",
       "3672         2     7.288713         36       54   1.468968  43.564844   \n",
       "2265         2    12.340288         50       56   1.469694  43.564756   \n",
       "5148         3     0.000000         70       86   1.468117  43.566597   \n",
       "147          3     0.000000         30       50   1.468995  43.564858   \n",
       "\n",
       "          Speed  Acceleration  ActionVehicleAhead  weight  \n",
       "548   15.535806      1.671466                   1    0.52  \n",
       "1298  13.053015     -3.865097                   1    0.64  \n",
       "3672   4.455834     -2.732125                   2    0.72  \n",
       "2265  13.846621     -2.205520                   0    0.63  \n",
       "5148   0.401835      0.172607                   0    0.62  \n",
       "147    7.125251     -0.243083                   1    0.50  "
      ]
     },
     "execution_count": 47,
     "metadata": {},
     "output_type": "execute_result"
    }
   ],
   "source": [
    "composition1"
   ]
  },
  {
   "cell_type": "code",
   "execution_count": 48,
   "metadata": {},
   "outputs": [],
   "source": [
    "composition_filtered = [comp for comp in compositions_ordered if len(comp) <=6]"
   ]
  },
  {
   "cell_type": "code",
   "execution_count": 49,
   "metadata": {},
   "outputs": [],
   "source": [
    "base_name = comp\n",
    "\n",
    "compositions_by_length = {}\n",
    "compositions_with_impact = {}\n",
    "\n",
    "for i in range(4, 11):\n",
    "    compositions_by_length[i] = [comp for comp in compositions_ordered if len(comp) == i]\n",
    "    compositions_with_impact[i] = []\n",
    "    for j in range(len(compositions_by_length[i])):\n",
    "        compositions_with_impact[i].append(compute_requests_impacts(compositions_by_length[i][j].values.tolist()))\n"
   ]
  },
  {
   "cell_type": "code",
   "execution_count": 50,
   "metadata": {},
   "outputs": [
    {
     "data": {
      "text/html": [
       "<div>\n",
       "<style scoped>\n",
       "    .dataframe tbody tr th:only-of-type {\n",
       "        vertical-align: middle;\n",
       "    }\n",
       "\n",
       "    .dataframe tbody tr th {\n",
       "        vertical-align: top;\n",
       "    }\n",
       "\n",
       "    .dataframe thead th {\n",
       "        text-align: right;\n",
       "    }\n",
       "</style>\n",
       "<table border=\"1\" class=\"dataframe\">\n",
       "  <thead>\n",
       "    <tr style=\"text-align: right;\">\n",
       "      <th></th>\n",
       "      <th>0</th>\n",
       "      <th>1</th>\n",
       "      <th>2</th>\n",
       "      <th>3</th>\n",
       "      <th>4</th>\n",
       "      <th>5</th>\n",
       "      <th>6</th>\n",
       "      <th>7</th>\n",
       "      <th>8</th>\n",
       "      <th>9</th>\n",
       "      <th>10</th>\n",
       "      <th>11</th>\n",
       "    </tr>\n",
       "  </thead>\n",
       "  <tbody>\n",
       "    <tr>\n",
       "      <th>0</th>\n",
       "      <td>1.0</td>\n",
       "      <td>3.296977</td>\n",
       "      <td>66.0</td>\n",
       "      <td>80.0</td>\n",
       "      <td>1.467941</td>\n",
       "      <td>43.566903</td>\n",
       "      <td>4.780185</td>\n",
       "      <td>-4.000000</td>\n",
       "      <td>0.0</td>\n",
       "      <td>0.84</td>\n",
       "      <td>-24.22</td>\n",
       "      <td>-67.499667</td>\n",
       "    </tr>\n",
       "    <tr>\n",
       "      <th>1</th>\n",
       "      <td>2.0</td>\n",
       "      <td>11.008095</td>\n",
       "      <td>68.0</td>\n",
       "      <td>79.0</td>\n",
       "      <td>1.468530</td>\n",
       "      <td>43.566160</td>\n",
       "      <td>8.726285</td>\n",
       "      <td>-4.000000</td>\n",
       "      <td>0.0</td>\n",
       "      <td>0.79</td>\n",
       "      <td>-25.36</td>\n",
       "      <td>8.327352</td>\n",
       "    </tr>\n",
       "    <tr>\n",
       "      <th>2</th>\n",
       "      <td>3.0</td>\n",
       "      <td>0.000000</td>\n",
       "      <td>34.0</td>\n",
       "      <td>45.0</td>\n",
       "      <td>1.469164</td>\n",
       "      <td>43.564960</td>\n",
       "      <td>5.916271</td>\n",
       "      <td>0.601337</td>\n",
       "      <td>1.0</td>\n",
       "      <td>0.15</td>\n",
       "      <td>-28.45</td>\n",
       "      <td>-7.560540</td>\n",
       "    </tr>\n",
       "    <tr>\n",
       "      <th>3</th>\n",
       "      <td>3.0</td>\n",
       "      <td>0.000000</td>\n",
       "      <td>16.0</td>\n",
       "      <td>28.0</td>\n",
       "      <td>1.468079</td>\n",
       "      <td>43.564281</td>\n",
       "      <td>5.677399</td>\n",
       "      <td>1.901320</td>\n",
       "      <td>2.0</td>\n",
       "      <td>0.08</td>\n",
       "      <td>-25.73</td>\n",
       "      <td>-2.712641</td>\n",
       "    </tr>\n",
       "  </tbody>\n",
       "</table>\n",
       "</div>"
      ],
      "text/plain": [
       "    0          1     2     3         4          5         6         7    8   \\\n",
       "0  1.0   3.296977  66.0  80.0  1.467941  43.566903  4.780185 -4.000000  0.0   \n",
       "1  2.0  11.008095  68.0  79.0  1.468530  43.566160  8.726285 -4.000000  0.0   \n",
       "2  3.0   0.000000  34.0  45.0  1.469164  43.564960  5.916271  0.601337  1.0   \n",
       "3  3.0   0.000000  16.0  28.0  1.468079  43.564281  5.677399  1.901320  2.0   \n",
       "\n",
       "     9      10         11  \n",
       "0  0.84 -24.22 -67.499667  \n",
       "1  0.79 -25.36   8.327352  \n",
       "2  0.15 -28.45  -7.560540  \n",
       "3  0.08 -25.73  -2.712641  "
      ]
     },
     "execution_count": 50,
     "metadata": {},
     "output_type": "execute_result"
    }
   ],
   "source": [
    "pd.DataFrame(compositions_with_impact[4][0])"
   ]
  },
  {
   "cell_type": "markdown",
   "metadata": {},
   "source": [
    "### Creation du modele"
   ]
  },
  {
   "cell_type": "code",
   "execution_count": 51,
   "metadata": {},
   "outputs": [],
   "source": [
    "import torch\n",
    "import torch.nn as nn\n",
    "import torch.optim as optim\n",
    "from torch.utils.data import DataLoader, Dataset\n",
    "from sklearn.model_selection import train_test_split\n",
    "from sklearn.preprocessing import LabelEncoder\n",
    "from nltk.tokenize import word_tokenize"
   ]
  },
  {
   "cell_type": "code",
   "execution_count": 52,
   "metadata": {},
   "outputs": [
    {
     "data": {
      "text/plain": [
       "tensor([[[  1.0000,   3.6378,  60.0000,  79.0000,   1.4675,  43.5670,  15.5358,\n",
       "            1.6715,   1.0000,   0.5200,   7.0700, -29.5978],\n",
       "         [  1.0000,   6.0614,  47.0000,  62.0000,   1.4687,  43.5660,  13.0530,\n",
       "           -3.8651,   1.0000,   0.6400,  -5.3100, -84.0214],\n",
       "         [  2.0000,   7.2887,  36.0000,  54.0000,   1.4690,  43.5648,   4.4558,\n",
       "           -2.7321,   2.0000,   0.7200, -32.7200,  -1.3325],\n",
       "         [  2.0000,  12.3403,  50.0000,  56.0000,   1.4697,  43.5648,  13.8466,\n",
       "           -2.2055,   0.0000,   0.6300, -28.7000,   7.0047],\n",
       "         [  3.0000,   0.0000,  70.0000,  86.0000,   1.4681,  43.5666,   0.4018,\n",
       "            0.1726,   0.0000,   0.6200, -36.2800,   6.3201],\n",
       "         [  3.0000,   0.0000,  30.0000,  50.0000,   1.4690,  43.5649,   7.1253,\n",
       "           -0.2431,   1.0000,   0.5000, -26.9500,   4.9633]]])"
      ]
     },
     "execution_count": 52,
     "metadata": {},
     "output_type": "execute_result"
    }
   ],
   "source": [
    "data_tensor = torch.tensor(comp_with_impacts, dtype=torch.float32).unsqueeze(0)\n",
    "data_tensor"
   ]
  },
  {
   "cell_type": "code",
   "execution_count": 53,
   "metadata": {},
   "outputs": [],
   "source": [
    "def objectif(composition, lambdaa, travel_weight, fuel_weight):\n",
    "    obj = []\n",
    "    for req in composition:\n",
    "        obj.append(req[-3] + lambdaa* (travel_weight* req[-2] + fuel_weight* req[-1]))\n",
    "    return obj\n",
    "\n",
    "def true_output(batch):\n",
    "    output = []\n",
    "    for i in range(len(batch)):\n",
    "        composition_solution, _ = find_best_combination(batch[i])\n",
    "        obj = objectif(composition_solution, 0.01, 0.5, 0.5)\n",
    "        max_index = obj.index(max(obj))\n",
    "        best_request = composition_solution[max_index]\n",
    "        # Créer une nouvelle liste avec des 0 partout sauf à l'index de la valeur maximale\n",
    "        transformed_values = [[1] if req == best_request else [0] for req in batch[i]]\n",
    "        output.append(transformed_values)\n",
    "    return output\n",
    "\n",
    "\n",
    "def all_output(batch):\n",
    "    all_output = []\n",
    "    for i in range(len(batch)):\n",
    "        output = []\n",
    "        requests = batch[i]\n",
    "        composition_solution, _ = find_best_combination(batch[i])\n",
    "        obj = objectif(composition_solution, 0.01, 0.5, 0.5)\n",
    "\n",
    "        composition_solution_ordered = [x for _,x in sorted(zip(obj, composition_solution), reverse=True)]\n",
    "        for j in range(len(composition_solution_ordered)):\n",
    "            current_best_request = composition_solution_ordered[j]\n",
    "            output.append([[1] if req == current_best_request else [0] for req in requests])\n",
    "        \n",
    "        for k in range(len(requests) - len(composition_solution_ordered)):\n",
    "            output.append([[0]]*len(requests))\n",
    "\n",
    "        all_output.append(output)\n",
    "    return all_output"
   ]
  },
  {
   "cell_type": "code",
   "execution_count": 54,
   "metadata": {},
   "outputs": [],
   "source": [
    "def filter_requests_list(requests_list, selected_requests):\n",
    "    n_requests = len(requests_list)\n",
    "    considered_requests = [1] *  n_requests\n",
    "\n",
    "    for i in range(n_requests):\n",
    "        if selected_requests[i] == [1]:\n",
    "            considered_requests[i] = 0\n",
    "            for j in range(n_requests):\n",
    "                if conflict(requests_list[i], requests_list[j]):\n",
    "                    considered_requests[j] = 0\n",
    "\n",
    "    return [np.multiply(a, b).tolist() for a, b in zip(requests_list, considered_requests)]\n",
    "\n",
    "def filter_batch(batch, selected_requests):\n",
    "    new_batch= []\n",
    "    for i in range(len(batch)):\n",
    "        new_batch.append(filter_requests_list(batch[i], selected_requests[i]))\n",
    "    return new_batch"
   ]
  },
  {
   "cell_type": "code",
   "execution_count": 55,
   "metadata": {},
   "outputs": [],
   "source": [
    "# [a + b for a, b in zip([[0], [1], [0], [0]] , [[0], [0] ,[0], [1]])]\n",
    "# (np.array([[0], [1], [0], [0]]) + np.array([[0], [0] ,[0], [1]])).tolist()\n",
    "# comp_test = compositions_with_impact[4]\n",
    "# [[0], [0], [0], [1]] * len\n"
   ]
  },
  {
   "cell_type": "code",
   "execution_count": 56,
   "metadata": {},
   "outputs": [],
   "source": [
    "# e = objectif(find_best_combination(compositions_with_impact[5][3])[0],  0.01, 0.5, 0.5)\n",
    "# br = find_best_combination(compositions_with_impact[5][3])[0][e.index(max(e))]"
   ]
  },
  {
   "cell_type": "code",
   "execution_count": 57,
   "metadata": {},
   "outputs": [],
   "source": [
    "# pd.DataFrame(find_best_combination(compositions_with_impact[5][3])[0])"
   ]
  },
  {
   "cell_type": "code",
   "execution_count": 58,
   "metadata": {},
   "outputs": [],
   "source": [
    "# pd.DataFrame(br).T"
   ]
  },
  {
   "cell_type": "code",
   "execution_count": 59,
   "metadata": {},
   "outputs": [],
   "source": [
    "# [1 if r == br else 0 for r in compositions_with_impact[5][3]]"
   ]
  },
  {
   "cell_type": "code",
   "execution_count": 60,
   "metadata": {},
   "outputs": [],
   "source": [
    "# a,b,c, d= train_test_split(compositions_with_impact[5], true_output(compositions_with_impact[5]), test_size=0.2)"
   ]
  },
  {
   "cell_type": "code",
   "execution_count": 61,
   "metadata": {},
   "outputs": [],
   "source": [
    "# true_output(compositions_with_impact[7])"
   ]
  },
  {
   "cell_type": "code",
   "execution_count": 62,
   "metadata": {},
   "outputs": [],
   "source": [
    "# Conversion en donnees de train et de test\n",
    "\n",
    "pre_X_train_batch = {}\n",
    "pre_X_test_batch = {}\n",
    "pre_y_train_batch = {}\n",
    "pre_y_test_batch = {}\n",
    "\n",
    "for i in range(4, 11):\n",
    "    X_train, X_test, y_train, y_test = train_test_split(compositions_with_impact[i], all_output(compositions_with_impact[i]), test_size=0.2)\n",
    "    pre_X_train_batch[i] = X_train\n",
    "    pre_X_test_batch[i] = X_test\n",
    "    pre_y_train_batch[i] = y_train\n",
    "    pre_y_test_batch[i] = y_test"
   ]
  },
  {
   "cell_type": "code",
   "execution_count": 63,
   "metadata": {},
   "outputs": [
    {
     "data": {
      "text/plain": [
       "True"
      ]
     },
     "execution_count": 63,
     "metadata": {},
     "output_type": "execute_result"
    }
   ],
   "source": [
    "def all_elements_are_zero(lst):\n",
    "    return all(sublist == [0] for sublist in lst)\n",
    "\n",
    "def add_lists(lst1, lst2):\n",
    "    return [[a[0] + b[0]] for a, b in zip(lst1, lst2)]\n",
    "\n",
    "all_elements_are_zero([[0], [0], [0], [0]])\n"
   ]
  },
  {
   "cell_type": "code",
   "execution_count": 64,
   "metadata": {},
   "outputs": [],
   "source": [
    "def get_all_comp_after_filtrage(composition, all_output):\n",
    "    all_comp = {}\n",
    "    outputs = {}\n",
    "    selected_requests = [[0]] * len(composition)\n",
    "\n",
    "    for i in range(len(all_output)):\n",
    "        if not all_elements_are_zero(all_output[i]):\n",
    "            all_comp[i] = filter_requests_list(composition, selected_requests)\n",
    "            outputs[i] = all_output[i]\n",
    "\n",
    "            selected_requests = add_lists(selected_requests, outputs[i])\n",
    "\n",
    "    return all_comp, outputs"
   ]
  },
  {
   "cell_type": "code",
   "execution_count": 65,
   "metadata": {},
   "outputs": [],
   "source": [
    "def define_batch(batch_pre_input, batch_pre_output):\n",
    "    batch_input = []\n",
    "    batch_output = []\n",
    "\n",
    "    for input, output in zip(batch_pre_input, batch_pre_output):\n",
    "        all_comp, outputs= get_all_comp_after_filtrage(input, output)\n",
    "\n",
    "        for i in range(len(all_comp)):\n",
    "            batch_input.append(all_comp[i])\n",
    "            batch_output.append(outputs[i])\n",
    "\n",
    "    return batch_input, batch_output"
   ]
  },
  {
   "cell_type": "code",
   "execution_count": 66,
   "metadata": {},
   "outputs": [],
   "source": [
    "a, b =define_batch(pre_X_train_batch[4], pre_y_train_batch[4])"
   ]
  },
  {
   "cell_type": "markdown",
   "metadata": {},
   "source": [
    "### Definition des donnees d'entrainement et de test"
   ]
  },
  {
   "cell_type": "code",
   "execution_count": 67,
   "metadata": {},
   "outputs": [],
   "source": [
    "X_train_batch = {}\n",
    "X_test_batch = {}\n",
    "y_train_batch = {}\n",
    "y_test_batch = {}\n",
    "\n",
    "for i in range(4, 11):\n",
    "    train =  define_batch(pre_X_train_batch[i], pre_y_train_batch[i])\n",
    "    test =  define_batch(pre_X_test_batch[i], pre_y_test_batch[i])\n",
    "\n",
    "    X_train_batch[i] = torch.tensor(train[0], dtype=torch.float32) \n",
    "    y_train_batch[i] = torch.tensor(train[1], dtype=torch.float32) \n",
    "\n",
    "    X_test_batch[i] = torch.tensor(test[0], dtype=torch.float32) \n",
    "    y_test_batch[i] = torch.tensor(test[1], dtype=torch.float32) "
   ]
  },
  {
   "cell_type": "code",
   "execution_count": 68,
   "metadata": {},
   "outputs": [],
   "source": [
    "# torch.save(X_train_batch, 'tensors/X_train.pt')\n",
    "# torch.save(X_test_batch, 'tensors/X_test.pt')\n",
    "# torch.save(y_train_batch, 'tensors/y_train.pt')\n",
    "# torch.save(y_test_batch, 'tensors/y_test.pt')"
   ]
  },
  {
   "cell_type": "code",
   "execution_count": 69,
   "metadata": {},
   "outputs": [],
   "source": [
    "tensor_batch = {}\n",
    "batch_x_train= {}\n",
    "batch_x_test = {}\n",
    "batch_y_train = {}\n",
    "batch_y_test = {}\n",
    "\n",
    "for i in range(4, 11):\n",
    "    X_train, X_test, y_train, y_test = train_test_split(compositions_with_impact[i], all_output(compositions_with_impact[i]), test_size=0.2)\n",
    "    batch_x_train[i]= torch.tensor(X_train, dtype=torch.float32)\n",
    "    batch_x_test[i] = torch.tensor(X_test, dtype=torch.float32)\n",
    "    batch_y_train[i] = torch.tensor(y_train, dtype=torch.float32)\n",
    "    batch_y_test[i] = torch.tensor(y_test, dtype=torch.float32)\n"
   ]
  },
  {
   "cell_type": "code",
   "execution_count": 70,
   "metadata": {},
   "outputs": [],
   "source": [
    "class RequestSelector(nn.Module):\n",
    "    def __init__(self, embed_size, num_heads, dropout = 0.1) -> None:\n",
    "        super(RequestSelector, self).__init__()\n",
    "        # self.attention = nn.MultiheadAttention(embed_size, num_heads)\n",
    "        self.attention = nn.TransformerEncoderLayer(d_model= embed_size, nhead= num_heads)\n",
    "        self.linear1 = nn.Linear(embed_size, 16)\n",
    "        # self.bn1 = nn.BatchNorm1d(hidden_dim)\n",
    "\n",
    "        self.linear2 = nn.Linear(16, 32)\n",
    "        # self.bn2 = nn.BatchNorm1d(hidden_dim2)\n",
    "\n",
    "        self.linear3 = nn.Linear(32, 64)\n",
    "\n",
    "        self.linear4 = nn.Linear(64, 32)\n",
    "\n",
    "        self.linear5 = nn.Linear(32, 16)\n",
    "\n",
    "        self.linear6 = nn.Linear(16, 1)\n",
    "\n",
    "        self.dropout = nn.Dropout(dropout)\n",
    "        \n",
    "        self.relu = nn.ReLU()\n",
    "        self.softmax = nn.Softmax(dim= 1)\n",
    "        \n",
    "\n",
    "    def forward(self, x, mask=None):\n",
    "        # attn_output, _ = self.attention(x, x, x, key_padding_mask=mask)\n",
    "        attn_output = self.attention(x)\n",
    "\n",
    "        attn_output += x\n",
    "\n",
    "        hidden = self.relu(self.linear1(attn_output))\n",
    "        \n",
    "        # hidden = self.dropout(hidden)\n",
    "\n",
    "        hidden = self.relu(self.linear2(hidden))\n",
    "\n",
    "        # hidden = self.dropout(hidden)\n",
    "\n",
    "        hidden = self.relu(self.linear3(hidden))\n",
    "\n",
    "        # hidden = self.dropout(hidden)\n",
    "\n",
    "        hidden = self.relu(self.linear4(hidden))\n",
    "\n",
    "        # hidden = self.dropout(hidden)\n",
    "\n",
    "        hidden = self.relu(self.linear5(hidden))\n",
    "\n",
    "        # hidden = self.dropout(hidden)\n",
    "\n",
    "        # Passe les résultats par une couche dense pour obtenir une seule valeur par requête\n",
    "        scores = self.linear6(hidden)  # (batch_size, 1)\n",
    "                \n",
    "        # Utiliser softmax pour obtenir la distribution de probabilité\n",
    "        probabilities = self.softmax(scores)  # (batch_size, num_queries)\n",
    "        \n",
    "        return probabilities\n"
   ]
  },
  {
   "cell_type": "code",
   "execution_count": 71,
   "metadata": {},
   "outputs": [],
   "source": [
    "def correct_prediction(outputs, target):\n",
    "    correct = 0\n",
    "\n",
    "    # Trouver l'index du score maximum pour chaque échantillon\n",
    "    max_indices = torch.argmax(outputs, dim=1, keepdim=True)\n",
    "    \n",
    "    # Créer une matrice de zéros de la même forme que les sorties\n",
    "    predicted = torch.zeros_like(outputs)\n",
    "\n",
    "    # Mettre l'élément correspondant au score max à 1\n",
    "    _ = predicted.scatter_(1, max_indices, 1)\n",
    "\n",
    "    correct += (predicted ==target).all(dim=1).sum().item()\n",
    "\n",
    "    return correct"
   ]
  },
  {
   "cell_type": "code",
   "execution_count": 72,
   "metadata": {},
   "outputs": [
    {
     "data": {
      "text/plain": [
       "111"
      ]
     },
     "execution_count": 72,
     "metadata": {},
     "output_type": "execute_result"
    }
   ],
   "source": [
    "correct_prediction(y_train_batch[4], y_train_batch[4])\n",
    "\n",
    "# len(y_train_batch[5])"
   ]
  },
  {
   "cell_type": "code",
   "execution_count": 73,
   "metadata": {},
   "outputs": [
    {
     "name": "stdout",
     "output_type": "stream",
     "text": [
      "RequestSelector(\n",
      "  (attention): TransformerEncoderLayer(\n",
      "    (self_attn): MultiheadAttention(\n",
      "      (out_proj): NonDynamicallyQuantizableLinear(in_features=12, out_features=12, bias=True)\n",
      "    )\n",
      "    (linear1): Linear(in_features=12, out_features=2048, bias=True)\n",
      "    (dropout): Dropout(p=0.1, inplace=False)\n",
      "    (linear2): Linear(in_features=2048, out_features=12, bias=True)\n",
      "    (norm1): LayerNorm((12,), eps=1e-05, elementwise_affine=True)\n",
      "    (norm2): LayerNorm((12,), eps=1e-05, elementwise_affine=True)\n",
      "    (dropout1): Dropout(p=0.1, inplace=False)\n",
      "    (dropout2): Dropout(p=0.1, inplace=False)\n",
      "  )\n",
      "  (linear1): Linear(in_features=12, out_features=16, bias=True)\n",
      "  (linear2): Linear(in_features=16, out_features=32, bias=True)\n",
      "  (linear3): Linear(in_features=32, out_features=64, bias=True)\n",
      "  (linear4): Linear(in_features=64, out_features=32, bias=True)\n",
      "  (linear5): Linear(in_features=32, out_features=16, bias=True)\n",
      "  (linear6): Linear(in_features=16, out_features=1, bias=True)\n",
      "  (dropout): Dropout(p=0.1, inplace=False)\n",
      "  (relu): ReLU()\n",
      "  (softmax): Softmax(dim=1)\n",
      ")\n"
     ]
    }
   ],
   "source": [
    "model = RequestSelector(12, 1)\n",
    "print(model)"
   ]
  },
  {
   "cell_type": "code",
   "execution_count": 74,
   "metadata": {},
   "outputs": [],
   "source": [
    "criterion = nn.CrossEntropyLoss()  # Fonction de perte pour classification\n",
    "optimizer = optim.Adam(model.parameters(), lr=0.01)\n"
   ]
  },
  {
   "cell_type": "code",
   "execution_count": 75,
   "metadata": {},
   "outputs": [
    {
     "name": "stdout",
     "output_type": "stream",
     "text": [
      "Epoch [1/500], Avg Loss: 1.8993, Val Avg Loss: 1.8419, Accuracy: 0.32, Val Accuracy: 0.42\n",
      "Epoch [2/500], Avg Loss: 1.7277, Val Avg Loss: 1.6891, Accuracy: 0.37, Val Accuracy: 0.41\n",
      "Epoch [3/500], Avg Loss: 1.6916, Val Avg Loss: 1.6445, Accuracy: 0.39, Val Accuracy: 0.43\n",
      "Epoch [4/500], Avg Loss: 1.6625, Val Avg Loss: 1.6212, Accuracy: 0.41, Val Accuracy: 0.45\n",
      "Epoch [5/500], Avg Loss: 1.6568, Val Avg Loss: 1.6097, Accuracy: 0.42, Val Accuracy: 0.46\n",
      "Epoch [6/500], Avg Loss: 1.6475, Val Avg Loss: 1.6084, Accuracy: 0.43, Val Accuracy: 0.47\n",
      "Epoch [7/500], Avg Loss: 1.6438, Val Avg Loss: 1.6083, Accuracy: 0.44, Val Accuracy: 0.47\n",
      "Epoch [8/500], Avg Loss: 1.6433, Val Avg Loss: 1.6047, Accuracy: 0.44, Val Accuracy: 0.48\n",
      "Epoch [9/500], Avg Loss: 1.6354, Val Avg Loss: 1.5994, Accuracy: 0.45, Val Accuracy: 0.49\n",
      "Epoch [10/500], Avg Loss: 1.6287, Val Avg Loss: 1.6065, Accuracy: 0.45, Val Accuracy: 0.49\n",
      "Epoch [11/500], Avg Loss: 1.6179, Val Avg Loss: 1.6052, Accuracy: 0.46, Val Accuracy: 0.49\n",
      "Epoch [12/500], Avg Loss: 1.5994, Val Avg Loss: 1.5865, Accuracy: 0.46, Val Accuracy: 0.49\n",
      "Epoch [13/500], Avg Loss: 1.5586, Val Avg Loss: 1.5129, Accuracy: 0.47, Val Accuracy: 0.50\n",
      "Epoch [14/500], Avg Loss: 1.5068, Val Avg Loss: 1.5121, Accuracy: 0.48, Val Accuracy: 0.51\n",
      "Epoch [15/500], Avg Loss: 1.5293, Val Avg Loss: 1.4599, Accuracy: 0.49, Val Accuracy: 0.52\n",
      "Epoch [16/500], Avg Loss: 1.4757, Val Avg Loss: 1.4815, Accuracy: 0.50, Val Accuracy: 0.53\n",
      "Epoch [17/500], Avg Loss: 1.5049, Val Avg Loss: 1.4986, Accuracy: 0.51, Val Accuracy: 0.53\n",
      "Epoch [18/500], Avg Loss: 1.4825, Val Avg Loss: 1.4648, Accuracy: 0.52, Val Accuracy: 0.54\n",
      "Epoch [19/500], Avg Loss: 1.4869, Val Avg Loss: 1.4650, Accuracy: 0.52, Val Accuracy: 0.55\n",
      "Epoch [20/500], Avg Loss: 1.4754, Val Avg Loss: 1.4152, Accuracy: 0.53, Val Accuracy: 0.56\n",
      "Epoch [21/500], Avg Loss: 1.3821, Val Avg Loss: 1.3587, Accuracy: 0.54, Val Accuracy: 0.57\n",
      "Epoch [22/500], Avg Loss: 1.3552, Val Avg Loss: 1.3506, Accuracy: 0.55, Val Accuracy: 0.58\n",
      "Epoch [23/500], Avg Loss: 1.3599, Val Avg Loss: 1.3508, Accuracy: 0.56, Val Accuracy: 0.58\n",
      "Epoch [24/500], Avg Loss: 1.3412, Val Avg Loss: 1.2877, Accuracy: 0.57, Val Accuracy: 0.60\n",
      "Epoch [25/500], Avg Loss: 1.2993, Val Avg Loss: 1.2830, Accuracy: 0.58, Val Accuracy: 0.61\n",
      "Epoch [26/500], Avg Loss: 1.3374, Val Avg Loss: 1.3335, Accuracy: 0.59, Val Accuracy: 0.61\n",
      "Epoch [27/500], Avg Loss: 1.3772, Val Avg Loss: 1.3237, Accuracy: 0.60, Val Accuracy: 0.62\n",
      "Epoch [28/500], Avg Loss: 1.3837, Val Avg Loss: 1.2736, Accuracy: 0.60, Val Accuracy: 0.63\n",
      "Epoch [29/500], Avg Loss: 1.3355, Val Avg Loss: 1.4139, Accuracy: 0.61, Val Accuracy: 0.63\n",
      "Epoch [30/500], Avg Loss: 1.3698, Val Avg Loss: 1.2821, Accuracy: 0.61, Val Accuracy: 0.64\n",
      "Epoch [31/500], Avg Loss: 1.3195, Val Avg Loss: 1.3480, Accuracy: 0.62, Val Accuracy: 0.64\n",
      "Epoch [32/500], Avg Loss: 1.3479, Val Avg Loss: 1.2772, Accuracy: 0.62, Val Accuracy: 0.65\n",
      "Epoch [33/500], Avg Loss: 1.2935, Val Avg Loss: 1.2729, Accuracy: 0.63, Val Accuracy: 0.66\n",
      "Epoch [34/500], Avg Loss: 1.2805, Val Avg Loss: 1.2732, Accuracy: 0.64, Val Accuracy: 0.66\n",
      "Epoch [35/500], Avg Loss: 1.2881, Val Avg Loss: 1.2462, Accuracy: 0.64, Val Accuracy: 0.67\n",
      "Epoch [36/500], Avg Loss: 1.2758, Val Avg Loss: 1.2335, Accuracy: 0.65, Val Accuracy: 0.67\n",
      "Epoch [37/500], Avg Loss: 1.2688, Val Avg Loss: 1.2366, Accuracy: 0.65, Val Accuracy: 0.68\n",
      "Epoch [38/500], Avg Loss: 1.2560, Val Avg Loss: 1.2156, Accuracy: 0.66, Val Accuracy: 0.69\n",
      "Epoch [39/500], Avg Loss: 1.2862, Val Avg Loss: 1.2295, Accuracy: 0.67, Val Accuracy: 0.69\n",
      "Epoch [40/500], Avg Loss: 1.2901, Val Avg Loss: 1.2488, Accuracy: 0.67, Val Accuracy: 0.70\n",
      "Epoch [41/500], Avg Loss: 1.2663, Val Avg Loss: 1.2310, Accuracy: 0.67, Val Accuracy: 0.70\n",
      "Epoch [42/500], Avg Loss: 1.2710, Val Avg Loss: 1.2325, Accuracy: 0.68, Val Accuracy: 0.71\n",
      "Epoch [43/500], Avg Loss: 1.2584, Val Avg Loss: 1.2678, Accuracy: 0.68, Val Accuracy: 0.71\n",
      "Epoch [44/500], Avg Loss: 1.2863, Val Avg Loss: 1.2530, Accuracy: 0.69, Val Accuracy: 0.71\n",
      "Epoch [45/500], Avg Loss: 1.2682, Val Avg Loss: 1.2997, Accuracy: 0.69, Val Accuracy: 0.72\n",
      "Epoch [46/500], Avg Loss: 1.2832, Val Avg Loss: 1.2602, Accuracy: 0.69, Val Accuracy: 0.72\n",
      "Epoch [47/500], Avg Loss: 1.2689, Val Avg Loss: 1.2485, Accuracy: 0.70, Val Accuracy: 0.72\n",
      "Epoch [48/500], Avg Loss: 1.2688, Val Avg Loss: 1.2284, Accuracy: 0.70, Val Accuracy: 0.73\n",
      "Epoch [49/500], Avg Loss: 1.2470, Val Avg Loss: 1.2267, Accuracy: 0.71, Val Accuracy: 0.73\n",
      "Epoch [50/500], Avg Loss: 1.2573, Val Avg Loss: 1.2508, Accuracy: 0.71, Val Accuracy: 0.73\n",
      "Epoch [51/500], Avg Loss: 1.2687, Val Avg Loss: 1.2864, Accuracy: 0.71, Val Accuracy: 0.74\n",
      "Epoch [52/500], Avg Loss: 1.2735, Val Avg Loss: 1.2240, Accuracy: 0.71, Val Accuracy: 0.74\n",
      "Epoch [53/500], Avg Loss: 1.2941, Val Avg Loss: 1.3099, Accuracy: 0.72, Val Accuracy: 0.74\n",
      "Epoch [54/500], Avg Loss: 1.2890, Val Avg Loss: 1.2732, Accuracy: 0.72, Val Accuracy: 0.74\n",
      "Epoch [55/500], Avg Loss: 1.2681, Val Avg Loss: 1.3100, Accuracy: 0.72, Val Accuracy: 0.74\n",
      "Epoch [56/500], Avg Loss: 1.3162, Val Avg Loss: 1.2334, Accuracy: 0.72, Val Accuracy: 0.75\n",
      "Epoch [57/500], Avg Loss: 1.2640, Val Avg Loss: 1.2654, Accuracy: 0.73, Val Accuracy: 0.75\n",
      "Epoch [58/500], Avg Loss: 1.2647, Val Avg Loss: 1.2487, Accuracy: 0.73, Val Accuracy: 0.75\n",
      "Epoch [59/500], Avg Loss: 1.2604, Val Avg Loss: 1.2242, Accuracy: 0.73, Val Accuracy: 0.75\n",
      "Epoch [60/500], Avg Loss: 1.2699, Val Avg Loss: 1.2846, Accuracy: 0.73, Val Accuracy: 0.76\n",
      "Epoch [61/500], Avg Loss: 1.3154, Val Avg Loss: 1.2583, Accuracy: 0.73, Val Accuracy: 0.76\n",
      "Epoch [62/500], Avg Loss: 1.3312, Val Avg Loss: 1.3130, Accuracy: 0.74, Val Accuracy: 0.76\n",
      "Epoch [63/500], Avg Loss: 1.2964, Val Avg Loss: 1.2416, Accuracy: 0.74, Val Accuracy: 0.76\n",
      "Epoch [64/500], Avg Loss: 1.2729, Val Avg Loss: 1.2293, Accuracy: 0.74, Val Accuracy: 0.76\n",
      "Epoch [65/500], Avg Loss: 1.2532, Val Avg Loss: 1.2826, Accuracy: 0.74, Val Accuracy: 0.76\n",
      "Epoch [66/500], Avg Loss: 1.2525, Val Avg Loss: 1.2376, Accuracy: 0.74, Val Accuracy: 0.77\n",
      "Epoch [67/500], Avg Loss: 1.2623, Val Avg Loss: 1.2629, Accuracy: 0.74, Val Accuracy: 0.77\n",
      "Epoch [68/500], Avg Loss: 1.2597, Val Avg Loss: 1.2406, Accuracy: 0.75, Val Accuracy: 0.77\n",
      "Epoch [69/500], Avg Loss: 1.2440, Val Avg Loss: 1.2118, Accuracy: 0.75, Val Accuracy: 0.77\n",
      "Epoch [70/500], Avg Loss: 1.2272, Val Avg Loss: 1.2616, Accuracy: 0.75, Val Accuracy: 0.77\n",
      "Epoch [71/500], Avg Loss: 1.2788, Val Avg Loss: 1.2529, Accuracy: 0.75, Val Accuracy: 0.77\n",
      "Epoch [72/500], Avg Loss: 1.2369, Val Avg Loss: 1.2529, Accuracy: 0.75, Val Accuracy: 0.78\n",
      "Epoch [73/500], Avg Loss: 1.2855, Val Avg Loss: 1.2467, Accuracy: 0.76, Val Accuracy: 0.78\n",
      "Epoch [74/500], Avg Loss: 1.2760, Val Avg Loss: 1.2912, Accuracy: 0.76, Val Accuracy: 0.78\n",
      "Epoch [75/500], Avg Loss: 1.3275, Val Avg Loss: 1.2537, Accuracy: 0.76, Val Accuracy: 0.78\n",
      "Epoch [76/500], Avg Loss: 1.2800, Val Avg Loss: 1.2379, Accuracy: 0.76, Val Accuracy: 0.78\n",
      "Epoch [77/500], Avg Loss: 1.2714, Val Avg Loss: 1.2952, Accuracy: 0.76, Val Accuracy: 0.78\n",
      "Epoch [78/500], Avg Loss: 1.2828, Val Avg Loss: 1.2655, Accuracy: 0.76, Val Accuracy: 0.78\n",
      "Epoch [79/500], Avg Loss: 1.2693, Val Avg Loss: 1.2922, Accuracy: 0.76, Val Accuracy: 0.78\n",
      "Epoch [80/500], Avg Loss: 1.2747, Val Avg Loss: 1.2579, Accuracy: 0.76, Val Accuracy: 0.78\n",
      "Epoch [81/500], Avg Loss: 1.2662, Val Avg Loss: 1.3007, Accuracy: 0.77, Val Accuracy: 0.78\n",
      "Epoch [82/500], Avg Loss: 1.2739, Val Avg Loss: 1.2340, Accuracy: 0.77, Val Accuracy: 0.79\n",
      "Epoch [83/500], Avg Loss: 1.2425, Val Avg Loss: 1.2527, Accuracy: 0.77, Val Accuracy: 0.79\n",
      "Epoch [84/500], Avg Loss: 1.2463, Val Avg Loss: 1.2405, Accuracy: 0.77, Val Accuracy: 0.79\n",
      "Epoch [85/500], Avg Loss: 1.2391, Val Avg Loss: 1.2500, Accuracy: 0.77, Val Accuracy: 0.79\n",
      "Epoch [86/500], Avg Loss: 1.2511, Val Avg Loss: 1.2216, Accuracy: 0.77, Val Accuracy: 0.79\n",
      "Epoch [87/500], Avg Loss: 1.2425, Val Avg Loss: 1.2190, Accuracy: 0.77, Val Accuracy: 0.79\n",
      "Epoch [88/500], Avg Loss: 1.2570, Val Avg Loss: 1.2236, Accuracy: 0.77, Val Accuracy: 0.79\n",
      "Epoch [89/500], Avg Loss: 1.2492, Val Avg Loss: 1.2611, Accuracy: 0.78, Val Accuracy: 0.79\n",
      "Epoch [90/500], Avg Loss: 1.2591, Val Avg Loss: 1.2421, Accuracy: 0.78, Val Accuracy: 0.80\n",
      "Epoch [91/500], Avg Loss: 1.2393, Val Avg Loss: 1.2202, Accuracy: 0.78, Val Accuracy: 0.80\n",
      "Epoch [92/500], Avg Loss: 1.2409, Val Avg Loss: 1.2261, Accuracy: 0.78, Val Accuracy: 0.80\n",
      "Epoch [93/500], Avg Loss: 1.2398, Val Avg Loss: 1.2170, Accuracy: 0.78, Val Accuracy: 0.80\n",
      "Epoch [94/500], Avg Loss: 1.2402, Val Avg Loss: 1.2270, Accuracy: 0.78, Val Accuracy: 0.80\n",
      "Epoch [95/500], Avg Loss: 1.2415, Val Avg Loss: 1.2061, Accuracy: 0.78, Val Accuracy: 0.80\n",
      "Epoch [96/500], Avg Loss: 1.2353, Val Avg Loss: 1.2321, Accuracy: 0.78, Val Accuracy: 0.80\n",
      "Epoch [97/500], Avg Loss: 1.2602, Val Avg Loss: 1.2267, Accuracy: 0.78, Val Accuracy: 0.80\n",
      "Epoch [98/500], Avg Loss: 1.2579, Val Avg Loss: 1.2538, Accuracy: 0.79, Val Accuracy: 0.80\n",
      "Epoch [99/500], Avg Loss: 1.2455, Val Avg Loss: 1.2164, Accuracy: 0.79, Val Accuracy: 0.81\n",
      "Epoch [100/500], Avg Loss: 1.2394, Val Avg Loss: 1.2125, Accuracy: 0.79, Val Accuracy: 0.81\n",
      "Epoch [101/500], Avg Loss: 1.2436, Val Avg Loss: 1.2265, Accuracy: 0.79, Val Accuracy: 0.81\n",
      "Epoch [102/500], Avg Loss: 1.2355, Val Avg Loss: 1.2153, Accuracy: 0.79, Val Accuracy: 0.81\n",
      "Epoch [103/500], Avg Loss: 1.2251, Val Avg Loss: 1.2571, Accuracy: 0.79, Val Accuracy: 0.81\n",
      "Epoch [104/500], Avg Loss: 1.2510, Val Avg Loss: 1.2418, Accuracy: 0.79, Val Accuracy: 0.81\n",
      "Epoch [105/500], Avg Loss: 1.2355, Val Avg Loss: 1.2238, Accuracy: 0.79, Val Accuracy: 0.81\n",
      "Epoch [106/500], Avg Loss: 1.2365, Val Avg Loss: 1.2045, Accuracy: 0.79, Val Accuracy: 0.81\n",
      "Epoch [107/500], Avg Loss: 1.2379, Val Avg Loss: 1.2382, Accuracy: 0.79, Val Accuracy: 0.81\n",
      "Epoch [108/500], Avg Loss: 1.2345, Val Avg Loss: 1.2516, Accuracy: 0.80, Val Accuracy: 0.81\n",
      "Epoch [109/500], Avg Loss: 1.2357, Val Avg Loss: 1.2348, Accuracy: 0.80, Val Accuracy: 0.81\n",
      "Epoch [110/500], Avg Loss: 1.2602, Val Avg Loss: 1.2635, Accuracy: 0.80, Val Accuracy: 0.81\n",
      "Epoch [111/500], Avg Loss: 1.2721, Val Avg Loss: 1.2528, Accuracy: 0.80, Val Accuracy: 0.81\n",
      "Epoch [112/500], Avg Loss: 1.2821, Val Avg Loss: 1.2819, Accuracy: 0.80, Val Accuracy: 0.81\n",
      "Epoch [113/500], Avg Loss: 1.2537, Val Avg Loss: 1.2297, Accuracy: 0.80, Val Accuracy: 0.82\n",
      "Epoch [114/500], Avg Loss: 1.2878, Val Avg Loss: 1.2720, Accuracy: 0.80, Val Accuracy: 0.82\n",
      "Epoch [115/500], Avg Loss: 1.3033, Val Avg Loss: 1.2517, Accuracy: 0.80, Val Accuracy: 0.82\n",
      "Epoch [116/500], Avg Loss: 1.3327, Val Avg Loss: 1.3824, Accuracy: 0.80, Val Accuracy: 0.82\n",
      "Epoch [117/500], Avg Loss: 1.3135, Val Avg Loss: 1.2307, Accuracy: 0.80, Val Accuracy: 0.82\n",
      "Epoch [118/500], Avg Loss: 1.3483, Val Avg Loss: 1.3829, Accuracy: 0.80, Val Accuracy: 0.82\n",
      "Epoch [119/500], Avg Loss: 1.3792, Val Avg Loss: 1.3556, Accuracy: 0.80, Val Accuracy: 0.82\n",
      "Epoch [120/500], Avg Loss: 1.3551, Val Avg Loss: 1.3705, Accuracy: 0.80, Val Accuracy: 0.82\n",
      "Epoch [121/500], Avg Loss: 1.3145, Val Avg Loss: 1.2376, Accuracy: 0.80, Val Accuracy: 0.82\n",
      "Epoch [122/500], Avg Loss: 1.2624, Val Avg Loss: 1.2155, Accuracy: 0.80, Val Accuracy: 0.82\n",
      "Epoch [123/500], Avg Loss: 1.2703, Val Avg Loss: 1.2598, Accuracy: 0.80, Val Accuracy: 0.82\n",
      "Epoch [124/500], Avg Loss: 1.2684, Val Avg Loss: 1.2873, Accuracy: 0.80, Val Accuracy: 0.82\n",
      "Epoch [125/500], Avg Loss: 1.2736, Val Avg Loss: 1.2866, Accuracy: 0.80, Val Accuracy: 0.82\n",
      "Epoch [126/500], Avg Loss: 1.2611, Val Avg Loss: 1.2405, Accuracy: 0.80, Val Accuracy: 0.82\n",
      "Epoch [127/500], Avg Loss: 1.2526, Val Avg Loss: 1.2522, Accuracy: 0.80, Val Accuracy: 0.82\n",
      "Epoch [128/500], Avg Loss: 1.2627, Val Avg Loss: 1.2301, Accuracy: 0.80, Val Accuracy: 0.82\n",
      "Epoch [129/500], Avg Loss: 1.2459, Val Avg Loss: 1.2320, Accuracy: 0.80, Val Accuracy: 0.82\n",
      "Epoch [130/500], Avg Loss: 1.2378, Val Avg Loss: 1.2303, Accuracy: 0.80, Val Accuracy: 0.82\n",
      "Epoch [131/500], Avg Loss: 1.2428, Val Avg Loss: 1.2220, Accuracy: 0.81, Val Accuracy: 0.82\n",
      "Epoch [132/500], Avg Loss: 1.2327, Val Avg Loss: 1.2262, Accuracy: 0.81, Val Accuracy: 0.82\n",
      "Epoch [133/500], Avg Loss: 1.2505, Val Avg Loss: 1.2241, Accuracy: 0.81, Val Accuracy: 0.82\n",
      "Epoch [134/500], Avg Loss: 1.2335, Val Avg Loss: 1.2209, Accuracy: 0.81, Val Accuracy: 0.82\n",
      "Epoch [135/500], Avg Loss: 1.2529, Val Avg Loss: 1.2574, Accuracy: 0.81, Val Accuracy: 0.82\n",
      "Epoch [136/500], Avg Loss: 1.2737, Val Avg Loss: 1.2771, Accuracy: 0.81, Val Accuracy: 0.82\n",
      "Epoch [137/500], Avg Loss: 1.2703, Val Avg Loss: 1.2939, Accuracy: 0.81, Val Accuracy: 0.82\n",
      "Epoch [138/500], Avg Loss: 1.3263, Val Avg Loss: 1.3053, Accuracy: 0.81, Val Accuracy: 0.82\n",
      "Epoch [139/500], Avg Loss: 1.2933, Val Avg Loss: 1.2279, Accuracy: 0.81, Val Accuracy: 0.82\n",
      "Epoch [140/500], Avg Loss: 1.2635, Val Avg Loss: 1.2343, Accuracy: 0.81, Val Accuracy: 0.82\n",
      "Epoch [141/500], Avg Loss: 1.2620, Val Avg Loss: 1.2279, Accuracy: 0.81, Val Accuracy: 0.83\n",
      "Epoch [142/500], Avg Loss: 1.2550, Val Avg Loss: 1.2561, Accuracy: 0.81, Val Accuracy: 0.83\n",
      "Epoch [143/500], Avg Loss: 1.2536, Val Avg Loss: 1.2926, Accuracy: 0.81, Val Accuracy: 0.83\n",
      "Epoch [144/500], Avg Loss: 1.2937, Val Avg Loss: 1.2504, Accuracy: 0.81, Val Accuracy: 0.83\n",
      "Epoch [145/500], Avg Loss: 1.2906, Val Avg Loss: 1.2648, Accuracy: 0.81, Val Accuracy: 0.83\n",
      "Epoch [146/500], Avg Loss: 1.2431, Val Avg Loss: 1.2788, Accuracy: 0.81, Val Accuracy: 0.83\n",
      "Epoch [147/500], Avg Loss: 1.2855, Val Avg Loss: 1.2849, Accuracy: 0.81, Val Accuracy: 0.83\n",
      "Epoch [148/500], Avg Loss: 1.2551, Val Avg Loss: 1.2271, Accuracy: 0.81, Val Accuracy: 0.83\n",
      "Epoch [149/500], Avg Loss: 1.2505, Val Avg Loss: 1.2172, Accuracy: 0.81, Val Accuracy: 0.83\n",
      "Epoch [150/500], Avg Loss: 1.2391, Val Avg Loss: 1.2216, Accuracy: 0.81, Val Accuracy: 0.83\n",
      "Epoch [151/500], Avg Loss: 1.2528, Val Avg Loss: 1.2191, Accuracy: 0.81, Val Accuracy: 0.83\n",
      "Epoch [152/500], Avg Loss: 1.2410, Val Avg Loss: 1.2145, Accuracy: 0.81, Val Accuracy: 0.83\n",
      "Epoch [153/500], Avg Loss: 1.2342, Val Avg Loss: 1.2156, Accuracy: 0.81, Val Accuracy: 0.83\n",
      "Epoch [154/500], Avg Loss: 1.2346, Val Avg Loss: 1.2285, Accuracy: 0.82, Val Accuracy: 0.83\n",
      "Epoch [155/500], Avg Loss: 1.2393, Val Avg Loss: 1.2141, Accuracy: 0.82, Val Accuracy: 0.83\n",
      "Epoch [156/500], Avg Loss: 1.2370, Val Avg Loss: 1.2345, Accuracy: 0.82, Val Accuracy: 0.83\n",
      "Epoch [157/500], Avg Loss: 1.2310, Val Avg Loss: 1.2225, Accuracy: 0.82, Val Accuracy: 0.83\n",
      "Epoch [158/500], Avg Loss: 1.2376, Val Avg Loss: 1.2291, Accuracy: 0.82, Val Accuracy: 0.83\n",
      "Epoch [159/500], Avg Loss: 1.2463, Val Avg Loss: 1.2206, Accuracy: 0.82, Val Accuracy: 0.83\n",
      "Epoch [160/500], Avg Loss: 1.2465, Val Avg Loss: 1.2509, Accuracy: 0.82, Val Accuracy: 0.83\n",
      "Epoch [161/500], Avg Loss: 1.2523, Val Avg Loss: 1.2476, Accuracy: 0.82, Val Accuracy: 0.83\n",
      "Epoch [162/500], Avg Loss: 1.3023, Val Avg Loss: 1.3002, Accuracy: 0.82, Val Accuracy: 0.83\n",
      "Epoch [163/500], Avg Loss: 1.2772, Val Avg Loss: 1.2507, Accuracy: 0.82, Val Accuracy: 0.83\n",
      "Epoch [164/500], Avg Loss: 1.2519, Val Avg Loss: 1.2253, Accuracy: 0.82, Val Accuracy: 0.83\n",
      "Epoch [165/500], Avg Loss: 1.2409, Val Avg Loss: 1.2310, Accuracy: 0.82, Val Accuracy: 0.83\n",
      "Epoch [166/500], Avg Loss: 1.2405, Val Avg Loss: 1.2233, Accuracy: 0.82, Val Accuracy: 0.83\n",
      "Epoch [167/500], Avg Loss: 1.2261, Val Avg Loss: 1.2043, Accuracy: 0.82, Val Accuracy: 0.84\n",
      "Epoch [168/500], Avg Loss: 1.2136, Val Avg Loss: 1.2313, Accuracy: 0.82, Val Accuracy: 0.84\n",
      "Epoch [169/500], Avg Loss: 1.2237, Val Avg Loss: 1.2209, Accuracy: 0.82, Val Accuracy: 0.84\n",
      "Epoch [170/500], Avg Loss: 1.2291, Val Avg Loss: 1.2286, Accuracy: 0.82, Val Accuracy: 0.84\n",
      "Epoch [171/500], Avg Loss: 1.2247, Val Avg Loss: 1.2325, Accuracy: 0.82, Val Accuracy: 0.84\n",
      "Epoch [172/500], Avg Loss: 1.2486, Val Avg Loss: 1.2301, Accuracy: 0.82, Val Accuracy: 0.84\n",
      "Epoch [173/500], Avg Loss: 1.2453, Val Avg Loss: 1.2371, Accuracy: 0.82, Val Accuracy: 0.84\n",
      "Epoch [174/500], Avg Loss: 1.2476, Val Avg Loss: 1.2758, Accuracy: 0.82, Val Accuracy: 0.84\n",
      "Epoch [175/500], Avg Loss: 1.2584, Val Avg Loss: 1.2704, Accuracy: 0.82, Val Accuracy: 0.84\n",
      "Epoch [176/500], Avg Loss: 1.3100, Val Avg Loss: 1.3245, Accuracy: 0.82, Val Accuracy: 0.84\n",
      "Epoch [177/500], Avg Loss: 1.3336, Val Avg Loss: 1.3182, Accuracy: 0.82, Val Accuracy: 0.84\n",
      "Epoch [178/500], Avg Loss: 1.3119, Val Avg Loss: 1.2414, Accuracy: 0.82, Val Accuracy: 0.84\n",
      "Epoch [179/500], Avg Loss: 1.2692, Val Avg Loss: 1.2789, Accuracy: 0.82, Val Accuracy: 0.84\n",
      "Epoch [180/500], Avg Loss: 1.2960, Val Avg Loss: 1.3103, Accuracy: 0.82, Val Accuracy: 0.84\n",
      "Epoch [181/500], Avg Loss: 1.2883, Val Avg Loss: 1.2701, Accuracy: 0.82, Val Accuracy: 0.84\n",
      "Epoch [182/500], Avg Loss: 1.2623, Val Avg Loss: 1.2325, Accuracy: 0.82, Val Accuracy: 0.84\n",
      "Epoch [183/500], Avg Loss: 1.2453, Val Avg Loss: 1.2143, Accuracy: 0.83, Val Accuracy: 0.84\n",
      "Epoch [184/500], Avg Loss: 1.2342, Val Avg Loss: 1.2269, Accuracy: 0.83, Val Accuracy: 0.84\n",
      "Epoch [185/500], Avg Loss: 1.2445, Val Avg Loss: 1.2414, Accuracy: 0.83, Val Accuracy: 0.84\n",
      "Epoch [186/500], Avg Loss: 1.2324, Val Avg Loss: 1.2174, Accuracy: 0.83, Val Accuracy: 0.84\n",
      "Epoch [187/500], Avg Loss: 1.2272, Val Avg Loss: 1.2041, Accuracy: 0.83, Val Accuracy: 0.84\n",
      "Epoch [188/500], Avg Loss: 1.2241, Val Avg Loss: 1.2160, Accuracy: 0.83, Val Accuracy: 0.84\n",
      "Epoch [189/500], Avg Loss: 1.2212, Val Avg Loss: 1.2175, Accuracy: 0.83, Val Accuracy: 0.84\n",
      "Epoch [190/500], Avg Loss: 1.2296, Val Avg Loss: 1.2059, Accuracy: 0.83, Val Accuracy: 0.84\n",
      "Epoch [191/500], Avg Loss: 1.2242, Val Avg Loss: 1.2097, Accuracy: 0.83, Val Accuracy: 0.84\n",
      "Epoch [192/500], Avg Loss: 1.2212, Val Avg Loss: 1.2016, Accuracy: 0.83, Val Accuracy: 0.84\n",
      "Epoch [193/500], Avg Loss: 1.2313, Val Avg Loss: 1.2417, Accuracy: 0.83, Val Accuracy: 0.84\n",
      "Epoch [194/500], Avg Loss: 1.2892, Val Avg Loss: 1.2888, Accuracy: 0.83, Val Accuracy: 0.84\n",
      "Epoch [195/500], Avg Loss: 1.2457, Val Avg Loss: 1.2339, Accuracy: 0.83, Val Accuracy: 0.84\n",
      "Epoch [196/500], Avg Loss: 1.2484, Val Avg Loss: 1.2387, Accuracy: 0.83, Val Accuracy: 0.84\n",
      "Epoch [197/500], Avg Loss: 1.2520, Val Avg Loss: 1.2135, Accuracy: 0.83, Val Accuracy: 0.84\n",
      "Epoch [198/500], Avg Loss: 1.2829, Val Avg Loss: 1.2544, Accuracy: 0.83, Val Accuracy: 0.84\n",
      "Epoch [199/500], Avg Loss: 1.2666, Val Avg Loss: 1.2878, Accuracy: 0.83, Val Accuracy: 0.84\n",
      "Epoch [200/500], Avg Loss: 1.2648, Val Avg Loss: 1.2588, Accuracy: 0.83, Val Accuracy: 0.84\n",
      "Epoch [201/500], Avg Loss: 1.2634, Val Avg Loss: 1.2150, Accuracy: 0.83, Val Accuracy: 0.84\n",
      "Epoch [202/500], Avg Loss: 1.2867, Val Avg Loss: 1.3052, Accuracy: 0.83, Val Accuracy: 0.84\n",
      "Epoch [203/500], Avg Loss: 1.2816, Val Avg Loss: 1.2340, Accuracy: 0.83, Val Accuracy: 0.84\n",
      "Epoch [204/500], Avg Loss: 1.2487, Val Avg Loss: 1.1995, Accuracy: 0.83, Val Accuracy: 0.84\n",
      "Epoch [205/500], Avg Loss: 1.2555, Val Avg Loss: 1.2456, Accuracy: 0.83, Val Accuracy: 0.84\n",
      "Epoch [206/500], Avg Loss: 1.2725, Val Avg Loss: 1.2381, Accuracy: 0.83, Val Accuracy: 0.85\n",
      "Epoch [207/500], Avg Loss: 1.2449, Val Avg Loss: 1.2367, Accuracy: 0.83, Val Accuracy: 0.85\n",
      "Epoch [208/500], Avg Loss: 1.2429, Val Avg Loss: 1.2176, Accuracy: 0.83, Val Accuracy: 0.85\n",
      "Epoch [209/500], Avg Loss: 1.2154, Val Avg Loss: 1.2116, Accuracy: 0.83, Val Accuracy: 0.85\n",
      "Epoch [210/500], Avg Loss: 1.2144, Val Avg Loss: 1.2138, Accuracy: 0.83, Val Accuracy: 0.85\n",
      "Epoch [211/500], Avg Loss: 1.2160, Val Avg Loss: 1.2009, Accuracy: 0.83, Val Accuracy: 0.85\n",
      "Epoch [212/500], Avg Loss: 1.2284, Val Avg Loss: 1.2348, Accuracy: 0.83, Val Accuracy: 0.85\n",
      "Epoch [213/500], Avg Loss: 1.2315, Val Avg Loss: 1.2238, Accuracy: 0.83, Val Accuracy: 0.85\n",
      "Epoch [214/500], Avg Loss: 1.2311, Val Avg Loss: 1.2162, Accuracy: 0.83, Val Accuracy: 0.85\n",
      "Epoch [215/500], Avg Loss: 1.2348, Val Avg Loss: 1.2504, Accuracy: 0.83, Val Accuracy: 0.85\n",
      "Epoch [216/500], Avg Loss: 1.2518, Val Avg Loss: 1.2155, Accuracy: 0.83, Val Accuracy: 0.85\n",
      "Epoch [217/500], Avg Loss: 1.2347, Val Avg Loss: 1.2341, Accuracy: 0.84, Val Accuracy: 0.85\n",
      "Epoch [218/500], Avg Loss: 1.2593, Val Avg Loss: 1.2965, Accuracy: 0.84, Val Accuracy: 0.85\n",
      "Epoch [219/500], Avg Loss: 1.2554, Val Avg Loss: 1.2406, Accuracy: 0.84, Val Accuracy: 0.85\n",
      "Epoch [220/500], Avg Loss: 1.2404, Val Avg Loss: 1.2162, Accuracy: 0.84, Val Accuracy: 0.85\n",
      "Epoch [221/500], Avg Loss: 1.2449, Val Avg Loss: 1.2383, Accuracy: 0.84, Val Accuracy: 0.85\n",
      "Epoch [222/500], Avg Loss: 1.2814, Val Avg Loss: 1.3099, Accuracy: 0.84, Val Accuracy: 0.85\n",
      "Epoch [223/500], Avg Loss: 1.2566, Val Avg Loss: 1.2222, Accuracy: 0.84, Val Accuracy: 0.85\n",
      "Epoch [224/500], Avg Loss: 1.2390, Val Avg Loss: 1.2241, Accuracy: 0.84, Val Accuracy: 0.85\n",
      "Epoch [225/500], Avg Loss: 1.2344, Val Avg Loss: 1.2432, Accuracy: 0.84, Val Accuracy: 0.85\n",
      "Epoch [226/500], Avg Loss: 1.2358, Val Avg Loss: 1.2408, Accuracy: 0.84, Val Accuracy: 0.85\n",
      "Epoch [227/500], Avg Loss: 1.2428, Val Avg Loss: 1.2419, Accuracy: 0.84, Val Accuracy: 0.85\n",
      "Epoch [228/500], Avg Loss: 1.2408, Val Avg Loss: 1.2697, Accuracy: 0.84, Val Accuracy: 0.85\n",
      "Epoch [229/500], Avg Loss: 1.2719, Val Avg Loss: 1.2712, Accuracy: 0.84, Val Accuracy: 0.85\n",
      "Epoch [230/500], Avg Loss: 1.2438, Val Avg Loss: 1.2446, Accuracy: 0.84, Val Accuracy: 0.85\n",
      "Epoch [231/500], Avg Loss: 1.2411, Val Avg Loss: 1.2377, Accuracy: 0.84, Val Accuracy: 0.85\n",
      "Epoch [232/500], Avg Loss: 1.2250, Val Avg Loss: 1.2145, Accuracy: 0.84, Val Accuracy: 0.85\n",
      "Epoch [233/500], Avg Loss: 1.2416, Val Avg Loss: 1.2305, Accuracy: 0.84, Val Accuracy: 0.85\n",
      "Epoch [234/500], Avg Loss: 1.2607, Val Avg Loss: 1.2611, Accuracy: 0.84, Val Accuracy: 0.85\n",
      "Epoch [235/500], Avg Loss: 1.2477, Val Avg Loss: 1.2546, Accuracy: 0.84, Val Accuracy: 0.85\n",
      "Epoch [236/500], Avg Loss: 1.2420, Val Avg Loss: 1.2448, Accuracy: 0.84, Val Accuracy: 0.85\n",
      "Epoch [237/500], Avg Loss: 1.2443, Val Avg Loss: 1.2413, Accuracy: 0.84, Val Accuracy: 0.85\n",
      "Epoch [238/500], Avg Loss: 1.2431, Val Avg Loss: 1.2328, Accuracy: 0.84, Val Accuracy: 0.85\n",
      "Epoch [239/500], Avg Loss: 1.2512, Val Avg Loss: 1.2258, Accuracy: 0.84, Val Accuracy: 0.85\n",
      "Epoch [240/500], Avg Loss: 1.2334, Val Avg Loss: 1.2701, Accuracy: 0.84, Val Accuracy: 0.85\n",
      "Epoch [241/500], Avg Loss: 1.2661, Val Avg Loss: 1.2674, Accuracy: 0.84, Val Accuracy: 0.85\n",
      "Epoch [242/500], Avg Loss: 1.2393, Val Avg Loss: 1.2351, Accuracy: 0.84, Val Accuracy: 0.85\n",
      "Epoch [243/500], Avg Loss: 1.2245, Val Avg Loss: 1.2318, Accuracy: 0.84, Val Accuracy: 0.85\n",
      "Epoch [244/500], Avg Loss: 1.2281, Val Avg Loss: 1.2157, Accuracy: 0.84, Val Accuracy: 0.85\n",
      "Epoch [245/500], Avg Loss: 1.2230, Val Avg Loss: 1.2144, Accuracy: 0.84, Val Accuracy: 0.85\n",
      "Epoch [246/500], Avg Loss: 1.2269, Val Avg Loss: 1.2213, Accuracy: 0.84, Val Accuracy: 0.85\n",
      "Epoch [247/500], Avg Loss: 1.2451, Val Avg Loss: 1.2084, Accuracy: 0.84, Val Accuracy: 0.85\n",
      "Epoch [248/500], Avg Loss: 1.2278, Val Avg Loss: 1.2186, Accuracy: 0.84, Val Accuracy: 0.85\n",
      "Epoch [249/500], Avg Loss: 1.2327, Val Avg Loss: 1.1989, Accuracy: 0.84, Val Accuracy: 0.85\n",
      "Epoch [250/500], Avg Loss: 1.2252, Val Avg Loss: 1.2297, Accuracy: 0.84, Val Accuracy: 0.85\n",
      "Epoch [251/500], Avg Loss: 1.2317, Val Avg Loss: 1.2068, Accuracy: 0.84, Val Accuracy: 0.85\n",
      "Epoch [252/500], Avg Loss: 1.2169, Val Avg Loss: 1.2141, Accuracy: 0.84, Val Accuracy: 0.85\n",
      "Epoch [253/500], Avg Loss: 1.2213, Val Avg Loss: 1.2231, Accuracy: 0.84, Val Accuracy: 0.85\n",
      "Epoch [254/500], Avg Loss: 1.2352, Val Avg Loss: 1.2444, Accuracy: 0.84, Val Accuracy: 0.85\n",
      "Epoch [255/500], Avg Loss: 1.2390, Val Avg Loss: 1.2628, Accuracy: 0.84, Val Accuracy: 0.85\n",
      "Epoch [256/500], Avg Loss: 1.2523, Val Avg Loss: 1.2456, Accuracy: 0.84, Val Accuracy: 0.85\n",
      "Epoch [257/500], Avg Loss: 1.2504, Val Avg Loss: 1.2417, Accuracy: 0.84, Val Accuracy: 0.85\n",
      "Epoch [258/500], Avg Loss: 1.2692, Val Avg Loss: 1.2163, Accuracy: 0.84, Val Accuracy: 0.85\n",
      "Epoch [259/500], Avg Loss: 1.2312, Val Avg Loss: 1.2388, Accuracy: 0.84, Val Accuracy: 0.86\n",
      "Epoch [260/500], Avg Loss: 1.2374, Val Avg Loss: 1.2301, Accuracy: 0.84, Val Accuracy: 0.86\n",
      "Epoch [261/500], Avg Loss: 1.2511, Val Avg Loss: 1.2325, Accuracy: 0.84, Val Accuracy: 0.86\n",
      "Epoch [262/500], Avg Loss: 1.2389, Val Avg Loss: 1.2302, Accuracy: 0.84, Val Accuracy: 0.86\n",
      "Epoch [263/500], Avg Loss: 1.2384, Val Avg Loss: 1.2280, Accuracy: 0.85, Val Accuracy: 0.86\n",
      "Epoch [264/500], Avg Loss: 1.2360, Val Avg Loss: 1.2306, Accuracy: 0.85, Val Accuracy: 0.86\n",
      "Epoch [265/500], Avg Loss: 1.2384, Val Avg Loss: 1.2084, Accuracy: 0.85, Val Accuracy: 0.86\n",
      "Epoch [266/500], Avg Loss: 1.2240, Val Avg Loss: 1.2306, Accuracy: 0.85, Val Accuracy: 0.86\n",
      "Epoch [267/500], Avg Loss: 1.2283, Val Avg Loss: 1.2179, Accuracy: 0.85, Val Accuracy: 0.86\n",
      "Epoch [268/500], Avg Loss: 1.2200, Val Avg Loss: 1.2229, Accuracy: 0.85, Val Accuracy: 0.86\n",
      "Epoch [269/500], Avg Loss: 1.2245, Val Avg Loss: 1.2021, Accuracy: 0.85, Val Accuracy: 0.86\n",
      "Epoch [270/500], Avg Loss: 1.2114, Val Avg Loss: 1.2200, Accuracy: 0.85, Val Accuracy: 0.86\n",
      "Epoch [271/500], Avg Loss: 1.2279, Val Avg Loss: 1.2326, Accuracy: 0.85, Val Accuracy: 0.86\n",
      "Epoch [272/500], Avg Loss: 1.2250, Val Avg Loss: 1.2248, Accuracy: 0.85, Val Accuracy: 0.86\n",
      "Epoch [273/500], Avg Loss: 1.2556, Val Avg Loss: 1.2635, Accuracy: 0.85, Val Accuracy: 0.86\n",
      "Epoch [274/500], Avg Loss: 1.2667, Val Avg Loss: 1.2649, Accuracy: 0.85, Val Accuracy: 0.86\n",
      "Epoch [275/500], Avg Loss: 1.2512, Val Avg Loss: 1.2567, Accuracy: 0.85, Val Accuracy: 0.86\n",
      "Epoch [276/500], Avg Loss: 1.2448, Val Avg Loss: 1.2462, Accuracy: 0.85, Val Accuracy: 0.86\n",
      "Epoch [277/500], Avg Loss: 1.2661, Val Avg Loss: 1.2150, Accuracy: 0.85, Val Accuracy: 0.86\n",
      "Epoch [278/500], Avg Loss: 1.2902, Val Avg Loss: 1.3208, Accuracy: 0.85, Val Accuracy: 0.86\n",
      "Epoch [279/500], Avg Loss: 1.3232, Val Avg Loss: 1.3103, Accuracy: 0.85, Val Accuracy: 0.86\n",
      "Epoch [280/500], Avg Loss: 1.2941, Val Avg Loss: 1.2427, Accuracy: 0.85, Val Accuracy: 0.86\n",
      "Epoch [281/500], Avg Loss: 1.2586, Val Avg Loss: 1.2380, Accuracy: 0.85, Val Accuracy: 0.86\n",
      "Epoch [282/500], Avg Loss: 1.2488, Val Avg Loss: 1.2143, Accuracy: 0.85, Val Accuracy: 0.86\n",
      "Epoch [283/500], Avg Loss: 1.2326, Val Avg Loss: 1.2246, Accuracy: 0.85, Val Accuracy: 0.86\n",
      "Epoch [284/500], Avg Loss: 1.2385, Val Avg Loss: 1.2257, Accuracy: 0.85, Val Accuracy: 0.86\n",
      "Epoch [285/500], Avg Loss: 1.2597, Val Avg Loss: 1.2408, Accuracy: 0.85, Val Accuracy: 0.86\n",
      "Epoch [286/500], Avg Loss: 1.2579, Val Avg Loss: 1.2312, Accuracy: 0.85, Val Accuracy: 0.86\n",
      "Epoch [287/500], Avg Loss: 1.2434, Val Avg Loss: 1.2386, Accuracy: 0.85, Val Accuracy: 0.86\n",
      "Epoch [288/500], Avg Loss: 1.2305, Val Avg Loss: 1.2237, Accuracy: 0.85, Val Accuracy: 0.86\n",
      "Epoch [289/500], Avg Loss: 1.2384, Val Avg Loss: 1.2514, Accuracy: 0.85, Val Accuracy: 0.86\n",
      "Epoch [290/500], Avg Loss: 1.2348, Val Avg Loss: 1.2186, Accuracy: 0.85, Val Accuracy: 0.86\n",
      "Epoch [291/500], Avg Loss: 1.2556, Val Avg Loss: 1.2351, Accuracy: 0.85, Val Accuracy: 0.86\n",
      "Epoch [292/500], Avg Loss: 1.2278, Val Avg Loss: 1.2186, Accuracy: 0.85, Val Accuracy: 0.86\n",
      "Epoch [293/500], Avg Loss: 1.2275, Val Avg Loss: 1.2450, Accuracy: 0.85, Val Accuracy: 0.86\n",
      "Epoch [294/500], Avg Loss: 1.2365, Val Avg Loss: 1.2278, Accuracy: 0.85, Val Accuracy: 0.86\n",
      "Epoch [295/500], Avg Loss: 1.2359, Val Avg Loss: 1.2019, Accuracy: 0.85, Val Accuracy: 0.86\n",
      "Epoch [296/500], Avg Loss: 1.2281, Val Avg Loss: 1.2327, Accuracy: 0.85, Val Accuracy: 0.86\n",
      "Epoch [297/500], Avg Loss: 1.2340, Val Avg Loss: 1.2086, Accuracy: 0.85, Val Accuracy: 0.86\n",
      "Epoch [298/500], Avg Loss: 1.2318, Val Avg Loss: 1.2530, Accuracy: 0.85, Val Accuracy: 0.86\n",
      "Epoch [299/500], Avg Loss: 1.2458, Val Avg Loss: 1.2238, Accuracy: 0.85, Val Accuracy: 0.86\n",
      "Epoch [300/500], Avg Loss: 1.2316, Val Avg Loss: 1.2418, Accuracy: 0.85, Val Accuracy: 0.86\n",
      "Epoch [301/500], Avg Loss: 1.2554, Val Avg Loss: 1.2356, Accuracy: 0.85, Val Accuracy: 0.86\n",
      "Epoch [302/500], Avg Loss: 1.2293, Val Avg Loss: 1.2170, Accuracy: 0.85, Val Accuracy: 0.86\n",
      "Epoch [303/500], Avg Loss: 1.2271, Val Avg Loss: 1.2218, Accuracy: 0.85, Val Accuracy: 0.86\n",
      "Epoch [304/500], Avg Loss: 1.2379, Val Avg Loss: 1.2250, Accuracy: 0.85, Val Accuracy: 0.86\n",
      "Epoch [305/500], Avg Loss: 1.2300, Val Avg Loss: 1.2068, Accuracy: 0.85, Val Accuracy: 0.86\n",
      "Epoch [306/500], Avg Loss: 1.2418, Val Avg Loss: 1.2023, Accuracy: 0.85, Val Accuracy: 0.86\n",
      "Epoch [307/500], Avg Loss: 1.2481, Val Avg Loss: 1.2218, Accuracy: 0.85, Val Accuracy: 0.86\n",
      "Epoch [308/500], Avg Loss: 1.2444, Val Avg Loss: 1.2224, Accuracy: 0.85, Val Accuracy: 0.86\n",
      "Epoch [309/500], Avg Loss: 1.2416, Val Avg Loss: 1.2555, Accuracy: 0.85, Val Accuracy: 0.86\n",
      "Epoch [310/500], Avg Loss: 1.2394, Val Avg Loss: 1.2187, Accuracy: 0.85, Val Accuracy: 0.86\n",
      "Epoch [311/500], Avg Loss: 1.2222, Val Avg Loss: 1.2111, Accuracy: 0.85, Val Accuracy: 0.86\n",
      "Epoch [312/500], Avg Loss: 1.2334, Val Avg Loss: 1.2061, Accuracy: 0.85, Val Accuracy: 0.86\n",
      "Epoch [313/500], Avg Loss: 1.2247, Val Avg Loss: 1.2025, Accuracy: 0.85, Val Accuracy: 0.86\n",
      "Epoch [314/500], Avg Loss: 1.2131, Val Avg Loss: 1.2286, Accuracy: 0.85, Val Accuracy: 0.86\n",
      "Epoch [315/500], Avg Loss: 1.2317, Val Avg Loss: 1.2057, Accuracy: 0.85, Val Accuracy: 0.86\n",
      "Epoch [316/500], Avg Loss: 1.2298, Val Avg Loss: 1.2563, Accuracy: 0.85, Val Accuracy: 0.86\n",
      "Epoch [317/500], Avg Loss: 1.2321, Val Avg Loss: 1.2061, Accuracy: 0.85, Val Accuracy: 0.86\n",
      "Epoch [318/500], Avg Loss: 1.2176, Val Avg Loss: 1.2131, Accuracy: 0.85, Val Accuracy: 0.86\n",
      "Epoch [319/500], Avg Loss: 1.2302, Val Avg Loss: 1.2241, Accuracy: 0.85, Val Accuracy: 0.86\n",
      "Epoch [320/500], Avg Loss: 1.2346, Val Avg Loss: 1.2264, Accuracy: 0.85, Val Accuracy: 0.86\n",
      "Epoch [321/500], Avg Loss: 1.2286, Val Avg Loss: 1.2207, Accuracy: 0.85, Val Accuracy: 0.86\n",
      "Epoch [322/500], Avg Loss: 1.2321, Val Avg Loss: 1.2162, Accuracy: 0.85, Val Accuracy: 0.86\n",
      "Epoch [323/500], Avg Loss: 1.2248, Val Avg Loss: 1.2133, Accuracy: 0.85, Val Accuracy: 0.86\n",
      "Epoch [324/500], Avg Loss: 1.2246, Val Avg Loss: 1.2181, Accuracy: 0.85, Val Accuracy: 0.86\n",
      "Epoch [325/500], Avg Loss: 1.2282, Val Avg Loss: 1.2325, Accuracy: 0.85, Val Accuracy: 0.86\n",
      "Epoch [326/500], Avg Loss: 1.2333, Val Avg Loss: 1.2211, Accuracy: 0.85, Val Accuracy: 0.86\n",
      "Epoch [327/500], Avg Loss: 1.2243, Val Avg Loss: 1.2034, Accuracy: 0.85, Val Accuracy: 0.86\n",
      "Epoch [328/500], Avg Loss: 1.2208, Val Avg Loss: 1.2177, Accuracy: 0.85, Val Accuracy: 0.86\n",
      "Epoch [329/500], Avg Loss: 1.2325, Val Avg Loss: 1.2136, Accuracy: 0.86, Val Accuracy: 0.86\n",
      "Epoch [330/500], Avg Loss: 1.2241, Val Avg Loss: 1.2245, Accuracy: 0.86, Val Accuracy: 0.87\n",
      "Epoch [331/500], Avg Loss: 1.2432, Val Avg Loss: 1.2081, Accuracy: 0.86, Val Accuracy: 0.87\n",
      "Epoch [332/500], Avg Loss: 1.2221, Val Avg Loss: 1.2248, Accuracy: 0.86, Val Accuracy: 0.87\n",
      "Epoch [333/500], Avg Loss: 1.2494, Val Avg Loss: 1.2208, Accuracy: 0.86, Val Accuracy: 0.87\n",
      "Epoch [334/500], Avg Loss: 1.2263, Val Avg Loss: 1.2164, Accuracy: 0.86, Val Accuracy: 0.87\n",
      "Epoch [335/500], Avg Loss: 1.2185, Val Avg Loss: 1.2067, Accuracy: 0.86, Val Accuracy: 0.87\n",
      "Epoch [336/500], Avg Loss: 1.2078, Val Avg Loss: 1.2102, Accuracy: 0.86, Val Accuracy: 0.87\n",
      "Epoch [337/500], Avg Loss: 1.2234, Val Avg Loss: 1.2065, Accuracy: 0.86, Val Accuracy: 0.87\n",
      "Epoch [338/500], Avg Loss: 1.2231, Val Avg Loss: 1.2279, Accuracy: 0.86, Val Accuracy: 0.87\n",
      "Epoch [339/500], Avg Loss: 1.2502, Val Avg Loss: 1.2437, Accuracy: 0.86, Val Accuracy: 0.87\n",
      "Epoch [340/500], Avg Loss: 1.2405, Val Avg Loss: 1.2159, Accuracy: 0.86, Val Accuracy: 0.87\n",
      "Epoch [341/500], Avg Loss: 1.2653, Val Avg Loss: 1.2721, Accuracy: 0.86, Val Accuracy: 0.87\n",
      "Epoch [342/500], Avg Loss: 1.2373, Val Avg Loss: 1.2382, Accuracy: 0.86, Val Accuracy: 0.87\n",
      "Epoch [343/500], Avg Loss: 1.2518, Val Avg Loss: 1.2257, Accuracy: 0.86, Val Accuracy: 0.87\n",
      "Epoch [344/500], Avg Loss: 1.2796, Val Avg Loss: 1.3155, Accuracy: 0.86, Val Accuracy: 0.87\n",
      "Epoch [345/500], Avg Loss: 1.2798, Val Avg Loss: 1.2518, Accuracy: 0.86, Val Accuracy: 0.87\n",
      "Epoch [346/500], Avg Loss: 1.2987, Val Avg Loss: 1.2698, Accuracy: 0.86, Val Accuracy: 0.87\n",
      "Epoch [347/500], Avg Loss: 1.2581, Val Avg Loss: 1.2652, Accuracy: 0.86, Val Accuracy: 0.87\n",
      "Epoch [348/500], Avg Loss: 1.2607, Val Avg Loss: 1.2331, Accuracy: 0.86, Val Accuracy: 0.87\n",
      "Epoch [349/500], Avg Loss: 1.2589, Val Avg Loss: 1.2614, Accuracy: 0.86, Val Accuracy: 0.87\n",
      "Epoch [350/500], Avg Loss: 1.2438, Val Avg Loss: 1.2039, Accuracy: 0.86, Val Accuracy: 0.87\n",
      "Epoch [351/500], Avg Loss: 1.2248, Val Avg Loss: 1.2246, Accuracy: 0.86, Val Accuracy: 0.87\n",
      "Epoch [352/500], Avg Loss: 1.2298, Val Avg Loss: 1.2204, Accuracy: 0.86, Val Accuracy: 0.87\n",
      "Epoch [353/500], Avg Loss: 1.2197, Val Avg Loss: 1.2053, Accuracy: 0.86, Val Accuracy: 0.87\n",
      "Epoch [354/500], Avg Loss: 1.2125, Val Avg Loss: 1.2106, Accuracy: 0.86, Val Accuracy: 0.87\n",
      "Epoch [355/500], Avg Loss: 1.2147, Val Avg Loss: 1.2121, Accuracy: 0.86, Val Accuracy: 0.87\n",
      "Epoch [356/500], Avg Loss: 1.2191, Val Avg Loss: 1.2049, Accuracy: 0.86, Val Accuracy: 0.87\n",
      "Epoch [357/500], Avg Loss: 1.2196, Val Avg Loss: 1.2088, Accuracy: 0.86, Val Accuracy: 0.87\n",
      "Epoch [358/500], Avg Loss: 1.2169, Val Avg Loss: 1.2053, Accuracy: 0.86, Val Accuracy: 0.87\n",
      "Epoch [359/500], Avg Loss: 1.2220, Val Avg Loss: 1.2095, Accuracy: 0.86, Val Accuracy: 0.87\n",
      "Epoch [360/500], Avg Loss: 1.2628, Val Avg Loss: 1.2532, Accuracy: 0.86, Val Accuracy: 0.87\n",
      "Epoch [361/500], Avg Loss: 1.2421, Val Avg Loss: 1.2195, Accuracy: 0.86, Val Accuracy: 0.87\n",
      "Epoch [362/500], Avg Loss: 1.2340, Val Avg Loss: 1.2418, Accuracy: 0.86, Val Accuracy: 0.87\n",
      "Epoch [363/500], Avg Loss: 1.2406, Val Avg Loss: 1.2659, Accuracy: 0.86, Val Accuracy: 0.87\n",
      "Epoch [364/500], Avg Loss: 1.2628, Val Avg Loss: 1.2417, Accuracy: 0.86, Val Accuracy: 0.87\n",
      "Epoch [365/500], Avg Loss: 1.2568, Val Avg Loss: 1.2295, Accuracy: 0.86, Val Accuracy: 0.87\n",
      "Epoch [366/500], Avg Loss: 1.2399, Val Avg Loss: 1.2430, Accuracy: 0.86, Val Accuracy: 0.87\n",
      "Epoch [367/500], Avg Loss: 1.2375, Val Avg Loss: 1.2075, Accuracy: 0.86, Val Accuracy: 0.87\n",
      "Epoch [368/500], Avg Loss: 1.2431, Val Avg Loss: 1.2136, Accuracy: 0.86, Val Accuracy: 0.87\n",
      "Epoch [369/500], Avg Loss: 1.2395, Val Avg Loss: 1.2306, Accuracy: 0.86, Val Accuracy: 0.87\n",
      "Epoch [370/500], Avg Loss: 1.2251, Val Avg Loss: 1.2073, Accuracy: 0.86, Val Accuracy: 0.87\n",
      "Epoch [371/500], Avg Loss: 1.2189, Val Avg Loss: 1.2232, Accuracy: 0.86, Val Accuracy: 0.87\n",
      "Epoch [372/500], Avg Loss: 1.2235, Val Avg Loss: 1.2407, Accuracy: 0.86, Val Accuracy: 0.87\n",
      "Epoch [373/500], Avg Loss: 1.2511, Val Avg Loss: 1.2269, Accuracy: 0.86, Val Accuracy: 0.87\n",
      "Epoch [374/500], Avg Loss: 1.2649, Val Avg Loss: 1.2788, Accuracy: 0.86, Val Accuracy: 0.87\n",
      "Epoch [375/500], Avg Loss: 1.2517, Val Avg Loss: 1.2446, Accuracy: 0.86, Val Accuracy: 0.87\n",
      "Epoch [376/500], Avg Loss: 1.2852, Val Avg Loss: 1.3140, Accuracy: 0.86, Val Accuracy: 0.87\n",
      "Epoch [377/500], Avg Loss: 1.2750, Val Avg Loss: 1.2403, Accuracy: 0.86, Val Accuracy: 0.87\n",
      "Epoch [378/500], Avg Loss: 1.2515, Val Avg Loss: 1.2184, Accuracy: 0.86, Val Accuracy: 0.87\n",
      "Epoch [379/500], Avg Loss: 1.2304, Val Avg Loss: 1.2077, Accuracy: 0.86, Val Accuracy: 0.87\n",
      "Epoch [380/500], Avg Loss: 1.2212, Val Avg Loss: 1.2136, Accuracy: 0.86, Val Accuracy: 0.87\n",
      "Epoch [381/500], Avg Loss: 1.2541, Val Avg Loss: 1.2479, Accuracy: 0.86, Val Accuracy: 0.87\n",
      "Epoch [382/500], Avg Loss: 1.2364, Val Avg Loss: 1.2158, Accuracy: 0.86, Val Accuracy: 0.87\n",
      "Epoch [383/500], Avg Loss: 1.2284, Val Avg Loss: 1.2156, Accuracy: 0.86, Val Accuracy: 0.87\n",
      "Epoch [384/500], Avg Loss: 1.2165, Val Avg Loss: 1.2148, Accuracy: 0.86, Val Accuracy: 0.87\n",
      "Epoch [385/500], Avg Loss: 1.2160, Val Avg Loss: 1.2145, Accuracy: 0.86, Val Accuracy: 0.87\n",
      "Epoch [386/500], Avg Loss: 1.2260, Val Avg Loss: 1.2126, Accuracy: 0.86, Val Accuracy: 0.87\n",
      "Epoch [387/500], Avg Loss: 1.2211, Val Avg Loss: 1.2294, Accuracy: 0.86, Val Accuracy: 0.87\n",
      "Epoch [388/500], Avg Loss: 1.2330, Val Avg Loss: 1.2344, Accuracy: 0.86, Val Accuracy: 0.87\n",
      "Epoch [389/500], Avg Loss: 1.2273, Val Avg Loss: 1.2375, Accuracy: 0.86, Val Accuracy: 0.87\n",
      "Epoch [390/500], Avg Loss: 1.2211, Val Avg Loss: 1.2219, Accuracy: 0.86, Val Accuracy: 0.87\n",
      "Epoch [391/500], Avg Loss: 1.2237, Val Avg Loss: 1.2065, Accuracy: 0.86, Val Accuracy: 0.87\n",
      "Epoch [392/500], Avg Loss: 1.2249, Val Avg Loss: 1.2034, Accuracy: 0.86, Val Accuracy: 0.87\n",
      "Epoch [393/500], Avg Loss: 1.2196, Val Avg Loss: 1.2091, Accuracy: 0.86, Val Accuracy: 0.87\n",
      "Epoch [394/500], Avg Loss: 1.2194, Val Avg Loss: 1.2276, Accuracy: 0.86, Val Accuracy: 0.87\n",
      "Epoch [395/500], Avg Loss: 1.2779, Val Avg Loss: 1.2847, Accuracy: 0.86, Val Accuracy: 0.87\n",
      "Epoch [396/500], Avg Loss: 1.2588, Val Avg Loss: 1.2530, Accuracy: 0.86, Val Accuracy: 0.87\n",
      "Epoch [397/500], Avg Loss: 1.2839, Val Avg Loss: 1.2703, Accuracy: 0.86, Val Accuracy: 0.87\n",
      "Epoch [398/500], Avg Loss: 1.2510, Val Avg Loss: 1.2443, Accuracy: 0.86, Val Accuracy: 0.87\n",
      "Epoch [399/500], Avg Loss: 1.2975, Val Avg Loss: 1.3215, Accuracy: 0.86, Val Accuracy: 0.87\n",
      "Epoch [400/500], Avg Loss: 1.2759, Val Avg Loss: 1.2254, Accuracy: 0.86, Val Accuracy: 0.87\n",
      "Epoch [401/500], Avg Loss: 1.2515, Val Avg Loss: 1.2243, Accuracy: 0.86, Val Accuracy: 0.87\n",
      "Epoch [402/500], Avg Loss: 1.2271, Val Avg Loss: 1.2100, Accuracy: 0.86, Val Accuracy: 0.87\n",
      "Epoch [403/500], Avg Loss: 1.2272, Val Avg Loss: 1.2174, Accuracy: 0.86, Val Accuracy: 0.87\n",
      "Epoch [404/500], Avg Loss: 1.2193, Val Avg Loss: 1.1982, Accuracy: 0.86, Val Accuracy: 0.87\n",
      "Epoch [405/500], Avg Loss: 1.2116, Val Avg Loss: 1.1940, Accuracy: 0.86, Val Accuracy: 0.87\n",
      "Epoch [406/500], Avg Loss: 1.2057, Val Avg Loss: 1.2186, Accuracy: 0.86, Val Accuracy: 0.87\n",
      "Epoch [407/500], Avg Loss: 1.2335, Val Avg Loss: 1.2317, Accuracy: 0.86, Val Accuracy: 0.87\n",
      "Epoch [408/500], Avg Loss: 1.2356, Val Avg Loss: 1.2084, Accuracy: 0.86, Val Accuracy: 0.87\n",
      "Epoch [409/500], Avg Loss: 1.2230, Val Avg Loss: 1.1912, Accuracy: 0.86, Val Accuracy: 0.87\n",
      "Epoch [410/500], Avg Loss: 1.2283, Val Avg Loss: 1.2253, Accuracy: 0.86, Val Accuracy: 0.87\n",
      "Epoch [411/500], Avg Loss: 1.2352, Val Avg Loss: 1.2264, Accuracy: 0.86, Val Accuracy: 0.87\n",
      "Epoch [412/500], Avg Loss: 1.2275, Val Avg Loss: 1.2046, Accuracy: 0.86, Val Accuracy: 0.87\n",
      "Epoch [413/500], Avg Loss: 1.2246, Val Avg Loss: 1.2358, Accuracy: 0.86, Val Accuracy: 0.87\n",
      "Epoch [414/500], Avg Loss: 1.2330, Val Avg Loss: 1.2209, Accuracy: 0.86, Val Accuracy: 0.87\n",
      "Epoch [415/500], Avg Loss: 1.2424, Val Avg Loss: 1.2185, Accuracy: 0.86, Val Accuracy: 0.87\n",
      "Epoch [416/500], Avg Loss: 1.2556, Val Avg Loss: 1.2613, Accuracy: 0.86, Val Accuracy: 0.87\n",
      "Epoch [417/500], Avg Loss: 1.2610, Val Avg Loss: 1.2929, Accuracy: 0.86, Val Accuracy: 0.87\n",
      "Epoch [418/500], Avg Loss: 1.2963, Val Avg Loss: 1.2979, Accuracy: 0.86, Val Accuracy: 0.87\n",
      "Epoch [419/500], Avg Loss: 1.2666, Val Avg Loss: 1.2750, Accuracy: 0.86, Val Accuracy: 0.87\n",
      "Epoch [420/500], Avg Loss: 1.3191, Val Avg Loss: 1.3044, Accuracy: 0.86, Val Accuracy: 0.87\n",
      "Epoch [421/500], Avg Loss: 1.2846, Val Avg Loss: 1.2500, Accuracy: 0.86, Val Accuracy: 0.87\n",
      "Epoch [422/500], Avg Loss: 1.2491, Val Avg Loss: 1.2237, Accuracy: 0.86, Val Accuracy: 0.87\n",
      "Epoch [423/500], Avg Loss: 1.2376, Val Avg Loss: 1.2342, Accuracy: 0.86, Val Accuracy: 0.87\n",
      "Epoch [424/500], Avg Loss: 1.2284, Val Avg Loss: 1.2713, Accuracy: 0.86, Val Accuracy: 0.87\n",
      "Epoch [425/500], Avg Loss: 1.2860, Val Avg Loss: 1.3008, Accuracy: 0.86, Val Accuracy: 0.87\n",
      "Epoch [426/500], Avg Loss: 1.2691, Val Avg Loss: 1.2464, Accuracy: 0.86, Val Accuracy: 0.87\n",
      "Epoch [427/500], Avg Loss: 1.2521, Val Avg Loss: 1.2576, Accuracy: 0.86, Val Accuracy: 0.87\n",
      "Epoch [428/500], Avg Loss: 1.2271, Val Avg Loss: 1.2261, Accuracy: 0.86, Val Accuracy: 0.87\n",
      "Epoch [429/500], Avg Loss: 1.2220, Val Avg Loss: 1.2452, Accuracy: 0.86, Val Accuracy: 0.87\n",
      "Epoch [430/500], Avg Loss: 1.2242, Val Avg Loss: 1.2220, Accuracy: 0.86, Val Accuracy: 0.87\n",
      "Epoch [431/500], Avg Loss: 1.2348, Val Avg Loss: 1.2198, Accuracy: 0.86, Val Accuracy: 0.87\n",
      "Epoch [432/500], Avg Loss: 1.2257, Val Avg Loss: 1.2130, Accuracy: 0.86, Val Accuracy: 0.87\n",
      "Epoch [433/500], Avg Loss: 1.2225, Val Avg Loss: 1.2077, Accuracy: 0.86, Val Accuracy: 0.87\n",
      "Epoch [434/500], Avg Loss: 1.2249, Val Avg Loss: 1.2220, Accuracy: 0.86, Val Accuracy: 0.87\n",
      "Epoch [435/500], Avg Loss: 1.2199, Val Avg Loss: 1.2573, Accuracy: 0.86, Val Accuracy: 0.87\n",
      "Epoch [436/500], Avg Loss: 1.2464, Val Avg Loss: 1.2771, Accuracy: 0.86, Val Accuracy: 0.87\n",
      "Epoch [437/500], Avg Loss: 1.2468, Val Avg Loss: 1.2376, Accuracy: 0.86, Val Accuracy: 0.87\n",
      "Epoch [438/500], Avg Loss: 1.2349, Val Avg Loss: 1.2558, Accuracy: 0.86, Val Accuracy: 0.87\n",
      "Epoch [439/500], Avg Loss: 1.2341, Val Avg Loss: 1.2350, Accuracy: 0.86, Val Accuracy: 0.87\n",
      "Epoch [440/500], Avg Loss: 1.2587, Val Avg Loss: 1.2812, Accuracy: 0.86, Val Accuracy: 0.87\n",
      "Epoch [441/500], Avg Loss: 1.2647, Val Avg Loss: 1.2299, Accuracy: 0.86, Val Accuracy: 0.87\n",
      "Epoch [442/500], Avg Loss: 1.2423, Val Avg Loss: 1.2496, Accuracy: 0.86, Val Accuracy: 0.87\n",
      "Epoch [443/500], Avg Loss: 1.2276, Val Avg Loss: 1.2150, Accuracy: 0.86, Val Accuracy: 0.87\n",
      "Epoch [444/500], Avg Loss: 1.2206, Val Avg Loss: 1.2103, Accuracy: 0.86, Val Accuracy: 0.87\n",
      "Epoch [445/500], Avg Loss: 1.2173, Val Avg Loss: 1.2339, Accuracy: 0.86, Val Accuracy: 0.87\n",
      "Epoch [446/500], Avg Loss: 1.2534, Val Avg Loss: 1.2277, Accuracy: 0.86, Val Accuracy: 0.87\n",
      "Epoch [447/500], Avg Loss: 1.2253, Val Avg Loss: 1.2323, Accuracy: 0.87, Val Accuracy: 0.87\n",
      "Epoch [448/500], Avg Loss: 1.2452, Val Avg Loss: 1.2275, Accuracy: 0.87, Val Accuracy: 0.87\n",
      "Epoch [449/500], Avg Loss: 1.2409, Val Avg Loss: 1.2193, Accuracy: 0.87, Val Accuracy: 0.87\n",
      "Epoch [450/500], Avg Loss: 1.2262, Val Avg Loss: 1.2122, Accuracy: 0.87, Val Accuracy: 0.87\n",
      "Epoch [451/500], Avg Loss: 1.2303, Val Avg Loss: 1.2266, Accuracy: 0.87, Val Accuracy: 0.87\n",
      "Epoch [452/500], Avg Loss: 1.2314, Val Avg Loss: 1.2309, Accuracy: 0.87, Val Accuracy: 0.87\n",
      "Epoch [453/500], Avg Loss: 1.2324, Val Avg Loss: 1.2080, Accuracy: 0.87, Val Accuracy: 0.87\n",
      "Epoch [454/500], Avg Loss: 1.2328, Val Avg Loss: 1.2239, Accuracy: 0.87, Val Accuracy: 0.87\n",
      "Epoch [455/500], Avg Loss: 1.2218, Val Avg Loss: 1.2327, Accuracy: 0.87, Val Accuracy: 0.87\n",
      "Epoch [456/500], Avg Loss: 1.2267, Val Avg Loss: 1.2294, Accuracy: 0.87, Val Accuracy: 0.87\n",
      "Epoch [457/500], Avg Loss: 1.2357, Val Avg Loss: 1.2074, Accuracy: 0.87, Val Accuracy: 0.87\n",
      "Epoch [458/500], Avg Loss: 1.2142, Val Avg Loss: 1.2089, Accuracy: 0.87, Val Accuracy: 0.87\n",
      "Epoch [459/500], Avg Loss: 1.2194, Val Avg Loss: 1.2316, Accuracy: 0.87, Val Accuracy: 0.87\n",
      "Epoch [460/500], Avg Loss: 1.2420, Val Avg Loss: 1.1944, Accuracy: 0.87, Val Accuracy: 0.87\n",
      "Epoch [461/500], Avg Loss: 1.2607, Val Avg Loss: 1.2616, Accuracy: 0.87, Val Accuracy: 0.87\n",
      "Epoch [462/500], Avg Loss: 1.2938, Val Avg Loss: 1.2792, Accuracy: 0.87, Val Accuracy: 0.87\n",
      "Epoch [463/500], Avg Loss: 1.2727, Val Avg Loss: 1.2244, Accuracy: 0.87, Val Accuracy: 0.87\n",
      "Epoch [464/500], Avg Loss: 1.2305, Val Avg Loss: 1.1984, Accuracy: 0.87, Val Accuracy: 0.87\n",
      "Epoch [465/500], Avg Loss: 1.2400, Val Avg Loss: 1.2336, Accuracy: 0.87, Val Accuracy: 0.87\n",
      "Epoch [466/500], Avg Loss: 1.2421, Val Avg Loss: 1.2170, Accuracy: 0.87, Val Accuracy: 0.87\n",
      "Epoch [467/500], Avg Loss: 1.2504, Val Avg Loss: 1.2347, Accuracy: 0.87, Val Accuracy: 0.87\n",
      "Epoch [468/500], Avg Loss: 1.2393, Val Avg Loss: 1.2233, Accuracy: 0.87, Val Accuracy: 0.87\n",
      "Epoch [469/500], Avg Loss: 1.2349, Val Avg Loss: 1.2451, Accuracy: 0.87, Val Accuracy: 0.87\n",
      "Epoch [470/500], Avg Loss: 1.2431, Val Avg Loss: 1.2205, Accuracy: 0.87, Val Accuracy: 0.87\n",
      "Epoch [471/500], Avg Loss: 1.2207, Val Avg Loss: 1.2169, Accuracy: 0.87, Val Accuracy: 0.87\n",
      "Epoch [472/500], Avg Loss: 1.2232, Val Avg Loss: 1.2341, Accuracy: 0.87, Val Accuracy: 0.87\n",
      "Epoch [473/500], Avg Loss: 1.2333, Val Avg Loss: 1.2435, Accuracy: 0.87, Val Accuracy: 0.87\n",
      "Epoch [474/500], Avg Loss: 1.2263, Val Avg Loss: 1.2520, Accuracy: 0.87, Val Accuracy: 0.87\n",
      "Epoch [475/500], Avg Loss: 1.2391, Val Avg Loss: 1.2167, Accuracy: 0.87, Val Accuracy: 0.87\n",
      "Epoch [476/500], Avg Loss: 1.2369, Val Avg Loss: 1.2499, Accuracy: 0.87, Val Accuracy: 0.87\n",
      "Epoch [477/500], Avg Loss: 1.2374, Val Avg Loss: 1.2257, Accuracy: 0.87, Val Accuracy: 0.87\n",
      "Epoch [478/500], Avg Loss: 1.2442, Val Avg Loss: 1.2374, Accuracy: 0.87, Val Accuracy: 0.88\n",
      "Epoch [479/500], Avg Loss: 1.2449, Val Avg Loss: 1.2279, Accuracy: 0.87, Val Accuracy: 0.88\n",
      "Epoch [480/500], Avg Loss: 1.2168, Val Avg Loss: 1.1999, Accuracy: 0.87, Val Accuracy: 0.88\n",
      "Epoch [481/500], Avg Loss: 1.2130, Val Avg Loss: 1.2159, Accuracy: 0.87, Val Accuracy: 0.88\n",
      "Epoch [482/500], Avg Loss: 1.2282, Val Avg Loss: 1.2589, Accuracy: 0.87, Val Accuracy: 0.88\n",
      "Epoch [483/500], Avg Loss: 1.2681, Val Avg Loss: 1.2836, Accuracy: 0.87, Val Accuracy: 0.88\n",
      "Epoch [484/500], Avg Loss: 1.2612, Val Avg Loss: 1.2530, Accuracy: 0.87, Val Accuracy: 0.88\n",
      "Epoch [485/500], Avg Loss: 1.2437, Val Avg Loss: 1.2281, Accuracy: 0.87, Val Accuracy: 0.88\n",
      "Epoch [486/500], Avg Loss: 1.2527, Val Avg Loss: 1.2313, Accuracy: 0.87, Val Accuracy: 0.88\n",
      "Epoch [487/500], Avg Loss: 1.2314, Val Avg Loss: 1.2150, Accuracy: 0.87, Val Accuracy: 0.88\n",
      "Epoch [488/500], Avg Loss: 1.2216, Val Avg Loss: 1.2268, Accuracy: 0.87, Val Accuracy: 0.88\n",
      "Epoch [489/500], Avg Loss: 1.2300, Val Avg Loss: 1.2176, Accuracy: 0.87, Val Accuracy: 0.88\n",
      "Epoch [490/500], Avg Loss: 1.2515, Val Avg Loss: 1.2273, Accuracy: 0.87, Val Accuracy: 0.88\n",
      "Epoch [491/500], Avg Loss: 1.2205, Val Avg Loss: 1.2090, Accuracy: 0.87, Val Accuracy: 0.88\n",
      "Epoch [492/500], Avg Loss: 1.2107, Val Avg Loss: 1.1946, Accuracy: 0.87, Val Accuracy: 0.88\n",
      "Epoch [493/500], Avg Loss: 1.2170, Val Avg Loss: 1.2013, Accuracy: 0.87, Val Accuracy: 0.88\n",
      "Epoch [494/500], Avg Loss: 1.2165, Val Avg Loss: 1.2274, Accuracy: 0.87, Val Accuracy: 0.88\n",
      "Epoch [495/500], Avg Loss: 1.2253, Val Avg Loss: 1.2029, Accuracy: 0.87, Val Accuracy: 0.88\n",
      "Epoch [496/500], Avg Loss: 1.2206, Val Avg Loss: 1.2190, Accuracy: 0.87, Val Accuracy: 0.88\n",
      "Epoch [497/500], Avg Loss: 1.2227, Val Avg Loss: 1.2232, Accuracy: 0.87, Val Accuracy: 0.88\n",
      "Epoch [498/500], Avg Loss: 1.2313, Val Avg Loss: 1.2194, Accuracy: 0.87, Val Accuracy: 0.88\n",
      "Epoch [499/500], Avg Loss: 1.2280, Val Avg Loss: 1.2175, Accuracy: 0.87, Val Accuracy: 0.88\n",
      "Epoch [500/500], Avg Loss: 1.2147, Val Avg Loss: 1.2112, Accuracy: 0.87, Val Accuracy: 0.88\n"
     ]
    }
   ],
   "source": [
    "# Liste pour stocker la perte moyenne de chaque époque\n",
    "losses = []\n",
    "val_losses = []\n",
    "\n",
    "acc = []\n",
    "val_acc = []\n",
    "\n",
    "num_epochs = 500\n",
    "train_correct = 0 \n",
    "test_correct = 0\n",
    "\n",
    "train_total = 0\n",
    "test_total = 0\n",
    "\n",
    "for epoch in range(num_epochs):\n",
    "    _ = model.train()\n",
    "    running_loss = 0\n",
    "\n",
    "    for i in range(4, 11):\n",
    "        # optimizer.zero_grad()\n",
    "        optimizer.zero_grad()  # Réinitialiser les gradients\n",
    "        outputs = model(X_train_batch[i])  # Passer les données dans le modèle\n",
    "        loss = criterion(outputs, y_train_batch[i])  # Calculer la perte\n",
    "        loss.backward()  # Calculer les gradients\n",
    "        optimizer.step()  # Mettre à jour les paramètres du modèle\n",
    "\n",
    "        train_correct += correct_prediction(outputs, y_train_batch[i])\n",
    "\n",
    "        train_total += y_train_batch[i].size(0)\n",
    "        \n",
    "        running_loss += loss.item()\n",
    "\n",
    "    avg_loss = running_loss / len(X_train_batch)\n",
    "\n",
    "    losses.append(avg_loss)  # Enregistrer la perte moyenne de l'époque\n",
    "    # print(f'Epoch [{epoch+1}/{num_epochs}], Loss: {avg_loss:.4f}')\n",
    "\n",
    "    # Boucle d'évaluation\n",
    "    _ = model.eval()  # Mode évaluation\n",
    "    running_val_loss = 0\n",
    "\n",
    "    with torch.no_grad():  # Pas de calcul de gradients pendant la validation\n",
    "        for i in range(4, 11):\n",
    "            val_outputs = model(X_test_batch[i])  # Passer les données de validation dans le modèle\n",
    "            val_loss = criterion(val_outputs, y_test_batch[i])  # Calculer la perte de validation\n",
    "            running_val_loss += val_loss.item()\n",
    "\n",
    "            test_correct += correct_prediction(val_outputs, y_test_batch[i])\n",
    "\n",
    "            test_total += y_test_batch[i].size(0)\n",
    "\n",
    "    avg_val_loss = running_val_loss / len(X_test_batch)\n",
    "    val_losses.append(avg_val_loss) \n",
    "\n",
    "    acc.append((train_correct/train_total))\n",
    "    val_acc.append((test_correct/test_total))\n",
    "    \n",
    "    print(f'Epoch [{epoch+1}/{num_epochs}], Avg Loss: {avg_loss:.4f}, Val Avg Loss: {avg_val_loss:.4f}, Accuracy: {(train_correct/train_total):.2f}, Val Accuracy: {(test_correct/test_total):.2f}')\n",
    "        "
   ]
  },
  {
   "cell_type": "code",
   "execution_count": 76,
   "metadata": {},
   "outputs": [],
   "source": [
    "# # Boucle d'évaluation\n",
    "#     _ = model.eval()  # Mode évaluation\n",
    "#     with torch.no_grad():\n",
    "#         correct = 0\n",
    "#         total = 0\n",
    "\n",
    "#         for i in range(4, 11):\n",
    "#             test_outputs = model(X_test_batch[i])\n",
    "\n",
    "#             # Trouver l'index du score maximum pour chaque échantillon\n",
    "#             max_indices = torch.argmax(test_outputs, dim=1, keepdim=True)\n",
    "            \n",
    "#             # Créer une matrice de zéros de la même forme que les sorties\n",
    "#             predicted = torch.zeros_like(test_outputs)\n",
    "\n",
    "#             # Mettre l'élément correspondant au score max à 1\n",
    "#             _ = predicted.scatter_(1, max_indices, 1)\n",
    "\n",
    "#             total += y_test_batch[i].size(0)\n",
    "\n",
    "#             correct += (predicted == y_test_batch[i]).all(dim=1).sum().item()\n",
    "\n",
    "#         accuracy = 100 * correct / total\n",
    "#         print(f'Accuracy on test set: {accuracy:.2f}%')"
   ]
  },
  {
   "cell_type": "code",
   "execution_count": 77,
   "metadata": {},
   "outputs": [
    {
     "data": {
      "text/plain": [
       "<Figure size 1440x720 with 0 Axes>"
      ]
     },
     "execution_count": 77,
     "metadata": {},
     "output_type": "execute_result"
    },
    {
     "data": {
      "text/plain": [
       "[<matplotlib.lines.Line2D at 0x1f1464216f0>]"
      ]
     },
     "execution_count": 77,
     "metadata": {},
     "output_type": "execute_result"
    },
    {
     "data": {
      "text/plain": [
       "[<matplotlib.lines.Line2D at 0x1f1464219c0>]"
      ]
     },
     "execution_count": 77,
     "metadata": {},
     "output_type": "execute_result"
    },
    {
     "data": {
      "text/plain": [
       "Text(0.5, 0, 'Epoch')"
      ]
     },
     "execution_count": 77,
     "metadata": {},
     "output_type": "execute_result"
    },
    {
     "data": {
      "text/plain": [
       "Text(0, 0.5, 'Loss')"
      ]
     },
     "execution_count": 77,
     "metadata": {},
     "output_type": "execute_result"
    },
    {
     "data": {
      "text/plain": [
       "Text(0.5, 1.0, 'Evolution of Training and Validation Loss over Epochs')"
      ]
     },
     "execution_count": 77,
     "metadata": {},
     "output_type": "execute_result"
    },
    {
     "data": {
      "text/plain": [
       "<matplotlib.legend.Legend at 0x1f146421ab0>"
      ]
     },
     "execution_count": 77,
     "metadata": {},
     "output_type": "execute_result"
    },
    {
     "data": {
      "image/png": "[encoded data removed]",
      "text/plain": [
       "<Figure size 1440x720 with 1 Axes>"
      ]
     },
     "metadata": {
      "needs_background": "light"
     },
     "output_type": "display_data"
    }
   ],
   "source": [
    "import matplotlib.pyplot as plt\n",
    "\n",
    "# Exemple de code pour afficher les courbes de perte d'entraînement et de validation\n",
    "plt.figure(figsize=(20, 10))\n",
    "\n",
    "# Courbe de perte d'entraînement\n",
    "plt.plot(range(1, num_epochs + 1), losses, marker='o', label='Training Loss')\n",
    "\n",
    "# Courbe de perte de validation\n",
    "plt.plot(range(1, num_epochs + 1), val_losses, marker='*', label='Validation Loss')\n",
    "\n",
    "plt.xlabel('Epoch')\n",
    "plt.ylabel('Loss')\n",
    "plt.title('Evolution of Training and Validation Loss over Epochs')\n",
    "plt.legend()\n",
    "plt.grid(True)\n",
    "plt.show()\n"
   ]
  },
  {
   "cell_type": "code",
   "execution_count": 78,
   "metadata": {},
   "outputs": [
    {
     "data": {
      "text/plain": [
       "<Figure size 1440x432 with 0 Axes>"
      ]
     },
     "execution_count": 78,
     "metadata": {},
     "output_type": "execute_result"
    },
    {
     "data": {
      "text/plain": [
       "[<matplotlib.lines.Line2D at 0x1f146493b20>]"
      ]
     },
     "execution_count": 78,
     "metadata": {},
     "output_type": "execute_result"
    },
    {
     "data": {
      "text/plain": [
       "[<matplotlib.lines.Line2D at 0x1f146493e80>]"
      ]
     },
     "execution_count": 78,
     "metadata": {},
     "output_type": "execute_result"
    },
    {
     "data": {
      "text/plain": [
       "Text(0.5, 0, 'Epoch')"
      ]
     },
     "execution_count": 78,
     "metadata": {},
     "output_type": "execute_result"
    },
    {
     "data": {
      "text/plain": [
       "Text(0, 0.5, 'Precision')"
      ]
     },
     "execution_count": 78,
     "metadata": {},
     "output_type": "execute_result"
    },
    {
     "data": {
      "text/plain": [
       "Text(0.5, 1.0, 'Evolution of Precision over Epochs')"
      ]
     },
     "execution_count": 78,
     "metadata": {},
     "output_type": "execute_result"
    },
    {
     "data": {
      "text/plain": [
       "<matplotlib.legend.Legend at 0x1f1463ed660>"
      ]
     },
     "execution_count": 78,
     "metadata": {},
     "output_type": "execute_result"
    },
    {
     "data": {
      "image/png": "[encoded data removed]",
      "text/plain": [
       "<Figure size 1440x432 with 1 Axes>"
      ]
     },
     "metadata": {
      "needs_background": "light"
     },
     "output_type": "display_data"
    }
   ],
   "source": [
    "# Tracé des courbes de précision\n",
    "\n",
    "\n",
    "plt.figure(figsize=(20, 6))\n",
    "\n",
    "plt.plot(range(1, num_epochs + 1), acc, label='Training Precision')\n",
    "plt.plot(range(1, num_epochs + 1), val_acc, label='Validation Precision')\n",
    "\n",
    "plt.xlabel('Epoch')\n",
    "plt.ylabel('Precision')\n",
    "plt.title('Evolution of Precision over Epochs')\n",
    "plt.legend()\n",
    "plt.grid(True)\n",
    "plt.show()"
   ]
  },
  {
   "cell_type": "code",
   "execution_count": 79,
   "metadata": {},
   "outputs": [],
   "source": [
    "torch.save(model.state_dict, 'model_weights.pth')"
   ]
  },
  {
   "cell_type": "code",
   "execution_count": 80,
   "metadata": {},
   "outputs": [],
   "source": [
    "def not_zero_req(req):\n",
    "    return torch.any(req != 0).item()\n",
    "\n",
    "def count_non_zero_requests(composition):\n",
    "    return sum(not_zero_req(req) for req in composition)\n",
    "\n",
    "def mean_non_zero_in_batch(batch):\n",
    "    non_zero_counts = [count_non_zero_requests(comp) for comp in batch]\n",
    "    return sum(non_zero_counts) / len(batch)"
   ]
  },
  {
   "cell_type": "code",
   "execution_count": 81,
   "metadata": {},
   "outputs": [
    {
     "data": {
      "text/plain": [
       "4.0"
      ]
     },
     "execution_count": 81,
     "metadata": {},
     "output_type": "execute_result"
    }
   ],
   "source": [
    "mean_non_zero_in_batch(batch_x_train[4])"
   ]
  },
  {
   "cell_type": "code",
   "execution_count": 82,
   "metadata": {},
   "outputs": [],
   "source": [
    "def is_comp_null(comp):\n",
    "    return torch.all(comp == 0).item()"
   ]
  },
  {
   "cell_type": "code",
   "execution_count": 83,
   "metadata": {},
   "outputs": [],
   "source": [
    "tensor_test = torch.Tensor(pre_X_train_batch[4][0])"
   ]
  },
  {
   "cell_type": "code",
   "execution_count": 84,
   "metadata": {},
   "outputs": [
    {
     "data": {
      "text/plain": [
       "False"
      ]
     },
     "execution_count": 84,
     "metadata": {},
     "output_type": "execute_result"
    }
   ],
   "source": [
    "is_comp_null(tensor_test)"
   ]
  },
  {
   "cell_type": "markdown",
   "metadata": {},
   "source": [
    "#### 2e test"
   ]
  },
  {
   "cell_type": "code",
   "execution_count": 85,
   "metadata": {},
   "outputs": [],
   "source": [
    "def convert_to_one_hot(probs):\n",
    "    # Trouver l'indice de la plus grande probabilité le long de la première dimension\n",
    "    max_index = torch.argmax(probs, dim=0)\n",
    "    \n",
    "    # Créer un vecteur de zéros de la même taille que probs\n",
    "    one_hot = torch.zeros_like(probs)\n",
    "    \n",
    "    # Mettre 1 à l'indice de la plus grande probabilité\n",
    "    one_hot[max_index] = 1\n",
    "    \n",
    "    return one_hot"
   ]
  },
  {
   "cell_type": "code",
   "execution_count": 86,
   "metadata": {},
   "outputs": [
    {
     "data": {
      "text/plain": [
       "tensor([[0.],\n",
       "        [0.],\n",
       "        [0.],\n",
       "        [1.]])"
      ]
     },
     "execution_count": 86,
     "metadata": {},
     "output_type": "execute_result"
    }
   ],
   "source": [
    "convert_to_one_hot(torch.Tensor([[0.6], [0.2], [0.2], [0.7]]))"
   ]
  },
  {
   "cell_type": "code",
   "execution_count": 87,
   "metadata": {},
   "outputs": [
    {
     "data": {
      "text/plain": [
       "tensor([[1.],\n",
       "        [0.],\n",
       "        [0.],\n",
       "        [0.]])"
      ]
     },
     "execution_count": 87,
     "metadata": {},
     "output_type": "execute_result"
    }
   ],
   "source": [
    "convert_to_one_hot(torch.tensor([[1.],\n",
    "        [1.],\n",
    "        [1.],\n",
    "        [1.]]))"
   ]
  },
  {
   "cell_type": "code",
   "execution_count": 107,
   "metadata": {},
   "outputs": [],
   "source": [
    "def get_selected_request(composition, prob):\n",
    "    index = next(i for i, val in enumerate(prob) if val[0]==1)\n",
    "    return composition[index]\n",
    "\n",
    "def get_all_selected_request(composition, selected_reqs):\n",
    "    indices = [i for i,val in enumerate(selected_reqs) if val[0]==1]\n",
    "    return [composition[i] for i in indices]"
   ]
  },
  {
   "cell_type": "code",
   "execution_count": 89,
   "metadata": {},
   "outputs": [
    {
     "data": {
      "text/html": [
       "<div>\n",
       "<style scoped>\n",
       "    .dataframe tbody tr th:only-of-type {\n",
       "        vertical-align: middle;\n",
       "    }\n",
       "\n",
       "    .dataframe tbody tr th {\n",
       "        vertical-align: top;\n",
       "    }\n",
       "\n",
       "    .dataframe thead th {\n",
       "        text-align: right;\n",
       "    }\n",
       "</style>\n",
       "<table border=\"1\" class=\"dataframe\">\n",
       "  <thead>\n",
       "    <tr style=\"text-align: right;\">\n",
       "      <th></th>\n",
       "      <th>0</th>\n",
       "      <th>1</th>\n",
       "      <th>2</th>\n",
       "      <th>3</th>\n",
       "      <th>4</th>\n",
       "      <th>5</th>\n",
       "      <th>6</th>\n",
       "      <th>7</th>\n",
       "      <th>8</th>\n",
       "      <th>9</th>\n",
       "      <th>10</th>\n",
       "      <th>11</th>\n",
       "    </tr>\n",
       "  </thead>\n",
       "  <tbody>\n",
       "    <tr>\n",
       "      <th>0</th>\n",
       "      <td>1.0</td>\n",
       "      <td>5.217464</td>\n",
       "      <td>29.0</td>\n",
       "      <td>39.0</td>\n",
       "      <td>1.469157</td>\n",
       "      <td>43.564952</td>\n",
       "      <td>4.854713</td>\n",
       "      <td>-0.456051</td>\n",
       "      <td>1.0</td>\n",
       "      <td>0.11</td>\n",
       "      <td>-15.80</td>\n",
       "      <td>-75.885219</td>\n",
       "    </tr>\n",
       "    <tr>\n",
       "      <th>1</th>\n",
       "      <td>1.0</td>\n",
       "      <td>3.819731</td>\n",
       "      <td>56.0</td>\n",
       "      <td>68.0</td>\n",
       "      <td>1.468057</td>\n",
       "      <td>43.566672</td>\n",
       "      <td>5.013065</td>\n",
       "      <td>0.494465</td>\n",
       "      <td>1.0</td>\n",
       "      <td>0.94</td>\n",
       "      <td>-5.59</td>\n",
       "      <td>-54.801720</td>\n",
       "    </tr>\n",
       "    <tr>\n",
       "      <th>2</th>\n",
       "      <td>2.0</td>\n",
       "      <td>10.020561</td>\n",
       "      <td>40.0</td>\n",
       "      <td>52.0</td>\n",
       "      <td>1.468681</td>\n",
       "      <td>43.566002</td>\n",
       "      <td>18.192735</td>\n",
       "      <td>2.236198</td>\n",
       "      <td>0.0</td>\n",
       "      <td>0.55</td>\n",
       "      <td>1.00</td>\n",
       "      <td>17.968881</td>\n",
       "    </tr>\n",
       "    <tr>\n",
       "      <th>3</th>\n",
       "      <td>3.0</td>\n",
       "      <td>0.000000</td>\n",
       "      <td>38.0</td>\n",
       "      <td>44.0</td>\n",
       "      <td>1.469282</td>\n",
       "      <td>43.564997</td>\n",
       "      <td>5.542980</td>\n",
       "      <td>1.646563</td>\n",
       "      <td>0.0</td>\n",
       "      <td>0.62</td>\n",
       "      <td>-30.02</td>\n",
       "      <td>-10.575520</td>\n",
       "    </tr>\n",
       "  </tbody>\n",
       "</table>\n",
       "</div>"
      ],
      "text/plain": [
       "    0          1     2     3         4          5          6         7    8   \\\n",
       "0  1.0   5.217464  29.0  39.0  1.469157  43.564952   4.854713 -0.456051  1.0   \n",
       "1  1.0   3.819731  56.0  68.0  1.468057  43.566672   5.013065  0.494465  1.0   \n",
       "2  2.0  10.020561  40.0  52.0  1.468681  43.566002  18.192735  2.236198  0.0   \n",
       "3  3.0   0.000000  38.0  44.0  1.469282  43.564997   5.542980  1.646563  0.0   \n",
       "\n",
       "     9      10         11  \n",
       "0  0.11 -15.80 -75.885219  \n",
       "1  0.94  -5.59 -54.801720  \n",
       "2  0.55   1.00  17.968881  \n",
       "3  0.62 -30.02 -10.575520  "
      ]
     },
     "execution_count": 89,
     "metadata": {},
     "output_type": "execute_result"
    }
   ],
   "source": [
    "pd.DataFrame(pre_X_train_batch[4][0])"
   ]
  },
  {
   "cell_type": "code",
   "execution_count": 130,
   "metadata": {},
   "outputs": [],
   "source": [
    "def prediction(composition: list):\n",
    "    selected_requests = [[0]] * len(composition)\n",
    "    current_select = []\n",
    "    current_score = - math.inf\n",
    "\n",
    "    while not is_comp_null(torch.Tensor(composition)):\n",
    "\n",
    "        composition = filter_requests_list(composition, selected_requests)\n",
    "        # print(pd.DataFrame(composition))\n",
    "        step_selected_request = convert_to_one_hot(model(torch.Tensor(composition).unsqueeze(0))[0])\n",
    "\n",
    "        # print(step_selected_request)\n",
    "\n",
    "        current_select.append(get_selected_request(composition, step_selected_request.tolist()))\n",
    "\n",
    "        new_score = sum(objectif(current_select, 0.01, 0.5, 0.5))\n",
    "\n",
    "        # print(objectif(current_select, 0.01, 0.5, 0.5))\n",
    "        # print(sum(objectif(current_select, 0.01, 0.5, 0.5)))\n",
    "\n",
    "        # print(f\"New score : {new_score}, Current score: {current_score}\")\n",
    "        if new_score > current_score:\n",
    "            current_score = new_score\n",
    "            selected_requests = (torch.Tensor(selected_requests) + step_selected_request).tolist()\n",
    "\n",
    "        else: \n",
    "            break\n",
    "        \n",
    "\n",
    "    return selected_requests"
   ]
  },
  {
   "cell_type": "code",
   "execution_count": 131,
   "metadata": {},
   "outputs": [
    {
     "data": {
      "text/plain": [
       "[[0.0], [1.0], [1.0], [0.0], [1.0]]"
      ]
     },
     "execution_count": 131,
     "metadata": {},
     "output_type": "execute_result"
    }
   ],
   "source": [
    "prediction(pre_X_test_batch[5][10])"
   ]
  },
  {
   "cell_type": "code",
   "execution_count": 109,
   "metadata": {},
   "outputs": [
    {
     "data": {
      "text/plain": [
       "[[[0], [1], [0], [0], [0]],\n",
       " [[0], [0], [1], [0], [0]],\n",
       " [[0], [0], [0], [0], [1]],\n",
       " [[0], [0], [0], [0], [0]],\n",
       " [[0], [0], [0], [0], [0]]]"
      ]
     },
     "execution_count": 109,
     "metadata": {},
     "output_type": "execute_result"
    }
   ],
   "source": [
    "pre_y_test_batch[5][10]"
   ]
  },
  {
   "cell_type": "code",
   "execution_count": 118,
   "metadata": {},
   "outputs": [],
   "source": [
    "def get_all_output_vector(true_output):\n",
    "    output_array = np.array(true_output)\n",
    "    return output_array.sum(axis=0).tolist()"
   ]
  },
  {
   "cell_type": "code",
   "execution_count": 119,
   "metadata": {},
   "outputs": [
    {
     "data": {
      "text/plain": [
       "[[0], [1], [1], [0], [1]]"
      ]
     },
     "execution_count": 119,
     "metadata": {},
     "output_type": "execute_result"
    }
   ],
   "source": [
    "get_all_output_vector(pre_y_test_batch[5][10])"
   ]
  },
  {
   "cell_type": "code",
   "execution_count": 132,
   "metadata": {},
   "outputs": [],
   "source": [
    "true_test_score = {}\n",
    "\n",
    "def compute_true_score(batch, batch_output):\n",
    "    true_score = []\n",
    "    for input, output in zip(batch, batch_output):\n",
    "        output_vector = get_all_output_vector(output)\n",
    "        true_selected_requests = get_all_selected_request(input, output_vector)\n",
    "\n",
    "        true_score.append(sum(objectif(true_selected_requests, 0.01, 0.5, 0.5)))\n",
    "\n",
    "    return true_score\n",
    "\n",
    "def compute_predicted_score(batch):\n",
    "    predicted_score = []\n",
    "    for i in range(len(batch)):\n",
    "        output_vector = prediction(batch[i])\n",
    "        predicted_selected_requests = get_all_selected_request(batch[i], output_vector)\n",
    "\n",
    "        predicted_score.append(sum(objectif(predicted_selected_requests, 0.01, 0.5, 0.5)))\n",
    "\n",
    "    return predicted_score\n",
    "\n",
    "        "
   ]
  },
  {
   "cell_type": "code",
   "execution_count": 156,
   "metadata": {},
   "outputs": [],
   "source": [
    "pred = compute_predicted_score(pre_X_test_batch[10])"
   ]
  },
  {
   "cell_type": "code",
   "execution_count": 157,
   "metadata": {},
   "outputs": [],
   "source": [
    "real = compute_true_score(pre_X_test_batch[10], pre_y_test_batch[10])"
   ]
  },
  {
   "cell_type": "code",
   "execution_count": 160,
   "metadata": {},
   "outputs": [],
   "source": [
    "predicted_scores = {}\n",
    "real_scores = {}\n",
    "\n",
    "for i in range(4, 11):\n",
    "    predicted_scores[i] = compute_predicted_score(pre_X_test_batch[i])\n",
    "\n",
    "    real_scores[i] = compute_true_score(pre_X_test_batch[i], pre_y_test_batch[i])"
   ]
  },
  {
   "cell_type": "code",
   "execution_count": 161,
   "metadata": {},
   "outputs": [
    {
     "data": {
      "text/plain": [
       "<Figure size 720x432 with 0 Axes>"
      ]
     },
     "execution_count": 161,
     "metadata": {},
     "output_type": "execute_result"
    },
    {
     "data": {
      "text/plain": [
       "[<matplotlib.lines.Line2D at 0x1f1496c2650>]"
      ]
     },
     "execution_count": 161,
     "metadata": {},
     "output_type": "execute_result"
    },
    {
     "data": {
      "text/plain": [
       "[<matplotlib.lines.Line2D at 0x1f1496c2a10>]"
      ]
     },
     "execution_count": 161,
     "metadata": {},
     "output_type": "execute_result"
    },
    {
     "data": {
      "text/plain": [
       "Text(0.5, 1.0, 'Comparaison')"
      ]
     },
     "execution_count": 161,
     "metadata": {},
     "output_type": "execute_result"
    },
    {
     "data": {
      "text/plain": [
       "Text(0.5, 0, 'Echantillons')"
      ]
     },
     "execution_count": 161,
     "metadata": {},
     "output_type": "execute_result"
    },
    {
     "data": {
      "text/plain": [
       "Text(0, 0.5, 'Scores')"
      ]
     },
     "execution_count": 161,
     "metadata": {},
     "output_type": "execute_result"
    },
    {
     "data": {
      "text/plain": [
       "<matplotlib.legend.Legend at 0x1f1496c2800>"
      ]
     },
     "execution_count": 161,
     "metadata": {},
     "output_type": "execute_result"
    },
    {
     "data": {
      "image/png": "[encoded data removed]",
      "text/plain": [
       "<Figure size 720x432 with 1 Axes>"
      ]
     },
     "metadata": {
      "needs_background": "light"
     },
     "output_type": "display_data"
    }
   ],
   "source": [
    "plt.figure(figsize=(10,6))\n",
    "plt.plot(predicted_scores[10], label='Scores predits', marker='o')\n",
    "\n",
    "plt.plot(real_scores[10], label='Scores reels', marker='x')\n",
    "\n",
    "plt.title('Comparaison score reel vs predite')\n",
    "plt.xlabel('Echantillons')\n",
    "plt.ylabel('Scores')\n",
    "plt.legend()\n",
    "\n",
    "plt.show()"
   ]
  },
  {
   "cell_type": "code",
   "execution_count": 171,
   "metadata": {},
   "outputs": [
    {
     "data": {
      "text/plain": [
       "<Figure size 1440x720 with 0 Axes>"
      ]
     },
     "execution_count": 171,
     "metadata": {},
     "output_type": "execute_result"
    },
    {
     "data": {
      "text/plain": [
       "<AxesSubplot:>"
      ]
     },
     "execution_count": 171,
     "metadata": {},
     "output_type": "execute_result"
    },
    {
     "data": {
      "text/plain": [
       "[<matplotlib.lines.Line2D at 0x1f14f5e6d10>]"
      ]
     },
     "execution_count": 171,
     "metadata": {},
     "output_type": "execute_result"
    },
    {
     "data": {
      "text/plain": [
       "[<matplotlib.lines.Line2D at 0x1f14f5e70a0>]"
      ]
     },
     "execution_count": 171,
     "metadata": {},
     "output_type": "execute_result"
    },
    {
     "data": {
      "text/plain": [
       "Text(0.5, 1.0, 'Comparaison score réel vs prédit pour 4 requêtes')"
      ]
     },
     "execution_count": 171,
     "metadata": {},
     "output_type": "execute_result"
    },
    {
     "data": {
      "text/plain": [
       "Text(0.5, 0, 'Échantillons')"
      ]
     },
     "execution_count": 171,
     "metadata": {},
     "output_type": "execute_result"
    },
    {
     "data": {
      "text/plain": [
       "Text(0, 0.5, 'Scores')"
      ]
     },
     "execution_count": 171,
     "metadata": {},
     "output_type": "execute_result"
    },
    {
     "data": {
      "text/plain": [
       "<matplotlib.legend.Legend at 0x1f14f5e6bc0>"
      ]
     },
     "execution_count": 171,
     "metadata": {},
     "output_type": "execute_result"
    },
    {
     "data": {
      "text/plain": [
       "<AxesSubplot:>"
      ]
     },
     "execution_count": 171,
     "metadata": {},
     "output_type": "execute_result"
    },
    {
     "data": {
      "text/plain": [
       "[<matplotlib.lines.Line2D at 0x1f14f6359f0>]"
      ]
     },
     "execution_count": 171,
     "metadata": {},
     "output_type": "execute_result"
    },
    {
     "data": {
      "text/plain": [
       "[<matplotlib.lines.Line2D at 0x1f14f635db0>]"
      ]
     },
     "execution_count": 171,
     "metadata": {},
     "output_type": "execute_result"
    },
    {
     "data": {
      "text/plain": [
       "Text(0.5, 1.0, 'Comparaison score réel vs prédit pour 5 requêtes')"
      ]
     },
     "execution_count": 171,
     "metadata": {},
     "output_type": "execute_result"
    },
    {
     "data": {
      "text/plain": [
       "Text(0.5, 0, 'Échantillons')"
      ]
     },
     "execution_count": 171,
     "metadata": {},
     "output_type": "execute_result"
    },
    {
     "data": {
      "text/plain": [
       "Text(0, 0.5, 'Scores')"
      ]
     },
     "execution_count": 171,
     "metadata": {},
     "output_type": "execute_result"
    },
    {
     "data": {
      "text/plain": [
       "<matplotlib.legend.Legend at 0x1f14f635c00>"
      ]
     },
     "execution_count": 171,
     "metadata": {},
     "output_type": "execute_result"
    },
    {
     "data": {
      "text/plain": [
       "<AxesSubplot:>"
      ]
     },
     "execution_count": 171,
     "metadata": {},
     "output_type": "execute_result"
    },
    {
     "data": {
      "text/plain": [
       "[<matplotlib.lines.Line2D at 0x1f14ed807f0>]"
      ]
     },
     "execution_count": 171,
     "metadata": {},
     "output_type": "execute_result"
    },
    {
     "data": {
      "text/plain": [
       "[<matplotlib.lines.Line2D at 0x1f14ed80bb0>]"
      ]
     },
     "execution_count": 171,
     "metadata": {},
     "output_type": "execute_result"
    },
    {
     "data": {
      "text/plain": [
       "Text(0.5, 1.0, 'Comparaison score réel vs prédit pour 6 requêtes')"
      ]
     },
     "execution_count": 171,
     "metadata": {},
     "output_type": "execute_result"
    },
    {
     "data": {
      "text/plain": [
       "Text(0.5, 0, 'Échantillons')"
      ]
     },
     "execution_count": 171,
     "metadata": {},
     "output_type": "execute_result"
    },
    {
     "data": {
      "text/plain": [
       "Text(0, 0.5, 'Scores')"
      ]
     },
     "execution_count": 171,
     "metadata": {},
     "output_type": "execute_result"
    },
    {
     "data": {
      "text/plain": [
       "<matplotlib.legend.Legend at 0x1f14ed5a440>"
      ]
     },
     "execution_count": 171,
     "metadata": {},
     "output_type": "execute_result"
    },
    {
     "data": {
      "text/plain": [
       "<AxesSubplot:>"
      ]
     },
     "execution_count": 171,
     "metadata": {},
     "output_type": "execute_result"
    },
    {
     "data": {
      "text/plain": [
       "[<matplotlib.lines.Line2D at 0x1f14eda6f20>]"
      ]
     },
     "execution_count": 171,
     "metadata": {},
     "output_type": "execute_result"
    },
    {
     "data": {
      "text/plain": [
       "[<matplotlib.lines.Line2D at 0x1f14eda7310>]"
      ]
     },
     "execution_count": 171,
     "metadata": {},
     "output_type": "execute_result"
    },
    {
     "data": {
      "text/plain": [
       "Text(0.5, 1.0, 'Comparaison score réel vs prédit pour 7 requêtes')"
      ]
     },
     "execution_count": 171,
     "metadata": {},
     "output_type": "execute_result"
    },
    {
     "data": {
      "text/plain": [
       "Text(0.5, 0, 'Échantillons')"
      ]
     },
     "execution_count": 171,
     "metadata": {},
     "output_type": "execute_result"
    },
    {
     "data": {
      "text/plain": [
       "Text(0, 0.5, 'Scores')"
      ]
     },
     "execution_count": 171,
     "metadata": {},
     "output_type": "execute_result"
    },
    {
     "data": {
      "text/plain": [
       "<matplotlib.legend.Legend at 0x1f14ed81c00>"
      ]
     },
     "execution_count": 171,
     "metadata": {},
     "output_type": "execute_result"
    },
    {
     "data": {
      "text/plain": [
       "<AxesSubplot:>"
      ]
     },
     "execution_count": 171,
     "metadata": {},
     "output_type": "execute_result"
    },
    {
     "data": {
      "text/plain": [
       "[<matplotlib.lines.Line2D at 0x1f14edf5ed0>]"
      ]
     },
     "execution_count": 171,
     "metadata": {},
     "output_type": "execute_result"
    },
    {
     "data": {
      "text/plain": [
       "[<matplotlib.lines.Line2D at 0x1f14edf6170>]"
      ]
     },
     "execution_count": 171,
     "metadata": {},
     "output_type": "execute_result"
    },
    {
     "data": {
      "text/plain": [
       "Text(0.5, 1.0, 'Comparaison score réel vs prédit pour 8 requêtes')"
      ]
     },
     "execution_count": 171,
     "metadata": {},
     "output_type": "execute_result"
    },
    {
     "data": {
      "text/plain": [
       "Text(0.5, 0, 'Échantillons')"
      ]
     },
     "execution_count": 171,
     "metadata": {},
     "output_type": "execute_result"
    },
    {
     "data": {
      "text/plain": [
       "Text(0, 0.5, 'Scores')"
      ]
     },
     "execution_count": 171,
     "metadata": {},
     "output_type": "execute_result"
    },
    {
     "data": {
      "text/plain": [
       "<matplotlib.legend.Legend at 0x1f14eddb8b0>"
      ]
     },
     "execution_count": 171,
     "metadata": {},
     "output_type": "execute_result"
    },
    {
     "data": {
      "text/plain": [
       "<AxesSubplot:>"
      ]
     },
     "execution_count": 171,
     "metadata": {},
     "output_type": "execute_result"
    },
    {
     "data": {
      "text/plain": [
       "[<matplotlib.lines.Line2D at 0x1f14ee50d60>]"
      ]
     },
     "execution_count": 171,
     "metadata": {},
     "output_type": "execute_result"
    },
    {
     "data": {
      "text/plain": [
       "[<matplotlib.lines.Line2D at 0x1f14ee51060>]"
      ]
     },
     "execution_count": 171,
     "metadata": {},
     "output_type": "execute_result"
    },
    {
     "data": {
      "text/plain": [
       "Text(0.5, 1.0, 'Comparaison score réel vs prédit pour 9 requêtes')"
      ]
     },
     "execution_count": 171,
     "metadata": {},
     "output_type": "execute_result"
    },
    {
     "data": {
      "text/plain": [
       "Text(0.5, 0, 'Échantillons')"
      ]
     },
     "execution_count": 171,
     "metadata": {},
     "output_type": "execute_result"
    },
    {
     "data": {
      "text/plain": [
       "Text(0, 0.5, 'Scores')"
      ]
     },
     "execution_count": 171,
     "metadata": {},
     "output_type": "execute_result"
    },
    {
     "data": {
      "text/plain": [
       "<matplotlib.legend.Legend at 0x1f14ee32440>"
      ]
     },
     "execution_count": 171,
     "metadata": {},
     "output_type": "execute_result"
    },
    {
     "data": {
      "text/plain": [
       "<AxesSubplot:>"
      ]
     },
     "execution_count": 171,
     "metadata": {},
     "output_type": "execute_result"
    },
    {
     "data": {
      "text/plain": [
       "[<matplotlib.lines.Line2D at 0x1f14ee834f0>]"
      ]
     },
     "execution_count": 171,
     "metadata": {},
     "output_type": "execute_result"
    },
    {
     "data": {
      "text/plain": [
       "[<matplotlib.lines.Line2D at 0x1f14ee838e0>]"
      ]
     },
     "execution_count": 171,
     "metadata": {},
     "output_type": "execute_result"
    },
    {
     "data": {
      "text/plain": [
       "Text(0.5, 1.0, 'Comparaison score réel vs prédit pour 10 requêtes')"
      ]
     },
     "execution_count": 171,
     "metadata": {},
     "output_type": "execute_result"
    },
    {
     "data": {
      "text/plain": [
       "Text(0.5, 0, 'Échantillons')"
      ]
     },
     "execution_count": 171,
     "metadata": {},
     "output_type": "execute_result"
    },
    {
     "data": {
      "text/plain": [
       "Text(0, 0.5, 'Scores')"
      ]
     },
     "execution_count": 171,
     "metadata": {},
     "output_type": "execute_result"
    },
    {
     "data": {
      "text/plain": [
       "<matplotlib.legend.Legend at 0x1f14ee50b50>"
      ]
     },
     "execution_count": 171,
     "metadata": {},
     "output_type": "execute_result"
    },
    {
     "data": {
      "image/png": "[encoded data removed]",
      "text/plain": [
       "<Figure size 1440x720 with 7 Axes>"
      ]
     },
     "metadata": {
      "needs_background": "light"
     },
     "output_type": "display_data"
    }
   ],
   "source": [
    "num_plots = len(predicted_scores)  # Le nombre total de sous-graphiques\n",
    "num_cols = 4  # Nombre de colonnes\n",
    "num_rows = 2  # Nombre de lignes\n",
    "\n",
    "plt.figure(figsize=(20, 10))  # Ajustez la taille de la figure\n",
    "\n",
    "for idx, i in enumerate(predicted_scores.keys()):\n",
    "    plt.subplot(num_rows, num_cols, idx + 1)  # Crée un sous-graphe dans une grille de 2 lignes et 4 colonnes\n",
    "    plt.plot(predicted_scores[i], label='Scores prédits', marker='o')\n",
    "    plt.plot(real_scores[i], label='Scores réels', marker='x')\n",
    "\n",
    "    plt.title(f'Comparaison score réel vs prédit pour {i} requêtes')\n",
    "    plt.xlabel('Échantillons')\n",
    "    plt.ylabel('Scores')\n",
    "    plt.legend()\n",
    "\n",
    "plt.tight_layout()  # Ajuste l'espacement entre les sous-graphiques\n",
    "plt.show()"
   ]
  },
  {
   "cell_type": "code",
   "execution_count": 169,
   "metadata": {},
   "outputs": [
    {
     "data": {
      "text/plain": [
       "<Figure size 1440x720 with 0 Axes>"
      ]
     },
     "execution_count": 169,
     "metadata": {},
     "output_type": "execute_result"
    },
    {
     "data": {
      "text/plain": [
       "<AxesSubplot:>"
      ]
     },
     "execution_count": 169,
     "metadata": {},
     "output_type": "execute_result"
    },
    {
     "data": {
      "text/plain": [
       "[<matplotlib.lines.Line2D at 0x1f14c3962c0>]"
      ]
     },
     "execution_count": 169,
     "metadata": {},
     "output_type": "execute_result"
    },
    {
     "data": {
      "text/plain": [
       "[<matplotlib.lines.Line2D at 0x1f14c396470>]"
      ]
     },
     "execution_count": 169,
     "metadata": {},
     "output_type": "execute_result"
    },
    {
     "data": {
      "text/plain": [
       "Text(0.5, 1.0, \"Comparaison score réel vs prédit pour l'indice 4\")"
      ]
     },
     "execution_count": 169,
     "metadata": {},
     "output_type": "execute_result"
    },
    {
     "data": {
      "text/plain": [
       "Text(0.5, 0, 'Échantillons')"
      ]
     },
     "execution_count": 169,
     "metadata": {},
     "output_type": "execute_result"
    },
    {
     "data": {
      "text/plain": [
       "Text(0, 0.5, 'Scores')"
      ]
     },
     "execution_count": 169,
     "metadata": {},
     "output_type": "execute_result"
    },
    {
     "data": {
      "text/plain": [
       "<AxesSubplot:>"
      ]
     },
     "execution_count": 169,
     "metadata": {},
     "output_type": "execute_result"
    },
    {
     "data": {
      "text/plain": [
       "[<matplotlib.lines.Line2D at 0x1f14c3c7c40>]"
      ]
     },
     "execution_count": 169,
     "metadata": {},
     "output_type": "execute_result"
    },
    {
     "data": {
      "text/plain": [
       "[<matplotlib.lines.Line2D at 0x1f14c3f00a0>]"
      ]
     },
     "execution_count": 169,
     "metadata": {},
     "output_type": "execute_result"
    },
    {
     "data": {
      "text/plain": [
       "Text(0.5, 1.0, \"Comparaison score réel vs prédit pour l'indice 5\")"
      ]
     },
     "execution_count": 169,
     "metadata": {},
     "output_type": "execute_result"
    },
    {
     "data": {
      "text/plain": [
       "Text(0.5, 0, 'Échantillons')"
      ]
     },
     "execution_count": 169,
     "metadata": {},
     "output_type": "execute_result"
    },
    {
     "data": {
      "text/plain": [
       "Text(0, 0.5, 'Scores')"
      ]
     },
     "execution_count": 169,
     "metadata": {},
     "output_type": "execute_result"
    },
    {
     "data": {
      "text/plain": [
       "<AxesSubplot:>"
      ]
     },
     "execution_count": 169,
     "metadata": {},
     "output_type": "execute_result"
    },
    {
     "data": {
      "text/plain": [
       "[<matplotlib.lines.Line2D at 0x1f14c4159f0>]"
      ]
     },
     "execution_count": 169,
     "metadata": {},
     "output_type": "execute_result"
    },
    {
     "data": {
      "text/plain": [
       "[<matplotlib.lines.Line2D at 0x1f14c415cf0>]"
      ]
     },
     "execution_count": 169,
     "metadata": {},
     "output_type": "execute_result"
    },
    {
     "data": {
      "text/plain": [
       "Text(0.5, 1.0, \"Comparaison score réel vs prédit pour l'indice 6\")"
      ]
     },
     "execution_count": 169,
     "metadata": {},
     "output_type": "execute_result"
    },
    {
     "data": {
      "text/plain": [
       "Text(0.5, 0, 'Échantillons')"
      ]
     },
     "execution_count": 169,
     "metadata": {},
     "output_type": "execute_result"
    },
    {
     "data": {
      "text/plain": [
       "Text(0, 0.5, 'Scores')"
      ]
     },
     "execution_count": 169,
     "metadata": {},
     "output_type": "execute_result"
    },
    {
     "data": {
      "text/plain": [
       "<AxesSubplot:>"
      ]
     },
     "execution_count": 169,
     "metadata": {},
     "output_type": "execute_result"
    },
    {
     "data": {
      "text/plain": [
       "[<matplotlib.lines.Line2D at 0x1f14c4475e0>]"
      ]
     },
     "execution_count": 169,
     "metadata": {},
     "output_type": "execute_result"
    },
    {
     "data": {
      "text/plain": [
       "[<matplotlib.lines.Line2D at 0x1f14c4479d0>]"
      ]
     },
     "execution_count": 169,
     "metadata": {},
     "output_type": "execute_result"
    },
    {
     "data": {
      "text/plain": [
       "Text(0.5, 1.0, \"Comparaison score réel vs prédit pour l'indice 7\")"
      ]
     },
     "execution_count": 169,
     "metadata": {},
     "output_type": "execute_result"
    },
    {
     "data": {
      "text/plain": [
       "Text(0.5, 0, 'Échantillons')"
      ]
     },
     "execution_count": 169,
     "metadata": {},
     "output_type": "execute_result"
    },
    {
     "data": {
      "text/plain": [
       "Text(0, 0.5, 'Scores')"
      ]
     },
     "execution_count": 169,
     "metadata": {},
     "output_type": "execute_result"
    },
    {
     "data": {
      "text/plain": [
       "<AxesSubplot:>"
      ]
     },
     "execution_count": 169,
     "metadata": {},
     "output_type": "execute_result"
    },
    {
     "data": {
      "text/plain": [
       "[<matplotlib.lines.Line2D at 0x1f14c4951b0>]"
      ]
     },
     "execution_count": 169,
     "metadata": {},
     "output_type": "execute_result"
    },
    {
     "data": {
      "text/plain": [
       "[<matplotlib.lines.Line2D at 0x1f14c4954b0>]"
      ]
     },
     "execution_count": 169,
     "metadata": {},
     "output_type": "execute_result"
    },
    {
     "data": {
      "text/plain": [
       "Text(0.5, 1.0, \"Comparaison score réel vs prédit pour l'indice 8\")"
      ]
     },
     "execution_count": 169,
     "metadata": {},
     "output_type": "execute_result"
    },
    {
     "data": {
      "text/plain": [
       "Text(0.5, 0, 'Échantillons')"
      ]
     },
     "execution_count": 169,
     "metadata": {},
     "output_type": "execute_result"
    },
    {
     "data": {
      "text/plain": [
       "Text(0, 0.5, 'Scores')"
      ]
     },
     "execution_count": 169,
     "metadata": {},
     "output_type": "execute_result"
    },
    {
     "data": {
      "text/plain": [
       "<AxesSubplot:>"
      ]
     },
     "execution_count": 169,
     "metadata": {},
     "output_type": "execute_result"
    },
    {
     "data": {
      "text/plain": [
       "[<matplotlib.lines.Line2D at 0x1f14c4cae00>]"
      ]
     },
     "execution_count": 169,
     "metadata": {},
     "output_type": "execute_result"
    },
    {
     "data": {
      "text/plain": [
       "[<matplotlib.lines.Line2D at 0x1f14c4cb0d0>]"
      ]
     },
     "execution_count": 169,
     "metadata": {},
     "output_type": "execute_result"
    },
    {
     "data": {
      "text/plain": [
       "Text(0.5, 1.0, \"Comparaison score réel vs prédit pour l'indice 9\")"
      ]
     },
     "execution_count": 169,
     "metadata": {},
     "output_type": "execute_result"
    },
    {
     "data": {
      "text/plain": [
       "Text(0.5, 0, 'Échantillons')"
      ]
     },
     "execution_count": 169,
     "metadata": {},
     "output_type": "execute_result"
    },
    {
     "data": {
      "text/plain": [
       "Text(0, 0.5, 'Scores')"
      ]
     },
     "execution_count": 169,
     "metadata": {},
     "output_type": "execute_result"
    },
    {
     "data": {
      "text/plain": [
       "<AxesSubplot:>"
      ]
     },
     "execution_count": 169,
     "metadata": {},
     "output_type": "execute_result"
    },
    {
     "data": {
      "text/plain": [
       "[<matplotlib.lines.Line2D at 0x1f14c518b20>]"
      ]
     },
     "execution_count": 169,
     "metadata": {},
     "output_type": "execute_result"
    },
    {
     "data": {
      "text/plain": [
       "[<matplotlib.lines.Line2D at 0x1f14c518e80>]"
      ]
     },
     "execution_count": 169,
     "metadata": {},
     "output_type": "execute_result"
    },
    {
     "data": {
      "text/plain": [
       "Text(0.5, 1.0, \"Comparaison score réel vs prédit pour l'indice 10\")"
      ]
     },
     "execution_count": 169,
     "metadata": {},
     "output_type": "execute_result"
    },
    {
     "data": {
      "text/plain": [
       "Text(0.5, 0, 'Échantillons')"
      ]
     },
     "execution_count": 169,
     "metadata": {},
     "output_type": "execute_result"
    },
    {
     "data": {
      "text/plain": [
       "Text(0, 0.5, 'Scores')"
      ]
     },
     "execution_count": 169,
     "metadata": {},
     "output_type": "execute_result"
    },
    {
     "data": {
      "text/plain": [
       "<AxesSubplot:>"
      ]
     },
     "execution_count": 169,
     "metadata": {},
     "output_type": "execute_result"
    },
    {
     "data": {
      "text/plain": [
       "(0.0, 1.0, 0.0, 1.0)"
      ]
     },
     "execution_count": 169,
     "metadata": {},
     "output_type": "execute_result"
    },
    {
     "data": {
      "text/plain": [
       "<matplotlib.legend.Legend at 0x1f14c519120>"
      ]
     },
     "execution_count": 169,
     "metadata": {},
     "output_type": "execute_result"
    },
    {
     "data": {
      "image/png": "[encoded data removed]",
      "text/plain": [
       "<Figure size 1440x720 with 8 Axes>"
      ]
     },
     "metadata": {
      "needs_background": "light"
     },
     "output_type": "display_data"
    }
   ],
   "source": [
    "num_plots = len(predicted_scores)  # Le nombre total de sous-graphiques\n",
    "num_cols = 4  # Nombre de colonnes\n",
    "num_rows = 2  # Nombre de lignes\n",
    "\n",
    "plt.figure(figsize=(20, 10))  # Ajustez la taille de la figure\n",
    "\n",
    "for idx, i in enumerate(predicted_scores.keys()):\n",
    "    plt.subplot(num_rows, num_cols, idx + 1)  # Crée un sous-graphe dans une grille de 2 lignes et 4 colonnes\n",
    "    plt.plot(predicted_scores[i], label='Scores prédits', marker='o')\n",
    "    plt.plot(real_scores[i], label='Scores réels', marker='x')\n",
    "\n",
    "    plt.title(f'Comparaison score réel vs prédit pour l\\'indice {i}')\n",
    "    plt.xlabel('Échantillons')\n",
    "    plt.ylabel('Scores')\n",
    "\n",
    "# Ajouter les labels à la dernière colonne en fusionnant les cellules\n",
    "plt.subplot(num_rows, num_cols, 8)  # Place dans la dernière cellule\n",
    "plt.axis('off')  # Désactive l'affichage de l'axe\n",
    "plt.legend(['Scores prédits', 'Scores réels'], loc='center', fontsize='large')  # Affiche les labels au centre\n",
    "\n",
    "plt.tight_layout()  # Ajuste l'espacement entre les sous-graphiques\n",
    "plt.show()\n"
   ]
  },
  {
   "cell_type": "code",
   "execution_count": 170,
   "metadata": {},
   "outputs": [
    {
     "data": {
      "text/plain": [
       "<Figure size 1440x720 with 0 Axes>"
      ]
     },
     "execution_count": 170,
     "metadata": {},
     "output_type": "execute_result"
    },
    {
     "data": {
      "text/plain": [
       "<AxesSubplot:>"
      ]
     },
     "execution_count": 170,
     "metadata": {},
     "output_type": "execute_result"
    },
    {
     "data": {
      "text/plain": [
       "<matplotlib.collections.PathCollection at 0x1f14c53ecb0>"
      ]
     },
     "execution_count": 170,
     "metadata": {},
     "output_type": "execute_result"
    },
    {
     "data": {
      "text/plain": [
       "<matplotlib.collections.PathCollection at 0x1f14c53eb60>"
      ]
     },
     "execution_count": 170,
     "metadata": {},
     "output_type": "execute_result"
    },
    {
     "data": {
      "text/plain": [
       "Text(0.5, 1.0, \"Comparaison score réel vs prédit pour l'indice 4\")"
      ]
     },
     "execution_count": 170,
     "metadata": {},
     "output_type": "execute_result"
    },
    {
     "data": {
      "text/plain": [
       "Text(0.5, 0, 'Échantillons')"
      ]
     },
     "execution_count": 170,
     "metadata": {},
     "output_type": "execute_result"
    },
    {
     "data": {
      "text/plain": [
       "Text(0, 0.5, 'Scores')"
      ]
     },
     "execution_count": 170,
     "metadata": {},
     "output_type": "execute_result"
    },
    {
     "data": {
      "text/plain": [
       "<AxesSubplot:>"
      ]
     },
     "execution_count": 170,
     "metadata": {},
     "output_type": "execute_result"
    },
    {
     "data": {
      "text/plain": [
       "<matplotlib.collections.PathCollection at 0x1f14c6eb250>"
      ]
     },
     "execution_count": 170,
     "metadata": {},
     "output_type": "execute_result"
    },
    {
     "data": {
      "text/plain": [
       "<matplotlib.collections.PathCollection at 0x1f14c71c7f0>"
      ]
     },
     "execution_count": 170,
     "metadata": {},
     "output_type": "execute_result"
    },
    {
     "data": {
      "text/plain": [
       "Text(0.5, 1.0, \"Comparaison score réel vs prédit pour l'indice 5\")"
      ]
     },
     "execution_count": 170,
     "metadata": {},
     "output_type": "execute_result"
    },
    {
     "data": {
      "text/plain": [
       "Text(0.5, 0, 'Échantillons')"
      ]
     },
     "execution_count": 170,
     "metadata": {},
     "output_type": "execute_result"
    },
    {
     "data": {
      "text/plain": [
       "Text(0, 0.5, 'Scores')"
      ]
     },
     "execution_count": 170,
     "metadata": {},
     "output_type": "execute_result"
    },
    {
     "data": {
      "text/plain": [
       "<AxesSubplot:>"
      ]
     },
     "execution_count": 170,
     "metadata": {},
     "output_type": "execute_result"
    },
    {
     "data": {
      "text/plain": [
       "<matplotlib.collections.PathCollection at 0x1f14c73a320>"
      ]
     },
     "execution_count": 170,
     "metadata": {},
     "output_type": "execute_result"
    },
    {
     "data": {
      "text/plain": [
       "<matplotlib.collections.PathCollection at 0x1f14c73a710>"
      ]
     },
     "execution_count": 170,
     "metadata": {},
     "output_type": "execute_result"
    },
    {
     "data": {
      "text/plain": [
       "Text(0.5, 1.0, \"Comparaison score réel vs prédit pour l'indice 6\")"
      ]
     },
     "execution_count": 170,
     "metadata": {},
     "output_type": "execute_result"
    },
    {
     "data": {
      "text/plain": [
       "Text(0.5, 0, 'Échantillons')"
      ]
     },
     "execution_count": 170,
     "metadata": {},
     "output_type": "execute_result"
    },
    {
     "data": {
      "text/plain": [
       "Text(0, 0.5, 'Scores')"
      ]
     },
     "execution_count": 170,
     "metadata": {},
     "output_type": "execute_result"
    },
    {
     "data": {
      "text/plain": [
       "<AxesSubplot:>"
      ]
     },
     "execution_count": 170,
     "metadata": {},
     "output_type": "execute_result"
    },
    {
     "data": {
      "text/plain": [
       "<matplotlib.collections.PathCollection at 0x1f14c8ac1c0>"
      ]
     },
     "execution_count": 170,
     "metadata": {},
     "output_type": "execute_result"
    },
    {
     "data": {
      "text/plain": [
       "<matplotlib.collections.PathCollection at 0x1f14c71feb0>"
      ]
     },
     "execution_count": 170,
     "metadata": {},
     "output_type": "execute_result"
    },
    {
     "data": {
      "text/plain": [
       "Text(0.5, 1.0, \"Comparaison score réel vs prédit pour l'indice 7\")"
      ]
     },
     "execution_count": 170,
     "metadata": {},
     "output_type": "execute_result"
    },
    {
     "data": {
      "text/plain": [
       "Text(0.5, 0, 'Échantillons')"
      ]
     },
     "execution_count": 170,
     "metadata": {},
     "output_type": "execute_result"
    },
    {
     "data": {
      "text/plain": [
       "Text(0, 0.5, 'Scores')"
      ]
     },
     "execution_count": 170,
     "metadata": {},
     "output_type": "execute_result"
    },
    {
     "data": {
      "text/plain": [
       "<AxesSubplot:>"
      ]
     },
     "execution_count": 170,
     "metadata": {},
     "output_type": "execute_result"
    },
    {
     "data": {
      "text/plain": [
       "<matplotlib.collections.PathCollection at 0x1f14c8c5f90>"
      ]
     },
     "execution_count": 170,
     "metadata": {},
     "output_type": "execute_result"
    },
    {
     "data": {
      "text/plain": [
       "<matplotlib.collections.PathCollection at 0x1f14c8c6530>"
      ]
     },
     "execution_count": 170,
     "metadata": {},
     "output_type": "execute_result"
    },
    {
     "data": {
      "text/plain": [
       "Text(0.5, 1.0, \"Comparaison score réel vs prédit pour l'indice 8\")"
      ]
     },
     "execution_count": 170,
     "metadata": {},
     "output_type": "execute_result"
    },
    {
     "data": {
      "text/plain": [
       "Text(0.5, 0, 'Échantillons')"
      ]
     },
     "execution_count": 170,
     "metadata": {},
     "output_type": "execute_result"
    },
    {
     "data": {
      "text/plain": [
       "Text(0, 0.5, 'Scores')"
      ]
     },
     "execution_count": 170,
     "metadata": {},
     "output_type": "execute_result"
    },
    {
     "data": {
      "text/plain": [
       "<AxesSubplot:>"
      ]
     },
     "execution_count": 170,
     "metadata": {},
     "output_type": "execute_result"
    },
    {
     "data": {
      "text/plain": [
       "<matplotlib.collections.PathCollection at 0x1f14c8c5fc0>"
      ]
     },
     "execution_count": 170,
     "metadata": {},
     "output_type": "execute_result"
    },
    {
     "data": {
      "text/plain": [
       "<matplotlib.collections.PathCollection at 0x1f14c924610>"
      ]
     },
     "execution_count": 170,
     "metadata": {},
     "output_type": "execute_result"
    },
    {
     "data": {
      "text/plain": [
       "Text(0.5, 1.0, \"Comparaison score réel vs prédit pour l'indice 9\")"
      ]
     },
     "execution_count": 170,
     "metadata": {},
     "output_type": "execute_result"
    },
    {
     "data": {
      "text/plain": [
       "Text(0.5, 0, 'Échantillons')"
      ]
     },
     "execution_count": 170,
     "metadata": {},
     "output_type": "execute_result"
    },
    {
     "data": {
      "text/plain": [
       "Text(0, 0.5, 'Scores')"
      ]
     },
     "execution_count": 170,
     "metadata": {},
     "output_type": "execute_result"
    },
    {
     "data": {
      "text/plain": [
       "<AxesSubplot:>"
      ]
     },
     "execution_count": 170,
     "metadata": {},
     "output_type": "execute_result"
    },
    {
     "data": {
      "text/plain": [
       "<matplotlib.collections.PathCollection at 0x1f14c94a050>"
      ]
     },
     "execution_count": 170,
     "metadata": {},
     "output_type": "execute_result"
    },
    {
     "data": {
      "text/plain": [
       "<matplotlib.collections.PathCollection at 0x1f14c94a3b0>"
      ]
     },
     "execution_count": 170,
     "metadata": {},
     "output_type": "execute_result"
    },
    {
     "data": {
      "text/plain": [
       "Text(0.5, 1.0, \"Comparaison score réel vs prédit pour l'indice 10\")"
      ]
     },
     "execution_count": 170,
     "metadata": {},
     "output_type": "execute_result"
    },
    {
     "data": {
      "text/plain": [
       "Text(0.5, 0, 'Échantillons')"
      ]
     },
     "execution_count": 170,
     "metadata": {},
     "output_type": "execute_result"
    },
    {
     "data": {
      "text/plain": [
       "Text(0, 0.5, 'Scores')"
      ]
     },
     "execution_count": 170,
     "metadata": {},
     "output_type": "execute_result"
    },
    {
     "data": {
      "text/plain": [
       "<AxesSubplot:>"
      ]
     },
     "execution_count": 170,
     "metadata": {},
     "output_type": "execute_result"
    },
    {
     "data": {
      "text/plain": [
       "(0.0, 1.0, 0.0, 1.0)"
      ]
     },
     "execution_count": 170,
     "metadata": {},
     "output_type": "execute_result"
    },
    {
     "data": {
      "text/plain": [
       "<matplotlib.legend.Legend at 0x1f14c94a770>"
      ]
     },
     "execution_count": 170,
     "metadata": {},
     "output_type": "execute_result"
    },
    {
     "data": {
      "image/png": "[encoded data removed]",
      "text/plain": [
       "<Figure size 1440x720 with 8 Axes>"
      ]
     },
     "metadata": {
      "needs_background": "light"
     },
     "output_type": "display_data"
    }
   ],
   "source": [
    "num_plots = len(predicted_scores)  # Le nombre total de sous-graphiques\n",
    "num_cols = 4  # Nombre de colonnes\n",
    "num_rows = 2  # Nombre de lignes\n",
    "\n",
    "plt.figure(figsize=(20, 10))  # Ajustez la taille de la figure\n",
    "\n",
    "for idx, i in enumerate(predicted_scores.keys()):\n",
    "    plt.subplot(num_rows, num_cols, idx + 1)  # Crée un sous-graphe dans une grille de 2 lignes et 4 colonnes\n",
    "    plt.scatter(range(len(predicted_scores[i])), predicted_scores[i], label='Scores prédits', marker='o')\n",
    "    plt.scatter(range(len(real_scores[i])), real_scores[i], label='Scores réels', marker='x')\n",
    "\n",
    "    plt.title(f'Comparaison score réel vs prédit pour l\\'indice {i}')\n",
    "    plt.xlabel('Échantillons')\n",
    "    plt.ylabel('Scores')\n",
    "\n",
    "# Ajouter les labels à la dernière colonne en fusionnant les cellules\n",
    "plt.subplot(num_rows, num_cols, 8)  # Place dans la dernière cellule\n",
    "plt.axis('off')  # Désactive l'affichage de l'axe\n",
    "plt.legend(['Scores prédits', 'Scores réels'], loc='center', fontsize='large')  # Affiche les labels au centre\n",
    "\n",
    "plt.tight_layout()  # Ajuste l'espacement entre les sous-graphiques\n",
    "plt.show()"
   ]
  }
 ],
 "metadata": {
  "kernelspec": {
   "display_name": "Python 3",
   "language": "python",
   "name": "python3"
  },
  "language_info": {
   "codemirror_mode": {
    "name": "ipython",
    "version": 3
   },
   "file_extension": ".py",
   "mimetype": "text/x-python",
   "name": "python",
   "nbconvert_exporter": "python",
   "pygments_lexer": "ipython3",
   "version": "3.10.0"
  }
 },
 "nbformat": 4,
 "nbformat_minor": 2
}
