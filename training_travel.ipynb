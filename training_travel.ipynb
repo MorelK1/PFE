{
 "cells": [
  {
   "cell_type": "code",
   "execution_count": 1,
   "metadata": {},
   "outputs": [],
   "source": [
    "from IPython.core.interactiveshell import InteractiveShell\n",
    "InteractiveShell.ast_node_interactivity='all'"
   ]
  },
  {
   "cell_type": "code",
   "execution_count": 2,
   "metadata": {},
   "outputs": [],
   "source": [
    "import pandas as pd\n",
    "import numpy as np\n",
    "import matplotlib.pyplot as plt\n",
    "import seaborn as sns\n",
    "from sklearn.preprocessing import PowerTransformer"
   ]
  },
  {
   "cell_type": "code",
   "execution_count": 3,
   "metadata": {},
   "outputs": [
    {
     "data": {
      "text/plain": [
       "100"
      ]
     },
     "execution_count": 3,
     "metadata": {},
     "output_type": "execute_result"
    }
   ],
   "source": [
    "reference = pd.read_csv(\"data/reference_without_add2.csv\")\n",
    "len(reference) "
   ]
  },
  {
   "cell_type": "code",
   "execution_count": 4,
   "metadata": {},
   "outputs": [
    {
     "data": {
      "text/plain": [
       "<matplotlib.collections.PathCollection at 0x1f2ce955b70>"
      ]
     },
     "execution_count": 4,
     "metadata": {},
     "output_type": "execute_result"
    },
    {
     "data": {
      "text/plain": [
       "Text(0.5, 0, 'Index')"
      ]
     },
     "execution_count": 4,
     "metadata": {},
     "output_type": "execute_result"
    },
    {
     "data": {
      "text/plain": [
       "Text(0, 0.5, 'FuelConsumption')"
      ]
     },
     "execution_count": 4,
     "metadata": {},
     "output_type": "execute_result"
    },
    {
     "data": {
      "text/plain": [
       "Text(0.5, 1.0, 'FuelConsumption')"
      ]
     },
     "execution_count": 4,
     "metadata": {},
     "output_type": "execute_result"
    },
    {
     "data": {
      "text/plain": [
       "<matplotlib.collections.PathCollection at 0x1f2ce956050>"
      ]
     },
     "execution_count": 4,
     "metadata": {},
     "output_type": "execute_result"
    },
    {
     "data": {
      "text/plain": [
       "Text(0.5, 0, 'Index')"
      ]
     },
     "execution_count": 4,
     "metadata": {},
     "output_type": "execute_result"
    },
    {
     "data": {
      "text/plain": [
       "Text(0, 0.5, 'CO2Emission')"
      ]
     },
     "execution_count": 4,
     "metadata": {},
     "output_type": "execute_result"
    },
    {
     "data": {
      "text/plain": [
       "Text(0.5, 1.0, 'CO2Emission')"
      ]
     },
     "execution_count": 4,
     "metadata": {},
     "output_type": "execute_result"
    },
    {
     "data": {
      "text/plain": [
       "<matplotlib.collections.PathCollection at 0x1f2ce8fe170>"
      ]
     },
     "execution_count": 4,
     "metadata": {},
     "output_type": "execute_result"
    },
    {
     "data": {
      "text/plain": [
       "Text(0.5, 0, 'Index')"
      ]
     },
     "execution_count": 4,
     "metadata": {},
     "output_type": "execute_result"
    },
    {
     "data": {
      "text/plain": [
       "Text(0, 0.5, 'TravelTime')"
      ]
     },
     "execution_count": 4,
     "metadata": {},
     "output_type": "execute_result"
    },
    {
     "data": {
      "text/plain": [
       "Text(0.5, 1.0, 'TravelTime')"
      ]
     },
     "execution_count": 4,
     "metadata": {},
     "output_type": "execute_result"
    },
    {
     "data": {
      "image/png": "[encoded data removed]",
      "text/plain": [
       "<Figure size 1440x576 with 3 Axes>"
      ]
     },
     "metadata": {
      "needs_background": "light"
     },
     "output_type": "display_data"
    }
   ],
   "source": [
    "cols = ['FuelConsumption','CO2Emission','TravelTime']\n",
    "# Création de scatter plots pour chaque colonne\n",
    "fig, axs = plt.subplots(1, 3, figsize=(20, 8))\n",
    "\n",
    "for i, col in enumerate(cols):\n",
    "    axs[i].scatter(reference.index, reference[col])\n",
    "    axs[i].set_xlabel('Index')\n",
    "    axs[i].set_ylabel(col)\n",
    "    axs[i].set_title(f'{col}')\n",
    "\n",
    "plt.tight_layout()\n",
    "plt.show()"
   ]
  },
  {
   "cell_type": "code",
   "execution_count": 5,
   "metadata": {},
   "outputs": [],
   "source": [
    "# reference values\n",
    "reference_values = reference.iloc[0]\n",
    "# Références pour les comparaisons\n",
    "travel_reference = reference_values[\"TravelTime\"]\n",
    "fuel_reference = reference_values[\"FuelConsumption\"]\n",
    "co2_reference = reference_values[\"CO2Emission\"]"
   ]
  },
  {
   "cell_type": "code",
   "execution_count": 103,
   "metadata": {},
   "outputs": [
    {
     "data": {
      "text/plain": [
       "72.0"
      ]
     },
     "execution_count": 103,
     "metadata": {},
     "output_type": "execute_result"
    },
    {
     "data": {
      "text/plain": [
       "157245.92011548087"
      ]
     },
     "execution_count": 103,
     "metadata": {},
     "output_type": "execute_result"
    }
   ],
   "source": [
    "travel_reference\n",
    "fuel_reference"
   ]
  },
  {
   "cell_type": "markdown",
   "metadata": {},
   "source": [
    "### Nos donnees"
   ]
  },
  {
   "cell_type": "code",
   "execution_count": 6,
   "metadata": {},
   "outputs": [],
   "source": [
    "def filter_by_median(df: pd.DataFrame, column:str):\n",
    "    median = df[column].median()\n",
    "\n",
    "    return df[(df[column] > median)]"
   ]
  },
  {
   "cell_type": "code",
   "execution_count": 7,
   "metadata": {},
   "outputs": [
    {
     "data": {
      "text/plain": [
       "6197"
      ]
     },
     "execution_count": 7,
     "metadata": {},
     "output_type": "execute_result"
    },
    {
     "data": {
      "text/html": [
       "<div>\n",
       "<style scoped>\n",
       "    .dataframe tbody tr th:only-of-type {\n",
       "        vertical-align: middle;\n",
       "    }\n",
       "\n",
       "    .dataframe tbody tr th {\n",
       "        vertical-align: top;\n",
       "    }\n",
       "\n",
       "    .dataframe thead th {\n",
       "        text-align: right;\n",
       "    }\n",
       "</style>\n",
       "<table border=\"1\" class=\"dataframe\">\n",
       "  <thead>\n",
       "    <tr style=\"text-align: right;\">\n",
       "      <th></th>\n",
       "      <th>DateTime</th>\n",
       "      <th>VehicleID</th>\n",
       "      <th>X</th>\n",
       "      <th>Y</th>\n",
       "      <th>Longitude</th>\n",
       "      <th>Latitude</th>\n",
       "      <th>Speed</th>\n",
       "      <th>Acceleration</th>\n",
       "      <th>FuelConsumption</th>\n",
       "      <th>CO2Emission</th>\n",
       "      <th>...</th>\n",
       "      <th>ActionParam</th>\n",
       "      <th>ActionDuration</th>\n",
       "      <th>LaneMaxSpeed</th>\n",
       "      <th>Neighbors</th>\n",
       "      <th>AllowedSpeed</th>\n",
       "      <th>VehicleAdded</th>\n",
       "      <th>VehicleAddedAhead</th>\n",
       "      <th>VehicleAddedBehind</th>\n",
       "      <th>ActionVehicleAhead</th>\n",
       "      <th>ActionVehicleBehind</th>\n",
       "    </tr>\n",
       "  </thead>\n",
       "  <tbody>\n",
       "    <tr>\n",
       "      <th>0</th>\n",
       "      <td>53</td>\n",
       "      <td>veh1</td>\n",
       "      <td>520.928043</td>\n",
       "      <td>780.584754</td>\n",
       "      <td>1.467963</td>\n",
       "      <td>43.566866</td>\n",
       "      <td>7.147393</td>\n",
       "      <td>-0.652833</td>\n",
       "      <td>215240.520454</td>\n",
       "      <td>6.748431e+05</td>\n",
       "      <td>...</td>\n",
       "      <td>8.097951</td>\n",
       "      <td>11</td>\n",
       "      <td>16.66</td>\n",
       "      <td>1</td>\n",
       "      <td>15.632078</td>\n",
       "      <td>0</td>\n",
       "      <td>0</td>\n",
       "      <td>0</td>\n",
       "      <td>1</td>\n",
       "      <td>0</td>\n",
       "    </tr>\n",
       "    <tr>\n",
       "      <th>2</th>\n",
       "      <td>21</td>\n",
       "      <td>veh1</td>\n",
       "      <td>576.541784</td>\n",
       "      <td>540.492539</td>\n",
       "      <td>1.468706</td>\n",
       "      <td>43.564714</td>\n",
       "      <td>12.199157</td>\n",
       "      <td>1.695573</td>\n",
       "      <td>165096.530098</td>\n",
       "      <td>5.176240e+05</td>\n",
       "      <td>...</td>\n",
       "      <td>2.150389</td>\n",
       "      <td>6</td>\n",
       "      <td>27.78</td>\n",
       "      <td>5</td>\n",
       "      <td>18.766000</td>\n",
       "      <td>8</td>\n",
       "      <td>3</td>\n",
       "      <td>5</td>\n",
       "      <td>3</td>\n",
       "      <td>0</td>\n",
       "    </tr>\n",
       "    <tr>\n",
       "      <th>3</th>\n",
       "      <td>18</td>\n",
       "      <td>veh1</td>\n",
       "      <td>522.853482</td>\n",
       "      <td>490.318745</td>\n",
       "      <td>1.468053</td>\n",
       "      <td>43.564254</td>\n",
       "      <td>5.750539</td>\n",
       "      <td>5.750539</td>\n",
       "      <td>352586.718795</td>\n",
       "      <td>1.105398e+06</td>\n",
       "      <td>...</td>\n",
       "      <td>3.099083</td>\n",
       "      <td>14</td>\n",
       "      <td>27.78</td>\n",
       "      <td>2</td>\n",
       "      <td>18.766000</td>\n",
       "      <td>12</td>\n",
       "      <td>4</td>\n",
       "      <td>8</td>\n",
       "      <td>3</td>\n",
       "      <td>1</td>\n",
       "    </tr>\n",
       "    <tr>\n",
       "      <th>4</th>\n",
       "      <td>19</td>\n",
       "      <td>veh1</td>\n",
       "      <td>539.261338</td>\n",
       "      <td>513.304129</td>\n",
       "      <td>1.468251</td>\n",
       "      <td>43.564464</td>\n",
       "      <td>10.359101</td>\n",
       "      <td>-3.919571</td>\n",
       "      <td>169005.285664</td>\n",
       "      <td>5.298798e+05</td>\n",
       "      <td>...</td>\n",
       "      <td>0.000000</td>\n",
       "      <td>11</td>\n",
       "      <td>27.78</td>\n",
       "      <td>3</td>\n",
       "      <td>18.766000</td>\n",
       "      <td>6</td>\n",
       "      <td>4</td>\n",
       "      <td>2</td>\n",
       "      <td>2</td>\n",
       "      <td>2</td>\n",
       "    </tr>\n",
       "    <tr>\n",
       "      <th>5</th>\n",
       "      <td>57</td>\n",
       "      <td>veh1</td>\n",
       "      <td>497.907593</td>\n",
       "      <td>823.331530</td>\n",
       "      <td>1.467669</td>\n",
       "      <td>43.567247</td>\n",
       "      <td>15.956224</td>\n",
       "      <td>1.025041</td>\n",
       "      <td>177308.244397</td>\n",
       "      <td>5.559139e+05</td>\n",
       "      <td>...</td>\n",
       "      <td>0.000000</td>\n",
       "      <td>8</td>\n",
       "      <td>16.66</td>\n",
       "      <td>1</td>\n",
       "      <td>15.632078</td>\n",
       "      <td>0</td>\n",
       "      <td>0</td>\n",
       "      <td>0</td>\n",
       "      <td>1</td>\n",
       "      <td>0</td>\n",
       "    </tr>\n",
       "  </tbody>\n",
       "</table>\n",
       "<p>5 rows × 23 columns</p>\n",
       "</div>"
      ],
      "text/plain": [
       "   DateTime VehicleID           X           Y  Longitude   Latitude  \\\n",
       "0        53      veh1  520.928043  780.584754   1.467963  43.566866   \n",
       "2        21      veh1  576.541784  540.492539   1.468706  43.564714   \n",
       "3        18      veh1  522.853482  490.318745   1.468053  43.564254   \n",
       "4        19      veh1  539.261338  513.304129   1.468251  43.564464   \n",
       "5        57      veh1  497.907593  823.331530   1.467669  43.567247   \n",
       "\n",
       "       Speed  Acceleration  FuelConsumption   CO2Emission  ...  ActionParam  \\\n",
       "0   7.147393     -0.652833    215240.520454  6.748431e+05  ...     8.097951   \n",
       "2  12.199157      1.695573    165096.530098  5.176240e+05  ...     2.150389   \n",
       "3   5.750539      5.750539    352586.718795  1.105398e+06  ...     3.099083   \n",
       "4  10.359101     -3.919571    169005.285664  5.298798e+05  ...     0.000000   \n",
       "5  15.956224      1.025041    177308.244397  5.559139e+05  ...     0.000000   \n",
       "\n",
       "   ActionDuration LaneMaxSpeed  Neighbors  AllowedSpeed  VehicleAdded  \\\n",
       "0              11        16.66          1     15.632078             0   \n",
       "2               6        27.78          5     18.766000             8   \n",
       "3              14        27.78          2     18.766000            12   \n",
       "4              11        27.78          3     18.766000             6   \n",
       "5               8        16.66          1     15.632078             0   \n",
       "\n",
       "   VehicleAddedAhead  VehicleAddedBehind  ActionVehicleAhead  \\\n",
       "0                  0                   0                   1   \n",
       "2                  3                   5                   3   \n",
       "3                  4                   8                   3   \n",
       "4                  4                   2                   2   \n",
       "5                  0                   0                   1   \n",
       "\n",
       "   ActionVehicleBehind  \n",
       "0                    0  \n",
       "2                    0  \n",
       "3                    1  \n",
       "4                    2  \n",
       "5                    0  \n",
       "\n",
       "[5 rows x 23 columns]"
      ]
     },
     "execution_count": 7,
     "metadata": {},
     "output_type": "execute_result"
    }
   ],
   "source": [
    "data1 = pd.read_csv('data/data0_1.csv')\n",
    "data2 = pd.read_csv(\"data/data0_2.csv\")\n",
    "data3 = pd.read_csv(\"data/data0_5.csv\")\n",
    "datas = pd.concat([data1, data2, data3], ignore_index= True).sample(frac=1, random_state=42).reset_index(drop=True)\n",
    "datas= datas[(datas[\"ActionId\"] != 0)]\n",
    "# datas = datas[datas['TravelTime'] < 130]\n",
    "len(datas)\n",
    "datas.head(5)"
   ]
  },
  {
   "cell_type": "code",
   "execution_count": 8,
   "metadata": {},
   "outputs": [],
   "source": [
    "# Calcul des impacts pour y_travel, y_fuel et y_co2\n",
    "datas['y_travel'] = datas['TravelTime'].apply(lambda x: (travel_reference - x))\n",
    "datas['y_fuel'] = datas['FuelConsumption'].apply(lambda x: (fuel_reference -x))\n",
    "datas['y_co2'] = datas['CO2Emission'].apply(lambda x: (co2_reference - x))"
   ]
  },
  {
   "cell_type": "code",
   "execution_count": 9,
   "metadata": {},
   "outputs": [],
   "source": [
    "data_transformed1 = pd.get_dummies(datas['ActionName'], prefix='action').astype(int)\n",
    "datas = pd.concat([datas, data_transformed1], axis=1)"
   ]
  },
  {
   "cell_type": "markdown",
   "metadata": {},
   "source": [
    "### Box plot des colonnes"
   ]
  },
  {
   "cell_type": "code",
   "execution_count": 10,
   "metadata": {},
   "outputs": [
    {
     "data": {
      "text/plain": [
       "<Figure size 1728x576 with 0 Axes>"
      ]
     },
     "execution_count": 10,
     "metadata": {},
     "output_type": "execute_result"
    },
    {
     "data": {
      "text/plain": [
       "<AxesSubplot:>"
      ]
     },
     "execution_count": 10,
     "metadata": {},
     "output_type": "execute_result"
    },
    {
     "data": {
      "text/plain": [
       "<AxesSubplot:ylabel='Longitude'>"
      ]
     },
     "execution_count": 10,
     "metadata": {},
     "output_type": "execute_result"
    },
    {
     "data": {
      "text/plain": [
       "Text(0.5, 1.0, 'Longitude')"
      ]
     },
     "execution_count": 10,
     "metadata": {},
     "output_type": "execute_result"
    },
    {
     "data": {
      "text/plain": [
       "<AxesSubplot:>"
      ]
     },
     "execution_count": 10,
     "metadata": {},
     "output_type": "execute_result"
    },
    {
     "data": {
      "text/plain": [
       "<AxesSubplot:ylabel='Latitude'>"
      ]
     },
     "execution_count": 10,
     "metadata": {},
     "output_type": "execute_result"
    },
    {
     "data": {
      "text/plain": [
       "Text(0.5, 1.0, 'Latitude')"
      ]
     },
     "execution_count": 10,
     "metadata": {},
     "output_type": "execute_result"
    },
    {
     "data": {
      "text/plain": [
       "<AxesSubplot:>"
      ]
     },
     "execution_count": 10,
     "metadata": {},
     "output_type": "execute_result"
    },
    {
     "data": {
      "text/plain": [
       "<AxesSubplot:ylabel='Speed'>"
      ]
     },
     "execution_count": 10,
     "metadata": {},
     "output_type": "execute_result"
    },
    {
     "data": {
      "text/plain": [
       "Text(0.5, 1.0, 'Speed')"
      ]
     },
     "execution_count": 10,
     "metadata": {},
     "output_type": "execute_result"
    },
    {
     "data": {
      "text/plain": [
       "<AxesSubplot:>"
      ]
     },
     "execution_count": 10,
     "metadata": {},
     "output_type": "execute_result"
    },
    {
     "data": {
      "text/plain": [
       "<AxesSubplot:ylabel='Acceleration'>"
      ]
     },
     "execution_count": 10,
     "metadata": {},
     "output_type": "execute_result"
    },
    {
     "data": {
      "text/plain": [
       "Text(0.5, 1.0, 'Acceleration')"
      ]
     },
     "execution_count": 10,
     "metadata": {},
     "output_type": "execute_result"
    },
    {
     "data": {
      "text/plain": [
       "<AxesSubplot:>"
      ]
     },
     "execution_count": 10,
     "metadata": {},
     "output_type": "execute_result"
    },
    {
     "data": {
      "text/plain": [
       "<AxesSubplot:ylabel='LaneMaxSpeed'>"
      ]
     },
     "execution_count": 10,
     "metadata": {},
     "output_type": "execute_result"
    },
    {
     "data": {
      "text/plain": [
       "Text(0.5, 1.0, 'LaneMaxSpeed')"
      ]
     },
     "execution_count": 10,
     "metadata": {},
     "output_type": "execute_result"
    },
    {
     "data": {
      "text/plain": [
       "<AxesSubplot:>"
      ]
     },
     "execution_count": 10,
     "metadata": {},
     "output_type": "execute_result"
    },
    {
     "data": {
      "text/plain": [
       "<AxesSubplot:ylabel='ActionVehicleAhead'>"
      ]
     },
     "execution_count": 10,
     "metadata": {},
     "output_type": "execute_result"
    },
    {
     "data": {
      "text/plain": [
       "Text(0.5, 1.0, 'ActionVehicleAhead')"
      ]
     },
     "execution_count": 10,
     "metadata": {},
     "output_type": "execute_result"
    },
    {
     "data": {
      "text/plain": [
       "<AxesSubplot:>"
      ]
     },
     "execution_count": 10,
     "metadata": {},
     "output_type": "execute_result"
    },
    {
     "data": {
      "text/plain": [
       "<AxesSubplot:ylabel='action_accelerate'>"
      ]
     },
     "execution_count": 10,
     "metadata": {},
     "output_type": "execute_result"
    },
    {
     "data": {
      "text/plain": [
       "Text(0.5, 1.0, 'action_accelerate')"
      ]
     },
     "execution_count": 10,
     "metadata": {},
     "output_type": "execute_result"
    },
    {
     "data": {
      "text/plain": [
       "<AxesSubplot:>"
      ]
     },
     "execution_count": 10,
     "metadata": {},
     "output_type": "execute_result"
    },
    {
     "data": {
      "text/plain": [
       "<AxesSubplot:ylabel='action_decelerate'>"
      ]
     },
     "execution_count": 10,
     "metadata": {},
     "output_type": "execute_result"
    },
    {
     "data": {
      "text/plain": [
       "Text(0.5, 1.0, 'action_decelerate')"
      ]
     },
     "execution_count": 10,
     "metadata": {},
     "output_type": "execute_result"
    },
    {
     "data": {
      "text/plain": [
       "<AxesSubplot:>"
      ]
     },
     "execution_count": 10,
     "metadata": {},
     "output_type": "execute_result"
    },
    {
     "data": {
      "text/plain": [
       "<AxesSubplot:ylabel='action_stop'>"
      ]
     },
     "execution_count": 10,
     "metadata": {},
     "output_type": "execute_result"
    },
    {
     "data": {
      "text/plain": [
       "Text(0.5, 1.0, 'action_stop')"
      ]
     },
     "execution_count": 10,
     "metadata": {},
     "output_type": "execute_result"
    },
    {
     "data": {
      "text/plain": [
       "<AxesSubplot:>"
      ]
     },
     "execution_count": 10,
     "metadata": {},
     "output_type": "execute_result"
    },
    {
     "data": {
      "text/plain": [
       "<AxesSubplot:ylabel='ActionParam'>"
      ]
     },
     "execution_count": 10,
     "metadata": {},
     "output_type": "execute_result"
    },
    {
     "data": {
      "text/plain": [
       "Text(0.5, 1.0, 'ActionParam')"
      ]
     },
     "execution_count": 10,
     "metadata": {},
     "output_type": "execute_result"
    },
    {
     "data": {
      "text/plain": [
       "<AxesSubplot:>"
      ]
     },
     "execution_count": 10,
     "metadata": {},
     "output_type": "execute_result"
    },
    {
     "data": {
      "text/plain": [
       "<AxesSubplot:ylabel='ActionDuration'>"
      ]
     },
     "execution_count": 10,
     "metadata": {},
     "output_type": "execute_result"
    },
    {
     "data": {
      "text/plain": [
       "Text(0.5, 1.0, 'ActionDuration')"
      ]
     },
     "execution_count": 10,
     "metadata": {},
     "output_type": "execute_result"
    },
    {
     "data": {
      "image/png": "[encoded data removed]",
      "text/plain": [
       "<Figure size 1728x576 with 11 Axes>"
      ]
     },
     "metadata": {
      "needs_background": "light"
     },
     "output_type": "display_data"
    }
   ],
   "source": [
    "ml_columns = ['Longitude', 'Latitude', 'Speed','Acceleration', 'LaneMaxSpeed', 'ActionVehicleAhead',\n",
    "                 'action_accelerate', 'action_decelerate', 'action_stop',  'ActionParam', 'ActionDuration']\n",
    "\n",
    "# Définir la taille de la figure\n",
    "plt.figure(figsize=(24, 8))\n",
    "\n",
    "# Parcourir chaque colonne et créer un boxplot\n",
    "for i, col in enumerate(ml_columns):\n",
    "    plt.subplot(1, len(ml_columns), i + 1)\n",
    "    sns.boxplot(y=datas[col], orient='v')\n",
    "    plt.title(col)\n",
    "\n",
    "# Ajuster automatiquement les sous-tracés pour éviter les chevauchements\n",
    "plt.tight_layout()\n",
    "\n",
    "# Afficher le graphique\n",
    "plt.show()"
   ]
  },
  {
   "cell_type": "code",
   "execution_count": 11,
   "metadata": {},
   "outputs": [
    {
     "data": {
      "text/plain": [
       "1.4665154013624768"
      ]
     },
     "execution_count": 11,
     "metadata": {},
     "output_type": "execute_result"
    }
   ],
   "source": [
    "iqr_longitude = - datas['Longitude'].quantile(.25) + datas['Longitude'].quantile(.75)\n",
    "datas['Longitude'].quantile(.25) - 1.5*iqr_longitude"
   ]
  },
  {
   "cell_type": "markdown",
   "metadata": {},
   "source": [
    "### Filtrage des donnees"
   ]
  },
  {
   "cell_type": "code",
   "execution_count": 12,
   "metadata": {},
   "outputs": [],
   "source": [
    "# Donnees aberrentes sur les collones d'entrees\n",
    "datas = datas.drop(datas[(datas['Longitude'] < 1.467) | (datas['Acceleration'] > 8 )].index)"
   ]
  },
  {
   "cell_type": "code",
   "execution_count": 13,
   "metadata": {},
   "outputs": [
    {
     "data": {
      "text/plain": [
       "5937"
      ]
     },
     "execution_count": 13,
     "metadata": {},
     "output_type": "execute_result"
    }
   ],
   "source": [
    "len(datas)"
   ]
  },
  {
   "cell_type": "code",
   "execution_count": 14,
   "metadata": {},
   "outputs": [
    {
     "data": {
      "text/plain": [
       "<AxesSubplot:ylabel='y_travel'>"
      ]
     },
     "execution_count": 14,
     "metadata": {},
     "output_type": "execute_result"
    },
    {
     "data": {
      "image/png": "[encoded data removed]",
      "text/plain": [
       "<Figure size 432x288 with 1 Axes>"
      ]
     },
     "metadata": {
      "needs_background": "light"
     },
     "output_type": "display_data"
    }
   ],
   "source": [
    "action_accelerate = datas[datas['action_accelerate'] == 1]\n",
    "action_decelerate = datas[datas['action_decelerate'] == 1]\n",
    "action_stop = datas[datas['action_stop'] == 1]\n",
    "sns.boxplot(datas['y_travel'])"
   ]
  },
  {
   "cell_type": "code",
   "execution_count": 15,
   "metadata": {},
   "outputs": [
    {
     "data": {
      "text/plain": [
       "<AxesSubplot:ylabel='y_travel'>"
      ]
     },
     "execution_count": 15,
     "metadata": {},
     "output_type": "execute_result"
    },
    {
     "data": {
      "image/png": "[encoded data removed]",
      "text/plain": [
       "<Figure size 432x288 with 1 Axes>"
      ]
     },
     "metadata": {
      "needs_background": "light"
     },
     "output_type": "display_data"
    }
   ],
   "source": [
    "sns.boxplot(action_accelerate['y_travel'])"
   ]
  },
  {
   "cell_type": "code",
   "execution_count": 16,
   "metadata": {},
   "outputs": [
    {
     "data": {
      "text/plain": [
       "<AxesSubplot:ylabel='y_travel'>"
      ]
     },
     "execution_count": 16,
     "metadata": {},
     "output_type": "execute_result"
    },
    {
     "data": {
      "image/png": "[encoded data removed]",
      "text/plain": [
       "<Figure size 432x288 with 1 Axes>"
      ]
     },
     "metadata": {
      "needs_background": "light"
     },
     "output_type": "display_data"
    }
   ],
   "source": [
    "sns.boxplot(action_decelerate['y_travel'])"
   ]
  },
  {
   "cell_type": "code",
   "execution_count": 17,
   "metadata": {},
   "outputs": [
    {
     "data": {
      "text/plain": [
       "<AxesSubplot:ylabel='y_travel'>"
      ]
     },
     "execution_count": 17,
     "metadata": {},
     "output_type": "execute_result"
    },
    {
     "data": {
      "image/png": "[encoded data removed]",
      "text/plain": [
       "<Figure size 432x288 with 1 Axes>"
      ]
     },
     "metadata": {
      "needs_background": "light"
     },
     "output_type": "display_data"
    }
   ],
   "source": [
    "sns.boxplot(action_stop['y_travel'])"
   ]
  },
  {
   "cell_type": "code",
   "execution_count": 18,
   "metadata": {},
   "outputs": [
    {
     "data": {
      "text/plain": [
       "746"
      ]
     },
     "execution_count": 18,
     "metadata": {},
     "output_type": "execute_result"
    }
   ],
   "source": [
    "len(datas[(datas['y_travel'] <= -19) & (datas['action_accelerate'] == 1)])"
   ]
  },
  {
   "cell_type": "code",
   "execution_count": 19,
   "metadata": {},
   "outputs": [
    {
     "data": {
      "text/plain": [
       "<Figure size 576x432 with 0 Axes>"
      ]
     },
     "execution_count": 19,
     "metadata": {},
     "output_type": "execute_result"
    },
    {
     "data": {
      "text/plain": [
       "(array([  86.,    3.,    7.,    0.,    0.,    0.,    0.,    4.,  920.,\n",
       "        1548.]),\n",
       " array([-332. , -296.4, -260.8, -225.2, -189.6, -154. , -118.4,  -82.8,\n",
       "         -47.2,  -11.6,   24. ]),\n",
       " <BarContainer object of 10 artists>)"
      ]
     },
     "execution_count": 19,
     "metadata": {},
     "output_type": "execute_result"
    },
    {
     "data": {
      "text/plain": [
       "Text(0.5, 1.0, 'Distribution de la Variable Cible pour les accelerations')"
      ]
     },
     "execution_count": 19,
     "metadata": {},
     "output_type": "execute_result"
    },
    {
     "data": {
      "image/png": "[encoded data removed]",
      "text/plain": [
       "<Figure size 576x432 with 1 Axes>"
      ]
     },
     "metadata": {
      "needs_background": "light"
     },
     "output_type": "display_data"
    }
   ],
   "source": [
    "plt.figure(figsize=(8, 6))\n",
    "plt.hist(action_accelerate['y_travel'], edgecolor='black', alpha=0.7)\n",
    "plt.title('Distribution de la Variable Cible pour les accelerations')\n",
    "# sns.distplot(np.array(datas['y_travel'].values), kde=True)\n",
    "plt.show()"
   ]
  },
  {
   "cell_type": "code",
   "execution_count": 20,
   "metadata": {},
   "outputs": [
    {
     "data": {
      "text/plain": [
       "<Figure size 576x432 with 0 Axes>"
      ]
     },
     "execution_count": 20,
     "metadata": {},
     "output_type": "execute_result"
    },
    {
     "data": {
      "text/plain": [
       "(array([  2.,   2.,  40., 212., 606.,  91., 181., 230., 237., 128.]),\n",
       " array([-53. , -47.5, -42. , -36.5, -31. , -25.5, -20. , -14.5,  -9. ,\n",
       "         -3.5,   2. ]),\n",
       " <BarContainer object of 10 artists>)"
      ]
     },
     "execution_count": 20,
     "metadata": {},
     "output_type": "execute_result"
    },
    {
     "data": {
      "text/plain": [
       "Text(0.5, 1.0, 'Distribution de la Variable Cible pour les decelerations')"
      ]
     },
     "execution_count": 20,
     "metadata": {},
     "output_type": "execute_result"
    },
    {
     "data": {
      "image/png": "[encoded data removed]",
      "text/plain": [
       "<Figure size 576x432 with 1 Axes>"
      ]
     },
     "metadata": {
      "needs_background": "light"
     },
     "output_type": "display_data"
    }
   ],
   "source": [
    "plt.figure(figsize=(8, 6))\n",
    "plt.hist(action_decelerate['y_travel'], edgecolor='black', alpha=0.7)\n",
    "plt.title('Distribution de la Variable Cible pour les decelerations')\n",
    "# sns.distplot(np.array(datas['y_travel'].values), kde=True)\n",
    "plt.show()"
   ]
  },
  {
   "cell_type": "code",
   "execution_count": 21,
   "metadata": {},
   "outputs": [
    {
     "data": {
      "text/plain": [
       "<Figure size 576x432 with 0 Axes>"
      ]
     },
     "execution_count": 21,
     "metadata": {},
     "output_type": "execute_result"
    },
    {
     "data": {
      "text/plain": [
       "(array([  5.,  38.,  99., 499., 442.,  40., 178., 146., 115.,  78.]),\n",
       " array([-47. , -42.7, -38.4, -34.1, -29.8, -25.5, -21.2, -16.9, -12.6,\n",
       "         -8.3,  -4. ]),\n",
       " <BarContainer object of 10 artists>)"
      ]
     },
     "execution_count": 21,
     "metadata": {},
     "output_type": "execute_result"
    },
    {
     "data": {
      "text/plain": [
       "Text(0.5, 1.0, 'Distribution de la Variable Cible pour les stop')"
      ]
     },
     "execution_count": 21,
     "metadata": {},
     "output_type": "execute_result"
    },
    {
     "data": {
      "image/png": "[encoded data removed]",
      "text/plain": [
       "<Figure size 576x432 with 1 Axes>"
      ]
     },
     "metadata": {
      "needs_background": "light"
     },
     "output_type": "display_data"
    }
   ],
   "source": [
    "plt.figure(figsize=(8, 6))\n",
    "plt.hist(action_stop['y_travel'], edgecolor='black', alpha=0.7)\n",
    "plt.title('Distribution de la Variable Cible pour les stop')\n",
    "# sns.distplot(np.array(datas['y_travel'].values), kde=True)\n",
    "plt.show()"
   ]
  },
  {
   "cell_type": "code",
   "execution_count": 22,
   "metadata": {},
   "outputs": [
    {
     "data": {
      "text/plain": [
       "-21.0"
      ]
     },
     "execution_count": 22,
     "metadata": {},
     "output_type": "execute_result"
    }
   ],
   "source": [
    "action_accelerate['y_travel'].quantile(.25)"
   ]
  },
  {
   "cell_type": "code",
   "execution_count": 23,
   "metadata": {},
   "outputs": [
    {
     "data": {
      "text/plain": [
       "5937"
      ]
     },
     "execution_count": 23,
     "metadata": {},
     "output_type": "execute_result"
    }
   ],
   "source": [
    "len(datas)"
   ]
  },
  {
   "cell_type": "code",
   "execution_count": 24,
   "metadata": {},
   "outputs": [],
   "source": [
    "datas_filtered = datas.drop(datas[((datas['action_accelerate'] == 1) & (datas['y_travel']  < -20)) | (datas['y_travel'] <= -40)].index)\n",
    "# datas_filtered = datas.drop(datas[((datas['action_accelerate'] == 1) & (datas['y_travel']  < -50))].index)"
   ]
  },
  {
   "cell_type": "code",
   "execution_count": 25,
   "metadata": {},
   "outputs": [],
   "source": [
    "action_accelerate_filtered = datas_filtered[datas_filtered['action_accelerate'] == 1]\n",
    "action_decelerate_filtered = datas_filtered[datas_filtered['action_decelerate'] == 1]\n",
    "action_stop_filtered = datas_filtered[datas_filtered['action_stop'] == 1]"
   ]
  },
  {
   "cell_type": "code",
   "execution_count": 26,
   "metadata": {},
   "outputs": [
    {
     "data": {
      "text/plain": [
       "<AxesSubplot:ylabel='y_travel'>"
      ]
     },
     "execution_count": 26,
     "metadata": {},
     "output_type": "execute_result"
    },
    {
     "data": {
      "image/png": "[encoded data removed]",
      "text/plain": [
       "<Figure size 432x288 with 1 Axes>"
      ]
     },
     "metadata": {
      "needs_background": "light"
     },
     "output_type": "display_data"
    }
   ],
   "source": [
    "sns.boxplot(action_accelerate_filtered['y_travel'])"
   ]
  },
  {
   "cell_type": "code",
   "execution_count": 27,
   "metadata": {},
   "outputs": [],
   "source": [
    "def filter_iqr_column(df, column):\n",
    "    q1 = df[column].quantile(0.25)\n",
    "    q3 = df[column].quantile(0.75)\n",
    "    iqr = q3 - q1\n",
    "    # lower_bound = q1 - 1.5 * iqr\n",
    "    lower_bound = q1\n",
    "    # upper_bound = q3 + 1.5 * iqr\n",
    "    upper_bound = q3\n",
    "    filtered_df = df[(df[column] >= lower_bound) & (df[column] <= upper_bound)]\n",
    "    return filtered_df"
   ]
  },
  {
   "cell_type": "code",
   "execution_count": 28,
   "metadata": {},
   "outputs": [
    {
     "data": {
      "text/plain": [
       "<AxesSubplot:ylabel='y_travel'>"
      ]
     },
     "execution_count": 28,
     "metadata": {},
     "output_type": "execute_result"
    },
    {
     "data": {
      "image/png": "[encoded data removed]",
      "text/plain": [
       "<Figure size 432x288 with 1 Axes>"
      ]
     },
     "metadata": {
      "needs_background": "light"
     },
     "output_type": "display_data"
    }
   ],
   "source": [
    "sns.boxplot(datas_filtered['y_travel'])"
   ]
  },
  {
   "cell_type": "code",
   "execution_count": 29,
   "metadata": {},
   "outputs": [
    {
     "data": {
      "text/plain": [
       "5211"
      ]
     },
     "execution_count": 29,
     "metadata": {},
     "output_type": "execute_result"
    }
   ],
   "source": [
    "len(datas_filtered)"
   ]
  },
  {
   "cell_type": "code",
   "execution_count": 30,
   "metadata": {},
   "outputs": [],
   "source": [
    "negative_impact = datas_filtered[(datas_filtered['y_travel'] < 0)]\n",
    "positive_impact = datas_filtered[(datas_filtered['y_travel'] >= 0)]\n",
    "\n",
    "# len(negative_impact)\n",
    "# len(positive_impact)\n",
    "# max(negative_impact['y_travel'])\n",
    "# min(negative_impact['y_travel'])\n",
    "# min(positive_impact['y_travel'])\n",
    "# max(positive_impact['y_travel'])"
   ]
  },
  {
   "cell_type": "code",
   "execution_count": 31,
   "metadata": {},
   "outputs": [],
   "source": [
    "negative_impact_filtered = filter_iqr_column(negative_impact, 'y_travel')\n",
    "# len(negative_impact_filtered)\n",
    "# max(negative_impact_filtered['y_travel'])\n",
    "# min(negative_impact_filtered['y_travel'])"
   ]
  },
  {
   "cell_type": "code",
   "execution_count": 32,
   "metadata": {},
   "outputs": [
    {
     "data": {
      "text/plain": [
       "934"
      ]
     },
     "execution_count": 32,
     "metadata": {},
     "output_type": "execute_result"
    }
   ],
   "source": [
    "positive_impact_acc = positive_impact[positive_impact['ActionId'] == 1]\n",
    "positive_impact_otr = positive_impact[positive_impact['ActionId'] != 1]\n",
    "len(positive_impact_acc)"
   ]
  },
  {
   "cell_type": "code",
   "execution_count": 33,
   "metadata": {},
   "outputs": [
    {
     "data": {
      "text/plain": [
       "1641"
      ]
     },
     "execution_count": 33,
     "metadata": {},
     "output_type": "execute_result"
    }
   ],
   "source": [
    "negative_impact_acc = negative_impact[negative_impact['ActionId'] == 1]\n",
    "\n",
    "negative_impact_dec = negative_impact[negative_impact['ActionId'] == 2]\n",
    "\n",
    "negative_impact_stop = negative_impact[negative_impact['ActionId'] == 3]\n",
    "\n",
    "len(negative_impact_dec)"
   ]
  },
  {
   "cell_type": "code",
   "execution_count": 34,
   "metadata": {},
   "outputs": [],
   "source": [
    "datas_filtered = (pd.concat([positive_impact_otr,\n",
    "                             positive_impact_acc,\n",
    "                             negative_impact_acc.sample(750, random_state= 42),\n",
    "                             negative_impact_dec,\n",
    "                             negative_impact_stop], \n",
    "                             ignore_index=True)).sample(frac=1, random_state=42).reset_index(drop=True)\n",
    "\n",
    "# datas_filtered = (pd.concat([action_accelerate_filtered.sample(2000, random_state=42),\n",
    "#                              action_decelerate_filtered,\n",
    "#                              action_stop_filtered], \n",
    "#                              ignore_index=True)).sample(frac=1, random_state=42).reset_index(drop=True)"
   ]
  },
  {
   "cell_type": "code",
   "execution_count": 35,
   "metadata": {},
   "outputs": [
    {
     "data": {
      "text/plain": [
       "4998"
      ]
     },
     "execution_count": 35,
     "metadata": {},
     "output_type": "execute_result"
    }
   ],
   "source": [
    "len(datas_filtered)"
   ]
  },
  {
   "cell_type": "code",
   "execution_count": 36,
   "metadata": {},
   "outputs": [
    {
     "data": {
      "text/plain": [
       "<AxesSubplot:xlabel='count', ylabel='ActionName'>"
      ]
     },
     "execution_count": 36,
     "metadata": {},
     "output_type": "execute_result"
    },
    {
     "data": {
      "image/png": "[encoded data removed]",
      "text/plain": [
       "<Figure size 432x288 with 1 Axes>"
      ]
     },
     "metadata": {
      "needs_background": "light"
     },
     "output_type": "display_data"
    }
   ],
   "source": [
    "sns.countplot(datas_filtered['ActionName'], label=\"Count\")"
   ]
  },
  {
   "cell_type": "code",
   "execution_count": 37,
   "metadata": {},
   "outputs": [],
   "source": [
    "# plt.plot(datas['FuelConsumption'].tolist(), datas['CO2Emission'].tolist())\n",
    "\n",
    "# plt.xlabel(\"Fuel's consumption\")\n",
    "# plt.ylabel('CO2 Emission')\n",
    "# plt.title('Relation FuelConsumption-CO2Emission')"
   ]
  },
  {
   "cell_type": "code",
   "execution_count": null,
   "metadata": {},
   "outputs": [],
   "source": []
  },
  {
   "cell_type": "code",
   "execution_count": 38,
   "metadata": {},
   "outputs": [],
   "source": [
    "# data_transformed1 = pd.get_dummies(datas['ActionName'], prefix='action').astype(int)\n",
    "# datas = pd.concat([datas, data_transformed1], axis=1)"
   ]
  },
  {
   "cell_type": "code",
   "execution_count": 39,
   "metadata": {},
   "outputs": [],
   "source": [
    "# datas_filtered[(datas_filtered['y_travel'] > 0) & (datas_filtered['action_decelerate'] == 1)][['Speed', 'ActionParam', 'ActionDuration', 'DateTime']]"
   ]
  },
  {
   "cell_type": "code",
   "execution_count": 40,
   "metadata": {},
   "outputs": [
    {
     "data": {
      "text/plain": [
       "[<matplotlib.lines.Line2D at 0x1f2d0b367a0>]"
      ]
     },
     "execution_count": 40,
     "metadata": {},
     "output_type": "execute_result"
    },
    {
     "data": {
      "text/plain": [
       "Text(0.5, 1.0, 'Distribution des y_travel')"
      ]
     },
     "execution_count": 40,
     "metadata": {},
     "output_type": "execute_result"
    },
    {
     "data": {
      "text/plain": [
       "Text(0.5, 0, 'Index')"
      ]
     },
     "execution_count": 40,
     "metadata": {},
     "output_type": "execute_result"
    },
    {
     "data": {
      "text/plain": [
       "Text(0, 0.5, 'Valeur')"
      ]
     },
     "execution_count": 40,
     "metadata": {},
     "output_type": "execute_result"
    },
    {
     "data": {
      "image/png": "[encoded data removed]",
      "text/plain": [
       "<Figure size 432x288 with 1 Axes>"
      ]
     },
     "metadata": {
      "needs_background": "light"
     },
     "output_type": "display_data"
    }
   ],
   "source": [
    "plt.plot(datas_filtered['y_travel'])\n",
    "\n",
    "# Ajouter un titre et des labels si nécessaire\n",
    "plt.title('Distribution des y_travel')\n",
    "plt.xlabel('Index')\n",
    "plt.ylabel('Valeur')\n",
    "\n",
    "# Afficher le plot\n",
    "plt.show()"
   ]
  },
  {
   "cell_type": "code",
   "execution_count": 41,
   "metadata": {},
   "outputs": [
    {
     "data": {
      "text/plain": [
       "<Figure size 576x432 with 0 Axes>"
      ]
     },
     "execution_count": 41,
     "metadata": {},
     "output_type": "execute_result"
    },
    {
     "data": {
      "text/plain": [
       "(array([ 387., 1345.,  305.,  696.,  685.,  496.,  575.,  331.,  135.,\n",
       "          43.]),\n",
       " array([-39. , -32.7, -26.4, -20.1, -13.8,  -7.5,  -1.2,   5.1,  11.4,\n",
       "         17.7,  24. ]),\n",
       " <BarContainer object of 10 artists>)"
      ]
     },
     "execution_count": 41,
     "metadata": {},
     "output_type": "execute_result"
    },
    {
     "data": {
      "text/plain": [
       "Text(0.5, 1.0, 'Distribution de la Variable Cible')"
      ]
     },
     "execution_count": 41,
     "metadata": {},
     "output_type": "execute_result"
    },
    {
     "data": {
      "image/png": "[encoded data removed]",
      "text/plain": [
       "<Figure size 576x432 with 1 Axes>"
      ]
     },
     "metadata": {
      "needs_background": "light"
     },
     "output_type": "display_data"
    }
   ],
   "source": [
    "plt.figure(figsize=(8, 6))\n",
    "plt.hist(datas_filtered['y_travel'], edgecolor='black', alpha=0.7)\n",
    "plt.title('Distribution de la Variable Cible')\n",
    "# sns.distplot(np.array(datas['y_travel'].values), kde=True)\n",
    "plt.show()"
   ]
  },
  {
   "cell_type": "code",
   "execution_count": 42,
   "metadata": {},
   "outputs": [
    {
     "data": {
      "text/plain": [
       "Index(['DateTime', 'VehicleID', 'X', 'Y', 'Longitude', 'Latitude', 'Speed',\n",
       "       'Acceleration', 'FuelConsumption', 'CO2Emission', 'TravelTime',\n",
       "       'ActionId', 'ActionName', 'ActionParam', 'ActionDuration',\n",
       "       'LaneMaxSpeed', 'Neighbors', 'AllowedSpeed', 'VehicleAdded',\n",
       "       'VehicleAddedAhead', 'VehicleAddedBehind', 'ActionVehicleAhead',\n",
       "       'ActionVehicleBehind', 'y_travel', 'y_fuel', 'y_co2',\n",
       "       'action_accelerate', 'action_decelerate', 'action_stop'],\n",
       "      dtype='object')"
      ]
     },
     "execution_count": 42,
     "metadata": {},
     "output_type": "execute_result"
    }
   ],
   "source": [
    "datas_filtered.columns"
   ]
  },
  {
   "cell_type": "markdown",
   "metadata": {},
   "source": [
    "### Symetrie des donnees"
   ]
  },
  {
   "cell_type": "code",
   "execution_count": 43,
   "metadata": {},
   "outputs": [],
   "source": [
    "pt = PowerTransformer()\n",
    "datas_filtered['y_travel_transformed'] = pt.fit_transform(datas_filtered['y_travel'].values.reshape(-1, 1)).flatten()"
   ]
  },
  {
   "cell_type": "code",
   "execution_count": 44,
   "metadata": {},
   "outputs": [
    {
     "data": {
      "text/plain": [
       "<Figure size 576x432 with 0 Axes>"
      ]
     },
     "execution_count": 44,
     "metadata": {},
     "output_type": "execute_result"
    },
    {
     "data": {
      "text/plain": [
       "(array([ 387., 1345.,  305.,  594.,  690.,  540.,  565.,  351.,  178.,\n",
       "          43.]),\n",
       " array([-1.66839406, -1.23816106, -0.80792807, -0.37769507,  0.05253792,\n",
       "         0.48277092,  0.91300391,  1.3432369 ,  1.7734699 ,  2.20370289,\n",
       "         2.63393589]),\n",
       " <BarContainer object of 10 artists>)"
      ]
     },
     "execution_count": 44,
     "metadata": {},
     "output_type": "execute_result"
    },
    {
     "data": {
      "text/plain": [
       "Text(0.5, 1.0, 'Distribution de la Variable Cible')"
      ]
     },
     "execution_count": 44,
     "metadata": {},
     "output_type": "execute_result"
    },
    {
     "data": {
      "image/png": "[encoded data removed]",
      "text/plain": [
       "<Figure size 576x432 with 1 Axes>"
      ]
     },
     "metadata": {
      "needs_background": "light"
     },
     "output_type": "display_data"
    }
   ],
   "source": [
    "plt.figure(figsize=(8, 6))\n",
    "plt.hist(datas_filtered['y_travel_transformed'], edgecolor='black', alpha=0.7)\n",
    "plt.title('Distribution de la Variable Cible')\n",
    "plt.show()"
   ]
  },
  {
   "cell_type": "code",
   "execution_count": 45,
   "metadata": {},
   "outputs": [],
   "source": [
    "columns = ['Longitude', 'Latitude', 'Speed', 'LaneMaxSpeed', 'Acceleration', 'action_accelerate', 'action_decelerate', 'action_stop', 'ActionParam', 'ActionDuration','ActionVehicleAhead', 'y_travel', 'y_travel_transformed']"
   ]
  },
  {
   "cell_type": "code",
   "execution_count": 46,
   "metadata": {},
   "outputs": [
    {
     "data": {
      "text/html": [
       "<div>\n",
       "<style scoped>\n",
       "    .dataframe tbody tr th:only-of-type {\n",
       "        vertical-align: middle;\n",
       "    }\n",
       "\n",
       "    .dataframe tbody tr th {\n",
       "        vertical-align: top;\n",
       "    }\n",
       "\n",
       "    .dataframe thead th {\n",
       "        text-align: right;\n",
       "    }\n",
       "</style>\n",
       "<table border=\"1\" class=\"dataframe\">\n",
       "  <thead>\n",
       "    <tr style=\"text-align: right;\">\n",
       "      <th></th>\n",
       "      <th>Longitude</th>\n",
       "      <th>Latitude</th>\n",
       "      <th>Speed</th>\n",
       "      <th>LaneMaxSpeed</th>\n",
       "      <th>Acceleration</th>\n",
       "      <th>action_accelerate</th>\n",
       "      <th>action_decelerate</th>\n",
       "      <th>action_stop</th>\n",
       "      <th>ActionParam</th>\n",
       "      <th>ActionDuration</th>\n",
       "      <th>ActionVehicleAhead</th>\n",
       "      <th>y_travel</th>\n",
       "      <th>y_travel_transformed</th>\n",
       "    </tr>\n",
       "  </thead>\n",
       "  <tbody>\n",
       "    <tr>\n",
       "      <th>skewness</th>\n",
       "      <td>-0.005858</td>\n",
       "      <td>0.474239</td>\n",
       "      <td>0.009725</td>\n",
       "      <td>1.215543</td>\n",
       "      <td>0.529745</td>\n",
       "      <td>0.690193</td>\n",
       "      <td>0.665692</td>\n",
       "      <td>0.767406</td>\n",
       "      <td>0.308034</td>\n",
       "      <td>-0.069731</td>\n",
       "      <td>0.717093</td>\n",
       "      <td>0.370102</td>\n",
       "      <td>0.340142</td>\n",
       "    </tr>\n",
       "    <tr>\n",
       "      <th>kurtosis</th>\n",
       "      <td>-0.758393</td>\n",
       "      <td>-1.107491</td>\n",
       "      <td>-1.123888</td>\n",
       "      <td>1.566087</td>\n",
       "      <td>-0.353301</td>\n",
       "      <td>-1.524243</td>\n",
       "      <td>-1.557477</td>\n",
       "      <td>-1.411653</td>\n",
       "      <td>-0.984239</td>\n",
       "      <td>-1.206208</td>\n",
       "      <td>-0.105867</td>\n",
       "      <td>-0.968287</td>\n",
       "      <td>-1.017647</td>\n",
       "    </tr>\n",
       "  </tbody>\n",
       "</table>\n",
       "</div>"
      ],
      "text/plain": [
       "          Longitude  Latitude     Speed  LaneMaxSpeed  Acceleration  \\\n",
       "skewness  -0.005858  0.474239  0.009725      1.215543      0.529745   \n",
       "kurtosis  -0.758393 -1.107491 -1.123888      1.566087     -0.353301   \n",
       "\n",
       "          action_accelerate  action_decelerate  action_stop  ActionParam  \\\n",
       "skewness           0.690193           0.665692     0.767406     0.308034   \n",
       "kurtosis          -1.524243          -1.557477    -1.411653    -0.984239   \n",
       "\n",
       "          ActionDuration  ActionVehicleAhead  y_travel  y_travel_transformed  \n",
       "skewness       -0.069731            0.717093  0.370102              0.340142  \n",
       "kurtosis       -1.206208           -0.105867 -0.968287             -1.017647  "
      ]
     },
     "execution_count": 46,
     "metadata": {},
     "output_type": "execute_result"
    }
   ],
   "source": [
    "pd.DataFrame(data=[datas_filtered[columns].skew(), datas_filtered[columns].kurtosis()], index=['skewness', 'kurtosis'])\n",
    "# pd.DataFrame({\"skewnwess\":datas_filtered[columns].skew(), \"kurtosis\": datas_filtered[columns].kurtosis()}).T"
   ]
  },
  {
   "cell_type": "code",
   "execution_count": 47,
   "metadata": {},
   "outputs": [
    {
     "data": {
      "text/html": [
       "<div>\n",
       "<style scoped>\n",
       "    .dataframe tbody tr th:only-of-type {\n",
       "        vertical-align: middle;\n",
       "    }\n",
       "\n",
       "    .dataframe tbody tr th {\n",
       "        vertical-align: top;\n",
       "    }\n",
       "\n",
       "    .dataframe thead th {\n",
       "        text-align: right;\n",
       "    }\n",
       "</style>\n",
       "<table border=\"1\" class=\"dataframe\">\n",
       "  <thead>\n",
       "    <tr style=\"text-align: right;\">\n",
       "      <th></th>\n",
       "      <th>y_travel_transformed</th>\n",
       "    </tr>\n",
       "  </thead>\n",
       "  <tbody>\n",
       "    <tr>\n",
       "      <th>skewness</th>\n",
       "      <td>0.340142</td>\n",
       "    </tr>\n",
       "    <tr>\n",
       "      <th>kurtosis</th>\n",
       "      <td>-1.017647</td>\n",
       "    </tr>\n",
       "  </tbody>\n",
       "</table>\n",
       "</div>"
      ],
      "text/plain": [
       "          y_travel_transformed\n",
       "skewness              0.340142\n",
       "kurtosis             -1.017647"
      ]
     },
     "execution_count": 47,
     "metadata": {},
     "output_type": "execute_result"
    }
   ],
   "source": [
    "pd.DataFrame(data=[datas_filtered[['y_travel_transformed']].skew(), datas_filtered[['y_travel_transformed']].kurtosis()], index=['skewness', 'kurtosis'])\n",
    "# pd.DataFrame({\"skewnwess\":datas_filtered[columns].skew(), \"kurtosis\": datas_filtered[columns].kurtosis()}).T"
   ]
  },
  {
   "cell_type": "markdown",
   "metadata": {},
   "source": [
    "### Correlation entre l'action et l'impact"
   ]
  },
  {
   "cell_type": "code",
   "execution_count": 48,
   "metadata": {},
   "outputs": [],
   "source": [
    "final_datas = datas_filtered[[ 'Longitude','Latitude', 'Speed', 'Acceleration','LaneMaxSpeed',  'ActionId','action_accelerate', 'action_decelerate',\n",
    "       'action_stop',  'ActionParam', 'ActionDuration','ActionVehicleAhead', 'y_travel', 'y_travel_transformed']]"
   ]
  },
  {
   "cell_type": "code",
   "execution_count": 49,
   "metadata": {},
   "outputs": [
    {
     "data": {
      "text/plain": [
       "<Figure size 1296x72 with 0 Axes>"
      ]
     },
     "execution_count": 49,
     "metadata": {},
     "output_type": "execute_result"
    },
    {
     "data": {
      "text/plain": [
       "<AxesSubplot:>"
      ]
     },
     "execution_count": 49,
     "metadata": {},
     "output_type": "execute_result"
    },
    {
     "data": {
      "text/plain": [
       "Text(0.5, 1.0, 'Matrice de corrélation Pearson')"
      ]
     },
     "execution_count": 49,
     "metadata": {},
     "output_type": "execute_result"
    },
    {
     "data": {
      "image/png": "[encoded data removed]",
      "text/plain": [
       "<Figure size 1296x72 with 2 Axes>"
      ]
     },
     "metadata": {
      "needs_background": "light"
     },
     "output_type": "display_data"
    }
   ],
   "source": [
    "# Calculer la matrice de corrélation de Pearson\n",
    "correlation_matrix_spearman = final_datas.corr()\n",
    "# Afficher la matrice de corrélation\n",
    "# print(\"Matrice de corrélation Spearman:\\n\", correlation_matrix_spearman)\n",
    "\n",
    "# Visualiser la matrice de corrélation\n",
    "plt.figure(figsize=(18, 1))\n",
    "sns.heatmap(correlation_matrix_spearman.iloc[[-2]], annot=True, cmap='RdBu_r', center=0, vmin=-1, vmax=1)\n",
    "plt.title('Matrice de corrélation Pearson')\n",
    "plt.show()"
   ]
  },
  {
   "cell_type": "code",
   "execution_count": 50,
   "metadata": {},
   "outputs": [
    {
     "data": {
      "text/plain": [
       "<Figure size 1296x72 with 0 Axes>"
      ]
     },
     "execution_count": 50,
     "metadata": {},
     "output_type": "execute_result"
    },
    {
     "data": {
      "text/plain": [
       "<AxesSubplot:>"
      ]
     },
     "execution_count": 50,
     "metadata": {},
     "output_type": "execute_result"
    },
    {
     "data": {
      "text/plain": [
       "Text(0.5, 1.0, 'Matrice de corrélation Spearman')"
      ]
     },
     "execution_count": 50,
     "metadata": {},
     "output_type": "execute_result"
    },
    {
     "data": {
      "image/png": "[encoded data removed]",
      "text/plain": [
       "<Figure size 1296x72 with 2 Axes>"
      ]
     },
     "metadata": {
      "needs_background": "light"
     },
     "output_type": "display_data"
    }
   ],
   "source": [
    "# Calculer la matrice de corrélation de Spearman\n",
    "correlation_matrix_spearman = final_datas.corr(method=\"spearman\")\n",
    "\n",
    "# Afficher la matrice de corrélation\n",
    "# print(\"Matrice de corrélation Spearman:\\n\", correlation_matrix_spearman)\n",
    "\n",
    "# Visualiser la matrice de corrélation\n",
    "plt.figure(figsize=(18, 1))\n",
    "sns.heatmap(correlation_matrix_spearman.iloc[[-2]], annot=True, cmap='coolwarm', center=0, vmin=-1, vmax=1)\n",
    "plt.title('Matrice de corrélation Spearman')\n",
    "plt.show()"
   ]
  },
  {
   "cell_type": "code",
   "execution_count": 51,
   "metadata": {},
   "outputs": [],
   "source": [
    "new_datas = pd.read_csv(\"final_datas.csv\")"
   ]
  },
  {
   "cell_type": "code",
   "execution_count": 52,
   "metadata": {},
   "outputs": [
    {
     "data": {
      "text/plain": [
       "<Figure size 576x432 with 0 Axes>"
      ]
     },
     "execution_count": 52,
     "metadata": {},
     "output_type": "execute_result"
    },
    {
     "data": {
      "text/plain": [
       "(array([  15.,  115., 1320., 1002.,  752.,  818.,  635.,  377.,  225.,\n",
       "          40.]),\n",
       " array([-51. , -43.5, -36. , -28.5, -21. , -13.5,  -6. ,   1.5,   9. ,\n",
       "         16.5,  24. ]),\n",
       " <BarContainer object of 10 artists>)"
      ]
     },
     "execution_count": 52,
     "metadata": {},
     "output_type": "execute_result"
    },
    {
     "data": {
      "text/plain": [
       "Text(0.5, 1.0, 'Distribution de la Variable Cible')"
      ]
     },
     "execution_count": 52,
     "metadata": {},
     "output_type": "execute_result"
    },
    {
     "data": {
      "image/png": "[encoded data removed]",
      "text/plain": [
       "<Figure size 576x432 with 1 Axes>"
      ]
     },
     "metadata": {
      "needs_background": "light"
     },
     "output_type": "display_data"
    }
   ],
   "source": [
    "plt.figure(figsize=(8, 6))\n",
    "plt.hist(new_datas['y_travel'], edgecolor='black', alpha=0.7)\n",
    "plt.title('Distribution de la Variable Cible')\n",
    "# sns.distplot(np.array(datas['y_travel'].values), kde=True)\n",
    "plt.show()"
   ]
  },
  {
   "cell_type": "markdown",
   "metadata": {},
   "source": [
    "### Test des modeles"
   ]
  },
  {
   "cell_type": "code",
   "execution_count": 114,
   "metadata": {},
   "outputs": [
    {
     "data": {
      "text/plain": [
       "0.0"
      ]
     },
     "execution_count": 114,
     "metadata": {},
     "output_type": "execute_result"
    },
    {
     "data": {
      "text/plain": [
       "14.996217642026975"
      ]
     },
     "execution_count": 114,
     "metadata": {},
     "output_type": "execute_result"
    }
   ],
   "source": [
    "min(new_datas['ActionParam'])\n",
    "max(new_datas['ActionParam'])"
   ]
  },
  {
   "cell_type": "code",
   "execution_count": 53,
   "metadata": {},
   "outputs": [],
   "source": [
    "import pandas as pd\n",
    "import matplotlib.pyplot as plt\n",
    "from sklearn.model_selection import train_test_split\n",
    "from sklearn.preprocessing import StandardScaler\n",
    "from sklearn.linear_model import LinearRegression, Ridge, Lasso, ElasticNet, SGDRegressor\n",
    "from sklearn.svm import SVR\n",
    "from sklearn.tree import DecisionTreeRegressor\n",
    "from sklearn.ensemble import RandomForestRegressor, GradientBoostingRegressor, AdaBoostRegressor, VotingRegressor, BaggingRegressor, StackingRegressor\n",
    "from sklearn.neighbors import KNeighborsRegressor\n",
    "from sklearn.metrics import mean_squared_error, r2_score\n",
    "from sklearn.multioutput import MultiOutputRegressor"
   ]
  },
  {
   "cell_type": "code",
   "execution_count": 54,
   "metadata": {},
   "outputs": [],
   "source": [
    "sign =  lambda x: 1 if x > 0 else (-1 if x < 0 else 0)"
   ]
  },
  {
   "cell_type": "code",
   "execution_count": 55,
   "metadata": {},
   "outputs": [],
   "source": [
    "# ml_columns = ['Longitude', 'Latitude', 'Speed','Acceleration', 'LaneMaxSpeed', 'ActionVehicleAhead',\n",
    "#                  'action_accelerate', 'action_decelerate', 'action_stop',  'ActionParam', 'ActionDuration']"
   ]
  },
  {
   "cell_type": "code",
   "execution_count": 56,
   "metadata": {},
   "outputs": [],
   "source": [
    "# from sklearn.ensemble import IsolationForest\n",
    "\n",
    "# # Detection des outliers\n",
    "# iso = IsolationForest(contamination=0.1)\n",
    "# outliers = iso.fit_predict(datas[ml_columns])\n",
    "\n",
    "# # Ajouter les résultats des outliers au DataFrame\n",
    "# datas['Outlier'] = outliers\n",
    "\n",
    "# # Filtrer les outliers\n",
    "# outliers_df = datas[datas['Outlier'] == -1]\n",
    "\n",
    "# print(\"Lignes identifiées comme outliers:\")\n",
    "# len(outliers_df)"
   ]
  },
  {
   "cell_type": "code",
   "execution_count": 57,
   "metadata": {},
   "outputs": [],
   "source": [
    "# new_datas = datas.drop(datas[(datas['Outlier'] == -1)].index)\n",
    "# len(new_datas)"
   ]
  },
  {
   "cell_type": "code",
   "execution_count": 58,
   "metadata": {},
   "outputs": [],
   "source": [
    "X_travel = new_datas[['Longitude', 'Latitude', 'Speed','Acceleration','ActionVehicleAhead',\n",
    "                 'action_accelerate', 'action_decelerate', 'action_stop',  'ActionParam', 'StartTime', 'EndTime']].values\n",
    "y_travel = new_datas['y_travel'].values\n",
    "# y_travel = [[sign(y), abs(y)] for y in y_travel]\n",
    "# y_travel"
   ]
  },
  {
   "cell_type": "code",
   "execution_count": 59,
   "metadata": {},
   "outputs": [],
   "source": [
    "# test = datas[datas['TravelTime'] > 130]\n",
    "# test[['ActionId', 'ActionDuration', 'TravelTime', 'y_travel']]\n",
    "# len(test[test['ActionId'] == 2])"
   ]
  },
  {
   "cell_type": "code",
   "execution_count": 60,
   "metadata": {},
   "outputs": [],
   "source": [
    "scaler = StandardScaler()\n",
    "X_travel = scaler.fit_transform(X_travel)"
   ]
  },
  {
   "cell_type": "code",
   "execution_count": 92,
   "metadata": {},
   "outputs": [],
   "source": [
    "X_train, X_test, y_train, y_test = train_test_split(X_travel, y_travel, test_size=0.25, random_state=42)"
   ]
  },
  {
   "cell_type": "code",
   "execution_count": 62,
   "metadata": {},
   "outputs": [
    {
     "data": {
      "text/plain": [
       "-39.0"
      ]
     },
     "execution_count": 62,
     "metadata": {},
     "output_type": "execute_result"
    },
    {
     "data": {
      "text/plain": [
       "24.0"
      ]
     },
     "execution_count": 62,
     "metadata": {},
     "output_type": "execute_result"
    }
   ],
   "source": [
    "min(datas_filtered['y_travel'])\n",
    "max(datas_filtered['y_travel'])\n",
    "# len(datas_filtered['ActionVehicleAhead'].unique())"
   ]
  },
  {
   "cell_type": "code",
   "execution_count": 94,
   "metadata": {},
   "outputs": [],
   "source": [
    "# Initialiser les modèles\n",
    "models = {\n",
    "    'Linear': LinearRegression(),\n",
    "    'Ridge': Ridge(),\n",
    "    'Lasso': Lasso(),\n",
    "    'ElasticNet': ElasticNet(),\n",
    "    'SVR Linear': SVR(kernel='linear'),\n",
    "    'SVR Poly': SVR(kernel='poly'),\n",
    "    'SVR RBF': SVR(kernel='rbf'),\n",
    "    # 'SVR Sigmoid': SVR(kernel='sigmoid'),\n",
    "    'Decision Tree': DecisionTreeRegressor(),\n",
    "    'Random Forest': RandomForestRegressor(),\n",
    "    'Gradient Boosting': GradientBoostingRegressor(),\n",
    "    'K-Nearest Neighbors': KNeighborsRegressor()\n",
    "}"
   ]
  },
  {
   "cell_type": "code",
   "execution_count": 64,
   "metadata": {},
   "outputs": [],
   "source": [
    "# Utiliser MultiOutputRegressor pour chaque modèle\n",
    "multi_output_models = {name: MultiOutputRegressor(model) for name, model in models.items()}"
   ]
  },
  {
   "cell_type": "code",
   "execution_count": 65,
   "metadata": {},
   "outputs": [],
   "source": [
    "def normalized_root_mean_squared_error(y_true, y_pred):\n",
    "    val_min, val_max = min(y_true), max(y_true)\n",
    "    mse = mean_squared_error(y_true, y_pred)\n",
    "    rmse = np.sqrt(mse)\n",
    "    return rmse / (val_max - val_min) "
   ]
  },
  {
   "cell_type": "markdown",
   "metadata": {},
   "source": [
    "### Cross Validation"
   ]
  },
  {
   "cell_type": "code",
   "execution_count": 95,
   "metadata": {},
   "outputs": [
    {
     "name": "stdout",
     "output_type": "stream",
     "text": [
      "Linear: 0.6760806940395038 (0.01819984020149314)\n",
      "Ridge: 0.6763455491895416 (0.01822906353576673)\n",
      "Lasso: 0.6061102798182411 (0.015682926172147817)\n",
      "ElasticNet: 0.4936158998850829 (0.014947979676680056)\n",
      "SVR Linear: 0.6668868279340304 (0.02114410308959386)\n",
      "SVR Poly: 0.6410334219812246 (0.025619504675703224)\n",
      "SVR RBF: 0.7062705065658712 (0.020545097569879343)\n",
      "Decision Tree: 0.5827924587788702 (0.03773050372177939)\n",
      "Random Forest: 0.778867308186898 (0.020488987510121848)\n",
      "Gradient Boosting: 0.7328051259828515 (0.01740399372243145)\n",
      "K-Nearest Neighbors: 0.6805298504137642 (0.030231257751079193)\n"
     ]
    }
   ],
   "source": [
    "from sklearn.model_selection import KFold, cross_val_score\n",
    "\n",
    "names = []\n",
    "result = []\n",
    "\n",
    "for name, model in models.items():\n",
    "    kfold = KFold(n_splits=10, random_state= 1, shuffle=True)\n",
    "    cv_results = cross_val_score(model, X_train, y_train, cv=kfold, scoring='r2')\n",
    "    result.append(cv_results)\n",
    "    names.append(name)\n",
    "    msg = \"{0}: {1} ({2})\".format(name, cv_results.mean(), cv_results.std())\n",
    "    print(msg)"
   ]
  },
  {
   "cell_type": "code",
   "execution_count": 96,
   "metadata": {},
   "outputs": [
    {
     "data": {
      "text/html": [
       "<style>#sk-container-id-15 {color: black;background-color: white;}#sk-container-id-15 pre{padding: 0;}#sk-container-id-15 div.sk-toggleable {background-color: white;}#sk-container-id-15 label.sk-toggleable__label {cursor: pointer;display: block;width: 100%;margin-bottom: 0;padding: 0.3em;box-sizing: border-box;text-align: center;}#sk-container-id-15 label.sk-toggleable__label-arrow:before {content: \"▸\";float: left;margin-right: 0.25em;color: #696969;}#sk-container-id-15 label.sk-toggleable__label-arrow:hover:before {color: black;}#sk-container-id-15 div.sk-estimator:hover label.sk-toggleable__label-arrow:before {color: black;}#sk-container-id-15 div.sk-toggleable__content {max-height: 0;max-width: 0;overflow: hidden;text-align: left;background-color: #f0f8ff;}#sk-container-id-15 div.sk-toggleable__content pre {margin: 0.2em;color: black;border-radius: 0.25em;background-color: #f0f8ff;}#sk-container-id-15 input.sk-toggleable__control:checked~div.sk-toggleable__content {max-height: 200px;max-width: 100%;overflow: auto;}#sk-container-id-15 input.sk-toggleable__control:checked~label.sk-toggleable__label-arrow:before {content: \"▾\";}#sk-container-id-15 div.sk-estimator input.sk-toggleable__control:checked~label.sk-toggleable__label {background-color: #d4ebff;}#sk-container-id-15 div.sk-label input.sk-toggleable__control:checked~label.sk-toggleable__label {background-color: #d4ebff;}#sk-container-id-15 input.sk-hidden--visually {border: 0;clip: rect(1px 1px 1px 1px);clip: rect(1px, 1px, 1px, 1px);height: 1px;margin: -1px;overflow: hidden;padding: 0;position: absolute;width: 1px;}#sk-container-id-15 div.sk-estimator {font-family: monospace;background-color: #f0f8ff;border: 1px dotted black;border-radius: 0.25em;box-sizing: border-box;margin-bottom: 0.5em;}#sk-container-id-15 div.sk-estimator:hover {background-color: #d4ebff;}#sk-container-id-15 div.sk-parallel-item::after {content: \"\";width: 100%;border-bottom: 1px solid gray;flex-grow: 1;}#sk-container-id-15 div.sk-label:hover label.sk-toggleable__label {background-color: #d4ebff;}#sk-container-id-15 div.sk-serial::before {content: \"\";position: absolute;border-left: 1px solid gray;box-sizing: border-box;top: 0;bottom: 0;left: 50%;z-index: 0;}#sk-container-id-15 div.sk-serial {display: flex;flex-direction: column;align-items: center;background-color: white;padding-right: 0.2em;padding-left: 0.2em;position: relative;}#sk-container-id-15 div.sk-item {position: relative;z-index: 1;}#sk-container-id-15 div.sk-parallel {display: flex;align-items: stretch;justify-content: center;background-color: white;position: relative;}#sk-container-id-15 div.sk-item::before, #sk-container-id-15 div.sk-parallel-item::before {content: \"\";position: absolute;border-left: 1px solid gray;box-sizing: border-box;top: 0;bottom: 0;left: 50%;z-index: -1;}#sk-container-id-15 div.sk-parallel-item {display: flex;flex-direction: column;z-index: 1;position: relative;background-color: white;}#sk-container-id-15 div.sk-parallel-item:first-child::after {align-self: flex-end;width: 50%;}#sk-container-id-15 div.sk-parallel-item:last-child::after {align-self: flex-start;width: 50%;}#sk-container-id-15 div.sk-parallel-item:only-child::after {width: 0;}#sk-container-id-15 div.sk-dashed-wrapped {border: 1px dashed gray;margin: 0 0.4em 0.5em 0.4em;box-sizing: border-box;padding-bottom: 0.4em;background-color: white;}#sk-container-id-15 div.sk-label label {font-family: monospace;font-weight: bold;display: inline-block;line-height: 1.2em;}#sk-container-id-15 div.sk-label-container {text-align: center;}#sk-container-id-15 div.sk-container {/* jupyter's `normalize.less` sets `[hidden] { display: none; }` but bootstrap.min.css set `[hidden] { display: none !important; }` so we also need the `!important` here to be able to override the default hidden behavior on the sphinx rendered scikit-learn.org. See: https://github.com/scikit-learn/scikit-learn/issues/21755 */display: inline-block !important;position: relative;}#sk-container-id-15 div.sk-text-repr-fallback {display: none;}</style><div id=\"sk-container-id-15\" class=\"sk-top-container\"><div class=\"sk-text-repr-fallback\"><pre>LinearRegression()</pre><b>In a Jupyter environment, please rerun this cell to show the HTML representation or trust the notebook. <br />On GitHub, the HTML representation is unable to render, please try loading this page with nbviewer.org.</b></div><div class=\"sk-container\" hidden><div class=\"sk-item\"><div class=\"sk-estimator sk-toggleable\"><input class=\"sk-toggleable__control sk-hidden--visually\" id=\"sk-estimator-id-20\" type=\"checkbox\" checked><label for=\"sk-estimator-id-20\" class=\"sk-toggleable__label sk-toggleable__label-arrow\">LinearRegression</label><div class=\"sk-toggleable__content\"><pre>LinearRegression()</pre></div></div></div></div></div>"
      ],
      "text/plain": [
       "LinearRegression()"
      ]
     },
     "execution_count": 96,
     "metadata": {},
     "output_type": "execute_result"
    },
    {
     "name": "stdout",
     "output_type": "stream",
     "text": [
      "Train Mean Squared Error for Linear: 0.10472678773855526\n",
      "Test Mean Squared Error for Linear: 0.10784915786434283\n",
      "Train R2 Score Linear: 0.6786145983195817\n",
      "Test R2 Score Linear: 0.6994825026623417\n"
     ]
    },
    {
     "data": {
      "text/html": [
       "<style>#sk-container-id-16 {color: black;background-color: white;}#sk-container-id-16 pre{padding: 0;}#sk-container-id-16 div.sk-toggleable {background-color: white;}#sk-container-id-16 label.sk-toggleable__label {cursor: pointer;display: block;width: 100%;margin-bottom: 0;padding: 0.3em;box-sizing: border-box;text-align: center;}#sk-container-id-16 label.sk-toggleable__label-arrow:before {content: \"▸\";float: left;margin-right: 0.25em;color: #696969;}#sk-container-id-16 label.sk-toggleable__label-arrow:hover:before {color: black;}#sk-container-id-16 div.sk-estimator:hover label.sk-toggleable__label-arrow:before {color: black;}#sk-container-id-16 div.sk-toggleable__content {max-height: 0;max-width: 0;overflow: hidden;text-align: left;background-color: #f0f8ff;}#sk-container-id-16 div.sk-toggleable__content pre {margin: 0.2em;color: black;border-radius: 0.25em;background-color: #f0f8ff;}#sk-container-id-16 input.sk-toggleable__control:checked~div.sk-toggleable__content {max-height: 200px;max-width: 100%;overflow: auto;}#sk-container-id-16 input.sk-toggleable__control:checked~label.sk-toggleable__label-arrow:before {content: \"▾\";}#sk-container-id-16 div.sk-estimator input.sk-toggleable__control:checked~label.sk-toggleable__label {background-color: #d4ebff;}#sk-container-id-16 div.sk-label input.sk-toggleable__control:checked~label.sk-toggleable__label {background-color: #d4ebff;}#sk-container-id-16 input.sk-hidden--visually {border: 0;clip: rect(1px 1px 1px 1px);clip: rect(1px, 1px, 1px, 1px);height: 1px;margin: -1px;overflow: hidden;padding: 0;position: absolute;width: 1px;}#sk-container-id-16 div.sk-estimator {font-family: monospace;background-color: #f0f8ff;border: 1px dotted black;border-radius: 0.25em;box-sizing: border-box;margin-bottom: 0.5em;}#sk-container-id-16 div.sk-estimator:hover {background-color: #d4ebff;}#sk-container-id-16 div.sk-parallel-item::after {content: \"\";width: 100%;border-bottom: 1px solid gray;flex-grow: 1;}#sk-container-id-16 div.sk-label:hover label.sk-toggleable__label {background-color: #d4ebff;}#sk-container-id-16 div.sk-serial::before {content: \"\";position: absolute;border-left: 1px solid gray;box-sizing: border-box;top: 0;bottom: 0;left: 50%;z-index: 0;}#sk-container-id-16 div.sk-serial {display: flex;flex-direction: column;align-items: center;background-color: white;padding-right: 0.2em;padding-left: 0.2em;position: relative;}#sk-container-id-16 div.sk-item {position: relative;z-index: 1;}#sk-container-id-16 div.sk-parallel {display: flex;align-items: stretch;justify-content: center;background-color: white;position: relative;}#sk-container-id-16 div.sk-item::before, #sk-container-id-16 div.sk-parallel-item::before {content: \"\";position: absolute;border-left: 1px solid gray;box-sizing: border-box;top: 0;bottom: 0;left: 50%;z-index: -1;}#sk-container-id-16 div.sk-parallel-item {display: flex;flex-direction: column;z-index: 1;position: relative;background-color: white;}#sk-container-id-16 div.sk-parallel-item:first-child::after {align-self: flex-end;width: 50%;}#sk-container-id-16 div.sk-parallel-item:last-child::after {align-self: flex-start;width: 50%;}#sk-container-id-16 div.sk-parallel-item:only-child::after {width: 0;}#sk-container-id-16 div.sk-dashed-wrapped {border: 1px dashed gray;margin: 0 0.4em 0.5em 0.4em;box-sizing: border-box;padding-bottom: 0.4em;background-color: white;}#sk-container-id-16 div.sk-label label {font-family: monospace;font-weight: bold;display: inline-block;line-height: 1.2em;}#sk-container-id-16 div.sk-label-container {text-align: center;}#sk-container-id-16 div.sk-container {/* jupyter's `normalize.less` sets `[hidden] { display: none; }` but bootstrap.min.css set `[hidden] { display: none !important; }` so we also need the `!important` here to be able to override the default hidden behavior on the sphinx rendered scikit-learn.org. See: https://github.com/scikit-learn/scikit-learn/issues/21755 */display: inline-block !important;position: relative;}#sk-container-id-16 div.sk-text-repr-fallback {display: none;}</style><div id=\"sk-container-id-16\" class=\"sk-top-container\"><div class=\"sk-text-repr-fallback\"><pre>Ridge()</pre><b>In a Jupyter environment, please rerun this cell to show the HTML representation or trust the notebook. <br />On GitHub, the HTML representation is unable to render, please try loading this page with nbviewer.org.</b></div><div class=\"sk-container\" hidden><div class=\"sk-item\"><div class=\"sk-estimator sk-toggleable\"><input class=\"sk-toggleable__control sk-hidden--visually\" id=\"sk-estimator-id-21\" type=\"checkbox\" checked><label for=\"sk-estimator-id-21\" class=\"sk-toggleable__label sk-toggleable__label-arrow\">Ridge</label><div class=\"sk-toggleable__content\"><pre>Ridge()</pre></div></div></div></div></div>"
      ],
      "text/plain": [
       "Ridge()"
      ]
     },
     "execution_count": 96,
     "metadata": {},
     "output_type": "execute_result"
    },
    {
     "name": "stdout",
     "output_type": "stream",
     "text": [
      "Train Mean Squared Error for Ridge: 0.10472614767099207\n",
      "Test Mean Squared Error for Ridge: 0.10788355435520837\n",
      "Train R2 Score Ridge: 0.6786185267842413\n",
      "Test R2 Score Ridge: 0.6992907831178619\n"
     ]
    },
    {
     "data": {
      "text/html": [
       "<style>#sk-container-id-17 {color: black;background-color: white;}#sk-container-id-17 pre{padding: 0;}#sk-container-id-17 div.sk-toggleable {background-color: white;}#sk-container-id-17 label.sk-toggleable__label {cursor: pointer;display: block;width: 100%;margin-bottom: 0;padding: 0.3em;box-sizing: border-box;text-align: center;}#sk-container-id-17 label.sk-toggleable__label-arrow:before {content: \"▸\";float: left;margin-right: 0.25em;color: #696969;}#sk-container-id-17 label.sk-toggleable__label-arrow:hover:before {color: black;}#sk-container-id-17 div.sk-estimator:hover label.sk-toggleable__label-arrow:before {color: black;}#sk-container-id-17 div.sk-toggleable__content {max-height: 0;max-width: 0;overflow: hidden;text-align: left;background-color: #f0f8ff;}#sk-container-id-17 div.sk-toggleable__content pre {margin: 0.2em;color: black;border-radius: 0.25em;background-color: #f0f8ff;}#sk-container-id-17 input.sk-toggleable__control:checked~div.sk-toggleable__content {max-height: 200px;max-width: 100%;overflow: auto;}#sk-container-id-17 input.sk-toggleable__control:checked~label.sk-toggleable__label-arrow:before {content: \"▾\";}#sk-container-id-17 div.sk-estimator input.sk-toggleable__control:checked~label.sk-toggleable__label {background-color: #d4ebff;}#sk-container-id-17 div.sk-label input.sk-toggleable__control:checked~label.sk-toggleable__label {background-color: #d4ebff;}#sk-container-id-17 input.sk-hidden--visually {border: 0;clip: rect(1px 1px 1px 1px);clip: rect(1px, 1px, 1px, 1px);height: 1px;margin: -1px;overflow: hidden;padding: 0;position: absolute;width: 1px;}#sk-container-id-17 div.sk-estimator {font-family: monospace;background-color: #f0f8ff;border: 1px dotted black;border-radius: 0.25em;box-sizing: border-box;margin-bottom: 0.5em;}#sk-container-id-17 div.sk-estimator:hover {background-color: #d4ebff;}#sk-container-id-17 div.sk-parallel-item::after {content: \"\";width: 100%;border-bottom: 1px solid gray;flex-grow: 1;}#sk-container-id-17 div.sk-label:hover label.sk-toggleable__label {background-color: #d4ebff;}#sk-container-id-17 div.sk-serial::before {content: \"\";position: absolute;border-left: 1px solid gray;box-sizing: border-box;top: 0;bottom: 0;left: 50%;z-index: 0;}#sk-container-id-17 div.sk-serial {display: flex;flex-direction: column;align-items: center;background-color: white;padding-right: 0.2em;padding-left: 0.2em;position: relative;}#sk-container-id-17 div.sk-item {position: relative;z-index: 1;}#sk-container-id-17 div.sk-parallel {display: flex;align-items: stretch;justify-content: center;background-color: white;position: relative;}#sk-container-id-17 div.sk-item::before, #sk-container-id-17 div.sk-parallel-item::before {content: \"\";position: absolute;border-left: 1px solid gray;box-sizing: border-box;top: 0;bottom: 0;left: 50%;z-index: -1;}#sk-container-id-17 div.sk-parallel-item {display: flex;flex-direction: column;z-index: 1;position: relative;background-color: white;}#sk-container-id-17 div.sk-parallel-item:first-child::after {align-self: flex-end;width: 50%;}#sk-container-id-17 div.sk-parallel-item:last-child::after {align-self: flex-start;width: 50%;}#sk-container-id-17 div.sk-parallel-item:only-child::after {width: 0;}#sk-container-id-17 div.sk-dashed-wrapped {border: 1px dashed gray;margin: 0 0.4em 0.5em 0.4em;box-sizing: border-box;padding-bottom: 0.4em;background-color: white;}#sk-container-id-17 div.sk-label label {font-family: monospace;font-weight: bold;display: inline-block;line-height: 1.2em;}#sk-container-id-17 div.sk-label-container {text-align: center;}#sk-container-id-17 div.sk-container {/* jupyter's `normalize.less` sets `[hidden] { display: none; }` but bootstrap.min.css set `[hidden] { display: none !important; }` so we also need the `!important` here to be able to override the default hidden behavior on the sphinx rendered scikit-learn.org. See: https://github.com/scikit-learn/scikit-learn/issues/21755 */display: inline-block !important;position: relative;}#sk-container-id-17 div.sk-text-repr-fallback {display: none;}</style><div id=\"sk-container-id-17\" class=\"sk-top-container\"><div class=\"sk-text-repr-fallback\"><pre>Lasso()</pre><b>In a Jupyter environment, please rerun this cell to show the HTML representation or trust the notebook. <br />On GitHub, the HTML representation is unable to render, please try loading this page with nbviewer.org.</b></div><div class=\"sk-container\" hidden><div class=\"sk-item\"><div class=\"sk-estimator sk-toggleable\"><input class=\"sk-toggleable__control sk-hidden--visually\" id=\"sk-estimator-id-22\" type=\"checkbox\" checked><label for=\"sk-estimator-id-22\" class=\"sk-toggleable__label sk-toggleable__label-arrow\">Lasso</label><div class=\"sk-toggleable__content\"><pre>Lasso()</pre></div></div></div></div></div>"
      ],
      "text/plain": [
       "Lasso()"
      ]
     },
     "execution_count": 96,
     "metadata": {},
     "output_type": "execute_result"
    },
    {
     "name": "stdout",
     "output_type": "stream",
     "text": [
      "Train Mean Squared Error for Lasso: 0.11574225528035186\n",
      "Test Mean Squared Error for Lasso: 0.12118428757603003\n",
      "Train R2 Score Lasso: 0.6074504702568271\n",
      "Test R2 Score Lasso: 0.6205724382764115\n"
     ]
    },
    {
     "data": {
      "text/html": [
       "<style>#sk-container-id-18 {color: black;background-color: white;}#sk-container-id-18 pre{padding: 0;}#sk-container-id-18 div.sk-toggleable {background-color: white;}#sk-container-id-18 label.sk-toggleable__label {cursor: pointer;display: block;width: 100%;margin-bottom: 0;padding: 0.3em;box-sizing: border-box;text-align: center;}#sk-container-id-18 label.sk-toggleable__label-arrow:before {content: \"▸\";float: left;margin-right: 0.25em;color: #696969;}#sk-container-id-18 label.sk-toggleable__label-arrow:hover:before {color: black;}#sk-container-id-18 div.sk-estimator:hover label.sk-toggleable__label-arrow:before {color: black;}#sk-container-id-18 div.sk-toggleable__content {max-height: 0;max-width: 0;overflow: hidden;text-align: left;background-color: #f0f8ff;}#sk-container-id-18 div.sk-toggleable__content pre {margin: 0.2em;color: black;border-radius: 0.25em;background-color: #f0f8ff;}#sk-container-id-18 input.sk-toggleable__control:checked~div.sk-toggleable__content {max-height: 200px;max-width: 100%;overflow: auto;}#sk-container-id-18 input.sk-toggleable__control:checked~label.sk-toggleable__label-arrow:before {content: \"▾\";}#sk-container-id-18 div.sk-estimator input.sk-toggleable__control:checked~label.sk-toggleable__label {background-color: #d4ebff;}#sk-container-id-18 div.sk-label input.sk-toggleable__control:checked~label.sk-toggleable__label {background-color: #d4ebff;}#sk-container-id-18 input.sk-hidden--visually {border: 0;clip: rect(1px 1px 1px 1px);clip: rect(1px, 1px, 1px, 1px);height: 1px;margin: -1px;overflow: hidden;padding: 0;position: absolute;width: 1px;}#sk-container-id-18 div.sk-estimator {font-family: monospace;background-color: #f0f8ff;border: 1px dotted black;border-radius: 0.25em;box-sizing: border-box;margin-bottom: 0.5em;}#sk-container-id-18 div.sk-estimator:hover {background-color: #d4ebff;}#sk-container-id-18 div.sk-parallel-item::after {content: \"\";width: 100%;border-bottom: 1px solid gray;flex-grow: 1;}#sk-container-id-18 div.sk-label:hover label.sk-toggleable__label {background-color: #d4ebff;}#sk-container-id-18 div.sk-serial::before {content: \"\";position: absolute;border-left: 1px solid gray;box-sizing: border-box;top: 0;bottom: 0;left: 50%;z-index: 0;}#sk-container-id-18 div.sk-serial {display: flex;flex-direction: column;align-items: center;background-color: white;padding-right: 0.2em;padding-left: 0.2em;position: relative;}#sk-container-id-18 div.sk-item {position: relative;z-index: 1;}#sk-container-id-18 div.sk-parallel {display: flex;align-items: stretch;justify-content: center;background-color: white;position: relative;}#sk-container-id-18 div.sk-item::before, #sk-container-id-18 div.sk-parallel-item::before {content: \"\";position: absolute;border-left: 1px solid gray;box-sizing: border-box;top: 0;bottom: 0;left: 50%;z-index: -1;}#sk-container-id-18 div.sk-parallel-item {display: flex;flex-direction: column;z-index: 1;position: relative;background-color: white;}#sk-container-id-18 div.sk-parallel-item:first-child::after {align-self: flex-end;width: 50%;}#sk-container-id-18 div.sk-parallel-item:last-child::after {align-self: flex-start;width: 50%;}#sk-container-id-18 div.sk-parallel-item:only-child::after {width: 0;}#sk-container-id-18 div.sk-dashed-wrapped {border: 1px dashed gray;margin: 0 0.4em 0.5em 0.4em;box-sizing: border-box;padding-bottom: 0.4em;background-color: white;}#sk-container-id-18 div.sk-label label {font-family: monospace;font-weight: bold;display: inline-block;line-height: 1.2em;}#sk-container-id-18 div.sk-label-container {text-align: center;}#sk-container-id-18 div.sk-container {/* jupyter's `normalize.less` sets `[hidden] { display: none; }` but bootstrap.min.css set `[hidden] { display: none !important; }` so we also need the `!important` here to be able to override the default hidden behavior on the sphinx rendered scikit-learn.org. See: https://github.com/scikit-learn/scikit-learn/issues/21755 */display: inline-block !important;position: relative;}#sk-container-id-18 div.sk-text-repr-fallback {display: none;}</style><div id=\"sk-container-id-18\" class=\"sk-top-container\"><div class=\"sk-text-repr-fallback\"><pre>ElasticNet()</pre><b>In a Jupyter environment, please rerun this cell to show the HTML representation or trust the notebook. <br />On GitHub, the HTML representation is unable to render, please try loading this page with nbviewer.org.</b></div><div class=\"sk-container\" hidden><div class=\"sk-item\"><div class=\"sk-estimator sk-toggleable\"><input class=\"sk-toggleable__control sk-hidden--visually\" id=\"sk-estimator-id-23\" type=\"checkbox\" checked><label for=\"sk-estimator-id-23\" class=\"sk-toggleable__label sk-toggleable__label-arrow\">ElasticNet</label><div class=\"sk-toggleable__content\"><pre>ElasticNet()</pre></div></div></div></div></div>"
      ],
      "text/plain": [
       "ElasticNet()"
      ]
     },
     "execution_count": 96,
     "metadata": {},
     "output_type": "execute_result"
    },
    {
     "name": "stdout",
     "output_type": "stream",
     "text": [
      "Train Mean Squared Error for ElasticNet: 0.13125821093177134\n",
      "Test Mean Squared Error for ElasticNet: 0.13849583877127622\n",
      "Train R2 Score ElasticNet: 0.4951486273998732\n",
      "Test R2 Score ElasticNet: 0.5044246497725615\n"
     ]
    },
    {
     "data": {
      "text/html": [
       "<style>#sk-container-id-19 {color: black;background-color: white;}#sk-container-id-19 pre{padding: 0;}#sk-container-id-19 div.sk-toggleable {background-color: white;}#sk-container-id-19 label.sk-toggleable__label {cursor: pointer;display: block;width: 100%;margin-bottom: 0;padding: 0.3em;box-sizing: border-box;text-align: center;}#sk-container-id-19 label.sk-toggleable__label-arrow:before {content: \"▸\";float: left;margin-right: 0.25em;color: #696969;}#sk-container-id-19 label.sk-toggleable__label-arrow:hover:before {color: black;}#sk-container-id-19 div.sk-estimator:hover label.sk-toggleable__label-arrow:before {color: black;}#sk-container-id-19 div.sk-toggleable__content {max-height: 0;max-width: 0;overflow: hidden;text-align: left;background-color: #f0f8ff;}#sk-container-id-19 div.sk-toggleable__content pre {margin: 0.2em;color: black;border-radius: 0.25em;background-color: #f0f8ff;}#sk-container-id-19 input.sk-toggleable__control:checked~div.sk-toggleable__content {max-height: 200px;max-width: 100%;overflow: auto;}#sk-container-id-19 input.sk-toggleable__control:checked~label.sk-toggleable__label-arrow:before {content: \"▾\";}#sk-container-id-19 div.sk-estimator input.sk-toggleable__control:checked~label.sk-toggleable__label {background-color: #d4ebff;}#sk-container-id-19 div.sk-label input.sk-toggleable__control:checked~label.sk-toggleable__label {background-color: #d4ebff;}#sk-container-id-19 input.sk-hidden--visually {border: 0;clip: rect(1px 1px 1px 1px);clip: rect(1px, 1px, 1px, 1px);height: 1px;margin: -1px;overflow: hidden;padding: 0;position: absolute;width: 1px;}#sk-container-id-19 div.sk-estimator {font-family: monospace;background-color: #f0f8ff;border: 1px dotted black;border-radius: 0.25em;box-sizing: border-box;margin-bottom: 0.5em;}#sk-container-id-19 div.sk-estimator:hover {background-color: #d4ebff;}#sk-container-id-19 div.sk-parallel-item::after {content: \"\";width: 100%;border-bottom: 1px solid gray;flex-grow: 1;}#sk-container-id-19 div.sk-label:hover label.sk-toggleable__label {background-color: #d4ebff;}#sk-container-id-19 div.sk-serial::before {content: \"\";position: absolute;border-left: 1px solid gray;box-sizing: border-box;top: 0;bottom: 0;left: 50%;z-index: 0;}#sk-container-id-19 div.sk-serial {display: flex;flex-direction: column;align-items: center;background-color: white;padding-right: 0.2em;padding-left: 0.2em;position: relative;}#sk-container-id-19 div.sk-item {position: relative;z-index: 1;}#sk-container-id-19 div.sk-parallel {display: flex;align-items: stretch;justify-content: center;background-color: white;position: relative;}#sk-container-id-19 div.sk-item::before, #sk-container-id-19 div.sk-parallel-item::before {content: \"\";position: absolute;border-left: 1px solid gray;box-sizing: border-box;top: 0;bottom: 0;left: 50%;z-index: -1;}#sk-container-id-19 div.sk-parallel-item {display: flex;flex-direction: column;z-index: 1;position: relative;background-color: white;}#sk-container-id-19 div.sk-parallel-item:first-child::after {align-self: flex-end;width: 50%;}#sk-container-id-19 div.sk-parallel-item:last-child::after {align-self: flex-start;width: 50%;}#sk-container-id-19 div.sk-parallel-item:only-child::after {width: 0;}#sk-container-id-19 div.sk-dashed-wrapped {border: 1px dashed gray;margin: 0 0.4em 0.5em 0.4em;box-sizing: border-box;padding-bottom: 0.4em;background-color: white;}#sk-container-id-19 div.sk-label label {font-family: monospace;font-weight: bold;display: inline-block;line-height: 1.2em;}#sk-container-id-19 div.sk-label-container {text-align: center;}#sk-container-id-19 div.sk-container {/* jupyter's `normalize.less` sets `[hidden] { display: none; }` but bootstrap.min.css set `[hidden] { display: none !important; }` so we also need the `!important` here to be able to override the default hidden behavior on the sphinx rendered scikit-learn.org. See: https://github.com/scikit-learn/scikit-learn/issues/21755 */display: inline-block !important;position: relative;}#sk-container-id-19 div.sk-text-repr-fallback {display: none;}</style><div id=\"sk-container-id-19\" class=\"sk-top-container\"><div class=\"sk-text-repr-fallback\"><pre>SVR(kernel=&#x27;linear&#x27;)</pre><b>In a Jupyter environment, please rerun this cell to show the HTML representation or trust the notebook. <br />On GitHub, the HTML representation is unable to render, please try loading this page with nbviewer.org.</b></div><div class=\"sk-container\" hidden><div class=\"sk-item\"><div class=\"sk-estimator sk-toggleable\"><input class=\"sk-toggleable__control sk-hidden--visually\" id=\"sk-estimator-id-24\" type=\"checkbox\" checked><label for=\"sk-estimator-id-24\" class=\"sk-toggleable__label sk-toggleable__label-arrow\">SVR</label><div class=\"sk-toggleable__content\"><pre>SVR(kernel=&#x27;linear&#x27;)</pre></div></div></div></div></div>"
      ],
      "text/plain": [
       "SVR(kernel='linear')"
      ]
     },
     "execution_count": 96,
     "metadata": {},
     "output_type": "execute_result"
    },
    {
     "name": "stdout",
     "output_type": "stream",
     "text": [
      "Train Mean Squared Error for SVR Linear: 0.1063383241137025\n",
      "Test Mean Squared Error for SVR Linear: 0.10915424896992135\n",
      "Train R2 Score SVR Linear: 0.6686475366496067\n",
      "Test R2 Score SVR Linear: 0.6921653245122024\n"
     ]
    },
    {
     "data": {
      "text/html": [
       "<style>#sk-container-id-20 {color: black;background-color: white;}#sk-container-id-20 pre{padding: 0;}#sk-container-id-20 div.sk-toggleable {background-color: white;}#sk-container-id-20 label.sk-toggleable__label {cursor: pointer;display: block;width: 100%;margin-bottom: 0;padding: 0.3em;box-sizing: border-box;text-align: center;}#sk-container-id-20 label.sk-toggleable__label-arrow:before {content: \"▸\";float: left;margin-right: 0.25em;color: #696969;}#sk-container-id-20 label.sk-toggleable__label-arrow:hover:before {color: black;}#sk-container-id-20 div.sk-estimator:hover label.sk-toggleable__label-arrow:before {color: black;}#sk-container-id-20 div.sk-toggleable__content {max-height: 0;max-width: 0;overflow: hidden;text-align: left;background-color: #f0f8ff;}#sk-container-id-20 div.sk-toggleable__content pre {margin: 0.2em;color: black;border-radius: 0.25em;background-color: #f0f8ff;}#sk-container-id-20 input.sk-toggleable__control:checked~div.sk-toggleable__content {max-height: 200px;max-width: 100%;overflow: auto;}#sk-container-id-20 input.sk-toggleable__control:checked~label.sk-toggleable__label-arrow:before {content: \"▾\";}#sk-container-id-20 div.sk-estimator input.sk-toggleable__control:checked~label.sk-toggleable__label {background-color: #d4ebff;}#sk-container-id-20 div.sk-label input.sk-toggleable__control:checked~label.sk-toggleable__label {background-color: #d4ebff;}#sk-container-id-20 input.sk-hidden--visually {border: 0;clip: rect(1px 1px 1px 1px);clip: rect(1px, 1px, 1px, 1px);height: 1px;margin: -1px;overflow: hidden;padding: 0;position: absolute;width: 1px;}#sk-container-id-20 div.sk-estimator {font-family: monospace;background-color: #f0f8ff;border: 1px dotted black;border-radius: 0.25em;box-sizing: border-box;margin-bottom: 0.5em;}#sk-container-id-20 div.sk-estimator:hover {background-color: #d4ebff;}#sk-container-id-20 div.sk-parallel-item::after {content: \"\";width: 100%;border-bottom: 1px solid gray;flex-grow: 1;}#sk-container-id-20 div.sk-label:hover label.sk-toggleable__label {background-color: #d4ebff;}#sk-container-id-20 div.sk-serial::before {content: \"\";position: absolute;border-left: 1px solid gray;box-sizing: border-box;top: 0;bottom: 0;left: 50%;z-index: 0;}#sk-container-id-20 div.sk-serial {display: flex;flex-direction: column;align-items: center;background-color: white;padding-right: 0.2em;padding-left: 0.2em;position: relative;}#sk-container-id-20 div.sk-item {position: relative;z-index: 1;}#sk-container-id-20 div.sk-parallel {display: flex;align-items: stretch;justify-content: center;background-color: white;position: relative;}#sk-container-id-20 div.sk-item::before, #sk-container-id-20 div.sk-parallel-item::before {content: \"\";position: absolute;border-left: 1px solid gray;box-sizing: border-box;top: 0;bottom: 0;left: 50%;z-index: -1;}#sk-container-id-20 div.sk-parallel-item {display: flex;flex-direction: column;z-index: 1;position: relative;background-color: white;}#sk-container-id-20 div.sk-parallel-item:first-child::after {align-self: flex-end;width: 50%;}#sk-container-id-20 div.sk-parallel-item:last-child::after {align-self: flex-start;width: 50%;}#sk-container-id-20 div.sk-parallel-item:only-child::after {width: 0;}#sk-container-id-20 div.sk-dashed-wrapped {border: 1px dashed gray;margin: 0 0.4em 0.5em 0.4em;box-sizing: border-box;padding-bottom: 0.4em;background-color: white;}#sk-container-id-20 div.sk-label label {font-family: monospace;font-weight: bold;display: inline-block;line-height: 1.2em;}#sk-container-id-20 div.sk-label-container {text-align: center;}#sk-container-id-20 div.sk-container {/* jupyter's `normalize.less` sets `[hidden] { display: none; }` but bootstrap.min.css set `[hidden] { display: none !important; }` so we also need the `!important` here to be able to override the default hidden behavior on the sphinx rendered scikit-learn.org. See: https://github.com/scikit-learn/scikit-learn/issues/21755 */display: inline-block !important;position: relative;}#sk-container-id-20 div.sk-text-repr-fallback {display: none;}</style><div id=\"sk-container-id-20\" class=\"sk-top-container\"><div class=\"sk-text-repr-fallback\"><pre>SVR(kernel=&#x27;poly&#x27;)</pre><b>In a Jupyter environment, please rerun this cell to show the HTML representation or trust the notebook. <br />On GitHub, the HTML representation is unable to render, please try loading this page with nbviewer.org.</b></div><div class=\"sk-container\" hidden><div class=\"sk-item\"><div class=\"sk-estimator sk-toggleable\"><input class=\"sk-toggleable__control sk-hidden--visually\" id=\"sk-estimator-id-25\" type=\"checkbox\" checked><label for=\"sk-estimator-id-25\" class=\"sk-toggleable__label sk-toggleable__label-arrow\">SVR</label><div class=\"sk-toggleable__content\"><pre>SVR(kernel=&#x27;poly&#x27;)</pre></div></div></div></div></div>"
      ],
      "text/plain": [
       "SVR(kernel='poly')"
      ]
     },
     "execution_count": 96,
     "metadata": {},
     "output_type": "execute_result"
    },
    {
     "name": "stdout",
     "output_type": "stream",
     "text": [
      "Train Mean Squared Error for SVR Poly: 0.10771604702849802\n",
      "Test Mean Squared Error for SVR Poly: 0.11636138340636427\n",
      "Train R2 Score SVR Poly: 0.6600058888310749\n",
      "Test R2 Score SVR Poly: 0.6501724579560897\n"
     ]
    },
    {
     "data": {
      "text/html": [
       "<style>#sk-container-id-21 {color: black;background-color: white;}#sk-container-id-21 pre{padding: 0;}#sk-container-id-21 div.sk-toggleable {background-color: white;}#sk-container-id-21 label.sk-toggleable__label {cursor: pointer;display: block;width: 100%;margin-bottom: 0;padding: 0.3em;box-sizing: border-box;text-align: center;}#sk-container-id-21 label.sk-toggleable__label-arrow:before {content: \"▸\";float: left;margin-right: 0.25em;color: #696969;}#sk-container-id-21 label.sk-toggleable__label-arrow:hover:before {color: black;}#sk-container-id-21 div.sk-estimator:hover label.sk-toggleable__label-arrow:before {color: black;}#sk-container-id-21 div.sk-toggleable__content {max-height: 0;max-width: 0;overflow: hidden;text-align: left;background-color: #f0f8ff;}#sk-container-id-21 div.sk-toggleable__content pre {margin: 0.2em;color: black;border-radius: 0.25em;background-color: #f0f8ff;}#sk-container-id-21 input.sk-toggleable__control:checked~div.sk-toggleable__content {max-height: 200px;max-width: 100%;overflow: auto;}#sk-container-id-21 input.sk-toggleable__control:checked~label.sk-toggleable__label-arrow:before {content: \"▾\";}#sk-container-id-21 div.sk-estimator input.sk-toggleable__control:checked~label.sk-toggleable__label {background-color: #d4ebff;}#sk-container-id-21 div.sk-label input.sk-toggleable__control:checked~label.sk-toggleable__label {background-color: #d4ebff;}#sk-container-id-21 input.sk-hidden--visually {border: 0;clip: rect(1px 1px 1px 1px);clip: rect(1px, 1px, 1px, 1px);height: 1px;margin: -1px;overflow: hidden;padding: 0;position: absolute;width: 1px;}#sk-container-id-21 div.sk-estimator {font-family: monospace;background-color: #f0f8ff;border: 1px dotted black;border-radius: 0.25em;box-sizing: border-box;margin-bottom: 0.5em;}#sk-container-id-21 div.sk-estimator:hover {background-color: #d4ebff;}#sk-container-id-21 div.sk-parallel-item::after {content: \"\";width: 100%;border-bottom: 1px solid gray;flex-grow: 1;}#sk-container-id-21 div.sk-label:hover label.sk-toggleable__label {background-color: #d4ebff;}#sk-container-id-21 div.sk-serial::before {content: \"\";position: absolute;border-left: 1px solid gray;box-sizing: border-box;top: 0;bottom: 0;left: 50%;z-index: 0;}#sk-container-id-21 div.sk-serial {display: flex;flex-direction: column;align-items: center;background-color: white;padding-right: 0.2em;padding-left: 0.2em;position: relative;}#sk-container-id-21 div.sk-item {position: relative;z-index: 1;}#sk-container-id-21 div.sk-parallel {display: flex;align-items: stretch;justify-content: center;background-color: white;position: relative;}#sk-container-id-21 div.sk-item::before, #sk-container-id-21 div.sk-parallel-item::before {content: \"\";position: absolute;border-left: 1px solid gray;box-sizing: border-box;top: 0;bottom: 0;left: 50%;z-index: -1;}#sk-container-id-21 div.sk-parallel-item {display: flex;flex-direction: column;z-index: 1;position: relative;background-color: white;}#sk-container-id-21 div.sk-parallel-item:first-child::after {align-self: flex-end;width: 50%;}#sk-container-id-21 div.sk-parallel-item:last-child::after {align-self: flex-start;width: 50%;}#sk-container-id-21 div.sk-parallel-item:only-child::after {width: 0;}#sk-container-id-21 div.sk-dashed-wrapped {border: 1px dashed gray;margin: 0 0.4em 0.5em 0.4em;box-sizing: border-box;padding-bottom: 0.4em;background-color: white;}#sk-container-id-21 div.sk-label label {font-family: monospace;font-weight: bold;display: inline-block;line-height: 1.2em;}#sk-container-id-21 div.sk-label-container {text-align: center;}#sk-container-id-21 div.sk-container {/* jupyter's `normalize.less` sets `[hidden] { display: none; }` but bootstrap.min.css set `[hidden] { display: none !important; }` so we also need the `!important` here to be able to override the default hidden behavior on the sphinx rendered scikit-learn.org. See: https://github.com/scikit-learn/scikit-learn/issues/21755 */display: inline-block !important;position: relative;}#sk-container-id-21 div.sk-text-repr-fallback {display: none;}</style><div id=\"sk-container-id-21\" class=\"sk-top-container\"><div class=\"sk-text-repr-fallback\"><pre>SVR()</pre><b>In a Jupyter environment, please rerun this cell to show the HTML representation or trust the notebook. <br />On GitHub, the HTML representation is unable to render, please try loading this page with nbviewer.org.</b></div><div class=\"sk-container\" hidden><div class=\"sk-item\"><div class=\"sk-estimator sk-toggleable\"><input class=\"sk-toggleable__control sk-hidden--visually\" id=\"sk-estimator-id-26\" type=\"checkbox\" checked><label for=\"sk-estimator-id-26\" class=\"sk-toggleable__label sk-toggleable__label-arrow\">SVR</label><div class=\"sk-toggleable__content\"><pre>SVR()</pre></div></div></div></div></div>"
      ],
      "text/plain": [
       "SVR()"
      ]
     },
     "execution_count": 96,
     "metadata": {},
     "output_type": "execute_result"
    },
    {
     "name": "stdout",
     "output_type": "stream",
     "text": [
      "Train Mean Squared Error for SVR RBF: 0.09778484147350451\n",
      "Test Mean Squared Error for SVR RBF: 0.10228608117492687\n",
      "Train R2 Score SVR RBF: 0.719809341118334\n",
      "Test R2 Score SVR RBF: 0.7296855095839624\n"
     ]
    },
    {
     "data": {
      "text/html": [
       "<style>#sk-container-id-22 {color: black;background-color: white;}#sk-container-id-22 pre{padding: 0;}#sk-container-id-22 div.sk-toggleable {background-color: white;}#sk-container-id-22 label.sk-toggleable__label {cursor: pointer;display: block;width: 100%;margin-bottom: 0;padding: 0.3em;box-sizing: border-box;text-align: center;}#sk-container-id-22 label.sk-toggleable__label-arrow:before {content: \"▸\";float: left;margin-right: 0.25em;color: #696969;}#sk-container-id-22 label.sk-toggleable__label-arrow:hover:before {color: black;}#sk-container-id-22 div.sk-estimator:hover label.sk-toggleable__label-arrow:before {color: black;}#sk-container-id-22 div.sk-toggleable__content {max-height: 0;max-width: 0;overflow: hidden;text-align: left;background-color: #f0f8ff;}#sk-container-id-22 div.sk-toggleable__content pre {margin: 0.2em;color: black;border-radius: 0.25em;background-color: #f0f8ff;}#sk-container-id-22 input.sk-toggleable__control:checked~div.sk-toggleable__content {max-height: 200px;max-width: 100%;overflow: auto;}#sk-container-id-22 input.sk-toggleable__control:checked~label.sk-toggleable__label-arrow:before {content: \"▾\";}#sk-container-id-22 div.sk-estimator input.sk-toggleable__control:checked~label.sk-toggleable__label {background-color: #d4ebff;}#sk-container-id-22 div.sk-label input.sk-toggleable__control:checked~label.sk-toggleable__label {background-color: #d4ebff;}#sk-container-id-22 input.sk-hidden--visually {border: 0;clip: rect(1px 1px 1px 1px);clip: rect(1px, 1px, 1px, 1px);height: 1px;margin: -1px;overflow: hidden;padding: 0;position: absolute;width: 1px;}#sk-container-id-22 div.sk-estimator {font-family: monospace;background-color: #f0f8ff;border: 1px dotted black;border-radius: 0.25em;box-sizing: border-box;margin-bottom: 0.5em;}#sk-container-id-22 div.sk-estimator:hover {background-color: #d4ebff;}#sk-container-id-22 div.sk-parallel-item::after {content: \"\";width: 100%;border-bottom: 1px solid gray;flex-grow: 1;}#sk-container-id-22 div.sk-label:hover label.sk-toggleable__label {background-color: #d4ebff;}#sk-container-id-22 div.sk-serial::before {content: \"\";position: absolute;border-left: 1px solid gray;box-sizing: border-box;top: 0;bottom: 0;left: 50%;z-index: 0;}#sk-container-id-22 div.sk-serial {display: flex;flex-direction: column;align-items: center;background-color: white;padding-right: 0.2em;padding-left: 0.2em;position: relative;}#sk-container-id-22 div.sk-item {position: relative;z-index: 1;}#sk-container-id-22 div.sk-parallel {display: flex;align-items: stretch;justify-content: center;background-color: white;position: relative;}#sk-container-id-22 div.sk-item::before, #sk-container-id-22 div.sk-parallel-item::before {content: \"\";position: absolute;border-left: 1px solid gray;box-sizing: border-box;top: 0;bottom: 0;left: 50%;z-index: -1;}#sk-container-id-22 div.sk-parallel-item {display: flex;flex-direction: column;z-index: 1;position: relative;background-color: white;}#sk-container-id-22 div.sk-parallel-item:first-child::after {align-self: flex-end;width: 50%;}#sk-container-id-22 div.sk-parallel-item:last-child::after {align-self: flex-start;width: 50%;}#sk-container-id-22 div.sk-parallel-item:only-child::after {width: 0;}#sk-container-id-22 div.sk-dashed-wrapped {border: 1px dashed gray;margin: 0 0.4em 0.5em 0.4em;box-sizing: border-box;padding-bottom: 0.4em;background-color: white;}#sk-container-id-22 div.sk-label label {font-family: monospace;font-weight: bold;display: inline-block;line-height: 1.2em;}#sk-container-id-22 div.sk-label-container {text-align: center;}#sk-container-id-22 div.sk-container {/* jupyter's `normalize.less` sets `[hidden] { display: none; }` but bootstrap.min.css set `[hidden] { display: none !important; }` so we also need the `!important` here to be able to override the default hidden behavior on the sphinx rendered scikit-learn.org. See: https://github.com/scikit-learn/scikit-learn/issues/21755 */display: inline-block !important;position: relative;}#sk-container-id-22 div.sk-text-repr-fallback {display: none;}</style><div id=\"sk-container-id-22\" class=\"sk-top-container\"><div class=\"sk-text-repr-fallback\"><pre>DecisionTreeRegressor()</pre><b>In a Jupyter environment, please rerun this cell to show the HTML representation or trust the notebook. <br />On GitHub, the HTML representation is unable to render, please try loading this page with nbviewer.org.</b></div><div class=\"sk-container\" hidden><div class=\"sk-item\"><div class=\"sk-estimator sk-toggleable\"><input class=\"sk-toggleable__control sk-hidden--visually\" id=\"sk-estimator-id-27\" type=\"checkbox\" checked><label for=\"sk-estimator-id-27\" class=\"sk-toggleable__label sk-toggleable__label-arrow\">DecisionTreeRegressor</label><div class=\"sk-toggleable__content\"><pre>DecisionTreeRegressor()</pre></div></div></div></div></div>"
      ],
      "text/plain": [
       "DecisionTreeRegressor()"
      ]
     },
     "execution_count": 96,
     "metadata": {},
     "output_type": "execute_result"
    },
    {
     "name": "stdout",
     "output_type": "stream",
     "text": [
      "Train Mean Squared Error for Decision Tree: 0.0\n",
      "Test Mean Squared Error for Decision Tree: 0.12623083743150199\n",
      "Train R2 Score Decision Tree: 1.0\n",
      "Test R2 Score Decision Tree: 0.5883129807244019\n"
     ]
    },
    {
     "data": {
      "text/html": [
       "<style>#sk-container-id-23 {color: black;background-color: white;}#sk-container-id-23 pre{padding: 0;}#sk-container-id-23 div.sk-toggleable {background-color: white;}#sk-container-id-23 label.sk-toggleable__label {cursor: pointer;display: block;width: 100%;margin-bottom: 0;padding: 0.3em;box-sizing: border-box;text-align: center;}#sk-container-id-23 label.sk-toggleable__label-arrow:before {content: \"▸\";float: left;margin-right: 0.25em;color: #696969;}#sk-container-id-23 label.sk-toggleable__label-arrow:hover:before {color: black;}#sk-container-id-23 div.sk-estimator:hover label.sk-toggleable__label-arrow:before {color: black;}#sk-container-id-23 div.sk-toggleable__content {max-height: 0;max-width: 0;overflow: hidden;text-align: left;background-color: #f0f8ff;}#sk-container-id-23 div.sk-toggleable__content pre {margin: 0.2em;color: black;border-radius: 0.25em;background-color: #f0f8ff;}#sk-container-id-23 input.sk-toggleable__control:checked~div.sk-toggleable__content {max-height: 200px;max-width: 100%;overflow: auto;}#sk-container-id-23 input.sk-toggleable__control:checked~label.sk-toggleable__label-arrow:before {content: \"▾\";}#sk-container-id-23 div.sk-estimator input.sk-toggleable__control:checked~label.sk-toggleable__label {background-color: #d4ebff;}#sk-container-id-23 div.sk-label input.sk-toggleable__control:checked~label.sk-toggleable__label {background-color: #d4ebff;}#sk-container-id-23 input.sk-hidden--visually {border: 0;clip: rect(1px 1px 1px 1px);clip: rect(1px, 1px, 1px, 1px);height: 1px;margin: -1px;overflow: hidden;padding: 0;position: absolute;width: 1px;}#sk-container-id-23 div.sk-estimator {font-family: monospace;background-color: #f0f8ff;border: 1px dotted black;border-radius: 0.25em;box-sizing: border-box;margin-bottom: 0.5em;}#sk-container-id-23 div.sk-estimator:hover {background-color: #d4ebff;}#sk-container-id-23 div.sk-parallel-item::after {content: \"\";width: 100%;border-bottom: 1px solid gray;flex-grow: 1;}#sk-container-id-23 div.sk-label:hover label.sk-toggleable__label {background-color: #d4ebff;}#sk-container-id-23 div.sk-serial::before {content: \"\";position: absolute;border-left: 1px solid gray;box-sizing: border-box;top: 0;bottom: 0;left: 50%;z-index: 0;}#sk-container-id-23 div.sk-serial {display: flex;flex-direction: column;align-items: center;background-color: white;padding-right: 0.2em;padding-left: 0.2em;position: relative;}#sk-container-id-23 div.sk-item {position: relative;z-index: 1;}#sk-container-id-23 div.sk-parallel {display: flex;align-items: stretch;justify-content: center;background-color: white;position: relative;}#sk-container-id-23 div.sk-item::before, #sk-container-id-23 div.sk-parallel-item::before {content: \"\";position: absolute;border-left: 1px solid gray;box-sizing: border-box;top: 0;bottom: 0;left: 50%;z-index: -1;}#sk-container-id-23 div.sk-parallel-item {display: flex;flex-direction: column;z-index: 1;position: relative;background-color: white;}#sk-container-id-23 div.sk-parallel-item:first-child::after {align-self: flex-end;width: 50%;}#sk-container-id-23 div.sk-parallel-item:last-child::after {align-self: flex-start;width: 50%;}#sk-container-id-23 div.sk-parallel-item:only-child::after {width: 0;}#sk-container-id-23 div.sk-dashed-wrapped {border: 1px dashed gray;margin: 0 0.4em 0.5em 0.4em;box-sizing: border-box;padding-bottom: 0.4em;background-color: white;}#sk-container-id-23 div.sk-label label {font-family: monospace;font-weight: bold;display: inline-block;line-height: 1.2em;}#sk-container-id-23 div.sk-label-container {text-align: center;}#sk-container-id-23 div.sk-container {/* jupyter's `normalize.less` sets `[hidden] { display: none; }` but bootstrap.min.css set `[hidden] { display: none !important; }` so we also need the `!important` here to be able to override the default hidden behavior on the sphinx rendered scikit-learn.org. See: https://github.com/scikit-learn/scikit-learn/issues/21755 */display: inline-block !important;position: relative;}#sk-container-id-23 div.sk-text-repr-fallback {display: none;}</style><div id=\"sk-container-id-23\" class=\"sk-top-container\"><div class=\"sk-text-repr-fallback\"><pre>RandomForestRegressor()</pre><b>In a Jupyter environment, please rerun this cell to show the HTML representation or trust the notebook. <br />On GitHub, the HTML representation is unable to render, please try loading this page with nbviewer.org.</b></div><div class=\"sk-container\" hidden><div class=\"sk-item\"><div class=\"sk-estimator sk-toggleable\"><input class=\"sk-toggleable__control sk-hidden--visually\" id=\"sk-estimator-id-28\" type=\"checkbox\" checked><label for=\"sk-estimator-id-28\" class=\"sk-toggleable__label sk-toggleable__label-arrow\">RandomForestRegressor</label><div class=\"sk-toggleable__content\"><pre>RandomForestRegressor()</pre></div></div></div></div></div>"
      ],
      "text/plain": [
       "RandomForestRegressor()"
      ]
     },
     "execution_count": 96,
     "metadata": {},
     "output_type": "execute_result"
    },
    {
     "name": "stdout",
     "output_type": "stream",
     "text": [
      "Train Mean Squared Error for Random Forest: 0.03204341571944347\n",
      "Test Mean Squared Error for Random Forest: 0.08599802314167884\n",
      "Train R2 Score Random Forest: 0.9699123555147858\n",
      "Test R2 Score Random Forest: 0.8089209017261357\n"
     ]
    },
    {
     "data": {
      "text/html": [
       "<style>#sk-container-id-24 {color: black;background-color: white;}#sk-container-id-24 pre{padding: 0;}#sk-container-id-24 div.sk-toggleable {background-color: white;}#sk-container-id-24 label.sk-toggleable__label {cursor: pointer;display: block;width: 100%;margin-bottom: 0;padding: 0.3em;box-sizing: border-box;text-align: center;}#sk-container-id-24 label.sk-toggleable__label-arrow:before {content: \"▸\";float: left;margin-right: 0.25em;color: #696969;}#sk-container-id-24 label.sk-toggleable__label-arrow:hover:before {color: black;}#sk-container-id-24 div.sk-estimator:hover label.sk-toggleable__label-arrow:before {color: black;}#sk-container-id-24 div.sk-toggleable__content {max-height: 0;max-width: 0;overflow: hidden;text-align: left;background-color: #f0f8ff;}#sk-container-id-24 div.sk-toggleable__content pre {margin: 0.2em;color: black;border-radius: 0.25em;background-color: #f0f8ff;}#sk-container-id-24 input.sk-toggleable__control:checked~div.sk-toggleable__content {max-height: 200px;max-width: 100%;overflow: auto;}#sk-container-id-24 input.sk-toggleable__control:checked~label.sk-toggleable__label-arrow:before {content: \"▾\";}#sk-container-id-24 div.sk-estimator input.sk-toggleable__control:checked~label.sk-toggleable__label {background-color: #d4ebff;}#sk-container-id-24 div.sk-label input.sk-toggleable__control:checked~label.sk-toggleable__label {background-color: #d4ebff;}#sk-container-id-24 input.sk-hidden--visually {border: 0;clip: rect(1px 1px 1px 1px);clip: rect(1px, 1px, 1px, 1px);height: 1px;margin: -1px;overflow: hidden;padding: 0;position: absolute;width: 1px;}#sk-container-id-24 div.sk-estimator {font-family: monospace;background-color: #f0f8ff;border: 1px dotted black;border-radius: 0.25em;box-sizing: border-box;margin-bottom: 0.5em;}#sk-container-id-24 div.sk-estimator:hover {background-color: #d4ebff;}#sk-container-id-24 div.sk-parallel-item::after {content: \"\";width: 100%;border-bottom: 1px solid gray;flex-grow: 1;}#sk-container-id-24 div.sk-label:hover label.sk-toggleable__label {background-color: #d4ebff;}#sk-container-id-24 div.sk-serial::before {content: \"\";position: absolute;border-left: 1px solid gray;box-sizing: border-box;top: 0;bottom: 0;left: 50%;z-index: 0;}#sk-container-id-24 div.sk-serial {display: flex;flex-direction: column;align-items: center;background-color: white;padding-right: 0.2em;padding-left: 0.2em;position: relative;}#sk-container-id-24 div.sk-item {position: relative;z-index: 1;}#sk-container-id-24 div.sk-parallel {display: flex;align-items: stretch;justify-content: center;background-color: white;position: relative;}#sk-container-id-24 div.sk-item::before, #sk-container-id-24 div.sk-parallel-item::before {content: \"\";position: absolute;border-left: 1px solid gray;box-sizing: border-box;top: 0;bottom: 0;left: 50%;z-index: -1;}#sk-container-id-24 div.sk-parallel-item {display: flex;flex-direction: column;z-index: 1;position: relative;background-color: white;}#sk-container-id-24 div.sk-parallel-item:first-child::after {align-self: flex-end;width: 50%;}#sk-container-id-24 div.sk-parallel-item:last-child::after {align-self: flex-start;width: 50%;}#sk-container-id-24 div.sk-parallel-item:only-child::after {width: 0;}#sk-container-id-24 div.sk-dashed-wrapped {border: 1px dashed gray;margin: 0 0.4em 0.5em 0.4em;box-sizing: border-box;padding-bottom: 0.4em;background-color: white;}#sk-container-id-24 div.sk-label label {font-family: monospace;font-weight: bold;display: inline-block;line-height: 1.2em;}#sk-container-id-24 div.sk-label-container {text-align: center;}#sk-container-id-24 div.sk-container {/* jupyter's `normalize.less` sets `[hidden] { display: none; }` but bootstrap.min.css set `[hidden] { display: none !important; }` so we also need the `!important` here to be able to override the default hidden behavior on the sphinx rendered scikit-learn.org. See: https://github.com/scikit-learn/scikit-learn/issues/21755 */display: inline-block !important;position: relative;}#sk-container-id-24 div.sk-text-repr-fallback {display: none;}</style><div id=\"sk-container-id-24\" class=\"sk-top-container\"><div class=\"sk-text-repr-fallback\"><pre>GradientBoostingRegressor()</pre><b>In a Jupyter environment, please rerun this cell to show the HTML representation or trust the notebook. <br />On GitHub, the HTML representation is unable to render, please try loading this page with nbviewer.org.</b></div><div class=\"sk-container\" hidden><div class=\"sk-item\"><div class=\"sk-estimator sk-toggleable\"><input class=\"sk-toggleable__control sk-hidden--visually\" id=\"sk-estimator-id-29\" type=\"checkbox\" checked><label for=\"sk-estimator-id-29\" class=\"sk-toggleable__label sk-toggleable__label-arrow\">GradientBoostingRegressor</label><div class=\"sk-toggleable__content\"><pre>GradientBoostingRegressor()</pre></div></div></div></div></div>"
      ],
      "text/plain": [
       "GradientBoostingRegressor()"
      ]
     },
     "execution_count": 96,
     "metadata": {},
     "output_type": "execute_result"
    },
    {
     "name": "stdout",
     "output_type": "stream",
     "text": [
      "Train Mean Squared Error for Gradient Boosting: 0.08582629423874964\n",
      "Test Mean Squared Error for Gradient Boosting: 0.09755462163207604\n",
      "Train R2 Score Gradient Boosting: 0.7841503728395038\n",
      "Test R2 Score Gradient Boosting: 0.7541150516518453\n"
     ]
    },
    {
     "data": {
      "text/html": [
       "<style>#sk-container-id-25 {color: black;background-color: white;}#sk-container-id-25 pre{padding: 0;}#sk-container-id-25 div.sk-toggleable {background-color: white;}#sk-container-id-25 label.sk-toggleable__label {cursor: pointer;display: block;width: 100%;margin-bottom: 0;padding: 0.3em;box-sizing: border-box;text-align: center;}#sk-container-id-25 label.sk-toggleable__label-arrow:before {content: \"▸\";float: left;margin-right: 0.25em;color: #696969;}#sk-container-id-25 label.sk-toggleable__label-arrow:hover:before {color: black;}#sk-container-id-25 div.sk-estimator:hover label.sk-toggleable__label-arrow:before {color: black;}#sk-container-id-25 div.sk-toggleable__content {max-height: 0;max-width: 0;overflow: hidden;text-align: left;background-color: #f0f8ff;}#sk-container-id-25 div.sk-toggleable__content pre {margin: 0.2em;color: black;border-radius: 0.25em;background-color: #f0f8ff;}#sk-container-id-25 input.sk-toggleable__control:checked~div.sk-toggleable__content {max-height: 200px;max-width: 100%;overflow: auto;}#sk-container-id-25 input.sk-toggleable__control:checked~label.sk-toggleable__label-arrow:before {content: \"▾\";}#sk-container-id-25 div.sk-estimator input.sk-toggleable__control:checked~label.sk-toggleable__label {background-color: #d4ebff;}#sk-container-id-25 div.sk-label input.sk-toggleable__control:checked~label.sk-toggleable__label {background-color: #d4ebff;}#sk-container-id-25 input.sk-hidden--visually {border: 0;clip: rect(1px 1px 1px 1px);clip: rect(1px, 1px, 1px, 1px);height: 1px;margin: -1px;overflow: hidden;padding: 0;position: absolute;width: 1px;}#sk-container-id-25 div.sk-estimator {font-family: monospace;background-color: #f0f8ff;border: 1px dotted black;border-radius: 0.25em;box-sizing: border-box;margin-bottom: 0.5em;}#sk-container-id-25 div.sk-estimator:hover {background-color: #d4ebff;}#sk-container-id-25 div.sk-parallel-item::after {content: \"\";width: 100%;border-bottom: 1px solid gray;flex-grow: 1;}#sk-container-id-25 div.sk-label:hover label.sk-toggleable__label {background-color: #d4ebff;}#sk-container-id-25 div.sk-serial::before {content: \"\";position: absolute;border-left: 1px solid gray;box-sizing: border-box;top: 0;bottom: 0;left: 50%;z-index: 0;}#sk-container-id-25 div.sk-serial {display: flex;flex-direction: column;align-items: center;background-color: white;padding-right: 0.2em;padding-left: 0.2em;position: relative;}#sk-container-id-25 div.sk-item {position: relative;z-index: 1;}#sk-container-id-25 div.sk-parallel {display: flex;align-items: stretch;justify-content: center;background-color: white;position: relative;}#sk-container-id-25 div.sk-item::before, #sk-container-id-25 div.sk-parallel-item::before {content: \"\";position: absolute;border-left: 1px solid gray;box-sizing: border-box;top: 0;bottom: 0;left: 50%;z-index: -1;}#sk-container-id-25 div.sk-parallel-item {display: flex;flex-direction: column;z-index: 1;position: relative;background-color: white;}#sk-container-id-25 div.sk-parallel-item:first-child::after {align-self: flex-end;width: 50%;}#sk-container-id-25 div.sk-parallel-item:last-child::after {align-self: flex-start;width: 50%;}#sk-container-id-25 div.sk-parallel-item:only-child::after {width: 0;}#sk-container-id-25 div.sk-dashed-wrapped {border: 1px dashed gray;margin: 0 0.4em 0.5em 0.4em;box-sizing: border-box;padding-bottom: 0.4em;background-color: white;}#sk-container-id-25 div.sk-label label {font-family: monospace;font-weight: bold;display: inline-block;line-height: 1.2em;}#sk-container-id-25 div.sk-label-container {text-align: center;}#sk-container-id-25 div.sk-container {/* jupyter's `normalize.less` sets `[hidden] { display: none; }` but bootstrap.min.css set `[hidden] { display: none !important; }` so we also need the `!important` here to be able to override the default hidden behavior on the sphinx rendered scikit-learn.org. See: https://github.com/scikit-learn/scikit-learn/issues/21755 */display: inline-block !important;position: relative;}#sk-container-id-25 div.sk-text-repr-fallback {display: none;}</style><div id=\"sk-container-id-25\" class=\"sk-top-container\"><div class=\"sk-text-repr-fallback\"><pre>KNeighborsRegressor()</pre><b>In a Jupyter environment, please rerun this cell to show the HTML representation or trust the notebook. <br />On GitHub, the HTML representation is unable to render, please try loading this page with nbviewer.org.</b></div><div class=\"sk-container\" hidden><div class=\"sk-item\"><div class=\"sk-estimator sk-toggleable\"><input class=\"sk-toggleable__control sk-hidden--visually\" id=\"sk-estimator-id-30\" type=\"checkbox\" checked><label for=\"sk-estimator-id-30\" class=\"sk-toggleable__label sk-toggleable__label-arrow\">KNeighborsRegressor</label><div class=\"sk-toggleable__content\"><pre>KNeighborsRegressor()</pre></div></div></div></div></div>"
      ],
      "text/plain": [
       "KNeighborsRegressor()"
      ]
     },
     "execution_count": 96,
     "metadata": {},
     "output_type": "execute_result"
    },
    {
     "name": "stdout",
     "output_type": "stream",
     "text": [
      "Train Mean Squared Error for K-Nearest Neighbors: 0.08564406184367651\n",
      "Test Mean Squared Error for K-Nearest Neighbors: 0.10751440187603568\n",
      "Train R2 Score K-Nearest Neighbors: 0.7850660138021525\n",
      "Test R2 Score K-Nearest Neighbors: 0.7013451765339096\n"
     ]
    },
    {
     "data": {
      "text/plain": [
       "Text(0.5, 0, 'Model')"
      ]
     },
     "execution_count": 96,
     "metadata": {},
     "output_type": "execute_result"
    },
    {
     "data": {
      "text/plain": [
       "Text(0, 0.5, 'Mean Squared Error')"
      ]
     },
     "execution_count": 96,
     "metadata": {},
     "output_type": "execute_result"
    },
    {
     "data": {
      "text/plain": [
       "[<matplotlib.axis.XTick at 0x1f2df153a30>,\n",
       " <matplotlib.axis.XTick at 0x1f2df152ec0>,\n",
       " <matplotlib.axis.XTick at 0x1f2df153ee0>,\n",
       " <matplotlib.axis.XTick at 0x1f2df541d20>,\n",
       " <matplotlib.axis.XTick at 0x1f2df5423b0>,\n",
       " <matplotlib.axis.XTick at 0x1f2df542b00>,\n",
       " <matplotlib.axis.XTick at 0x1f2df543250>,\n",
       " <matplotlib.axis.XTick at 0x1f2df5439a0>,\n",
       " <matplotlib.axis.XTick at 0x1f2df543c40>,\n",
       " <matplotlib.axis.XTick at 0x1f2df542ad0>,\n",
       " <matplotlib.axis.XTick at 0x1f2df5580d0>]"
      ]
     },
     "execution_count": 96,
     "metadata": {},
     "output_type": "execute_result"
    },
    {
     "data": {
      "text/plain": [
       "<matplotlib.legend.Legend at 0x1f2df4dbf40>"
      ]
     },
     "execution_count": 96,
     "metadata": {},
     "output_type": "execute_result"
    },
    {
     "data": {
      "text/plain": [
       "Text(0, 0.5, 'R2 Score')"
      ]
     },
     "execution_count": 96,
     "metadata": {},
     "output_type": "execute_result"
    },
    {
     "data": {
      "text/plain": [
       "[<matplotlib.lines.Line2D at 0x1f2df542b60>]"
      ]
     },
     "execution_count": 96,
     "metadata": {},
     "output_type": "execute_result"
    },
    {
     "data": {
      "text/plain": [
       "[<matplotlib.lines.Line2D at 0x1f2df572950>]"
      ]
     },
     "execution_count": 96,
     "metadata": {},
     "output_type": "execute_result"
    },
    {
     "data": {
      "text/plain": [
       "Text(0.5, 1.05, 'Comparison of Regression Models')"
      ]
     },
     "execution_count": 96,
     "metadata": {},
     "output_type": "execute_result"
    },
    {
     "data": {
      "text/plain": [
       "<matplotlib.legend.Legend at 0x1f2df4d8400>"
      ]
     },
     "execution_count": 96,
     "metadata": {},
     "output_type": "execute_result"
    },
    {
     "data": {
      "image/png": "[encoded data removed]",
      "text/plain": [
       "<Figure size 1584x576 with 2 Axes>"
      ]
     },
     "metadata": {
      "needs_background": "light"
     },
     "output_type": "display_data"
    }
   ],
   "source": [
    "# Dictionnaire pour stocker les résultats\n",
    "results = {'Model': [], 'Train Mean Squared Error': [], 'Test Mean Squared Error': [], 'Train R2 Score': [], 'Test R2 Score': []}\n",
    "\n",
    "\n",
    "train_predictions = {}\n",
    "trained_models = {}\n",
    "# Entraîner et évaluer chaque modèle\n",
    "for name, model in models.items():\n",
    "    model.fit(X_train, y_train)\n",
    "    # Prédictions sur l'ensemble d'entraînement\n",
    "    y_train_pred = model.predict(X_train)\n",
    "    train_nrmse = normalized_root_mean_squared_error(y_train, y_train_pred)\n",
    "    train_r2 = r2_score(y_train, y_train_pred)\n",
    "\n",
    "    y_pred = model.predict(X_test)\n",
    "    nrmse = normalized_root_mean_squared_error(y_test, y_pred)\n",
    "    r2 = r2_score(y_test, y_pred)\n",
    "    results['Model'].append(name)\n",
    "    results['Train Mean Squared Error'].append(train_nrmse)\n",
    "    results['Test Mean Squared Error'].append(nrmse)\n",
    "    results['Train R2 Score'].append(train_r2)\n",
    "    results['Test R2 Score'].append(r2)\n",
    "\n",
    "    train_predictions[name] = pd.DataFrame({'y_train': y_train, 'y_train_pred': y_train_pred, 'squared_error': (y_train - y_train_pred) **2})\n",
    "    trained_models[name] = model\n",
    "\n",
    "    print(f\"Train Mean Squared Error for {name}: {train_nrmse}\")\n",
    "    print(f\"Test Mean Squared Error for {name}: {nrmse}\")\n",
    "    print(f\"Train R2 Score {name}: {train_r2}\")\n",
    "    print(f\"Test R2 Score {name}: {r2}\")\n",
    "\n",
    "# Convertir les résultats en DataFrame pour une manipulation plus facile\n",
    "results_df = pd.DataFrame(results)\n",
    "\n",
    "# Convertir les colonnes du DataFrame en tableaux NumPy\n",
    "models = results_df['Model'].to_numpy()\n",
    "train_mse_values = results_df['Train Mean Squared Error'].to_numpy()\n",
    "test_mse_values = results_df['Test Mean Squared Error'].to_numpy()\n",
    "train_r2_values = results_df['Train R2 Score'].to_numpy()\n",
    "test_r2_values = results_df['Test R2 Score'].to_numpy()\n",
    "\n",
    "# Tracer les résultats\n",
    "fig, ax1 = plt.subplots(figsize=(22, 8))\n",
    "\n",
    "# Position des barres\n",
    "x = np.arange(len(models))  # la position des groupes\n",
    "width = 0.35  # la largeur des barres\n",
    "\n",
    "# Tracer les Mean Squared Error pour l'entraînement et le test côte à côte\n",
    "rects1 = ax1.bar(x - width/2, train_mse_values, width, label='Train Mean Squared Error', color='#1f77b4', alpha=0.6)\n",
    "rects2 = ax1.bar(x + width/2, test_mse_values, width, label='Test Mean Squared Error', color='#ff7f0e', alpha=0.6)\n",
    "\n",
    "# Tracer les Mean Squared Error\n",
    "# color = 'tab:red'\n",
    "ax1.set_xlabel('Model')\n",
    "ax1.set_ylabel('Mean Squared Error')\n",
    "# ax1.bar(models, mse_values, color=color, alpha=0.6, label='Mean Squared Error')\n",
    "# ax1.tick_params(axis='y', labelcolor=color)\n",
    "# ax1.bar(models, train_mse_values, color='blue', alpha=0.6, label='Train Mean Squared Error')\n",
    "# ax1.bar(models, test_mse_values, color='red', alpha=0.6, label='Test Mean Squared Error', bottom=train_mse_values)\n",
    "ax1.set_xticks(x)\n",
    "ax1.tick_params(axis='x', rotation=45)\n",
    "ax1.legend(loc='upper left')\n",
    "\n",
    "# Ajouter une deuxième axe pour le R2 Score\n",
    "ax2 = ax1.twinx()\n",
    "# color = 'tab:blue'\n",
    "ax2.set_ylabel('R2 Score')\n",
    "# ax2.plot(models, r2_values, color=color, marker='o', linewidth=2, label='R2 Score')\n",
    "# ax2.tick_params(axis='y', labelcolor=color)\n",
    "ax2.plot(models, train_r2_values, color='blue', marker='o', label='Train R2 Score')\n",
    "ax2.plot(models, test_r2_values, color='#d62728', marker='o', label='Test R2 Score')\n",
    "ax2.tick_params(axis='y')\n",
    "\n",
    "# Ajouter un titre et afficher la légende\n",
    "fig.tight_layout()\n",
    "fig.suptitle('Comparison of Regression Models', y=1.05, fontsize=16)\n",
    "fig.legend(loc='upper left', bbox_to_anchor=(1, 0.9))\n",
    "\n",
    "# Afficher le graphique\n",
    "plt.show()"
   ]
  },
  {
   "cell_type": "code",
   "execution_count": 68,
   "metadata": {},
   "outputs": [
    {
     "name": "stdout",
     "output_type": "stream",
     "text": [
      "Fitting 3 folds for each of 100 candidates, totalling 300 fits\n"
     ]
    },
    {
     "name": "stderr",
     "output_type": "stream",
     "text": [
      "c:\\Users\\USER\\AppData\\Local\\Programs\\Python\\Python310\\lib\\site-packages\\sklearn\\ensemble\\_forest.py:416: FutureWarning: `max_features='auto'` has been deprecated in 1.1 and will be removed in 1.3. To keep the past behaviour, explicitly set `max_features=1.0` or remove this parameter as it is also the default value for RandomForestRegressors and ExtraTreesRegressors.\n",
      "  warn(\n"
     ]
    },
    {
     "data": {
      "text/html": [
       "<style>#sk-container-id-12 {color: black;background-color: white;}#sk-container-id-12 pre{padding: 0;}#sk-container-id-12 div.sk-toggleable {background-color: white;}#sk-container-id-12 label.sk-toggleable__label {cursor: pointer;display: block;width: 100%;margin-bottom: 0;padding: 0.3em;box-sizing: border-box;text-align: center;}#sk-container-id-12 label.sk-toggleable__label-arrow:before {content: \"▸\";float: left;margin-right: 0.25em;color: #696969;}#sk-container-id-12 label.sk-toggleable__label-arrow:hover:before {color: black;}#sk-container-id-12 div.sk-estimator:hover label.sk-toggleable__label-arrow:before {color: black;}#sk-container-id-12 div.sk-toggleable__content {max-height: 0;max-width: 0;overflow: hidden;text-align: left;background-color: #f0f8ff;}#sk-container-id-12 div.sk-toggleable__content pre {margin: 0.2em;color: black;border-radius: 0.25em;background-color: #f0f8ff;}#sk-container-id-12 input.sk-toggleable__control:checked~div.sk-toggleable__content {max-height: 200px;max-width: 100%;overflow: auto;}#sk-container-id-12 input.sk-toggleable__control:checked~label.sk-toggleable__label-arrow:before {content: \"▾\";}#sk-container-id-12 div.sk-estimator input.sk-toggleable__control:checked~label.sk-toggleable__label {background-color: #d4ebff;}#sk-container-id-12 div.sk-label input.sk-toggleable__control:checked~label.sk-toggleable__label {background-color: #d4ebff;}#sk-container-id-12 input.sk-hidden--visually {border: 0;clip: rect(1px 1px 1px 1px);clip: rect(1px, 1px, 1px, 1px);height: 1px;margin: -1px;overflow: hidden;padding: 0;position: absolute;width: 1px;}#sk-container-id-12 div.sk-estimator {font-family: monospace;background-color: #f0f8ff;border: 1px dotted black;border-radius: 0.25em;box-sizing: border-box;margin-bottom: 0.5em;}#sk-container-id-12 div.sk-estimator:hover {background-color: #d4ebff;}#sk-container-id-12 div.sk-parallel-item::after {content: \"\";width: 100%;border-bottom: 1px solid gray;flex-grow: 1;}#sk-container-id-12 div.sk-label:hover label.sk-toggleable__label {background-color: #d4ebff;}#sk-container-id-12 div.sk-serial::before {content: \"\";position: absolute;border-left: 1px solid gray;box-sizing: border-box;top: 0;bottom: 0;left: 50%;z-index: 0;}#sk-container-id-12 div.sk-serial {display: flex;flex-direction: column;align-items: center;background-color: white;padding-right: 0.2em;padding-left: 0.2em;position: relative;}#sk-container-id-12 div.sk-item {position: relative;z-index: 1;}#sk-container-id-12 div.sk-parallel {display: flex;align-items: stretch;justify-content: center;background-color: white;position: relative;}#sk-container-id-12 div.sk-item::before, #sk-container-id-12 div.sk-parallel-item::before {content: \"\";position: absolute;border-left: 1px solid gray;box-sizing: border-box;top: 0;bottom: 0;left: 50%;z-index: -1;}#sk-container-id-12 div.sk-parallel-item {display: flex;flex-direction: column;z-index: 1;position: relative;background-color: white;}#sk-container-id-12 div.sk-parallel-item:first-child::after {align-self: flex-end;width: 50%;}#sk-container-id-12 div.sk-parallel-item:last-child::after {align-self: flex-start;width: 50%;}#sk-container-id-12 div.sk-parallel-item:only-child::after {width: 0;}#sk-container-id-12 div.sk-dashed-wrapped {border: 1px dashed gray;margin: 0 0.4em 0.5em 0.4em;box-sizing: border-box;padding-bottom: 0.4em;background-color: white;}#sk-container-id-12 div.sk-label label {font-family: monospace;font-weight: bold;display: inline-block;line-height: 1.2em;}#sk-container-id-12 div.sk-label-container {text-align: center;}#sk-container-id-12 div.sk-container {/* jupyter's `normalize.less` sets `[hidden] { display: none; }` but bootstrap.min.css set `[hidden] { display: none !important; }` so we also need the `!important` here to be able to override the default hidden behavior on the sphinx rendered scikit-learn.org. See: https://github.com/scikit-learn/scikit-learn/issues/21755 */display: inline-block !important;position: relative;}#sk-container-id-12 div.sk-text-repr-fallback {display: none;}</style><div id=\"sk-container-id-12\" class=\"sk-top-container\"><div class=\"sk-text-repr-fallback\"><pre>RandomizedSearchCV(cv=3, estimator=RandomForestRegressor(random_state=42),\n",
       "                   n_iter=100, n_jobs=-1,\n",
       "                   param_distributions={&#x27;bootstrap&#x27;: [True, False],\n",
       "                                        &#x27;max_depth&#x27;: [None, 10, 20, 30, 40, 50],\n",
       "                                        &#x27;max_features&#x27;: [&#x27;auto&#x27;, &#x27;sqrt&#x27;,\n",
       "                                                         &#x27;log2&#x27;],\n",
       "                                        &#x27;min_samples_leaf&#x27;: [1, 2, 4],\n",
       "                                        &#x27;min_samples_split&#x27;: [2, 5, 10],\n",
       "                                        &#x27;n_estimators&#x27;: [100, 200, 300, 400,\n",
       "                                                         500]},\n",
       "                   random_state=42, verbose=2)</pre><b>In a Jupyter environment, please rerun this cell to show the HTML representation or trust the notebook. <br />On GitHub, the HTML representation is unable to render, please try loading this page with nbviewer.org.</b></div><div class=\"sk-container\" hidden><div class=\"sk-item sk-dashed-wrapped\"><div class=\"sk-label-container\"><div class=\"sk-label sk-toggleable\"><input class=\"sk-toggleable__control sk-hidden--visually\" id=\"sk-estimator-id-12\" type=\"checkbox\" ><label for=\"sk-estimator-id-12\" class=\"sk-toggleable__label sk-toggleable__label-arrow\">RandomizedSearchCV</label><div class=\"sk-toggleable__content\"><pre>RandomizedSearchCV(cv=3, estimator=RandomForestRegressor(random_state=42),\n",
       "                   n_iter=100, n_jobs=-1,\n",
       "                   param_distributions={&#x27;bootstrap&#x27;: [True, False],\n",
       "                                        &#x27;max_depth&#x27;: [None, 10, 20, 30, 40, 50],\n",
       "                                        &#x27;max_features&#x27;: [&#x27;auto&#x27;, &#x27;sqrt&#x27;,\n",
       "                                                         &#x27;log2&#x27;],\n",
       "                                        &#x27;min_samples_leaf&#x27;: [1, 2, 4],\n",
       "                                        &#x27;min_samples_split&#x27;: [2, 5, 10],\n",
       "                                        &#x27;n_estimators&#x27;: [100, 200, 300, 400,\n",
       "                                                         500]},\n",
       "                   random_state=42, verbose=2)</pre></div></div></div><div class=\"sk-parallel\"><div class=\"sk-parallel-item\"><div class=\"sk-item\"><div class=\"sk-label-container\"><div class=\"sk-label sk-toggleable\"><input class=\"sk-toggleable__control sk-hidden--visually\" id=\"sk-estimator-id-13\" type=\"checkbox\" ><label for=\"sk-estimator-id-13\" class=\"sk-toggleable__label sk-toggleable__label-arrow\">estimator: RandomForestRegressor</label><div class=\"sk-toggleable__content\"><pre>RandomForestRegressor(random_state=42)</pre></div></div></div><div class=\"sk-serial\"><div class=\"sk-item\"><div class=\"sk-estimator sk-toggleable\"><input class=\"sk-toggleable__control sk-hidden--visually\" id=\"sk-estimator-id-14\" type=\"checkbox\" ><label for=\"sk-estimator-id-14\" class=\"sk-toggleable__label sk-toggleable__label-arrow\">RandomForestRegressor</label><div class=\"sk-toggleable__content\"><pre>RandomForestRegressor(random_state=42)</pre></div></div></div></div></div></div></div></div></div></div>"
      ],
      "text/plain": [
       "RandomizedSearchCV(cv=3, estimator=RandomForestRegressor(random_state=42),\n",
       "                   n_iter=100, n_jobs=-1,\n",
       "                   param_distributions={'bootstrap': [True, False],\n",
       "                                        'max_depth': [None, 10, 20, 30, 40, 50],\n",
       "                                        'max_features': ['auto', 'sqrt',\n",
       "                                                         'log2'],\n",
       "                                        'min_samples_leaf': [1, 2, 4],\n",
       "                                        'min_samples_split': [2, 5, 10],\n",
       "                                        'n_estimators': [100, 200, 300, 400,\n",
       "                                                         500]},\n",
       "                   random_state=42, verbose=2)"
      ]
     },
     "execution_count": 68,
     "metadata": {},
     "output_type": "execute_result"
    },
    {
     "name": "stdout",
     "output_type": "stream",
     "text": [
      "{'n_estimators': 300, 'min_samples_split': 2, 'min_samples_leaf': 2, 'max_features': 'auto', 'max_depth': 50, 'bootstrap': True}\n",
      "Train Mean Squared Error: 9.202405200182715\n",
      "Test Mean Squared Error: 37.84346769993149\n",
      "Train R2 Score: 0.9520609519419001\n",
      "Test R2 Score: 0.8113911013186119\n"
     ]
    }
   ],
   "source": [
    "from sklearn.ensemble import RandomForestRegressor\n",
    "from sklearn.model_selection import RandomizedSearchCV\n",
    "\n",
    "# Définir la grille d'hyperparamètres\n",
    "param_grid = {\n",
    "    'n_estimators': [100, 200, 300, 400, 500],\n",
    "    'max_features': ['auto', 'sqrt', 'log2'],\n",
    "    'max_depth': [None, 10, 20, 30, 40, 50],\n",
    "    'min_samples_split': [2, 5, 10],\n",
    "    'min_samples_leaf': [1, 2, 4],\n",
    "    'bootstrap': [True, False]\n",
    "}\n",
    "\n",
    "# Initialiser le modèle de Random Forest\n",
    "rf = RandomForestRegressor(random_state=42)\n",
    "\n",
    "# Initialiser la recherche aléatoire\n",
    "rf_random = RandomizedSearchCV(estimator=rf, param_distributions=param_grid, n_iter=100, cv=3, verbose=2, random_state=42, n_jobs=-1)\n",
    "\n",
    "# Entraîner la recherche aléatoire\n",
    "rf_random.fit(X_train, y_train)\n",
    "\n",
    "# Meilleurs hyperparamètres\n",
    "print(rf_random.best_params_)\n",
    "\n",
    "# Évaluer le modèle avec les meilleurs hyperparamètres\n",
    "best_rf = rf_random.best_estimator_\n",
    "y_train_pred = best_rf.predict(X_train)\n",
    "y_test_pred = best_rf.predict(X_test)\n",
    "\n",
    "train_mse = mean_squared_error(y_train, y_train_pred)\n",
    "test_mse = mean_squared_error(y_test, y_test_pred)\n",
    "\n",
    "train_r2 = r2_score(y_train, y_train_pred)\n",
    "test_r2 = r2_score(y_test, y_test_pred)\n",
    "\n",
    "print(f\"Train Mean Squared Error: {train_mse}\")\n",
    "print(f\"Test Mean Squared Error: {test_mse}\")\n",
    "print(f\"Train R2 Score: {train_r2}\")\n",
    "print(f\"Test R2 Score: {test_r2}\")\n"
   ]
  },
  {
   "cell_type": "code",
   "execution_count": 69,
   "metadata": {},
   "outputs": [
    {
     "data": {
      "text/html": [
       "<style>#sk-container-id-13 {color: black;background-color: white;}#sk-container-id-13 pre{padding: 0;}#sk-container-id-13 div.sk-toggleable {background-color: white;}#sk-container-id-13 label.sk-toggleable__label {cursor: pointer;display: block;width: 100%;margin-bottom: 0;padding: 0.3em;box-sizing: border-box;text-align: center;}#sk-container-id-13 label.sk-toggleable__label-arrow:before {content: \"▸\";float: left;margin-right: 0.25em;color: #696969;}#sk-container-id-13 label.sk-toggleable__label-arrow:hover:before {color: black;}#sk-container-id-13 div.sk-estimator:hover label.sk-toggleable__label-arrow:before {color: black;}#sk-container-id-13 div.sk-toggleable__content {max-height: 0;max-width: 0;overflow: hidden;text-align: left;background-color: #f0f8ff;}#sk-container-id-13 div.sk-toggleable__content pre {margin: 0.2em;color: black;border-radius: 0.25em;background-color: #f0f8ff;}#sk-container-id-13 input.sk-toggleable__control:checked~div.sk-toggleable__content {max-height: 200px;max-width: 100%;overflow: auto;}#sk-container-id-13 input.sk-toggleable__control:checked~label.sk-toggleable__label-arrow:before {content: \"▾\";}#sk-container-id-13 div.sk-estimator input.sk-toggleable__control:checked~label.sk-toggleable__label {background-color: #d4ebff;}#sk-container-id-13 div.sk-label input.sk-toggleable__control:checked~label.sk-toggleable__label {background-color: #d4ebff;}#sk-container-id-13 input.sk-hidden--visually {border: 0;clip: rect(1px 1px 1px 1px);clip: rect(1px, 1px, 1px, 1px);height: 1px;margin: -1px;overflow: hidden;padding: 0;position: absolute;width: 1px;}#sk-container-id-13 div.sk-estimator {font-family: monospace;background-color: #f0f8ff;border: 1px dotted black;border-radius: 0.25em;box-sizing: border-box;margin-bottom: 0.5em;}#sk-container-id-13 div.sk-estimator:hover {background-color: #d4ebff;}#sk-container-id-13 div.sk-parallel-item::after {content: \"\";width: 100%;border-bottom: 1px solid gray;flex-grow: 1;}#sk-container-id-13 div.sk-label:hover label.sk-toggleable__label {background-color: #d4ebff;}#sk-container-id-13 div.sk-serial::before {content: \"\";position: absolute;border-left: 1px solid gray;box-sizing: border-box;top: 0;bottom: 0;left: 50%;z-index: 0;}#sk-container-id-13 div.sk-serial {display: flex;flex-direction: column;align-items: center;background-color: white;padding-right: 0.2em;padding-left: 0.2em;position: relative;}#sk-container-id-13 div.sk-item {position: relative;z-index: 1;}#sk-container-id-13 div.sk-parallel {display: flex;align-items: stretch;justify-content: center;background-color: white;position: relative;}#sk-container-id-13 div.sk-item::before, #sk-container-id-13 div.sk-parallel-item::before {content: \"\";position: absolute;border-left: 1px solid gray;box-sizing: border-box;top: 0;bottom: 0;left: 50%;z-index: -1;}#sk-container-id-13 div.sk-parallel-item {display: flex;flex-direction: column;z-index: 1;position: relative;background-color: white;}#sk-container-id-13 div.sk-parallel-item:first-child::after {align-self: flex-end;width: 50%;}#sk-container-id-13 div.sk-parallel-item:last-child::after {align-self: flex-start;width: 50%;}#sk-container-id-13 div.sk-parallel-item:only-child::after {width: 0;}#sk-container-id-13 div.sk-dashed-wrapped {border: 1px dashed gray;margin: 0 0.4em 0.5em 0.4em;box-sizing: border-box;padding-bottom: 0.4em;background-color: white;}#sk-container-id-13 div.sk-label label {font-family: monospace;font-weight: bold;display: inline-block;line-height: 1.2em;}#sk-container-id-13 div.sk-label-container {text-align: center;}#sk-container-id-13 div.sk-container {/* jupyter's `normalize.less` sets `[hidden] { display: none; }` but bootstrap.min.css set `[hidden] { display: none !important; }` so we also need the `!important` here to be able to override the default hidden behavior on the sphinx rendered scikit-learn.org. See: https://github.com/scikit-learn/scikit-learn/issues/21755 */display: inline-block !important;position: relative;}#sk-container-id-13 div.sk-text-repr-fallback {display: none;}</style><div id=\"sk-container-id-13\" class=\"sk-top-container\"><div class=\"sk-text-repr-fallback\"><pre>RandomForestRegressor(random_state=42)</pre><b>In a Jupyter environment, please rerun this cell to show the HTML representation or trust the notebook. <br />On GitHub, the HTML representation is unable to render, please try loading this page with nbviewer.org.</b></div><div class=\"sk-container\" hidden><div class=\"sk-item\"><div class=\"sk-estimator sk-toggleable\"><input class=\"sk-toggleable__control sk-hidden--visually\" id=\"sk-estimator-id-15\" type=\"checkbox\" checked><label for=\"sk-estimator-id-15\" class=\"sk-toggleable__label sk-toggleable__label-arrow\">RandomForestRegressor</label><div class=\"sk-toggleable__content\"><pre>RandomForestRegressor(random_state=42)</pre></div></div></div></div></div>"
      ],
      "text/plain": [
       "RandomForestRegressor(random_state=42)"
      ]
     },
     "execution_count": 69,
     "metadata": {},
     "output_type": "execute_result"
    },
    {
     "data": {
      "text/plain": [
       "0.9697035152992518"
      ]
     },
     "execution_count": 69,
     "metadata": {},
     "output_type": "execute_result"
    },
    {
     "data": {
      "text/plain": [
       "0.8126678512960622"
      ]
     },
     "execution_count": 69,
     "metadata": {},
     "output_type": "execute_result"
    },
    {
     "data": {
      "text/html": [
       "<style>#sk-container-id-14 {color: black;background-color: white;}#sk-container-id-14 pre{padding: 0;}#sk-container-id-14 div.sk-toggleable {background-color: white;}#sk-container-id-14 label.sk-toggleable__label {cursor: pointer;display: block;width: 100%;margin-bottom: 0;padding: 0.3em;box-sizing: border-box;text-align: center;}#sk-container-id-14 label.sk-toggleable__label-arrow:before {content: \"▸\";float: left;margin-right: 0.25em;color: #696969;}#sk-container-id-14 label.sk-toggleable__label-arrow:hover:before {color: black;}#sk-container-id-14 div.sk-estimator:hover label.sk-toggleable__label-arrow:before {color: black;}#sk-container-id-14 div.sk-toggleable__content {max-height: 0;max-width: 0;overflow: hidden;text-align: left;background-color: #f0f8ff;}#sk-container-id-14 div.sk-toggleable__content pre {margin: 0.2em;color: black;border-radius: 0.25em;background-color: #f0f8ff;}#sk-container-id-14 input.sk-toggleable__control:checked~div.sk-toggleable__content {max-height: 200px;max-width: 100%;overflow: auto;}#sk-container-id-14 input.sk-toggleable__control:checked~label.sk-toggleable__label-arrow:before {content: \"▾\";}#sk-container-id-14 div.sk-estimator input.sk-toggleable__control:checked~label.sk-toggleable__label {background-color: #d4ebff;}#sk-container-id-14 div.sk-label input.sk-toggleable__control:checked~label.sk-toggleable__label {background-color: #d4ebff;}#sk-container-id-14 input.sk-hidden--visually {border: 0;clip: rect(1px 1px 1px 1px);clip: rect(1px, 1px, 1px, 1px);height: 1px;margin: -1px;overflow: hidden;padding: 0;position: absolute;width: 1px;}#sk-container-id-14 div.sk-estimator {font-family: monospace;background-color: #f0f8ff;border: 1px dotted black;border-radius: 0.25em;box-sizing: border-box;margin-bottom: 0.5em;}#sk-container-id-14 div.sk-estimator:hover {background-color: #d4ebff;}#sk-container-id-14 div.sk-parallel-item::after {content: \"\";width: 100%;border-bottom: 1px solid gray;flex-grow: 1;}#sk-container-id-14 div.sk-label:hover label.sk-toggleable__label {background-color: #d4ebff;}#sk-container-id-14 div.sk-serial::before {content: \"\";position: absolute;border-left: 1px solid gray;box-sizing: border-box;top: 0;bottom: 0;left: 50%;z-index: 0;}#sk-container-id-14 div.sk-serial {display: flex;flex-direction: column;align-items: center;background-color: white;padding-right: 0.2em;padding-left: 0.2em;position: relative;}#sk-container-id-14 div.sk-item {position: relative;z-index: 1;}#sk-container-id-14 div.sk-parallel {display: flex;align-items: stretch;justify-content: center;background-color: white;position: relative;}#sk-container-id-14 div.sk-item::before, #sk-container-id-14 div.sk-parallel-item::before {content: \"\";position: absolute;border-left: 1px solid gray;box-sizing: border-box;top: 0;bottom: 0;left: 50%;z-index: -1;}#sk-container-id-14 div.sk-parallel-item {display: flex;flex-direction: column;z-index: 1;position: relative;background-color: white;}#sk-container-id-14 div.sk-parallel-item:first-child::after {align-self: flex-end;width: 50%;}#sk-container-id-14 div.sk-parallel-item:last-child::after {align-self: flex-start;width: 50%;}#sk-container-id-14 div.sk-parallel-item:only-child::after {width: 0;}#sk-container-id-14 div.sk-dashed-wrapped {border: 1px dashed gray;margin: 0 0.4em 0.5em 0.4em;box-sizing: border-box;padding-bottom: 0.4em;background-color: white;}#sk-container-id-14 div.sk-label label {font-family: monospace;font-weight: bold;display: inline-block;line-height: 1.2em;}#sk-container-id-14 div.sk-label-container {text-align: center;}#sk-container-id-14 div.sk-container {/* jupyter's `normalize.less` sets `[hidden] { display: none; }` but bootstrap.min.css set `[hidden] { display: none !important; }` so we also need the `!important` here to be able to override the default hidden behavior on the sphinx rendered scikit-learn.org. See: https://github.com/scikit-learn/scikit-learn/issues/21755 */display: inline-block !important;position: relative;}#sk-container-id-14 div.sk-text-repr-fallback {display: none;}</style><div id=\"sk-container-id-14\" class=\"sk-top-container\"><div class=\"sk-text-repr-fallback\"><pre>StackingRegressor(estimators=[(&#x27;RBF&#x27;, RandomForestRegressor(random_state=42)),\n",
       "                              (&#x27;GBR&#x27;,\n",
       "                               GradientBoostingRegressor(random_state=42))],\n",
       "                  final_estimator=RidgeCV())</pre><b>In a Jupyter environment, please rerun this cell to show the HTML representation or trust the notebook. <br />On GitHub, the HTML representation is unable to render, please try loading this page with nbviewer.org.</b></div><div class=\"sk-container\" hidden><div class=\"sk-item sk-dashed-wrapped\"><div class=\"sk-label-container\"><div class=\"sk-label sk-toggleable\"><input class=\"sk-toggleable__control sk-hidden--visually\" id=\"sk-estimator-id-16\" type=\"checkbox\" ><label for=\"sk-estimator-id-16\" class=\"sk-toggleable__label sk-toggleable__label-arrow\">StackingRegressor</label><div class=\"sk-toggleable__content\"><pre>StackingRegressor(estimators=[(&#x27;RBF&#x27;, RandomForestRegressor(random_state=42)),\n",
       "                              (&#x27;GBR&#x27;,\n",
       "                               GradientBoostingRegressor(random_state=42))],\n",
       "                  final_estimator=RidgeCV())</pre></div></div></div><div class=\"sk-serial\"><div class=\"sk-item\"><div class=\"sk-parallel\"><div class=\"sk-parallel-item\"><div class=\"sk-item\"><div class=\"sk-label-container\"><div class=\"sk-label sk-toggleable\"><label>RBF</label></div></div><div class=\"sk-serial\"><div class=\"sk-item\"><div class=\"sk-estimator sk-toggleable\"><input class=\"sk-toggleable__control sk-hidden--visually\" id=\"sk-estimator-id-17\" type=\"checkbox\" ><label for=\"sk-estimator-id-17\" class=\"sk-toggleable__label sk-toggleable__label-arrow\">RandomForestRegressor</label><div class=\"sk-toggleable__content\"><pre>RandomForestRegressor(random_state=42)</pre></div></div></div></div></div></div><div class=\"sk-parallel-item\"><div class=\"sk-item\"><div class=\"sk-label-container\"><div class=\"sk-label sk-toggleable\"><label>GBR</label></div></div><div class=\"sk-serial\"><div class=\"sk-item\"><div class=\"sk-estimator sk-toggleable\"><input class=\"sk-toggleable__control sk-hidden--visually\" id=\"sk-estimator-id-18\" type=\"checkbox\" ><label for=\"sk-estimator-id-18\" class=\"sk-toggleable__label sk-toggleable__label-arrow\">GradientBoostingRegressor</label><div class=\"sk-toggleable__content\"><pre>GradientBoostingRegressor(random_state=42)</pre></div></div></div></div></div></div></div></div><div class=\"sk-item\"><div class=\"sk-parallel\"><div class=\"sk-parallel-item\"><div class=\"sk-item\"><div class=\"sk-label-container\"><div class=\"sk-label sk-toggleable\"><label>final_estimator</label></div></div><div class=\"sk-serial\"><div class=\"sk-item\"><div class=\"sk-estimator sk-toggleable\"><input class=\"sk-toggleable__control sk-hidden--visually\" id=\"sk-estimator-id-19\" type=\"checkbox\" ><label for=\"sk-estimator-id-19\" class=\"sk-toggleable__label sk-toggleable__label-arrow\">RidgeCV</label><div class=\"sk-toggleable__content\"><pre>RidgeCV()</pre></div></div></div></div></div></div></div></div></div></div></div></div>"
      ],
      "text/plain": [
       "StackingRegressor(estimators=[('RBF', RandomForestRegressor(random_state=42)),\n",
       "                              ('GBR',\n",
       "                               GradientBoostingRegressor(random_state=42))],\n",
       "                  final_estimator=RidgeCV())"
      ]
     },
     "execution_count": 69,
     "metadata": {},
     "output_type": "execute_result"
    },
    {
     "data": {
      "text/plain": [
       "0.9527957634507616"
      ]
     },
     "execution_count": 69,
     "metadata": {},
     "output_type": "execute_result"
    },
    {
     "data": {
      "text/plain": [
       "0.8125308001225423"
      ]
     },
     "execution_count": 69,
     "metadata": {},
     "output_type": "execute_result"
    },
    {
     "name": "stdout",
     "output_type": "stream",
     "text": [
      "Train NR Mean Squared Error: 0.04013610265426824\n",
      "Test NR Mean Squared Error: 0.08518180518469654\n",
      "Train R2 Score: 0.9527957634507616\n",
      "Test R2 Score: 0.8125308001225423\n"
     ]
    }
   ],
   "source": [
    "from sklearn.linear_model import RidgeCV\n",
    "\n",
    "model_1 = DecisionTreeRegressor(random_state=0)\n",
    "model_2 = KNeighborsRegressor()\n",
    "model_3 = RandomForestRegressor(random_state=42)\n",
    "model_4 = GradientBoostingRegressor(random_state=42)\n",
    "\n",
    "model_5 = StackingRegressor([('RBF', model_3), ('GBR', model_4)], final_estimator=RidgeCV())\n",
    "\n",
    "# for model in (model_1, model_2, model_3, model_4):\n",
    "#     model.fit(X_train, y_train)\n",
    "#     print(model.__class__.__name__, model.score(X_test, y_test))\n",
    "model_3.fit(X_train, y_train)\n",
    "model_3.score(X_train, y_train)\n",
    "\n",
    "model_3.score(X_test, y_test)\n",
    "\n",
    "\n",
    "model_5.fit(X_train, y_train)\n",
    "model_5.score(X_train, y_train)\n",
    "model_5.score(X_test, y_test)\n",
    "\n",
    "# Prédictions pour l'entraînement et le test\n",
    "y_train_pred = model_5.predict(X_train)\n",
    "y_test_pred = model_5.predict(X_test)\n",
    "\n",
    "# Calculer le MSE et les scores R2\n",
    "train_mse = normalized_root_mean_squared_error(y_train, y_train_pred)\n",
    "test_mse = normalized_root_mean_squared_error(y_test, y_test_pred)\n",
    "train_r2 = r2_score(y_train, y_train_pred)\n",
    "test_r2 = r2_score(y_test, y_test_pred)\n",
    "\n",
    "print(f\"Train NR Mean Squared Error: {train_mse}\")\n",
    "print(f\"Test NR Mean Squared Error: {test_mse}\")\n",
    "print(f\"Train R2 Score: {train_r2}\")\n",
    "print(f\"Test R2 Score: {test_r2}\")"
   ]
  },
  {
   "cell_type": "code",
   "execution_count": 70,
   "metadata": {},
   "outputs": [],
   "source": [
    "# param_grid = {\n",
    "#     'RBF__n_estimators': [100, 200, 300],\n",
    "#     'RBF__max_depth': [None, 10, 20],\n",
    "#     'RBF__min_samples_split': [2, 5, 10],\n",
    "#     'RBF__min_samples_leaf': [1, 2, 4],\n",
    "#     'GBR__n_estimators': [100, 200, 300],\n",
    "#     'GBR__learning_rate': [0.01, 0.05, 0.1],\n",
    "#     'GBR__max_depth': [3, 4, 5],\n",
    "#     'GBR__min_samples_split': [2, 5, 10],\n",
    "#     'GBR__min_samples_leaf': [1, 2, 4],\n",
    "#     'DTR__max_depth': [None, 10, 20],\n",
    "#     'DTR__min_samples_split': [2, 5, 10],\n",
    "#     'DTR__min_samples_leaf': [1, 2, 4]\n",
    "# }\n",
    "# random_search = RandomizedSearchCV(\n",
    "#     estimator=model_5,\n",
    "#     param_distributions=param_grid,\n",
    "#     n_iter=100,\n",
    "#     cv=3,\n",
    "#     verbose=2,\n",
    "#     random_state=42,\n",
    "#     n_jobs=-1\n",
    "# )\n",
    "\n",
    "# # Entraîner le modèle\n",
    "# random_search.fit(X_train, y_train)\n",
    "\n",
    "# # Meilleurs paramètres\n",
    "# print(f\"Meilleurs paramètres: {random_search.best_params_}\")\n"
   ]
  },
  {
   "cell_type": "code",
   "execution_count": 71,
   "metadata": {},
   "outputs": [],
   "source": [
    "# # Meilleur modèle\n",
    "# best_model = random_search.best_estimator_\n",
    "\n",
    "# # Prédictions pour l'entraînement et le test\n",
    "# y_train_pred = best_model.predict(X_train)\n",
    "# y_test_pred = best_model.predict(X_test)\n",
    "\n",
    "# # Calculer le MSE et les scores R2\n",
    "# train_mse = mean_squared_error(y_train, y_train_pred)\n",
    "# test_mse = mean_squared_error(y_test, y_test_pred)\n",
    "# train_r2 = r2_score(y_train, y_train_pred)\n",
    "# test_r2 = r2_score(y_test, y_test_pred)\n",
    "\n",
    "# print(f\"Train Mean Squared Error: {train_mse}\")\n",
    "# print(f\"Test Mean Squared Error: {test_mse}\")\n",
    "# print(f\"Train R2 Score: {train_r2}\")\n",
    "# print(f\"Test R2 Score: {test_r2}\")\n"
   ]
  },
  {
   "cell_type": "code",
   "execution_count": 72,
   "metadata": {},
   "outputs": [],
   "source": [
    "rf_model = trained_models['Random Forest']"
   ]
  },
  {
   "cell_type": "code",
   "execution_count": 73,
   "metadata": {},
   "outputs": [
    {
     "data": {
      "text/plain": [
       "['rf_travel.joblib']"
      ]
     },
     "execution_count": 73,
     "metadata": {},
     "output_type": "execute_result"
    }
   ],
   "source": [
    "import joblib\n",
    "joblib.dump(rf_model, 'rf_travel.joblib')"
   ]
  },
  {
   "cell_type": "code",
   "execution_count": 74,
   "metadata": {},
   "outputs": [],
   "source": [
    "new_columns = ['Longitude', 'Latitude', 'Speed','Acceleration', 'LaneMaxSpeed', 'ActionVehicleAhead',\n",
    "                 'action_accelerate', 'action_decelerate', 'action_stop',  'ActionParam', 'ActionDuration', 'y_train', 'y_train_pred', 'squared_error']"
   ]
  },
  {
   "cell_type": "code",
   "execution_count": 75,
   "metadata": {},
   "outputs": [
    {
     "data": {
      "text/html": [
       "<div>\n",
       "<style scoped>\n",
       "    .dataframe tbody tr th:only-of-type {\n",
       "        vertical-align: middle;\n",
       "    }\n",
       "\n",
       "    .dataframe tbody tr th {\n",
       "        vertical-align: top;\n",
       "    }\n",
       "\n",
       "    .dataframe thead th {\n",
       "        text-align: right;\n",
       "    }\n",
       "</style>\n",
       "<table border=\"1\" class=\"dataframe\">\n",
       "  <thead>\n",
       "    <tr style=\"text-align: right;\">\n",
       "      <th></th>\n",
       "      <th>0</th>\n",
       "      <th>1</th>\n",
       "      <th>2</th>\n",
       "      <th>3</th>\n",
       "      <th>4</th>\n",
       "      <th>5</th>\n",
       "      <th>6</th>\n",
       "      <th>7</th>\n",
       "      <th>8</th>\n",
       "      <th>9</th>\n",
       "      <th>10</th>\n",
       "    </tr>\n",
       "  </thead>\n",
       "  <tbody>\n",
       "    <tr>\n",
       "      <th>Feature</th>\n",
       "      <td>Longitude</td>\n",
       "      <td>Latitude</td>\n",
       "      <td>Speed</td>\n",
       "      <td>Acceleration</td>\n",
       "      <td>LaneMaxSpeed</td>\n",
       "      <td>ActionVehicleAhead</td>\n",
       "      <td>action_accelerate</td>\n",
       "      <td>action_decelerate</td>\n",
       "      <td>action_stop</td>\n",
       "      <td>ActionParam</td>\n",
       "      <td>ActionDuration</td>\n",
       "    </tr>\n",
       "    <tr>\n",
       "      <th>Importance</th>\n",
       "      <td>0.078216</td>\n",
       "      <td>0.112373</td>\n",
       "      <td>0.108589</td>\n",
       "      <td>0.031314</td>\n",
       "      <td>0.04129</td>\n",
       "      <td>0.266698</td>\n",
       "      <td>0.00328</td>\n",
       "      <td>0.003095</td>\n",
       "      <td>0.054453</td>\n",
       "      <td>0.187813</td>\n",
       "      <td>0.112881</td>\n",
       "    </tr>\n",
       "  </tbody>\n",
       "</table>\n",
       "</div>"
      ],
      "text/plain": [
       "                   0         1         2             3             4   \\\n",
       "Feature     Longitude  Latitude     Speed  Acceleration  LaneMaxSpeed   \n",
       "Importance   0.078216  0.112373  0.108589      0.031314       0.04129   \n",
       "\n",
       "                            5                  6                  7   \\\n",
       "Feature     ActionVehicleAhead  action_accelerate  action_decelerate   \n",
       "Importance            0.266698            0.00328           0.003095   \n",
       "\n",
       "                     8            9               10  \n",
       "Feature     action_stop  ActionParam  ActionDuration  \n",
       "Importance     0.054453     0.187813        0.112881  "
      ]
     },
     "execution_count": 75,
     "metadata": {},
     "output_type": "execute_result"
    }
   ],
   "source": [
    "feature_imporance = pd.DataFrame({\n",
    "    'Feature': new_columns[:-3],\n",
    "    'Importance': rf_model.feature_importances_\n",
    "    })\n",
    "feature_imporance.T"
   ]
  },
  {
   "cell_type": "code",
   "execution_count": 76,
   "metadata": {},
   "outputs": [
    {
     "data": {
      "text/plain": [
       "<Figure size 720x432 with 0 Axes>"
      ]
     },
     "execution_count": 76,
     "metadata": {},
     "output_type": "execute_result"
    },
    {
     "data": {
      "text/plain": [
       "<AxesSubplot:xlabel='Importance', ylabel='Feature'>"
      ]
     },
     "execution_count": 76,
     "metadata": {},
     "output_type": "execute_result"
    },
    {
     "data": {
      "text/plain": [
       "Text(0.5, 1.0, 'Feature Importances')"
      ]
     },
     "execution_count": 76,
     "metadata": {},
     "output_type": "execute_result"
    },
    {
     "data": {
      "image/png": "[encoded data removed]",
      "text/plain": [
       "<Figure size 720x432 with 1 Axes>"
      ]
     },
     "metadata": {
      "needs_background": "light"
     },
     "output_type": "display_data"
    }
   ],
   "source": [
    "plt.figure(figsize=(10, 6))\n",
    "sns.barplot(x='Importance', y='Feature', data=feature_imporance.sort_values(by='Importance', ascending=False))\n",
    "plt.title('Feature Importances')\n",
    "plt.show()"
   ]
  },
  {
   "cell_type": "code",
   "execution_count": 77,
   "metadata": {},
   "outputs": [
    {
     "data": {
      "text/plain": [
       "0.0319848986483035"
      ]
     },
     "execution_count": 77,
     "metadata": {},
     "output_type": "execute_result"
    }
   ],
   "source": [
    "rf_train = train_predictions['Random Forest']\n",
    "rf_train_mse = results_df[results_df['Model'] == 'Random Forest']['Train Mean Squared Error'].values[0]\n",
    "# rf_train_mse\n",
    "# rf_train['y_train_original'] = pt.inverse_transform(rf_train['y_train'].values.reshape(-1, 1)).flatten()\n",
    "# rf_train['y_pred_original'] = pt.inverse_transform(rf_train['y_train_pred'].values.reshape(-1, 1)).flatten()\n",
    "rf_train = pd.concat([pd.DataFrame(X_train), rf_train], axis=1)\n",
    "rf_train = rf_train.rename(columns=dict(zip(rf_train.columns, new_columns)))\n",
    "rf_train_mse"
   ]
  },
  {
   "cell_type": "code",
   "execution_count": 78,
   "metadata": {},
   "outputs": [
    {
     "data": {
      "text/plain": [
       "3612"
      ]
     },
     "execution_count": 78,
     "metadata": {},
     "output_type": "execute_result"
    },
    {
     "data": {
      "text/plain": [
       "362"
      ]
     },
     "execution_count": 78,
     "metadata": {},
     "output_type": "execute_result"
    }
   ],
   "source": [
    "bad_training = rf_train[rf_train['squared_error'] > rf_train_mse]\n",
    "good_training = rf_train[rf_train['squared_error'] <= rf_train_mse]\n",
    "\n",
    "len(bad_training)\n",
    "len(good_training)"
   ]
  },
  {
   "cell_type": "code",
   "execution_count": 79,
   "metadata": {},
   "outputs": [
    {
     "data": {
      "text/plain": [
       "Longitude             -0.102330\n",
       "Latitude               0.097636\n",
       "Speed                 -0.067109\n",
       "Acceleration           0.022885\n",
       "LaneMaxSpeed          -0.030037\n",
       "ActionVehicleAhead    -0.322717\n",
       "action_accelerate      0.090001\n",
       "action_decelerate      0.248721\n",
       "action_stop           -0.196433\n",
       "ActionParam            0.125210\n",
       "ActionDuration         0.114725\n",
       "y_train              -19.632597\n",
       "y_train_pred         -19.636160\n",
       "squared_error          0.010245\n",
       "dtype: float64"
      ]
     },
     "execution_count": 79,
     "metadata": {},
     "output_type": "execute_result"
    }
   ],
   "source": [
    "good_training_mean = good_training.mean()\n",
    "good_training_mean"
   ]
  },
  {
   "cell_type": "code",
   "execution_count": 80,
   "metadata": {},
   "outputs": [
    {
     "data": {
      "text/plain": [
       "Longitude             -0.008656\n",
       "Latitude              -0.005598\n",
       "Speed                 -0.003314\n",
       "Acceleration          -0.006160\n",
       "LaneMaxSpeed           0.004422\n",
       "ActionVehicleAhead     0.030113\n",
       "action_accelerate      0.003073\n",
       "action_decelerate     -0.034800\n",
       "action_stop            0.032830\n",
       "ActionParam           -0.017812\n",
       "ActionDuration        -0.018446\n",
       "y_train              -16.888151\n",
       "y_train_pred         -16.919574\n",
       "squared_error          6.330269\n",
       "dtype: float64"
      ]
     },
     "execution_count": 80,
     "metadata": {},
     "output_type": "execute_result"
    }
   ],
   "source": [
    "bad_training_mean = bad_training.mean()\n",
    "bad_training_mean"
   ]
  },
  {
   "cell_type": "code",
   "execution_count": 81,
   "metadata": {},
   "outputs": [],
   "source": [
    "best_10 = good_training.sort_values(by=\"squared_error\", ascending=True)[:10]"
   ]
  },
  {
   "cell_type": "code",
   "execution_count": 82,
   "metadata": {},
   "outputs": [],
   "source": [
    "worst_10 = bad_training.sort_values(by=\"squared_error\", ascending=False)[:20]"
   ]
  },
  {
   "cell_type": "code",
   "execution_count": 83,
   "metadata": {},
   "outputs": [
    {
     "data": {
      "text/html": [
       "<div>\n",
       "<style scoped>\n",
       "    .dataframe tbody tr th:only-of-type {\n",
       "        vertical-align: middle;\n",
       "    }\n",
       "\n",
       "    .dataframe tbody tr th {\n",
       "        vertical-align: top;\n",
       "    }\n",
       "\n",
       "    .dataframe thead th {\n",
       "        text-align: right;\n",
       "    }\n",
       "</style>\n",
       "<table border=\"1\" class=\"dataframe\">\n",
       "  <thead>\n",
       "    <tr style=\"text-align: right;\">\n",
       "      <th></th>\n",
       "      <th>Longitude</th>\n",
       "      <th>Latitude</th>\n",
       "      <th>Speed</th>\n",
       "      <th>Acceleration</th>\n",
       "      <th>LaneMaxSpeed</th>\n",
       "      <th>ActionVehicleAhead</th>\n",
       "      <th>action_accelerate</th>\n",
       "      <th>action_decelerate</th>\n",
       "      <th>action_stop</th>\n",
       "      <th>ActionParam</th>\n",
       "      <th>ActionDuration</th>\n",
       "      <th>y_train</th>\n",
       "      <th>y_train_pred</th>\n",
       "      <th>squared_error</th>\n",
       "    </tr>\n",
       "  </thead>\n",
       "  <tbody>\n",
       "    <tr>\n",
       "      <th>1934</th>\n",
       "      <td>-0.982949</td>\n",
       "      <td>1.327006</td>\n",
       "      <td>-1.024340</td>\n",
       "      <td>-0.000794</td>\n",
       "      <td>-1.174885</td>\n",
       "      <td>1.284329</td>\n",
       "      <td>-0.681631</td>\n",
       "      <td>-0.662989</td>\n",
       "      <td>0.281821</td>\n",
       "      <td>1.333789</td>\n",
       "      <td>0.869747</td>\n",
       "      <td>-17.0</td>\n",
       "      <td>-17.0</td>\n",
       "      <td>0.0</td>\n",
       "    </tr>\n",
       "    <tr>\n",
       "      <th>2215</th>\n",
       "      <td>-1.094236</td>\n",
       "      <td>-1.470538</td>\n",
       "      <td>-1.918394</td>\n",
       "      <td>0.503206</td>\n",
       "      <td>2.167333</td>\n",
       "      <td>-0.778617</td>\n",
       "      <td>1.467069</td>\n",
       "      <td>-0.662989</td>\n",
       "      <td>2.116462</td>\n",
       "      <td>-1.605119</td>\n",
       "      <td>-2.009259</td>\n",
       "      <td>-28.0</td>\n",
       "      <td>-28.0</td>\n",
       "      <td>0.0</td>\n",
       "    </tr>\n",
       "    <tr>\n",
       "      <th>1717</th>\n",
       "      <td>0.034822</td>\n",
       "      <td>0.466307</td>\n",
       "      <td>1.561696</td>\n",
       "      <td>1.652921</td>\n",
       "      <td>-0.339331</td>\n",
       "      <td>1.284329</td>\n",
       "      <td>-0.681631</td>\n",
       "      <td>-0.662989</td>\n",
       "      <td>0.845342</td>\n",
       "      <td>0.158226</td>\n",
       "      <td>0.431637</td>\n",
       "      <td>6.0</td>\n",
       "      <td>6.0</td>\n",
       "      <td>0.0</td>\n",
       "    </tr>\n",
       "    <tr>\n",
       "      <th>3505</th>\n",
       "      <td>-0.757461</td>\n",
       "      <td>1.124754</td>\n",
       "      <td>-1.245353</td>\n",
       "      <td>-1.440194</td>\n",
       "      <td>0.496224</td>\n",
       "      <td>1.284329</td>\n",
       "      <td>-0.681631</td>\n",
       "      <td>-0.662989</td>\n",
       "      <td>0.156394</td>\n",
       "      <td>0.354153</td>\n",
       "      <td>0.681986</td>\n",
       "      <td>3.0</td>\n",
       "      <td>3.0</td>\n",
       "      <td>0.0</td>\n",
       "    </tr>\n",
       "    <tr>\n",
       "      <th>2121</th>\n",
       "      <td>-2.398174</td>\n",
       "      <td>1.524791</td>\n",
       "      <td>1.183581</td>\n",
       "      <td>-0.296495</td>\n",
       "      <td>-0.339331</td>\n",
       "      <td>1.284329</td>\n",
       "      <td>-0.681631</td>\n",
       "      <td>-0.662989</td>\n",
       "      <td>0.568299</td>\n",
       "      <td>1.725643</td>\n",
       "      <td>1.433031</td>\n",
       "      <td>-6.0</td>\n",
       "      <td>-6.0</td>\n",
       "      <td>0.0</td>\n",
       "    </tr>\n",
       "    <tr>\n",
       "      <th>1424</th>\n",
       "      <td>-2.314070</td>\n",
       "      <td>1.559855</td>\n",
       "      <td>1.526798</td>\n",
       "      <td>0.636936</td>\n",
       "      <td>-0.339331</td>\n",
       "      <td>-0.778617</td>\n",
       "      <td>1.467069</td>\n",
       "      <td>-0.662989</td>\n",
       "      <td>2.289994</td>\n",
       "      <td>1.464407</td>\n",
       "      <td>1.370444</td>\n",
       "      <td>-7.0</td>\n",
       "      <td>-7.0</td>\n",
       "      <td>0.0</td>\n",
       "    </tr>\n",
       "  </tbody>\n",
       "</table>\n",
       "</div>"
      ],
      "text/plain": [
       "      Longitude  Latitude     Speed  Acceleration  LaneMaxSpeed  \\\n",
       "1934  -0.982949  1.327006 -1.024340     -0.000794     -1.174885   \n",
       "2215  -1.094236 -1.470538 -1.918394      0.503206      2.167333   \n",
       "1717   0.034822  0.466307  1.561696      1.652921     -0.339331   \n",
       "3505  -0.757461  1.124754 -1.245353     -1.440194      0.496224   \n",
       "2121  -2.398174  1.524791  1.183581     -0.296495     -0.339331   \n",
       "1424  -2.314070  1.559855  1.526798      0.636936     -0.339331   \n",
       "\n",
       "      ActionVehicleAhead  action_accelerate  action_decelerate  action_stop  \\\n",
       "1934            1.284329          -0.681631          -0.662989     0.281821   \n",
       "2215           -0.778617           1.467069          -0.662989     2.116462   \n",
       "1717            1.284329          -0.681631          -0.662989     0.845342   \n",
       "3505            1.284329          -0.681631          -0.662989     0.156394   \n",
       "2121            1.284329          -0.681631          -0.662989     0.568299   \n",
       "1424           -0.778617           1.467069          -0.662989     2.289994   \n",
       "\n",
       "      ActionParam  ActionDuration  y_train  y_train_pred  squared_error  \n",
       "1934     1.333789        0.869747    -17.0         -17.0            0.0  \n",
       "2215    -1.605119       -2.009259    -28.0         -28.0            0.0  \n",
       "1717     0.158226        0.431637      6.0           6.0            0.0  \n",
       "3505     0.354153        0.681986      3.0           3.0            0.0  \n",
       "2121     1.725643        1.433031     -6.0          -6.0            0.0  \n",
       "1424     1.464407        1.370444     -7.0          -7.0            0.0  "
      ]
     },
     "execution_count": 83,
     "metadata": {},
     "output_type": "execute_result"
    }
   ],
   "source": [
    "best_10[best_10['action_stop'] > 0]"
   ]
  },
  {
   "cell_type": "code",
   "execution_count": 84,
   "metadata": {},
   "outputs": [
    {
     "data": {
      "text/html": [
       "<div>\n",
       "<style scoped>\n",
       "    .dataframe tbody tr th:only-of-type {\n",
       "        vertical-align: middle;\n",
       "    }\n",
       "\n",
       "    .dataframe tbody tr th {\n",
       "        vertical-align: top;\n",
       "    }\n",
       "\n",
       "    .dataframe thead th {\n",
       "        text-align: right;\n",
       "    }\n",
       "</style>\n",
       "<table border=\"1\" class=\"dataframe\">\n",
       "  <thead>\n",
       "    <tr style=\"text-align: right;\">\n",
       "      <th></th>\n",
       "      <th>Longitude</th>\n",
       "      <th>Latitude</th>\n",
       "      <th>Speed</th>\n",
       "      <th>Acceleration</th>\n",
       "      <th>LaneMaxSpeed</th>\n",
       "      <th>ActionVehicleAhead</th>\n",
       "      <th>action_accelerate</th>\n",
       "      <th>action_decelerate</th>\n",
       "      <th>action_stop</th>\n",
       "      <th>ActionParam</th>\n",
       "      <th>ActionDuration</th>\n",
       "      <th>y_train</th>\n",
       "      <th>y_train_pred</th>\n",
       "      <th>squared_error</th>\n",
       "    </tr>\n",
       "  </thead>\n",
       "  <tbody>\n",
       "    <tr>\n",
       "      <th>1934</th>\n",
       "      <td>-0.982949</td>\n",
       "      <td>1.327006</td>\n",
       "      <td>-1.024340</td>\n",
       "      <td>-0.000794</td>\n",
       "      <td>-1.174885</td>\n",
       "      <td>1.284329</td>\n",
       "      <td>-0.681631</td>\n",
       "      <td>-0.662989</td>\n",
       "      <td>0.281821</td>\n",
       "      <td>1.333789</td>\n",
       "      <td>0.869747</td>\n",
       "      <td>-17.0</td>\n",
       "      <td>-17.0</td>\n",
       "      <td>0.0</td>\n",
       "    </tr>\n",
       "    <tr>\n",
       "      <th>2129</th>\n",
       "      <td>-0.186273</td>\n",
       "      <td>0.651065</td>\n",
       "      <td>0.549082</td>\n",
       "      <td>0.833070</td>\n",
       "      <td>-1.174885</td>\n",
       "      <td>-0.778617</td>\n",
       "      <td>1.467069</td>\n",
       "      <td>-0.662989</td>\n",
       "      <td>-0.423581</td>\n",
       "      <td>1.333789</td>\n",
       "      <td>0.932334</td>\n",
       "      <td>-30.0</td>\n",
       "      <td>-30.0</td>\n",
       "      <td>0.0</td>\n",
       "    </tr>\n",
       "    <tr>\n",
       "      <th>2215</th>\n",
       "      <td>-1.094236</td>\n",
       "      <td>-1.470538</td>\n",
       "      <td>-1.918394</td>\n",
       "      <td>0.503206</td>\n",
       "      <td>2.167333</td>\n",
       "      <td>-0.778617</td>\n",
       "      <td>1.467069</td>\n",
       "      <td>-0.662989</td>\n",
       "      <td>2.116462</td>\n",
       "      <td>-1.605119</td>\n",
       "      <td>-2.009259</td>\n",
       "      <td>-28.0</td>\n",
       "      <td>-28.0</td>\n",
       "      <td>0.0</td>\n",
       "    </tr>\n",
       "    <tr>\n",
       "      <th>1717</th>\n",
       "      <td>0.034822</td>\n",
       "      <td>0.466307</td>\n",
       "      <td>1.561696</td>\n",
       "      <td>1.652921</td>\n",
       "      <td>-0.339331</td>\n",
       "      <td>1.284329</td>\n",
       "      <td>-0.681631</td>\n",
       "      <td>-0.662989</td>\n",
       "      <td>0.845342</td>\n",
       "      <td>0.158226</td>\n",
       "      <td>0.431637</td>\n",
       "      <td>6.0</td>\n",
       "      <td>6.0</td>\n",
       "      <td>0.0</td>\n",
       "    </tr>\n",
       "    <tr>\n",
       "      <th>1553</th>\n",
       "      <td>0.686193</td>\n",
       "      <td>-0.570310</td>\n",
       "      <td>-0.976411</td>\n",
       "      <td>-0.577501</td>\n",
       "      <td>-1.174885</td>\n",
       "      <td>-0.778617</td>\n",
       "      <td>-0.681631</td>\n",
       "      <td>1.508321</td>\n",
       "      <td>-1.200589</td>\n",
       "      <td>-1.343883</td>\n",
       "      <td>-1.383388</td>\n",
       "      <td>-10.0</td>\n",
       "      <td>-10.0</td>\n",
       "      <td>0.0</td>\n",
       "    </tr>\n",
       "    <tr>\n",
       "      <th>2739</th>\n",
       "      <td>0.026538</td>\n",
       "      <td>0.473229</td>\n",
       "      <td>1.845176</td>\n",
       "      <td>1.203943</td>\n",
       "      <td>-1.174885</td>\n",
       "      <td>-0.778617</td>\n",
       "      <td>-0.681631</td>\n",
       "      <td>1.508321</td>\n",
       "      <td>-1.200589</td>\n",
       "      <td>-0.103011</td>\n",
       "      <td>-0.131647</td>\n",
       "      <td>-11.0</td>\n",
       "      <td>-11.0</td>\n",
       "      <td>0.0</td>\n",
       "    </tr>\n",
       "    <tr>\n",
       "      <th>3505</th>\n",
       "      <td>-0.757461</td>\n",
       "      <td>1.124754</td>\n",
       "      <td>-1.245353</td>\n",
       "      <td>-1.440194</td>\n",
       "      <td>0.496224</td>\n",
       "      <td>1.284329</td>\n",
       "      <td>-0.681631</td>\n",
       "      <td>-0.662989</td>\n",
       "      <td>0.156394</td>\n",
       "      <td>0.354153</td>\n",
       "      <td>0.681986</td>\n",
       "      <td>3.0</td>\n",
       "      <td>3.0</td>\n",
       "      <td>0.0</td>\n",
       "    </tr>\n",
       "    <tr>\n",
       "      <th>2121</th>\n",
       "      <td>-2.398174</td>\n",
       "      <td>1.524791</td>\n",
       "      <td>1.183581</td>\n",
       "      <td>-0.296495</td>\n",
       "      <td>-0.339331</td>\n",
       "      <td>1.284329</td>\n",
       "      <td>-0.681631</td>\n",
       "      <td>-0.662989</td>\n",
       "      <td>0.568299</td>\n",
       "      <td>1.725643</td>\n",
       "      <td>1.433031</td>\n",
       "      <td>-6.0</td>\n",
       "      <td>-6.0</td>\n",
       "      <td>0.0</td>\n",
       "    </tr>\n",
       "    <tr>\n",
       "      <th>977</th>\n",
       "      <td>-0.159882</td>\n",
       "      <td>0.629012</td>\n",
       "      <td>0.002071</td>\n",
       "      <td>-0.031085</td>\n",
       "      <td>-1.174885</td>\n",
       "      <td>-0.778617</td>\n",
       "      <td>-0.681631</td>\n",
       "      <td>1.508321</td>\n",
       "      <td>-1.200589</td>\n",
       "      <td>0.811316</td>\n",
       "      <td>0.556811</td>\n",
       "      <td>-28.0</td>\n",
       "      <td>-28.0</td>\n",
       "      <td>0.0</td>\n",
       "    </tr>\n",
       "    <tr>\n",
       "      <th>1424</th>\n",
       "      <td>-2.314070</td>\n",
       "      <td>1.559855</td>\n",
       "      <td>1.526798</td>\n",
       "      <td>0.636936</td>\n",
       "      <td>-0.339331</td>\n",
       "      <td>-0.778617</td>\n",
       "      <td>1.467069</td>\n",
       "      <td>-0.662989</td>\n",
       "      <td>2.289994</td>\n",
       "      <td>1.464407</td>\n",
       "      <td>1.370444</td>\n",
       "      <td>-7.0</td>\n",
       "      <td>-7.0</td>\n",
       "      <td>0.0</td>\n",
       "    </tr>\n",
       "  </tbody>\n",
       "</table>\n",
       "</div>"
      ],
      "text/plain": [
       "      Longitude  Latitude     Speed  Acceleration  LaneMaxSpeed  \\\n",
       "1934  -0.982949  1.327006 -1.024340     -0.000794     -1.174885   \n",
       "2129  -0.186273  0.651065  0.549082      0.833070     -1.174885   \n",
       "2215  -1.094236 -1.470538 -1.918394      0.503206      2.167333   \n",
       "1717   0.034822  0.466307  1.561696      1.652921     -0.339331   \n",
       "1553   0.686193 -0.570310 -0.976411     -0.577501     -1.174885   \n",
       "2739   0.026538  0.473229  1.845176      1.203943     -1.174885   \n",
       "3505  -0.757461  1.124754 -1.245353     -1.440194      0.496224   \n",
       "2121  -2.398174  1.524791  1.183581     -0.296495     -0.339331   \n",
       "977   -0.159882  0.629012  0.002071     -0.031085     -1.174885   \n",
       "1424  -2.314070  1.559855  1.526798      0.636936     -0.339331   \n",
       "\n",
       "      ActionVehicleAhead  action_accelerate  action_decelerate  action_stop  \\\n",
       "1934            1.284329          -0.681631          -0.662989     0.281821   \n",
       "2129           -0.778617           1.467069          -0.662989    -0.423581   \n",
       "2215           -0.778617           1.467069          -0.662989     2.116462   \n",
       "1717            1.284329          -0.681631          -0.662989     0.845342   \n",
       "1553           -0.778617          -0.681631           1.508321    -1.200589   \n",
       "2739           -0.778617          -0.681631           1.508321    -1.200589   \n",
       "3505            1.284329          -0.681631          -0.662989     0.156394   \n",
       "2121            1.284329          -0.681631          -0.662989     0.568299   \n",
       "977            -0.778617          -0.681631           1.508321    -1.200589   \n",
       "1424           -0.778617           1.467069          -0.662989     2.289994   \n",
       "\n",
       "      ActionParam  ActionDuration  y_train  y_train_pred  squared_error  \n",
       "1934     1.333789        0.869747    -17.0         -17.0            0.0  \n",
       "2129     1.333789        0.932334    -30.0         -30.0            0.0  \n",
       "2215    -1.605119       -2.009259    -28.0         -28.0            0.0  \n",
       "1717     0.158226        0.431637      6.0           6.0            0.0  \n",
       "1553    -1.343883       -1.383388    -10.0         -10.0            0.0  \n",
       "2739    -0.103011       -0.131647    -11.0         -11.0            0.0  \n",
       "3505     0.354153        0.681986      3.0           3.0            0.0  \n",
       "2121     1.725643        1.433031     -6.0          -6.0            0.0  \n",
       "977      0.811316        0.556811    -28.0         -28.0            0.0  \n",
       "1424     1.464407        1.370444     -7.0          -7.0            0.0  "
      ]
     },
     "execution_count": 84,
     "metadata": {},
     "output_type": "execute_result"
    }
   ],
   "source": [
    "best_10"
   ]
  },
  {
   "cell_type": "code",
   "execution_count": 85,
   "metadata": {},
   "outputs": [
    {
     "data": {
      "text/html": [
       "<div>\n",
       "<style scoped>\n",
       "    .dataframe tbody tr th:only-of-type {\n",
       "        vertical-align: middle;\n",
       "    }\n",
       "\n",
       "    .dataframe tbody tr th {\n",
       "        vertical-align: top;\n",
       "    }\n",
       "\n",
       "    .dataframe thead th {\n",
       "        text-align: right;\n",
       "    }\n",
       "</style>\n",
       "<table border=\"1\" class=\"dataframe\">\n",
       "  <thead>\n",
       "    <tr style=\"text-align: right;\">\n",
       "      <th></th>\n",
       "      <th>Longitude</th>\n",
       "      <th>Latitude</th>\n",
       "      <th>Speed</th>\n",
       "      <th>Acceleration</th>\n",
       "      <th>LaneMaxSpeed</th>\n",
       "      <th>ActionVehicleAhead</th>\n",
       "      <th>action_accelerate</th>\n",
       "      <th>action_decelerate</th>\n",
       "      <th>action_stop</th>\n",
       "      <th>ActionParam</th>\n",
       "      <th>ActionDuration</th>\n",
       "      <th>y_train</th>\n",
       "      <th>y_train_pred</th>\n",
       "      <th>squared_error</th>\n",
       "    </tr>\n",
       "  </thead>\n",
       "  <tbody>\n",
       "    <tr>\n",
       "      <th>602</th>\n",
       "      <td>0.465311</td>\n",
       "      <td>-0.680380</td>\n",
       "      <td>-1.433885</td>\n",
       "      <td>-1.422087</td>\n",
       "      <td>-0.339331</td>\n",
       "      <td>1.284329</td>\n",
       "      <td>-0.681631</td>\n",
       "      <td>-0.662989</td>\n",
       "      <td>-0.080237</td>\n",
       "      <td>-1.082646</td>\n",
       "      <td>-0.694930</td>\n",
       "      <td>-44.0</td>\n",
       "      <td>-30.26</td>\n",
       "      <td>188.7876</td>\n",
       "    </tr>\n",
       "    <tr>\n",
       "      <th>3207</th>\n",
       "      <td>-0.038630</td>\n",
       "      <td>0.527687</td>\n",
       "      <td>1.341800</td>\n",
       "      <td>-0.814402</td>\n",
       "      <td>-1.174885</td>\n",
       "      <td>1.284329</td>\n",
       "      <td>-0.681631</td>\n",
       "      <td>-0.662989</td>\n",
       "      <td>0.627021</td>\n",
       "      <td>-0.103011</td>\n",
       "      <td>-0.569756</td>\n",
       "      <td>-30.0</td>\n",
       "      <td>-16.95</td>\n",
       "      <td>170.3025</td>\n",
       "    </tr>\n",
       "    <tr>\n",
       "      <th>2892</th>\n",
       "      <td>0.081583</td>\n",
       "      <td>0.427634</td>\n",
       "      <td>0.884570</td>\n",
       "      <td>-0.266719</td>\n",
       "      <td>-0.339331</td>\n",
       "      <td>1.284329</td>\n",
       "      <td>-0.681631</td>\n",
       "      <td>-0.662989</td>\n",
       "      <td>-0.253650</td>\n",
       "      <td>0.158226</td>\n",
       "      <td>-0.256821</td>\n",
       "      <td>-33.0</td>\n",
       "      <td>-21.15</td>\n",
       "      <td>140.4225</td>\n",
       "    </tr>\n",
       "    <tr>\n",
       "      <th>2691</th>\n",
       "      <td>0.181606</td>\n",
       "      <td>0.349444</td>\n",
       "      <td>1.521659</td>\n",
       "      <td>-0.352599</td>\n",
       "      <td>-0.339331</td>\n",
       "      <td>-0.778617</td>\n",
       "      <td>1.467069</td>\n",
       "      <td>-0.662989</td>\n",
       "      <td>0.682244</td>\n",
       "      <td>0.027608</td>\n",
       "      <td>-0.194234</td>\n",
       "      <td>-36.0</td>\n",
       "      <td>-24.33</td>\n",
       "      <td>136.1889</td>\n",
       "    </tr>\n",
       "    <tr>\n",
       "      <th>2331</th>\n",
       "      <td>-0.621088</td>\n",
       "      <td>-1.109912</td>\n",
       "      <td>0.477051</td>\n",
       "      <td>-0.468059</td>\n",
       "      <td>0.496224</td>\n",
       "      <td>1.284329</td>\n",
       "      <td>-0.681631</td>\n",
       "      <td>-0.662989</td>\n",
       "      <td>-0.070129</td>\n",
       "      <td>-1.539810</td>\n",
       "      <td>-1.007866</td>\n",
       "      <td>-27.0</td>\n",
       "      <td>-15.60</td>\n",
       "      <td>129.9600</td>\n",
       "    </tr>\n",
       "    <tr>\n",
       "      <th>3634</th>\n",
       "      <td>1.452355</td>\n",
       "      <td>-0.327893</td>\n",
       "      <td>0.405878</td>\n",
       "      <td>-1.440194</td>\n",
       "      <td>1.331779</td>\n",
       "      <td>1.284329</td>\n",
       "      <td>-0.681631</td>\n",
       "      <td>-0.662989</td>\n",
       "      <td>0.703532</td>\n",
       "      <td>0.941934</td>\n",
       "      <td>0.494224</td>\n",
       "      <td>-50.0</td>\n",
       "      <td>-38.68</td>\n",
       "      <td>128.1424</td>\n",
       "    </tr>\n",
       "    <tr>\n",
       "      <th>1686</th>\n",
       "      <td>-2.220354</td>\n",
       "      <td>1.598894</td>\n",
       "      <td>1.217451</td>\n",
       "      <td>-0.168512</td>\n",
       "      <td>-1.174885</td>\n",
       "      <td>1.284329</td>\n",
       "      <td>-0.681631</td>\n",
       "      <td>-0.662989</td>\n",
       "      <td>0.113463</td>\n",
       "      <td>1.203170</td>\n",
       "      <td>1.057508</td>\n",
       "      <td>-30.0</td>\n",
       "      <td>-18.91</td>\n",
       "      <td>122.9881</td>\n",
       "    </tr>\n",
       "    <tr>\n",
       "      <th>2990</th>\n",
       "      <td>1.051094</td>\n",
       "      <td>-0.746576</td>\n",
       "      <td>1.187653</td>\n",
       "      <td>2.240939</td>\n",
       "      <td>-1.174885</td>\n",
       "      <td>1.284329</td>\n",
       "      <td>-0.681631</td>\n",
       "      <td>-0.662989</td>\n",
       "      <td>-0.200766</td>\n",
       "      <td>-0.560174</td>\n",
       "      <td>-0.569756</td>\n",
       "      <td>-32.0</td>\n",
       "      <td>-21.25</td>\n",
       "      <td>115.5625</td>\n",
       "    </tr>\n",
       "    <tr>\n",
       "      <th>370</th>\n",
       "      <td>1.738789</td>\n",
       "      <td>-0.517805</td>\n",
       "      <td>1.142928</td>\n",
       "      <td>0.228817</td>\n",
       "      <td>0.496224</td>\n",
       "      <td>1.284329</td>\n",
       "      <td>-0.681631</td>\n",
       "      <td>-0.662989</td>\n",
       "      <td>0.217437</td>\n",
       "      <td>-0.821410</td>\n",
       "      <td>-1.133040</td>\n",
       "      <td>-30.0</td>\n",
       "      <td>-19.49</td>\n",
       "      <td>110.4601</td>\n",
       "    </tr>\n",
       "    <tr>\n",
       "      <th>1558</th>\n",
       "      <td>0.355297</td>\n",
       "      <td>-0.716314</td>\n",
       "      <td>-1.651249</td>\n",
       "      <td>-0.783135</td>\n",
       "      <td>-0.339331</td>\n",
       "      <td>1.284329</td>\n",
       "      <td>-0.681631</td>\n",
       "      <td>-0.662989</td>\n",
       "      <td>0.488641</td>\n",
       "      <td>-0.233629</td>\n",
       "      <td>0.243876</td>\n",
       "      <td>2.0</td>\n",
       "      <td>-8.40</td>\n",
       "      <td>108.1600</td>\n",
       "    </tr>\n",
       "    <tr>\n",
       "      <th>1508</th>\n",
       "      <td>0.095001</td>\n",
       "      <td>-0.819315</td>\n",
       "      <td>-0.619171</td>\n",
       "      <td>0.081924</td>\n",
       "      <td>0.496224</td>\n",
       "      <td>1.284329</td>\n",
       "      <td>-0.681631</td>\n",
       "      <td>-0.662989</td>\n",
       "      <td>0.343198</td>\n",
       "      <td>-1.343883</td>\n",
       "      <td>-1.070453</td>\n",
       "      <td>-27.0</td>\n",
       "      <td>-16.79</td>\n",
       "      <td>104.2441</td>\n",
       "    </tr>\n",
       "    <tr>\n",
       "      <th>616</th>\n",
       "      <td>0.346171</td>\n",
       "      <td>0.220800</td>\n",
       "      <td>1.734826</td>\n",
       "      <td>-0.387245</td>\n",
       "      <td>0.496224</td>\n",
       "      <td>1.284329</td>\n",
       "      <td>-0.681631</td>\n",
       "      <td>-0.662989</td>\n",
       "      <td>1.114079</td>\n",
       "      <td>0.941934</td>\n",
       "      <td>1.120095</td>\n",
       "      <td>5.0</td>\n",
       "      <td>-4.99</td>\n",
       "      <td>99.8001</td>\n",
       "    </tr>\n",
       "    <tr>\n",
       "      <th>2647</th>\n",
       "      <td>-0.858014</td>\n",
       "      <td>1.211359</td>\n",
       "      <td>-1.163786</td>\n",
       "      <td>-0.804326</td>\n",
       "      <td>-0.339331</td>\n",
       "      <td>-0.778617</td>\n",
       "      <td>1.467069</td>\n",
       "      <td>-0.662989</td>\n",
       "      <td>0.844326</td>\n",
       "      <td>0.484771</td>\n",
       "      <td>0.056115</td>\n",
       "      <td>-30.0</td>\n",
       "      <td>-20.18</td>\n",
       "      <td>96.4324</td>\n",
       "    </tr>\n",
       "    <tr>\n",
       "      <th>3662</th>\n",
       "      <td>0.613711</td>\n",
       "      <td>-0.588483</td>\n",
       "      <td>-1.024266</td>\n",
       "      <td>-0.703311</td>\n",
       "      <td>-1.174885</td>\n",
       "      <td>1.284329</td>\n",
       "      <td>-0.681631</td>\n",
       "      <td>-0.662989</td>\n",
       "      <td>1.059758</td>\n",
       "      <td>0.027608</td>\n",
       "      <td>0.431637</td>\n",
       "      <td>-4.0</td>\n",
       "      <td>-13.74</td>\n",
       "      <td>94.8676</td>\n",
       "    </tr>\n",
       "    <tr>\n",
       "      <th>247</th>\n",
       "      <td>0.245688</td>\n",
       "      <td>0.299350</td>\n",
       "      <td>1.155065</td>\n",
       "      <td>-0.411511</td>\n",
       "      <td>-0.339331</td>\n",
       "      <td>1.284329</td>\n",
       "      <td>-0.681631</td>\n",
       "      <td>-0.662989</td>\n",
       "      <td>-0.146907</td>\n",
       "      <td>0.027608</td>\n",
       "      <td>-0.381995</td>\n",
       "      <td>-34.0</td>\n",
       "      <td>-24.36</td>\n",
       "      <td>92.9296</td>\n",
       "    </tr>\n",
       "    <tr>\n",
       "      <th>573</th>\n",
       "      <td>1.221385</td>\n",
       "      <td>-0.294853</td>\n",
       "      <td>0.817860</td>\n",
       "      <td>1.648905</td>\n",
       "      <td>0.496224</td>\n",
       "      <td>1.284329</td>\n",
       "      <td>-0.681631</td>\n",
       "      <td>-0.662989</td>\n",
       "      <td>0.469176</td>\n",
       "      <td>-0.364247</td>\n",
       "      <td>-0.757518</td>\n",
       "      <td>-29.0</td>\n",
       "      <td>-19.52</td>\n",
       "      <td>89.8704</td>\n",
       "    </tr>\n",
       "    <tr>\n",
       "      <th>2768</th>\n",
       "      <td>0.409966</td>\n",
       "      <td>-0.700886</td>\n",
       "      <td>-1.114971</td>\n",
       "      <td>-1.440194</td>\n",
       "      <td>-0.339331</td>\n",
       "      <td>1.284329</td>\n",
       "      <td>-0.681631</td>\n",
       "      <td>-0.662989</td>\n",
       "      <td>0.467228</td>\n",
       "      <td>-1.213264</td>\n",
       "      <td>-1.195627</td>\n",
       "      <td>-29.0</td>\n",
       "      <td>-19.67</td>\n",
       "      <td>87.0489</td>\n",
       "    </tr>\n",
       "    <tr>\n",
       "      <th>1522</th>\n",
       "      <td>-1.898956</td>\n",
       "      <td>2.054904</td>\n",
       "      <td>0.959368</td>\n",
       "      <td>0.826898</td>\n",
       "      <td>2.167333</td>\n",
       "      <td>1.284329</td>\n",
       "      <td>-0.681631</td>\n",
       "      <td>-0.662989</td>\n",
       "      <td>-0.363665</td>\n",
       "      <td>1.399098</td>\n",
       "      <td>0.869747</td>\n",
       "      <td>-29.0</td>\n",
       "      <td>-19.69</td>\n",
       "      <td>86.6761</td>\n",
       "    </tr>\n",
       "    <tr>\n",
       "      <th>2612</th>\n",
       "      <td>0.930907</td>\n",
       "      <td>-0.615480</td>\n",
       "      <td>0.076017</td>\n",
       "      <td>2.783243</td>\n",
       "      <td>0.496224</td>\n",
       "      <td>1.284329</td>\n",
       "      <td>-0.681631</td>\n",
       "      <td>-0.662989</td>\n",
       "      <td>0.089454</td>\n",
       "      <td>-0.494865</td>\n",
       "      <td>-0.381995</td>\n",
       "      <td>-32.0</td>\n",
       "      <td>-22.70</td>\n",
       "      <td>86.4900</td>\n",
       "    </tr>\n",
       "    <tr>\n",
       "      <th>678</th>\n",
       "      <td>1.619818</td>\n",
       "      <td>-0.416728</td>\n",
       "      <td>1.333002</td>\n",
       "      <td>1.495097</td>\n",
       "      <td>-0.339331</td>\n",
       "      <td>1.284329</td>\n",
       "      <td>-0.681631</td>\n",
       "      <td>-0.662989</td>\n",
       "      <td>0.089331</td>\n",
       "      <td>0.288844</td>\n",
       "      <td>-0.069060</td>\n",
       "      <td>-47.0</td>\n",
       "      <td>-37.75</td>\n",
       "      <td>85.5625</td>\n",
       "    </tr>\n",
       "  </tbody>\n",
       "</table>\n",
       "</div>"
      ],
      "text/plain": [
       "      Longitude  Latitude     Speed  Acceleration  LaneMaxSpeed  \\\n",
       "602    0.465311 -0.680380 -1.433885     -1.422087     -0.339331   \n",
       "3207  -0.038630  0.527687  1.341800     -0.814402     -1.174885   \n",
       "2892   0.081583  0.427634  0.884570     -0.266719     -0.339331   \n",
       "2691   0.181606  0.349444  1.521659     -0.352599     -0.339331   \n",
       "2331  -0.621088 -1.109912  0.477051     -0.468059      0.496224   \n",
       "3634   1.452355 -0.327893  0.405878     -1.440194      1.331779   \n",
       "1686  -2.220354  1.598894  1.217451     -0.168512     -1.174885   \n",
       "2990   1.051094 -0.746576  1.187653      2.240939     -1.174885   \n",
       "370    1.738789 -0.517805  1.142928      0.228817      0.496224   \n",
       "1558   0.355297 -0.716314 -1.651249     -0.783135     -0.339331   \n",
       "1508   0.095001 -0.819315 -0.619171      0.081924      0.496224   \n",
       "616    0.346171  0.220800  1.734826     -0.387245      0.496224   \n",
       "2647  -0.858014  1.211359 -1.163786     -0.804326     -0.339331   \n",
       "3662   0.613711 -0.588483 -1.024266     -0.703311     -1.174885   \n",
       "247    0.245688  0.299350  1.155065     -0.411511     -0.339331   \n",
       "573    1.221385 -0.294853  0.817860      1.648905      0.496224   \n",
       "2768   0.409966 -0.700886 -1.114971     -1.440194     -0.339331   \n",
       "1522  -1.898956  2.054904  0.959368      0.826898      2.167333   \n",
       "2612   0.930907 -0.615480  0.076017      2.783243      0.496224   \n",
       "678    1.619818 -0.416728  1.333002      1.495097     -0.339331   \n",
       "\n",
       "      ActionVehicleAhead  action_accelerate  action_decelerate  action_stop  \\\n",
       "602             1.284329          -0.681631          -0.662989    -0.080237   \n",
       "3207            1.284329          -0.681631          -0.662989     0.627021   \n",
       "2892            1.284329          -0.681631          -0.662989    -0.253650   \n",
       "2691           -0.778617           1.467069          -0.662989     0.682244   \n",
       "2331            1.284329          -0.681631          -0.662989    -0.070129   \n",
       "3634            1.284329          -0.681631          -0.662989     0.703532   \n",
       "1686            1.284329          -0.681631          -0.662989     0.113463   \n",
       "2990            1.284329          -0.681631          -0.662989    -0.200766   \n",
       "370             1.284329          -0.681631          -0.662989     0.217437   \n",
       "1558            1.284329          -0.681631          -0.662989     0.488641   \n",
       "1508            1.284329          -0.681631          -0.662989     0.343198   \n",
       "616             1.284329          -0.681631          -0.662989     1.114079   \n",
       "2647           -0.778617           1.467069          -0.662989     0.844326   \n",
       "3662            1.284329          -0.681631          -0.662989     1.059758   \n",
       "247             1.284329          -0.681631          -0.662989    -0.146907   \n",
       "573             1.284329          -0.681631          -0.662989     0.469176   \n",
       "2768            1.284329          -0.681631          -0.662989     0.467228   \n",
       "1522            1.284329          -0.681631          -0.662989    -0.363665   \n",
       "2612            1.284329          -0.681631          -0.662989     0.089454   \n",
       "678             1.284329          -0.681631          -0.662989     0.089331   \n",
       "\n",
       "      ActionParam  ActionDuration  y_train  y_train_pred  squared_error  \n",
       "602     -1.082646       -0.694930    -44.0        -30.26       188.7876  \n",
       "3207    -0.103011       -0.569756    -30.0        -16.95       170.3025  \n",
       "2892     0.158226       -0.256821    -33.0        -21.15       140.4225  \n",
       "2691     0.027608       -0.194234    -36.0        -24.33       136.1889  \n",
       "2331    -1.539810       -1.007866    -27.0        -15.60       129.9600  \n",
       "3634     0.941934        0.494224    -50.0        -38.68       128.1424  \n",
       "1686     1.203170        1.057508    -30.0        -18.91       122.9881  \n",
       "2990    -0.560174       -0.569756    -32.0        -21.25       115.5625  \n",
       "370     -0.821410       -1.133040    -30.0        -19.49       110.4601  \n",
       "1558    -0.233629        0.243876      2.0         -8.40       108.1600  \n",
       "1508    -1.343883       -1.070453    -27.0        -16.79       104.2441  \n",
       "616      0.941934        1.120095      5.0         -4.99        99.8001  \n",
       "2647     0.484771        0.056115    -30.0        -20.18        96.4324  \n",
       "3662     0.027608        0.431637     -4.0        -13.74        94.8676  \n",
       "247      0.027608       -0.381995    -34.0        -24.36        92.9296  \n",
       "573     -0.364247       -0.757518    -29.0        -19.52        89.8704  \n",
       "2768    -1.213264       -1.195627    -29.0        -19.67        87.0489  \n",
       "1522     1.399098        0.869747    -29.0        -19.69        86.6761  \n",
       "2612    -0.494865       -0.381995    -32.0        -22.70        86.4900  \n",
       "678      0.288844       -0.069060    -47.0        -37.75        85.5625  "
      ]
     },
     "execution_count": 85,
     "metadata": {},
     "output_type": "execute_result"
    }
   ],
   "source": [
    "worst_10"
   ]
  },
  {
   "cell_type": "code",
   "execution_count": 86,
   "metadata": {},
   "outputs": [],
   "source": [
    "worst_mean = bad_training_mean.drop(['y_train', 'y_train_pred', 'squared_error'])\n",
    "overall_mean = rf_train.mean().drop(['y_train', 'y_train_pred', 'squared_error'])\n",
    "best_mean = good_training_mean.drop(['y_train', 'y_train_pred', 'squared_error'])"
   ]
  },
  {
   "cell_type": "code",
   "execution_count": 87,
   "metadata": {},
   "outputs": [
    {
     "data": {
      "text/plain": [
       "<AxesSubplot:>"
      ]
     },
     "execution_count": 87,
     "metadata": {},
     "output_type": "execute_result"
    },
    {
     "data": {
      "text/plain": [
       "Text(0.5, 1.0, 'Comparaison des Moyennes des Caractéristiques')"
      ]
     },
     "execution_count": 87,
     "metadata": {},
     "output_type": "execute_result"
    },
    {
     "data": {
      "text/plain": [
       "Text(0.5, 0, 'Caractéristiques')"
      ]
     },
     "execution_count": 87,
     "metadata": {},
     "output_type": "execute_result"
    },
    {
     "data": {
      "text/plain": [
       "Text(0, 0.5, 'Valeur Moyenne')"
      ]
     },
     "execution_count": 87,
     "metadata": {},
     "output_type": "execute_result"
    },
    {
     "data": {
      "text/plain": [
       "(array([ 0,  1,  2,  3,  4,  5,  6,  7,  8,  9, 10]),\n",
       " [Text(0, 0, 'Longitude'),\n",
       "  Text(1, 0, 'Latitude'),\n",
       "  Text(2, 0, 'Speed'),\n",
       "  Text(3, 0, 'Acceleration'),\n",
       "  Text(4, 0, 'LaneMaxSpeed'),\n",
       "  Text(5, 0, 'ActionVehicleAhead'),\n",
       "  Text(6, 0, 'action_accelerate'),\n",
       "  Text(7, 0, 'action_decelerate'),\n",
       "  Text(8, 0, 'action_stop'),\n",
       "  Text(9, 0, 'ActionParam'),\n",
       "  Text(10, 0, 'ActionDuration')])"
      ]
     },
     "execution_count": 87,
     "metadata": {},
     "output_type": "execute_result"
    },
    {
     "data": {
      "image/png": "[encoded data removed]",
      "text/plain": [
       "<Figure size 864x432 with 1 Axes>"
      ]
     },
     "metadata": {
      "needs_background": "light"
     },
     "output_type": "display_data"
    }
   ],
   "source": [
    "import matplotlib.pyplot as plt\n",
    "\n",
    "# Comparaison des moyennes\n",
    "comparison_df = pd.DataFrame({\n",
    "    'Worst Predictions': worst_mean,\n",
    "    'Best Predictions': best_mean,\n",
    "    'Overall Data': overall_mean\n",
    "})\n",
    "\n",
    "comparison_df.plot(kind='bar', figsize=(12, 6))\n",
    "plt.title('Comparaison des Moyennes des Caractéristiques')\n",
    "plt.xlabel('Caractéristiques')\n",
    "plt.ylabel('Valeur Moyenne')\n",
    "plt.xticks(rotation=45)\n",
    "plt.show()\n"
   ]
  },
  {
   "cell_type": "code",
   "execution_count": 88,
   "metadata": {},
   "outputs": [
    {
     "name": "stderr",
     "output_type": "stream",
     "text": [
      "c:\\Users\\USER\\AppData\\Local\\Programs\\Python\\Python310\\lib\\site-packages\\sklearn\\base.py:450: UserWarning: X does not have valid feature names, but IsolationForest was fitted with feature names\n",
      "  warnings.warn(\n"
     ]
    },
    {
     "name": "stdout",
     "output_type": "stream",
     "text": [
      "Lignes identifiées comme outliers:\n"
     ]
    },
    {
     "data": {
      "text/plain": [
       "398"
      ]
     },
     "execution_count": 88,
     "metadata": {},
     "output_type": "execute_result"
    }
   ],
   "source": [
    "from sklearn.ensemble import IsolationForest\n",
    "\n",
    "# Detection des outliers\n",
    "iso = IsolationForest(contamination=0.1)\n",
    "outliers = iso.fit_predict(rf_train.drop(['y_train', 'y_train_pred', 'squared_error'], axis=1))\n",
    "\n",
    "# Ajouter les résultats des outliers au DataFrame\n",
    "rf_train['Outlier'] = outliers\n",
    "\n",
    "# Filtrer les outliers\n",
    "outliers_df = rf_train[rf_train['Outlier'] == -1]\n",
    "\n",
    "print(\"Lignes identifiées comme outliers:\")\n",
    "len(outliers_df)"
   ]
  },
  {
   "cell_type": "code",
   "execution_count": 89,
   "metadata": {},
   "outputs": [],
   "source": [
    "outliers_df_mean = outliers_df.drop(['y_train', 'y_train_pred', 'squared_error', 'Outlier'], axis =1).mean()\n",
    "normal_df_mean = rf_train[rf_train['Outlier'] == 1].drop(['y_train', 'y_train_pred', 'squared_error', 'Outlier'], axis=1).mean()"
   ]
  },
  {
   "cell_type": "code",
   "execution_count": 90,
   "metadata": {},
   "outputs": [
    {
     "data": {
      "text/plain": [
       "<AxesSubplot:>"
      ]
     },
     "execution_count": 90,
     "metadata": {},
     "output_type": "execute_result"
    },
    {
     "data": {
      "text/plain": [
       "Text(0.5, 1.0, 'Comparaison des Moyennes des Caractéristiques')"
      ]
     },
     "execution_count": 90,
     "metadata": {},
     "output_type": "execute_result"
    },
    {
     "data": {
      "text/plain": [
       "Text(0.5, 0, 'Caractéristiques')"
      ]
     },
     "execution_count": 90,
     "metadata": {},
     "output_type": "execute_result"
    },
    {
     "data": {
      "text/plain": [
       "Text(0, 0.5, 'Valeur Moyenne')"
      ]
     },
     "execution_count": 90,
     "metadata": {},
     "output_type": "execute_result"
    },
    {
     "data": {
      "text/plain": [
       "(array([ 0,  1,  2,  3,  4,  5,  6,  7,  8,  9, 10]),\n",
       " [Text(0, 0, 'Longitude'),\n",
       "  Text(1, 0, 'Latitude'),\n",
       "  Text(2, 0, 'Speed'),\n",
       "  Text(3, 0, 'Acceleration'),\n",
       "  Text(4, 0, 'LaneMaxSpeed'),\n",
       "  Text(5, 0, 'ActionVehicleAhead'),\n",
       "  Text(6, 0, 'action_accelerate'),\n",
       "  Text(7, 0, 'action_decelerate'),\n",
       "  Text(8, 0, 'action_stop'),\n",
       "  Text(9, 0, 'ActionParam'),\n",
       "  Text(10, 0, 'ActionDuration')])"
      ]
     },
     "execution_count": 90,
     "metadata": {},
     "output_type": "execute_result"
    },
    {
     "data": {
      "image/png": "[encoded data removed]",
      "text/plain": [
       "<Figure size 1152x720 with 1 Axes>"
      ]
     },
     "metadata": {
      "needs_background": "light"
     },
     "output_type": "display_data"
    }
   ],
   "source": [
    "import matplotlib.pyplot as plt\n",
    "\n",
    "# Comparaison des moyennes\n",
    "comparison_df = pd.DataFrame({\n",
    "    'Worst Predictions': worst_mean,\n",
    "    'Best Predictions': best_mean,\n",
    "    'Outlier Values': outliers_df_mean,\n",
    "    'Normal Values': normal_df_mean,\n",
    "    'Overall Data': overall_mean\n",
    "})\n",
    "\n",
    "comparison_df.plot(kind='bar', figsize=(16, 10))\n",
    "plt.title('Comparaison des Moyennes des Caractéristiques')\n",
    "plt.xlabel('Caractéristiques')\n",
    "plt.ylabel('Valeur Moyenne')\n",
    "plt.xticks(rotation=45)\n",
    "plt.show()\n"
   ]
  },
  {
   "cell_type": "code",
   "execution_count": 91,
   "metadata": {},
   "outputs": [
    {
     "ename": "KeyError",
     "evalue": "\"['LaneMaxSpeed'] not in index\"",
     "output_type": "error",
     "traceback": [
      "\u001b[1;31m---------------------------------------------------------------------------\u001b[0m",
      "\u001b[1;31mKeyError\u001b[0m                                  Traceback (most recent call last)",
      "\u001b[1;32m~\\AppData\\Local\\Temp/ipykernel_1200/459696107.py\u001b[0m in \u001b[0;36m<module>\u001b[1;34m\u001b[0m\n\u001b[1;32m----> 1\u001b[1;33m X = new_datas[['Longitude', 'Latitude', 'Speed','Acceleration', 'LaneMaxSpeed', 'ActionVehicleAhead',\n\u001b[0m\u001b[0;32m      2\u001b[0m                  'action_accelerate', 'action_decelerate', 'action_stop',  'ActionParam', 'ActionDuration']]\n\u001b[0;32m      3\u001b[0m \u001b[0my\u001b[0m \u001b[1;33m=\u001b[0m \u001b[0mnew_datas\u001b[0m\u001b[1;33m[\u001b[0m\u001b[1;34m'y_travel'\u001b[0m\u001b[1;33m]\u001b[0m\u001b[1;33m\u001b[0m\u001b[1;33m\u001b[0m\u001b[0m\n\u001b[0;32m      4\u001b[0m \u001b[1;33m\u001b[0m\u001b[0m\n\u001b[0;32m      5\u001b[0m \u001b[1;31m# Diviser les données en ensemble d'entraînement et de test\u001b[0m\u001b[1;33m\u001b[0m\u001b[1;33m\u001b[0m\u001b[0m\n",
      "\u001b[1;32mc:\\Users\\USER\\AppData\\Local\\Programs\\Python\\Python310\\lib\\site-packages\\pandas\\core\\frame.py\u001b[0m in \u001b[0;36m__getitem__\u001b[1;34m(self, key)\u001b[0m\n\u001b[0;32m   4106\u001b[0m             \u001b[1;32mif\u001b[0m \u001b[0mis_iterator\u001b[0m\u001b[1;33m(\u001b[0m\u001b[0mkey\u001b[0m\u001b[1;33m)\u001b[0m\u001b[1;33m:\u001b[0m\u001b[1;33m\u001b[0m\u001b[1;33m\u001b[0m\u001b[0m\n\u001b[0;32m   4107\u001b[0m                 \u001b[0mkey\u001b[0m \u001b[1;33m=\u001b[0m \u001b[0mlist\u001b[0m\u001b[1;33m(\u001b[0m\u001b[0mkey\u001b[0m\u001b[1;33m)\u001b[0m\u001b[1;33m\u001b[0m\u001b[1;33m\u001b[0m\u001b[0m\n\u001b[1;32m-> 4108\u001b[1;33m             \u001b[0mindexer\u001b[0m \u001b[1;33m=\u001b[0m \u001b[0mself\u001b[0m\u001b[1;33m.\u001b[0m\u001b[0mcolumns\u001b[0m\u001b[1;33m.\u001b[0m\u001b[0m_get_indexer_strict\u001b[0m\u001b[1;33m(\u001b[0m\u001b[0mkey\u001b[0m\u001b[1;33m,\u001b[0m \u001b[1;34m\"columns\"\u001b[0m\u001b[1;33m)\u001b[0m\u001b[1;33m[\u001b[0m\u001b[1;36m1\u001b[0m\u001b[1;33m]\u001b[0m\u001b[1;33m\u001b[0m\u001b[1;33m\u001b[0m\u001b[0m\n\u001b[0m\u001b[0;32m   4109\u001b[0m \u001b[1;33m\u001b[0m\u001b[0m\n\u001b[0;32m   4110\u001b[0m         \u001b[1;31m# take() does not accept boolean indexers\u001b[0m\u001b[1;33m\u001b[0m\u001b[1;33m\u001b[0m\u001b[0m\n",
      "\u001b[1;32mc:\\Users\\USER\\AppData\\Local\\Programs\\Python\\Python310\\lib\\site-packages\\pandas\\core\\indexes\\base.py\u001b[0m in \u001b[0;36m_get_indexer_strict\u001b[1;34m(self, key, axis_name)\u001b[0m\n\u001b[0;32m   6198\u001b[0m             \u001b[0mkeyarr\u001b[0m\u001b[1;33m,\u001b[0m \u001b[0mindexer\u001b[0m\u001b[1;33m,\u001b[0m \u001b[0mnew_indexer\u001b[0m \u001b[1;33m=\u001b[0m \u001b[0mself\u001b[0m\u001b[1;33m.\u001b[0m\u001b[0m_reindex_non_unique\u001b[0m\u001b[1;33m(\u001b[0m\u001b[0mkeyarr\u001b[0m\u001b[1;33m)\u001b[0m\u001b[1;33m\u001b[0m\u001b[1;33m\u001b[0m\u001b[0m\n\u001b[0;32m   6199\u001b[0m \u001b[1;33m\u001b[0m\u001b[0m\n\u001b[1;32m-> 6200\u001b[1;33m         \u001b[0mself\u001b[0m\u001b[1;33m.\u001b[0m\u001b[0m_raise_if_missing\u001b[0m\u001b[1;33m(\u001b[0m\u001b[0mkeyarr\u001b[0m\u001b[1;33m,\u001b[0m \u001b[0mindexer\u001b[0m\u001b[1;33m,\u001b[0m \u001b[0maxis_name\u001b[0m\u001b[1;33m)\u001b[0m\u001b[1;33m\u001b[0m\u001b[1;33m\u001b[0m\u001b[0m\n\u001b[0m\u001b[0;32m   6201\u001b[0m \u001b[1;33m\u001b[0m\u001b[0m\n\u001b[0;32m   6202\u001b[0m         \u001b[0mkeyarr\u001b[0m \u001b[1;33m=\u001b[0m \u001b[0mself\u001b[0m\u001b[1;33m.\u001b[0m\u001b[0mtake\u001b[0m\u001b[1;33m(\u001b[0m\u001b[0mindexer\u001b[0m\u001b[1;33m)\u001b[0m\u001b[1;33m\u001b[0m\u001b[1;33m\u001b[0m\u001b[0m\n",
      "\u001b[1;32mc:\\Users\\USER\\AppData\\Local\\Programs\\Python\\Python310\\lib\\site-packages\\pandas\\core\\indexes\\base.py\u001b[0m in \u001b[0;36m_raise_if_missing\u001b[1;34m(self, key, indexer, axis_name)\u001b[0m\n\u001b[0;32m   6250\u001b[0m \u001b[1;33m\u001b[0m\u001b[0m\n\u001b[0;32m   6251\u001b[0m             \u001b[0mnot_found\u001b[0m \u001b[1;33m=\u001b[0m \u001b[0mlist\u001b[0m\u001b[1;33m(\u001b[0m\u001b[0mensure_index\u001b[0m\u001b[1;33m(\u001b[0m\u001b[0mkey\u001b[0m\u001b[1;33m)\u001b[0m\u001b[1;33m[\u001b[0m\u001b[0mmissing_mask\u001b[0m\u001b[1;33m.\u001b[0m\u001b[0mnonzero\u001b[0m\u001b[1;33m(\u001b[0m\u001b[1;33m)\u001b[0m\u001b[1;33m[\u001b[0m\u001b[1;36m0\u001b[0m\u001b[1;33m]\u001b[0m\u001b[1;33m]\u001b[0m\u001b[1;33m.\u001b[0m\u001b[0munique\u001b[0m\u001b[1;33m(\u001b[0m\u001b[1;33m)\u001b[0m\u001b[1;33m)\u001b[0m\u001b[1;33m\u001b[0m\u001b[1;33m\u001b[0m\u001b[0m\n\u001b[1;32m-> 6252\u001b[1;33m             \u001b[1;32mraise\u001b[0m \u001b[0mKeyError\u001b[0m\u001b[1;33m(\u001b[0m\u001b[1;34mf\"{not_found} not in index\"\u001b[0m\u001b[1;33m)\u001b[0m\u001b[1;33m\u001b[0m\u001b[1;33m\u001b[0m\u001b[0m\n\u001b[0m\u001b[0;32m   6253\u001b[0m \u001b[1;33m\u001b[0m\u001b[0m\n\u001b[0;32m   6254\u001b[0m     \u001b[1;33m@\u001b[0m\u001b[0moverload\u001b[0m\u001b[1;33m\u001b[0m\u001b[1;33m\u001b[0m\u001b[0m\n",
      "\u001b[1;31mKeyError\u001b[0m: \"['LaneMaxSpeed'] not in index\""
     ]
    }
   ],
   "source": [
    "X = new_datas[['Longitude', 'Latitude', 'Speed','Acceleration', 'LaneMaxSpeed', 'ActionVehicleAhead',\n",
    "                 'action_accelerate', 'action_decelerate', 'action_stop',  'ActionParam', 'ActionDuration']]\n",
    "y = new_datas['y_travel']\n",
    "\n",
    "# Diviser les données en ensemble d'entraînement et de test\n",
    "X_train, X_test, y_train, y_test = train_test_split(X, y, test_size=0.2, random_state=42)\n",
    "\n",
    "# Initialisation du modèle et du dictionnaire pour stocker les résultats\n",
    "base_model = RandomForestRegressor(n_estimators=100, max_depth=None, random_state=42)\n",
    "results = {}\n",
    "\n",
    "for col in ml_columns:\n",
    "    print(f\"Suppression de la colonne: {col}\")\n",
    "\n",
    "    X_reduced = X.drop(col, axis=1)\n",
    "    # Diviser les données en ensemble d'entraînement et de test\n",
    "    # X_train_reduced, X_test_reduced, y_train, y_test = train_test_split(X, y, test_size=0.2, random_state=42)\n",
    "    # Créez une copie du dataset en supprimant la colonne courante\n",
    "    X_train_reduced = X_train.drop(col, axis=1).values\n",
    "    X_test_reduced = X_test.drop(col, axis=1).values\n",
    "    \n",
    "    # Entraîner le modèle avec les données réduites\n",
    "    base_model.fit(X_train_reduced, y_train)\n",
    "\n",
    "    # Predire sur l'ensemble d'entrainement\n",
    "    y_tr_p = base_model.predict(X_train_reduced) \n",
    "    train_mse = mean_squared_error(y_train, y_tr_p)\n",
    "    # Prédire sur l'ensemble de test réduit\n",
    "    y_pred = base_model.predict(X_test_reduced)\n",
    "    \n",
    "    # Calculer la MSE\n",
    "    test_mse = mean_squared_error(y_test, y_pred)\n",
    "\n",
    "    # Stocker les résultats\n",
    "    results[col] = {'train_mse': train_mse, 'test_mse': test_mse}\n",
    "\n",
    "# Affichage des résultats\n",
    "for col, scores in sorted(results.items(), key=lambda item: item[1]['test_mse']):\n",
    "    print(f\"Supprimer la colonne {col} donne une MSE de : {scores['train_mse']} (train), {scores['test_mse']} (test)\")"
   ]
  },
  {
   "cell_type": "code",
   "execution_count": null,
   "metadata": {},
   "outputs": [
    {
     "name": "stdout",
     "output_type": "stream",
     "text": [
      "Cross Validation Scores:  [0.76137406 0.72766279 0.74892691 0.72571741 0.76371985 0.77780014\n",
      " 0.72724659 0.74303356 0.71937604 0.77377625]\n",
      "Average CV Score:  0.7468633583578239\n",
      "Number of CV Scores used in Average:  10\n"
     ]
    }
   ],
   "source": [
    "from sklearn import datasets\n",
    "from sklearn.tree import DecisionTreeClassifier\n",
    "from sklearn.model_selection import KFold, cross_val_score\n",
    "\n",
    "\n",
    "clf = RandomForestRegressor(random_state=42)\n",
    "\n",
    "k_folds = KFold(n_splits = 10)\n",
    "\n",
    "scores = cross_val_score(clf, X, y, cv = k_folds)\n",
    "\n",
    "print(\"Cross Validation Scores: \", scores)\n",
    "print(\"Average CV Score: \", scores.mean())\n",
    "print(\"Number of CV Scores used in Average: \", len(scores))"
   ]
  },
  {
   "cell_type": "code",
   "execution_count": null,
   "metadata": {},
   "outputs": [
    {
     "data": {
      "text/html": [
       "<style>#sk-container-id-271 {color: black;background-color: white;}#sk-container-id-271 pre{padding: 0;}#sk-container-id-271 div.sk-toggleable {background-color: white;}#sk-container-id-271 label.sk-toggleable__label {cursor: pointer;display: block;width: 100%;margin-bottom: 0;padding: 0.3em;box-sizing: border-box;text-align: center;}#sk-container-id-271 label.sk-toggleable__label-arrow:before {content: \"▸\";float: left;margin-right: 0.25em;color: #696969;}#sk-container-id-271 label.sk-toggleable__label-arrow:hover:before {color: black;}#sk-container-id-271 div.sk-estimator:hover label.sk-toggleable__label-arrow:before {color: black;}#sk-container-id-271 div.sk-toggleable__content {max-height: 0;max-width: 0;overflow: hidden;text-align: left;background-color: #f0f8ff;}#sk-container-id-271 div.sk-toggleable__content pre {margin: 0.2em;color: black;border-radius: 0.25em;background-color: #f0f8ff;}#sk-container-id-271 input.sk-toggleable__control:checked~div.sk-toggleable__content {max-height: 200px;max-width: 100%;overflow: auto;}#sk-container-id-271 input.sk-toggleable__control:checked~label.sk-toggleable__label-arrow:before {content: \"▾\";}#sk-container-id-271 div.sk-estimator input.sk-toggleable__control:checked~label.sk-toggleable__label {background-color: #d4ebff;}#sk-container-id-271 div.sk-label input.sk-toggleable__control:checked~label.sk-toggleable__label {background-color: #d4ebff;}#sk-container-id-271 input.sk-hidden--visually {border: 0;clip: rect(1px 1px 1px 1px);clip: rect(1px, 1px, 1px, 1px);height: 1px;margin: -1px;overflow: hidden;padding: 0;position: absolute;width: 1px;}#sk-container-id-271 div.sk-estimator {font-family: monospace;background-color: #f0f8ff;border: 1px dotted black;border-radius: 0.25em;box-sizing: border-box;margin-bottom: 0.5em;}#sk-container-id-271 div.sk-estimator:hover {background-color: #d4ebff;}#sk-container-id-271 div.sk-parallel-item::after {content: \"\";width: 100%;border-bottom: 1px solid gray;flex-grow: 1;}#sk-container-id-271 div.sk-label:hover label.sk-toggleable__label {background-color: #d4ebff;}#sk-container-id-271 div.sk-serial::before {content: \"\";position: absolute;border-left: 1px solid gray;box-sizing: border-box;top: 0;bottom: 0;left: 50%;z-index: 0;}#sk-container-id-271 div.sk-serial {display: flex;flex-direction: column;align-items: center;background-color: white;padding-right: 0.2em;padding-left: 0.2em;position: relative;}#sk-container-id-271 div.sk-item {position: relative;z-index: 1;}#sk-container-id-271 div.sk-parallel {display: flex;align-items: stretch;justify-content: center;background-color: white;position: relative;}#sk-container-id-271 div.sk-item::before, #sk-container-id-271 div.sk-parallel-item::before {content: \"\";position: absolute;border-left: 1px solid gray;box-sizing: border-box;top: 0;bottom: 0;left: 50%;z-index: -1;}#sk-container-id-271 div.sk-parallel-item {display: flex;flex-direction: column;z-index: 1;position: relative;background-color: white;}#sk-container-id-271 div.sk-parallel-item:first-child::after {align-self: flex-end;width: 50%;}#sk-container-id-271 div.sk-parallel-item:last-child::after {align-self: flex-start;width: 50%;}#sk-container-id-271 div.sk-parallel-item:only-child::after {width: 0;}#sk-container-id-271 div.sk-dashed-wrapped {border: 1px dashed gray;margin: 0 0.4em 0.5em 0.4em;box-sizing: border-box;padding-bottom: 0.4em;background-color: white;}#sk-container-id-271 div.sk-label label {font-family: monospace;font-weight: bold;display: inline-block;line-height: 1.2em;}#sk-container-id-271 div.sk-label-container {text-align: center;}#sk-container-id-271 div.sk-container {/* jupyter's `normalize.less` sets `[hidden] { display: none; }` but bootstrap.min.css set `[hidden] { display: none !important; }` so we also need the `!important` here to be able to override the default hidden behavior on the sphinx rendered scikit-learn.org. See: https://github.com/scikit-learn/scikit-learn/issues/21755 */display: inline-block !important;position: relative;}#sk-container-id-271 div.sk-text-repr-fallback {display: none;}</style><div id=\"sk-container-id-271\" class=\"sk-top-container\"><div class=\"sk-text-repr-fallback\"><pre>RandomForestRegressor(random_state=42)</pre><b>In a Jupyter environment, please rerun this cell to show the HTML representation or trust the notebook. <br />On GitHub, the HTML representation is unable to render, please try loading this page with nbviewer.org.</b></div><div class=\"sk-container\" hidden><div class=\"sk-item\"><div class=\"sk-estimator sk-toggleable\"><input class=\"sk-toggleable__control sk-hidden--visually\" id=\"sk-estimator-id-321\" type=\"checkbox\" checked><label for=\"sk-estimator-id-321\" class=\"sk-toggleable__label sk-toggleable__label-arrow\">RandomForestRegressor</label><div class=\"sk-toggleable__content\"><pre>RandomForestRegressor(random_state=42)</pre></div></div></div></div></div>"
      ],
      "text/plain": [
       "RandomForestRegressor(random_state=42)"
      ]
     },
     "execution_count": 846,
     "metadata": {},
     "output_type": "execute_result"
    },
    {
     "name": "stdout",
     "output_type": "stream",
     "text": [
      "MSE pour l'entrainement: 7.324317552915863\n",
      "MSE pour le test: 55.234357536769366\n"
     ]
    },
    {
     "data": {
      "text/html": [
       "<style>#sk-container-id-272 {color: black;background-color: white;}#sk-container-id-272 pre{padding: 0;}#sk-container-id-272 div.sk-toggleable {background-color: white;}#sk-container-id-272 label.sk-toggleable__label {cursor: pointer;display: block;width: 100%;margin-bottom: 0;padding: 0.3em;box-sizing: border-box;text-align: center;}#sk-container-id-272 label.sk-toggleable__label-arrow:before {content: \"▸\";float: left;margin-right: 0.25em;color: #696969;}#sk-container-id-272 label.sk-toggleable__label-arrow:hover:before {color: black;}#sk-container-id-272 div.sk-estimator:hover label.sk-toggleable__label-arrow:before {color: black;}#sk-container-id-272 div.sk-toggleable__content {max-height: 0;max-width: 0;overflow: hidden;text-align: left;background-color: #f0f8ff;}#sk-container-id-272 div.sk-toggleable__content pre {margin: 0.2em;color: black;border-radius: 0.25em;background-color: #f0f8ff;}#sk-container-id-272 input.sk-toggleable__control:checked~div.sk-toggleable__content {max-height: 200px;max-width: 100%;overflow: auto;}#sk-container-id-272 input.sk-toggleable__control:checked~label.sk-toggleable__label-arrow:before {content: \"▾\";}#sk-container-id-272 div.sk-estimator input.sk-toggleable__control:checked~label.sk-toggleable__label {background-color: #d4ebff;}#sk-container-id-272 div.sk-label input.sk-toggleable__control:checked~label.sk-toggleable__label {background-color: #d4ebff;}#sk-container-id-272 input.sk-hidden--visually {border: 0;clip: rect(1px 1px 1px 1px);clip: rect(1px, 1px, 1px, 1px);height: 1px;margin: -1px;overflow: hidden;padding: 0;position: absolute;width: 1px;}#sk-container-id-272 div.sk-estimator {font-family: monospace;background-color: #f0f8ff;border: 1px dotted black;border-radius: 0.25em;box-sizing: border-box;margin-bottom: 0.5em;}#sk-container-id-272 div.sk-estimator:hover {background-color: #d4ebff;}#sk-container-id-272 div.sk-parallel-item::after {content: \"\";width: 100%;border-bottom: 1px solid gray;flex-grow: 1;}#sk-container-id-272 div.sk-label:hover label.sk-toggleable__label {background-color: #d4ebff;}#sk-container-id-272 div.sk-serial::before {content: \"\";position: absolute;border-left: 1px solid gray;box-sizing: border-box;top: 0;bottom: 0;left: 50%;z-index: 0;}#sk-container-id-272 div.sk-serial {display: flex;flex-direction: column;align-items: center;background-color: white;padding-right: 0.2em;padding-left: 0.2em;position: relative;}#sk-container-id-272 div.sk-item {position: relative;z-index: 1;}#sk-container-id-272 div.sk-parallel {display: flex;align-items: stretch;justify-content: center;background-color: white;position: relative;}#sk-container-id-272 div.sk-item::before, #sk-container-id-272 div.sk-parallel-item::before {content: \"\";position: absolute;border-left: 1px solid gray;box-sizing: border-box;top: 0;bottom: 0;left: 50%;z-index: -1;}#sk-container-id-272 div.sk-parallel-item {display: flex;flex-direction: column;z-index: 1;position: relative;background-color: white;}#sk-container-id-272 div.sk-parallel-item:first-child::after {align-self: flex-end;width: 50%;}#sk-container-id-272 div.sk-parallel-item:last-child::after {align-self: flex-start;width: 50%;}#sk-container-id-272 div.sk-parallel-item:only-child::after {width: 0;}#sk-container-id-272 div.sk-dashed-wrapped {border: 1px dashed gray;margin: 0 0.4em 0.5em 0.4em;box-sizing: border-box;padding-bottom: 0.4em;background-color: white;}#sk-container-id-272 div.sk-label label {font-family: monospace;font-weight: bold;display: inline-block;line-height: 1.2em;}#sk-container-id-272 div.sk-label-container {text-align: center;}#sk-container-id-272 div.sk-container {/* jupyter's `normalize.less` sets `[hidden] { display: none; }` but bootstrap.min.css set `[hidden] { display: none !important; }` so we also need the `!important` here to be able to override the default hidden behavior on the sphinx rendered scikit-learn.org. See: https://github.com/scikit-learn/scikit-learn/issues/21755 */display: inline-block !important;position: relative;}#sk-container-id-272 div.sk-text-repr-fallback {display: none;}</style><div id=\"sk-container-id-272\" class=\"sk-top-container\"><div class=\"sk-text-repr-fallback\"><pre>RandomForestRegressor(random_state=42)</pre><b>In a Jupyter environment, please rerun this cell to show the HTML representation or trust the notebook. <br />On GitHub, the HTML representation is unable to render, please try loading this page with nbviewer.org.</b></div><div class=\"sk-container\" hidden><div class=\"sk-item\"><div class=\"sk-estimator sk-toggleable\"><input class=\"sk-toggleable__control sk-hidden--visually\" id=\"sk-estimator-id-322\" type=\"checkbox\" checked><label for=\"sk-estimator-id-322\" class=\"sk-toggleable__label sk-toggleable__label-arrow\">RandomForestRegressor</label><div class=\"sk-toggleable__content\"><pre>RandomForestRegressor(random_state=42)</pre></div></div></div></div></div>"
      ],
      "text/plain": [
       "RandomForestRegressor(random_state=42)"
      ]
     },
     "execution_count": 846,
     "metadata": {},
     "output_type": "execute_result"
    },
    {
     "name": "stdout",
     "output_type": "stream",
     "text": [
      "MSE pour l'entrainement: 7.395824394963091\n",
      "MSE pour le test: 50.77789254592294\n"
     ]
    },
    {
     "data": {
      "text/html": [
       "<style>#sk-container-id-273 {color: black;background-color: white;}#sk-container-id-273 pre{padding: 0;}#sk-container-id-273 div.sk-toggleable {background-color: white;}#sk-container-id-273 label.sk-toggleable__label {cursor: pointer;display: block;width: 100%;margin-bottom: 0;padding: 0.3em;box-sizing: border-box;text-align: center;}#sk-container-id-273 label.sk-toggleable__label-arrow:before {content: \"▸\";float: left;margin-right: 0.25em;color: #696969;}#sk-container-id-273 label.sk-toggleable__label-arrow:hover:before {color: black;}#sk-container-id-273 div.sk-estimator:hover label.sk-toggleable__label-arrow:before {color: black;}#sk-container-id-273 div.sk-toggleable__content {max-height: 0;max-width: 0;overflow: hidden;text-align: left;background-color: #f0f8ff;}#sk-container-id-273 div.sk-toggleable__content pre {margin: 0.2em;color: black;border-radius: 0.25em;background-color: #f0f8ff;}#sk-container-id-273 input.sk-toggleable__control:checked~div.sk-toggleable__content {max-height: 200px;max-width: 100%;overflow: auto;}#sk-container-id-273 input.sk-toggleable__control:checked~label.sk-toggleable__label-arrow:before {content: \"▾\";}#sk-container-id-273 div.sk-estimator input.sk-toggleable__control:checked~label.sk-toggleable__label {background-color: #d4ebff;}#sk-container-id-273 div.sk-label input.sk-toggleable__control:checked~label.sk-toggleable__label {background-color: #d4ebff;}#sk-container-id-273 input.sk-hidden--visually {border: 0;clip: rect(1px 1px 1px 1px);clip: rect(1px, 1px, 1px, 1px);height: 1px;margin: -1px;overflow: hidden;padding: 0;position: absolute;width: 1px;}#sk-container-id-273 div.sk-estimator {font-family: monospace;background-color: #f0f8ff;border: 1px dotted black;border-radius: 0.25em;box-sizing: border-box;margin-bottom: 0.5em;}#sk-container-id-273 div.sk-estimator:hover {background-color: #d4ebff;}#sk-container-id-273 div.sk-parallel-item::after {content: \"\";width: 100%;border-bottom: 1px solid gray;flex-grow: 1;}#sk-container-id-273 div.sk-label:hover label.sk-toggleable__label {background-color: #d4ebff;}#sk-container-id-273 div.sk-serial::before {content: \"\";position: absolute;border-left: 1px solid gray;box-sizing: border-box;top: 0;bottom: 0;left: 50%;z-index: 0;}#sk-container-id-273 div.sk-serial {display: flex;flex-direction: column;align-items: center;background-color: white;padding-right: 0.2em;padding-left: 0.2em;position: relative;}#sk-container-id-273 div.sk-item {position: relative;z-index: 1;}#sk-container-id-273 div.sk-parallel {display: flex;align-items: stretch;justify-content: center;background-color: white;position: relative;}#sk-container-id-273 div.sk-item::before, #sk-container-id-273 div.sk-parallel-item::before {content: \"\";position: absolute;border-left: 1px solid gray;box-sizing: border-box;top: 0;bottom: 0;left: 50%;z-index: -1;}#sk-container-id-273 div.sk-parallel-item {display: flex;flex-direction: column;z-index: 1;position: relative;background-color: white;}#sk-container-id-273 div.sk-parallel-item:first-child::after {align-self: flex-end;width: 50%;}#sk-container-id-273 div.sk-parallel-item:last-child::after {align-self: flex-start;width: 50%;}#sk-container-id-273 div.sk-parallel-item:only-child::after {width: 0;}#sk-container-id-273 div.sk-dashed-wrapped {border: 1px dashed gray;margin: 0 0.4em 0.5em 0.4em;box-sizing: border-box;padding-bottom: 0.4em;background-color: white;}#sk-container-id-273 div.sk-label label {font-family: monospace;font-weight: bold;display: inline-block;line-height: 1.2em;}#sk-container-id-273 div.sk-label-container {text-align: center;}#sk-container-id-273 div.sk-container {/* jupyter's `normalize.less` sets `[hidden] { display: none; }` but bootstrap.min.css set `[hidden] { display: none !important; }` so we also need the `!important` here to be able to override the default hidden behavior on the sphinx rendered scikit-learn.org. See: https://github.com/scikit-learn/scikit-learn/issues/21755 */display: inline-block !important;position: relative;}#sk-container-id-273 div.sk-text-repr-fallback {display: none;}</style><div id=\"sk-container-id-273\" class=\"sk-top-container\"><div class=\"sk-text-repr-fallback\"><pre>RandomForestRegressor(random_state=42)</pre><b>In a Jupyter environment, please rerun this cell to show the HTML representation or trust the notebook. <br />On GitHub, the HTML representation is unable to render, please try loading this page with nbviewer.org.</b></div><div class=\"sk-container\" hidden><div class=\"sk-item\"><div class=\"sk-estimator sk-toggleable\"><input class=\"sk-toggleable__control sk-hidden--visually\" id=\"sk-estimator-id-323\" type=\"checkbox\" checked><label for=\"sk-estimator-id-323\" class=\"sk-toggleable__label sk-toggleable__label-arrow\">RandomForestRegressor</label><div class=\"sk-toggleable__content\"><pre>RandomForestRegressor(random_state=42)</pre></div></div></div></div></div>"
      ],
      "text/plain": [
       "RandomForestRegressor(random_state=42)"
      ]
     },
     "execution_count": 846,
     "metadata": {},
     "output_type": "execute_result"
    },
    {
     "name": "stdout",
     "output_type": "stream",
     "text": [
      "MSE pour l'entrainement: 7.3867724843118445\n",
      "MSE pour le test: 50.6822930050506\n"
     ]
    },
    {
     "data": {
      "text/html": [
       "<style>#sk-container-id-274 {color: black;background-color: white;}#sk-container-id-274 pre{padding: 0;}#sk-container-id-274 div.sk-toggleable {background-color: white;}#sk-container-id-274 label.sk-toggleable__label {cursor: pointer;display: block;width: 100%;margin-bottom: 0;padding: 0.3em;box-sizing: border-box;text-align: center;}#sk-container-id-274 label.sk-toggleable__label-arrow:before {content: \"▸\";float: left;margin-right: 0.25em;color: #696969;}#sk-container-id-274 label.sk-toggleable__label-arrow:hover:before {color: black;}#sk-container-id-274 div.sk-estimator:hover label.sk-toggleable__label-arrow:before {color: black;}#sk-container-id-274 div.sk-toggleable__content {max-height: 0;max-width: 0;overflow: hidden;text-align: left;background-color: #f0f8ff;}#sk-container-id-274 div.sk-toggleable__content pre {margin: 0.2em;color: black;border-radius: 0.25em;background-color: #f0f8ff;}#sk-container-id-274 input.sk-toggleable__control:checked~div.sk-toggleable__content {max-height: 200px;max-width: 100%;overflow: auto;}#sk-container-id-274 input.sk-toggleable__control:checked~label.sk-toggleable__label-arrow:before {content: \"▾\";}#sk-container-id-274 div.sk-estimator input.sk-toggleable__control:checked~label.sk-toggleable__label {background-color: #d4ebff;}#sk-container-id-274 div.sk-label input.sk-toggleable__control:checked~label.sk-toggleable__label {background-color: #d4ebff;}#sk-container-id-274 input.sk-hidden--visually {border: 0;clip: rect(1px 1px 1px 1px);clip: rect(1px, 1px, 1px, 1px);height: 1px;margin: -1px;overflow: hidden;padding: 0;position: absolute;width: 1px;}#sk-container-id-274 div.sk-estimator {font-family: monospace;background-color: #f0f8ff;border: 1px dotted black;border-radius: 0.25em;box-sizing: border-box;margin-bottom: 0.5em;}#sk-container-id-274 div.sk-estimator:hover {background-color: #d4ebff;}#sk-container-id-274 div.sk-parallel-item::after {content: \"\";width: 100%;border-bottom: 1px solid gray;flex-grow: 1;}#sk-container-id-274 div.sk-label:hover label.sk-toggleable__label {background-color: #d4ebff;}#sk-container-id-274 div.sk-serial::before {content: \"\";position: absolute;border-left: 1px solid gray;box-sizing: border-box;top: 0;bottom: 0;left: 50%;z-index: 0;}#sk-container-id-274 div.sk-serial {display: flex;flex-direction: column;align-items: center;background-color: white;padding-right: 0.2em;padding-left: 0.2em;position: relative;}#sk-container-id-274 div.sk-item {position: relative;z-index: 1;}#sk-container-id-274 div.sk-parallel {display: flex;align-items: stretch;justify-content: center;background-color: white;position: relative;}#sk-container-id-274 div.sk-item::before, #sk-container-id-274 div.sk-parallel-item::before {content: \"\";position: absolute;border-left: 1px solid gray;box-sizing: border-box;top: 0;bottom: 0;left: 50%;z-index: -1;}#sk-container-id-274 div.sk-parallel-item {display: flex;flex-direction: column;z-index: 1;position: relative;background-color: white;}#sk-container-id-274 div.sk-parallel-item:first-child::after {align-self: flex-end;width: 50%;}#sk-container-id-274 div.sk-parallel-item:last-child::after {align-self: flex-start;width: 50%;}#sk-container-id-274 div.sk-parallel-item:only-child::after {width: 0;}#sk-container-id-274 div.sk-dashed-wrapped {border: 1px dashed gray;margin: 0 0.4em 0.5em 0.4em;box-sizing: border-box;padding-bottom: 0.4em;background-color: white;}#sk-container-id-274 div.sk-label label {font-family: monospace;font-weight: bold;display: inline-block;line-height: 1.2em;}#sk-container-id-274 div.sk-label-container {text-align: center;}#sk-container-id-274 div.sk-container {/* jupyter's `normalize.less` sets `[hidden] { display: none; }` but bootstrap.min.css set `[hidden] { display: none !important; }` so we also need the `!important` here to be able to override the default hidden behavior on the sphinx rendered scikit-learn.org. See: https://github.com/scikit-learn/scikit-learn/issues/21755 */display: inline-block !important;position: relative;}#sk-container-id-274 div.sk-text-repr-fallback {display: none;}</style><div id=\"sk-container-id-274\" class=\"sk-top-container\"><div class=\"sk-text-repr-fallback\"><pre>RandomForestRegressor(random_state=42)</pre><b>In a Jupyter environment, please rerun this cell to show the HTML representation or trust the notebook. <br />On GitHub, the HTML representation is unable to render, please try loading this page with nbviewer.org.</b></div><div class=\"sk-container\" hidden><div class=\"sk-item\"><div class=\"sk-estimator sk-toggleable\"><input class=\"sk-toggleable__control sk-hidden--visually\" id=\"sk-estimator-id-324\" type=\"checkbox\" checked><label for=\"sk-estimator-id-324\" class=\"sk-toggleable__label sk-toggleable__label-arrow\">RandomForestRegressor</label><div class=\"sk-toggleable__content\"><pre>RandomForestRegressor(random_state=42)</pre></div></div></div></div></div>"
      ],
      "text/plain": [
       "RandomForestRegressor(random_state=42)"
      ]
     },
     "execution_count": 846,
     "metadata": {},
     "output_type": "execute_result"
    },
    {
     "name": "stdout",
     "output_type": "stream",
     "text": [
      "MSE pour l'entrainement: 7.452936602774127\n",
      "MSE pour le test: 48.59923873863127\n"
     ]
    },
    {
     "data": {
      "text/html": [
       "<style>#sk-container-id-275 {color: black;background-color: white;}#sk-container-id-275 pre{padding: 0;}#sk-container-id-275 div.sk-toggleable {background-color: white;}#sk-container-id-275 label.sk-toggleable__label {cursor: pointer;display: block;width: 100%;margin-bottom: 0;padding: 0.3em;box-sizing: border-box;text-align: center;}#sk-container-id-275 label.sk-toggleable__label-arrow:before {content: \"▸\";float: left;margin-right: 0.25em;color: #696969;}#sk-container-id-275 label.sk-toggleable__label-arrow:hover:before {color: black;}#sk-container-id-275 div.sk-estimator:hover label.sk-toggleable__label-arrow:before {color: black;}#sk-container-id-275 div.sk-toggleable__content {max-height: 0;max-width: 0;overflow: hidden;text-align: left;background-color: #f0f8ff;}#sk-container-id-275 div.sk-toggleable__content pre {margin: 0.2em;color: black;border-radius: 0.25em;background-color: #f0f8ff;}#sk-container-id-275 input.sk-toggleable__control:checked~div.sk-toggleable__content {max-height: 200px;max-width: 100%;overflow: auto;}#sk-container-id-275 input.sk-toggleable__control:checked~label.sk-toggleable__label-arrow:before {content: \"▾\";}#sk-container-id-275 div.sk-estimator input.sk-toggleable__control:checked~label.sk-toggleable__label {background-color: #d4ebff;}#sk-container-id-275 div.sk-label input.sk-toggleable__control:checked~label.sk-toggleable__label {background-color: #d4ebff;}#sk-container-id-275 input.sk-hidden--visually {border: 0;clip: rect(1px 1px 1px 1px);clip: rect(1px, 1px, 1px, 1px);height: 1px;margin: -1px;overflow: hidden;padding: 0;position: absolute;width: 1px;}#sk-container-id-275 div.sk-estimator {font-family: monospace;background-color: #f0f8ff;border: 1px dotted black;border-radius: 0.25em;box-sizing: border-box;margin-bottom: 0.5em;}#sk-container-id-275 div.sk-estimator:hover {background-color: #d4ebff;}#sk-container-id-275 div.sk-parallel-item::after {content: \"\";width: 100%;border-bottom: 1px solid gray;flex-grow: 1;}#sk-container-id-275 div.sk-label:hover label.sk-toggleable__label {background-color: #d4ebff;}#sk-container-id-275 div.sk-serial::before {content: \"\";position: absolute;border-left: 1px solid gray;box-sizing: border-box;top: 0;bottom: 0;left: 50%;z-index: 0;}#sk-container-id-275 div.sk-serial {display: flex;flex-direction: column;align-items: center;background-color: white;padding-right: 0.2em;padding-left: 0.2em;position: relative;}#sk-container-id-275 div.sk-item {position: relative;z-index: 1;}#sk-container-id-275 div.sk-parallel {display: flex;align-items: stretch;justify-content: center;background-color: white;position: relative;}#sk-container-id-275 div.sk-item::before, #sk-container-id-275 div.sk-parallel-item::before {content: \"\";position: absolute;border-left: 1px solid gray;box-sizing: border-box;top: 0;bottom: 0;left: 50%;z-index: -1;}#sk-container-id-275 div.sk-parallel-item {display: flex;flex-direction: column;z-index: 1;position: relative;background-color: white;}#sk-container-id-275 div.sk-parallel-item:first-child::after {align-self: flex-end;width: 50%;}#sk-container-id-275 div.sk-parallel-item:last-child::after {align-self: flex-start;width: 50%;}#sk-container-id-275 div.sk-parallel-item:only-child::after {width: 0;}#sk-container-id-275 div.sk-dashed-wrapped {border: 1px dashed gray;margin: 0 0.4em 0.5em 0.4em;box-sizing: border-box;padding-bottom: 0.4em;background-color: white;}#sk-container-id-275 div.sk-label label {font-family: monospace;font-weight: bold;display: inline-block;line-height: 1.2em;}#sk-container-id-275 div.sk-label-container {text-align: center;}#sk-container-id-275 div.sk-container {/* jupyter's `normalize.less` sets `[hidden] { display: none; }` but bootstrap.min.css set `[hidden] { display: none !important; }` so we also need the `!important` here to be able to override the default hidden behavior on the sphinx rendered scikit-learn.org. See: https://github.com/scikit-learn/scikit-learn/issues/21755 */display: inline-block !important;position: relative;}#sk-container-id-275 div.sk-text-repr-fallback {display: none;}</style><div id=\"sk-container-id-275\" class=\"sk-top-container\"><div class=\"sk-text-repr-fallback\"><pre>RandomForestRegressor(random_state=42)</pre><b>In a Jupyter environment, please rerun this cell to show the HTML representation or trust the notebook. <br />On GitHub, the HTML representation is unable to render, please try loading this page with nbviewer.org.</b></div><div class=\"sk-container\" hidden><div class=\"sk-item\"><div class=\"sk-estimator sk-toggleable\"><input class=\"sk-toggleable__control sk-hidden--visually\" id=\"sk-estimator-id-325\" type=\"checkbox\" checked><label for=\"sk-estimator-id-325\" class=\"sk-toggleable__label sk-toggleable__label-arrow\">RandomForestRegressor</label><div class=\"sk-toggleable__content\"><pre>RandomForestRegressor(random_state=42)</pre></div></div></div></div></div>"
      ],
      "text/plain": [
       "RandomForestRegressor(random_state=42)"
      ]
     },
     "execution_count": 846,
     "metadata": {},
     "output_type": "execute_result"
    },
    {
     "name": "stdout",
     "output_type": "stream",
     "text": [
      "MSE pour l'entrainement: 7.497368094962246\n",
      "MSE pour le test: 46.705699247479835\n"
     ]
    },
    {
     "data": {
      "text/html": [
       "<style>#sk-container-id-276 {color: black;background-color: white;}#sk-container-id-276 pre{padding: 0;}#sk-container-id-276 div.sk-toggleable {background-color: white;}#sk-container-id-276 label.sk-toggleable__label {cursor: pointer;display: block;width: 100%;margin-bottom: 0;padding: 0.3em;box-sizing: border-box;text-align: center;}#sk-container-id-276 label.sk-toggleable__label-arrow:before {content: \"▸\";float: left;margin-right: 0.25em;color: #696969;}#sk-container-id-276 label.sk-toggleable__label-arrow:hover:before {color: black;}#sk-container-id-276 div.sk-estimator:hover label.sk-toggleable__label-arrow:before {color: black;}#sk-container-id-276 div.sk-toggleable__content {max-height: 0;max-width: 0;overflow: hidden;text-align: left;background-color: #f0f8ff;}#sk-container-id-276 div.sk-toggleable__content pre {margin: 0.2em;color: black;border-radius: 0.25em;background-color: #f0f8ff;}#sk-container-id-276 input.sk-toggleable__control:checked~div.sk-toggleable__content {max-height: 200px;max-width: 100%;overflow: auto;}#sk-container-id-276 input.sk-toggleable__control:checked~label.sk-toggleable__label-arrow:before {content: \"▾\";}#sk-container-id-276 div.sk-estimator input.sk-toggleable__control:checked~label.sk-toggleable__label {background-color: #d4ebff;}#sk-container-id-276 div.sk-label input.sk-toggleable__control:checked~label.sk-toggleable__label {background-color: #d4ebff;}#sk-container-id-276 input.sk-hidden--visually {border: 0;clip: rect(1px 1px 1px 1px);clip: rect(1px, 1px, 1px, 1px);height: 1px;margin: -1px;overflow: hidden;padding: 0;position: absolute;width: 1px;}#sk-container-id-276 div.sk-estimator {font-family: monospace;background-color: #f0f8ff;border: 1px dotted black;border-radius: 0.25em;box-sizing: border-box;margin-bottom: 0.5em;}#sk-container-id-276 div.sk-estimator:hover {background-color: #d4ebff;}#sk-container-id-276 div.sk-parallel-item::after {content: \"\";width: 100%;border-bottom: 1px solid gray;flex-grow: 1;}#sk-container-id-276 div.sk-label:hover label.sk-toggleable__label {background-color: #d4ebff;}#sk-container-id-276 div.sk-serial::before {content: \"\";position: absolute;border-left: 1px solid gray;box-sizing: border-box;top: 0;bottom: 0;left: 50%;z-index: 0;}#sk-container-id-276 div.sk-serial {display: flex;flex-direction: column;align-items: center;background-color: white;padding-right: 0.2em;padding-left: 0.2em;position: relative;}#sk-container-id-276 div.sk-item {position: relative;z-index: 1;}#sk-container-id-276 div.sk-parallel {display: flex;align-items: stretch;justify-content: center;background-color: white;position: relative;}#sk-container-id-276 div.sk-item::before, #sk-container-id-276 div.sk-parallel-item::before {content: \"\";position: absolute;border-left: 1px solid gray;box-sizing: border-box;top: 0;bottom: 0;left: 50%;z-index: -1;}#sk-container-id-276 div.sk-parallel-item {display: flex;flex-direction: column;z-index: 1;position: relative;background-color: white;}#sk-container-id-276 div.sk-parallel-item:first-child::after {align-self: flex-end;width: 50%;}#sk-container-id-276 div.sk-parallel-item:last-child::after {align-self: flex-start;width: 50%;}#sk-container-id-276 div.sk-parallel-item:only-child::after {width: 0;}#sk-container-id-276 div.sk-dashed-wrapped {border: 1px dashed gray;margin: 0 0.4em 0.5em 0.4em;box-sizing: border-box;padding-bottom: 0.4em;background-color: white;}#sk-container-id-276 div.sk-label label {font-family: monospace;font-weight: bold;display: inline-block;line-height: 1.2em;}#sk-container-id-276 div.sk-label-container {text-align: center;}#sk-container-id-276 div.sk-container {/* jupyter's `normalize.less` sets `[hidden] { display: none; }` but bootstrap.min.css set `[hidden] { display: none !important; }` so we also need the `!important` here to be able to override the default hidden behavior on the sphinx rendered scikit-learn.org. See: https://github.com/scikit-learn/scikit-learn/issues/21755 */display: inline-block !important;position: relative;}#sk-container-id-276 div.sk-text-repr-fallback {display: none;}</style><div id=\"sk-container-id-276\" class=\"sk-top-container\"><div class=\"sk-text-repr-fallback\"><pre>RandomForestRegressor(random_state=42)</pre><b>In a Jupyter environment, please rerun this cell to show the HTML representation or trust the notebook. <br />On GitHub, the HTML representation is unable to render, please try loading this page with nbviewer.org.</b></div><div class=\"sk-container\" hidden><div class=\"sk-item\"><div class=\"sk-estimator sk-toggleable\"><input class=\"sk-toggleable__control sk-hidden--visually\" id=\"sk-estimator-id-326\" type=\"checkbox\" checked><label for=\"sk-estimator-id-326\" class=\"sk-toggleable__label sk-toggleable__label-arrow\">RandomForestRegressor</label><div class=\"sk-toggleable__content\"><pre>RandomForestRegressor(random_state=42)</pre></div></div></div></div></div>"
      ],
      "text/plain": [
       "RandomForestRegressor(random_state=42)"
      ]
     },
     "execution_count": 846,
     "metadata": {},
     "output_type": "execute_result"
    },
    {
     "name": "stdout",
     "output_type": "stream",
     "text": [
      "MSE pour l'entrainement: 7.249862184429539\n",
      "MSE pour le test: 55.07338453040994\n"
     ]
    },
    {
     "data": {
      "text/html": [
       "<style>#sk-container-id-277 {color: black;background-color: white;}#sk-container-id-277 pre{padding: 0;}#sk-container-id-277 div.sk-toggleable {background-color: white;}#sk-container-id-277 label.sk-toggleable__label {cursor: pointer;display: block;width: 100%;margin-bottom: 0;padding: 0.3em;box-sizing: border-box;text-align: center;}#sk-container-id-277 label.sk-toggleable__label-arrow:before {content: \"▸\";float: left;margin-right: 0.25em;color: #696969;}#sk-container-id-277 label.sk-toggleable__label-arrow:hover:before {color: black;}#sk-container-id-277 div.sk-estimator:hover label.sk-toggleable__label-arrow:before {color: black;}#sk-container-id-277 div.sk-toggleable__content {max-height: 0;max-width: 0;overflow: hidden;text-align: left;background-color: #f0f8ff;}#sk-container-id-277 div.sk-toggleable__content pre {margin: 0.2em;color: black;border-radius: 0.25em;background-color: #f0f8ff;}#sk-container-id-277 input.sk-toggleable__control:checked~div.sk-toggleable__content {max-height: 200px;max-width: 100%;overflow: auto;}#sk-container-id-277 input.sk-toggleable__control:checked~label.sk-toggleable__label-arrow:before {content: \"▾\";}#sk-container-id-277 div.sk-estimator input.sk-toggleable__control:checked~label.sk-toggleable__label {background-color: #d4ebff;}#sk-container-id-277 div.sk-label input.sk-toggleable__control:checked~label.sk-toggleable__label {background-color: #d4ebff;}#sk-container-id-277 input.sk-hidden--visually {border: 0;clip: rect(1px 1px 1px 1px);clip: rect(1px, 1px, 1px, 1px);height: 1px;margin: -1px;overflow: hidden;padding: 0;position: absolute;width: 1px;}#sk-container-id-277 div.sk-estimator {font-family: monospace;background-color: #f0f8ff;border: 1px dotted black;border-radius: 0.25em;box-sizing: border-box;margin-bottom: 0.5em;}#sk-container-id-277 div.sk-estimator:hover {background-color: #d4ebff;}#sk-container-id-277 div.sk-parallel-item::after {content: \"\";width: 100%;border-bottom: 1px solid gray;flex-grow: 1;}#sk-container-id-277 div.sk-label:hover label.sk-toggleable__label {background-color: #d4ebff;}#sk-container-id-277 div.sk-serial::before {content: \"\";position: absolute;border-left: 1px solid gray;box-sizing: border-box;top: 0;bottom: 0;left: 50%;z-index: 0;}#sk-container-id-277 div.sk-serial {display: flex;flex-direction: column;align-items: center;background-color: white;padding-right: 0.2em;padding-left: 0.2em;position: relative;}#sk-container-id-277 div.sk-item {position: relative;z-index: 1;}#sk-container-id-277 div.sk-parallel {display: flex;align-items: stretch;justify-content: center;background-color: white;position: relative;}#sk-container-id-277 div.sk-item::before, #sk-container-id-277 div.sk-parallel-item::before {content: \"\";position: absolute;border-left: 1px solid gray;box-sizing: border-box;top: 0;bottom: 0;left: 50%;z-index: -1;}#sk-container-id-277 div.sk-parallel-item {display: flex;flex-direction: column;z-index: 1;position: relative;background-color: white;}#sk-container-id-277 div.sk-parallel-item:first-child::after {align-self: flex-end;width: 50%;}#sk-container-id-277 div.sk-parallel-item:last-child::after {align-self: flex-start;width: 50%;}#sk-container-id-277 div.sk-parallel-item:only-child::after {width: 0;}#sk-container-id-277 div.sk-dashed-wrapped {border: 1px dashed gray;margin: 0 0.4em 0.5em 0.4em;box-sizing: border-box;padding-bottom: 0.4em;background-color: white;}#sk-container-id-277 div.sk-label label {font-family: monospace;font-weight: bold;display: inline-block;line-height: 1.2em;}#sk-container-id-277 div.sk-label-container {text-align: center;}#sk-container-id-277 div.sk-container {/* jupyter's `normalize.less` sets `[hidden] { display: none; }` but bootstrap.min.css set `[hidden] { display: none !important; }` so we also need the `!important` here to be able to override the default hidden behavior on the sphinx rendered scikit-learn.org. See: https://github.com/scikit-learn/scikit-learn/issues/21755 */display: inline-block !important;position: relative;}#sk-container-id-277 div.sk-text-repr-fallback {display: none;}</style><div id=\"sk-container-id-277\" class=\"sk-top-container\"><div class=\"sk-text-repr-fallback\"><pre>RandomForestRegressor(random_state=42)</pre><b>In a Jupyter environment, please rerun this cell to show the HTML representation or trust the notebook. <br />On GitHub, the HTML representation is unable to render, please try loading this page with nbviewer.org.</b></div><div class=\"sk-container\" hidden><div class=\"sk-item\"><div class=\"sk-estimator sk-toggleable\"><input class=\"sk-toggleable__control sk-hidden--visually\" id=\"sk-estimator-id-327\" type=\"checkbox\" checked><label for=\"sk-estimator-id-327\" class=\"sk-toggleable__label sk-toggleable__label-arrow\">RandomForestRegressor</label><div class=\"sk-toggleable__content\"><pre>RandomForestRegressor(random_state=42)</pre></div></div></div></div></div>"
      ],
      "text/plain": [
       "RandomForestRegressor(random_state=42)"
      ]
     },
     "execution_count": 846,
     "metadata": {},
     "output_type": "execute_result"
    },
    {
     "name": "stdout",
     "output_type": "stream",
     "text": [
      "MSE pour l'entrainement: 7.326906150369972\n",
      "MSE pour le test: 54.16549592735763\n"
     ]
    },
    {
     "data": {
      "text/html": [
       "<style>#sk-container-id-278 {color: black;background-color: white;}#sk-container-id-278 pre{padding: 0;}#sk-container-id-278 div.sk-toggleable {background-color: white;}#sk-container-id-278 label.sk-toggleable__label {cursor: pointer;display: block;width: 100%;margin-bottom: 0;padding: 0.3em;box-sizing: border-box;text-align: center;}#sk-container-id-278 label.sk-toggleable__label-arrow:before {content: \"▸\";float: left;margin-right: 0.25em;color: #696969;}#sk-container-id-278 label.sk-toggleable__label-arrow:hover:before {color: black;}#sk-container-id-278 div.sk-estimator:hover label.sk-toggleable__label-arrow:before {color: black;}#sk-container-id-278 div.sk-toggleable__content {max-height: 0;max-width: 0;overflow: hidden;text-align: left;background-color: #f0f8ff;}#sk-container-id-278 div.sk-toggleable__content pre {margin: 0.2em;color: black;border-radius: 0.25em;background-color: #f0f8ff;}#sk-container-id-278 input.sk-toggleable__control:checked~div.sk-toggleable__content {max-height: 200px;max-width: 100%;overflow: auto;}#sk-container-id-278 input.sk-toggleable__control:checked~label.sk-toggleable__label-arrow:before {content: \"▾\";}#sk-container-id-278 div.sk-estimator input.sk-toggleable__control:checked~label.sk-toggleable__label {background-color: #d4ebff;}#sk-container-id-278 div.sk-label input.sk-toggleable__control:checked~label.sk-toggleable__label {background-color: #d4ebff;}#sk-container-id-278 input.sk-hidden--visually {border: 0;clip: rect(1px 1px 1px 1px);clip: rect(1px, 1px, 1px, 1px);height: 1px;margin: -1px;overflow: hidden;padding: 0;position: absolute;width: 1px;}#sk-container-id-278 div.sk-estimator {font-family: monospace;background-color: #f0f8ff;border: 1px dotted black;border-radius: 0.25em;box-sizing: border-box;margin-bottom: 0.5em;}#sk-container-id-278 div.sk-estimator:hover {background-color: #d4ebff;}#sk-container-id-278 div.sk-parallel-item::after {content: \"\";width: 100%;border-bottom: 1px solid gray;flex-grow: 1;}#sk-container-id-278 div.sk-label:hover label.sk-toggleable__label {background-color: #d4ebff;}#sk-container-id-278 div.sk-serial::before {content: \"\";position: absolute;border-left: 1px solid gray;box-sizing: border-box;top: 0;bottom: 0;left: 50%;z-index: 0;}#sk-container-id-278 div.sk-serial {display: flex;flex-direction: column;align-items: center;background-color: white;padding-right: 0.2em;padding-left: 0.2em;position: relative;}#sk-container-id-278 div.sk-item {position: relative;z-index: 1;}#sk-container-id-278 div.sk-parallel {display: flex;align-items: stretch;justify-content: center;background-color: white;position: relative;}#sk-container-id-278 div.sk-item::before, #sk-container-id-278 div.sk-parallel-item::before {content: \"\";position: absolute;border-left: 1px solid gray;box-sizing: border-box;top: 0;bottom: 0;left: 50%;z-index: -1;}#sk-container-id-278 div.sk-parallel-item {display: flex;flex-direction: column;z-index: 1;position: relative;background-color: white;}#sk-container-id-278 div.sk-parallel-item:first-child::after {align-self: flex-end;width: 50%;}#sk-container-id-278 div.sk-parallel-item:last-child::after {align-self: flex-start;width: 50%;}#sk-container-id-278 div.sk-parallel-item:only-child::after {width: 0;}#sk-container-id-278 div.sk-dashed-wrapped {border: 1px dashed gray;margin: 0 0.4em 0.5em 0.4em;box-sizing: border-box;padding-bottom: 0.4em;background-color: white;}#sk-container-id-278 div.sk-label label {font-family: monospace;font-weight: bold;display: inline-block;line-height: 1.2em;}#sk-container-id-278 div.sk-label-container {text-align: center;}#sk-container-id-278 div.sk-container {/* jupyter's `normalize.less` sets `[hidden] { display: none; }` but bootstrap.min.css set `[hidden] { display: none !important; }` so we also need the `!important` here to be able to override the default hidden behavior on the sphinx rendered scikit-learn.org. See: https://github.com/scikit-learn/scikit-learn/issues/21755 */display: inline-block !important;position: relative;}#sk-container-id-278 div.sk-text-repr-fallback {display: none;}</style><div id=\"sk-container-id-278\" class=\"sk-top-container\"><div class=\"sk-text-repr-fallback\"><pre>RandomForestRegressor(random_state=42)</pre><b>In a Jupyter environment, please rerun this cell to show the HTML representation or trust the notebook. <br />On GitHub, the HTML representation is unable to render, please try loading this page with nbviewer.org.</b></div><div class=\"sk-container\" hidden><div class=\"sk-item\"><div class=\"sk-estimator sk-toggleable\"><input class=\"sk-toggleable__control sk-hidden--visually\" id=\"sk-estimator-id-328\" type=\"checkbox\" checked><label for=\"sk-estimator-id-328\" class=\"sk-toggleable__label sk-toggleable__label-arrow\">RandomForestRegressor</label><div class=\"sk-toggleable__content\"><pre>RandomForestRegressor(random_state=42)</pre></div></div></div></div></div>"
      ],
      "text/plain": [
       "RandomForestRegressor(random_state=42)"
      ]
     },
     "execution_count": 846,
     "metadata": {},
     "output_type": "execute_result"
    },
    {
     "name": "stdout",
     "output_type": "stream",
     "text": [
      "MSE pour l'entrainement: 7.228244887128283\n",
      "MSE pour le test: 52.01324184884633\n"
     ]
    },
    {
     "data": {
      "text/html": [
       "<style>#sk-container-id-279 {color: black;background-color: white;}#sk-container-id-279 pre{padding: 0;}#sk-container-id-279 div.sk-toggleable {background-color: white;}#sk-container-id-279 label.sk-toggleable__label {cursor: pointer;display: block;width: 100%;margin-bottom: 0;padding: 0.3em;box-sizing: border-box;text-align: center;}#sk-container-id-279 label.sk-toggleable__label-arrow:before {content: \"▸\";float: left;margin-right: 0.25em;color: #696969;}#sk-container-id-279 label.sk-toggleable__label-arrow:hover:before {color: black;}#sk-container-id-279 div.sk-estimator:hover label.sk-toggleable__label-arrow:before {color: black;}#sk-container-id-279 div.sk-toggleable__content {max-height: 0;max-width: 0;overflow: hidden;text-align: left;background-color: #f0f8ff;}#sk-container-id-279 div.sk-toggleable__content pre {margin: 0.2em;color: black;border-radius: 0.25em;background-color: #f0f8ff;}#sk-container-id-279 input.sk-toggleable__control:checked~div.sk-toggleable__content {max-height: 200px;max-width: 100%;overflow: auto;}#sk-container-id-279 input.sk-toggleable__control:checked~label.sk-toggleable__label-arrow:before {content: \"▾\";}#sk-container-id-279 div.sk-estimator input.sk-toggleable__control:checked~label.sk-toggleable__label {background-color: #d4ebff;}#sk-container-id-279 div.sk-label input.sk-toggleable__control:checked~label.sk-toggleable__label {background-color: #d4ebff;}#sk-container-id-279 input.sk-hidden--visually {border: 0;clip: rect(1px 1px 1px 1px);clip: rect(1px, 1px, 1px, 1px);height: 1px;margin: -1px;overflow: hidden;padding: 0;position: absolute;width: 1px;}#sk-container-id-279 div.sk-estimator {font-family: monospace;background-color: #f0f8ff;border: 1px dotted black;border-radius: 0.25em;box-sizing: border-box;margin-bottom: 0.5em;}#sk-container-id-279 div.sk-estimator:hover {background-color: #d4ebff;}#sk-container-id-279 div.sk-parallel-item::after {content: \"\";width: 100%;border-bottom: 1px solid gray;flex-grow: 1;}#sk-container-id-279 div.sk-label:hover label.sk-toggleable__label {background-color: #d4ebff;}#sk-container-id-279 div.sk-serial::before {content: \"\";position: absolute;border-left: 1px solid gray;box-sizing: border-box;top: 0;bottom: 0;left: 50%;z-index: 0;}#sk-container-id-279 div.sk-serial {display: flex;flex-direction: column;align-items: center;background-color: white;padding-right: 0.2em;padding-left: 0.2em;position: relative;}#sk-container-id-279 div.sk-item {position: relative;z-index: 1;}#sk-container-id-279 div.sk-parallel {display: flex;align-items: stretch;justify-content: center;background-color: white;position: relative;}#sk-container-id-279 div.sk-item::before, #sk-container-id-279 div.sk-parallel-item::before {content: \"\";position: absolute;border-left: 1px solid gray;box-sizing: border-box;top: 0;bottom: 0;left: 50%;z-index: -1;}#sk-container-id-279 div.sk-parallel-item {display: flex;flex-direction: column;z-index: 1;position: relative;background-color: white;}#sk-container-id-279 div.sk-parallel-item:first-child::after {align-self: flex-end;width: 50%;}#sk-container-id-279 div.sk-parallel-item:last-child::after {align-self: flex-start;width: 50%;}#sk-container-id-279 div.sk-parallel-item:only-child::after {width: 0;}#sk-container-id-279 div.sk-dashed-wrapped {border: 1px dashed gray;margin: 0 0.4em 0.5em 0.4em;box-sizing: border-box;padding-bottom: 0.4em;background-color: white;}#sk-container-id-279 div.sk-label label {font-family: monospace;font-weight: bold;display: inline-block;line-height: 1.2em;}#sk-container-id-279 div.sk-label-container {text-align: center;}#sk-container-id-279 div.sk-container {/* jupyter's `normalize.less` sets `[hidden] { display: none; }` but bootstrap.min.css set `[hidden] { display: none !important; }` so we also need the `!important` here to be able to override the default hidden behavior on the sphinx rendered scikit-learn.org. See: https://github.com/scikit-learn/scikit-learn/issues/21755 */display: inline-block !important;position: relative;}#sk-container-id-279 div.sk-text-repr-fallback {display: none;}</style><div id=\"sk-container-id-279\" class=\"sk-top-container\"><div class=\"sk-text-repr-fallback\"><pre>RandomForestRegressor(random_state=42)</pre><b>In a Jupyter environment, please rerun this cell to show the HTML representation or trust the notebook. <br />On GitHub, the HTML representation is unable to render, please try loading this page with nbviewer.org.</b></div><div class=\"sk-container\" hidden><div class=\"sk-item\"><div class=\"sk-estimator sk-toggleable\"><input class=\"sk-toggleable__control sk-hidden--visually\" id=\"sk-estimator-id-329\" type=\"checkbox\" checked><label for=\"sk-estimator-id-329\" class=\"sk-toggleable__label sk-toggleable__label-arrow\">RandomForestRegressor</label><div class=\"sk-toggleable__content\"><pre>RandomForestRegressor(random_state=42)</pre></div></div></div></div></div>"
      ],
      "text/plain": [
       "RandomForestRegressor(random_state=42)"
      ]
     },
     "execution_count": 846,
     "metadata": {},
     "output_type": "execute_result"
    },
    {
     "name": "stdout",
     "output_type": "stream",
     "text": [
      "MSE pour l'entrainement: 7.261885661271308\n",
      "MSE pour le test: 56.51997107672491\n"
     ]
    },
    {
     "data": {
      "text/html": [
       "<style>#sk-container-id-280 {color: black;background-color: white;}#sk-container-id-280 pre{padding: 0;}#sk-container-id-280 div.sk-toggleable {background-color: white;}#sk-container-id-280 label.sk-toggleable__label {cursor: pointer;display: block;width: 100%;margin-bottom: 0;padding: 0.3em;box-sizing: border-box;text-align: center;}#sk-container-id-280 label.sk-toggleable__label-arrow:before {content: \"▸\";float: left;margin-right: 0.25em;color: #696969;}#sk-container-id-280 label.sk-toggleable__label-arrow:hover:before {color: black;}#sk-container-id-280 div.sk-estimator:hover label.sk-toggleable__label-arrow:before {color: black;}#sk-container-id-280 div.sk-toggleable__content {max-height: 0;max-width: 0;overflow: hidden;text-align: left;background-color: #f0f8ff;}#sk-container-id-280 div.sk-toggleable__content pre {margin: 0.2em;color: black;border-radius: 0.25em;background-color: #f0f8ff;}#sk-container-id-280 input.sk-toggleable__control:checked~div.sk-toggleable__content {max-height: 200px;max-width: 100%;overflow: auto;}#sk-container-id-280 input.sk-toggleable__control:checked~label.sk-toggleable__label-arrow:before {content: \"▾\";}#sk-container-id-280 div.sk-estimator input.sk-toggleable__control:checked~label.sk-toggleable__label {background-color: #d4ebff;}#sk-container-id-280 div.sk-label input.sk-toggleable__control:checked~label.sk-toggleable__label {background-color: #d4ebff;}#sk-container-id-280 input.sk-hidden--visually {border: 0;clip: rect(1px 1px 1px 1px);clip: rect(1px, 1px, 1px, 1px);height: 1px;margin: -1px;overflow: hidden;padding: 0;position: absolute;width: 1px;}#sk-container-id-280 div.sk-estimator {font-family: monospace;background-color: #f0f8ff;border: 1px dotted black;border-radius: 0.25em;box-sizing: border-box;margin-bottom: 0.5em;}#sk-container-id-280 div.sk-estimator:hover {background-color: #d4ebff;}#sk-container-id-280 div.sk-parallel-item::after {content: \"\";width: 100%;border-bottom: 1px solid gray;flex-grow: 1;}#sk-container-id-280 div.sk-label:hover label.sk-toggleable__label {background-color: #d4ebff;}#sk-container-id-280 div.sk-serial::before {content: \"\";position: absolute;border-left: 1px solid gray;box-sizing: border-box;top: 0;bottom: 0;left: 50%;z-index: 0;}#sk-container-id-280 div.sk-serial {display: flex;flex-direction: column;align-items: center;background-color: white;padding-right: 0.2em;padding-left: 0.2em;position: relative;}#sk-container-id-280 div.sk-item {position: relative;z-index: 1;}#sk-container-id-280 div.sk-parallel {display: flex;align-items: stretch;justify-content: center;background-color: white;position: relative;}#sk-container-id-280 div.sk-item::before, #sk-container-id-280 div.sk-parallel-item::before {content: \"\";position: absolute;border-left: 1px solid gray;box-sizing: border-box;top: 0;bottom: 0;left: 50%;z-index: -1;}#sk-container-id-280 div.sk-parallel-item {display: flex;flex-direction: column;z-index: 1;position: relative;background-color: white;}#sk-container-id-280 div.sk-parallel-item:first-child::after {align-self: flex-end;width: 50%;}#sk-container-id-280 div.sk-parallel-item:last-child::after {align-self: flex-start;width: 50%;}#sk-container-id-280 div.sk-parallel-item:only-child::after {width: 0;}#sk-container-id-280 div.sk-dashed-wrapped {border: 1px dashed gray;margin: 0 0.4em 0.5em 0.4em;box-sizing: border-box;padding-bottom: 0.4em;background-color: white;}#sk-container-id-280 div.sk-label label {font-family: monospace;font-weight: bold;display: inline-block;line-height: 1.2em;}#sk-container-id-280 div.sk-label-container {text-align: center;}#sk-container-id-280 div.sk-container {/* jupyter's `normalize.less` sets `[hidden] { display: none; }` but bootstrap.min.css set `[hidden] { display: none !important; }` so we also need the `!important` here to be able to override the default hidden behavior on the sphinx rendered scikit-learn.org. See: https://github.com/scikit-learn/scikit-learn/issues/21755 */display: inline-block !important;position: relative;}#sk-container-id-280 div.sk-text-repr-fallback {display: none;}</style><div id=\"sk-container-id-280\" class=\"sk-top-container\"><div class=\"sk-text-repr-fallback\"><pre>RandomForestRegressor(random_state=42)</pre><b>In a Jupyter environment, please rerun this cell to show the HTML representation or trust the notebook. <br />On GitHub, the HTML representation is unable to render, please try loading this page with nbviewer.org.</b></div><div class=\"sk-container\" hidden><div class=\"sk-item\"><div class=\"sk-estimator sk-toggleable\"><input class=\"sk-toggleable__control sk-hidden--visually\" id=\"sk-estimator-id-330\" type=\"checkbox\" checked><label for=\"sk-estimator-id-330\" class=\"sk-toggleable__label sk-toggleable__label-arrow\">RandomForestRegressor</label><div class=\"sk-toggleable__content\"><pre>RandomForestRegressor(random_state=42)</pre></div></div></div></div></div>"
      ],
      "text/plain": [
       "RandomForestRegressor(random_state=42)"
      ]
     },
     "execution_count": 846,
     "metadata": {},
     "output_type": "execute_result"
    },
    {
     "name": "stdout",
     "output_type": "stream",
     "text": [
      "MSE pour l'entrainement: 7.328073097501861\n",
      "MSE pour le test: 52.28129427472616\n",
      "Moyenne MSE pour les données d'entraînement: 7.345219111062813\n",
      "Moyenne MSE pour les données de test: 52.2052868731919\n"
     ]
    }
   ],
   "source": [
    "# Utilisation de Kfold\n",
    "from sklearn.model_selection import KFold, cross_val_score\n",
    "\n",
    "model = RandomForestRegressor(n_estimators=100, max_depth=None, random_state=42)\n",
    "X = new_datas[['Longitude', 'Latitude', 'Speed','Acceleration', 'LaneMaxSpeed', 'ActionVehicleAhead',\n",
    "                 'action_accelerate', 'action_decelerate', 'action_stop',  'ActionParam', 'ActionDuration']]\n",
    "y = new_datas['y_travel']\n",
    "\n",
    "kf = KFold(n_splits=10\n",
    "           , shuffle=True, random_state=42)\n",
    "\n",
    "train_mse_scores = []\n",
    "test_mse_scores = []\n",
    "\n",
    "for train_index, test_index in kf.split(X):\n",
    "    X_train, X_test = X.iloc[train_index], X.iloc[test_index]\n",
    "    y_train, y_test = y.iloc[train_index], y.iloc[test_index]\n",
    "\n",
    "    model.fit(X_train, y_train)\n",
    "\n",
    "    # Prédire sur l'ensemble d'entraînement\n",
    "    y_train_pred = model.predict(X_train)\n",
    "    \n",
    "    # Prédire sur l'ensemble de test\n",
    "    y_test_pred = model.predict(X_test)\n",
    "    \n",
    "    # Calculer la MSE pour l'ensemble d'entraînement\n",
    "    train_mse = mean_squared_error(y_train, y_train_pred)\n",
    "    \n",
    "    # Calculer la MSE pour l'ensemble de test\n",
    "    test_mse = mean_squared_error(y_test, y_test_pred)\n",
    "\n",
    "    print(f\"MSE pour l'entrainement: {train_mse}\")\n",
    "    print(f\"MSE pour le test: {test_mse}\")\n",
    "\n",
    "    train_mse_scores.append(train_mse)\n",
    "    test_mse_scores.append(test_mse)\n",
    "\n",
    "# Calculer la moyenne des MSE pour chaque pli\n",
    "avg_train_mse = np.mean(train_mse_scores)\n",
    "avg_test_mse = np.mean(test_mse_scores)\n",
    "\n",
    "\n",
    "print(f'Moyenne MSE pour les données d\\'entraînement: {avg_train_mse}')\n",
    "print(f'Moyenne MSE pour les données de test: {avg_test_mse}')"
   ]
  },
  {
   "cell_type": "code",
   "execution_count": null,
   "metadata": {},
   "outputs": [
    {
     "data": {
      "text/html": [
       "<div>\n",
       "<style scoped>\n",
       "    .dataframe tbody tr th:only-of-type {\n",
       "        vertical-align: middle;\n",
       "    }\n",
       "\n",
       "    .dataframe tbody tr th {\n",
       "        vertical-align: top;\n",
       "    }\n",
       "\n",
       "    .dataframe thead th {\n",
       "        text-align: right;\n",
       "    }\n",
       "</style>\n",
       "<table border=\"1\" class=\"dataframe\">\n",
       "  <thead>\n",
       "    <tr style=\"text-align: right;\">\n",
       "      <th></th>\n",
       "      <th>Longitude</th>\n",
       "      <th>Latitude</th>\n",
       "      <th>Speed</th>\n",
       "      <th>Acceleration</th>\n",
       "      <th>LaneMaxSpeed</th>\n",
       "      <th>ActionVehicleAhead</th>\n",
       "      <th>action_accelerate</th>\n",
       "      <th>action_decelerate</th>\n",
       "      <th>action_stop</th>\n",
       "      <th>ActionParam</th>\n",
       "      <th>ActionDuration</th>\n",
       "      <th>y_train</th>\n",
       "      <th>y_train_pred</th>\n",
       "      <th>squared_error</th>\n",
       "      <th>Outlier</th>\n",
       "    </tr>\n",
       "  </thead>\n",
       "  <tbody>\n",
       "    <tr>\n",
       "      <th>0</th>\n",
       "      <td>1.079480</td>\n",
       "      <td>-0.820138</td>\n",
       "      <td>1.448653</td>\n",
       "      <td>2.045024</td>\n",
       "      <td>-0.719768</td>\n",
       "      <td>-1.131376</td>\n",
       "      <td>-0.757492</td>\n",
       "      <td>1.443973</td>\n",
       "      <td>-0.672262</td>\n",
       "      <td>2.080065</td>\n",
       "      <td>-1.254233</td>\n",
       "      <td>-1.0</td>\n",
       "      <td>-3.42</td>\n",
       "      <td>5.8564</td>\n",
       "      <td>-1</td>\n",
       "    </tr>\n",
       "    <tr>\n",
       "      <th>5</th>\n",
       "      <td>-1.635845</td>\n",
       "      <td>1.916380</td>\n",
       "      <td>1.354226</td>\n",
       "      <td>0.689445</td>\n",
       "      <td>-1.093975</td>\n",
       "      <td>0.557570</td>\n",
       "      <td>-0.757492</td>\n",
       "      <td>1.443973</td>\n",
       "      <td>-0.672262</td>\n",
       "      <td>0.468886</td>\n",
       "      <td>0.710386</td>\n",
       "      <td>-13.0</td>\n",
       "      <td>-12.62</td>\n",
       "      <td>0.1444</td>\n",
       "      <td>-1</td>\n",
       "    </tr>\n",
       "    <tr>\n",
       "      <th>12</th>\n",
       "      <td>1.400597</td>\n",
       "      <td>-0.383946</td>\n",
       "      <td>-0.086773</td>\n",
       "      <td>-0.318417</td>\n",
       "      <td>3.611673</td>\n",
       "      <td>0.557570</td>\n",
       "      <td>-0.757492</td>\n",
       "      <td>1.443973</td>\n",
       "      <td>-0.672262</td>\n",
       "      <td>1.438694</td>\n",
       "      <td>-0.162778</td>\n",
       "      <td>-29.0</td>\n",
       "      <td>-27.99</td>\n",
       "      <td>1.0201</td>\n",
       "      <td>-1</td>\n",
       "    </tr>\n",
       "    <tr>\n",
       "      <th>29</th>\n",
       "      <td>1.681003</td>\n",
       "      <td>-0.662382</td>\n",
       "      <td>0.820884</td>\n",
       "      <td>0.619985</td>\n",
       "      <td>-0.719768</td>\n",
       "      <td>2.246515</td>\n",
       "      <td>-0.757492</td>\n",
       "      <td>1.443973</td>\n",
       "      <td>-0.672262</td>\n",
       "      <td>2.135715</td>\n",
       "      <td>0.492095</td>\n",
       "      <td>-36.0</td>\n",
       "      <td>-32.25</td>\n",
       "      <td>14.0625</td>\n",
       "      <td>-1</td>\n",
       "    </tr>\n",
       "    <tr>\n",
       "      <th>35</th>\n",
       "      <td>-0.870015</td>\n",
       "      <td>-1.498966</td>\n",
       "      <td>-1.786134</td>\n",
       "      <td>0.681805</td>\n",
       "      <td>1.014055</td>\n",
       "      <td>2.246515</td>\n",
       "      <td>-0.757492</td>\n",
       "      <td>1.443973</td>\n",
       "      <td>-0.672262</td>\n",
       "      <td>0.570882</td>\n",
       "      <td>-0.381069</td>\n",
       "      <td>-27.0</td>\n",
       "      <td>-27.91</td>\n",
       "      <td>0.8281</td>\n",
       "      <td>-1</td>\n",
       "    </tr>\n",
       "    <tr>\n",
       "      <th>...</th>\n",
       "      <td>...</td>\n",
       "      <td>...</td>\n",
       "      <td>...</td>\n",
       "      <td>...</td>\n",
       "      <td>...</td>\n",
       "      <td>...</td>\n",
       "      <td>...</td>\n",
       "      <td>...</td>\n",
       "      <td>...</td>\n",
       "      <td>...</td>\n",
       "      <td>...</td>\n",
       "      <td>...</td>\n",
       "      <td>...</td>\n",
       "      <td>...</td>\n",
       "      <td>...</td>\n",
       "    </tr>\n",
       "    <tr>\n",
       "      <th>4320</th>\n",
       "      <td>-0.839155</td>\n",
       "      <td>-1.470246</td>\n",
       "      <td>-1.038980</td>\n",
       "      <td>1.776363</td>\n",
       "      <td>1.014055</td>\n",
       "      <td>0.557570</td>\n",
       "      <td>-0.757492</td>\n",
       "      <td>1.443973</td>\n",
       "      <td>-0.672262</td>\n",
       "      <td>2.027641</td>\n",
       "      <td>-1.690815</td>\n",
       "      <td>-15.0</td>\n",
       "      <td>-13.91</td>\n",
       "      <td>1.1881</td>\n",
       "      <td>-1</td>\n",
       "    </tr>\n",
       "    <tr>\n",
       "      <th>4334</th>\n",
       "      <td>-2.282601</td>\n",
       "      <td>1.326300</td>\n",
       "      <td>1.247892</td>\n",
       "      <td>-0.087424</td>\n",
       "      <td>-0.719768</td>\n",
       "      <td>-1.131376</td>\n",
       "      <td>-0.757492</td>\n",
       "      <td>1.443973</td>\n",
       "      <td>-0.672262</td>\n",
       "      <td>2.261642</td>\n",
       "      <td>0.928677</td>\n",
       "      <td>-7.0</td>\n",
       "      <td>-6.20</td>\n",
       "      <td>0.6400</td>\n",
       "      <td>-1</td>\n",
       "    </tr>\n",
       "    <tr>\n",
       "      <th>4369</th>\n",
       "      <td>1.399577</td>\n",
       "      <td>-0.383696</td>\n",
       "      <td>0.300190</td>\n",
       "      <td>-1.372938</td>\n",
       "      <td>3.611673</td>\n",
       "      <td>0.557570</td>\n",
       "      <td>-0.757492</td>\n",
       "      <td>1.443973</td>\n",
       "      <td>-0.672262</td>\n",
       "      <td>1.051158</td>\n",
       "      <td>-1.690815</td>\n",
       "      <td>-27.0</td>\n",
       "      <td>-25.28</td>\n",
       "      <td>2.9584</td>\n",
       "      <td>-1</td>\n",
       "    </tr>\n",
       "    <tr>\n",
       "      <th>4372</th>\n",
       "      <td>1.079480</td>\n",
       "      <td>-0.820138</td>\n",
       "      <td>1.448653</td>\n",
       "      <td>2.045024</td>\n",
       "      <td>-0.719768</td>\n",
       "      <td>-1.131376</td>\n",
       "      <td>-0.757492</td>\n",
       "      <td>1.443973</td>\n",
       "      <td>-0.672262</td>\n",
       "      <td>1.906577</td>\n",
       "      <td>1.583550</td>\n",
       "      <td>1.0</td>\n",
       "      <td>-2.32</td>\n",
       "      <td>11.0224</td>\n",
       "      <td>-1</td>\n",
       "    </tr>\n",
       "    <tr>\n",
       "      <th>4379</th>\n",
       "      <td>-2.360394</td>\n",
       "      <td>1.290706</td>\n",
       "      <td>1.418752</td>\n",
       "      <td>1.371983</td>\n",
       "      <td>-0.719768</td>\n",
       "      <td>-1.131376</td>\n",
       "      <td>-0.757492</td>\n",
       "      <td>1.443973</td>\n",
       "      <td>-0.672262</td>\n",
       "      <td>2.015796</td>\n",
       "      <td>1.583550</td>\n",
       "      <td>-3.0</td>\n",
       "      <td>-4.41</td>\n",
       "      <td>1.9881</td>\n",
       "      <td>-1</td>\n",
       "    </tr>\n",
       "  </tbody>\n",
       "</table>\n",
       "<p>155 rows × 15 columns</p>\n",
       "</div>"
      ],
      "text/plain": [
       "      Longitude  Latitude     Speed  Acceleration  LaneMaxSpeed  \\\n",
       "0      1.079480 -0.820138  1.448653      2.045024     -0.719768   \n",
       "5     -1.635845  1.916380  1.354226      0.689445     -1.093975   \n",
       "12     1.400597 -0.383946 -0.086773     -0.318417      3.611673   \n",
       "29     1.681003 -0.662382  0.820884      0.619985     -0.719768   \n",
       "35    -0.870015 -1.498966 -1.786134      0.681805      1.014055   \n",
       "...         ...       ...       ...           ...           ...   \n",
       "4320  -0.839155 -1.470246 -1.038980      1.776363      1.014055   \n",
       "4334  -2.282601  1.326300  1.247892     -0.087424     -0.719768   \n",
       "4369   1.399577 -0.383696  0.300190     -1.372938      3.611673   \n",
       "4372   1.079480 -0.820138  1.448653      2.045024     -0.719768   \n",
       "4379  -2.360394  1.290706  1.418752      1.371983     -0.719768   \n",
       "\n",
       "      ActionVehicleAhead  action_accelerate  action_decelerate  action_stop  \\\n",
       "0              -1.131376          -0.757492           1.443973    -0.672262   \n",
       "5               0.557570          -0.757492           1.443973    -0.672262   \n",
       "12              0.557570          -0.757492           1.443973    -0.672262   \n",
       "29              2.246515          -0.757492           1.443973    -0.672262   \n",
       "35              2.246515          -0.757492           1.443973    -0.672262   \n",
       "...                  ...                ...                ...          ...   \n",
       "4320            0.557570          -0.757492           1.443973    -0.672262   \n",
       "4334           -1.131376          -0.757492           1.443973    -0.672262   \n",
       "4369            0.557570          -0.757492           1.443973    -0.672262   \n",
       "4372           -1.131376          -0.757492           1.443973    -0.672262   \n",
       "4379           -1.131376          -0.757492           1.443973    -0.672262   \n",
       "\n",
       "      ActionParam  ActionDuration  y_train  y_train_pred  squared_error  \\\n",
       "0        2.080065       -1.254233     -1.0         -3.42         5.8564   \n",
       "5        0.468886        0.710386    -13.0        -12.62         0.1444   \n",
       "12       1.438694       -0.162778    -29.0        -27.99         1.0201   \n",
       "29       2.135715        0.492095    -36.0        -32.25        14.0625   \n",
       "35       0.570882       -0.381069    -27.0        -27.91         0.8281   \n",
       "...           ...             ...      ...           ...            ...   \n",
       "4320     2.027641       -1.690815    -15.0        -13.91         1.1881   \n",
       "4334     2.261642        0.928677     -7.0         -6.20         0.6400   \n",
       "4369     1.051158       -1.690815    -27.0        -25.28         2.9584   \n",
       "4372     1.906577        1.583550      1.0         -2.32        11.0224   \n",
       "4379     2.015796        1.583550     -3.0         -4.41         1.9881   \n",
       "\n",
       "      Outlier  \n",
       "0          -1  \n",
       "5          -1  \n",
       "12         -1  \n",
       "29         -1  \n",
       "35         -1  \n",
       "...       ...  \n",
       "4320       -1  \n",
       "4334       -1  \n",
       "4369       -1  \n",
       "4372       -1  \n",
       "4379       -1  \n",
       "\n",
       "[155 rows x 15 columns]"
      ]
     },
     "execution_count": 671,
     "metadata": {},
     "output_type": "execute_result"
    }
   ],
   "source": [
    "outliers_df[outliers_df['action_decelerate'] > 0]"
   ]
  },
  {
   "cell_type": "markdown",
   "metadata": {},
   "source": [
    "### Deep Learning"
   ]
  },
  {
   "cell_type": "code",
   "execution_count": null,
   "metadata": {},
   "outputs": [],
   "source": [
    "import torch\n",
    "import torch.nn as nn\n",
    "import torch.optim as optim\n",
    "from torch.utils.data import DataLoader, TensorDataset\n",
    "from sklearn.model_selection import train_test_split\n",
    "from sklearn.metrics import mean_squared_error, r2_score\n",
    "from sklearn.datasets import make_regression\n",
    "import matplotlib.pyplot as plt\n",
    "import numpy as np\n",
    "import tqdm\n",
    "import time"
   ]
  },
  {
   "cell_type": "code",
   "execution_count": null,
   "metadata": {},
   "outputs": [
    {
     "name": "stdout",
     "output_type": "stream",
     "text": [
      "Using device: cpu\n"
     ]
    }
   ],
   "source": [
    "device = \"cuda\" if torch.cuda.is_available() else \"cpu\"\n",
    "print(f\"Using device: {device}\")"
   ]
  },
  {
   "cell_type": "code",
   "execution_count": null,
   "metadata": {},
   "outputs": [],
   "source": [
    "# torch.manuel_seed(42)"
   ]
  },
  {
   "cell_type": "code",
   "execution_count": null,
   "metadata": {},
   "outputs": [
    {
     "name": "stderr",
     "output_type": "stream",
     "text": [
      "C:\\Users\\USER\\AppData\\Local\\Temp/ipykernel_19036/162567125.py:2: UserWarning: To copy construct from a tensor, it is recommended to use sourceTensor.clone().detach() or sourceTensor.clone().detach().requires_grad_(True), rather than torch.tensor(sourceTensor).\n",
      "  X_train = torch.tensor(X_train, dtype=torch.float32)\n",
      "C:\\Users\\USER\\AppData\\Local\\Temp/ipykernel_19036/162567125.py:3: UserWarning: To copy construct from a tensor, it is recommended to use sourceTensor.clone().detach() or sourceTensor.clone().detach().requires_grad_(True), rather than torch.tensor(sourceTensor).\n",
      "  X_test = torch.tensor(X_test, dtype=torch.float32)\n"
     ]
    }
   ],
   "source": [
    "# Convertir les données en tensors PyTorch\n",
    "X_train = torch.tensor(X_train, dtype=torch.float32)\n",
    "X_test = torch.tensor(X_test, dtype=torch.float32)\n",
    "y_train = torch.tensor([[y] for y in y_train], dtype=torch.float32).to(device)\n",
    "y_test = torch.tensor([[y] for y in y_test], dtype=torch.float32).to(device)"
   ]
  },
  {
   "cell_type": "code",
   "execution_count": null,
   "metadata": {},
   "outputs": [],
   "source": [
    "class TravelModel(nn.Module):\n",
    "    def __init__(self, input_dim, output_dim):\n",
    "        super(TravelModel, self).__init__()\n",
    "        self.layer1 = nn.Linear(input_dim, 16)\n",
    "        self.layer2 = nn.Linear(16, 32)\n",
    "        self.layer3 = nn.Linear(32, 64)\n",
    "        self.layer4 = nn.Linear(64, 64)\n",
    "        self.output_layer = nn.Linear(64, output_dim)\n",
    "        \n",
    "    def forward(self, x):\n",
    "        x = torch.relu(self.layer1(x))\n",
    "        x = torch.relu(self.layer2(x))\n",
    "        x = torch.relu(self.layer3(x))\n",
    "        x = torch.tanh(self.layer4(x))\n",
    "        x = self.output_layer(x)\n",
    "        return x\n",
    "\n",
    "input_dim = X_train.shape[1]\n",
    "output_dim = y_train.shape[1]\n",
    "model = TravelModel(input_dim, output_dim).to(device)\n"
   ]
  },
  {
   "cell_type": "code",
   "execution_count": null,
   "metadata": {},
   "outputs": [],
   "source": [
    "BATCH_SIZE = 16\n",
    "dataset_train = TensorDataset(X_train, y_train)\n",
    "dataloader_train = DataLoader(dataset_train, batch_size=BATCH_SIZE, shuffle=True)\n",
    "\n",
    "dataset_test = TensorDataset(X_test, y_test)\n",
    "dataloader_test = DataLoader(dataset_test, batch_size=BATCH_SIZE, shuffle=True)"
   ]
  },
  {
   "cell_type": "code",
   "execution_count": null,
   "metadata": {},
   "outputs": [],
   "source": [
    "loss_fn = nn.MSELoss()\n",
    "optimizer = optim.Adam(model.parameters(), lr=0.1)\n",
    "# es = EarlyStopping()"
   ]
  },
  {
   "cell_type": "code",
   "execution_count": null,
   "metadata": {},
   "outputs": [],
   "source": [
    "# # Entrainement du modele\n",
    "\n",
    "# num_epochs = 100\n",
    "# epoch_counts = []\n",
    "# # epoch = 0\n",
    "# train_losses = []\n",
    "# val_losses = []\n",
    "# done = False\n",
    "\n",
    "# for epoch in range(num_epochs):\n",
    "#     # epoch += 1\n",
    "#     # steps = list(enumerate(dataloader_train))\n",
    "#     # pbar = tqdm.tqdm(steps)\n",
    "#     # model.train()\n",
    "#     y_train_pred = model(X_train)\n",
    "#     train_loss = loss_fn(y_train_pred, y_train)\n",
    "#     optimizer.zero_grad()\n",
    "#     optimizer.step()\n",
    "\n",
    "#     # Evaluation\n",
    "#     model.eval()\n",
    "#     with torch.inference_mode():\n",
    "#         test_pred = model(X_test)\n",
    "#         val_loss = loss_fn(test_pred, X_test)\n",
    "\n",
    "\n",
    "#     if epoch %10 == 0:\n",
    "#         epoch_counts.append(epoch)\n",
    "#         train_losses.append(train_loss)\n",
    "#         val_losses.append(val_loss)\n",
    "#         print(f\"Epoch: {epoch} | Train Loss: {train_loss} | Test Loss: {val_loss}\")\n",
    "\n",
    "\n",
    "\n",
    "\n",
    "\n",
    "\n",
    "\n",
    "\n",
    "#     # for i, (x_batch, y_batch) in pbar:\n",
    "#     #     y_batch_pred = model(x_batch.to(device)).flatten()\n",
    "#     #     train_loss = criterion(y_batch_pred, y_batch)\n",
    "#     #     optimizer.zero_grad()\n",
    "#     #     train_loss.backward()\n",
    "#     #     optimizer.step()\n",
    "\n",
    "#     #     train_loss, current = train_loss.item(), (i + 1)*len(x_batch)\n",
    "#     #     if i == len(steps) -1 :\n",
    "#     #         model.eval()\n",
    "#     #         pred = model(X_test.to(device)).flatten()\n",
    "#     #         v_loss = criterion(pred, y_test)\n",
    "#     #         pbar.set_description(f'Epoch: {epoch}, tloss: {train_loss}, vloss: {v_loss:>7f}')\n",
    "#     #     else:\n",
    "#     #         pbar.set_description(f'Epoch: {epoch}, tloss: {train_loss}')\n",
    "    \n",
    "#     # model.eval()\n",
    "#     # y_val_pred = model(X_test)\n",
    "#     # val_loss = criterion(y_val_pred, y_test)\n",
    "    \n",
    "#     # train_losses.append(train_loss.item())\n",
    "#     # val_losses.append(val_loss.item())\n",
    "    \n",
    "#     # if (epoch+1) % 10 == 0:\n",
    "#     #     print(f'Epoch [{epoch+1}/{num_epochs}], Train Loss: {train_loss.item():.4f}')\n"
   ]
  },
  {
   "cell_type": "code",
   "execution_count": null,
   "metadata": {},
   "outputs": [],
   "source": [
    "from tensorflow.keras.models import Sequential\n",
    "from tensorflow.keras.layers import Dense, Dropout\n",
    "from tensorflow.keras.optimizers import Adam\n",
    "from sklearn.metrics import mean_squared_error, r2_score"
   ]
  },
  {
   "cell_type": "code",
   "execution_count": null,
   "metadata": {},
   "outputs": [
    {
     "name": "stdout",
     "output_type": "stream",
     "text": [
      "Epoch 1/100\n",
      "105/105 [==============================] - 1s 5ms/step - loss: 180.7995 - mse: 180.7995 - val_loss: 72.8427 - val_mse: 72.8427\n",
      "Epoch 2/100\n",
      "105/105 [==============================] - 1s 6ms/step - loss: 96.2115 - mse: 96.2115 - val_loss: 69.4575 - val_mse: 69.4575\n",
      "Epoch 3/100\n",
      "105/105 [==============================] - 1s 8ms/step - loss: 93.4986 - mse: 93.4986 - val_loss: 66.0074 - val_mse: 66.0074\n",
      "Epoch 4/100\n",
      "105/105 [==============================] - 1s 14ms/step - loss: 89.6597 - mse: 89.6597 - val_loss: 67.6569 - val_mse: 67.6569\n",
      "Epoch 5/100\n",
      "105/105 [==============================] - 1s 7ms/step - loss: 86.4879 - mse: 86.4879 - val_loss: 62.1838 - val_mse: 62.1838\n",
      "Epoch 6/100\n",
      "105/105 [==============================] - 1s 7ms/step - loss: 82.2271 - mse: 82.2271 - val_loss: 62.4009 - val_mse: 62.4009\n",
      "Epoch 7/100\n",
      "105/105 [==============================] - 1s 7ms/step - loss: 82.8064 - mse: 82.8064 - val_loss: 72.2175 - val_mse: 72.2175\n",
      "Epoch 8/100\n",
      "105/105 [==============================] - 1s 6ms/step - loss: 82.7043 - mse: 82.7043 - val_loss: 63.6957 - val_mse: 63.6957\n",
      "Epoch 9/100\n",
      "105/105 [==============================] - 1s 5ms/step - loss: 80.4686 - mse: 80.4686 - val_loss: 60.2083 - val_mse: 60.2083\n",
      "Epoch 10/100\n",
      "105/105 [==============================] - 1s 9ms/step - loss: 80.6715 - mse: 80.6715 - val_loss: 61.5190 - val_mse: 61.5190\n",
      "Epoch 11/100\n",
      "105/105 [==============================] - 1s 8ms/step - loss: 81.5782 - mse: 81.5782 - val_loss: 60.5326 - val_mse: 60.5326\n",
      "Epoch 12/100\n",
      "105/105 [==============================] - 1s 6ms/step - loss: 78.2191 - mse: 78.2191 - val_loss: 60.2264 - val_mse: 60.2264\n",
      "Epoch 13/100\n",
      "105/105 [==============================] - 1s 7ms/step - loss: 78.4807 - mse: 78.4807 - val_loss: 58.6700 - val_mse: 58.6700\n",
      "Epoch 14/100\n",
      "105/105 [==============================] - 1s 7ms/step - loss: 74.3917 - mse: 74.3917 - val_loss: 62.2670 - val_mse: 62.2670\n",
      "Epoch 15/100\n",
      "105/105 [==============================] - 1s 6ms/step - loss: 76.9527 - mse: 76.9527 - val_loss: 60.6538 - val_mse: 60.6538\n",
      "Epoch 16/100\n",
      "105/105 [==============================] - 0s 4ms/step - loss: 79.0421 - mse: 79.0421 - val_loss: 67.6488 - val_mse: 67.6488\n",
      "Epoch 17/100\n",
      "105/105 [==============================] - 1s 6ms/step - loss: 75.4211 - mse: 75.4211 - val_loss: 57.5456 - val_mse: 57.5456\n",
      "Epoch 18/100\n",
      "105/105 [==============================] - 1s 9ms/step - loss: 76.0550 - mse: 76.0550 - val_loss: 65.8068 - val_mse: 65.8068\n",
      "Epoch 19/100\n",
      "105/105 [==============================] - 1s 5ms/step - loss: 74.4835 - mse: 74.4835 - val_loss: 59.6851 - val_mse: 59.6851\n",
      "Epoch 20/100\n",
      "105/105 [==============================] - 0s 4ms/step - loss: 77.0822 - mse: 77.0822 - val_loss: 58.0648 - val_mse: 58.0648\n",
      "Epoch 21/100\n",
      "105/105 [==============================] - 0s 4ms/step - loss: 76.8180 - mse: 76.8180 - val_loss: 59.3961 - val_mse: 59.3961\n",
      "Epoch 22/100\n",
      "105/105 [==============================] - 0s 4ms/step - loss: 74.1056 - mse: 74.1056 - val_loss: 61.2193 - val_mse: 61.2193\n",
      "Epoch 23/100\n",
      "105/105 [==============================] - 0s 4ms/step - loss: 74.3449 - mse: 74.3449 - val_loss: 66.1432 - val_mse: 66.1432\n",
      "Epoch 24/100\n",
      "105/105 [==============================] - 0s 4ms/step - loss: 74.8042 - mse: 74.8042 - val_loss: 58.7485 - val_mse: 58.7485\n",
      "Epoch 25/100\n",
      "105/105 [==============================] - 1s 6ms/step - loss: 73.2309 - mse: 73.2309 - val_loss: 58.4187 - val_mse: 58.4187\n",
      "Epoch 26/100\n",
      "105/105 [==============================] - 0s 4ms/step - loss: 71.7188 - mse: 71.7188 - val_loss: 57.5371 - val_mse: 57.5371\n",
      "Epoch 27/100\n",
      "105/105 [==============================] - 1s 9ms/step - loss: 74.5516 - mse: 74.5516 - val_loss: 60.1111 - val_mse: 60.1111\n",
      "Epoch 28/100\n",
      "105/105 [==============================] - 0s 4ms/step - loss: 72.6325 - mse: 72.6325 - val_loss: 58.8967 - val_mse: 58.8967\n",
      "Epoch 29/100\n",
      "105/105 [==============================] - 1s 7ms/step - loss: 71.6868 - mse: 71.6868 - val_loss: 61.0601 - val_mse: 61.0601\n",
      "Epoch 30/100\n",
      "105/105 [==============================] - 1s 5ms/step - loss: 71.2076 - mse: 71.2076 - val_loss: 56.9557 - val_mse: 56.9557\n",
      "Epoch 31/100\n",
      "105/105 [==============================] - 1s 8ms/step - loss: 70.0328 - mse: 70.0328 - val_loss: 58.0755 - val_mse: 58.0755\n",
      "Epoch 32/100\n",
      "105/105 [==============================] - 1s 14ms/step - loss: 72.8506 - mse: 72.8506 - val_loss: 64.1979 - val_mse: 64.1979\n",
      "Epoch 33/100\n",
      "105/105 [==============================] - 1s 7ms/step - loss: 71.5341 - mse: 71.5341 - val_loss: 62.0280 - val_mse: 62.0280\n",
      "Epoch 34/100\n",
      "105/105 [==============================] - 1s 6ms/step - loss: 70.7600 - mse: 70.7600 - val_loss: 60.0738 - val_mse: 60.0738\n",
      "Epoch 35/100\n",
      "105/105 [==============================] - 1s 10ms/step - loss: 70.3747 - mse: 70.3747 - val_loss: 56.9731 - val_mse: 56.9731\n",
      "Epoch 36/100\n",
      "105/105 [==============================] - 1s 9ms/step - loss: 70.0997 - mse: 70.0997 - val_loss: 56.2615 - val_mse: 56.2615\n",
      "Epoch 37/100\n",
      "105/105 [==============================] - 1s 6ms/step - loss: 71.5795 - mse: 71.5795 - val_loss: 58.8175 - val_mse: 58.8175\n",
      "Epoch 38/100\n",
      "105/105 [==============================] - 1s 10ms/step - loss: 69.0218 - mse: 69.0218 - val_loss: 57.8360 - val_mse: 57.8360\n",
      "Epoch 39/100\n",
      "105/105 [==============================] - 1s 8ms/step - loss: 68.4479 - mse: 68.4479 - val_loss: 59.6337 - val_mse: 59.6337\n",
      "Epoch 40/100\n",
      "105/105 [==============================] - 1s 6ms/step - loss: 69.5482 - mse: 69.5482 - val_loss: 56.5949 - val_mse: 56.5949\n",
      "Epoch 41/100\n",
      "105/105 [==============================] - 1s 7ms/step - loss: 70.5622 - mse: 70.5622 - val_loss: 68.7591 - val_mse: 68.7591\n",
      "Epoch 42/100\n",
      "105/105 [==============================] - 1s 7ms/step - loss: 69.2744 - mse: 69.2744 - val_loss: 58.6399 - val_mse: 58.6399\n",
      "Epoch 43/100\n",
      "105/105 [==============================] - 1s 5ms/step - loss: 69.2596 - mse: 69.2596 - val_loss: 57.3648 - val_mse: 57.3648\n",
      "Epoch 44/100\n",
      "105/105 [==============================] - 1s 8ms/step - loss: 67.0873 - mse: 67.0873 - val_loss: 60.2915 - val_mse: 60.2915\n",
      "Epoch 45/100\n",
      "105/105 [==============================] - 1s 10ms/step - loss: 68.8026 - mse: 68.8026 - val_loss: 63.8179 - val_mse: 63.8179\n",
      "Epoch 46/100\n",
      "105/105 [==============================] - 1s 7ms/step - loss: 67.6288 - mse: 67.6288 - val_loss: 56.1658 - val_mse: 56.1658\n",
      "Epoch 47/100\n",
      "105/105 [==============================] - 1s 6ms/step - loss: 68.0412 - mse: 68.0412 - val_loss: 57.2931 - val_mse: 57.2931\n",
      "Epoch 48/100\n",
      "105/105 [==============================] - 1s 6ms/step - loss: 69.1773 - mse: 69.1773 - val_loss: 60.4201 - val_mse: 60.4201\n",
      "Epoch 49/100\n",
      "105/105 [==============================] - 1s 7ms/step - loss: 69.3361 - mse: 69.3361 - val_loss: 58.9500 - val_mse: 58.9500\n",
      "Epoch 50/100\n",
      "105/105 [==============================] - 1s 5ms/step - loss: 68.1603 - mse: 68.1603 - val_loss: 56.6343 - val_mse: 56.6343\n",
      "Epoch 51/100\n",
      "105/105 [==============================] - 1s 10ms/step - loss: 67.4953 - mse: 67.4953 - val_loss: 58.0999 - val_mse: 58.0999\n",
      "Epoch 52/100\n",
      "105/105 [==============================] - 1s 8ms/step - loss: 65.7969 - mse: 65.7969 - val_loss: 58.4010 - val_mse: 58.4010\n",
      "Epoch 53/100\n",
      "105/105 [==============================] - 1s 7ms/step - loss: 67.3814 - mse: 67.3814 - val_loss: 56.5176 - val_mse: 56.5176\n",
      "Epoch 54/100\n",
      "105/105 [==============================] - 1s 7ms/step - loss: 66.9133 - mse: 66.9133 - val_loss: 56.5184 - val_mse: 56.5184\n",
      "Epoch 55/100\n",
      "105/105 [==============================] - 1s 6ms/step - loss: 66.2221 - mse: 66.2221 - val_loss: 58.6520 - val_mse: 58.6520\n",
      "Epoch 56/100\n",
      "105/105 [==============================] - 1s 6ms/step - loss: 67.3104 - mse: 67.3104 - val_loss: 58.1320 - val_mse: 58.1320\n",
      "Epoch 57/100\n",
      "105/105 [==============================] - 0s 4ms/step - loss: 66.5869 - mse: 66.5869 - val_loss: 57.3163 - val_mse: 57.3163\n",
      "Epoch 58/100\n",
      "105/105 [==============================] - 1s 9ms/step - loss: 65.9597 - mse: 65.9597 - val_loss: 57.8594 - val_mse: 57.8594\n",
      "Epoch 59/100\n",
      "105/105 [==============================] - 1s 8ms/step - loss: 64.5837 - mse: 64.5837 - val_loss: 54.7144 - val_mse: 54.7144\n",
      "Epoch 60/100\n",
      "105/105 [==============================] - 1s 7ms/step - loss: 65.0037 - mse: 65.0037 - val_loss: 56.8257 - val_mse: 56.8257\n",
      "Epoch 61/100\n",
      "105/105 [==============================] - 1s 6ms/step - loss: 65.7433 - mse: 65.7433 - val_loss: 60.7013 - val_mse: 60.7013\n",
      "Epoch 62/100\n",
      "105/105 [==============================] - 1s 6ms/step - loss: 65.3396 - mse: 65.3396 - val_loss: 56.7604 - val_mse: 56.7604\n",
      "Epoch 63/100\n",
      "105/105 [==============================] - 0s 4ms/step - loss: 64.5220 - mse: 64.5220 - val_loss: 56.2360 - val_mse: 56.2360\n",
      "Epoch 64/100\n",
      "105/105 [==============================] - 0s 4ms/step - loss: 66.0907 - mse: 66.0907 - val_loss: 54.3922 - val_mse: 54.3922\n",
      "Epoch 65/100\n",
      "105/105 [==============================] - 0s 4ms/step - loss: 65.3904 - mse: 65.3904 - val_loss: 57.9315 - val_mse: 57.9315\n",
      "Epoch 66/100\n",
      "105/105 [==============================] - 1s 8ms/step - loss: 65.1254 - mse: 65.1254 - val_loss: 56.1092 - val_mse: 56.1092\n",
      "Epoch 67/100\n",
      "105/105 [==============================] - 1s 6ms/step - loss: 65.6464 - mse: 65.6464 - val_loss: 57.9147 - val_mse: 57.9147\n",
      "Epoch 68/100\n",
      "105/105 [==============================] - 0s 4ms/step - loss: 63.5767 - mse: 63.5767 - val_loss: 57.8483 - val_mse: 57.8483\n",
      "Epoch 69/100\n",
      "105/105 [==============================] - 0s 4ms/step - loss: 63.1772 - mse: 63.1772 - val_loss: 55.7413 - val_mse: 55.7413\n",
      "Epoch 70/100\n",
      "105/105 [==============================] - 0s 4ms/step - loss: 62.8971 - mse: 62.8971 - val_loss: 56.6771 - val_mse: 56.6771\n",
      "Epoch 71/100\n",
      "105/105 [==============================] - 1s 5ms/step - loss: 65.2784 - mse: 65.2784 - val_loss: 54.5352 - val_mse: 54.5352\n",
      "Epoch 72/100\n",
      "105/105 [==============================] - 0s 4ms/step - loss: 62.0185 - mse: 62.0185 - val_loss: 56.1498 - val_mse: 56.1498\n",
      "Epoch 73/100\n",
      "105/105 [==============================] - 0s 4ms/step - loss: 64.7907 - mse: 64.7907 - val_loss: 55.6866 - val_mse: 55.6866\n",
      "Epoch 74/100\n",
      "105/105 [==============================] - 1s 11ms/step - loss: 63.7928 - mse: 63.7928 - val_loss: 55.5861 - val_mse: 55.5861\n",
      "Epoch 75/100\n",
      "105/105 [==============================] - 1s 7ms/step - loss: 65.0453 - mse: 65.0453 - val_loss: 53.4194 - val_mse: 53.4194\n",
      "Epoch 76/100\n",
      "105/105 [==============================] - 1s 6ms/step - loss: 63.1293 - mse: 63.1293 - val_loss: 54.3355 - val_mse: 54.3355\n",
      "Epoch 77/100\n",
      "105/105 [==============================] - 0s 4ms/step - loss: 63.3702 - mse: 63.3702 - val_loss: 54.7088 - val_mse: 54.7088\n",
      "Epoch 78/100\n",
      "105/105 [==============================] - 1s 5ms/step - loss: 64.4214 - mse: 64.4214 - val_loss: 56.4688 - val_mse: 56.4688\n",
      "Epoch 79/100\n",
      "105/105 [==============================] - 0s 4ms/step - loss: 60.3777 - mse: 60.3777 - val_loss: 54.4532 - val_mse: 54.4532\n",
      "Epoch 80/100\n",
      "105/105 [==============================] - 0s 4ms/step - loss: 64.5803 - mse: 64.5803 - val_loss: 55.1563 - val_mse: 55.1563\n",
      "Epoch 81/100\n",
      "105/105 [==============================] - 1s 6ms/step - loss: 64.6244 - mse: 64.6244 - val_loss: 53.9115 - val_mse: 53.9115\n",
      "Epoch 82/100\n",
      "105/105 [==============================] - 1s 9ms/step - loss: 62.8592 - mse: 62.8592 - val_loss: 53.4543 - val_mse: 53.4543\n",
      "Epoch 83/100\n",
      "105/105 [==============================] - 1s 5ms/step - loss: 63.5292 - mse: 63.5292 - val_loss: 54.9726 - val_mse: 54.9726\n",
      "Epoch 84/100\n",
      "105/105 [==============================] - 1s 5ms/step - loss: 62.9903 - mse: 62.9903 - val_loss: 54.4332 - val_mse: 54.4332\n",
      "Epoch 85/100\n",
      "105/105 [==============================] - 0s 4ms/step - loss: 62.2889 - mse: 62.2889 - val_loss: 54.5095 - val_mse: 54.5095\n",
      "Epoch 86/100\n",
      "105/105 [==============================] - 0s 4ms/step - loss: 63.7369 - mse: 63.7369 - val_loss: 54.8099 - val_mse: 54.8099\n",
      "Epoch 87/100\n",
      "105/105 [==============================] - 0s 4ms/step - loss: 62.6838 - mse: 62.6838 - val_loss: 55.7802 - val_mse: 55.7802\n",
      "Epoch 88/100\n",
      "105/105 [==============================] - 0s 4ms/step - loss: 61.4405 - mse: 61.4405 - val_loss: 55.5501 - val_mse: 55.5501\n",
      "Epoch 89/100\n",
      "105/105 [==============================] - 1s 5ms/step - loss: 61.5849 - mse: 61.5849 - val_loss: 59.0496 - val_mse: 59.0496\n",
      "Epoch 90/100\n",
      "105/105 [==============================] - 1s 12ms/step - loss: 62.8381 - mse: 62.8381 - val_loss: 56.8511 - val_mse: 56.8511\n",
      "Epoch 91/100\n",
      "105/105 [==============================] - 1s 6ms/step - loss: 61.5595 - mse: 61.5595 - val_loss: 54.8731 - val_mse: 54.8731\n",
      "Epoch 92/100\n",
      "105/105 [==============================] - 1s 5ms/step - loss: 60.3631 - mse: 60.3631 - val_loss: 57.9722 - val_mse: 57.9722\n",
      "Epoch 93/100\n",
      "105/105 [==============================] - 0s 4ms/step - loss: 60.9437 - mse: 60.9437 - val_loss: 55.1402 - val_mse: 55.1402\n",
      "Epoch 94/100\n",
      "105/105 [==============================] - 1s 6ms/step - loss: 60.2924 - mse: 60.2924 - val_loss: 53.6991 - val_mse: 53.6991\n",
      "Epoch 95/100\n",
      "105/105 [==============================] - 1s 12ms/step - loss: 61.7325 - mse: 61.7325 - val_loss: 55.1579 - val_mse: 55.1579\n",
      "Epoch 96/100\n",
      "105/105 [==============================] - 1s 7ms/step - loss: 60.9216 - mse: 60.9216 - val_loss: 57.6596 - val_mse: 57.6596\n",
      "Epoch 97/100\n",
      "105/105 [==============================] - 1s 7ms/step - loss: 62.1527 - mse: 62.1527 - val_loss: 58.0339 - val_mse: 58.0339\n",
      "Epoch 98/100\n",
      "105/105 [==============================] - 1s 6ms/step - loss: 60.6821 - mse: 60.6821 - val_loss: 54.7475 - val_mse: 54.7475\n",
      "Epoch 99/100\n",
      "105/105 [==============================] - 1s 5ms/step - loss: 59.9594 - mse: 59.9594 - val_loss: 54.1164 - val_mse: 54.1164\n",
      "Epoch 100/100\n",
      "105/105 [==============================] - 0s 4ms/step - loss: 60.9887 - mse: 60.9887 - val_loss: 58.3953 - val_mse: 58.3953\n"
     ]
    },
    {
     "data": {
      "text/plain": [
       "<keras.callbacks.History at 0x1b31479b1f0>"
      ]
     },
     "execution_count": 841,
     "metadata": {},
     "output_type": "execute_result"
    }
   ],
   "source": [
    "X_train, X_test, y_train, y_test = train_test_split(X_travel, y_travel, test_size=0.2, random_state=42)\n",
    "# Standardiser les données\n",
    "scaler = StandardScaler()\n",
    "X_train = scaler.fit_transform(X_train)\n",
    "X_test = scaler.transform(X_test)\n",
    "\n",
    "# Créer le modèle de deep learning\n",
    "model = Sequential()\n",
    "model.add(Dense(128, input_dim=X_train.shape[1], activation='relu'))\n",
    "model.add(Dropout(0.3))\n",
    "model.add(Dense(128, activation='relu'))\n",
    "model.add(Dropout(0.3))\n",
    "model.add(Dense(64, activation='relu'))\n",
    "model.add(Dropout(0.3))\n",
    "model.add(Dense(32, activation='relu'))\n",
    "model.add(Dropout(0.3))\n",
    "model.add(Dense(1, activation='linear'))\n",
    "\n",
    "# Compiler le modèle\n",
    "model.compile(optimizer=Adam(learning_rate=0.001), loss='mse', metrics=['mse'])\n",
    "\n",
    "# Entraîner le modèle\n",
    "model.fit(X_train, y_train, epochs=100, batch_size=16, validation_split=0.2, verbose=1)"
   ]
  },
  {
   "cell_type": "code",
   "execution_count": null,
   "metadata": {},
   "outputs": [
    {
     "name": "stdout",
     "output_type": "stream",
     "text": [
      "131/131 [==============================] - 1s 3ms/step\n",
      "33/33 [==============================] - 0s 2ms/step\n",
      "Train Mean Squared Error: 50.43096212515177\n",
      "Test Mean Squared Error: 59.81359140926169\n",
      "Train R2 Score: 0.7512549581772111\n",
      "Test R2 Score: 0.7062820958042518\n"
     ]
    }
   ],
   "source": [
    "# Évaluer le modèle sur les données de test\n",
    "y_train_pred = model.predict(X_train)\n",
    "y_test_pred = model.predict(X_test)\n",
    "\n",
    "train_mse = mean_squared_error(y_train, y_train_pred)\n",
    "test_mse = mean_squared_error(y_test, y_test_pred)\n",
    "\n",
    "train_r2 = r2_score(y_train, y_train_pred)\n",
    "test_r2 = r2_score(y_test, y_test_pred)\n",
    "\n",
    "print(f\"Train Mean Squared Error: {train_mse}\")\n",
    "print(f\"Test Mean Squared Error: {test_mse}\")\n",
    "print(f\"Train R2 Score: {train_r2}\")\n",
    "print(f\"Test R2 Score: {test_r2}\")"
   ]
  },
  {
   "cell_type": "code",
   "execution_count": null,
   "metadata": {},
   "outputs": [
    {
     "data": {
      "text/plain": [
       "5211"
      ]
     },
     "execution_count": 838,
     "metadata": {},
     "output_type": "execute_result"
    }
   ],
   "source": [
    "len(X_travel)"
   ]
  },
  {
   "cell_type": "markdown",
   "metadata": {},
   "source": [
    "### Fuel Consumption"
   ]
  },
  {
   "cell_type": "code",
   "execution_count": null,
   "metadata": {},
   "outputs": [
    {
     "data": {
      "text/plain": [
       "5211"
      ]
     },
     "execution_count": 45,
     "metadata": {},
     "output_type": "execute_result"
    }
   ],
   "source": [
    "len(datas)"
   ]
  },
  {
   "cell_type": "code",
   "execution_count": null,
   "metadata": {},
   "outputs": [
    {
     "data": {
      "text/plain": [
       "<AxesSubplot:ylabel='y_fuel'>"
      ]
     },
     "execution_count": 52,
     "metadata": {},
     "output_type": "execute_result"
    },
    {
     "data": {
      "image/png": "[encoded data removed]",
      "text/plain": [
       "<Figure size 432x288 with 1 Axes>"
      ]
     },
     "metadata": {
      "needs_background": "light"
     },
     "output_type": "display_data"
    }
   ],
   "source": [
    "sns.boxplot(datas['y_fuel'])"
   ]
  },
  {
   "cell_type": "code",
   "execution_count": null,
   "metadata": {},
   "outputs": [
    {
     "data": {
      "text/plain": [
       "<Figure size 576x432 with 0 Axes>"
      ]
     },
     "execution_count": 46,
     "metadata": {},
     "output_type": "execute_result"
    },
    {
     "data": {
      "text/plain": [
       "(array([  16.,   48.,   25.,    3.,   20.,  270.,  757., 1103.,  297.,\n",
       "          29.]),\n",
       " array([-348097.77374416, -308399.47284374, -268701.17194332,\n",
       "        -229002.8710429 , -189304.57014248, -149606.26924206,\n",
       "        -109907.96834164,  -70209.66744122,  -30511.3665408 ,\n",
       "           9186.93435962,   48885.23526004]),\n",
       " <BarContainer object of 10 artists>)"
      ]
     },
     "execution_count": 46,
     "metadata": {},
     "output_type": "execute_result"
    },
    {
     "data": {
      "text/plain": [
       "Text(0.5, 1.0, 'Distribution de la Variable Cible pour les accelerations')"
      ]
     },
     "execution_count": 46,
     "metadata": {},
     "output_type": "execute_result"
    },
    {
     "data": {
      "image/png": "[encoded data removed]",
      "text/plain": [
       "<Figure size 576x432 with 1 Axes>"
      ]
     },
     "metadata": {
      "needs_background": "light"
     },
     "output_type": "display_data"
    }
   ],
   "source": [
    "plt.figure(figsize=(8, 6))\n",
    "plt.hist(action_accelerate['y_fuel'], edgecolor='black', alpha=0.7)\n",
    "plt.title('Distribution de la Variable Cible pour les accelerations')\n",
    "# sns.distplot(np.array(datas['y_travel'].values), kde=True)\n",
    "plt.show()"
   ]
  },
  {
   "cell_type": "code",
   "execution_count": null,
   "metadata": {},
   "outputs": [
    {
     "data": {
      "text/plain": [
       "<AxesSubplot:ylabel='y_fuel'>"
      ]
     },
     "execution_count": 51,
     "metadata": {},
     "output_type": "execute_result"
    },
    {
     "data": {
      "image/png": "[encoded data removed]",
      "text/plain": [
       "<Figure size 432x288 with 1 Axes>"
      ]
     },
     "metadata": {
      "needs_background": "light"
     },
     "output_type": "display_data"
    }
   ],
   "source": [
    "sns.boxplot(action_accelerate['y_fuel'])"
   ]
  },
  {
   "cell_type": "code",
   "execution_count": null,
   "metadata": {},
   "outputs": [
    {
     "data": {
      "text/plain": [
       "<Figure size 576x432 with 0 Axes>"
      ]
     },
     "execution_count": 47,
     "metadata": {},
     "output_type": "execute_result"
    },
    {
     "data": {
      "text/plain": [
       "(array([  9.,  42., 131., 321., 530., 437., 198.,  48.,  12.,   1.]),\n",
       " array([-35737.38122704, -26439.41257365, -17141.44392025,  -7843.47526686,\n",
       "          1454.49338654,  10752.46203993,  20050.43069333,  29348.39934672,\n",
       "         38646.36800012,  47944.33665351,  57242.30530691]),\n",
       " <BarContainer object of 10 artists>)"
      ]
     },
     "execution_count": 47,
     "metadata": {},
     "output_type": "execute_result"
    },
    {
     "data": {
      "text/plain": [
       "Text(0.5, 1.0, 'Distribution de la Variable Cible pour les decelerations')"
      ]
     },
     "execution_count": 47,
     "metadata": {},
     "output_type": "execute_result"
    },
    {
     "data": {
      "image/png": "[encoded data removed]",
      "text/plain": [
       "<Figure size 576x432 with 1 Axes>"
      ]
     },
     "metadata": {
      "needs_background": "light"
     },
     "output_type": "display_data"
    }
   ],
   "source": [
    "plt.figure(figsize=(8, 6))\n",
    "plt.hist(action_decelerate['y_fuel'], edgecolor='black', alpha=0.7)\n",
    "plt.title('Distribution de la Variable Cible pour les decelerations')\n",
    "# sns.distplot(np.array(datas['y_travel'].values), kde=True)\n",
    "plt.show()"
   ]
  },
  {
   "cell_type": "code",
   "execution_count": null,
   "metadata": {},
   "outputs": [
    {
     "data": {
      "text/plain": [
       "<Figure size 576x432 with 0 Axes>"
      ]
     },
     "execution_count": 49,
     "metadata": {},
     "output_type": "execute_result"
    },
    {
     "data": {
      "text/plain": [
       "(array([  3.,  20.,  79., 181., 398., 412., 348., 160.,  31.,   8.]),\n",
       " array([-38307.00001852, -31493.1955152 , -24679.39101189, -17865.58650857,\n",
       "        -11051.78200526,  -4237.97750194,   2575.82700137,   9389.63150468,\n",
       "         16203.436008  ,  23017.24051131,  29831.04501463]),\n",
       " <BarContainer object of 10 artists>)"
      ]
     },
     "execution_count": 49,
     "metadata": {},
     "output_type": "execute_result"
    },
    {
     "data": {
      "text/plain": [
       "Text(0.5, 1.0, 'Distribution de la Variable Cible pour les stop')"
      ]
     },
     "execution_count": 49,
     "metadata": {},
     "output_type": "execute_result"
    },
    {
     "data": {
      "image/png": "[encoded data removed]",
      "text/plain": [
       "<Figure size 576x432 with 1 Axes>"
      ]
     },
     "metadata": {
      "needs_background": "light"
     },
     "output_type": "display_data"
    }
   ],
   "source": [
    "plt.figure(figsize=(8, 6))\n",
    "plt.hist(action_stop['y_fuel'], edgecolor='black', alpha=0.7)\n",
    "plt.title('Distribution de la Variable Cible pour les stop')\n",
    "# sns.distplot(np.array(datas['y_travel'].values), kde=True)\n",
    "plt.show()"
   ]
  },
  {
   "cell_type": "markdown",
   "metadata": {},
   "source": [
    "#### Deep Learning"
   ]
  },
  {
   "cell_type": "code",
   "execution_count": 97,
   "metadata": {},
   "outputs": [],
   "source": [
    "from tensorflow.keras.models import Sequential\n",
    "from tensorflow.keras.layers import Dense, Dropout, BatchNormalization\n",
    "from tensorflow.keras.optimizers import Adam\n",
    "from tensorflow.keras.callbacks import EarlyStopping, ReduceLROnPlateau\n",
    "import tensorflow as tf\n",
    "from tensorflow.keras import backend as K\n",
    "from sklearn.metrics import mean_squared_error, r2_score\n",
    "import sklearn\n",
    "import tensorflow.keras as tk"
   ]
  },
  {
   "cell_type": "code",
   "execution_count": 98,
   "metadata": {},
   "outputs": [],
   "source": [
    "# X_train, X_test, y_train, y_test = train_test_split(X_travel, y_travel, test_size=0.2, random_state=42)\n",
    "# # Standardiser les données\n",
    "# scaler = StandardScaler()\n",
    "# X_train = scaler.fit_transform(X_train)\n",
    "# X_test = scaler.transform(X_test)\n",
    "\n",
    "def nrmse(y_true, y_pred):\n",
    "    \"\"\"\n",
    "    Calculate the Normalized Root Mean Square Error (NRMSE)\n",
    "    \"\"\"\n",
    "    rms = K.sqrt(K.mean(K.square(y_pred - y_true)))\n",
    "    nrmse = rms / (K.max(y_true) - K.min(y_true))\n",
    "    return nrmse\n",
    "\n",
    "def r2_score(y_true, y_pred):\n",
    "    SS_res =  K.sum(K.square(y_true - y_pred))\n",
    "    SS_tot = K.sum(K.square(y_true - K.mean(y_true)))\n",
    "    return 1 - SS_res/(SS_tot )\n",
    "\n",
    "# Créer le modèle de deep learning\n",
    "model = Sequential()\n",
    "model.add(Dense(128, input_dim=X_train.shape[1], activation='relu'))\n",
    "model.add(BatchNormalization())\n",
    "model.add(Dropout(0.2))\n",
    "# model.add(Dense(128, activation='relu'))\n",
    "# model.add(BatchNormalization())\n",
    "# model.add(Dropout(0.2))\n",
    "model.add(Dense(64, activation='relu'))\n",
    "model.add(BatchNormalization())\n",
    "model.add(Dropout(0.2))\n",
    "model.add(Dense(32, activation='relu'))\n",
    "model.add(BatchNormalization())\n",
    "model.add(Dropout(0.2))\n",
    "model.add(Dense(1, activation='linear'))\n",
    "\n",
    "# Compiler le modèle\n",
    "model.compile(optimizer=Adam(learning_rate=0.001), \n",
    "              loss=nrmse, \n",
    "              metrics=[r2_score])"
   ]
  },
  {
   "cell_type": "code",
   "execution_count": 99,
   "metadata": {},
   "outputs": [
    {
     "name": "stdout",
     "output_type": "stream",
     "text": [
      "Epoch 1/100\n",
      "249/249 [==============================] - 3s 5ms/step - loss: 0.4292 - r2_score: -1.1642 - val_loss: 0.3417 - val_r2_score: -0.3857 - lr: 0.0010\n",
      "Epoch 2/100\n",
      "249/249 [==============================] - 1s 5ms/step - loss: 0.2899 - r2_score: -0.0429 - val_loss: 0.1870 - val_r2_score: 0.5792 - lr: 0.0010\n",
      "Epoch 3/100\n",
      "249/249 [==============================] - 1s 5ms/step - loss: 0.2012 - r2_score: 0.5034 - val_loss: 0.1458 - val_r2_score: 0.7506 - lr: 0.0010\n",
      "Epoch 4/100\n",
      "249/249 [==============================] - 1s 4ms/step - loss: 0.1882 - r2_score: 0.5413 - val_loss: 0.1395 - val_r2_score: 0.7661 - lr: 0.0010\n",
      "Epoch 5/100\n",
      "249/249 [==============================] - 1s 3ms/step - loss: 0.1813 - r2_score: 0.5982 - val_loss: 0.1351 - val_r2_score: 0.7820 - lr: 0.0010\n",
      "Epoch 6/100\n",
      "249/249 [==============================] - 1s 3ms/step - loss: 0.1791 - r2_score: 0.6148 - val_loss: 0.1353 - val_r2_score: 0.7814 - lr: 0.0010\n",
      "Epoch 7/100\n",
      "249/249 [==============================] - 1s 4ms/step - loss: 0.1784 - r2_score: 0.6099 - val_loss: 0.1321 - val_r2_score: 0.7901 - lr: 0.0010\n",
      "Epoch 8/100\n",
      "249/249 [==============================] - 1s 4ms/step - loss: 0.1794 - r2_score: 0.6111 - val_loss: 0.1352 - val_r2_score: 0.7858 - lr: 0.0010\n",
      "Epoch 9/100\n",
      "249/249 [==============================] - 1s 3ms/step - loss: 0.1739 - r2_score: 0.6402 - val_loss: 0.1276 - val_r2_score: 0.8039 - lr: 0.0010\n",
      "Epoch 10/100\n",
      "249/249 [==============================] - 1s 3ms/step - loss: 0.1759 - r2_score: 0.6260 - val_loss: 0.1338 - val_r2_score: 0.7881 - lr: 0.0010\n",
      "Epoch 11/100\n",
      "249/249 [==============================] - 1s 4ms/step - loss: 0.1811 - r2_score: 0.6065 - val_loss: 0.1331 - val_r2_score: 0.7879 - lr: 0.0010\n",
      "Epoch 12/100\n",
      "249/249 [==============================] - 1s 4ms/step - loss: 0.1711 - r2_score: 0.6378 - val_loss: 0.1306 - val_r2_score: 0.7904 - lr: 0.0010\n",
      "Epoch 13/100\n",
      "249/249 [==============================] - 1s 3ms/step - loss: 0.1713 - r2_score: 0.6333 - val_loss: 0.1269 - val_r2_score: 0.8064 - lr: 0.0010\n",
      "Epoch 14/100\n",
      "249/249 [==============================] - 1s 4ms/step - loss: 0.1659 - r2_score: 0.6692 - val_loss: 0.1299 - val_r2_score: 0.8013 - lr: 0.0010\n",
      "Epoch 15/100\n",
      "249/249 [==============================] - 1s 4ms/step - loss: 0.1708 - r2_score: 0.6375 - val_loss: 0.1242 - val_r2_score: 0.8145 - lr: 0.0010\n",
      "Epoch 16/100\n",
      "249/249 [==============================] - 1s 4ms/step - loss: 0.1728 - r2_score: 0.6503 - val_loss: 0.1260 - val_r2_score: 0.8092 - lr: 0.0010\n",
      "Epoch 17/100\n",
      "249/249 [==============================] - 1s 3ms/step - loss: 0.1679 - r2_score: 0.6474 - val_loss: 0.1254 - val_r2_score: 0.8096 - lr: 0.0010\n",
      "Epoch 18/100\n",
      "249/249 [==============================] - 1s 4ms/step - loss: 0.1692 - r2_score: 0.6505 - val_loss: 0.1311 - val_r2_score: 0.7967 - lr: 0.0010\n",
      "Epoch 19/100\n",
      "249/249 [==============================] - 1s 4ms/step - loss: 0.1733 - r2_score: 0.6261 - val_loss: 0.1259 - val_r2_score: 0.8102 - lr: 0.0010\n",
      "Epoch 20/100\n",
      "249/249 [==============================] - 1s 4ms/step - loss: 0.1670 - r2_score: 0.6570 - val_loss: 0.1232 - val_r2_score: 0.8158 - lr: 0.0010\n",
      "Epoch 21/100\n",
      "249/249 [==============================] - 1s 4ms/step - loss: 0.1722 - r2_score: 0.6258 - val_loss: 0.1248 - val_r2_score: 0.8149 - lr: 0.0010\n",
      "Epoch 22/100\n",
      "249/249 [==============================] - 1s 4ms/step - loss: 0.1701 - r2_score: 0.6457 - val_loss: 0.1250 - val_r2_score: 0.8100 - lr: 0.0010\n",
      "Epoch 23/100\n",
      "249/249 [==============================] - 1s 4ms/step - loss: 0.1642 - r2_score: 0.6709 - val_loss: 0.1304 - val_r2_score: 0.7912 - lr: 0.0010\n",
      "Epoch 24/100\n",
      "249/249 [==============================] - 1s 4ms/step - loss: 0.1632 - r2_score: 0.6697 - val_loss: 0.1230 - val_r2_score: 0.8179 - lr: 0.0010\n",
      "Epoch 25/100\n",
      "249/249 [==============================] - 1s 4ms/step - loss: 0.1673 - r2_score: 0.6546 - val_loss: 0.1243 - val_r2_score: 0.8118 - lr: 0.0010\n",
      "Epoch 26/100\n",
      "249/249 [==============================] - 1s 6ms/step - loss: 0.1667 - r2_score: 0.6607 - val_loss: 0.1233 - val_r2_score: 0.8167 - lr: 0.0010\n",
      "Epoch 27/100\n",
      "249/249 [==============================] - 1s 5ms/step - loss: 0.1652 - r2_score: 0.6635 - val_loss: 0.1268 - val_r2_score: 0.8084 - lr: 0.0010\n",
      "Epoch 28/100\n",
      "249/249 [==============================] - 1s 5ms/step - loss: 0.1636 - r2_score: 0.6740 - val_loss: 0.1248 - val_r2_score: 0.8107 - lr: 0.0010\n",
      "Epoch 29/100\n",
      "249/249 [==============================] - 1s 6ms/step - loss: 0.1670 - r2_score: 0.6598 - val_loss: 0.1232 - val_r2_score: 0.8126 - lr: 0.0010\n",
      "Epoch 30/100\n",
      "249/249 [==============================] - 2s 7ms/step - loss: 0.1634 - r2_score: 0.6746 - val_loss: 0.1215 - val_r2_score: 0.8210 - lr: 5.0000e-04\n",
      "Epoch 31/100\n",
      "249/249 [==============================] - 2s 6ms/step - loss: 0.1637 - r2_score: 0.6734 - val_loss: 0.1215 - val_r2_score: 0.8216 - lr: 5.0000e-04\n",
      "Epoch 32/100\n",
      "249/249 [==============================] - 1s 4ms/step - loss: 0.1668 - r2_score: 0.6426 - val_loss: 0.1230 - val_r2_score: 0.8191 - lr: 5.0000e-04\n",
      "Epoch 33/100\n",
      "249/249 [==============================] - 1s 5ms/step - loss: 0.1602 - r2_score: 0.6809 - val_loss: 0.1223 - val_r2_score: 0.8206 - lr: 5.0000e-04\n",
      "Epoch 34/100\n",
      "249/249 [==============================] - 1s 4ms/step - loss: 0.1647 - r2_score: 0.6660 - val_loss: 0.1211 - val_r2_score: 0.8221 - lr: 5.0000e-04\n",
      "Epoch 35/100\n",
      "249/249 [==============================] - 1s 4ms/step - loss: 0.1622 - r2_score: 0.6736 - val_loss: 0.1219 - val_r2_score: 0.8213 - lr: 5.0000e-04\n",
      "Epoch 36/100\n",
      "249/249 [==============================] - 1s 5ms/step - loss: 0.1609 - r2_score: 0.6931 - val_loss: 0.1197 - val_r2_score: 0.8247 - lr: 5.0000e-04\n",
      "Epoch 37/100\n",
      "249/249 [==============================] - 2s 7ms/step - loss: 0.1648 - r2_score: 0.6637 - val_loss: 0.1199 - val_r2_score: 0.8250 - lr: 5.0000e-04\n",
      "Epoch 38/100\n",
      "249/249 [==============================] - 1s 6ms/step - loss: 0.1621 - r2_score: 0.6767 - val_loss: 0.1209 - val_r2_score: 0.8240 - lr: 5.0000e-04\n",
      "Epoch 39/100\n",
      "249/249 [==============================] - 1s 5ms/step - loss: 0.1626 - r2_score: 0.6882 - val_loss: 0.1190 - val_r2_score: 0.8287 - lr: 5.0000e-04\n",
      "Epoch 40/100\n",
      "249/249 [==============================] - 1s 5ms/step - loss: 0.1609 - r2_score: 0.6823 - val_loss: 0.1190 - val_r2_score: 0.8280 - lr: 5.0000e-04\n",
      "Epoch 41/100\n",
      "249/249 [==============================] - 1s 4ms/step - loss: 0.1648 - r2_score: 0.6578 - val_loss: 0.1207 - val_r2_score: 0.8256 - lr: 5.0000e-04\n",
      "Epoch 42/100\n",
      "249/249 [==============================] - 1s 4ms/step - loss: 0.1652 - r2_score: 0.5314 - val_loss: 0.1193 - val_r2_score: 0.8269 - lr: 5.0000e-04\n",
      "Epoch 43/100\n",
      "249/249 [==============================] - 1s 4ms/step - loss: 0.1612 - r2_score: 0.6803 - val_loss: 0.1196 - val_r2_score: 0.8263 - lr: 5.0000e-04\n",
      "Epoch 44/100\n",
      "249/249 [==============================] - 1s 5ms/step - loss: 0.1599 - r2_score: 0.6743 - val_loss: 0.1206 - val_r2_score: 0.8215 - lr: 5.0000e-04\n",
      "Epoch 45/100\n",
      "249/249 [==============================] - 1s 4ms/step - loss: 0.1604 - r2_score: 0.6860 - val_loss: 0.1188 - val_r2_score: 0.8277 - lr: 2.5000e-04\n",
      "Epoch 46/100\n",
      "249/249 [==============================] - 1s 4ms/step - loss: 0.1561 - r2_score: 0.7054 - val_loss: 0.1191 - val_r2_score: 0.8275 - lr: 2.5000e-04\n",
      "Epoch 47/100\n",
      "249/249 [==============================] - 1s 4ms/step - loss: 0.1590 - r2_score: 0.6769 - val_loss: 0.1186 - val_r2_score: 0.8299 - lr: 2.5000e-04\n",
      "Epoch 48/100\n",
      "249/249 [==============================] - 1s 3ms/step - loss: 0.1606 - r2_score: 0.6702 - val_loss: 0.1217 - val_r2_score: 0.8222 - lr: 2.5000e-04\n",
      "Epoch 49/100\n",
      "249/249 [==============================] - 1s 4ms/step - loss: 0.1584 - r2_score: 0.6825 - val_loss: 0.1188 - val_r2_score: 0.8292 - lr: 2.5000e-04\n",
      "Epoch 50/100\n",
      "249/249 [==============================] - 1s 4ms/step - loss: 0.1620 - r2_score: 0.6708 - val_loss: 0.1178 - val_r2_score: 0.8315 - lr: 2.5000e-04\n",
      "Epoch 51/100\n",
      "249/249 [==============================] - 1s 3ms/step - loss: 0.1569 - r2_score: 0.6922 - val_loss: 0.1176 - val_r2_score: 0.8307 - lr: 2.5000e-04\n",
      "Epoch 52/100\n",
      "249/249 [==============================] - 1s 5ms/step - loss: 0.1597 - r2_score: 0.6926 - val_loss: 0.1185 - val_r2_score: 0.8300 - lr: 2.5000e-04\n",
      "Epoch 53/100\n",
      "249/249 [==============================] - 1s 4ms/step - loss: 0.1597 - r2_score: 0.6860 - val_loss: 0.1201 - val_r2_score: 0.8254 - lr: 2.5000e-04\n",
      "Epoch 54/100\n",
      "249/249 [==============================] - 1s 4ms/step - loss: 0.1628 - r2_score: 0.6694 - val_loss: 0.1177 - val_r2_score: 0.8314 - lr: 2.5000e-04\n",
      "Epoch 55/100\n",
      "249/249 [==============================] - 1s 4ms/step - loss: 0.1562 - r2_score: 0.6947 - val_loss: 0.1168 - val_r2_score: 0.8331 - lr: 2.5000e-04\n",
      "Epoch 56/100\n",
      "249/249 [==============================] - 1s 4ms/step - loss: 0.1587 - r2_score: 0.6898 - val_loss: 0.1180 - val_r2_score: 0.8309 - lr: 2.5000e-04\n",
      "Epoch 57/100\n",
      "249/249 [==============================] - 1s 5ms/step - loss: 0.1569 - r2_score: 0.6961 - val_loss: 0.1174 - val_r2_score: 0.8319 - lr: 2.5000e-04\n",
      "Epoch 58/100\n",
      "249/249 [==============================] - 1s 3ms/step - loss: 0.1592 - r2_score: 0.6877 - val_loss: 0.1183 - val_r2_score: 0.8288 - lr: 2.5000e-04\n",
      "Epoch 59/100\n",
      "249/249 [==============================] - 1s 4ms/step - loss: 0.1575 - r2_score: 0.6938 - val_loss: 0.1175 - val_r2_score: 0.8319 - lr: 2.5000e-04\n",
      "Epoch 60/100\n",
      "249/249 [==============================] - 1s 4ms/step - loss: 0.1582 - r2_score: 0.6894 - val_loss: 0.1177 - val_r2_score: 0.8315 - lr: 2.5000e-04\n",
      "Epoch 61/100\n",
      "249/249 [==============================] - 1s 3ms/step - loss: 0.1544 - r2_score: 0.7103 - val_loss: 0.1183 - val_r2_score: 0.8314 - lr: 1.2500e-04\n",
      "Epoch 62/100\n",
      "249/249 [==============================] - 1s 3ms/step - loss: 0.1529 - r2_score: 0.7191 - val_loss: 0.1180 - val_r2_score: 0.8315 - lr: 1.2500e-04\n",
      "Epoch 63/100\n",
      "249/249 [==============================] - 1s 4ms/step - loss: 0.1586 - r2_score: 0.6766 - val_loss: 0.1174 - val_r2_score: 0.8327 - lr: 1.2500e-04\n",
      "Epoch 64/100\n",
      "249/249 [==============================] - 1s 5ms/step - loss: 0.1607 - r2_score: 0.6693 - val_loss: 0.1172 - val_r2_score: 0.8325 - lr: 1.2500e-04\n",
      "Epoch 65/100\n",
      "249/249 [==============================] - 1s 4ms/step - loss: 0.1590 - r2_score: 0.6898 - val_loss: 0.1164 - val_r2_score: 0.8339 - lr: 1.2500e-04\n",
      "Epoch 66/100\n",
      "249/249 [==============================] - 1s 4ms/step - loss: 0.1533 - r2_score: 0.7168 - val_loss: 0.1174 - val_r2_score: 0.8324 - lr: 1.2500e-04\n",
      "Epoch 67/100\n",
      "249/249 [==============================] - 1s 4ms/step - loss: 0.1564 - r2_score: 0.6789 - val_loss: 0.1172 - val_r2_score: 0.8330 - lr: 1.2500e-04\n",
      "Epoch 68/100\n",
      "249/249 [==============================] - 1s 3ms/step - loss: 0.1559 - r2_score: 0.7025 - val_loss: 0.1165 - val_r2_score: 0.8336 - lr: 1.2500e-04\n",
      "Epoch 69/100\n",
      "249/249 [==============================] - 1s 3ms/step - loss: 0.1556 - r2_score: 0.6971 - val_loss: 0.1167 - val_r2_score: 0.8335 - lr: 1.2500e-04\n",
      "Epoch 70/100\n",
      "249/249 [==============================] - 1s 4ms/step - loss: 0.1555 - r2_score: 0.6967 - val_loss: 0.1174 - val_r2_score: 0.8328 - lr: 1.2500e-04\n",
      "Epoch 71/100\n",
      "249/249 [==============================] - 1s 4ms/step - loss: 0.1584 - r2_score: 0.6891 - val_loss: 0.1172 - val_r2_score: 0.8326 - lr: 6.2500e-05\n",
      "Epoch 72/100\n",
      "249/249 [==============================] - 1s 5ms/step - loss: 0.1588 - r2_score: 0.6743 - val_loss: 0.1173 - val_r2_score: 0.8331 - lr: 6.2500e-05\n",
      "Epoch 73/100\n",
      "249/249 [==============================] - 1s 4ms/step - loss: 0.1576 - r2_score: 0.6962 - val_loss: 0.1174 - val_r2_score: 0.8328 - lr: 6.2500e-05\n",
      "Epoch 74/100\n",
      "249/249 [==============================] - 1s 5ms/step - loss: 0.1556 - r2_score: 0.7075 - val_loss: 0.1171 - val_r2_score: 0.8326 - lr: 6.2500e-05\n",
      "Epoch 75/100\n",
      "249/249 [==============================] - 1s 6ms/step - loss: 0.1524 - r2_score: 0.7218 - val_loss: 0.1178 - val_r2_score: 0.8321 - lr: 6.2500e-05\n"
     ]
    }
   ],
   "source": [
    "# Callbacks\n",
    "early_stopping = EarlyStopping(monitor='val_loss', patience=10, restore_best_weights=True)\n",
    "reduce_lr = ReduceLROnPlateau(monitor='val_loss', factor=0.5, patience=5, min_lr=0.00001)\n",
    "\n",
    "# Entraîner le modèle\n",
    "history = model.fit(X_train, y_train, \n",
    "                    epochs=100,\n",
    "                    batch_size=16, \n",
    "                    validation_data= (X_test, y_test), \n",
    "                    verbose=1, callbacks=[early_stopping, reduce_lr])"
   ]
  },
  {
   "cell_type": "code",
   "execution_count": 100,
   "metadata": {},
   "outputs": [
    {
     "data": {
      "text/plain": [
       "<Figure size 1440x360 with 0 Axes>"
      ]
     },
     "execution_count": 100,
     "metadata": {},
     "output_type": "execute_result"
    },
    {
     "data": {
      "text/plain": [
       "<AxesSubplot:>"
      ]
     },
     "execution_count": 100,
     "metadata": {},
     "output_type": "execute_result"
    },
    {
     "data": {
      "text/plain": [
       "[<matplotlib.lines.Line2D at 0x1f2e95cba60>]"
      ]
     },
     "execution_count": 100,
     "metadata": {},
     "output_type": "execute_result"
    },
    {
     "data": {
      "text/plain": [
       "[<matplotlib.lines.Line2D at 0x1f2e95cbca0>]"
      ]
     },
     "execution_count": 100,
     "metadata": {},
     "output_type": "execute_result"
    },
    {
     "data": {
      "text/plain": [
       "Text(0.5, 1.0, 'Historique de la perte')"
      ]
     },
     "execution_count": 100,
     "metadata": {},
     "output_type": "execute_result"
    },
    {
     "data": {
      "text/plain": [
       "Text(0.5, 0, 'Épochs')"
      ]
     },
     "execution_count": 100,
     "metadata": {},
     "output_type": "execute_result"
    },
    {
     "data": {
      "text/plain": [
       "Text(0, 0.5, 'Loss')"
      ]
     },
     "execution_count": 100,
     "metadata": {},
     "output_type": "execute_result"
    },
    {
     "data": {
      "text/plain": [
       "<matplotlib.legend.Legend at 0x1f2e95a2a70>"
      ]
     },
     "execution_count": 100,
     "metadata": {},
     "output_type": "execute_result"
    },
    {
     "data": {
      "text/plain": [
       "<AxesSubplot:>"
      ]
     },
     "execution_count": 100,
     "metadata": {},
     "output_type": "execute_result"
    },
    {
     "data": {
      "text/plain": [
       "[<matplotlib.lines.Line2D at 0x1f2eb5ae7d0>]"
      ]
     },
     "execution_count": 100,
     "metadata": {},
     "output_type": "execute_result"
    },
    {
     "data": {
      "text/plain": [
       "[<matplotlib.lines.Line2D at 0x1f2eb5aea70>]"
      ]
     },
     "execution_count": 100,
     "metadata": {},
     "output_type": "execute_result"
    },
    {
     "data": {
      "text/plain": [
       "Text(0.5, 1.0, 'Historique du R² score')"
      ]
     },
     "execution_count": 100,
     "metadata": {},
     "output_type": "execute_result"
    },
    {
     "data": {
      "text/plain": [
       "Text(0.5, 0, 'Épochs')"
      ]
     },
     "execution_count": 100,
     "metadata": {},
     "output_type": "execute_result"
    },
    {
     "data": {
      "text/plain": [
       "Text(0, 0.5, 'R² score')"
      ]
     },
     "execution_count": 100,
     "metadata": {},
     "output_type": "execute_result"
    },
    {
     "data": {
      "text/plain": [
       "<matplotlib.legend.Legend at 0x1f2eb5ae620>"
      ]
     },
     "execution_count": 100,
     "metadata": {},
     "output_type": "execute_result"
    },
    {
     "data": {
      "image/png": "[encoded data removed]",
      "text/plain": [
       "<Figure size 1440x360 with 2 Axes>"
      ]
     },
     "metadata": {
      "needs_background": "light"
     },
     "output_type": "display_data"
    }
   ],
   "source": [
    "plt.figure(figsize=(20, 5))\n",
    "plt.subplot(1, 2, 1)\n",
    "plt.plot(history.history['loss'], label='Perte d\\'entraînement')\n",
    "plt.plot(history.history['val_loss'], label='Perte de validation')\n",
    "plt.title('Historique de la perte')\n",
    "plt.xlabel('Épochs')\n",
    "plt.ylabel('Loss')\n",
    "plt.legend()\n",
    "\n",
    "plt.subplot(1, 2, 2)\n",
    "plt.plot(history.history['r2_score'], label='R² d\\'entraînement')\n",
    "plt.plot(history.history['val_r2_score'], label='R² de validation')\n",
    "plt.title('Historique du R² score')\n",
    "plt.xlabel('Épochs')\n",
    "plt.ylabel('R² score')\n",
    "plt.legend()\n",
    "\n",
    "plt.show()"
   ]
  },
  {
   "cell_type": "code",
   "execution_count": 101,
   "metadata": {},
   "outputs": [
    {
     "name": "stdout",
     "output_type": "stream",
     "text": [
      "125/125 [==============================] - 0s 3ms/step - loss: 0.1040 - r2_score: 0.8479\n"
     ]
    },
    {
     "data": {
      "text/plain": [
       "[0.10401782393455505, 0.847935140132904]"
      ]
     },
     "execution_count": 101,
     "metadata": {},
     "output_type": "execute_result"
    },
    {
     "name": "stdout",
     "output_type": "stream",
     "text": [
      "42/42 [==============================] - 0s 2ms/step - loss: 0.1060 - r2_score: 0.8459\n"
     ]
    },
    {
     "data": {
      "text/plain": [
       "[0.10595060884952545, 0.8458821177482605]"
      ]
     },
     "execution_count": 101,
     "metadata": {},
     "output_type": "execute_result"
    }
   ],
   "source": [
    "model.evaluate(X_train, y_train)\n",
    "model.evaluate(X_test, y_test)"
   ]
  },
  {
   "cell_type": "code",
   "execution_count": null,
   "metadata": {},
   "outputs": [
    {
     "name": "stdout",
     "output_type": "stream",
     "text": [
      "42/42 [==============================] - 0s 3ms/step\n"
     ]
    }
   ],
   "source": [
    "y_test_pred = model.predict(X_test)"
   ]
  },
  {
   "cell_type": "code",
   "execution_count": null,
   "metadata": {},
   "outputs": [
    {
     "data": {
      "text/plain": [
       "0.8538221357133478"
      ]
     },
     "execution_count": 22,
     "metadata": {},
     "output_type": "execute_result"
    }
   ],
   "source": [
    "sklearn.metrics.r2_score(y_test, y_test_pred)"
   ]
  },
  {
   "cell_type": "code",
   "execution_count": null,
   "metadata": {},
   "outputs": [
    {
     "data": {
      "text/plain": [
       "['scaler_travel.pkl']"
      ]
     },
     "execution_count": 28,
     "metadata": {},
     "output_type": "execute_result"
    }
   ],
   "source": [
    "import joblib\n",
    "from keras.models import save_model\n",
    "\n",
    "joblib.dump(scaler, 'scaler_travel.pkl')\n",
    "\n",
    "model.save('model_travel.h5')"
   ]
  }
 ],
 "metadata": {
  "kernelspec": {
   "display_name": "Python 3",
   "language": "python",
   "name": "python3"
  },
  "language_info": {
   "codemirror_mode": {
    "name": "ipython",
    "version": 3
   },
   "file_extension": ".py",
   "mimetype": "text/x-python",
   "name": "python",
   "nbconvert_exporter": "python",
   "pygments_lexer": "ipython3",
   "version": "3.10.0"
  }
 },
 "nbformat": 4,
 "nbformat_minor": 2
}
